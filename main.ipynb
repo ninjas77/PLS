{
 "cells": [
  {
   "attachments": {},
   "cell_type": "markdown",
   "metadata": {},
   "source": [
    "# PLS"
   ]
  },
  {
   "attachments": {},
   "cell_type": "markdown",
   "metadata": {},
   "source": [
    "Pocinjemo s importanjem paketa koje cemo koristiti i definiranjem _random seed_-a kako bi kod bio reproducibilan."
   ]
  },
  {
   "cell_type": "code",
   "execution_count": 1,
   "metadata": {},
   "outputs": [],
   "source": [
    "from enum import Enum\n",
    "from time import sleep\n",
    "\n",
    "import pandas as pd\n",
    "import numpy as np\n",
    "from sklearn.decomposition import PCA\n",
    "from sklearn.cross_decomposition import PLSRegression\n",
    "from sklearn.linear_model import LinearRegression\n",
    "from sklearn.pipeline import make_pipeline\n",
    "from sklearn.model_selection import train_test_split\n",
    "from sklearn.preprocessing import StandardScaler\n",
    "from tqdm import tqdm\n",
    "\n",
    "random_state = 42\n",
    "rng = np.random.RandomState(random_state)"
   ]
  },
  {
   "attachments": {},
   "cell_type": "markdown",
   "metadata": {},
   "source": [
    "Sljedeca funkcija sluzi generiranju uzorka jedinicnih normalnih vektora takvih da je kovarijanca svaka dva vektora jednaka."
   ]
  },
  {
   "cell_type": "code",
   "execution_count": 2,
   "metadata": {},
   "outputs": [],
   "source": [
    "def get_random_sample_with_fixed_covariance(sample_size: int, N: int, ro: float, return_type: str = 'pandas'):\n",
    "\n",
    "    \"\"\"Generates random sample of normal vectors such that covariance \n",
    "    between any pair of vectors equals ro.\n",
    "\n",
    "    Args:\n",
    "        N (int): Dimension of the vector space.\n",
    "        ro (float): Covariance between different vectors.\n",
    "        return_type (str, optional): Defines the type of output. Supported values are 'numpy' and 'pandas'. Defaults to 'pandas'.\n",
    "    Returns:\n",
    "        X: Generated sample.\n",
    "    \"\"\"\n",
    "\n",
    "    assert sample_size >= N\n",
    "\n",
    "    X_0 = rng.normal(loc=0, scale=1, size=sample_size)\n",
    "\n",
    "    X = []\n",
    "\n",
    "    for i in range(N):\n",
    "        new_independent_variable = rng.normal(loc=0, scale=1, size=sample_size)\n",
    "        new_variable = np.sqrt(ro) * X_0 + np.sqrt(1-ro**2) * new_independent_variable\n",
    "        X.append(new_variable)\n",
    "    \n",
    "    X = np.array(X).T\n",
    "\n",
    "    if return_type == 'pandas':\n",
    "        return pd.DataFrame(X, columns=[f'X_{i+1}' for i in range(N)])\n",
    "    \n",
    "    if return_type == 'numpy':\n",
    "        return np.array(X)"
   ]
  },
  {
   "attachments": {},
   "cell_type": "markdown",
   "metadata": {},
   "source": [
    "Primjerice, za $ \\rho = 0.9$ ocekujemo da ce korelacijska matrica imati $\\approx 0.81$ na izvandijagonalnim elementima."
   ]
  },
  {
   "cell_type": "code",
   "execution_count": 3,
   "metadata": {},
   "outputs": [
    {
     "name": "stdout",
     "output_type": "stream",
     "text": [
      ">>> X correlation matrix: \n",
      "           X_1       X_2       X_3\n",
      "X_1  1.000000  0.833566  0.826982\n",
      "X_2  0.833566  1.000000  0.828807\n",
      "X_3  0.826982  0.828807  1.000000\n"
     ]
    }
   ],
   "source": [
    "N = 3\n",
    "sample_size = 10000\n",
    "ro = 0.9\n",
    "X = get_random_sample_with_fixed_covariance(N=N, sample_size=sample_size, ro=ro)\n",
    "print(f'>>> X correlation matrix: \\n {X.corr()}')"
   ]
  },
  {
   "attachments": {},
   "cell_type": "markdown",
   "metadata": {},
   "source": [
    "Sljedeca funkcija sluzi generiranju varijable $y$ tako da su $x$ i $y$ u srednjem linearno povezane, tj. $$y = \\beta x + \\varepsilon, \\ \\ \\varepsilon \\sim N(0, \\sigma^2).$$"
   ]
  },
  {
   "cell_type": "code",
   "execution_count": 4,
   "metadata": {},
   "outputs": [
    {
     "name": "stdout",
     "output_type": "stream",
     "text": [
      ">>> Mean of y: -0.002380801084672142\n"
     ]
    }
   ],
   "source": [
    "def get_y_from_x_given_beta(X: np.array, beta: np.array, error_var: float = 1):\n",
    "\n",
    "    \"\"\"Generate y-sample such that y = X*beta + eps, where eps is normally distributed error with mean 0.\n",
    "\n",
    "    Args:\n",
    "        X (np.array): independent variable sample.\n",
    "        beta (np.array): linear transformation coefficient.\n",
    "        error_var (float, optional): Variance of error. Defaults to 1.\n",
    "\n",
    "    Returns:\n",
    "        y: Generated sample of target variable.\n",
    "    \"\"\"\n",
    "    \n",
    "    error = rng.normal(loc=0, scale=np.sqrt(error_var), size=X.shape[0])\n",
    "    y = np.matmul(X, beta) + error\n",
    "    return y\n",
    "\n",
    "beta = np.ones(X.shape[1])\n",
    "\n",
    "y = get_y_from_x_given_beta(X=X, beta=beta)\n",
    "print(f'>>> Mean of y: {y.mean()}')"
   ]
  },
  {
   "cell_type": "markdown",
   "metadata": {},
   "source": [
    "Sad kombinirajuci gornje dvije funkcije mozemo napisati punkciju koja generira kompletan uzorak."
   ]
  },
  {
   "cell_type": "code",
   "execution_count": 5,
   "metadata": {},
   "outputs": [],
   "source": [
    "def get_sample(beta: np.array, ro: float, sample_size: int, error_var: float = 1):\n",
    "\n",
    "    \"\"\"Generates sample of X and y such that y = X*beta + eps, eps ~ N(0, sqrt(error_var))\n",
    "\n",
    "    Args:\n",
    "        beta (np.array): Linear transformation vector.\n",
    "        ro (float): Covariance between predictors.\n",
    "\n",
    "    Returns:\n",
    "        sample: generated sample.\n",
    "    \"\"\"\n",
    "\n",
    "    N = beta.shape[0]\n",
    "    X = get_random_sample_with_fixed_covariance(sample_size=sample_size, N=N, ro=ro)\n",
    "    y = get_y_from_x_given_beta(X=X, beta=beta, error_var=error_var)\n",
    "    return X, y"
   ]
  },
  {
   "attachments": {},
   "cell_type": "markdown",
   "metadata": {},
   "source": [
    "Jos jedan _sanity check_: ako je $\\rho = 0,$ tada je $$\\mathrm{Var}(y) = \\sum_{k=0}^N \\beta_k^2 \\mathrm{Var}(X_k) + \\mathrm{Var}(\\varepsilon),$$ sto bi u slucaju $N = 3, \\beta = (1, \\dots, 1)$ moralo biti $4$. Zaista, za dovoljno velik uzorak imamo da je uzoracka varijanca $\\approx 4$."
   ]
  },
  {
   "cell_type": "code",
   "execution_count": 6,
   "metadata": {},
   "outputs": [
    {
     "name": "stdout",
     "output_type": "stream",
     "text": [
      ">>> Var(y) = 3.9730582932869334\n"
     ]
    }
   ],
   "source": [
    "N = 3\n",
    "beta = np.ones(3)\n",
    "ro = 0\n",
    "sample_size = 10000\n",
    "\n",
    "X, y = get_sample(beta=beta, ro=ro, sample_size=sample_size)\n",
    "print(f'>>> Var(y) = {y.var(ddof=1)}')"
   ]
  },
  {
   "attachments": {},
   "cell_type": "markdown",
   "metadata": {},
   "source": [
    "Nastavljamo definiranjem funkcija za treniranje linearnog, PCR i PLS modela, redom, pri cemu potonja dva kao parametar primaju i broj glavnih komponenti koje koriste."
   ]
  },
  {
   "cell_type": "code",
   "execution_count": 13,
   "metadata": {},
   "outputs": [],
   "source": [
    "class Model(str, Enum):\n",
    "    linreg = \"linreg\"\n",
    "    pcr = \"pcr\"\n",
    "    pls = \"pls\"\n",
    "\n",
    "    @staticmethod\n",
    "    def train(model_name: str, X: np.array, y: np.array, n_components: int | None = None):\n",
    "\n",
    "        if model_name not in list(Model):\n",
    "            raise ValueError(f'No such model. Available models are {list(Model)}')\n",
    "        \n",
    "        if model_name == Model.linreg:\n",
    "            model = LinearRegression()\n",
    "        \n",
    "        elif model_name == Model.pcr:\n",
    "            model = make_pipeline(StandardScaler(), PCA(n_components=n_components), LinearRegression())\n",
    "        \n",
    "        elif model_name == Model.pls:\n",
    "            model = PLSRegression(n_components=n_components)\n",
    "        \n",
    "        model.fit(X, y)\n",
    "\n",
    "        return model"
   ]
  },
  {
   "attachments": {},
   "cell_type": "markdown",
   "metadata": {},
   "source": [
    "Jedan razuman nacin validacije nasih modela bio bi da koristeci distribucije iz kojih smo generirali podatke izracunamo populacijski $\\beta$ pa za gresku modela uzmemo\n",
    "koliko se njegov koeficijent razlikuje od populacijskog, tj. ako je nas model dan s $y = \\hat{\\beta}x$, njegovu gresku mozemo racunati kao\n",
    "\\begin{align*}\n",
    "\\mathrm{Err}(\\mathrm{Model}) = \\|\\beta-\\hat{\\beta}\\|.\n",
    "\\end{align*}\n",
    "Medutim, kako je prilikom visoke korelacije kovarijata taj $\\beta$ \"nestabilan\", mi cemo umjesto toga testirati nase modele na velikom testnom uzorku. Drugim rijecima, prvo cemo izgenerirati jako velik uzorak, zatim trenirati model na njegovom malom dijelu, a na ostatku izracunati srednju kvaratnu gresku i $R2,$ sto ce nam biti primarna metrika za validaciju kvalitete modela. Takav pristup ima nekoliko prednosti:\n",
    "1. Za male uzorke se moze dogoditi da dani podaci ne opisuju dobro svoju distribuciju pa bi i model s populacijskim $\\beta$ lose predvidao na testnom skupu. Samim time testiramo i koliko su metode otporne na male uzorke.\n",
    "2. Metrike poput kvaratne greske i $R2$ su interpretabilnije od udaljenosti do stvarnog $\\beta$.\n",
    "3. Tako se stvari rade u praksi (jer ne znamo stvarne distribucije pa ni vrijednost populacijskog koeficijenta); istrenira se model na uzorku koji nam je dan, a zatim validira na testnom skupu pa ide u produkciju.\n",
    "\n"
   ]
  },
  {
   "cell_type": "code",
   "execution_count": 14,
   "metadata": {},
   "outputs": [],
   "source": [
    "SAMPLE_SIZE = 300_000\n",
    "\n",
    "def train_and_evaluate_all_models(train_sample_size: int, ro: float, beta: np.array, n_components: int, error_var: float = 1):\n",
    "\n",
    "    \"\"\"Generates sample in which y = beta*x + eps, eps ~ N(0, error_var), and covariance between differnet\n",
    "        components of x equals ro. Then trains LS, PCR and PCA models on its subsample and evaluates them on the rest.\n",
    "\n",
    "    Args:\n",
    "        n_components (int): Nubmer of components to use in fitting PCR and PLS.\n",
    "\n",
    "    Returns:\n",
    "        score_dict (dict): A dictionary whose keys are model names and values their respecitve R2-score on test set.\n",
    "    \"\"\"\n",
    "\n",
    "    X, y = get_sample(beta=beta, ro=ro, sample_size=SAMPLE_SIZE)\n",
    "    X_train, X_test, y_train, y_test = train_test_split(X, y, random_state=random_state, train_size=sample_size)\n",
    "\n",
    "    score_dict = {}\n",
    "\n",
    "    for model_name in list(Model):\n",
    "        model = Model.train(model_name=model_name, X=X_train, y=y_train, n_components=n_components)\n",
    "        score_dict[model_name.value] = model.score(X_test, y_test)\n",
    "\n",
    "    return score_dict"
   ]
  },
  {
   "attachments": {},
   "cell_type": "markdown",
   "metadata": {},
   "source": [
    "Donji primjer pokazuje kako kod \"skoro\" nezavisnih kovarijata PLS bolje predvida nego PCR. To je i ocekivano, pogotovo ako je broj komponenti puno manji od $N$ jer tada PCA nuzno gubi bitne informacije za predvidanje. S druge strane, PLS, rastavljajuci zavisnu varijablu skupa s nezavisnima, ne izgubi gotovo nista te predvida jednako dobro kao i linearna regresija, ali u puno manjoj dimenziji pa je stoga interpretabilniji od nje."
   ]
  },
  {
   "cell_type": "code",
   "execution_count": 17,
   "metadata": {},
   "outputs": [
    {
     "data": {
      "text/plain": [
       "{'linreg': 0.997357603684893,\n",
       " 'pcr': 0.46705390839010574,\n",
       " 'pls': 0.9973576036808041}"
      ]
     },
     "execution_count": 17,
     "metadata": {},
     "output_type": "execute_result"
    }
   ],
   "source": [
    "N = 300\n",
    "train_sample_size = 1000\n",
    "n_components = 10\n",
    "ro = 0.001\n",
    "\n",
    "beta = np.ones(N)\n",
    "\n",
    "score_dict = train_and_evaluate_all_models(train_sample_size=train_sample_size, ro=ro, beta=beta, n_components=n_components)\n",
    "score_dict"
   ]
  },
  {
   "cell_type": "code",
   "execution_count": 18,
   "metadata": {},
   "outputs": [
    {
     "name": "stderr",
     "output_type": "stream",
     "text": [
      "  0%|          | 0/6 [32:35<?, ?it/s, N=1000, linreg=1, n_components=100, pcr=0.117, pls=1, ro=0.01, train_sample_size=1e+4]         "
     ]
    }
   ],
   "source": [
    "index_columns = ['train_sample_size', 'N', 'n_components', 'ro', 'beta']\n",
    "score_df = pd.DataFrame(None, columns=index_columns+[x.value for x in Model])\n",
    "\n",
    "loader = tqdm([1000, 500, 100, 50, 10, 5])\n",
    "\n",
    "N_train_sample_size_ratios = [10, 5, 3, 2, 1]\n",
    "N_n_components_ratios = [1, 2, 3, 5, 10, 100, 200]\n",
    "\n",
    "for N in loader:\n",
    "    for train_sample_size in [N*x for x in N_train_sample_size_ratios]:\n",
    "\n",
    "        if train_sample_size <= N:\n",
    "            continue\n",
    "\n",
    "        for n_components in [N//x for x in N_n_components_ratios]:\n",
    "\n",
    "            if n_components == 0:\n",
    "                continue\n",
    "\n",
    "            for ro in [0.01, 0.1, 0.2, 0.5, 0.7, 0.9, 0.99]:\n",
    "                beta = rng.normal(size=N)*5\n",
    "                score_dict = train_and_evaluate_all_models(train_sample_size=train_sample_size, beta=beta, ro=ro, n_components=n_components)\n",
    "                hparams_dict = dict(train_sample_size=train_sample_size, N=N, ro=ro, n_components=n_components, beta=beta)\n",
    "                new_row = hparams_dict | score_dict\n",
    "\n",
    "                score_df.loc[len(score_df), :] = new_row\n",
    "\n",
    "                new_row.pop('beta')\n",
    "                loader.set_postfix(**new_row)\n",
    "    \n",
    "            score_df.to_csv('scores.csv', index=False)\n",
    "\n",
    "score_df.to_csv('scores.csv', index=False)"
   ]
  },
  {
   "cell_type": "code",
   "execution_count": null,
   "metadata": {},
   "outputs": [
    {
     "data": {
      "text/plain": [
       "array([-5.90978613, -4.07209144])"
      ]
     },
     "execution_count": 12,
     "metadata": {},
     "output_type": "execute_result"
    }
   ],
   "source": [
    "score_df.to_csv('scores.csv', index=False)"
   ]
  },
  {
   "cell_type": "code",
   "execution_count": null,
   "metadata": {},
   "outputs": [
    {
     "data": {
      "text/html": [
       "<div>\n",
       "<style scoped>\n",
       "    .dataframe tbody tr th:only-of-type {\n",
       "        vertical-align: middle;\n",
       "    }\n",
       "\n",
       "    .dataframe tbody tr th {\n",
       "        vertical-align: top;\n",
       "    }\n",
       "\n",
       "    .dataframe thead th {\n",
       "        text-align: right;\n",
       "    }\n",
       "</style>\n",
       "<table border=\"1\" class=\"dataframe\">\n",
       "  <thead>\n",
       "    <tr style=\"text-align: right;\">\n",
       "      <th></th>\n",
       "      <th>train_sample_size</th>\n",
       "      <th>N</th>\n",
       "      <th>n_components</th>\n",
       "      <th>ro</th>\n",
       "      <th>beta</th>\n",
       "      <th>linreg</th>\n",
       "      <th>pcr</th>\n",
       "      <th>pls</th>\n",
       "    </tr>\n",
       "  </thead>\n",
       "  <tbody>\n",
       "    <tr>\n",
       "      <th>0</th>\n",
       "      <td>10000</td>\n",
       "      <td>1000</td>\n",
       "      <td>1000</td>\n",
       "      <td>0.01</td>\n",
       "      <td>[8.838679669557582, 0.59767674512725, 4.826527...</td>\n",
       "      <td>0.999954</td>\n",
       "      <td>0.999954</td>\n",
       "      <td>0.999951</td>\n",
       "    </tr>\n",
       "  </tbody>\n",
       "</table>\n",
       "</div>"
      ],
      "text/plain": [
       "  train_sample_size     N n_components    ro  \\\n",
       "0             10000  1000         1000  0.01   \n",
       "\n",
       "                                                beta    linreg       pcr  \\\n",
       "0  [8.838679669557582, 0.59767674512725, 4.826527...  0.999954  0.999954   \n",
       "\n",
       "        pls  \n",
       "0  0.999951  "
      ]
     },
     "execution_count": 14,
     "metadata": {},
     "output_type": "execute_result"
    }
   ],
   "source": [
    "score_df"
   ]
  },
  {
   "cell_type": "code",
   "execution_count": null,
   "metadata": {},
   "outputs": [],
   "source": [
    "index_columns = ['N', 'train_sample_size', 'ro']\n",
    "score_df = pd.DataFrame(None, columns=index_columns+[x.value for x in Model])"
   ]
  },
  {
   "cell_type": "code",
   "execution_count": null,
   "metadata": {},
   "outputs": [],
   "source": [
    "score_df\n",
    "\n",
    "train_sample_size = 5\n",
    "n = 5\n",
    "ro = 5\n",
    "d = dict(train_sample_size=train_sample_size, N=N, ro=ro)\n",
    "\n",
    "score_df.loc[len(score_df), :] = d | score_dict"
   ]
  },
  {
   "cell_type": "code",
   "execution_count": null,
   "metadata": {},
   "outputs": [
    {
     "data": {
      "text/html": [
       "<div>\n",
       "<style scoped>\n",
       "    .dataframe tbody tr th:only-of-type {\n",
       "        vertical-align: middle;\n",
       "    }\n",
       "\n",
       "    .dataframe tbody tr th {\n",
       "        vertical-align: top;\n",
       "    }\n",
       "\n",
       "    .dataframe thead th {\n",
       "        text-align: right;\n",
       "    }\n",
       "</style>\n",
       "<table border=\"1\" class=\"dataframe\">\n",
       "  <thead>\n",
       "    <tr style=\"text-align: right;\">\n",
       "      <th></th>\n",
       "      <th>N</th>\n",
       "      <th>train_sample_size</th>\n",
       "      <th>ro</th>\n",
       "      <th>linreg</th>\n",
       "      <th>pcr</th>\n",
       "      <th>pls</th>\n",
       "    </tr>\n",
       "  </thead>\n",
       "  <tbody>\n",
       "    <tr>\n",
       "      <th>0</th>\n",
       "      <td>NaN</td>\n",
       "      <td>5.0</td>\n",
       "      <td>5.0</td>\n",
       "      <td>0.998022</td>\n",
       "      <td>0.833751</td>\n",
       "      <td>0.998021</td>\n",
       "    </tr>\n",
       "    <tr>\n",
       "      <th>1</th>\n",
       "      <td>5.0</td>\n",
       "      <td>5.0</td>\n",
       "      <td>5.0</td>\n",
       "      <td>0.998022</td>\n",
       "      <td>0.833751</td>\n",
       "      <td>0.998021</td>\n",
       "    </tr>\n",
       "  </tbody>\n",
       "</table>\n",
       "</div>"
      ],
      "text/plain": [
       "     N train_sample_size   ro    linreg       pcr       pls\n",
       "0  NaN               5.0  5.0  0.998022  0.833751  0.998021\n",
       "1  5.0               5.0  5.0  0.998022  0.833751  0.998021"
      ]
     },
     "execution_count": 416,
     "metadata": {},
     "output_type": "execute_result"
    }
   ],
   "source": [
    "score_df"
   ]
  },
  {
   "cell_type": "code",
   "execution_count": null,
   "metadata": {},
   "outputs": [
    {
     "name": "stderr",
     "output_type": "stream",
     "text": [
      "100%|██████████| 6/6 [00:12<00:00,  2.01s/it, konj=k]\n"
     ]
    }
   ],
   "source": [
    "loader = tqdm([10, 30, 50, 100, 500, 1000])\n",
    "\n",
    "for N in loader:\n",
    "    sleep(2)\n",
    "    loader.set_postfix(konj='k')"
   ]
  },
  {
   "cell_type": "code",
   "execution_count": null,
   "metadata": {},
   "outputs": [],
   "source": []
  }
 ],
 "metadata": {
  "kernelspec": {
   "display_name": "venv",
   "language": "python",
   "name": "python3"
  },
  "language_info": {
   "codemirror_mode": {
    "name": "ipython",
    "version": 3
   },
   "file_extension": ".py",
   "mimetype": "text/x-python",
   "name": "python",
   "nbconvert_exporter": "python",
   "pygments_lexer": "ipython3",
   "version": "3.10.4 (v3.10.4:9d38120e33, Mar 23 2022, 17:29:05) [Clang 13.0.0 (clang-1300.0.29.30)]"
  },
  "orig_nbformat": 4,
  "vscode": {
   "interpreter": {
    "hash": "1aa0b08baf84a59db0468fc0305201b2935aa2c34c459b1c28b215e727584339"
   }
  }
 },
 "nbformat": 4,
 "nbformat_minor": 2
}
