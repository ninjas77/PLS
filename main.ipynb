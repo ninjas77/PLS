{
 "cells": [
  {
   "attachments": {},
   "cell_type": "markdown",
   "metadata": {},
   "source": [
    "# PLS"
   ]
  },
  {
   "attachments": {},
   "cell_type": "markdown",
   "metadata": {},
   "source": [
    "Pocinjemo s importanjem paketa koje cemo koristiti i definiranjem _random seed_-a kako bi kod bio reproducibilan."
   ]
  },
  {
   "cell_type": "code",
   "execution_count": 420,
   "metadata": {},
   "outputs": [],
   "source": [
    "from enum import Enum\n",
    "from time import sleep\n",
    "\n",
    "import pandas as pd\n",
    "import numpy as np\n",
    "from sklearn.decomposition import PCA\n",
    "from sklearn.cross_decomposition import PLSRegression\n",
    "from sklearn.linear_model import LinearRegression\n",
    "from sklearn.pipeline import make_pipeline\n",
    "from sklearn.model_selection import train_test_split\n",
    "from sklearn.preprocessing import StandardScaler\n",
    "from tqdm import tqdm\n",
    "\n",
    "random_state = 42\n",
    "rng = np.random.RandomState(random_state)"
   ]
  },
  {
   "attachments": {},
   "cell_type": "markdown",
   "metadata": {},
   "source": [
    "Sljedeca funkcija sluzi generiranju uzorka jedinicnih normalnih vektora takvih da je kovarijanca svaka dva vektora jednaka."
   ]
  },
  {
   "cell_type": "code",
   "execution_count": 242,
   "metadata": {},
   "outputs": [],
   "source": [
    "def get_random_sample_with_fixed_covariance(sample_size: int, N: int, ro: float, return_type: str = 'pandas'):\n",
    "\n",
    "    \"\"\"Generates random sample of normal vectors such that covariance \n",
    "    between any pair of vectors equals ro.\n",
    "\n",
    "    Args:\n",
    "        N (int): Dimension of the vector space.\n",
    "        ro (float): Covariance between different vectors.\n",
    "        return_type (str, optional): Defines the type of output. Supported values are 'numpy' and 'pandas'. Defaults to 'pandas'.\n",
    "    Returns:\n",
    "        X: Generated sample.\n",
    "    \"\"\"\n",
    "\n",
    "    assert sample_size >= N\n",
    "\n",
    "    X_0 = rng.normal(loc=0, scale=1, size=sample_size)\n",
    "\n",
    "    X = []\n",
    "\n",
    "    for i in range(N):\n",
    "        new_independent_variable = rng.normal(loc=0, scale=1, size=sample_size)\n",
    "        new_variable = np.sqrt(ro) * X_0 + np.sqrt(1-ro**2) * new_independent_variable\n",
    "        X.append(new_variable)\n",
    "    \n",
    "    X = np.array(X).T\n",
    "\n",
    "    if return_type == 'pandas':\n",
    "        return pd.DataFrame(X, columns=[f'X_{i+1}' for i in range(N)])\n",
    "    \n",
    "    if return_type == 'numpy':\n",
    "        return np.array(X)"
   ]
  },
  {
   "attachments": {},
   "cell_type": "markdown",
   "metadata": {},
   "source": [
    "Primjerice, za $ \\rho = 0.9$ ocekujemo da ce korelacijska matrica imati $\\approx 0.81$ na izvandijagonalnim elementima."
   ]
  },
  {
   "cell_type": "code",
   "execution_count": 243,
   "metadata": {},
   "outputs": [
    {
     "name": "stdout",
     "output_type": "stream",
     "text": [
      ">>> X correlation matrix: \n",
      "           X_1       X_2       X_3\n",
      "X_1  1.000000  0.833566  0.826982\n",
      "X_2  0.833566  1.000000  0.828807\n",
      "X_3  0.826982  0.828807  1.000000\n"
     ]
    }
   ],
   "source": [
    "N = 3\n",
    "sample_size = 10000\n",
    "ro = 0.9\n",
    "X = get_random_sample_with_fixed_covariance(N=N, sample_size=sample_size, ro=ro)\n",
    "print(f'>>> X correlation matrix: \\n {X.corr()}')"
   ]
  },
  {
   "attachments": {},
   "cell_type": "markdown",
   "metadata": {},
   "source": [
    "Sljedeca funkcija sluzi generiranju varijable $y$ tako da su $x$ i $y$ u srednjem linearno povezane, tj. $$y = \\beta x + \\varepsilon, \\ \\ \\varepsilon \\sim N(0, \\sigma^2).$$"
   ]
  },
  {
   "cell_type": "code",
   "execution_count": 244,
   "metadata": {},
   "outputs": [
    {
     "name": "stdout",
     "output_type": "stream",
     "text": [
      ">>> Mean of y: -0.002380801084672142\n"
     ]
    }
   ],
   "source": [
    "def get_y_from_x_given_beta(X: np.array, beta: np.array, error_var: float = 1):\n",
    "\n",
    "    \"\"\"Generate y-sample such that y = X*beta + eps, where eps is normally distributed error with mean 0.\n",
    "\n",
    "    Args:\n",
    "        X (np.array): independent variable sample.\n",
    "        beta (np.array): linear transformation coefficient.\n",
    "        error_var (float, optional): Variance of error. Defaults to 1.\n",
    "\n",
    "    Returns:\n",
    "        y: Generated sample of target variable.\n",
    "    \"\"\"\n",
    "    \n",
    "    error = rng.normal(loc=0, scale=np.sqrt(error_var), size=X.shape[0])\n",
    "    y = np.matmul(X, beta) + error\n",
    "    return y\n",
    "\n",
    "beta = np.ones(X.shape[1])\n",
    "\n",
    "y = get_y_from_x_given_beta(X=X, beta=beta)\n",
    "print(f'>>> Mean of y: {y.mean()}')"
   ]
  },
  {
   "cell_type": "markdown",
   "metadata": {},
   "source": [
    "Sad kombinirajuci gornje dvije funkcije mozemo napisati punkciju koja generira kompletan uzorak."
   ]
  },
  {
   "cell_type": "code",
   "execution_count": 245,
   "metadata": {},
   "outputs": [],
   "source": [
    "def get_sample(beta: np.array, ro: float, sample_size: int, error_var: float = 1):\n",
    "\n",
    "    \"\"\"Generates sample of X and y such that y = X*beta + eps, eps ~ N(0, sqrt(error_var))\n",
    "\n",
    "    Args:\n",
    "        beta (np.array): Linear transformation vector.\n",
    "        ro (float): Covariance between predictors.\n",
    "\n",
    "    Returns:\n",
    "        sample: generated sample.\n",
    "    \"\"\"\n",
    "\n",
    "    N = beta.shape[0]\n",
    "    X = get_random_sample_with_fixed_covariance(sample_size=sample_size, N=N, ro=ro)\n",
    "    y = get_y_from_x_given_beta(X=X, beta=beta, error_var=error_var)\n",
    "    return X, y"
   ]
  },
  {
   "attachments": {},
   "cell_type": "markdown",
   "metadata": {},
   "source": [
    "Jos jedan _sanity check_: ako je $\\rho = 0,$ tada je $$\\mathrm{Var}(y) = \\sum_{k=0}^N \\beta_k^2 \\mathrm{Var}(X_k) + \\mathrm{Var}(\\varepsilon),$$ sto bi u slucaju $N = 3, \\beta = (1, \\dots, 1)$ moralo biti $4$. Zaista, za dovoljno velik uzorak imamo da je uzoracka varijanca $\\approx 4$."
   ]
  },
  {
   "cell_type": "code",
   "execution_count": 246,
   "metadata": {},
   "outputs": [
    {
     "name": "stdout",
     "output_type": "stream",
     "text": [
      ">>> Var(y) = 3.9730582932869334\n"
     ]
    }
   ],
   "source": [
    "N = 3\n",
    "beta = np.ones(3)\n",
    "ro = 0\n",
    "sample_size = 10000\n",
    "\n",
    "X, y = get_sample(beta=beta, ro=ro, sample_size=sample_size)\n",
    "print(f'>>> Var(y) = {y.var(ddof=1)}')"
   ]
  },
  {
   "attachments": {},
   "cell_type": "markdown",
   "metadata": {},
   "source": [
    "Nastavljamo definiranjem funkcija za treniranje linearnog, PCR i PLS modela, redom, pri cemu potonja dva kao parametar primaju i broj glavnih komponenti koje koriste."
   ]
  },
  {
   "cell_type": "code",
   "execution_count": 397,
   "metadata": {},
   "outputs": [],
   "source": [
    "class Model(str, Enum):\n",
    "    linreg = \"linreg\"\n",
    "    pcr = \"pcr\"\n",
    "    pls = \"pls\"\n",
    "\n",
    "    @staticmethod\n",
    "    def train(model_name: str, X: np.array, y: np.array, n_components: int | None = None):\n",
    "\n",
    "        if model_name not in list(Model):\n",
    "            raise ValueError(f'No such model. Available models are {list(Model)}')\n",
    "        \n",
    "        if model_name == Model.linreg:\n",
    "            model = LinearRegression()\n",
    "        \n",
    "        elif model_name == Model.pcr:\n",
    "            model = make_pipeline(PCA(n_components=n_components), LinearRegression())\n",
    "        \n",
    "        elif model_name == Model.pls:\n",
    "            model = PLSRegression(n_components=n_components)\n",
    "        \n",
    "        model.fit(X, y)\n",
    "\n",
    "        return model"
   ]
  },
  {
   "attachments": {},
   "cell_type": "markdown",
   "metadata": {},
   "source": [
    "Jedan razuman nacin validacije nasih modela bio bi da koristeci distribucije iz kojih smo generirali podatke izracunamo populacijski $\\beta$ pa za gresku modela uzmemo\n",
    "koliko se njegov koeficijent razlikuje od populacijskog, tj. ako je nas model dan s $y = \\hat{\\beta}x$, njegovu gresku mozemo racunati kao\n",
    "\\begin{align*}\n",
    "\\mathrm{Err}(\\mathrm{Model}) = \\|\\beta-\\hat{\\beta}\\|.\n",
    "\\end{align*}\n",
    "Medutim, kako je prilikom visoke korelacije kovarijata taj $\\beta$ \"nestabilan\", mi cemo umjesto toga testirati nase modele na velikom testnom uzorku. Drugim rijecima, prvo cemo izgenerirati jako velik uzorak, zatim trenirati model na njegovom malom dijelu, a na ostatku izracunati srednju kvaratnu gresku i $R2,$ sto ce nam biti primarna metrika za validaciju kvalitete modela. Takav pristup ima nekoliko prednosti:\n",
    "1. Za male uzorke se moze dogoditi da dani podaci ne opisuju dobro svoju distribuciju pa bi i model s populacijskim $\\beta$ lose predvidao na testnom skupu. Samim time testiramo i koliko su metode otporne na male uzorke.\n",
    "2. Metrike poput kvaratne greske i $R2$ su interpretabilnije od udaljenosti do stvarnog $\\beta$.\n",
    "3. Tako se stvari rade u praksi (jer ne znamo stvarne distribucije pa ni vrijednost populacijskog koeficijenta); istrenira se model na uzorku koji nam je dan, a zatim validira na testnom skupu pa ide u produkciju.\n",
    "\n"
   ]
  },
  {
   "cell_type": "code",
   "execution_count": 438,
   "metadata": {},
   "outputs": [],
   "source": [
    "SAMPLE_SIZE = 300_000\n",
    "\n",
    "def train_and_evaluate_all_models(train_sample_size: int, ro: float, beta: np.array, n_components: int, error_var: float = 1):\n",
    "\n",
    "    \"\"\"Generates sample in which y = beta*x + eps, eps ~ N(0, error_var), and covariance between differnet\n",
    "        components of x equals ro. Then trains LS, PCR and PCA models on its subsample and evaluates them on the rest.\n",
    "\n",
    "    Args:\n",
    "        n_components (int): Nubmer of components to use in fitting PCR and PLS.\n",
    "\n",
    "    Returns:\n",
    "        score_dict (dict): A dictionary whose keys are model names and values their respecitve R2-score on test set.\n",
    "    \"\"\"\n",
    "\n",
    "    X, y = get_sample(beta=beta, ro=ro, sample_size=SAMPLE_SIZE)\n",
    "    X_train, X_test, y_train, y_test = train_test_split(X, y, random_state=random_state, train_size=sample_size)\n",
    "\n",
    "    score_dict = {}\n",
    "\n",
    "    for model_name in list(Model):\n",
    "        model = Model.train(model_name=model_name, X=X_train, y=y_train, n_components=n_components)\n",
    "        score_dict[model_name.value] = model.score(X_test, y_test)\n",
    "\n",
    "    return score_dict"
   ]
  },
  {
   "attachments": {},
   "cell_type": "markdown",
   "metadata": {},
   "source": [
    "Donji primjer pokazuje kako kod \"skoro\" nezavisnih kovarijata PLS bolje predvida nego PCR. To je i ocekivano, pogotovo ako je broj komponenti puno manji od $N$ jer tada PCA nuzno gubi bitne informacije za predvidanje. S druge strane, PLS, rastavljajuci zavisnu varijablu skupa s nezavisnima, ne izgubi gotovo nista te predvida jednako dobro kao i linearna regresija, ali u puno manjoj dimenziji pa je stoga interpretabilniji od nje."
   ]
  },
  {
   "cell_type": "code",
   "execution_count": 441,
   "metadata": {},
   "outputs": [
    {
     "data": {
      "text/plain": [
       "{'linreg': 0.9962692553629044,\n",
       " 'pcr': 0.17616369364962492,\n",
       " 'pls': 0.9962804999571605}"
      ]
     },
     "execution_count": 441,
     "metadata": {},
     "output_type": "execute_result"
    }
   ],
   "source": [
    "N = 300\n",
    "train_sample_size = 1000\n",
    "n_components = 10\n",
    "ro = 0.001\n",
    "\n",
    "beta = np.ones(N)\n",
    "\n",
    "score_dict = train_and_evaluate_all_models(train_sample_size=train_sample_size, ro=ro, beta=beta, n_components=n_components)\n",
    "score_dict"
   ]
  },
  {
   "cell_type": "code",
   "execution_count": 453,
   "metadata": {},
   "outputs": [
    {
     "name": "stderr",
     "output_type": "stream",
     "text": [
      "  0%|          | 0/6 [00:00<?, ?it/s]/Users/sanjinjuricfot/developer/PLS/venv/lib/python3.10/site-packages/sklearn/cross_decomposition/_pls.py:300: UserWarning: Y residual is constant at iteration 999\n",
      "  warnings.warn(f\"Y residual is constant at iteration {k}\")\n",
      "  0%|          | 0/6 [05:30<?, ?it/s, N=1000, linreg=0.742, pcr=0.485, pls=0.888, ro=0.1, train_sample_size=2e+4] \n"
     ]
    },
    {
     "ename": "KeyboardInterrupt",
     "evalue": "",
     "output_type": "error",
     "traceback": [
      "\u001b[0;31m---------------------------------------------------------------------------\u001b[0m",
      "\u001b[0;31mKeyboardInterrupt\u001b[0m                         Traceback (most recent call last)",
      "Cell \u001b[0;32mIn[453], line 22\u001b[0m\n\u001b[1;32m     20\u001b[0m \u001b[39mfor\u001b[39;00m ro \u001b[39min\u001b[39;00m [\u001b[39m0.01\u001b[39m, \u001b[39m0.1\u001b[39m, \u001b[39m0.2\u001b[39m, \u001b[39m0.5\u001b[39m, \u001b[39m0.7\u001b[39m, \u001b[39m0.9\u001b[39m, \u001b[39m0.99\u001b[39m]:\n\u001b[1;32m     21\u001b[0m     beta \u001b[39m=\u001b[39m rng\u001b[39m.\u001b[39mnormal(size\u001b[39m=\u001b[39mN)\n\u001b[0;32m---> 22\u001b[0m     score_dict \u001b[39m=\u001b[39m train_and_evaluate_all_models(train_sample_size\u001b[39m=\u001b[39;49mtrain_sample_size, beta\u001b[39m=\u001b[39;49mbeta, ro\u001b[39m=\u001b[39;49mro, n_components\u001b[39m=\u001b[39;49mn_components)\n\u001b[1;32m     23\u001b[0m     hparams_dict \u001b[39m=\u001b[39m \u001b[39mdict\u001b[39m(train_sample_size\u001b[39m=\u001b[39mtrain_sample_size, N\u001b[39m=\u001b[39mN, ro\u001b[39m=\u001b[39mro)\n\u001b[1;32m     24\u001b[0m     new_row \u001b[39m=\u001b[39m hparams_dict \u001b[39m|\u001b[39m score_dict\n",
      "Cell \u001b[0;32mIn[438], line 16\u001b[0m, in \u001b[0;36mtrain_and_evaluate_all_models\u001b[0;34m(train_sample_size, ro, beta, n_components, error_var)\u001b[0m\n\u001b[1;32m      5\u001b[0m \u001b[39m\u001b[39m\u001b[39m\"\"\"Generates sample in which y = beta*x + eps, eps ~ N(0, error_var), and covariance between differnet\u001b[39;00m\n\u001b[1;32m      6\u001b[0m \u001b[39m    components of x equals ro. Then trains LS, PCR and PCA models on its subsample and evaluates them on the rest.\u001b[39;00m\n\u001b[1;32m      7\u001b[0m \n\u001b[0;32m   (...)\u001b[0m\n\u001b[1;32m     12\u001b[0m \u001b[39m    score_dict (dict): A dictionary whose keys are model names and values their respecitve R2-score on test set.\u001b[39;00m\n\u001b[1;32m     13\u001b[0m \u001b[39m\"\"\"\u001b[39;00m\n\u001b[1;32m     15\u001b[0m X, y \u001b[39m=\u001b[39m get_sample(beta\u001b[39m=\u001b[39mbeta, ro\u001b[39m=\u001b[39mro, sample_size\u001b[39m=\u001b[39mSAMPLE_SIZE)\n\u001b[0;32m---> 16\u001b[0m X_train, X_test, y_train, y_test \u001b[39m=\u001b[39m train_test_split(X, y, random_state\u001b[39m=\u001b[39;49mrandom_state, train_size\u001b[39m=\u001b[39;49msample_size)\n\u001b[1;32m     18\u001b[0m score_dict \u001b[39m=\u001b[39m {}\n\u001b[1;32m     20\u001b[0m \u001b[39mfor\u001b[39;00m model_name \u001b[39min\u001b[39;00m \u001b[39mlist\u001b[39m(Model):\n",
      "File \u001b[0;32m~/developer/PLS/venv/lib/python3.10/site-packages/sklearn/model_selection/_split.py:2585\u001b[0m, in \u001b[0;36mtrain_test_split\u001b[0;34m(test_size, train_size, random_state, shuffle, stratify, *arrays)\u001b[0m\n\u001b[1;32m   2581\u001b[0m     cv \u001b[39m=\u001b[39m CVClass(test_size\u001b[39m=\u001b[39mn_test, train_size\u001b[39m=\u001b[39mn_train, random_state\u001b[39m=\u001b[39mrandom_state)\n\u001b[1;32m   2583\u001b[0m     train, test \u001b[39m=\u001b[39m \u001b[39mnext\u001b[39m(cv\u001b[39m.\u001b[39msplit(X\u001b[39m=\u001b[39marrays[\u001b[39m0\u001b[39m], y\u001b[39m=\u001b[39mstratify))\n\u001b[0;32m-> 2585\u001b[0m \u001b[39mreturn\u001b[39;00m \u001b[39mlist\u001b[39;49m(\n\u001b[1;32m   2586\u001b[0m     chain\u001b[39m.\u001b[39;49mfrom_iterable(\n\u001b[1;32m   2587\u001b[0m         (_safe_indexing(a, train), _safe_indexing(a, test)) \u001b[39mfor\u001b[39;49;00m a \u001b[39min\u001b[39;49;00m arrays\n\u001b[1;32m   2588\u001b[0m     )\n\u001b[1;32m   2589\u001b[0m )\n",
      "File \u001b[0;32m~/developer/PLS/venv/lib/python3.10/site-packages/sklearn/model_selection/_split.py:2587\u001b[0m, in \u001b[0;36m<genexpr>\u001b[0;34m(.0)\u001b[0m\n\u001b[1;32m   2581\u001b[0m     cv \u001b[39m=\u001b[39m CVClass(test_size\u001b[39m=\u001b[39mn_test, train_size\u001b[39m=\u001b[39mn_train, random_state\u001b[39m=\u001b[39mrandom_state)\n\u001b[1;32m   2583\u001b[0m     train, test \u001b[39m=\u001b[39m \u001b[39mnext\u001b[39m(cv\u001b[39m.\u001b[39msplit(X\u001b[39m=\u001b[39marrays[\u001b[39m0\u001b[39m], y\u001b[39m=\u001b[39mstratify))\n\u001b[1;32m   2585\u001b[0m \u001b[39mreturn\u001b[39;00m \u001b[39mlist\u001b[39m(\n\u001b[1;32m   2586\u001b[0m     chain\u001b[39m.\u001b[39mfrom_iterable(\n\u001b[0;32m-> 2587\u001b[0m         (_safe_indexing(a, train), _safe_indexing(a, test)) \u001b[39mfor\u001b[39;00m a \u001b[39min\u001b[39;00m arrays\n\u001b[1;32m   2588\u001b[0m     )\n\u001b[1;32m   2589\u001b[0m )\n",
      "File \u001b[0;32m~/developer/PLS/venv/lib/python3.10/site-packages/sklearn/utils/__init__.py:354\u001b[0m, in \u001b[0;36m_safe_indexing\u001b[0;34m(X, indices, axis)\u001b[0m\n\u001b[1;32m    348\u001b[0m     \u001b[39mraise\u001b[39;00m \u001b[39mValueError\u001b[39;00m(\n\u001b[1;32m    349\u001b[0m         \u001b[39m\"\u001b[39m\u001b[39mSpecifying the columns using strings is only supported for \u001b[39m\u001b[39m\"\u001b[39m\n\u001b[1;32m    350\u001b[0m         \u001b[39m\"\u001b[39m\u001b[39mpandas DataFrames\u001b[39m\u001b[39m\"\u001b[39m\n\u001b[1;32m    351\u001b[0m     )\n\u001b[1;32m    353\u001b[0m \u001b[39mif\u001b[39;00m \u001b[39mhasattr\u001b[39m(X, \u001b[39m\"\u001b[39m\u001b[39miloc\u001b[39m\u001b[39m\"\u001b[39m):\n\u001b[0;32m--> 354\u001b[0m     \u001b[39mreturn\u001b[39;00m _pandas_indexing(X, indices, indices_dtype, axis\u001b[39m=\u001b[39;49maxis)\n\u001b[1;32m    355\u001b[0m \u001b[39melif\u001b[39;00m \u001b[39mhasattr\u001b[39m(X, \u001b[39m\"\u001b[39m\u001b[39mshape\u001b[39m\u001b[39m\"\u001b[39m):\n\u001b[1;32m    356\u001b[0m     \u001b[39mreturn\u001b[39;00m _array_indexing(X, indices, indices_dtype, axis\u001b[39m=\u001b[39maxis)\n",
      "File \u001b[0;32m~/developer/PLS/venv/lib/python3.10/site-packages/sklearn/utils/__init__.py:196\u001b[0m, in \u001b[0;36m_pandas_indexing\u001b[0;34m(X, key, key_dtype, axis)\u001b[0m\n\u001b[1;32m    191\u001b[0m     key \u001b[39m=\u001b[39m np\u001b[39m.\u001b[39masarray(key)\n\u001b[1;32m    193\u001b[0m \u001b[39mif\u001b[39;00m key_dtype \u001b[39m==\u001b[39m \u001b[39m\"\u001b[39m\u001b[39mint\u001b[39m\u001b[39m\"\u001b[39m \u001b[39mand\u001b[39;00m \u001b[39mnot\u001b[39;00m (\u001b[39misinstance\u001b[39m(key, \u001b[39mslice\u001b[39m) \u001b[39mor\u001b[39;00m np\u001b[39m.\u001b[39misscalar(key)):\n\u001b[1;32m    194\u001b[0m     \u001b[39m# using take() instead of iloc[] ensures the return value is a \"proper\"\u001b[39;00m\n\u001b[1;32m    195\u001b[0m     \u001b[39m# copy that will not raise SettingWithCopyWarning\u001b[39;00m\n\u001b[0;32m--> 196\u001b[0m     \u001b[39mreturn\u001b[39;00m X\u001b[39m.\u001b[39;49mtake(key, axis\u001b[39m=\u001b[39;49maxis)\n\u001b[1;32m    197\u001b[0m \u001b[39melse\u001b[39;00m:\n\u001b[1;32m    198\u001b[0m     \u001b[39m# check whether we should index with loc or iloc\u001b[39;00m\n\u001b[1;32m    199\u001b[0m     indexer \u001b[39m=\u001b[39m X\u001b[39m.\u001b[39miloc \u001b[39mif\u001b[39;00m key_dtype \u001b[39m==\u001b[39m \u001b[39m\"\u001b[39m\u001b[39mint\u001b[39m\u001b[39m\"\u001b[39m \u001b[39melse\u001b[39;00m X\u001b[39m.\u001b[39mloc\n",
      "File \u001b[0;32m~/developer/PLS/venv/lib/python3.10/site-packages/pandas/core/generic.py:3871\u001b[0m, in \u001b[0;36mNDFrame.take\u001b[0;34m(self, indices, axis, is_copy, **kwargs)\u001b[0m\n\u001b[1;32m   3862\u001b[0m     warnings\u001b[39m.\u001b[39mwarn(\n\u001b[1;32m   3863\u001b[0m         \u001b[39m\"\u001b[39m\u001b[39mis_copy is deprecated and will be removed in a future version. \u001b[39m\u001b[39m\"\u001b[39m\n\u001b[1;32m   3864\u001b[0m         \u001b[39m\"\u001b[39m\u001b[39m'\u001b[39m\u001b[39mtake\u001b[39m\u001b[39m'\u001b[39m\u001b[39m always returns a copy, so there is no need to specify this.\u001b[39m\u001b[39m\"\u001b[39m,\n\u001b[1;32m   3865\u001b[0m         \u001b[39mFutureWarning\u001b[39;00m,\n\u001b[1;32m   3866\u001b[0m         stacklevel\u001b[39m=\u001b[39mfind_stack_level(),\n\u001b[1;32m   3867\u001b[0m     )\n\u001b[1;32m   3869\u001b[0m nv\u001b[39m.\u001b[39mvalidate_take((), kwargs)\n\u001b[0;32m-> 3871\u001b[0m \u001b[39mreturn\u001b[39;00m \u001b[39mself\u001b[39;49m\u001b[39m.\u001b[39;49m_take(indices, axis)\n",
      "File \u001b[0;32m~/developer/PLS/venv/lib/python3.10/site-packages/pandas/core/generic.py:3886\u001b[0m, in \u001b[0;36mNDFrame._take\u001b[0;34m(self, indices, axis, convert_indices)\u001b[0m\n\u001b[1;32m   3879\u001b[0m \u001b[39m\u001b[39m\u001b[39m\"\"\"\u001b[39;00m\n\u001b[1;32m   3880\u001b[0m \u001b[39mInternal version of the `take` allowing specification of additional args.\u001b[39;00m\n\u001b[1;32m   3881\u001b[0m \n\u001b[1;32m   3882\u001b[0m \u001b[39mSee the docstring of `take` for full explanation of the parameters.\u001b[39;00m\n\u001b[1;32m   3883\u001b[0m \u001b[39m\"\"\"\u001b[39;00m\n\u001b[1;32m   3884\u001b[0m \u001b[39mself\u001b[39m\u001b[39m.\u001b[39m_consolidate_inplace()\n\u001b[0;32m-> 3886\u001b[0m new_data \u001b[39m=\u001b[39m \u001b[39mself\u001b[39;49m\u001b[39m.\u001b[39;49m_mgr\u001b[39m.\u001b[39;49mtake(\n\u001b[1;32m   3887\u001b[0m     indices,\n\u001b[1;32m   3888\u001b[0m     axis\u001b[39m=\u001b[39;49m\u001b[39mself\u001b[39;49m\u001b[39m.\u001b[39;49m_get_block_manager_axis(axis),\n\u001b[1;32m   3889\u001b[0m     verify\u001b[39m=\u001b[39;49m\u001b[39mTrue\u001b[39;49;00m,\n\u001b[1;32m   3890\u001b[0m     convert_indices\u001b[39m=\u001b[39;49mconvert_indices,\n\u001b[1;32m   3891\u001b[0m )\n\u001b[1;32m   3892\u001b[0m \u001b[39mreturn\u001b[39;00m \u001b[39mself\u001b[39m\u001b[39m.\u001b[39m_constructor(new_data)\u001b[39m.\u001b[39m__finalize__(\u001b[39mself\u001b[39m, method\u001b[39m=\u001b[39m\u001b[39m\"\u001b[39m\u001b[39mtake\u001b[39m\u001b[39m\"\u001b[39m)\n",
      "File \u001b[0;32m~/developer/PLS/venv/lib/python3.10/site-packages/pandas/core/internals/managers.py:980\u001b[0m, in \u001b[0;36mBaseBlockManager.take\u001b[0;34m(self, indexer, axis, verify, convert_indices)\u001b[0m\n\u001b[1;32m    977\u001b[0m     indexer \u001b[39m=\u001b[39m maybe_convert_indices(indexer, n, verify\u001b[39m=\u001b[39mverify)\n\u001b[1;32m    979\u001b[0m new_labels \u001b[39m=\u001b[39m \u001b[39mself\u001b[39m\u001b[39m.\u001b[39maxes[axis]\u001b[39m.\u001b[39mtake(indexer)\n\u001b[0;32m--> 980\u001b[0m \u001b[39mreturn\u001b[39;00m \u001b[39mself\u001b[39;49m\u001b[39m.\u001b[39;49mreindex_indexer(\n\u001b[1;32m    981\u001b[0m     new_axis\u001b[39m=\u001b[39;49mnew_labels,\n\u001b[1;32m    982\u001b[0m     indexer\u001b[39m=\u001b[39;49mindexer,\n\u001b[1;32m    983\u001b[0m     axis\u001b[39m=\u001b[39;49maxis,\n\u001b[1;32m    984\u001b[0m     allow_dups\u001b[39m=\u001b[39;49m\u001b[39mTrue\u001b[39;49;00m,\n\u001b[1;32m    985\u001b[0m     copy\u001b[39m=\u001b[39;49m\u001b[39mNone\u001b[39;49;00m,\n\u001b[1;32m    986\u001b[0m )\n",
      "File \u001b[0;32m~/developer/PLS/venv/lib/python3.10/site-packages/pandas/core/internals/managers.py:753\u001b[0m, in \u001b[0;36mBaseBlockManager.reindex_indexer\u001b[0;34m(self, new_axis, indexer, axis, fill_value, allow_dups, copy, only_slice, use_na_proxy)\u001b[0m\n\u001b[1;32m    751\u001b[0m     parent \u001b[39m=\u001b[39m \u001b[39mNone\u001b[39;00m \u001b[39mif\u001b[39;00m com\u001b[39m.\u001b[39mall_none(\u001b[39m*\u001b[39mnew_refs) \u001b[39melse\u001b[39;00m \u001b[39mself\u001b[39m\n\u001b[1;32m    752\u001b[0m \u001b[39melse\u001b[39;00m:\n\u001b[0;32m--> 753\u001b[0m     new_blocks \u001b[39m=\u001b[39m [\n\u001b[1;32m    754\u001b[0m         blk\u001b[39m.\u001b[39mtake_nd(\n\u001b[1;32m    755\u001b[0m             indexer,\n\u001b[1;32m    756\u001b[0m             axis\u001b[39m=\u001b[39m\u001b[39m1\u001b[39m,\n\u001b[1;32m    757\u001b[0m             fill_value\u001b[39m=\u001b[39m(\n\u001b[1;32m    758\u001b[0m                 fill_value \u001b[39mif\u001b[39;00m fill_value \u001b[39mis\u001b[39;00m \u001b[39mnot\u001b[39;00m \u001b[39mNone\u001b[39;00m \u001b[39melse\u001b[39;00m blk\u001b[39m.\u001b[39mfill_value\n\u001b[1;32m    759\u001b[0m             ),\n\u001b[1;32m    760\u001b[0m         )\n\u001b[1;32m    761\u001b[0m         \u001b[39mfor\u001b[39;00m blk \u001b[39min\u001b[39;00m \u001b[39mself\u001b[39m\u001b[39m.\u001b[39mblocks\n\u001b[1;32m    762\u001b[0m     ]\n\u001b[1;32m    763\u001b[0m     new_refs \u001b[39m=\u001b[39m \u001b[39mNone\u001b[39;00m\n\u001b[1;32m    764\u001b[0m     parent \u001b[39m=\u001b[39m \u001b[39mNone\u001b[39;00m\n",
      "File \u001b[0;32m~/developer/PLS/venv/lib/python3.10/site-packages/pandas/core/internals/managers.py:754\u001b[0m, in \u001b[0;36m<listcomp>\u001b[0;34m(.0)\u001b[0m\n\u001b[1;32m    751\u001b[0m     parent \u001b[39m=\u001b[39m \u001b[39mNone\u001b[39;00m \u001b[39mif\u001b[39;00m com\u001b[39m.\u001b[39mall_none(\u001b[39m*\u001b[39mnew_refs) \u001b[39melse\u001b[39;00m \u001b[39mself\u001b[39m\n\u001b[1;32m    752\u001b[0m \u001b[39melse\u001b[39;00m:\n\u001b[1;32m    753\u001b[0m     new_blocks \u001b[39m=\u001b[39m [\n\u001b[0;32m--> 754\u001b[0m         blk\u001b[39m.\u001b[39;49mtake_nd(\n\u001b[1;32m    755\u001b[0m             indexer,\n\u001b[1;32m    756\u001b[0m             axis\u001b[39m=\u001b[39;49m\u001b[39m1\u001b[39;49m,\n\u001b[1;32m    757\u001b[0m             fill_value\u001b[39m=\u001b[39;49m(\n\u001b[1;32m    758\u001b[0m                 fill_value \u001b[39mif\u001b[39;49;00m fill_value \u001b[39mis\u001b[39;49;00m \u001b[39mnot\u001b[39;49;00m \u001b[39mNone\u001b[39;49;00m \u001b[39melse\u001b[39;49;00m blk\u001b[39m.\u001b[39;49mfill_value\n\u001b[1;32m    759\u001b[0m             ),\n\u001b[1;32m    760\u001b[0m         )\n\u001b[1;32m    761\u001b[0m         \u001b[39mfor\u001b[39;00m blk \u001b[39min\u001b[39;00m \u001b[39mself\u001b[39m\u001b[39m.\u001b[39mblocks\n\u001b[1;32m    762\u001b[0m     ]\n\u001b[1;32m    763\u001b[0m     new_refs \u001b[39m=\u001b[39m \u001b[39mNone\u001b[39;00m\n\u001b[1;32m    764\u001b[0m     parent \u001b[39m=\u001b[39m \u001b[39mNone\u001b[39;00m\n",
      "File \u001b[0;32m~/developer/PLS/venv/lib/python3.10/site-packages/pandas/core/internals/blocks.py:880\u001b[0m, in \u001b[0;36mBlock.take_nd\u001b[0;34m(self, indexer, axis, new_mgr_locs, fill_value)\u001b[0m\n\u001b[1;32m    877\u001b[0m     allow_fill \u001b[39m=\u001b[39m \u001b[39mTrue\u001b[39;00m\n\u001b[1;32m    879\u001b[0m \u001b[39m# Note: algos.take_nd has upcast logic similar to coerce_to_target_dtype\u001b[39;00m\n\u001b[0;32m--> 880\u001b[0m new_values \u001b[39m=\u001b[39m algos\u001b[39m.\u001b[39;49mtake_nd(\n\u001b[1;32m    881\u001b[0m     values, indexer, axis\u001b[39m=\u001b[39;49maxis, allow_fill\u001b[39m=\u001b[39;49mallow_fill, fill_value\u001b[39m=\u001b[39;49mfill_value\n\u001b[1;32m    882\u001b[0m )\n\u001b[1;32m    884\u001b[0m \u001b[39m# Called from three places in managers, all of which satisfy\u001b[39;00m\n\u001b[1;32m    885\u001b[0m \u001b[39m#  this assertion\u001b[39;00m\n\u001b[1;32m    886\u001b[0m \u001b[39massert\u001b[39;00m \u001b[39mnot\u001b[39;00m (axis \u001b[39m==\u001b[39m \u001b[39m0\u001b[39m \u001b[39mand\u001b[39;00m new_mgr_locs \u001b[39mis\u001b[39;00m \u001b[39mNone\u001b[39;00m)\n",
      "File \u001b[0;32m~/developer/PLS/venv/lib/python3.10/site-packages/pandas/core/array_algos/take.py:117\u001b[0m, in \u001b[0;36mtake_nd\u001b[0;34m(arr, indexer, axis, fill_value, allow_fill)\u001b[0m\n\u001b[1;32m    114\u001b[0m     \u001b[39mreturn\u001b[39;00m arr\u001b[39m.\u001b[39mtake(indexer, fill_value\u001b[39m=\u001b[39mfill_value, allow_fill\u001b[39m=\u001b[39mallow_fill)\n\u001b[1;32m    116\u001b[0m arr \u001b[39m=\u001b[39m np\u001b[39m.\u001b[39masarray(arr)\n\u001b[0;32m--> 117\u001b[0m \u001b[39mreturn\u001b[39;00m _take_nd_ndarray(arr, indexer, axis, fill_value, allow_fill)\n",
      "File \u001b[0;32m~/developer/PLS/venv/lib/python3.10/site-packages/pandas/core/array_algos/take.py:163\u001b[0m, in \u001b[0;36m_take_nd_ndarray\u001b[0;34m(arr, indexer, axis, fill_value, allow_fill)\u001b[0m\n\u001b[1;32m    158\u001b[0m     out \u001b[39m=\u001b[39m np\u001b[39m.\u001b[39mempty(out_shape, dtype\u001b[39m=\u001b[39mdtype)\n\u001b[1;32m    160\u001b[0m func \u001b[39m=\u001b[39m _get_take_nd_function(\n\u001b[1;32m    161\u001b[0m     arr\u001b[39m.\u001b[39mndim, arr\u001b[39m.\u001b[39mdtype, out\u001b[39m.\u001b[39mdtype, axis\u001b[39m=\u001b[39maxis, mask_info\u001b[39m=\u001b[39mmask_info\n\u001b[1;32m    162\u001b[0m )\n\u001b[0;32m--> 163\u001b[0m func(arr, indexer, out, fill_value)\n\u001b[1;32m    165\u001b[0m \u001b[39mif\u001b[39;00m flip_order:\n\u001b[1;32m    166\u001b[0m     out \u001b[39m=\u001b[39m out\u001b[39m.\u001b[39mT\n",
      "\u001b[0;31mKeyboardInterrupt\u001b[0m: "
     ]
    }
   ],
   "source": [
    "index_columns = ['train_sample_size', 'N', 'n_components', 'ro']\n",
    "score_df = pd.DataFrame(None, columns=index_columns+[x.value for x in Model])\n",
    "\n",
    "loader = tqdm([1000, 500, 100, 50, 10, 5])\n",
    "\n",
    "N_train_sample_size_ratios = [20, 10, 5, 3, 2, 1]\n",
    "N_n_components_ratios = [1, 2, 3, 5, 10, 100, 200]\n",
    "\n",
    "for N in loader:\n",
    "    for train_sample_size in [N*x for x in N_train_sample_size_ratios]:\n",
    "\n",
    "        if train_sample_size <= N:\n",
    "            continue\n",
    "\n",
    "        for n_components in [N//x for x in N_n_components_ratios]:\n",
    "\n",
    "            if n_components == 0:\n",
    "                continue\n",
    "\n",
    "            for ro in [0.01, 0.1, 0.2, 0.5, 0.7, 0.9, 0.99]:\n",
    "                beta = rng.normal(size=N)\n",
    "                score_dict = train_and_evaluate_all_models(train_sample_size=train_sample_size, beta=beta, ro=ro, n_components=n_components)\n",
    "                hparams_dict = dict(train_sample_size=train_sample_size, N=N, ro=ro, n_components=n_components)\n",
    "                new_row = hparams_dict | score_dict\n",
    "\n",
    "                score_df.loc[len(score_df), :] = new_row\n",
    "\n",
    "                loader.set_postfix(**new_row)"
   ]
  },
  {
   "cell_type": "code",
   "execution_count": 411,
   "metadata": {},
   "outputs": [],
   "source": [
    "index_columns = ['N', 'train_sample_size', 'ro']\n",
    "score_df = pd.DataFrame(None, columns=index_columns+[x.value for x in Model])"
   ]
  },
  {
   "cell_type": "code",
   "execution_count": 415,
   "metadata": {},
   "outputs": [],
   "source": [
    "score_df\n",
    "\n",
    "train_sample_size = 5\n",
    "n = 5\n",
    "ro = 5\n",
    "d = dict(train_sample_size=train_sample_size, N=N, ro=ro)\n",
    "\n",
    "score_df.loc[len(score_df), :] = d | score_dict"
   ]
  },
  {
   "cell_type": "code",
   "execution_count": 416,
   "metadata": {},
   "outputs": [
    {
     "data": {
      "text/html": [
       "<div>\n",
       "<style scoped>\n",
       "    .dataframe tbody tr th:only-of-type {\n",
       "        vertical-align: middle;\n",
       "    }\n",
       "\n",
       "    .dataframe tbody tr th {\n",
       "        vertical-align: top;\n",
       "    }\n",
       "\n",
       "    .dataframe thead th {\n",
       "        text-align: right;\n",
       "    }\n",
       "</style>\n",
       "<table border=\"1\" class=\"dataframe\">\n",
       "  <thead>\n",
       "    <tr style=\"text-align: right;\">\n",
       "      <th></th>\n",
       "      <th>N</th>\n",
       "      <th>train_sample_size</th>\n",
       "      <th>ro</th>\n",
       "      <th>linreg</th>\n",
       "      <th>pcr</th>\n",
       "      <th>pls</th>\n",
       "    </tr>\n",
       "  </thead>\n",
       "  <tbody>\n",
       "    <tr>\n",
       "      <th>0</th>\n",
       "      <td>NaN</td>\n",
       "      <td>5.0</td>\n",
       "      <td>5.0</td>\n",
       "      <td>0.998022</td>\n",
       "      <td>0.833751</td>\n",
       "      <td>0.998021</td>\n",
       "    </tr>\n",
       "    <tr>\n",
       "      <th>1</th>\n",
       "      <td>5.0</td>\n",
       "      <td>5.0</td>\n",
       "      <td>5.0</td>\n",
       "      <td>0.998022</td>\n",
       "      <td>0.833751</td>\n",
       "      <td>0.998021</td>\n",
       "    </tr>\n",
       "  </tbody>\n",
       "</table>\n",
       "</div>"
      ],
      "text/plain": [
       "     N train_sample_size   ro    linreg       pcr       pls\n",
       "0  NaN               5.0  5.0  0.998022  0.833751  0.998021\n",
       "1  5.0               5.0  5.0  0.998022  0.833751  0.998021"
      ]
     },
     "execution_count": 416,
     "metadata": {},
     "output_type": "execute_result"
    }
   ],
   "source": [
    "score_df"
   ]
  },
  {
   "cell_type": "code",
   "execution_count": 425,
   "metadata": {},
   "outputs": [
    {
     "name": "stderr",
     "output_type": "stream",
     "text": [
      "100%|██████████| 6/6 [00:12<00:00,  2.01s/it, konj=k]\n"
     ]
    }
   ],
   "source": [
    "loader = tqdm([10, 30, 50, 100, 500, 1000])\n",
    "\n",
    "for N in loader:\n",
    "    sleep(2)\n",
    "    loader.set_postfix(konj='k')"
   ]
  },
  {
   "cell_type": "code",
   "execution_count": null,
   "metadata": {},
   "outputs": [],
   "source": []
  }
 ],
 "metadata": {
  "kernelspec": {
   "display_name": "venv",
   "language": "python",
   "name": "python3"
  },
  "language_info": {
   "codemirror_mode": {
    "name": "ipython",
    "version": 3
   },
   "file_extension": ".py",
   "mimetype": "text/x-python",
   "name": "python",
   "nbconvert_exporter": "python",
   "pygments_lexer": "ipython3",
   "version": "3.10.4"
  },
  "orig_nbformat": 4,
  "vscode": {
   "interpreter": {
    "hash": "1aa0b08baf84a59db0468fc0305201b2935aa2c34c459b1c28b215e727584339"
   }
  }
 },
 "nbformat": 4,
 "nbformat_minor": 2
}
