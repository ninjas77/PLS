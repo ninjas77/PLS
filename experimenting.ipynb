{
 "cells": [
  {
   "attachments": {},
   "cell_type": "markdown",
   "metadata": {},
   "source": [
    "# Eksperimantiranje"
   ]
  },
  {
   "attachments": {},
   "cell_type": "markdown",
   "metadata": {},
   "source": [
    "Prvo ćemo importati potrebne pakete i fiksirati _random seed_ kako bi kod bio reproducibilan."
   ]
  },
  {
   "cell_type": "code",
   "execution_count": 1,
   "metadata": {},
   "outputs": [],
   "source": [
    "from enum import Enum\n",
    "from time import sleep\n",
    "\n",
    "import pandas as pd\n",
    "import numpy as np\n",
    "from sklearn.decomposition import PCA\n",
    "from sklearn.cross_decomposition import PLSRegression\n",
    "from sklearn.linear_model import LinearRegression\n",
    "from sklearn.pipeline import make_pipeline\n",
    "from sklearn.model_selection import train_test_split\n",
    "from sklearn.preprocessing import StandardScaler\n",
    "from tqdm import tqdm\n",
    "from sklearn.metrics import mean_squared_error\n",
    "\n",
    "random_state = 42\n",
    "rng = np.random.RandomState(random_state)"
   ]
  },
  {
   "attachments": {},
   "cell_type": "markdown",
   "metadata": {},
   "source": [
    "Sljedeća funkcija služi generiranju uzorka jediničnih normalnih veličina $x$ i $y$ td.\n",
    "\\begin{align*}\n",
    "y &= \\beta x + \\varepsilon, \\ \\ \\varepsilon \\sim N(0, \\sigma^2) \\\\\n",
    "\\mathrm{Cov}(x_i, x_j) &= \\sigma^2 > 0, \\ \\ i \\neq j.\n",
    "\\end{align*}"
   ]
  },
  {
   "cell_type": "code",
   "execution_count": 2,
   "metadata": {},
   "outputs": [],
   "source": [
    "def get_sample(beta: np.array, rho: float, sample_size: int):\n",
    "\n",
    "    \"\"\"Generates sample of X and y such that y = X*beta + eps, eps ~ N(0, sqrt(error_var))\n",
    "\n",
    "    Args:\n",
    "        beta (np.array): Linear transformation vector.\n",
    "        rho (float): Covariance between covariates.\n",
    "\n",
    "    Returns:\n",
    "        sample: generated sample.\n",
    "    \"\"\"\n",
    "\n",
    "    N = beta.shape[0]\n",
    "    cov = rho * np.ones([N, N])\n",
    "    cov = cov + np.diag(1-rho * np.ones(N))\n",
    "\n",
    "    N = beta.shape[0]\n",
    "    X = rng.multivariate_normal(mean = np.zeros(N), cov=cov, size=sample_size)\n",
    "\n",
    "    error = rng.normal(loc=0, scale=1, size=X.shape[0])\n",
    "    y = np.matmul(X, beta) + error\n",
    "    \n",
    "    return X, y"
   ]
  },
  {
   "attachments": {},
   "cell_type": "markdown",
   "metadata": {},
   "source": [
    "Brzinski _sanity check_: ako je $\\rho = 0,$ tada je $$\\mathrm{Var}(y) = \\sum_{k=0}^N \\beta_k^2 \\mathrm{Var}(X_k) + \\mathrm{Var}(\\varepsilon),$$ što bi u slucaju $N = 3, \\beta = (1, \\dots, 1)$ moralo biti $4$. Zaista, za dovoljno velik uzorak imamo da je uzoračka varijanca $\\approx 4$:"
   ]
  },
  {
   "cell_type": "code",
   "execution_count": 3,
   "metadata": {},
   "outputs": [
    {
     "name": "stdout",
     "output_type": "stream",
     "text": [
      ">>> Var(y) = 3.9966141119858167\n"
     ]
    }
   ],
   "source": [
    "N = 3\n",
    "beta = np.ones(3)\n",
    "rho = 0\n",
    "sample_size = 1000000\n",
    "\n",
    "X, y = get_sample(beta=beta, rho=rho, sample_size=sample_size)\n",
    "print(f'>>> Var(y) = {y.var(ddof=1)}')"
   ]
  },
  {
   "attachments": {},
   "cell_type": "markdown",
   "metadata": {},
   "source": [
    "Nastavljamo definiranjem funkcija za treniranje LS, PCR i PLS modela, pri čemu potonja dva kao parametar primaju i broj glavnih komponenti koje koriste."
   ]
  },
  {
   "cell_type": "code",
   "execution_count": 4,
   "metadata": {},
   "outputs": [],
   "source": [
    "class Model(str, Enum):\n",
    "    linreg = \"linreg\"\n",
    "    pcr = \"pcr\"\n",
    "    pls = \"pls\"\n",
    "\n",
    "    @staticmethod\n",
    "    def train(model_name: str, X: np.array, y: np.array, n_components: int | None = None):\n",
    "\n",
    "        if model_name not in list(Model):\n",
    "            raise ValueError(f'No such model. Available models are {list(Model)}')\n",
    "        \n",
    "        if model_name == Model.linreg:\n",
    "            model = LinearRegression()\n",
    "        \n",
    "        elif model_name == Model.pcr:\n",
    "            model = make_pipeline(PCA(n_components=n_components, random_state=random_state), LinearRegression())\n",
    "        \n",
    "        elif model_name == Model.pls:\n",
    "            model = PLSRegression(n_components=n_components)\n",
    "        \n",
    "        model.fit(X, y)\n",
    "\n",
    "        return model"
   ]
  },
  {
   "attachments": {},
   "cell_type": "markdown",
   "metadata": {},
   "source": [
    "Jedan razuman način validacije naših modela bio bi da koristeći distribucije iz kojih smo generirali podatke izračunamo populacijski $\\beta$ pa za grešku modela uzmemo\n",
    "koliko se njegov koeficijent razlikuje od populacijskog, tj. ako je nas model dan s $y = \\hat{\\beta}x$, njegovu grešku možemo računati kao\n",
    "\\begin{align*}\n",
    "\\mathrm{Err}(\\mathrm{Model}) = \\|\\beta-\\hat{\\beta}\\|.\n",
    "\\end{align*}\n",
    "Međutim, kako je prilikom visoke korelacije kovarijata taj $\\beta$ \"nestabilan\", mi ćemo umjesto toga testirati naše modele na velikom testnom uzorku. Preciznije, prvo ćemo izgenerirati jako velik uzorak, zatim trenirati model na njegovom malom dijelu, a na ostatku izračunati $R2,$ što ce nam biti primarna metrika za validaciju modela. Takav pristup ima dvije prednosti:\n",
    "1. Metrike poput kvaratne greške i $R2$ su interpretabilnije od udaljenosti do stvarnog $\\beta$.\n",
    "2. Tako se stvari rade u praksi (jer ne znamo stvarne distribucije pa ni vrijednost populacijskog koeficijenta); istrenira se model na uzorku koji nam je dan, a zatim validira na testnom skupu pa ide u produkciju.\n",
    "\n"
   ]
  },
  {
   "cell_type": "code",
   "execution_count": 5,
   "metadata": {},
   "outputs": [],
   "source": [
    "SAMPLE_SIZE = 50_000"
   ]
  },
  {
   "cell_type": "code",
   "execution_count": 6,
   "metadata": {},
   "outputs": [],
   "source": [
    "def train_and_evaluate_all_models(X_train: np.array, X_test: np.array, y_train: np.array, y_test: np.array, n_components: int):\n",
    "    \n",
    "    \"\"\"Trains LS, PLS and PCR models on X_train and y_test and evaluates them on X_test and y_test.\n",
    "\n",
    "    Args:\n",
    "        n_components (int): Number of relevant components to use for predicition in PCR and PLS.\n",
    "\n",
    "    Returns:\n",
    "        dict: Contains model names with their respective R2 values.\n",
    "    \"\"\"\n",
    "\n",
    "    score_dict = {'R2': {}, 'MSE': {}}\n",
    "\n",
    "    for model_name in list(Model):\n",
    "        model = Model.train(model_name=model_name, X=X_train, y=y_train, n_components=n_components)\n",
    "        score_dict['R2'][model_name.value] = model.score(X_test, y_test)\n",
    "        preds_test = model.predict(X_test)\n",
    "        score_dict['MSE'][model_name.value] = mean_squared_error(preds_test, y_test)\n",
    "\n",
    "    return score_dict"
   ]
  },
  {
   "attachments": {},
   "cell_type": "markdown",
   "metadata": {},
   "source": [
    "Donji primjer pokazuje kako kod \"skoro\" nezavisnih kovarijata PLS bolje predviđa nego PCR. To je i očekivano, pogotovo ako je broj komponenti puno manji od $N$ jer tada PCA nužno gubi bitne informacije za predviđanje. S druge strane, PLS, rastavljajuci zavisnu varijablu skupa s nezavisnima, ne izgubi gotovo ništa te predviđa jednako dobro kao i linearna regresija, ali u puno manjoj dimenziji pa je stoga interpretabilniji od nje."
   ]
  },
  {
   "cell_type": "code",
   "execution_count": 7,
   "metadata": {},
   "outputs": [],
   "source": [
    "N = 300\n",
    "train_sample_size = 1000\n",
    "n_components = 5\n",
    "rho= 0.1\n",
    "\n",
    "beta = rng.normal(loc=0, scale=25, size=N)\n",
    "X, y = get_sample(beta=beta, rho=rho, sample_size=SAMPLE_SIZE)\n",
    "X_train, X_test, y_train, y_test = train_test_split(X, y, random_state=random_state, train_size=train_sample_size)"
   ]
  },
  {
   "cell_type": "code",
   "execution_count": 8,
   "metadata": {},
   "outputs": [
    {
     "data": {
      "text/plain": [
       "{'R2': {'linreg': 0.9999912424659761,\n",
       "  'pcr': 0.003925273416792052,\n",
       "  'pls': 0.9946948181360293},\n",
       " 'MSE': {'linreg': 1.439361129263707,\n",
       "  'pcr': 163711.75257618446,\n",
       "  'pls': 871.943236292399}}"
      ]
     },
     "execution_count": 8,
     "metadata": {},
     "output_type": "execute_result"
    }
   ],
   "source": [
    "score_dict = train_and_evaluate_all_models(X_train=X_train, X_test=X_test, y_train=y_train, y_test=y_test, n_components=n_components)\n",
    "score_dict"
   ]
  },
  {
   "cell_type": "code",
   "execution_count": 9,
   "metadata": {},
   "outputs": [
    {
     "data": {
      "text/html": [
       "<div>\n",
       "<style scoped>\n",
       "    .dataframe tbody tr th:only-of-type {\n",
       "        vertical-align: middle;\n",
       "    }\n",
       "\n",
       "    .dataframe tbody tr th {\n",
       "        vertical-align: top;\n",
       "    }\n",
       "\n",
       "    .dataframe thead th {\n",
       "        text-align: right;\n",
       "    }\n",
       "</style>\n",
       "<table border=\"1\" class=\"dataframe\">\n",
       "  <thead>\n",
       "    <tr style=\"text-align: right;\">\n",
       "      <th></th>\n",
       "      <th>model</th>\n",
       "      <th>R2</th>\n",
       "      <th>MSE</th>\n",
       "    </tr>\n",
       "  </thead>\n",
       "  <tbody>\n",
       "    <tr>\n",
       "      <th>0</th>\n",
       "      <td>linreg</td>\n",
       "      <td>0.999991</td>\n",
       "      <td>1.439361</td>\n",
       "    </tr>\n",
       "    <tr>\n",
       "      <th>1</th>\n",
       "      <td>pcr</td>\n",
       "      <td>0.003925</td>\n",
       "      <td>163711.752576</td>\n",
       "    </tr>\n",
       "    <tr>\n",
       "      <th>2</th>\n",
       "      <td>pls</td>\n",
       "      <td>0.994695</td>\n",
       "      <td>871.943236</td>\n",
       "    </tr>\n",
       "  </tbody>\n",
       "</table>\n",
       "</div>"
      ],
      "text/plain": [
       "    model        R2            MSE\n",
       "0  linreg  0.999991       1.439361\n",
       "1     pcr  0.003925  163711.752576\n",
       "2     pls  0.994695     871.943236"
      ]
     },
     "execution_count": 9,
     "metadata": {},
     "output_type": "execute_result"
    }
   ],
   "source": [
    "df = pd.DataFrame(score_dict)\n",
    "df.index.name = 'model'\n",
    "df = df.reset_index()\n",
    "df"
   ]
  },
  {
   "attachments": {},
   "cell_type": "markdown",
   "metadata": {},
   "source": [
    "Sad ćemo za razne parametre provesti eksperiment i podatke o R2 spremiti u datoteku _scores.csv_."
   ]
  },
  {
   "cell_type": "code",
   "execution_count": 11,
   "metadata": {},
   "outputs": [
    {
     "name": "stderr",
     "output_type": "stream",
     "text": [
      "  0%|          | 0/5 [00:04<?, ?it/s, N=500, linreg=0.997, pcr=0.0249, pls=0.997, rho=0.01]"
     ]
    },
    {
     "name": "stdout",
     "output_type": "stream",
     "text": [
      "Empty DataFrame\n",
      "Columns: [M, N, n, rho, model, R2, MSE]\n",
      "Index: []\n"
     ]
    },
    {
     "name": "stderr",
     "output_type": "stream",
     "text": [
      "  0%|          | 0/5 [00:12<?, ?it/s, N=500, linreg=0.997, pcr=0.0958, pls=0.997, rho=0.01]"
     ]
    },
    {
     "name": "stdout",
     "output_type": "stream",
     "text": [
      "      M    N  n   rho   model        R2         MSE\n",
      "0  5000  500  5  0.01  linreg  0.997495    1.101917\n",
      "1  5000  500  5  0.01     pcr  0.024885  428.943009\n",
      "2  5000  500  5  0.01     pls  0.997442    1.125453\n"
     ]
    },
    {
     "name": "stderr",
     "output_type": "stream",
     "text": [
      "  0%|          | 0/5 [00:21<?, ?it/s, N=500, linreg=0.997, pcr=0.267, pls=0.997, rho=0.01] "
     ]
    },
    {
     "name": "stdout",
     "output_type": "stream",
     "text": [
      "      M    N   n   rho   model        R2         MSE\n",
      "0  5000  500   5  0.01  linreg  0.997495    1.101917\n",
      "1  5000  500   5  0.01     pcr  0.024885  428.943009\n",
      "2  5000  500   5  0.01     pls  0.997442    1.125453\n",
      "0  5000  500  50  0.01  linreg  0.997495    1.101917\n",
      "1  5000  500  50  0.01     pcr  0.095849  397.726742\n",
      "2  5000  500  50  0.01     pls  0.997495    1.101917\n"
     ]
    },
    {
     "name": "stderr",
     "output_type": "stream",
     "text": [
      "  0%|          | 0/5 [00:31<?, ?it/s, N=500, linreg=0.997, pcr=0.509, pls=0.997, rho=0.01]"
     ]
    },
    {
     "name": "stdout",
     "output_type": "stream",
     "text": [
      "      M    N    n   rho   model        R2         MSE\n",
      "0  5000  500    5  0.01  linreg  0.997495    1.101917\n",
      "1  5000  500    5  0.01     pcr  0.024885  428.943009\n",
      "2  5000  500    5  0.01     pls  0.997442    1.125453\n",
      "0  5000  500   50  0.01  linreg  0.997495    1.101917\n",
      "1  5000  500   50  0.01     pcr  0.095849  397.726742\n",
      "2  5000  500   50  0.01     pls  0.997495    1.101917\n",
      "0  5000  500  125  0.01  linreg  0.997495    1.101917\n",
      "1  5000  500  125  0.01     pcr  0.267269  322.320777\n",
      "2  5000  500  125  0.01     pls  0.997495    1.101917\n"
     ]
    },
    {
     "name": "stderr",
     "output_type": "stream",
     "text": [
      "  0%|          | 0/5 [00:36<?, ?it/s, N=500, linreg=0.997, pcr=0.00384, pls=0.996, rho=0.01]"
     ]
    },
    {
     "name": "stdout",
     "output_type": "stream",
     "text": [
      "      M    N    n   rho   model        R2         MSE\n",
      "0  5000  500    5  0.01  linreg  0.997495    1.101917\n",
      "1  5000  500    5  0.01     pcr  0.024885  428.943009\n",
      "2  5000  500    5  0.01     pls  0.997442    1.125453\n",
      "0  5000  500   50  0.01  linreg  0.997495    1.101917\n",
      "1  5000  500   50  0.01     pcr  0.095849  397.726742\n",
      "2  5000  500   50  0.01     pls  0.997495    1.101917\n",
      "0  5000  500  125  0.01  linreg  0.997495    1.101917\n",
      "1  5000  500  125  0.01     pcr  0.267269  322.320777\n",
      "2  5000  500  125  0.01     pls  0.997495    1.101917\n",
      "0  5000  500  250  0.01  linreg  0.997495    1.101917\n",
      "1  5000  500  250  0.01     pcr  0.509376  215.820317\n",
      "2  5000  500  250  0.01     pls  0.997493    1.102957\n"
     ]
    },
    {
     "name": "stderr",
     "output_type": "stream",
     "text": [
      "  0%|          | 0/5 [00:44<?, ?it/s, N=500, linreg=0.997, pcr=0.112, pls=0.997, rho=0.01]  "
     ]
    },
    {
     "name": "stdout",
     "output_type": "stream",
     "text": [
      "      M    N    n   rho   model        R2         MSE\n",
      "0  5000  500    5  0.01  linreg  0.997495    1.101917\n",
      "1  5000  500    5  0.01     pcr  0.024885  428.943009\n",
      "2  5000  500    5  0.01     pls  0.997442    1.125453\n",
      "0  5000  500   50  0.01  linreg  0.997495    1.101917\n",
      "1  5000  500   50  0.01     pcr  0.095849  397.726742\n",
      "2  5000  500   50  0.01     pls  0.997495    1.101917\n",
      "0  5000  500  125  0.01  linreg  0.997495    1.101917\n",
      "1  5000  500  125  0.01     pcr  0.267269  322.320777\n",
      "2  5000  500  125  0.01     pls  0.997495    1.101917\n",
      "0  5000  500  250  0.01  linreg  0.997495    1.101917\n",
      "1  5000  500  250  0.01     pcr  0.509376  215.820317\n",
      "2  5000  500  250  0.01     pls  0.997493    1.102957\n",
      "0  2500  500    5  0.01  linreg  0.997129    1.264277\n",
      "1  2500  500    5  0.01     pcr  0.003838  438.722854\n",
      "2  2500  500    5  0.01     pls  0.996292    1.633246\n"
     ]
    },
    {
     "name": "stderr",
     "output_type": "stream",
     "text": [
      "  0%|          | 0/5 [00:51<?, ?it/s, N=500, linreg=0.997, pcr=0.222, pls=0.997, rho=0.01]"
     ]
    },
    {
     "name": "stdout",
     "output_type": "stream",
     "text": [
      "      M    N    n   rho   model        R2         MSE\n",
      "0  5000  500    5  0.01  linreg  0.997495    1.101917\n",
      "1  5000  500    5  0.01     pcr  0.024885  428.943009\n",
      "2  5000  500    5  0.01     pls  0.997442    1.125453\n",
      "0  5000  500   50  0.01  linreg  0.997495    1.101917\n",
      "1  5000  500   50  0.01     pcr  0.095849  397.726742\n",
      "2  5000  500   50  0.01     pls  0.997495    1.101917\n",
      "0  5000  500  125  0.01  linreg  0.997495    1.101917\n",
      "1  5000  500  125  0.01     pcr  0.267269  322.320777\n",
      "2  5000  500  125  0.01     pls  0.997495    1.101917\n",
      "0  5000  500  250  0.01  linreg  0.997495    1.101917\n",
      "1  5000  500  250  0.01     pcr  0.509376  215.820317\n",
      "2  5000  500  250  0.01     pls  0.997493    1.102957\n",
      "0  2500  500    5  0.01  linreg  0.997129    1.264277\n",
      "1  2500  500    5  0.01     pcr  0.003838  438.722854\n",
      "2  2500  500    5  0.01     pls  0.996292    1.633246\n",
      "0  2500  500   50  0.01  linreg  0.997129    1.264277\n",
      "1  2500  500   50  0.01     pcr  0.111808  391.171146\n",
      "2  2500  500   50  0.01     pls  0.997129    1.264277\n"
     ]
    },
    {
     "name": "stderr",
     "output_type": "stream",
     "text": [
      "  0%|          | 0/5 [01:02<?, ?it/s, N=500, linreg=0.997, pcr=0.483, pls=0.997, rho=0.01]"
     ]
    },
    {
     "name": "stdout",
     "output_type": "stream",
     "text": [
      "      M    N    n   rho   model        R2         MSE\n",
      "0  5000  500    5  0.01  linreg  0.997495    1.101917\n",
      "1  5000  500    5  0.01     pcr  0.024885  428.943009\n",
      "2  5000  500    5  0.01     pls  0.997442    1.125453\n",
      "0  5000  500   50  0.01  linreg  0.997495    1.101917\n",
      "1  5000  500   50  0.01     pcr  0.095849  397.726742\n",
      "2  5000  500   50  0.01     pls  0.997495    1.101917\n",
      "0  5000  500  125  0.01  linreg  0.997495    1.101917\n",
      "1  5000  500  125  0.01     pcr  0.267269  322.320777\n",
      "2  5000  500  125  0.01     pls  0.997495    1.101917\n",
      "0  5000  500  250  0.01  linreg  0.997495    1.101917\n",
      "1  5000  500  250  0.01     pcr  0.509376  215.820317\n",
      "2  5000  500  250  0.01     pls  0.997493    1.102957\n",
      "0  2500  500    5  0.01  linreg  0.997129    1.264277\n",
      "1  2500  500    5  0.01     pcr  0.003838  438.722854\n",
      "2  2500  500    5  0.01     pls  0.996292    1.633246\n",
      "0  2500  500   50  0.01  linreg  0.997129    1.264277\n",
      "1  2500  500   50  0.01     pcr  0.111808  391.171146\n",
      "2  2500  500   50  0.01     pls  0.997129    1.264277\n",
      "0  2500  500  125  0.01  linreg  0.997129    1.264277\n",
      "1  2500  500  125  0.01     pcr  0.222474  342.432589\n",
      "2  2500  500  125  0.01     pls  0.997135    1.261869\n"
     ]
    },
    {
     "name": "stderr",
     "output_type": "stream",
     "text": [
      "  0%|          | 0/5 [01:05<?, ?it/s, N=500, linreg=0.997, pcr=0.00697, pls=0.99, rho=0.01]"
     ]
    },
    {
     "name": "stdout",
     "output_type": "stream",
     "text": [
      "      M    N    n   rho   model        R2         MSE\n",
      "0  5000  500    5  0.01  linreg  0.997495    1.101917\n",
      "1  5000  500    5  0.01     pcr  0.024885  428.943009\n",
      "2  5000  500    5  0.01     pls  0.997442    1.125453\n",
      "0  5000  500   50  0.01  linreg  0.997495    1.101917\n",
      "1  5000  500   50  0.01     pcr  0.095849  397.726742\n",
      "2  5000  500   50  0.01     pls  0.997495    1.101917\n",
      "0  5000  500  125  0.01  linreg  0.997495    1.101917\n",
      "1  5000  500  125  0.01     pcr  0.267269  322.320777\n",
      "2  5000  500  125  0.01     pls  0.997495    1.101917\n",
      "0  5000  500  250  0.01  linreg  0.997495    1.101917\n",
      "1  5000  500  250  0.01     pcr  0.509376  215.820317\n",
      "2  5000  500  250  0.01     pls  0.997493    1.102957\n",
      "0  2500  500    5  0.01  linreg  0.997129    1.264277\n",
      "1  2500  500    5  0.01     pcr  0.003838  438.722854\n",
      "2  2500  500    5  0.01     pls  0.996292    1.633246\n",
      "0  2500  500   50  0.01  linreg  0.997129    1.264277\n",
      "1  2500  500   50  0.01     pcr  0.111808  391.171146\n",
      "2  2500  500   50  0.01     pls  0.997129    1.264277\n",
      "0  2500  500  125  0.01  linreg  0.997129    1.264277\n",
      "1  2500  500  125  0.01     pcr  0.222474  342.432589\n",
      "2  2500  500  125  0.01     pls  0.997135    1.261869\n",
      "0  2500  500  250  0.01  linreg  0.997129    1.264277\n",
      "1  2500  500  250  0.01     pcr  0.483162  227.622211\n",
      "2  2500  500  250  0.01     pls  0.997122    1.267665\n"
     ]
    },
    {
     "name": "stderr",
     "output_type": "stream",
     "text": [
      "  0%|          | 0/5 [01:12<?, ?it/s, N=500, linreg=0.997, pcr=0.116, pls=0.997, rho=0.01] "
     ]
    },
    {
     "name": "stdout",
     "output_type": "stream",
     "text": [
      "      M    N    n   rho   model        R2         MSE\n",
      "0  5000  500    5  0.01  linreg  0.997495    1.101917\n",
      "1  5000  500    5  0.01     pcr  0.024885  428.943009\n",
      "2  5000  500    5  0.01     pls  0.997442    1.125453\n",
      "0  5000  500   50  0.01  linreg  0.997495    1.101917\n",
      "1  5000  500   50  0.01     pcr  0.095849  397.726742\n",
      "2  5000  500   50  0.01     pls  0.997495    1.101917\n",
      "0  5000  500  125  0.01  linreg  0.997495    1.101917\n",
      "1  5000  500  125  0.01     pcr  0.267269  322.320777\n",
      "2  5000  500  125  0.01     pls  0.997495    1.101917\n",
      "0  5000  500  250  0.01  linreg  0.997495    1.101917\n",
      "1  5000  500  250  0.01     pcr  0.509376  215.820317\n",
      "2  5000  500  250  0.01     pls  0.997493    1.102957\n",
      "0  2500  500    5  0.01  linreg  0.997129    1.264277\n",
      "1  2500  500    5  0.01     pcr  0.003838  438.722854\n",
      "2  2500  500    5  0.01     pls  0.996292    1.633246\n",
      "0  2500  500   50  0.01  linreg  0.997129    1.264277\n",
      "1  2500  500   50  0.01     pcr  0.111808  391.171146\n",
      "2  2500  500   50  0.01     pls  0.997129    1.264277\n",
      "0  2500  500  125  0.01  linreg  0.997129    1.264277\n",
      "1  2500  500  125  0.01     pcr  0.222474  342.432589\n",
      "2  2500  500  125  0.01     pls  0.997135    1.261869\n",
      "0  2500  500  250  0.01  linreg  0.997129    1.264277\n",
      "1  2500  500  250  0.01     pcr  0.483162  227.622211\n",
      "2  2500  500  250  0.01     pls  0.997122    1.267665\n",
      "0  1500  500    5  0.01  linreg  0.996514    1.534047\n",
      "1  1500  500    5  0.01     pcr  0.006974  437.019645\n",
      "2  1500  500    5  0.01     pls  0.989654    4.553054\n"
     ]
    },
    {
     "name": "stderr",
     "output_type": "stream",
     "text": [
      "  0%|          | 0/5 [01:20<?, ?it/s, N=500, linreg=0.997, pcr=0.245, pls=0.997, rho=0.01]"
     ]
    },
    {
     "name": "stdout",
     "output_type": "stream",
     "text": [
      "      M    N    n   rho   model        R2         MSE\n",
      "0  5000  500    5  0.01  linreg  0.997495    1.101917\n",
      "1  5000  500    5  0.01     pcr  0.024885  428.943009\n",
      "2  5000  500    5  0.01     pls  0.997442    1.125453\n",
      "0  5000  500   50  0.01  linreg  0.997495    1.101917\n",
      "1  5000  500   50  0.01     pcr  0.095849  397.726742\n",
      "2  5000  500   50  0.01     pls  0.997495    1.101917\n",
      "0  5000  500  125  0.01  linreg  0.997495    1.101917\n",
      "1  5000  500  125  0.01     pcr  0.267269  322.320777\n",
      "2  5000  500  125  0.01     pls  0.997495    1.101917\n",
      "0  5000  500  250  0.01  linreg  0.997495    1.101917\n",
      "1  5000  500  250  0.01     pcr  0.509376  215.820317\n",
      "2  5000  500  250  0.01     pls  0.997493    1.102957\n",
      "0  2500  500    5  0.01  linreg  0.997129    1.264277\n",
      "1  2500  500    5  0.01     pcr  0.003838  438.722854\n",
      "2  2500  500    5  0.01     pls  0.996292    1.633246\n",
      "0  2500  500   50  0.01  linreg  0.997129    1.264277\n",
      "1  2500  500   50  0.01     pcr  0.111808  391.171146\n",
      "2  2500  500   50  0.01     pls  0.997129    1.264277\n",
      "0  2500  500  125  0.01  linreg  0.997129    1.264277\n",
      "1  2500  500  125  0.01     pcr  0.222474  342.432589\n",
      "2  2500  500  125  0.01     pls  0.997135    1.261869\n",
      "0  2500  500  250  0.01  linreg  0.997129    1.264277\n",
      "1  2500  500  250  0.01     pcr  0.483162  227.622211\n",
      "2  2500  500  250  0.01     pls  0.997122    1.267665\n",
      "0  1500  500    5  0.01  linreg  0.996514    1.534047\n",
      "1  1500  500    5  0.01     pcr  0.006974  437.019645\n",
      "2  1500  500    5  0.01     pls  0.989654    4.553054\n",
      "0  1500  500   50  0.01  linreg  0.996514    1.534047\n",
      "1  1500  500   50  0.01     pcr  0.116347  388.886010\n",
      "2  1500  500   50  0.01     pls  0.996514    1.534047\n"
     ]
    },
    {
     "name": "stderr",
     "output_type": "stream",
     "text": [
      "  0%|          | 0/5 [01:29<?, ?it/s, N=500, linreg=0.997, pcr=0.505, pls=0.996, rho=0.01]"
     ]
    },
    {
     "name": "stdout",
     "output_type": "stream",
     "text": [
      "      M    N    n   rho   model        R2         MSE\n",
      "0  5000  500    5  0.01  linreg  0.997495    1.101917\n",
      "1  5000  500    5  0.01     pcr  0.024885  428.943009\n",
      "2  5000  500    5  0.01     pls  0.997442    1.125453\n",
      "0  5000  500   50  0.01  linreg  0.997495    1.101917\n",
      "1  5000  500   50  0.01     pcr  0.095849  397.726742\n",
      "2  5000  500   50  0.01     pls  0.997495    1.101917\n",
      "0  5000  500  125  0.01  linreg  0.997495    1.101917\n",
      "1  5000  500  125  0.01     pcr  0.267269  322.320777\n",
      "2  5000  500  125  0.01     pls  0.997495    1.101917\n",
      "0  5000  500  250  0.01  linreg  0.997495    1.101917\n",
      "1  5000  500  250  0.01     pcr  0.509376  215.820317\n",
      "2  5000  500  250  0.01     pls  0.997493    1.102957\n",
      "0  2500  500    5  0.01  linreg  0.997129    1.264277\n",
      "1  2500  500    5  0.01     pcr  0.003838  438.722854\n",
      "2  2500  500    5  0.01     pls  0.996292    1.633246\n",
      "0  2500  500   50  0.01  linreg  0.997129    1.264277\n",
      "1  2500  500   50  0.01     pcr  0.111808  391.171146\n",
      "2  2500  500   50  0.01     pls  0.997129    1.264277\n",
      "0  2500  500  125  0.01  linreg  0.997129    1.264277\n",
      "1  2500  500  125  0.01     pcr  0.222474  342.432589\n",
      "2  2500  500  125  0.01     pls  0.997135    1.261869\n",
      "0  2500  500  250  0.01  linreg  0.997129    1.264277\n",
      "1  2500  500  250  0.01     pcr  0.483162  227.622211\n",
      "2  2500  500  250  0.01     pls  0.997122    1.267665\n",
      "0  1500  500    5  0.01  linreg  0.996514    1.534047\n",
      "1  1500  500    5  0.01     pcr  0.006974  437.019645\n",
      "2  1500  500    5  0.01     pls  0.989654    4.553054\n",
      "0  1500  500   50  0.01  linreg  0.996514    1.534047\n",
      "1  1500  500   50  0.01     pcr  0.116347  388.886010\n",
      "2  1500  500   50  0.01     pls  0.996514    1.534047\n",
      "0  1500  500  125  0.01  linreg  0.996514    1.534047\n",
      "1  1500  500  125  0.01     pcr  0.245016  332.260273\n",
      "2  1500  500  125  0.01     pls  0.996514    1.534047\n"
     ]
    },
    {
     "name": "stderr",
     "output_type": "stream",
     "text": [
      "  0%|          | 0/5 [01:32<?, ?it/s, N=500, linreg=0.995, pcr=0.00747, pls=0.967, rho=0.01]"
     ]
    },
    {
     "name": "stdout",
     "output_type": "stream",
     "text": [
      "      M    N    n   rho   model        R2         MSE\n",
      "0  5000  500    5  0.01  linreg  0.997495    1.101917\n",
      "1  5000  500    5  0.01     pcr  0.024885  428.943009\n",
      "2  5000  500    5  0.01     pls  0.997442    1.125453\n",
      "0  5000  500   50  0.01  linreg  0.997495    1.101917\n",
      "1  5000  500   50  0.01     pcr  0.095849  397.726742\n",
      "2  5000  500   50  0.01     pls  0.997495    1.101917\n",
      "0  5000  500  125  0.01  linreg  0.997495    1.101917\n",
      "1  5000  500  125  0.01     pcr  0.267269  322.320777\n",
      "2  5000  500  125  0.01     pls  0.997495    1.101917\n",
      "0  5000  500  250  0.01  linreg  0.997495    1.101917\n",
      "1  5000  500  250  0.01     pcr  0.509376  215.820317\n",
      "2  5000  500  250  0.01     pls  0.997493    1.102957\n",
      "0  2500  500    5  0.01  linreg  0.997129    1.264277\n",
      "1  2500  500    5  0.01     pcr  0.003838  438.722854\n",
      "2  2500  500    5  0.01     pls  0.996292    1.633246\n",
      "0  2500  500   50  0.01  linreg  0.997129    1.264277\n",
      "1  2500  500   50  0.01     pcr  0.111808  391.171146\n",
      "2  2500  500   50  0.01     pls  0.997129    1.264277\n",
      "0  2500  500  125  0.01  linreg  0.997129    1.264277\n",
      "1  2500  500  125  0.01     pcr  0.222474  342.432589\n",
      "2  2500  500  125  0.01     pls  0.997135    1.261869\n",
      "0  2500  500  250  0.01  linreg  0.997129    1.264277\n",
      "1  2500  500  250  0.01     pcr  0.483162  227.622211\n",
      "2  2500  500  250  0.01     pls  0.997122    1.267665\n",
      "0  1500  500    5  0.01  linreg  0.996514    1.534047\n",
      "1  1500  500    5  0.01     pcr  0.006974  437.019645\n",
      "2  1500  500    5  0.01     pls  0.989654    4.553054\n",
      "0  1500  500   50  0.01  linreg  0.996514    1.534047\n",
      "1  1500  500   50  0.01     pcr  0.116347  388.886010\n",
      "2  1500  500   50  0.01     pls  0.996514    1.534047\n",
      "0  1500  500  125  0.01  linreg  0.996514    1.534047\n",
      "1  1500  500  125  0.01     pcr  0.245016  332.260273\n",
      "2  1500  500  125  0.01     pls  0.996514    1.534047\n",
      "0  1500  500  250  0.01  linreg  0.996514    1.534047\n",
      "1  1500  500  250  0.01     pcr  0.505026  217.832610\n",
      "2  1500  500  250  0.01     pls  0.996476    1.550852\n"
     ]
    },
    {
     "name": "stderr",
     "output_type": "stream",
     "text": [
      "  0%|          | 0/5 [01:39<?, ?it/s, N=500, linreg=0.995, pcr=0.107, pls=0.995, rho=0.01]  "
     ]
    },
    {
     "name": "stdout",
     "output_type": "stream",
     "text": [
      "      M    N    n   rho   model        R2         MSE\n",
      "0  5000  500    5  0.01  linreg  0.997495    1.101917\n",
      "1  5000  500    5  0.01     pcr  0.024885  428.943009\n",
      "2  5000  500    5  0.01     pls  0.997442    1.125453\n",
      "0  5000  500   50  0.01  linreg  0.997495    1.101917\n",
      "1  5000  500   50  0.01     pcr  0.095849  397.726742\n",
      "2  5000  500   50  0.01     pls  0.997495    1.101917\n",
      "0  5000  500  125  0.01  linreg  0.997495    1.101917\n",
      "1  5000  500  125  0.01     pcr  0.267269  322.320777\n",
      "2  5000  500  125  0.01     pls  0.997495    1.101917\n",
      "0  5000  500  250  0.01  linreg  0.997495    1.101917\n",
      "1  5000  500  250  0.01     pcr  0.509376  215.820317\n",
      "2  5000  500  250  0.01     pls  0.997493    1.102957\n",
      "0  2500  500    5  0.01  linreg  0.997129    1.264277\n",
      "1  2500  500    5  0.01     pcr  0.003838  438.722854\n",
      "2  2500  500    5  0.01     pls  0.996292    1.633246\n",
      "0  2500  500   50  0.01  linreg  0.997129    1.264277\n",
      "1  2500  500   50  0.01     pcr  0.111808  391.171146\n",
      "2  2500  500   50  0.01     pls  0.997129    1.264277\n",
      "0  2500  500  125  0.01  linreg  0.997129    1.264277\n",
      "1  2500  500  125  0.01     pcr  0.222474  342.432589\n",
      "2  2500  500  125  0.01     pls  0.997135    1.261869\n",
      "0  2500  500  250  0.01  linreg  0.997129    1.264277\n",
      "1  2500  500  250  0.01     pcr  0.483162  227.622211\n",
      "2  2500  500  250  0.01     pls  0.997122    1.267665\n",
      "0  1500  500    5  0.01  linreg  0.996514    1.534047\n",
      "1  1500  500    5  0.01     pcr  0.006974  437.019645\n",
      "2  1500  500    5  0.01     pls  0.989654    4.553054\n",
      "0  1500  500   50  0.01  linreg  0.996514    1.534047\n",
      "1  1500  500   50  0.01     pcr  0.116347  388.886010\n",
      "2  1500  500   50  0.01     pls  0.996514    1.534047\n",
      "0  1500  500  125  0.01  linreg  0.996514    1.534047\n",
      "1  1500  500  125  0.01     pcr  0.245016  332.260273\n",
      "2  1500  500  125  0.01     pls  0.996514    1.534047\n",
      "0  1500  500  250  0.01  linreg  0.996514    1.534047\n",
      "1  1500  500  250  0.01     pcr  0.505026  217.832610\n",
      "2  1500  500  250  0.01     pls  0.996476    1.550852\n",
      "0  1000  500    5  0.01  linreg  0.995103    2.155275\n",
      "1  1000  500    5  0.01     pcr  0.007470  436.792422\n",
      "2  1000  500    5  0.01     pls  0.967470   14.315627\n"
     ]
    },
    {
     "name": "stderr",
     "output_type": "stream",
     "text": [
      "  0%|          | 0/5 [01:46<?, ?it/s, N=500, linreg=0.995, pcr=0.249, pls=0.995, rho=0.01]"
     ]
    },
    {
     "name": "stdout",
     "output_type": "stream",
     "text": [
      "      M    N    n   rho   model        R2         MSE\n",
      "0  5000  500    5  0.01  linreg  0.997495    1.101917\n",
      "1  5000  500    5  0.01     pcr  0.024885  428.943009\n",
      "2  5000  500    5  0.01     pls  0.997442    1.125453\n",
      "0  5000  500   50  0.01  linreg  0.997495    1.101917\n",
      "1  5000  500   50  0.01     pcr  0.095849  397.726742\n",
      "2  5000  500   50  0.01     pls  0.997495    1.101917\n",
      "0  5000  500  125  0.01  linreg  0.997495    1.101917\n",
      "1  5000  500  125  0.01     pcr  0.267269  322.320777\n",
      "2  5000  500  125  0.01     pls  0.997495    1.101917\n",
      "0  5000  500  250  0.01  linreg  0.997495    1.101917\n",
      "1  5000  500  250  0.01     pcr  0.509376  215.820317\n",
      "2  5000  500  250  0.01     pls  0.997493    1.102957\n",
      "0  2500  500    5  0.01  linreg  0.997129    1.264277\n",
      "1  2500  500    5  0.01     pcr  0.003838  438.722854\n",
      "2  2500  500    5  0.01     pls  0.996292    1.633246\n",
      "0  2500  500   50  0.01  linreg  0.997129    1.264277\n",
      "1  2500  500   50  0.01     pcr  0.111808  391.171146\n",
      "2  2500  500   50  0.01     pls  0.997129    1.264277\n",
      "0  2500  500  125  0.01  linreg  0.997129    1.264277\n",
      "1  2500  500  125  0.01     pcr  0.222474  342.432589\n",
      "2  2500  500  125  0.01     pls  0.997135    1.261869\n",
      "0  2500  500  250  0.01  linreg  0.997129    1.264277\n",
      "1  2500  500  250  0.01     pcr  0.483162  227.622211\n",
      "2  2500  500  250  0.01     pls  0.997122    1.267665\n",
      "0  1500  500    5  0.01  linreg  0.996514    1.534047\n",
      "1  1500  500    5  0.01     pcr  0.006974  437.019645\n",
      "2  1500  500    5  0.01     pls  0.989654    4.553054\n",
      "0  1500  500   50  0.01  linreg  0.996514    1.534047\n",
      "1  1500  500   50  0.01     pcr  0.116347  388.886010\n",
      "2  1500  500   50  0.01     pls  0.996514    1.534047\n",
      "0  1500  500  125  0.01  linreg  0.996514    1.534047\n",
      "1  1500  500  125  0.01     pcr  0.245016  332.260273\n",
      "2  1500  500  125  0.01     pls  0.996514    1.534047\n",
      "0  1500  500  250  0.01  linreg  0.996514    1.534047\n",
      "1  1500  500  250  0.01     pcr  0.505026  217.832610\n",
      "2  1500  500  250  0.01     pls  0.996476    1.550852\n",
      "0  1000  500    5  0.01  linreg  0.995103    2.155275\n",
      "1  1000  500    5  0.01     pcr  0.007470  436.792422\n",
      "2  1000  500    5  0.01     pls  0.967470   14.315627\n",
      "0  1000  500   50  0.01  linreg  0.995103    2.155275\n",
      "1  1000  500   50  0.01     pcr  0.106907  393.032168\n",
      "2  1000  500   50  0.01     pls  0.995103    2.155275\n"
     ]
    },
    {
     "name": "stderr",
     "output_type": "stream",
     "text": [
      "  0%|          | 0/5 [01:54<?, ?it/s, N=500, linreg=0.995, pcr=0.534, pls=0.995, rho=0.01]"
     ]
    },
    {
     "name": "stdout",
     "output_type": "stream",
     "text": [
      "      M    N    n   rho   model        R2         MSE\n",
      "0  5000  500    5  0.01  linreg  0.997495    1.101917\n",
      "1  5000  500    5  0.01     pcr  0.024885  428.943009\n",
      "2  5000  500    5  0.01     pls  0.997442    1.125453\n",
      "0  5000  500   50  0.01  linreg  0.997495    1.101917\n",
      "1  5000  500   50  0.01     pcr  0.095849  397.726742\n",
      "2  5000  500   50  0.01     pls  0.997495    1.101917\n",
      "0  5000  500  125  0.01  linreg  0.997495    1.101917\n",
      "1  5000  500  125  0.01     pcr  0.267269  322.320777\n",
      "2  5000  500  125  0.01     pls  0.997495    1.101917\n",
      "0  5000  500  250  0.01  linreg  0.997495    1.101917\n",
      "1  5000  500  250  0.01     pcr  0.509376  215.820317\n",
      "2  5000  500  250  0.01     pls  0.997493    1.102957\n",
      "0  2500  500    5  0.01  linreg  0.997129    1.264277\n",
      "1  2500  500    5  0.01     pcr  0.003838  438.722854\n",
      "2  2500  500    5  0.01     pls  0.996292    1.633246\n",
      "0  2500  500   50  0.01  linreg  0.997129    1.264277\n",
      "1  2500  500   50  0.01     pcr  0.111808  391.171146\n",
      "2  2500  500   50  0.01     pls  0.997129    1.264277\n",
      "0  2500  500  125  0.01  linreg  0.997129    1.264277\n",
      "1  2500  500  125  0.01     pcr  0.222474  342.432589\n",
      "2  2500  500  125  0.01     pls  0.997135    1.261869\n",
      "0  2500  500  250  0.01  linreg  0.997129    1.264277\n",
      "1  2500  500  250  0.01     pcr  0.483162  227.622211\n",
      "2  2500  500  250  0.01     pls  0.997122    1.267665\n",
      "0  1500  500    5  0.01  linreg  0.996514    1.534047\n",
      "1  1500  500    5  0.01     pcr  0.006974  437.019645\n",
      "2  1500  500    5  0.01     pls  0.989654    4.553054\n",
      "0  1500  500   50  0.01  linreg  0.996514    1.534047\n",
      "1  1500  500   50  0.01     pcr  0.116347  388.886010\n",
      "2  1500  500   50  0.01     pls  0.996514    1.534047\n",
      "0  1500  500  125  0.01  linreg  0.996514    1.534047\n",
      "1  1500  500  125  0.01     pcr  0.245016  332.260273\n",
      "2  1500  500  125  0.01     pls  0.996514    1.534047\n",
      "0  1500  500  250  0.01  linreg  0.996514    1.534047\n",
      "1  1500  500  250  0.01     pcr  0.505026  217.832610\n",
      "2  1500  500  250  0.01     pls  0.996476    1.550852\n",
      "0  1000  500    5  0.01  linreg  0.995103    2.155275\n",
      "1  1000  500    5  0.01     pcr  0.007470  436.792422\n",
      "2  1000  500    5  0.01     pls  0.967470   14.315627\n",
      "0  1000  500   50  0.01  linreg  0.995103    2.155275\n",
      "1  1000  500   50  0.01     pcr  0.106907  393.032168\n",
      "2  1000  500   50  0.01     pls  0.995103    2.155275\n",
      "0  1000  500  125  0.01  linreg  0.995103    2.155275\n",
      "1  1000  500  125  0.01     pcr  0.248959  330.517928\n",
      "2  1000  500  125  0.01     pls  0.995103    2.155275\n"
     ]
    },
    {
     "name": "stderr",
     "output_type": "stream",
     "text": [
      "  0%|          | 0/5 [01:55<?, ?it/s, N=500, linreg=-15.2, pcr=0.0178, pls=0.807, rho=0.01]"
     ]
    },
    {
     "name": "stdout",
     "output_type": "stream",
     "text": [
      "      M    N    n   rho   model        R2         MSE\n",
      "0  5000  500    5  0.01  linreg  0.997495    1.101917\n",
      "1  5000  500    5  0.01     pcr  0.024885  428.943009\n",
      "2  5000  500    5  0.01     pls  0.997442    1.125453\n",
      "0  5000  500   50  0.01  linreg  0.997495    1.101917\n",
      "1  5000  500   50  0.01     pcr  0.095849  397.726742\n",
      "2  5000  500   50  0.01     pls  0.997495    1.101917\n",
      "0  5000  500  125  0.01  linreg  0.997495    1.101917\n",
      "1  5000  500  125  0.01     pcr  0.267269  322.320777\n",
      "2  5000  500  125  0.01     pls  0.997495    1.101917\n",
      "0  5000  500  250  0.01  linreg  0.997495    1.101917\n",
      "1  5000  500  250  0.01     pcr  0.509376  215.820317\n",
      "2  5000  500  250  0.01     pls  0.997493    1.102957\n",
      "0  2500  500    5  0.01  linreg  0.997129    1.264277\n",
      "1  2500  500    5  0.01     pcr  0.003838  438.722854\n",
      "2  2500  500    5  0.01     pls  0.996292    1.633246\n",
      "0  2500  500   50  0.01  linreg  0.997129    1.264277\n",
      "1  2500  500   50  0.01     pcr  0.111808  391.171146\n",
      "2  2500  500   50  0.01     pls  0.997129    1.264277\n",
      "0  2500  500  125  0.01  linreg  0.997129    1.264277\n",
      "1  2500  500  125  0.01     pcr  0.222474  342.432589\n",
      "2  2500  500  125  0.01     pls  0.997135    1.261869\n",
      "0  2500  500  250  0.01  linreg  0.997129    1.264277\n",
      "1  2500  500  250  0.01     pcr  0.483162  227.622211\n",
      "2  2500  500  250  0.01     pls  0.997122    1.267665\n",
      "0  1500  500    5  0.01  linreg  0.996514    1.534047\n",
      "1  1500  500    5  0.01     pcr  0.006974  437.019645\n",
      "2  1500  500    5  0.01     pls  0.989654    4.553054\n",
      "0  1500  500   50  0.01  linreg  0.996514    1.534047\n",
      "1  1500  500   50  0.01     pcr  0.116347  388.886010\n",
      "2  1500  500   50  0.01     pls  0.996514    1.534047\n",
      "0  1500  500  125  0.01  linreg  0.996514    1.534047\n",
      "1  1500  500  125  0.01     pcr  0.245016  332.260273\n",
      "2  1500  500  125  0.01     pls  0.996514    1.534047\n",
      "0  1500  500  250  0.01  linreg  0.996514    1.534047\n",
      "1  1500  500  250  0.01     pcr  0.505026  217.832610\n",
      "2  1500  500  250  0.01     pls  0.996476    1.550852\n",
      "0  1000  500    5  0.01  linreg  0.995103    2.155275\n",
      "1  1000  500    5  0.01     pcr  0.007470  436.792422\n",
      "2  1000  500    5  0.01     pls  0.967470   14.315627\n",
      "0  1000  500   50  0.01  linreg  0.995103    2.155275\n",
      "1  1000  500   50  0.01     pcr  0.106907  393.032168\n",
      "2  1000  500   50  0.01     pls  0.995103    2.155275\n",
      "0  1000  500  125  0.01  linreg  0.995103    2.155275\n",
      "1  1000  500  125  0.01     pcr  0.248959  330.517928\n",
      "2  1000  500  125  0.01     pls  0.995103    2.155275\n",
      "0  1000  500  250  0.01  linreg  0.995103    2.155275\n",
      "1  1000  500  250  0.01     pcr  0.534211  204.984514\n",
      "2  1000  500  250  0.01     pls  0.995107    2.153482\n"
     ]
    },
    {
     "name": "stderr",
     "output_type": "stream",
     "text": [
      "  0%|          | 0/5 [01:57<?, ?it/s, N=500, linreg=-15.2, pcr=0.111, pls=0.949, rho=0.01] "
     ]
    },
    {
     "name": "stdout",
     "output_type": "stream",
     "text": [
      "      M    N    n   rho   model         R2          MSE\n",
      "0  5000  500    5  0.01  linreg   0.997495     1.101917\n",
      "1  5000  500    5  0.01     pcr   0.024885   428.943009\n",
      "2  5000  500    5  0.01     pls   0.997442     1.125453\n",
      "0  5000  500   50  0.01  linreg   0.997495     1.101917\n",
      "1  5000  500   50  0.01     pcr   0.095849   397.726742\n",
      "2  5000  500   50  0.01     pls   0.997495     1.101917\n",
      "0  5000  500  125  0.01  linreg   0.997495     1.101917\n",
      "1  5000  500  125  0.01     pcr   0.267269   322.320777\n",
      "2  5000  500  125  0.01     pls   0.997495     1.101917\n",
      "0  5000  500  250  0.01  linreg   0.997495     1.101917\n",
      "1  5000  500  250  0.01     pcr   0.509376   215.820317\n",
      "2  5000  500  250  0.01     pls   0.997493     1.102957\n",
      "0  2500  500    5  0.01  linreg   0.997129     1.264277\n",
      "1  2500  500    5  0.01     pcr   0.003838   438.722854\n",
      "2  2500  500    5  0.01     pls   0.996292     1.633246\n",
      "0  2500  500   50  0.01  linreg   0.997129     1.264277\n",
      "1  2500  500   50  0.01     pcr   0.111808   391.171146\n",
      "2  2500  500   50  0.01     pls   0.997129     1.264277\n",
      "0  2500  500  125  0.01  linreg   0.997129     1.264277\n",
      "1  2500  500  125  0.01     pcr   0.222474   342.432589\n",
      "2  2500  500  125  0.01     pls   0.997135     1.261869\n",
      "0  2500  500  250  0.01  linreg   0.997129     1.264277\n",
      "1  2500  500  250  0.01     pcr   0.483162   227.622211\n",
      "2  2500  500  250  0.01     pls   0.997122     1.267665\n",
      "0  1500  500    5  0.01  linreg   0.996514     1.534047\n",
      "1  1500  500    5  0.01     pcr   0.006974   437.019645\n",
      "2  1500  500    5  0.01     pls   0.989654     4.553054\n",
      "0  1500  500   50  0.01  linreg   0.996514     1.534047\n",
      "1  1500  500   50  0.01     pcr   0.116347   388.886010\n",
      "2  1500  500   50  0.01     pls   0.996514     1.534047\n",
      "0  1500  500  125  0.01  linreg   0.996514     1.534047\n",
      "1  1500  500  125  0.01     pcr   0.245016   332.260273\n",
      "2  1500  500  125  0.01     pls   0.996514     1.534047\n",
      "0  1500  500  250  0.01  linreg   0.996514     1.534047\n",
      "1  1500  500  250  0.01     pcr   0.505026   217.832610\n",
      "2  1500  500  250  0.01     pls   0.996476     1.550852\n",
      "0  1000  500    5  0.01  linreg   0.995103     2.155275\n",
      "1  1000  500    5  0.01     pcr   0.007470   436.792422\n",
      "2  1000  500    5  0.01     pls   0.967470    14.315627\n",
      "0  1000  500   50  0.01  linreg   0.995103     2.155275\n",
      "1  1000  500   50  0.01     pcr   0.106907   393.032168\n",
      "2  1000  500   50  0.01     pls   0.995103     2.155275\n",
      "0  1000  500  125  0.01  linreg   0.995103     2.155275\n",
      "1  1000  500  125  0.01     pcr   0.248959   330.517928\n",
      "2  1000  500  125  0.01     pls   0.995103     2.155275\n",
      "0  1000  500  250  0.01  linreg   0.995103     2.155275\n",
      "1  1000  500  250  0.01     pcr   0.534211   204.984514\n",
      "2  1000  500  250  0.01     pls   0.995107     2.153482\n",
      "0   500  500    5  0.01  linreg -15.227532  7143.492584\n",
      "1   500  500    5  0.01     pcr   0.017844   432.353095\n",
      "2   500  500    5  0.01     pls   0.807365    84.799452\n"
     ]
    },
    {
     "name": "stderr",
     "output_type": "stream",
     "text": [
      "  0%|          | 0/5 [02:00<?, ?it/s, N=500, linreg=-15.2, pcr=0.234, pls=0.908, rho=0.01]"
     ]
    },
    {
     "name": "stdout",
     "output_type": "stream",
     "text": [
      "      M    N    n   rho   model         R2          MSE\n",
      "0  5000  500    5  0.01  linreg   0.997495     1.101917\n",
      "1  5000  500    5  0.01     pcr   0.024885   428.943009\n",
      "2  5000  500    5  0.01     pls   0.997442     1.125453\n",
      "0  5000  500   50  0.01  linreg   0.997495     1.101917\n",
      "1  5000  500   50  0.01     pcr   0.095849   397.726742\n",
      "2  5000  500   50  0.01     pls   0.997495     1.101917\n",
      "0  5000  500  125  0.01  linreg   0.997495     1.101917\n",
      "1  5000  500  125  0.01     pcr   0.267269   322.320777\n",
      "2  5000  500  125  0.01     pls   0.997495     1.101917\n",
      "0  5000  500  250  0.01  linreg   0.997495     1.101917\n",
      "1  5000  500  250  0.01     pcr   0.509376   215.820317\n",
      "2  5000  500  250  0.01     pls   0.997493     1.102957\n",
      "0  2500  500    5  0.01  linreg   0.997129     1.264277\n",
      "1  2500  500    5  0.01     pcr   0.003838   438.722854\n",
      "2  2500  500    5  0.01     pls   0.996292     1.633246\n",
      "0  2500  500   50  0.01  linreg   0.997129     1.264277\n",
      "1  2500  500   50  0.01     pcr   0.111808   391.171146\n",
      "2  2500  500   50  0.01     pls   0.997129     1.264277\n",
      "0  2500  500  125  0.01  linreg   0.997129     1.264277\n",
      "1  2500  500  125  0.01     pcr   0.222474   342.432589\n",
      "2  2500  500  125  0.01     pls   0.997135     1.261869\n",
      "0  2500  500  250  0.01  linreg   0.997129     1.264277\n",
      "1  2500  500  250  0.01     pcr   0.483162   227.622211\n",
      "2  2500  500  250  0.01     pls   0.997122     1.267665\n",
      "0  1500  500    5  0.01  linreg   0.996514     1.534047\n",
      "1  1500  500    5  0.01     pcr   0.006974   437.019645\n",
      "2  1500  500    5  0.01     pls   0.989654     4.553054\n",
      "0  1500  500   50  0.01  linreg   0.996514     1.534047\n",
      "1  1500  500   50  0.01     pcr   0.116347   388.886010\n",
      "2  1500  500   50  0.01     pls   0.996514     1.534047\n",
      "0  1500  500  125  0.01  linreg   0.996514     1.534047\n",
      "1  1500  500  125  0.01     pcr   0.245016   332.260273\n",
      "2  1500  500  125  0.01     pls   0.996514     1.534047\n",
      "0  1500  500  250  0.01  linreg   0.996514     1.534047\n",
      "1  1500  500  250  0.01     pcr   0.505026   217.832610\n",
      "2  1500  500  250  0.01     pls   0.996476     1.550852\n",
      "0  1000  500    5  0.01  linreg   0.995103     2.155275\n",
      "1  1000  500    5  0.01     pcr   0.007470   436.792422\n",
      "2  1000  500    5  0.01     pls   0.967470    14.315627\n",
      "0  1000  500   50  0.01  linreg   0.995103     2.155275\n",
      "1  1000  500   50  0.01     pcr   0.106907   393.032168\n",
      "2  1000  500   50  0.01     pls   0.995103     2.155275\n",
      "0  1000  500  125  0.01  linreg   0.995103     2.155275\n",
      "1  1000  500  125  0.01     pcr   0.248959   330.517928\n",
      "2  1000  500  125  0.01     pls   0.995103     2.155275\n",
      "0  1000  500  250  0.01  linreg   0.995103     2.155275\n",
      "1  1000  500  250  0.01     pcr   0.534211   204.984514\n",
      "2  1000  500  250  0.01     pls   0.995107     2.153482\n",
      "0   500  500    5  0.01  linreg -15.227532  7143.492584\n",
      "1   500  500    5  0.01     pcr   0.017844   432.353095\n",
      "2   500  500    5  0.01     pls   0.807365    84.799452\n",
      "0   500  500   50  0.01  linreg -15.227532  7143.492584\n",
      "1   500  500   50  0.01     pcr   0.111100   391.301164\n",
      "2   500  500   50  0.01     pls   0.948677    22.592601\n"
     ]
    },
    {
     "name": "stderr",
     "output_type": "stream",
     "text": [
      "  0%|          | 0/5 [02:03<?, ?it/s, N=500, linreg=-15.2, pcr=0.492, pls=0.818, rho=0.01]"
     ]
    },
    {
     "name": "stdout",
     "output_type": "stream",
     "text": [
      "      M    N    n   rho   model         R2          MSE\n",
      "0  5000  500    5  0.01  linreg   0.997495     1.101917\n",
      "1  5000  500    5  0.01     pcr   0.024885   428.943009\n",
      "2  5000  500    5  0.01     pls   0.997442     1.125453\n",
      "0  5000  500   50  0.01  linreg   0.997495     1.101917\n",
      "1  5000  500   50  0.01     pcr   0.095849   397.726742\n",
      "2  5000  500   50  0.01     pls   0.997495     1.101917\n",
      "0  5000  500  125  0.01  linreg   0.997495     1.101917\n",
      "1  5000  500  125  0.01     pcr   0.267269   322.320777\n",
      "2  5000  500  125  0.01     pls   0.997495     1.101917\n",
      "0  5000  500  250  0.01  linreg   0.997495     1.101917\n",
      "1  5000  500  250  0.01     pcr   0.509376   215.820317\n",
      "2  5000  500  250  0.01     pls   0.997493     1.102957\n",
      "0  2500  500    5  0.01  linreg   0.997129     1.264277\n",
      "1  2500  500    5  0.01     pcr   0.003838   438.722854\n",
      "2  2500  500    5  0.01     pls   0.996292     1.633246\n",
      "0  2500  500   50  0.01  linreg   0.997129     1.264277\n",
      "1  2500  500   50  0.01     pcr   0.111808   391.171146\n",
      "2  2500  500   50  0.01     pls   0.997129     1.264277\n",
      "0  2500  500  125  0.01  linreg   0.997129     1.264277\n",
      "1  2500  500  125  0.01     pcr   0.222474   342.432589\n",
      "2  2500  500  125  0.01     pls   0.997135     1.261869\n",
      "0  2500  500  250  0.01  linreg   0.997129     1.264277\n",
      "1  2500  500  250  0.01     pcr   0.483162   227.622211\n",
      "2  2500  500  250  0.01     pls   0.997122     1.267665\n",
      "0  1500  500    5  0.01  linreg   0.996514     1.534047\n",
      "1  1500  500    5  0.01     pcr   0.006974   437.019645\n",
      "2  1500  500    5  0.01     pls   0.989654     4.553054\n",
      "0  1500  500   50  0.01  linreg   0.996514     1.534047\n",
      "1  1500  500   50  0.01     pcr   0.116347   388.886010\n",
      "2  1500  500   50  0.01     pls   0.996514     1.534047\n",
      "0  1500  500  125  0.01  linreg   0.996514     1.534047\n",
      "1  1500  500  125  0.01     pcr   0.245016   332.260273\n",
      "2  1500  500  125  0.01     pls   0.996514     1.534047\n",
      "0  1500  500  250  0.01  linreg   0.996514     1.534047\n",
      "1  1500  500  250  0.01     pcr   0.505026   217.832610\n",
      "2  1500  500  250  0.01     pls   0.996476     1.550852\n",
      "0  1000  500    5  0.01  linreg   0.995103     2.155275\n",
      "1  1000  500    5  0.01     pcr   0.007470   436.792422\n",
      "2  1000  500    5  0.01     pls   0.967470    14.315627\n",
      "0  1000  500   50  0.01  linreg   0.995103     2.155275\n",
      "1  1000  500   50  0.01     pcr   0.106907   393.032168\n",
      "2  1000  500   50  0.01     pls   0.995103     2.155275\n",
      "0  1000  500  125  0.01  linreg   0.995103     2.155275\n",
      "1  1000  500  125  0.01     pcr   0.248959   330.517928\n",
      "2  1000  500  125  0.01     pls   0.995103     2.155275\n",
      "0  1000  500  250  0.01  linreg   0.995103     2.155275\n",
      "1  1000  500  250  0.01     pcr   0.534211   204.984514\n",
      "2  1000  500  250  0.01     pls   0.995107     2.153482\n",
      "0   500  500    5  0.01  linreg -15.227532  7143.492584\n",
      "1   500  500    5  0.01     pcr   0.017844   432.353095\n",
      "2   500  500    5  0.01     pls   0.807365    84.799452\n",
      "0   500  500   50  0.01  linreg -15.227532  7143.492584\n",
      "1   500  500   50  0.01     pcr   0.111100   391.301164\n",
      "2   500  500   50  0.01     pls   0.948677    22.592601\n",
      "0   500  500  125  0.01  linreg -15.227532  7143.492584\n",
      "1   500  500  125  0.01     pcr   0.234132   337.141332\n",
      "2   500  500  125  0.01     pls   0.907843    40.568216\n"
     ]
    },
    {
     "name": "stderr",
     "output_type": "stream",
     "text": [
      "  0%|          | 0/5 [02:09<?, ?it/s, N=500, linreg=0.998, pcr=0.0886, pls=0.998, rho=0.1]"
     ]
    },
    {
     "name": "stdout",
     "output_type": "stream",
     "text": [
      "      M    N    n   rho   model         R2          MSE\n",
      "0  5000  500    5  0.01  linreg   0.997495     1.101917\n",
      "1  5000  500    5  0.01     pcr   0.024885   428.943009\n",
      "2  5000  500    5  0.01     pls   0.997442     1.125453\n",
      "0  5000  500   50  0.01  linreg   0.997495     1.101917\n",
      "1  5000  500   50  0.01     pcr   0.095849   397.726742\n",
      "2  5000  500   50  0.01     pls   0.997495     1.101917\n",
      "0  5000  500  125  0.01  linreg   0.997495     1.101917\n",
      "1  5000  500  125  0.01     pcr   0.267269   322.320777\n",
      "2  5000  500  125  0.01     pls   0.997495     1.101917\n",
      "0  5000  500  250  0.01  linreg   0.997495     1.101917\n",
      "1  5000  500  250  0.01     pcr   0.509376   215.820317\n",
      "2  5000  500  250  0.01     pls   0.997493     1.102957\n",
      "0  2500  500    5  0.01  linreg   0.997129     1.264277\n",
      "1  2500  500    5  0.01     pcr   0.003838   438.722854\n",
      "2  2500  500    5  0.01     pls   0.996292     1.633246\n",
      "0  2500  500   50  0.01  linreg   0.997129     1.264277\n",
      "1  2500  500   50  0.01     pcr   0.111808   391.171146\n",
      "2  2500  500   50  0.01     pls   0.997129     1.264277\n",
      "0  2500  500  125  0.01  linreg   0.997129     1.264277\n",
      "1  2500  500  125  0.01     pcr   0.222474   342.432589\n",
      "2  2500  500  125  0.01     pls   0.997135     1.261869\n",
      "0  2500  500  250  0.01  linreg   0.997129     1.264277\n",
      "1  2500  500  250  0.01     pcr   0.483162   227.622211\n",
      "2  2500  500  250  0.01     pls   0.997122     1.267665\n",
      "0  1500  500    5  0.01  linreg   0.996514     1.534047\n",
      "1  1500  500    5  0.01     pcr   0.006974   437.019645\n",
      "2  1500  500    5  0.01     pls   0.989654     4.553054\n",
      "0  1500  500   50  0.01  linreg   0.996514     1.534047\n",
      "1  1500  500   50  0.01     pcr   0.116347   388.886010\n",
      "2  1500  500   50  0.01     pls   0.996514     1.534047\n",
      "0  1500  500  125  0.01  linreg   0.996514     1.534047\n",
      "1  1500  500  125  0.01     pcr   0.245016   332.260273\n",
      "2  1500  500  125  0.01     pls   0.996514     1.534047\n",
      "0  1500  500  250  0.01  linreg   0.996514     1.534047\n",
      "1  1500  500  250  0.01     pcr   0.505026   217.832610\n",
      "2  1500  500  250  0.01     pls   0.996476     1.550852\n",
      "0  1000  500    5  0.01  linreg   0.995103     2.155275\n",
      "1  1000  500    5  0.01     pcr   0.007470   436.792422\n",
      "2  1000  500    5  0.01     pls   0.967470    14.315627\n",
      "0  1000  500   50  0.01  linreg   0.995103     2.155275\n",
      "1  1000  500   50  0.01     pcr   0.106907   393.032168\n",
      "2  1000  500   50  0.01     pls   0.995103     2.155275\n",
      "0  1000  500  125  0.01  linreg   0.995103     2.155275\n",
      "1  1000  500  125  0.01     pcr   0.248959   330.517928\n",
      "2  1000  500  125  0.01     pls   0.995103     2.155275\n",
      "0  1000  500  250  0.01  linreg   0.995103     2.155275\n",
      "1  1000  500  250  0.01     pcr   0.534211   204.984514\n",
      "2  1000  500  250  0.01     pls   0.995107     2.153482\n",
      "0   500  500    5  0.01  linreg -15.227532  7143.492584\n",
      "1   500  500    5  0.01     pcr   0.017844   432.353095\n",
      "2   500  500    5  0.01     pls   0.807365    84.799452\n",
      "0   500  500   50  0.01  linreg -15.227532  7143.492584\n",
      "1   500  500   50  0.01     pcr   0.111100   391.301164\n",
      "2   500  500   50  0.01     pls   0.948677    22.592601\n",
      "0   500  500  125  0.01  linreg -15.227532  7143.492584\n",
      "1   500  500  125  0.01     pcr   0.234132   337.141332\n",
      "2   500  500  125  0.01     pls   0.907843    40.568216\n",
      "0   500  500  250  0.01  linreg -15.227532  7143.492584\n",
      "1   500  500  250  0.01     pcr   0.491736   223.741901\n",
      "2   500  500  250  0.01     pls   0.818137    80.057391\n"
     ]
    },
    {
     "name": "stderr",
     "output_type": "stream",
     "text": [
      "  0%|          | 0/5 [02:16<?, ?it/s, N=500, linreg=0.998, pcr=0.155, pls=0.998, rho=0.1] "
     ]
    },
    {
     "name": "stdout",
     "output_type": "stream",
     "text": [
      "       M    N    n   rho   model        R2         MSE\n",
      "0   5000  500    5  0.01  linreg  0.997495    1.101917\n",
      "1   5000  500    5  0.01     pcr  0.024885  428.943009\n",
      "2   5000  500    5  0.01     pls  0.997442    1.125453\n",
      "0   5000  500   50  0.01  linreg  0.997495    1.101917\n",
      "1   5000  500   50  0.01     pcr  0.095849  397.726742\n",
      "..   ...  ...  ...   ...     ...       ...         ...\n",
      "1    500  500  250  0.01     pcr  0.491736  223.741901\n",
      "2    500  500  250  0.01     pls  0.818137   80.057391\n",
      "0   5000  500    5  0.10  linreg  0.997863    1.105120\n",
      "1   5000  500    5  0.10     pcr  0.088628  471.285090\n",
      "2   5000  500    5  0.10     pls  0.997756    1.160416\n",
      "\n",
      "[63 rows x 7 columns]\n"
     ]
    },
    {
     "name": "stderr",
     "output_type": "stream",
     "text": [
      "  0%|          | 0/5 [02:24<?, ?it/s, N=500, linreg=0.998, pcr=0.284, pls=0.998, rho=0.1]"
     ]
    },
    {
     "name": "stdout",
     "output_type": "stream",
     "text": [
      "       M    N   n   rho   model        R2         MSE\n",
      "0   5000  500   5  0.01  linreg  0.997495    1.101917\n",
      "1   5000  500   5  0.01     pcr  0.024885  428.943009\n",
      "2   5000  500   5  0.01     pls  0.997442    1.125453\n",
      "0   5000  500  50  0.01  linreg  0.997495    1.101917\n",
      "1   5000  500  50  0.01     pcr  0.095849  397.726742\n",
      "..   ...  ...  ..   ...     ...       ...         ...\n",
      "1   5000  500   5  0.10     pcr  0.088628  471.285090\n",
      "2   5000  500   5  0.10     pls  0.997756    1.160416\n",
      "0   5000  500  50  0.10  linreg  0.997863    1.105120\n",
      "1   5000  500  50  0.10     pcr  0.154833  437.049316\n",
      "2   5000  500  50  0.10     pls  0.997863    1.105120\n",
      "\n",
      "[66 rows x 7 columns]\n"
     ]
    },
    {
     "name": "stderr",
     "output_type": "stream",
     "text": [
      "  0%|          | 0/5 [02:34<?, ?it/s, N=500, linreg=0.998, pcr=0.494, pls=0.998, rho=0.1]"
     ]
    },
    {
     "name": "stdout",
     "output_type": "stream",
     "text": [
      "       M    N    n   rho   model        R2         MSE\n",
      "0   5000  500    5  0.01  linreg  0.997495    1.101917\n",
      "1   5000  500    5  0.01     pcr  0.024885  428.943009\n",
      "2   5000  500    5  0.01     pls  0.997442    1.125453\n",
      "0   5000  500   50  0.01  linreg  0.997495    1.101917\n",
      "1   5000  500   50  0.01     pcr  0.095849  397.726742\n",
      "..   ...  ...  ...   ...     ...       ...         ...\n",
      "1   5000  500   50  0.10     pcr  0.154833  437.049316\n",
      "2   5000  500   50  0.10     pls  0.997863    1.105120\n",
      "0   5000  500  125  0.10  linreg  0.997863    1.105120\n",
      "1   5000  500  125  0.10     pcr  0.283534  370.495673\n",
      "2   5000  500  125  0.10     pls  0.997863    1.105120\n",
      "\n",
      "[69 rows x 7 columns]\n"
     ]
    },
    {
     "name": "stderr",
     "output_type": "stream",
     "text": [
      "  0%|          | 0/5 [02:38<?, ?it/s, N=500, linreg=0.998, pcr=0.0884, pls=0.996, rho=0.1]"
     ]
    },
    {
     "name": "stdout",
     "output_type": "stream",
     "text": [
      "       M    N    n   rho   model        R2         MSE\n",
      "0   5000  500    5  0.01  linreg  0.997495    1.101917\n",
      "1   5000  500    5  0.01     pcr  0.024885  428.943009\n",
      "2   5000  500    5  0.01     pls  0.997442    1.125453\n",
      "0   5000  500   50  0.01  linreg  0.997495    1.101917\n",
      "1   5000  500   50  0.01     pcr  0.095849  397.726742\n",
      "..   ...  ...  ...   ...     ...       ...         ...\n",
      "1   5000  500  125  0.10     pcr  0.283534  370.495673\n",
      "2   5000  500  125  0.10     pls  0.997863    1.105120\n",
      "0   5000  500  250  0.10  linreg  0.997863    1.105120\n",
      "1   5000  500  250  0.10     pcr  0.493598  261.868496\n",
      "2   5000  500  250  0.10     pls  0.997862    1.105691\n",
      "\n",
      "[72 rows x 7 columns]\n"
     ]
    },
    {
     "name": "stderr",
     "output_type": "stream",
     "text": [
      "  0%|          | 0/5 [02:45<?, ?it/s, N=500, linreg=0.998, pcr=0.169, pls=0.998, rho=0.1] "
     ]
    },
    {
     "name": "stdout",
     "output_type": "stream",
     "text": [
      "       M    N    n   rho   model        R2         MSE\n",
      "0   5000  500    5  0.01  linreg  0.997495    1.101917\n",
      "1   5000  500    5  0.01     pcr  0.024885  428.943009\n",
      "2   5000  500    5  0.01     pls  0.997442    1.125453\n",
      "0   5000  500   50  0.01  linreg  0.997495    1.101917\n",
      "1   5000  500   50  0.01     pcr  0.095849  397.726742\n",
      "..   ...  ...  ...   ...     ...       ...         ...\n",
      "1   5000  500  250  0.10     pcr  0.493598  261.868496\n",
      "2   5000  500  250  0.10     pls  0.997862    1.105691\n",
      "0   2500  500    5  0.10  linreg  0.997599    1.239218\n",
      "1   2500  500    5  0.10     pcr  0.088398  470.584849\n",
      "2   2500  500    5  0.10     pls  0.996459    1.827987\n",
      "\n",
      "[75 rows x 7 columns]\n"
     ]
    },
    {
     "name": "stderr",
     "output_type": "stream",
     "text": [
      "  0%|          | 0/5 [02:52<?, ?it/s, N=500, linreg=0.998, pcr=0.304, pls=0.998, rho=0.1]"
     ]
    },
    {
     "name": "stdout",
     "output_type": "stream",
     "text": [
      "       M    N   n   rho   model        R2         MSE\n",
      "0   5000  500   5  0.01  linreg  0.997495    1.101917\n",
      "1   5000  500   5  0.01     pcr  0.024885  428.943009\n",
      "2   5000  500   5  0.01     pls  0.997442    1.125453\n",
      "0   5000  500  50  0.01  linreg  0.997495    1.101917\n",
      "1   5000  500  50  0.01     pcr  0.095849  397.726742\n",
      "..   ...  ...  ..   ...     ...       ...         ...\n",
      "1   2500  500   5  0.10     pcr  0.088398  470.584849\n",
      "2   2500  500   5  0.10     pls  0.996459    1.827987\n",
      "0   2500  500  50  0.10  linreg  0.997599    1.239218\n",
      "1   2500  500  50  0.10     pcr  0.168784  429.088075\n",
      "2   2500  500  50  0.10     pls  0.997599    1.239218\n",
      "\n",
      "[78 rows x 7 columns]\n"
     ]
    },
    {
     "name": "stderr",
     "output_type": "stream",
     "text": [
      "  0%|          | 0/5 [03:01<?, ?it/s, N=500, linreg=0.998, pcr=0.524, pls=0.998, rho=0.1]"
     ]
    },
    {
     "name": "stdout",
     "output_type": "stream",
     "text": [
      "       M    N    n   rho   model        R2         MSE\n",
      "0   5000  500    5  0.01  linreg  0.997495    1.101917\n",
      "1   5000  500    5  0.01     pcr  0.024885  428.943009\n",
      "2   5000  500    5  0.01     pls  0.997442    1.125453\n",
      "0   5000  500   50  0.01  linreg  0.997495    1.101917\n",
      "1   5000  500   50  0.01     pcr  0.095849  397.726742\n",
      "..   ...  ...  ...   ...     ...       ...         ...\n",
      "1   2500  500   50  0.10     pcr  0.168784  429.088075\n",
      "2   2500  500   50  0.10     pls  0.997599    1.239218\n",
      "0   2500  500  125  0.10  linreg  0.997599    1.239218\n",
      "1   2500  500  125  0.10     pcr  0.303813  359.383968\n",
      "2   2500  500  125  0.10     pls  0.997608    1.234966\n",
      "\n",
      "[81 rows x 7 columns]\n"
     ]
    },
    {
     "name": "stderr",
     "output_type": "stream",
     "text": [
      "  0%|          | 0/5 [03:04<?, ?it/s, N=500, linreg=0.997, pcr=0.0886, pls=0.988, rho=0.1]"
     ]
    },
    {
     "name": "stdout",
     "output_type": "stream",
     "text": [
      "       M    N    n   rho   model        R2         MSE\n",
      "0   5000  500    5  0.01  linreg  0.997495    1.101917\n",
      "1   5000  500    5  0.01     pcr  0.024885  428.943009\n",
      "2   5000  500    5  0.01     pls  0.997442    1.125453\n",
      "0   5000  500   50  0.01  linreg  0.997495    1.101917\n",
      "1   5000  500   50  0.01     pcr  0.095849  397.726742\n",
      "..   ...  ...  ...   ...     ...       ...         ...\n",
      "1   2500  500  125  0.10     pcr  0.303813  359.383968\n",
      "2   2500  500  125  0.10     pls  0.997608    1.234966\n",
      "0   2500  500  250  0.10  linreg  0.997599    1.239218\n",
      "1   2500  500  250  0.10     pcr  0.524362  245.532661\n",
      "2   2500  500  250  0.10     pls  0.997603    1.237399\n",
      "\n",
      "[84 rows x 7 columns]\n"
     ]
    },
    {
     "name": "stderr",
     "output_type": "stream",
     "text": [
      "  0%|          | 0/5 [03:10<?, ?it/s, N=500, linreg=0.997, pcr=0.157, pls=0.997, rho=0.1] "
     ]
    },
    {
     "name": "stdout",
     "output_type": "stream",
     "text": [
      "       M    N    n   rho   model        R2         MSE\n",
      "0   5000  500    5  0.01  linreg  0.997495    1.101917\n",
      "1   5000  500    5  0.01     pcr  0.024885  428.943009\n",
      "2   5000  500    5  0.01     pls  0.997442    1.125453\n",
      "0   5000  500   50  0.01  linreg  0.997495    1.101917\n",
      "1   5000  500   50  0.01     pcr  0.095849  397.726742\n",
      "..   ...  ...  ...   ...     ...       ...         ...\n",
      "1   2500  500  250  0.10     pcr  0.524362  245.532661\n",
      "2   2500  500  250  0.10     pls  0.997603    1.237399\n",
      "0   1500  500    5  0.10  linreg  0.997128    1.483018\n",
      "1   1500  500    5  0.10     pcr  0.088596  470.679859\n",
      "2   1500  500    5  0.10     pls  0.988243    6.071604\n",
      "\n",
      "[87 rows x 7 columns]\n"
     ]
    },
    {
     "name": "stderr",
     "output_type": "stream",
     "text": [
      "  0%|          | 0/5 [03:18<?, ?it/s, N=500, linreg=0.997, pcr=0.309, pls=0.997, rho=0.1]"
     ]
    },
    {
     "name": "stdout",
     "output_type": "stream",
     "text": [
      "       M    N   n   rho   model        R2         MSE\n",
      "0   5000  500   5  0.01  linreg  0.997495    1.101917\n",
      "1   5000  500   5  0.01     pcr  0.024885  428.943009\n",
      "2   5000  500   5  0.01     pls  0.997442    1.125453\n",
      "0   5000  500  50  0.01  linreg  0.997495    1.101917\n",
      "1   5000  500  50  0.01     pcr  0.095849  397.726742\n",
      "..   ...  ...  ..   ...     ...       ...         ...\n",
      "1   1500  500   5  0.10     pcr  0.088596  470.679859\n",
      "2   1500  500   5  0.10     pls  0.988243    6.071604\n",
      "0   1500  500  50  0.10  linreg  0.997128    1.483018\n",
      "1   1500  500  50  0.10     pcr  0.157425  435.134233\n",
      "2   1500  500  50  0.10     pls  0.997128    1.483018\n",
      "\n",
      "[90 rows x 7 columns]\n"
     ]
    },
    {
     "name": "stderr",
     "output_type": "stream",
     "text": [
      "  0%|          | 0/5 [03:26<?, ?it/s, N=500, linreg=0.997, pcr=0.526, pls=0.997, rho=0.1]"
     ]
    },
    {
     "name": "stdout",
     "output_type": "stream",
     "text": [
      "       M    N    n   rho   model        R2         MSE\n",
      "0   5000  500    5  0.01  linreg  0.997495    1.101917\n",
      "1   5000  500    5  0.01     pcr  0.024885  428.943009\n",
      "2   5000  500    5  0.01     pls  0.997442    1.125453\n",
      "0   5000  500   50  0.01  linreg  0.997495    1.101917\n",
      "1   5000  500   50  0.01     pcr  0.095849  397.726742\n",
      "..   ...  ...  ...   ...     ...       ...         ...\n",
      "1   1500  500   50  0.10     pcr  0.157425  435.134233\n",
      "2   1500  500   50  0.10     pls  0.997128    1.483018\n",
      "0   1500  500  125  0.10  linreg  0.997128    1.483018\n",
      "1   1500  500  125  0.10     pcr  0.309105  356.801426\n",
      "2   1500  500  125  0.10     pls  0.997128    1.483019\n",
      "\n",
      "[93 rows x 7 columns]\n"
     ]
    },
    {
     "name": "stderr",
     "output_type": "stream",
     "text": [
      "  0%|          | 0/5 [03:29<?, ?it/s, N=500, linreg=0.996, pcr=0.0903, pls=0.958, rho=0.1]"
     ]
    },
    {
     "name": "stdout",
     "output_type": "stream",
     "text": [
      "       M    N    n   rho   model        R2         MSE\n",
      "0   5000  500    5  0.01  linreg  0.997495    1.101917\n",
      "1   5000  500    5  0.01     pcr  0.024885  428.943009\n",
      "2   5000  500    5  0.01     pls  0.997442    1.125453\n",
      "0   5000  500   50  0.01  linreg  0.997495    1.101917\n",
      "1   5000  500   50  0.01     pcr  0.095849  397.726742\n",
      "..   ...  ...  ...   ...     ...       ...         ...\n",
      "1   1500  500  125  0.10     pcr  0.309105  356.801426\n",
      "2   1500  500  125  0.10     pls  0.997128    1.483019\n",
      "0   1500  500  250  0.10  linreg  0.997128    1.483018\n",
      "1   1500  500  250  0.10     pcr  0.525599  244.996568\n",
      "2   1500  500  250  0.10     pls  0.997129    1.482778\n",
      "\n",
      "[96 rows x 7 columns]\n"
     ]
    },
    {
     "name": "stderr",
     "output_type": "stream",
     "text": [
      "  0%|          | 0/5 [03:35<?, ?it/s, N=500, linreg=0.996, pcr=0.157, pls=0.996, rho=0.1] "
     ]
    },
    {
     "name": "stdout",
     "output_type": "stream",
     "text": [
      "       M    N    n   rho   model        R2         MSE\n",
      "0   5000  500    5  0.01  linreg  0.997495    1.101917\n",
      "1   5000  500    5  0.01     pcr  0.024885  428.943009\n",
      "2   5000  500    5  0.01     pls  0.997442    1.125453\n",
      "0   5000  500   50  0.01  linreg  0.997495    1.101917\n",
      "1   5000  500   50  0.01     pcr  0.095849  397.726742\n",
      "..   ...  ...  ...   ...     ...       ...         ...\n",
      "1   1500  500  250  0.10     pcr  0.525599  244.996568\n",
      "2   1500  500  250  0.10     pls  0.997129    1.482778\n",
      "0   1000  500    5  0.10  linreg  0.996130    1.998441\n",
      "1   1000  500    5  0.10     pcr  0.090265  469.773474\n",
      "2   1000  500    5  0.10     pls  0.957568   21.911102\n",
      "\n",
      "[99 rows x 7 columns]\n"
     ]
    },
    {
     "name": "stderr",
     "output_type": "stream",
     "text": [
      "  0%|          | 0/5 [03:42<?, ?it/s, N=500, linreg=0.996, pcr=0.277, pls=0.996, rho=0.1]"
     ]
    },
    {
     "name": "stdout",
     "output_type": "stream",
     "text": [
      "       M    N   n   rho   model        R2         MSE\n",
      "0   5000  500   5  0.01  linreg  0.997495    1.101917\n",
      "1   5000  500   5  0.01     pcr  0.024885  428.943009\n",
      "2   5000  500   5  0.01     pls  0.997442    1.125453\n",
      "0   5000  500  50  0.01  linreg  0.997495    1.101917\n",
      "1   5000  500  50  0.01     pcr  0.095849  397.726742\n",
      "..   ...  ...  ..   ...     ...       ...         ...\n",
      "1   1000  500   5  0.10     pcr  0.090265  469.773474\n",
      "2   1000  500   5  0.10     pls  0.957568   21.911102\n",
      "0   1000  500  50  0.10  linreg  0.996130    1.998441\n",
      "1   1000  500  50  0.10     pcr  0.157314  435.150479\n",
      "2   1000  500  50  0.10     pls  0.996130    1.998441\n",
      "\n",
      "[102 rows x 7 columns]\n"
     ]
    },
    {
     "name": "stderr",
     "output_type": "stream",
     "text": [
      "  0%|          | 0/5 [03:50<?, ?it/s, N=500, linreg=0.996, pcr=0.538, pls=0.996, rho=0.1]"
     ]
    },
    {
     "name": "stdout",
     "output_type": "stream",
     "text": [
      "       M    N    n   rho   model        R2         MSE\n",
      "0   5000  500    5  0.01  linreg  0.997495    1.101917\n",
      "1   5000  500    5  0.01     pcr  0.024885  428.943009\n",
      "2   5000  500    5  0.01     pls  0.997442    1.125453\n",
      "0   5000  500   50  0.01  linreg  0.997495    1.101917\n",
      "1   5000  500   50  0.01     pcr  0.095849  397.726742\n",
      "..   ...  ...  ...   ...     ...       ...         ...\n",
      "1   1000  500   50  0.10     pcr  0.157314  435.150479\n",
      "2   1000  500   50  0.10     pls  0.996130    1.998441\n",
      "0   1000  500  125  0.10  linreg  0.996130    1.998441\n",
      "1   1000  500  125  0.10     pcr  0.276528  373.590236\n",
      "2   1000  500  125  0.10     pls  0.996130    1.998441\n",
      "\n",
      "[105 rows x 7 columns]\n"
     ]
    },
    {
     "name": "stderr",
     "output_type": "stream",
     "text": [
      "  0%|          | 0/5 [03:51<?, ?it/s, N=500, linreg=0.56, pcr=0.0725, pls=0.781, rho=0.1]"
     ]
    },
    {
     "name": "stdout",
     "output_type": "stream",
     "text": [
      "       M    N    n   rho   model        R2         MSE\n",
      "0   5000  500    5  0.01  linreg  0.997495    1.101917\n",
      "1   5000  500    5  0.01     pcr  0.024885  428.943009\n",
      "2   5000  500    5  0.01     pls  0.997442    1.125453\n",
      "0   5000  500   50  0.01  linreg  0.997495    1.101917\n",
      "1   5000  500   50  0.01     pcr  0.095849  397.726742\n",
      "..   ...  ...  ...   ...     ...       ...         ...\n",
      "1   1000  500  125  0.10     pcr  0.276528  373.590236\n",
      "2   1000  500  125  0.10     pls  0.996130    1.998441\n",
      "0   1000  500  250  0.10  linreg  0.996130    1.998441\n",
      "1   1000  500  250  0.10     pcr  0.538280  238.425142\n",
      "2   1000  500  250  0.10     pls  0.996137    1.994734\n",
      "\n",
      "[108 rows x 7 columns]\n"
     ]
    },
    {
     "name": "stderr",
     "output_type": "stream",
     "text": [
      "  0%|          | 0/5 [03:53<?, ?it/s, N=500, linreg=0.56, pcr=0.168, pls=0.952, rho=0.1] "
     ]
    },
    {
     "name": "stdout",
     "output_type": "stream",
     "text": [
      "       M    N    n   rho   model        R2         MSE\n",
      "0   5000  500    5  0.01  linreg  0.997495    1.101917\n",
      "1   5000  500    5  0.01     pcr  0.024885  428.943009\n",
      "2   5000  500    5  0.01     pls  0.997442    1.125453\n",
      "0   5000  500   50  0.01  linreg  0.997495    1.101917\n",
      "1   5000  500   50  0.01     pcr  0.095849  397.726742\n",
      "..   ...  ...  ...   ...     ...       ...         ...\n",
      "1   1000  500  250  0.10     pcr  0.538280  238.425142\n",
      "2   1000  500  250  0.10     pls  0.996137    1.994734\n",
      "0    500  500    5  0.10  linreg  0.559761  227.397502\n",
      "1    500  500    5  0.10     pcr  0.072487  479.090481\n",
      "2    500  500    5  0.10     pls  0.780537  113.359696\n",
      "\n",
      "[111 rows x 7 columns]\n"
     ]
    },
    {
     "name": "stderr",
     "output_type": "stream",
     "text": [
      "  0%|          | 0/5 [03:56<?, ?it/s, N=500, linreg=0.56, pcr=0.256, pls=0.923, rho=0.1]"
     ]
    },
    {
     "name": "stdout",
     "output_type": "stream",
     "text": [
      "       M    N   n   rho   model        R2         MSE\n",
      "0   5000  500   5  0.01  linreg  0.997495    1.101917\n",
      "1   5000  500   5  0.01     pcr  0.024885  428.943009\n",
      "2   5000  500   5  0.01     pls  0.997442    1.125453\n",
      "0   5000  500  50  0.01  linreg  0.997495    1.101917\n",
      "1   5000  500  50  0.01     pcr  0.095849  397.726742\n",
      "..   ...  ...  ..   ...     ...       ...         ...\n",
      "1    500  500   5  0.10     pcr  0.072487  479.090481\n",
      "2    500  500   5  0.10     pls  0.780537  113.359696\n",
      "0    500  500  50  0.10  linreg  0.559761  227.397502\n",
      "1    500  500  50  0.10     pcr  0.167577  429.973327\n",
      "2    500  500  50  0.10     pls  0.951755   24.920172\n",
      "\n",
      "[114 rows x 7 columns]\n"
     ]
    },
    {
     "name": "stderr",
     "output_type": "stream",
     "text": [
      "  0%|          | 0/5 [03:59<?, ?it/s, N=500, linreg=0.56, pcr=0.506, pls=0.879, rho=0.1]"
     ]
    },
    {
     "name": "stdout",
     "output_type": "stream",
     "text": [
      "       M    N    n   rho   model        R2         MSE\n",
      "0   5000  500    5  0.01  linreg  0.997495    1.101917\n",
      "1   5000  500    5  0.01     pcr  0.024885  428.943009\n",
      "2   5000  500    5  0.01     pls  0.997442    1.125453\n",
      "0   5000  500   50  0.01  linreg  0.997495    1.101917\n",
      "1   5000  500   50  0.01     pcr  0.095849  397.726742\n",
      "..   ...  ...  ...   ...     ...       ...         ...\n",
      "1    500  500   50  0.10     pcr  0.167577  429.973327\n",
      "2    500  500   50  0.10     pls  0.951755   24.920172\n",
      "0    500  500  125  0.10  linreg  0.559761  227.397502\n",
      "1    500  500  125  0.10     pcr  0.256291  384.149601\n",
      "2    500  500  125  0.10     pls  0.922638   39.960102\n",
      "\n",
      "[117 rows x 7 columns]\n"
     ]
    },
    {
     "name": "stderr",
     "output_type": "stream",
     "text": [
      "  0%|          | 0/5 [04:04<?, ?it/s, N=500, linreg=0.998, pcr=0.298, pls=0.998, rho=0.2]"
     ]
    },
    {
     "name": "stdout",
     "output_type": "stream",
     "text": [
      "       M    N    n   rho   model        R2         MSE\n",
      "0   5000  500    5  0.01  linreg  0.997495    1.101917\n",
      "1   5000  500    5  0.01     pcr  0.024885  428.943009\n",
      "2   5000  500    5  0.01     pls  0.997442    1.125453\n",
      "0   5000  500   50  0.01  linreg  0.997495    1.101917\n",
      "1   5000  500   50  0.01     pcr  0.095849  397.726742\n",
      "..   ...  ...  ...   ...     ...       ...         ...\n",
      "1    500  500  125  0.10     pcr  0.256291  384.149601\n",
      "2    500  500  125  0.10     pls  0.922638   39.960102\n",
      "0    500  500  250  0.10  linreg  0.559761  227.397502\n",
      "1    500  500  250  0.10     pcr  0.506444  254.937696\n",
      "2    500  500  250  0.10     pls  0.879304   62.343357\n",
      "\n",
      "[120 rows x 7 columns]\n"
     ]
    },
    {
     "name": "stderr",
     "output_type": "stream",
     "text": [
      "  0%|          | 0/5 [04:11<?, ?it/s, N=500, linreg=0.998, pcr=0.346, pls=0.998, rho=0.2]"
     ]
    },
    {
     "name": "stdout",
     "output_type": "stream",
     "text": [
      "       M    N    n   rho   model        R2         MSE\n",
      "0   5000  500    5  0.01  linreg  0.997495    1.101917\n",
      "1   5000  500    5  0.01     pcr  0.024885  428.943009\n",
      "2   5000  500    5  0.01     pls  0.997442    1.125453\n",
      "0   5000  500   50  0.01  linreg  0.997495    1.101917\n",
      "1   5000  500   50  0.01     pcr  0.095849  397.726742\n",
      "..   ...  ...  ...   ...     ...       ...         ...\n",
      "1    500  500  250  0.10     pcr  0.506444  254.937696\n",
      "2    500  500  250  0.10     pls  0.879304   62.343357\n",
      "0   5000  500    5  0.20  linreg  0.998148    1.115038\n",
      "1   5000  500    5  0.20     pcr  0.298373  422.510103\n",
      "2   5000  500    5  0.20     pls  0.998092    1.149187\n",
      "\n",
      "[123 rows x 7 columns]\n"
     ]
    },
    {
     "name": "stderr",
     "output_type": "stream",
     "text": [
      "  0%|          | 0/5 [04:19<?, ?it/s, N=500, linreg=0.998, pcr=0.471, pls=0.998, rho=0.2]"
     ]
    },
    {
     "name": "stdout",
     "output_type": "stream",
     "text": [
      "       M    N   n   rho   model        R2         MSE\n",
      "0   5000  500   5  0.01  linreg  0.997495    1.101917\n",
      "1   5000  500   5  0.01     pcr  0.024885  428.943009\n",
      "2   5000  500   5  0.01     pls  0.997442    1.125453\n",
      "0   5000  500  50  0.01  linreg  0.997495    1.101917\n",
      "1   5000  500  50  0.01     pcr  0.095849  397.726742\n",
      "..   ...  ...  ..   ...     ...       ...         ...\n",
      "1   5000  500   5  0.20     pcr  0.298373  422.510103\n",
      "2   5000  500   5  0.20     pls  0.998092    1.149187\n",
      "0   5000  500  50  0.20  linreg  0.998148    1.115038\n",
      "1   5000  500  50  0.20     pcr  0.346168  393.728399\n",
      "2   5000  500  50  0.20     pls  0.998148    1.115038\n",
      "\n",
      "[126 rows x 7 columns]\n"
     ]
    },
    {
     "name": "stderr",
     "output_type": "stream",
     "text": [
      "  0%|          | 0/5 [04:29<?, ?it/s, N=500, linreg=0.998, pcr=0.665, pls=0.998, rho=0.2]"
     ]
    },
    {
     "name": "stdout",
     "output_type": "stream",
     "text": [
      "       M    N    n   rho   model        R2         MSE\n",
      "0   5000  500    5  0.01  linreg  0.997495    1.101917\n",
      "1   5000  500    5  0.01     pcr  0.024885  428.943009\n",
      "2   5000  500    5  0.01     pls  0.997442    1.125453\n",
      "0   5000  500   50  0.01  linreg  0.997495    1.101917\n",
      "1   5000  500   50  0.01     pcr  0.095849  397.726742\n",
      "..   ...  ...  ...   ...     ...       ...         ...\n",
      "1   5000  500   50  0.20     pcr  0.346168  393.728399\n",
      "2   5000  500   50  0.20     pls  0.998148    1.115038\n",
      "0   5000  500  125  0.20  linreg  0.998148    1.115038\n",
      "1   5000  500  125  0.20     pcr  0.471213  318.427980\n",
      "2   5000  500  125  0.20     pls  0.998148    1.115195\n",
      "\n",
      "[129 rows x 7 columns]\n"
     ]
    },
    {
     "name": "stderr",
     "output_type": "stream",
     "text": [
      "  0%|          | 0/5 [04:32<?, ?it/s, N=500, linreg=0.998, pcr=0.296, pls=0.997, rho=0.2]"
     ]
    },
    {
     "name": "stdout",
     "output_type": "stream",
     "text": [
      "       M    N    n   rho   model        R2         MSE\n",
      "0   5000  500    5  0.01  linreg  0.997495    1.101917\n",
      "1   5000  500    5  0.01     pcr  0.024885  428.943009\n",
      "2   5000  500    5  0.01     pls  0.997442    1.125453\n",
      "0   5000  500   50  0.01  linreg  0.997495    1.101917\n",
      "1   5000  500   50  0.01     pcr  0.095849  397.726742\n",
      "..   ...  ...  ...   ...     ...       ...         ...\n",
      "1   5000  500  125  0.20     pcr  0.471213  318.427980\n",
      "2   5000  500  125  0.20     pls  0.998148    1.115195\n",
      "0   5000  500  250  0.20  linreg  0.998148    1.115038\n",
      "1   5000  500  250  0.20     pcr  0.665344  201.525245\n",
      "2   5000  500  250  0.20     pls  0.998142    1.119089\n",
      "\n",
      "[132 rows x 7 columns]\n"
     ]
    },
    {
     "name": "stderr",
     "output_type": "stream",
     "text": [
      "  0%|          | 0/5 [04:39<?, ?it/s, N=500, linreg=0.998, pcr=0.355, pls=0.998, rho=0.2]"
     ]
    },
    {
     "name": "stdout",
     "output_type": "stream",
     "text": [
      "       M    N    n   rho   model        R2         MSE\n",
      "0   5000  500    5  0.01  linreg  0.997495    1.101917\n",
      "1   5000  500    5  0.01     pcr  0.024885  428.943009\n",
      "2   5000  500    5  0.01     pls  0.997442    1.125453\n",
      "0   5000  500   50  0.01  linreg  0.997495    1.101917\n",
      "1   5000  500   50  0.01     pcr  0.095849  397.726742\n",
      "..   ...  ...  ...   ...     ...       ...         ...\n",
      "1   5000  500  250  0.20     pcr  0.665344  201.525245\n",
      "2   5000  500  250  0.20     pls  0.998142    1.119089\n",
      "0   2500  500    5  0.20  linreg  0.997908    1.259801\n",
      "1   2500  500    5  0.20     pcr  0.296147  423.877762\n",
      "2   2500  500    5  0.20     pls  0.996899    1.867771\n",
      "\n",
      "[135 rows x 7 columns]\n"
     ]
    },
    {
     "name": "stderr",
     "output_type": "stream",
     "text": [
      "  0%|          | 0/5 [04:47<?, ?it/s, N=500, linreg=0.998, pcr=0.493, pls=0.998, rho=0.2]"
     ]
    },
    {
     "name": "stdout",
     "output_type": "stream",
     "text": [
      "       M    N   n   rho   model        R2         MSE\n",
      "0   5000  500   5  0.01  linreg  0.997495    1.101917\n",
      "1   5000  500   5  0.01     pcr  0.024885  428.943009\n",
      "2   5000  500   5  0.01     pls  0.997442    1.125453\n",
      "0   5000  500  50  0.01  linreg  0.997495    1.101917\n",
      "1   5000  500  50  0.01     pcr  0.095849  397.726742\n",
      "..   ...  ...  ..   ...     ...       ...         ...\n",
      "1   2500  500   5  0.20     pcr  0.296147  423.877762\n",
      "2   2500  500   5  0.20     pls  0.996899    1.867771\n",
      "0   2500  500  50  0.20  linreg  0.997908    1.259801\n",
      "1   2500  500  50  0.20     pcr  0.354588  388.683562\n",
      "2   2500  500  50  0.20     pls  0.997908    1.259801\n",
      "\n",
      "[138 rows x 7 columns]\n"
     ]
    },
    {
     "name": "stderr",
     "output_type": "stream",
     "text": [
      "  0%|          | 0/5 [04:55<?, ?it/s, N=500, linreg=0.998, pcr=0.642, pls=0.998, rho=0.2]"
     ]
    },
    {
     "name": "stdout",
     "output_type": "stream",
     "text": [
      "       M    N    n   rho   model        R2         MSE\n",
      "0   5000  500    5  0.01  linreg  0.997495    1.101917\n",
      "1   5000  500    5  0.01     pcr  0.024885  428.943009\n",
      "2   5000  500    5  0.01     pls  0.997442    1.125453\n",
      "0   5000  500   50  0.01  linreg  0.997495    1.101917\n",
      "1   5000  500   50  0.01     pcr  0.095849  397.726742\n",
      "..   ...  ...  ...   ...     ...       ...         ...\n",
      "1   2500  500   50  0.20     pcr  0.354588  388.683562\n",
      "2   2500  500   50  0.20     pls  0.997908    1.259801\n",
      "0   2500  500  125  0.20  linreg  0.997908    1.259801\n",
      "1   2500  500  125  0.20     pcr  0.493045  305.301317\n",
      "2   2500  500  125  0.20     pls  0.997908    1.260090\n",
      "\n",
      "[141 rows x 7 columns]\n"
     ]
    },
    {
     "name": "stderr",
     "output_type": "stream",
     "text": [
      "  0%|          | 0/5 [04:59<?, ?it/s, N=500, linreg=0.998, pcr=0.295, pls=0.99, rho=0.2] "
     ]
    },
    {
     "name": "stdout",
     "output_type": "stream",
     "text": [
      "       M    N    n   rho   model        R2         MSE\n",
      "0   5000  500    5  0.01  linreg  0.997495    1.101917\n",
      "1   5000  500    5  0.01     pcr  0.024885  428.943009\n",
      "2   5000  500    5  0.01     pls  0.997442    1.125453\n",
      "0   5000  500   50  0.01  linreg  0.997495    1.101917\n",
      "1   5000  500   50  0.01     pcr  0.095849  397.726742\n",
      "..   ...  ...  ...   ...     ...       ...         ...\n",
      "1   2500  500  125  0.20     pcr  0.493045  305.301317\n",
      "2   2500  500  125  0.20     pls  0.997908    1.260090\n",
      "0   2500  500  250  0.20  linreg  0.997908    1.259801\n",
      "1   2500  500  250  0.20     pcr  0.642436  215.334176\n",
      "2   2500  500  250  0.20     pls  0.997903    1.262995\n",
      "\n",
      "[144 rows x 7 columns]\n"
     ]
    },
    {
     "name": "stderr",
     "output_type": "stream",
     "text": [
      "  0%|          | 0/5 [05:06<?, ?it/s, N=500, linreg=0.998, pcr=0.357, pls=0.998, rho=0.2]"
     ]
    },
    {
     "name": "stdout",
     "output_type": "stream",
     "text": [
      "       M    N    n   rho   model        R2         MSE\n",
      "0   5000  500    5  0.01  linreg  0.997495    1.101917\n",
      "1   5000  500    5  0.01     pcr  0.024885  428.943009\n",
      "2   5000  500    5  0.01     pls  0.997442    1.125453\n",
      "0   5000  500   50  0.01  linreg  0.997495    1.101917\n",
      "1   5000  500   50  0.01     pcr  0.095849  397.726742\n",
      "..   ...  ...  ...   ...     ...       ...         ...\n",
      "1   2500  500  250  0.20     pcr  0.642436  215.334176\n",
      "2   2500  500  250  0.20     pls  0.997903    1.262995\n",
      "0   1500  500    5  0.20  linreg  0.997528    1.488717\n",
      "1   1500  500    5  0.20     pcr  0.295154  424.501613\n",
      "2   1500  500    5  0.20     pls  0.990267    5.861825\n",
      "\n",
      "[147 rows x 7 columns]\n"
     ]
    },
    {
     "name": "stderr",
     "output_type": "stream",
     "text": [
      "  0%|          | 0/5 [05:13<?, ?it/s, N=500, linreg=0.998, pcr=0.467, pls=0.998, rho=0.2]"
     ]
    },
    {
     "name": "stdout",
     "output_type": "stream",
     "text": [
      "       M    N   n   rho   model        R2         MSE\n",
      "0   5000  500   5  0.01  linreg  0.997495    1.101917\n",
      "1   5000  500   5  0.01     pcr  0.024885  428.943009\n",
      "2   5000  500   5  0.01     pls  0.997442    1.125453\n",
      "0   5000  500  50  0.01  linreg  0.997495    1.101917\n",
      "1   5000  500  50  0.01     pcr  0.095849  397.726742\n",
      "..   ...  ...  ..   ...     ...       ...         ...\n",
      "1   1500  500   5  0.20     pcr  0.295154  424.501613\n",
      "2   1500  500   5  0.20     pls  0.990267    5.861825\n",
      "0   1500  500  50  0.20  linreg  0.997528    1.488717\n",
      "1   1500  500  50  0.20     pcr  0.357017  387.243562\n",
      "2   1500  500  50  0.20     pls  0.997528    1.488717\n",
      "\n",
      "[150 rows x 7 columns]\n"
     ]
    },
    {
     "name": "stderr",
     "output_type": "stream",
     "text": [
      "  0%|          | 0/5 [05:22<?, ?it/s, N=500, linreg=0.998, pcr=0.648, pls=0.997, rho=0.2]"
     ]
    },
    {
     "name": "stdout",
     "output_type": "stream",
     "text": [
      "       M    N    n   rho   model        R2         MSE\n",
      "0   5000  500    5  0.01  linreg  0.997495    1.101917\n",
      "1   5000  500    5  0.01     pcr  0.024885  428.943009\n",
      "2   5000  500    5  0.01     pls  0.997442    1.125453\n",
      "0   5000  500   50  0.01  linreg  0.997495    1.101917\n",
      "1   5000  500   50  0.01     pcr  0.095849  397.726742\n",
      "..   ...  ...  ...   ...     ...       ...         ...\n",
      "1   1500  500   50  0.20     pcr  0.357017  387.243562\n",
      "2   1500  500   50  0.20     pls  0.997528    1.488717\n",
      "0   1500  500  125  0.20  linreg  0.997528    1.488717\n",
      "1   1500  500  125  0.20     pcr  0.466501  321.305602\n",
      "2   1500  500  125  0.20     pls  0.997528    1.488712\n",
      "\n",
      "[153 rows x 7 columns]\n"
     ]
    },
    {
     "name": "stderr",
     "output_type": "stream",
     "text": [
      "  0%|          | 0/5 [05:26<?, ?it/s, N=500, linreg=0.997, pcr=0.294, pls=0.969, rho=0.2]"
     ]
    },
    {
     "name": "stdout",
     "output_type": "stream",
     "text": [
      "       M    N    n   rho   model        R2         MSE\n",
      "0   5000  500    5  0.01  linreg  0.997495    1.101917\n",
      "1   5000  500    5  0.01     pcr  0.024885  428.943009\n",
      "2   5000  500    5  0.01     pls  0.997442    1.125453\n",
      "0   5000  500   50  0.01  linreg  0.997495    1.101917\n",
      "1   5000  500   50  0.01     pcr  0.095849  397.726742\n",
      "..   ...  ...  ...   ...     ...       ...         ...\n",
      "1   1500  500  125  0.20     pcr  0.466501  321.305602\n",
      "2   1500  500  125  0.20     pls  0.997528    1.488712\n",
      "0   1500  500  250  0.20  linreg  0.997528    1.488717\n",
      "1   1500  500  250  0.20     pcr  0.648055  211.962665\n",
      "2   1500  500  250  0.20     pls  0.997487    1.513648\n",
      "\n",
      "[156 rows x 7 columns]\n"
     ]
    },
    {
     "name": "stderr",
     "output_type": "stream",
     "text": [
      "  0%|          | 0/5 [05:32<?, ?it/s, N=500, linreg=0.997, pcr=0.375, pls=0.997, rho=0.2]"
     ]
    },
    {
     "name": "stdout",
     "output_type": "stream",
     "text": [
      "       M    N    n   rho   model        R2         MSE\n",
      "0   5000  500    5  0.01  linreg  0.997495    1.101917\n",
      "1   5000  500    5  0.01     pcr  0.024885  428.943009\n",
      "2   5000  500    5  0.01     pls  0.997442    1.125453\n",
      "0   5000  500   50  0.01  linreg  0.997495    1.101917\n",
      "1   5000  500   50  0.01     pcr  0.095849  397.726742\n",
      "..   ...  ...  ...   ...     ...       ...         ...\n",
      "1   1500  500  250  0.20     pcr  0.648055  211.962665\n",
      "2   1500  500  250  0.20     pls  0.997487    1.513648\n",
      "0   1000  500    5  0.20  linreg  0.996608    2.042088\n",
      "1   1000  500    5  0.20     pcr  0.294362  424.828994\n",
      "2   1000  500    5  0.20     pls  0.969424   18.408117\n",
      "\n",
      "[159 rows x 7 columns]\n"
     ]
    },
    {
     "name": "stderr",
     "output_type": "stream",
     "text": [
      "  0%|          | 0/5 [05:38<?, ?it/s, N=500, linreg=0.997, pcr=0.479, pls=0.997, rho=0.2]"
     ]
    },
    {
     "name": "stdout",
     "output_type": "stream",
     "text": [
      "       M    N   n   rho   model        R2         MSE\n",
      "0   5000  500   5  0.01  linreg  0.997495    1.101917\n",
      "1   5000  500   5  0.01     pcr  0.024885  428.943009\n",
      "2   5000  500   5  0.01     pls  0.997442    1.125453\n",
      "0   5000  500  50  0.01  linreg  0.997495    1.101917\n",
      "1   5000  500  50  0.01     pcr  0.095849  397.726742\n",
      "..   ...  ...  ..   ...     ...       ...         ...\n",
      "1   1000  500   5  0.20     pcr  0.294362  424.828994\n",
      "2   1000  500   5  0.20     pls  0.969424   18.408117\n",
      "0   1000  500  50  0.20  linreg  0.996608    2.042088\n",
      "1   1000  500  50  0.20     pcr  0.375251  376.130000\n",
      "2   1000  500  50  0.20     pls  0.996608    2.042088\n",
      "\n",
      "[162 rows x 7 columns]\n"
     ]
    },
    {
     "name": "stderr",
     "output_type": "stream",
     "text": [
      "  0%|          | 0/5 [05:45<?, ?it/s, N=500, linreg=0.997, pcr=0.642, pls=0.997, rho=0.2]"
     ]
    },
    {
     "name": "stdout",
     "output_type": "stream",
     "text": [
      "       M    N    n   rho   model        R2         MSE\n",
      "0   5000  500    5  0.01  linreg  0.997495    1.101917\n",
      "1   5000  500    5  0.01     pcr  0.024885  428.943009\n",
      "2   5000  500    5  0.01     pls  0.997442    1.125453\n",
      "0   5000  500   50  0.01  linreg  0.997495    1.101917\n",
      "1   5000  500   50  0.01     pcr  0.095849  397.726742\n",
      "..   ...  ...  ...   ...     ...       ...         ...\n",
      "1   1000  500   50  0.20     pcr  0.375251  376.130000\n",
      "2   1000  500   50  0.20     pls  0.996608    2.042088\n",
      "0   1000  500  125  0.20  linreg  0.996608    2.042088\n",
      "1   1000  500  125  0.20     pcr  0.479418  313.416425\n",
      "2   1000  500  125  0.20     pls  0.996608    2.042088\n",
      "\n",
      "[165 rows x 7 columns]\n"
     ]
    },
    {
     "name": "stderr",
     "output_type": "stream",
     "text": [
      "  0%|          | 0/5 [05:47<?, ?it/s, N=500, linreg=0.467, pcr=0.296, pls=0.838, rho=0.2]"
     ]
    },
    {
     "name": "stdout",
     "output_type": "stream",
     "text": [
      "       M    N    n   rho   model        R2         MSE\n",
      "0   5000  500    5  0.01  linreg  0.997495    1.101917\n",
      "1   5000  500    5  0.01     pcr  0.024885  428.943009\n",
      "2   5000  500    5  0.01     pls  0.997442    1.125453\n",
      "0   5000  500   50  0.01  linreg  0.997495    1.101917\n",
      "1   5000  500   50  0.01     pcr  0.095849  397.726742\n",
      "..   ...  ...  ...   ...     ...       ...         ...\n",
      "1   1000  500  125  0.20     pcr  0.479418  313.416425\n",
      "2   1000  500  125  0.20     pls  0.996608    2.042088\n",
      "0   1000  500  250  0.20  linreg  0.996608    2.042088\n",
      "1   1000  500  250  0.20     pcr  0.642102  215.472356\n",
      "2   1000  500  250  0.20     pls  0.996627    2.030674\n",
      "\n",
      "[168 rows x 7 columns]\n"
     ]
    },
    {
     "name": "stderr",
     "output_type": "stream",
     "text": [
      "  0%|          | 0/5 [05:49<?, ?it/s, N=500, linreg=0.467, pcr=0.377, pls=0.964, rho=0.2]"
     ]
    },
    {
     "name": "stdout",
     "output_type": "stream",
     "text": [
      "       M    N    n   rho   model        R2         MSE\n",
      "0   5000  500    5  0.01  linreg  0.997495    1.101917\n",
      "1   5000  500    5  0.01     pcr  0.024885  428.943009\n",
      "2   5000  500    5  0.01     pls  0.997442    1.125453\n",
      "0   5000  500   50  0.01  linreg  0.997495    1.101917\n",
      "1   5000  500   50  0.01     pcr  0.095849  397.726742\n",
      "..   ...  ...  ...   ...     ...       ...         ...\n",
      "1   1000  500  250  0.20     pcr  0.642102  215.472356\n",
      "2   1000  500  250  0.20     pls  0.996627    2.030674\n",
      "0    500  500    5  0.20  linreg  0.467203  320.688375\n",
      "1    500  500    5  0.20     pcr  0.295818  423.844553\n",
      "2    500  500    5  0.20     pls  0.838106   97.443167\n",
      "\n",
      "[171 rows x 7 columns]\n"
     ]
    },
    {
     "name": "stderr",
     "output_type": "stream",
     "text": [
      "  0%|          | 0/5 [05:52<?, ?it/s, N=500, linreg=0.467, pcr=0.487, pls=0.939, rho=0.2]"
     ]
    },
    {
     "name": "stdout",
     "output_type": "stream",
     "text": [
      "       M    N   n   rho   model        R2         MSE\n",
      "0   5000  500   5  0.01  linreg  0.997495    1.101917\n",
      "1   5000  500   5  0.01     pcr  0.024885  428.943009\n",
      "2   5000  500   5  0.01     pls  0.997442    1.125453\n",
      "0   5000  500  50  0.01  linreg  0.997495    1.101917\n",
      "1   5000  500  50  0.01     pcr  0.095849  397.726742\n",
      "..   ...  ...  ..   ...     ...       ...         ...\n",
      "1    500  500   5  0.20     pcr  0.295818  423.844553\n",
      "2    500  500   5  0.20     pls  0.838106   97.443167\n",
      "0    500  500  50  0.20  linreg  0.467203  320.688375\n",
      "1    500  500  50  0.20     pcr  0.377109  374.915855\n",
      "2    500  500  50  0.20     pls  0.963897   21.730397\n",
      "\n",
      "[174 rows x 7 columns]\n"
     ]
    },
    {
     "name": "stderr",
     "output_type": "stream",
     "text": [
      "  0%|          | 0/5 [05:55<?, ?it/s, N=500, linreg=0.467, pcr=0.659, pls=0.838, rho=0.2]"
     ]
    },
    {
     "name": "stdout",
     "output_type": "stream",
     "text": [
      "       M    N    n   rho   model        R2         MSE\n",
      "0   5000  500    5  0.01  linreg  0.997495    1.101917\n",
      "1   5000  500    5  0.01     pcr  0.024885  428.943009\n",
      "2   5000  500    5  0.01     pls  0.997442    1.125453\n",
      "0   5000  500   50  0.01  linreg  0.997495    1.101917\n",
      "1   5000  500   50  0.01     pcr  0.095849  397.726742\n",
      "..   ...  ...  ...   ...     ...       ...         ...\n",
      "1    500  500   50  0.20     pcr  0.377109  374.915855\n",
      "2    500  500   50  0.20     pls  0.963897   21.730397\n",
      "0    500  500  125  0.20  linreg  0.467203  320.688375\n",
      "1    500  500  125  0.20     pcr  0.487327  308.576095\n",
      "2    500  500  125  0.20     pls  0.938707   36.892240\n",
      "\n",
      "[177 rows x 7 columns]\n"
     ]
    },
    {
     "name": "stderr",
     "output_type": "stream",
     "text": [
      "  0%|          | 0/5 [06:00<?, ?it/s, N=500, linreg=0.999, pcr=0.748, pls=0.999, rho=0.5]"
     ]
    },
    {
     "name": "stdout",
     "output_type": "stream",
     "text": [
      "       M    N    n   rho   model        R2         MSE\n",
      "0   5000  500    5  0.01  linreg  0.997495    1.101917\n",
      "1   5000  500    5  0.01     pcr  0.024885  428.943009\n",
      "2   5000  500    5  0.01     pls  0.997442    1.125453\n",
      "0   5000  500   50  0.01  linreg  0.997495    1.101917\n",
      "1   5000  500   50  0.01     pcr  0.095849  397.726742\n",
      "..   ...  ...  ...   ...     ...       ...         ...\n",
      "1    500  500  125  0.20     pcr  0.487327  308.576095\n",
      "2    500  500  125  0.20     pls  0.938707   36.892240\n",
      "0    500  500  250  0.20  linreg  0.467203  320.688375\n",
      "1    500  500  250  0.20     pcr  0.659346  205.038549\n",
      "2    500  500  250  0.20     pls  0.837916   97.557614\n",
      "\n",
      "[180 rows x 7 columns]\n"
     ]
    },
    {
     "name": "stderr",
     "output_type": "stream",
     "text": [
      "  0%|          | 0/5 [06:07<?, ?it/s, N=500, linreg=0.999, pcr=0.769, pls=0.999, rho=0.5]"
     ]
    },
    {
     "name": "stdout",
     "output_type": "stream",
     "text": [
      "       M    N    n   rho   model        R2         MSE\n",
      "0   5000  500    5  0.01  linreg  0.997495    1.101917\n",
      "1   5000  500    5  0.01     pcr  0.024885  428.943009\n",
      "2   5000  500    5  0.01     pls  0.997442    1.125453\n",
      "0   5000  500   50  0.01  linreg  0.997495    1.101917\n",
      "1   5000  500   50  0.01     pcr  0.095849  397.726742\n",
      "..   ...  ...  ...   ...     ...       ...         ...\n",
      "1    500  500  250  0.20     pcr  0.659346  205.038549\n",
      "2    500  500  250  0.20     pls  0.837916   97.557614\n",
      "0   5000  500    5  0.50  linreg  0.998828    1.094018\n",
      "1   5000  500    5  0.50     pcr  0.747757  235.367775\n",
      "2   5000  500    5  0.50     pls  0.998800    1.119636\n",
      "\n",
      "[183 rows x 7 columns]\n"
     ]
    },
    {
     "name": "stderr",
     "output_type": "stream",
     "text": [
      "  0%|          | 0/5 [06:15<?, ?it/s, N=500, linreg=0.999, pcr=0.813, pls=0.999, rho=0.5]"
     ]
    },
    {
     "name": "stdout",
     "output_type": "stream",
     "text": [
      "       M    N   n   rho   model        R2         MSE\n",
      "0   5000  500   5  0.01  linreg  0.997495    1.101917\n",
      "1   5000  500   5  0.01     pcr  0.024885  428.943009\n",
      "2   5000  500   5  0.01     pls  0.997442    1.125453\n",
      "0   5000  500  50  0.01  linreg  0.997495    1.101917\n",
      "1   5000  500  50  0.01     pcr  0.095849  397.726742\n",
      "..   ...  ...  ..   ...     ...       ...         ...\n",
      "1   5000  500   5  0.50     pcr  0.747757  235.367775\n",
      "2   5000  500   5  0.50     pls  0.998800    1.119636\n",
      "0   5000  500  50  0.50  linreg  0.998828    1.094018\n",
      "1   5000  500  50  0.50     pcr  0.769098  215.454883\n",
      "2   5000  500  50  0.50     pls  0.998828    1.094018\n",
      "\n",
      "[186 rows x 7 columns]\n"
     ]
    },
    {
     "name": "stderr",
     "output_type": "stream",
     "text": [
      "  0%|          | 0/5 [06:25<?, ?it/s, N=500, linreg=0.999, pcr=0.875, pls=0.999, rho=0.5]"
     ]
    },
    {
     "name": "stdout",
     "output_type": "stream",
     "text": [
      "       M    N    n   rho   model        R2         MSE\n",
      "0   5000  500    5  0.01  linreg  0.997495    1.101917\n",
      "1   5000  500    5  0.01     pcr  0.024885  428.943009\n",
      "2   5000  500    5  0.01     pls  0.997442    1.125453\n",
      "0   5000  500   50  0.01  linreg  0.997495    1.101917\n",
      "1   5000  500   50  0.01     pcr  0.095849  397.726742\n",
      "..   ...  ...  ...   ...     ...       ...         ...\n",
      "1   5000  500   50  0.50     pcr  0.769098  215.454883\n",
      "2   5000  500   50  0.50     pls  0.998828    1.094018\n",
      "0   5000  500  125  0.50  linreg  0.998828    1.094018\n",
      "1   5000  500  125  0.50     pcr  0.813010  174.479874\n",
      "2   5000  500  125  0.50     pls  0.998827    1.094113\n",
      "\n",
      "[189 rows x 7 columns]\n"
     ]
    },
    {
     "name": "stderr",
     "output_type": "stream",
     "text": [
      "  0%|          | 0/5 [06:29<?, ?it/s, N=500, linreg=0.999, pcr=0.746, pls=0.998, rho=0.5]"
     ]
    },
    {
     "name": "stdout",
     "output_type": "stream",
     "text": [
      "       M    N    n   rho   model        R2         MSE\n",
      "0   5000  500    5  0.01  linreg  0.997495    1.101917\n",
      "1   5000  500    5  0.01     pcr  0.024885  428.943009\n",
      "2   5000  500    5  0.01     pls  0.997442    1.125453\n",
      "0   5000  500   50  0.01  linreg  0.997495    1.101917\n",
      "1   5000  500   50  0.01     pcr  0.095849  397.726742\n",
      "..   ...  ...  ...   ...     ...       ...         ...\n",
      "1   5000  500  125  0.50     pcr  0.813010  174.479874\n",
      "2   5000  500  125  0.50     pls  0.998827    1.094113\n",
      "0   5000  500  250  0.50  linreg  0.998828    1.094018\n",
      "1   5000  500  250  0.50     pcr  0.874966  116.668799\n",
      "2   5000  500  250  0.50     pls  0.998826    1.095841\n",
      "\n",
      "[192 rows x 7 columns]\n"
     ]
    },
    {
     "name": "stderr",
     "output_type": "stream",
     "text": [
      "  0%|          | 0/5 [06:36<?, ?it/s, N=500, linreg=0.999, pcr=0.769, pls=0.999, rho=0.5]"
     ]
    },
    {
     "name": "stdout",
     "output_type": "stream",
     "text": [
      "       M    N    n   rho   model        R2         MSE\n",
      "0   5000  500    5  0.01  linreg  0.997495    1.101917\n",
      "1   5000  500    5  0.01     pcr  0.024885  428.943009\n",
      "2   5000  500    5  0.01     pls  0.997442    1.125453\n",
      "0   5000  500   50  0.01  linreg  0.997495    1.101917\n",
      "1   5000  500   50  0.01     pcr  0.095849  397.726742\n",
      "..   ...  ...  ...   ...     ...       ...         ...\n",
      "1   5000  500  250  0.50     pcr  0.874966  116.668799\n",
      "2   5000  500  250  0.50     pls  0.998826    1.095841\n",
      "0   2500  500    5  0.50  linreg  0.998667    1.244404\n",
      "1   2500  500    5  0.50     pcr  0.746228  236.980537\n",
      "2   2500  500    5  0.50     pls  0.998306    1.582050\n",
      "\n",
      "[195 rows x 7 columns]\n"
     ]
    },
    {
     "name": "stderr",
     "output_type": "stream",
     "text": [
      "  0%|          | 0/5 [06:44<?, ?it/s, N=500, linreg=0.999, pcr=0.804, pls=0.999, rho=0.5]"
     ]
    },
    {
     "name": "stdout",
     "output_type": "stream",
     "text": [
      "       M    N   n   rho   model        R2         MSE\n",
      "0   5000  500   5  0.01  linreg  0.997495    1.101917\n",
      "1   5000  500   5  0.01     pcr  0.024885  428.943009\n",
      "2   5000  500   5  0.01     pls  0.997442    1.125453\n",
      "0   5000  500  50  0.01  linreg  0.997495    1.101917\n",
      "1   5000  500  50  0.01     pcr  0.095849  397.726742\n",
      "..   ...  ...  ..   ...     ...       ...         ...\n",
      "1   2500  500   5  0.50     pcr  0.746228  236.980537\n",
      "2   2500  500   5  0.50     pls  0.998306    1.582050\n",
      "0   2500  500  50  0.50  linreg  0.998667    1.244404\n",
      "1   2500  500  50  0.50     pcr  0.769127  215.596387\n",
      "2   2500  500  50  0.50     pls  0.998667    1.244404\n",
      "\n",
      "[198 rows x 7 columns]\n"
     ]
    },
    {
     "name": "stderr",
     "output_type": "stream",
     "text": [
      "  0%|          | 0/5 [06:52<?, ?it/s, N=500, linreg=0.999, pcr=0.866, pls=0.999, rho=0.5]"
     ]
    },
    {
     "name": "stdout",
     "output_type": "stream",
     "text": [
      "       M    N    n   rho   model        R2         MSE\n",
      "0   5000  500    5  0.01  linreg  0.997495    1.101917\n",
      "1   5000  500    5  0.01     pcr  0.024885  428.943009\n",
      "2   5000  500    5  0.01     pls  0.997442    1.125453\n",
      "0   5000  500   50  0.01  linreg  0.997495    1.101917\n",
      "1   5000  500   50  0.01     pcr  0.095849  397.726742\n",
      "..   ...  ...  ...   ...     ...       ...         ...\n",
      "1   2500  500   50  0.50     pcr  0.769127  215.596387\n",
      "2   2500  500   50  0.50     pls  0.998667    1.244404\n",
      "0   2500  500  125  0.50  linreg  0.998667    1.244404\n",
      "1   2500  500  125  0.50     pcr  0.804363  182.692098\n",
      "2   2500  500  125  0.50     pls  0.998668    1.244302\n",
      "\n",
      "[201 rows x 7 columns]\n"
     ]
    },
    {
     "name": "stderr",
     "output_type": "stream",
     "text": [
      "  0%|          | 0/5 [06:55<?, ?it/s, N=500, linreg=0.998, pcr=0.746, pls=0.995, rho=0.5]"
     ]
    },
    {
     "name": "stdout",
     "output_type": "stream",
     "text": [
      "       M    N    n   rho   model        R2         MSE\n",
      "0   5000  500    5  0.01  linreg  0.997495    1.101917\n",
      "1   5000  500    5  0.01     pcr  0.024885  428.943009\n",
      "2   5000  500    5  0.01     pls  0.997442    1.125453\n",
      "0   5000  500   50  0.01  linreg  0.997495    1.101917\n",
      "1   5000  500   50  0.01     pcr  0.095849  397.726742\n",
      "..   ...  ...  ...   ...     ...       ...         ...\n",
      "1   2500  500  125  0.50     pcr  0.804363  182.692098\n",
      "2   2500  500  125  0.50     pls  0.998668    1.244302\n",
      "0   2500  500  250  0.50  linreg  0.998667    1.244404\n",
      "1   2500  500  250  0.50     pcr  0.866161  124.983471\n",
      "2   2500  500  250  0.50     pls  0.998659    1.251935\n",
      "\n",
      "[204 rows x 7 columns]\n"
     ]
    },
    {
     "name": "stderr",
     "output_type": "stream",
     "text": [
      "  0%|          | 0/5 [07:02<?, ?it/s, N=500, linreg=0.998, pcr=0.765, pls=0.998, rho=0.5]"
     ]
    },
    {
     "name": "stdout",
     "output_type": "stream",
     "text": [
      "       M    N    n   rho   model        R2         MSE\n",
      "0   5000  500    5  0.01  linreg  0.997495    1.101917\n",
      "1   5000  500    5  0.01     pcr  0.024885  428.943009\n",
      "2   5000  500    5  0.01     pls  0.997442    1.125453\n",
      "0   5000  500   50  0.01  linreg  0.997495    1.101917\n",
      "1   5000  500   50  0.01     pcr  0.095849  397.726742\n",
      "..   ...  ...  ...   ...     ...       ...         ...\n",
      "1   2500  500  250  0.50     pcr  0.866161  124.983471\n",
      "2   2500  500  250  0.50     pls  0.998659    1.251935\n",
      "0   1500  500    5  0.50  linreg  0.998392    1.500891\n",
      "1   1500  500    5  0.50     pcr  0.746114  237.047234\n",
      "2   1500  500    5  0.50     pls  0.995497    4.204554\n",
      "\n",
      "[207 rows x 7 columns]\n"
     ]
    },
    {
     "name": "stderr",
     "output_type": "stream",
     "text": [
      "  0%|          | 0/5 [07:10<?, ?it/s, N=500, linreg=0.998, pcr=0.807, pls=0.998, rho=0.5]"
     ]
    },
    {
     "name": "stdout",
     "output_type": "stream",
     "text": [
      "       M    N   n   rho   model        R2         MSE\n",
      "0   5000  500   5  0.01  linreg  0.997495    1.101917\n",
      "1   5000  500   5  0.01     pcr  0.024885  428.943009\n",
      "2   5000  500   5  0.01     pls  0.997442    1.125453\n",
      "0   5000  500  50  0.01  linreg  0.997495    1.101917\n",
      "1   5000  500  50  0.01     pcr  0.095849  397.726742\n",
      "..   ...  ...  ..   ...     ...       ...         ...\n",
      "1   1500  500   5  0.50     pcr  0.746114  237.047234\n",
      "2   1500  500   5  0.50     pls  0.995497    4.204554\n",
      "0   1500  500  50  0.50  linreg  0.998392    1.500891\n",
      "1   1500  500  50  0.50     pcr  0.765356  219.081418\n",
      "2   1500  500  50  0.50     pls  0.998392    1.500891\n",
      "\n",
      "[210 rows x 7 columns]\n"
     ]
    },
    {
     "name": "stderr",
     "output_type": "stream",
     "text": [
      "  0%|          | 0/5 [07:18<?, ?it/s, N=500, linreg=0.998, pcr=0.878, pls=0.998, rho=0.5]"
     ]
    },
    {
     "name": "stdout",
     "output_type": "stream",
     "text": [
      "       M    N    n   rho   model        R2         MSE\n",
      "0   5000  500    5  0.01  linreg  0.997495    1.101917\n",
      "1   5000  500    5  0.01     pcr  0.024885  428.943009\n",
      "2   5000  500    5  0.01     pls  0.997442    1.125453\n",
      "0   5000  500   50  0.01  linreg  0.997495    1.101917\n",
      "1   5000  500   50  0.01     pcr  0.095849  397.726742\n",
      "..   ...  ...  ...   ...     ...       ...         ...\n",
      "1   1500  500   50  0.50     pcr  0.765356  219.081418\n",
      "2   1500  500   50  0.50     pls  0.998392    1.500891\n",
      "0   1500  500  125  0.50  linreg  0.998392    1.500891\n",
      "1   1500  500  125  0.50     pcr  0.807085  180.120579\n",
      "2   1500  500  125  0.50     pls  0.998392    1.500891\n",
      "\n",
      "[213 rows x 7 columns]\n"
     ]
    },
    {
     "name": "stderr",
     "output_type": "stream",
     "text": [
      "  0%|          | 0/5 [07:22<?, ?it/s, N=500, linreg=0.998, pcr=0.749, pls=0.988, rho=0.5]"
     ]
    },
    {
     "name": "stdout",
     "output_type": "stream",
     "text": [
      "       M    N    n   rho   model        R2         MSE\n",
      "0   5000  500    5  0.01  linreg  0.997495    1.101917\n",
      "1   5000  500    5  0.01     pcr  0.024885  428.943009\n",
      "2   5000  500    5  0.01     pls  0.997442    1.125453\n",
      "0   5000  500   50  0.01  linreg  0.997495    1.101917\n",
      "1   5000  500   50  0.01     pcr  0.095849  397.726742\n",
      "..   ...  ...  ...   ...     ...       ...         ...\n",
      "1   1500  500  125  0.50     pcr  0.807085  180.120579\n",
      "2   1500  500  125  0.50     pls  0.998392    1.500891\n",
      "0   1500  500  250  0.50  linreg  0.998392    1.500891\n",
      "1   1500  500  250  0.50     pcr  0.878485  113.456222\n",
      "2   1500  500  250  0.50     pls  0.998382    1.510424\n",
      "\n",
      "[216 rows x 7 columns]\n"
     ]
    },
    {
     "name": "stderr",
     "output_type": "stream",
     "text": [
      "  0%|          | 0/5 [07:28<?, ?it/s, N=500, linreg=0.998, pcr=0.774, pls=0.998, rho=0.5]"
     ]
    },
    {
     "name": "stdout",
     "output_type": "stream",
     "text": [
      "       M    N    n   rho   model        R2         MSE\n",
      "0   5000  500    5  0.01  linreg  0.997495    1.101917\n",
      "1   5000  500    5  0.01     pcr  0.024885  428.943009\n",
      "2   5000  500    5  0.01     pls  0.997442    1.125453\n",
      "0   5000  500   50  0.01  linreg  0.997495    1.101917\n",
      "1   5000  500   50  0.01     pcr  0.095849  397.726742\n",
      "..   ...  ...  ...   ...     ...       ...         ...\n",
      "1   1500  500  250  0.50     pcr  0.878485  113.456222\n",
      "2   1500  500  250  0.50     pls  0.998382    1.510424\n",
      "0   1000  500    5  0.50  linreg  0.997918    1.944394\n",
      "1   1000  500    5  0.50     pcr  0.749405  234.073783\n",
      "2   1000  500    5  0.50     pls  0.988106   11.109385\n",
      "\n",
      "[219 rows x 7 columns]\n"
     ]
    },
    {
     "name": "stderr",
     "output_type": "stream",
     "text": [
      "  0%|          | 0/5 [07:35<?, ?it/s, N=500, linreg=0.998, pcr=0.813, pls=0.998, rho=0.5]"
     ]
    },
    {
     "name": "stdout",
     "output_type": "stream",
     "text": [
      "       M    N   n   rho   model        R2         MSE\n",
      "0   5000  500   5  0.01  linreg  0.997495    1.101917\n",
      "1   5000  500   5  0.01     pcr  0.024885  428.943009\n",
      "2   5000  500   5  0.01     pls  0.997442    1.125453\n",
      "0   5000  500  50  0.01  linreg  0.997495    1.101917\n",
      "1   5000  500  50  0.01     pcr  0.095849  397.726742\n",
      "..   ...  ...  ..   ...     ...       ...         ...\n",
      "1   1000  500   5  0.50     pcr  0.749405  234.073783\n",
      "2   1000  500   5  0.50     pls  0.988106   11.109385\n",
      "0   1000  500  50  0.50  linreg  0.997918    1.944394\n",
      "1   1000  500  50  0.50     pcr  0.773625  211.450070\n",
      "2   1000  500  50  0.50     pls  0.997918    1.944394\n",
      "\n",
      "[222 rows x 7 columns]\n"
     ]
    },
    {
     "name": "stderr",
     "output_type": "stream",
     "text": [
      "  0%|          | 0/5 [07:43<?, ?it/s, N=500, linreg=0.998, pcr=0.885, pls=0.998, rho=0.5]"
     ]
    },
    {
     "name": "stdout",
     "output_type": "stream",
     "text": [
      "       M    N    n   rho   model        R2         MSE\n",
      "0   5000  500    5  0.01  linreg  0.997495    1.101917\n",
      "1   5000  500    5  0.01     pcr  0.024885  428.943009\n",
      "2   5000  500    5  0.01     pls  0.997442    1.125453\n",
      "0   5000  500   50  0.01  linreg  0.997495    1.101917\n",
      "1   5000  500   50  0.01     pcr  0.095849  397.726742\n",
      "..   ...  ...  ...   ...     ...       ...         ...\n",
      "1   1000  500   50  0.50     pcr  0.773625  211.450070\n",
      "2   1000  500   50  0.50     pls  0.997918    1.944394\n",
      "0   1000  500  125  0.50  linreg  0.997918    1.944394\n",
      "1   1000  500  125  0.50     pcr  0.812615  175.031072\n",
      "2   1000  500  125  0.50     pls  0.997918    1.944394\n",
      "\n",
      "[225 rows x 7 columns]\n"
     ]
    },
    {
     "name": "stderr",
     "output_type": "stream",
     "text": [
      "  0%|          | 0/5 [07:44<?, ?it/s, N=500, linreg=0.416, pcr=0.744, pls=0.946, rho=0.5]"
     ]
    },
    {
     "name": "stdout",
     "output_type": "stream",
     "text": [
      "       M    N    n   rho   model        R2         MSE\n",
      "0   5000  500    5  0.01  linreg  0.997495    1.101917\n",
      "1   5000  500    5  0.01     pcr  0.024885  428.943009\n",
      "2   5000  500    5  0.01     pls  0.997442    1.125453\n",
      "0   5000  500   50  0.01  linreg  0.997495    1.101917\n",
      "1   5000  500   50  0.01     pcr  0.095849  397.726742\n",
      "..   ...  ...  ...   ...     ...       ...         ...\n",
      "1   1000  500  125  0.50     pcr  0.812615  175.031072\n",
      "2   1000  500  125  0.50     pls  0.997918    1.944394\n",
      "0   1000  500  250  0.50  linreg  0.997918    1.944394\n",
      "1   1000  500  250  0.50     pcr  0.884689  107.708418\n",
      "2   1000  500  250  0.50     pls  0.997917    1.945321\n",
      "\n",
      "[228 rows x 7 columns]\n"
     ]
    },
    {
     "name": "stderr",
     "output_type": "stream",
     "text": [
      "  0%|          | 0/5 [07:47<?, ?it/s, N=500, linreg=0.416, pcr=0.769, pls=0.98, rho=0.5] "
     ]
    },
    {
     "name": "stdout",
     "output_type": "stream",
     "text": [
      "       M    N    n   rho   model        R2         MSE\n",
      "0   5000  500    5  0.01  linreg  0.997495    1.101917\n",
      "1   5000  500    5  0.01     pcr  0.024885  428.943009\n",
      "2   5000  500    5  0.01     pls  0.997442    1.125453\n",
      "0   5000  500   50  0.01  linreg  0.997495    1.101917\n",
      "1   5000  500   50  0.01     pcr  0.095849  397.726742\n",
      "..   ...  ...  ...   ...     ...       ...         ...\n",
      "1   1000  500  250  0.50     pcr  0.884689  107.708418\n",
      "2   1000  500  250  0.50     pls  0.997917    1.945321\n",
      "0    500  500    5  0.50  linreg  0.416485  545.122685\n",
      "1    500  500    5  0.50     pcr  0.744266  238.908594\n",
      "2    500  500    5  0.50     pls  0.946435   50.041100\n",
      "\n",
      "[231 rows x 7 columns]\n"
     ]
    },
    {
     "name": "stderr",
     "output_type": "stream",
     "text": [
      "  0%|          | 0/5 [07:49<?, ?it/s, N=500, linreg=0.416, pcr=0.815, pls=0.976, rho=0.5]"
     ]
    },
    {
     "name": "stdout",
     "output_type": "stream",
     "text": [
      "       M    N   n   rho   model        R2         MSE\n",
      "0   5000  500   5  0.01  linreg  0.997495    1.101917\n",
      "1   5000  500   5  0.01     pcr  0.024885  428.943009\n",
      "2   5000  500   5  0.01     pls  0.997442    1.125453\n",
      "0   5000  500  50  0.01  linreg  0.997495    1.101917\n",
      "1   5000  500  50  0.01     pcr  0.095849  397.726742\n",
      "..   ...  ...  ..   ...     ...       ...         ...\n",
      "1    500  500   5  0.50     pcr  0.744266  238.908594\n",
      "2    500  500   5  0.50     pls  0.946435   50.041100\n",
      "0    500  500  50  0.50  linreg  0.416485  545.122685\n",
      "1    500  500  50  0.50     pcr  0.769127  215.682897\n",
      "2    500  500  50  0.50     pls  0.979861   18.813849\n",
      "\n",
      "[234 rows x 7 columns]\n"
     ]
    },
    {
     "name": "stderr",
     "output_type": "stream",
     "text": [
      "  0%|          | 0/5 [07:53<?, ?it/s, N=500, linreg=0.416, pcr=0.879, pls=0.82, rho=0.5] "
     ]
    },
    {
     "name": "stdout",
     "output_type": "stream",
     "text": [
      "       M    N    n   rho   model        R2         MSE\n",
      "0   5000  500    5  0.01  linreg  0.997495    1.101917\n",
      "1   5000  500    5  0.01     pcr  0.024885  428.943009\n",
      "2   5000  500    5  0.01     pls  0.997442    1.125453\n",
      "0   5000  500   50  0.01  linreg  0.997495    1.101917\n",
      "1   5000  500   50  0.01     pcr  0.095849  397.726742\n",
      "..   ...  ...  ...   ...     ...       ...         ...\n",
      "1    500  500   50  0.50     pcr  0.769127  215.682897\n",
      "2    500  500   50  0.50     pls  0.979861   18.813849\n",
      "0    500  500  125  0.50  linreg  0.416485  545.122685\n",
      "1    500  500  125  0.50     pcr  0.814907  172.915228\n",
      "2    500  500  125  0.50     pls  0.976427   22.021959\n",
      "\n",
      "[237 rows x 7 columns]\n"
     ]
    },
    {
     "name": "stderr",
     "output_type": "stream",
     "text": [
      "  0%|          | 0/5 [07:58<?, ?it/s, N=500, linreg=0.998, pcr=0.903, pls=0.998, rho=0.9]"
     ]
    },
    {
     "name": "stdout",
     "output_type": "stream",
     "text": [
      "       M    N    n   rho   model        R2         MSE\n",
      "0   5000  500    5  0.01  linreg  0.997495    1.101917\n",
      "1   5000  500    5  0.01     pcr  0.024885  428.943009\n",
      "2   5000  500    5  0.01     pls  0.997442    1.125453\n",
      "0   5000  500   50  0.01  linreg  0.997495    1.101917\n",
      "1   5000  500   50  0.01     pcr  0.095849  397.726742\n",
      "..   ...  ...  ...   ...     ...       ...         ...\n",
      "1    500  500  125  0.50     pcr  0.814907  172.915228\n",
      "2    500  500  125  0.50     pls  0.976427   22.021959\n",
      "0    500  500  250  0.50  linreg  0.416485  545.122685\n",
      "1    500  500  250  0.50     pcr  0.878927  113.107196\n",
      "2    500  500  250  0.50     pls  0.820118  168.046617\n",
      "\n",
      "[240 rows x 7 columns]\n"
     ]
    },
    {
     "name": "stderr",
     "output_type": "stream",
     "text": [
      "  0%|          | 0/5 [08:05<?, ?it/s, N=500, linreg=0.998, pcr=0.911, pls=0.998, rho=0.9]"
     ]
    },
    {
     "name": "stdout",
     "output_type": "stream",
     "text": [
      "       M    N    n   rho   model        R2         MSE\n",
      "0   5000  500    5  0.01  linreg  0.997495    1.101917\n",
      "1   5000  500    5  0.01     pcr  0.024885  428.943009\n",
      "2   5000  500    5  0.01     pls  0.997442    1.125453\n",
      "0   5000  500   50  0.01  linreg  0.997495    1.101917\n",
      "1   5000  500   50  0.01     pcr  0.095849  397.726742\n",
      "..   ...  ...  ...   ...     ...       ...         ...\n",
      "1    500  500  250  0.50     pcr  0.878927  113.107196\n",
      "2    500  500  250  0.50     pls  0.820118  168.046617\n",
      "0   5000  500    5  0.90  linreg  0.997808    1.123113\n",
      "1   5000  500    5  0.90     pcr  0.903017   49.689616\n",
      "2   5000  500    5  0.90     pls  0.997807    1.123572\n",
      "\n",
      "[243 rows x 7 columns]\n"
     ]
    },
    {
     "name": "stderr",
     "output_type": "stream",
     "text": [
      "  0%|          | 0/5 [08:13<?, ?it/s, N=500, linreg=0.998, pcr=0.925, pls=0.998, rho=0.9]"
     ]
    },
    {
     "name": "stdout",
     "output_type": "stream",
     "text": [
      "       M    N   n   rho   model        R2         MSE\n",
      "0   5000  500   5  0.01  linreg  0.997495    1.101917\n",
      "1   5000  500   5  0.01     pcr  0.024885  428.943009\n",
      "2   5000  500   5  0.01     pls  0.997442    1.125453\n",
      "0   5000  500  50  0.01  linreg  0.997495    1.101917\n",
      "1   5000  500  50  0.01     pcr  0.095849  397.726742\n",
      "..   ...  ...  ..   ...     ...       ...         ...\n",
      "1   5000  500   5  0.90     pcr  0.903017   49.689616\n",
      "2   5000  500   5  0.90     pls  0.997807    1.123572\n",
      "0   5000  500  50  0.90  linreg  0.997808    1.123113\n",
      "1   5000  500  50  0.90     pcr  0.910890   45.655859\n",
      "2   5000  500  50  0.90     pls  0.997808    1.123113\n",
      "\n",
      "[246 rows x 7 columns]\n"
     ]
    },
    {
     "name": "stderr",
     "output_type": "stream",
     "text": [
      "  0%|          | 0/5 [08:23<?, ?it/s, N=500, linreg=0.998, pcr=0.948, pls=0.998, rho=0.9]"
     ]
    },
    {
     "name": "stdout",
     "output_type": "stream",
     "text": [
      "       M    N    n   rho   model        R2         MSE\n",
      "0   5000  500    5  0.01  linreg  0.997495    1.101917\n",
      "1   5000  500    5  0.01     pcr  0.024885  428.943009\n",
      "2   5000  500    5  0.01     pls  0.997442    1.125453\n",
      "0   5000  500   50  0.01  linreg  0.997495    1.101917\n",
      "1   5000  500   50  0.01     pcr  0.095849  397.726742\n",
      "..   ...  ...  ...   ...     ...       ...         ...\n",
      "1   5000  500   50  0.90     pcr  0.910890   45.655859\n",
      "2   5000  500   50  0.90     pls  0.997808    1.123113\n",
      "0   5000  500  125  0.90  linreg  0.997808    1.123113\n",
      "1   5000  500  125  0.90     pcr  0.924982   38.435462\n",
      "2   5000  500  125  0.90     pls  0.997809    1.122400\n",
      "\n",
      "[249 rows x 7 columns]\n"
     ]
    },
    {
     "name": "stderr",
     "output_type": "stream",
     "text": [
      "  0%|          | 0/5 [08:25<?, ?it/s, N=500, linreg=0.998, pcr=0.903, pls=0.997, rho=0.9]"
     ]
    },
    {
     "name": "stdout",
     "output_type": "stream",
     "text": [
      "       M    N    n   rho   model        R2         MSE\n",
      "0   5000  500    5  0.01  linreg  0.997495    1.101917\n",
      "1   5000  500    5  0.01     pcr  0.024885  428.943009\n",
      "2   5000  500    5  0.01     pls  0.997442    1.125453\n",
      "0   5000  500   50  0.01  linreg  0.997495    1.101917\n",
      "1   5000  500   50  0.01     pcr  0.095849  397.726742\n",
      "..   ...  ...  ...   ...     ...       ...         ...\n",
      "1   5000  500  125  0.90     pcr  0.924982   38.435462\n",
      "2   5000  500  125  0.90     pls  0.997809    1.122400\n",
      "0   5000  500  250  0.90  linreg  0.997808    1.123113\n",
      "1   5000  500  250  0.90     pcr  0.947769   26.760749\n",
      "2   5000  500  250  0.90     pls  0.997801    1.126881\n",
      "\n",
      "[252 rows x 7 columns]\n"
     ]
    },
    {
     "name": "stderr",
     "output_type": "stream",
     "text": [
      "  0%|          | 0/5 [08:32<?, ?it/s, N=500, linreg=0.998, pcr=0.911, pls=0.998, rho=0.9]"
     ]
    },
    {
     "name": "stdout",
     "output_type": "stream",
     "text": [
      "       M    N    n   rho   model        R2         MSE\n",
      "0   5000  500    5  0.01  linreg  0.997495    1.101917\n",
      "1   5000  500    5  0.01     pcr  0.024885  428.943009\n",
      "2   5000  500    5  0.01     pls  0.997442    1.125453\n",
      "0   5000  500   50  0.01  linreg  0.997495    1.101917\n",
      "1   5000  500   50  0.01     pcr  0.095849  397.726742\n",
      "..   ...  ...  ...   ...     ...       ...         ...\n",
      "1   5000  500  250  0.90     pcr  0.947769   26.760749\n",
      "2   5000  500  250  0.90     pls  0.997801    1.126881\n",
      "0   2500  500    5  0.90  linreg  0.997510    1.275246\n",
      "1   2500  500    5  0.90     pcr  0.903436   49.464449\n",
      "2   2500  500    5  0.90     pls  0.997337    1.363899\n",
      "\n",
      "[255 rows x 7 columns]\n"
     ]
    },
    {
     "name": "stderr",
     "output_type": "stream",
     "text": [
      "  0%|          | 0/5 [08:40<?, ?it/s, N=500, linreg=0.998, pcr=0.926, pls=0.998, rho=0.9]"
     ]
    },
    {
     "name": "stdout",
     "output_type": "stream",
     "text": [
      "       M    N   n   rho   model        R2         MSE\n",
      "0   5000  500   5  0.01  linreg  0.997495    1.101917\n",
      "1   5000  500   5  0.01     pcr  0.024885  428.943009\n",
      "2   5000  500   5  0.01     pls  0.997442    1.125453\n",
      "0   5000  500  50  0.01  linreg  0.997495    1.101917\n",
      "1   5000  500  50  0.01     pcr  0.095849  397.726742\n",
      "..   ...  ...  ..   ...     ...       ...         ...\n",
      "1   2500  500   5  0.90     pcr  0.903436   49.464449\n",
      "2   2500  500   5  0.90     pls  0.997337    1.363899\n",
      "0   2500  500  50  0.90  linreg  0.997510    1.275246\n",
      "1   2500  500  50  0.90     pcr  0.910532   45.829587\n",
      "2   2500  500  50  0.90     pls  0.997510    1.275246\n",
      "\n",
      "[258 rows x 7 columns]\n"
     ]
    },
    {
     "name": "stderr",
     "output_type": "stream",
     "text": [
      "  0%|          | 0/5 [08:49<?, ?it/s, N=500, linreg=0.998, pcr=0.948, pls=0.997, rho=0.9]"
     ]
    },
    {
     "name": "stdout",
     "output_type": "stream",
     "text": [
      "       M    N    n   rho   model        R2         MSE\n",
      "0   5000  500    5  0.01  linreg  0.997495    1.101917\n",
      "1   5000  500    5  0.01     pcr  0.024885  428.943009\n",
      "2   5000  500    5  0.01     pls  0.997442    1.125453\n",
      "0   5000  500   50  0.01  linreg  0.997495    1.101917\n",
      "1   5000  500   50  0.01     pcr  0.095849  397.726742\n",
      "..   ...  ...  ...   ...     ...       ...         ...\n",
      "1   2500  500   50  0.90     pcr  0.910532   45.829587\n",
      "2   2500  500   50  0.90     pls  0.997510    1.275246\n",
      "0   2500  500  125  0.90  linreg  0.997510    1.275246\n",
      "1   2500  500  125  0.90     pcr  0.926240   37.783327\n",
      "2   2500  500  125  0.90     pls  0.997512    1.274269\n",
      "\n",
      "[261 rows x 7 columns]\n"
     ]
    },
    {
     "name": "stderr",
     "output_type": "stream",
     "text": [
      "  0%|          | 0/5 [08:52<?, ?it/s, N=500, linreg=0.997, pcr=0.904, pls=0.996, rho=0.9]"
     ]
    },
    {
     "name": "stdout",
     "output_type": "stream",
     "text": [
      "       M    N    n   rho   model        R2         MSE\n",
      "0   5000  500    5  0.01  linreg  0.997495    1.101917\n",
      "1   5000  500    5  0.01     pcr  0.024885  428.943009\n",
      "2   5000  500    5  0.01     pls  0.997442    1.125453\n",
      "0   5000  500   50  0.01  linreg  0.997495    1.101917\n",
      "1   5000  500   50  0.01     pcr  0.095849  397.726742\n",
      "..   ...  ...  ...   ...     ...       ...         ...\n",
      "1   2500  500  125  0.90     pcr  0.926240   37.783327\n",
      "2   2500  500  125  0.90     pls  0.997512    1.274269\n",
      "0   2500  500  250  0.90  linreg  0.997510    1.275246\n",
      "1   2500  500  250  0.90     pcr  0.947550   26.867378\n",
      "2   2500  500  250  0.90     pls  0.997473    1.294308\n",
      "\n",
      "[264 rows x 7 columns]\n"
     ]
    },
    {
     "name": "stderr",
     "output_type": "stream",
     "text": [
      "  0%|          | 0/5 [08:58<?, ?it/s, N=500, linreg=0.997, pcr=0.911, pls=0.997, rho=0.9]"
     ]
    },
    {
     "name": "stdout",
     "output_type": "stream",
     "text": [
      "       M    N    n   rho   model        R2         MSE\n",
      "0   5000  500    5  0.01  linreg  0.997495    1.101917\n",
      "1   5000  500    5  0.01     pcr  0.024885  428.943009\n",
      "2   5000  500    5  0.01     pls  0.997442    1.125453\n",
      "0   5000  500   50  0.01  linreg  0.997495    1.101917\n",
      "1   5000  500   50  0.01     pcr  0.095849  397.726742\n",
      "..   ...  ...  ...   ...     ...       ...         ...\n",
      "1   2500  500  250  0.90     pcr  0.947550   26.867378\n",
      "2   2500  500  250  0.90     pls  0.997473    1.294308\n",
      "0   1500  500    5  0.90  linreg  0.996946    1.564181\n",
      "1   1500  500    5  0.90     pcr  0.904436   48.943146\n",
      "2   1500  500    5  0.90     pls  0.996196    1.948435\n",
      "\n",
      "[267 rows x 7 columns]\n"
     ]
    },
    {
     "name": "stderr",
     "output_type": "stream",
     "text": [
      "  0%|          | 0/5 [09:06<?, ?it/s, N=500, linreg=0.997, pcr=0.925, pls=0.997, rho=0.9]"
     ]
    },
    {
     "name": "stdout",
     "output_type": "stream",
     "text": [
      "       M    N   n   rho   model        R2         MSE\n",
      "0   5000  500   5  0.01  linreg  0.997495    1.101917\n",
      "1   5000  500   5  0.01     pcr  0.024885  428.943009\n",
      "2   5000  500   5  0.01     pls  0.997442    1.125453\n",
      "0   5000  500  50  0.01  linreg  0.997495    1.101917\n",
      "1   5000  500  50  0.01     pcr  0.095849  397.726742\n",
      "..   ...  ...  ..   ...     ...       ...         ...\n",
      "1   1500  500   5  0.90     pcr  0.904436   48.943146\n",
      "2   1500  500   5  0.90     pls  0.996196    1.948435\n",
      "0   1500  500  50  0.90  linreg  0.996946    1.564181\n",
      "1   1500  500  50  0.90     pcr  0.910920   45.622548\n",
      "2   1500  500  50  0.90     pls  0.996946    1.564181\n",
      "\n",
      "[270 rows x 7 columns]\n"
     ]
    },
    {
     "name": "stderr",
     "output_type": "stream",
     "text": [
      "  0%|          | 0/5 [09:14<?, ?it/s, N=500, linreg=0.997, pcr=0.948, pls=0.997, rho=0.9]"
     ]
    },
    {
     "name": "stdout",
     "output_type": "stream",
     "text": [
      "       M    N    n   rho   model        R2         MSE\n",
      "0   5000  500    5  0.01  linreg  0.997495    1.101917\n",
      "1   5000  500    5  0.01     pcr  0.024885  428.943009\n",
      "2   5000  500    5  0.01     pls  0.997442    1.125453\n",
      "0   5000  500   50  0.01  linreg  0.997495    1.101917\n",
      "1   5000  500   50  0.01     pcr  0.095849  397.726742\n",
      "..   ...  ...  ...   ...     ...       ...         ...\n",
      "1   1500  500   50  0.90     pcr  0.910920   45.622548\n",
      "2   1500  500   50  0.90     pls  0.996946    1.564181\n",
      "0   1500  500  125  0.90  linreg  0.996946    1.564181\n",
      "1   1500  500  125  0.90     pcr  0.924892   38.466617\n",
      "2   1500  500  125  0.90     pls  0.996947    1.563819\n",
      "\n",
      "[273 rows x 7 columns]\n"
     ]
    },
    {
     "name": "stderr",
     "output_type": "stream",
     "text": [
      "  0%|          | 0/5 [09:17<?, ?it/s, N=500, linreg=0.996, pcr=0.903, pls=0.993, rho=0.9]"
     ]
    },
    {
     "name": "stdout",
     "output_type": "stream",
     "text": [
      "       M    N    n   rho   model        R2         MSE\n",
      "0   5000  500    5  0.01  linreg  0.997495    1.101917\n",
      "1   5000  500    5  0.01     pcr  0.024885  428.943009\n",
      "2   5000  500    5  0.01     pls  0.997442    1.125453\n",
      "0   5000  500   50  0.01  linreg  0.997495    1.101917\n",
      "1   5000  500   50  0.01     pcr  0.095849  397.726742\n",
      "..   ...  ...  ...   ...     ...       ...         ...\n",
      "1   1500  500  125  0.90     pcr  0.924892   38.466617\n",
      "2   1500  500  125  0.90     pls  0.996947    1.563819\n",
      "0   1500  500  250  0.90  linreg  0.996946    1.564181\n",
      "1   1500  500  250  0.90     pcr  0.948415   26.419194\n",
      "2   1500  500  250  0.90     pls  0.996924    1.575229\n",
      "\n",
      "[276 rows x 7 columns]\n"
     ]
    },
    {
     "name": "stderr",
     "output_type": "stream",
     "text": [
      "  0%|          | 0/5 [09:24<?, ?it/s, N=500, linreg=0.996, pcr=0.912, pls=0.996, rho=0.9]"
     ]
    },
    {
     "name": "stdout",
     "output_type": "stream",
     "text": [
      "       M    N    n   rho   model        R2         MSE\n",
      "0   5000  500    5  0.01  linreg  0.997495    1.101917\n",
      "1   5000  500    5  0.01     pcr  0.024885  428.943009\n",
      "2   5000  500    5  0.01     pls  0.997442    1.125453\n",
      "0   5000  500   50  0.01  linreg  0.997495    1.101917\n",
      "1   5000  500   50  0.01     pcr  0.095849  397.726742\n",
      "..   ...  ...  ...   ...     ...       ...         ...\n",
      "1   1500  500  250  0.90     pcr  0.948415   26.419194\n",
      "2   1500  500  250  0.90     pls  0.996924    1.575229\n",
      "0   1000  500    5  0.90  linreg  0.995812    2.144600\n",
      "1   1000  500    5  0.90     pcr  0.903067   49.640582\n",
      "2   1000  500    5  0.90     pls  0.993481    3.338632\n",
      "\n",
      "[279 rows x 7 columns]\n"
     ]
    },
    {
     "name": "stderr",
     "output_type": "stream",
     "text": [
      "  0%|          | 0/5 [09:31<?, ?it/s, N=500, linreg=0.996, pcr=0.924, pls=0.996, rho=0.9]"
     ]
    },
    {
     "name": "stdout",
     "output_type": "stream",
     "text": [
      "       M    N   n   rho   model        R2         MSE\n",
      "0   5000  500   5  0.01  linreg  0.997495    1.101917\n",
      "1   5000  500   5  0.01     pcr  0.024885  428.943009\n",
      "2   5000  500   5  0.01     pls  0.997442    1.125453\n",
      "0   5000  500  50  0.01  linreg  0.997495    1.101917\n",
      "1   5000  500  50  0.01     pcr  0.095849  397.726742\n",
      "..   ...  ...  ..   ...     ...       ...         ...\n",
      "1   1000  500   5  0.90     pcr  0.903067   49.640582\n",
      "2   1000  500   5  0.90     pls  0.993481    3.338632\n",
      "0   1000  500  50  0.90  linreg  0.995812    2.144600\n",
      "1   1000  500  50  0.90     pcr  0.912358   44.883022\n",
      "2   1000  500  50  0.90     pls  0.995812    2.144600\n",
      "\n",
      "[282 rows x 7 columns]\n"
     ]
    },
    {
     "name": "stderr",
     "output_type": "stream",
     "text": [
      "  0%|          | 0/5 [09:38<?, ?it/s, N=500, linreg=0.996, pcr=0.949, pls=0.996, rho=0.9]"
     ]
    },
    {
     "name": "stdout",
     "output_type": "stream",
     "text": [
      "       M    N    n   rho   model        R2         MSE\n",
      "0   5000  500    5  0.01  linreg  0.997495    1.101917\n",
      "1   5000  500    5  0.01     pcr  0.024885  428.943009\n",
      "2   5000  500    5  0.01     pls  0.997442    1.125453\n",
      "0   5000  500   50  0.01  linreg  0.997495    1.101917\n",
      "1   5000  500   50  0.01     pcr  0.095849  397.726742\n",
      "..   ...  ...  ...   ...     ...       ...         ...\n",
      "1   1000  500   50  0.90     pcr  0.912358   44.883022\n",
      "2   1000  500   50  0.90     pls  0.995812    2.144600\n",
      "0   1000  500  125  0.90  linreg  0.995812    2.144600\n",
      "1   1000  500  125  0.90     pcr  0.924037   38.901947\n",
      "2   1000  500  125  0.90     pls  0.995812    2.144600\n",
      "\n",
      "[285 rows x 7 columns]\n"
     ]
    },
    {
     "name": "stderr",
     "output_type": "stream",
     "text": [
      "  0%|          | 0/5 [09:40<?, ?it/s, N=500, linreg=-2.41, pcr=0.904, pls=0.977, rho=0.9]"
     ]
    },
    {
     "name": "stdout",
     "output_type": "stream",
     "text": [
      "       M    N    n   rho   model        R2         MSE\n",
      "0   5000  500    5  0.01  linreg  0.997495    1.101917\n",
      "1   5000  500    5  0.01     pcr  0.024885  428.943009\n",
      "2   5000  500    5  0.01     pls  0.997442    1.125453\n",
      "0   5000  500   50  0.01  linreg  0.997495    1.101917\n",
      "1   5000  500   50  0.01     pcr  0.095849  397.726742\n",
      "..   ...  ...  ...   ...     ...       ...         ...\n",
      "1   1000  500  125  0.90     pcr  0.924037   38.901947\n",
      "2   1000  500  125  0.90     pls  0.995812    2.144600\n",
      "0   1000  500  250  0.90  linreg  0.995812    2.144600\n",
      "1   1000  500  250  0.90     pcr  0.948803   26.218764\n",
      "2   1000  500  250  0.90     pls  0.995811    2.145212\n",
      "\n",
      "[288 rows x 7 columns]\n"
     ]
    },
    {
     "name": "stderr",
     "output_type": "stream",
     "text": [
      "  0%|          | 0/5 [09:42<?, ?it/s, N=500, linreg=-2.41, pcr=0.911, pls=0.967, rho=0.9]"
     ]
    },
    {
     "name": "stdout",
     "output_type": "stream",
     "text": [
      "       M    N    n   rho   model        R2          MSE\n",
      "0   5000  500    5  0.01  linreg  0.997495     1.101917\n",
      "1   5000  500    5  0.01     pcr  0.024885   428.943009\n",
      "2   5000  500    5  0.01     pls  0.997442     1.125453\n",
      "0   5000  500   50  0.01  linreg  0.997495     1.101917\n",
      "1   5000  500   50  0.01     pcr  0.095849   397.726742\n",
      "..   ...  ...  ...   ...     ...       ...          ...\n",
      "1   1000  500  250  0.90     pcr  0.948803    26.218764\n",
      "2   1000  500  250  0.90     pls  0.995811     2.145212\n",
      "0    500  500    5  0.90  linreg -2.409082  1746.081745\n",
      "1    500  500    5  0.90     pcr  0.903522    49.414761\n",
      "2    500  500    5  0.90     pls  0.976886    11.838887\n",
      "\n",
      "[291 rows x 7 columns]\n"
     ]
    },
    {
     "name": "stderr",
     "output_type": "stream",
     "text": [
      "  0%|          | 0/5 [09:45<?, ?it/s, N=500, linreg=-2.41, pcr=0.923, pls=0.931, rho=0.9]"
     ]
    },
    {
     "name": "stdout",
     "output_type": "stream",
     "text": [
      "       M    N   n   rho   model        R2          MSE\n",
      "0   5000  500   5  0.01  linreg  0.997495     1.101917\n",
      "1   5000  500   5  0.01     pcr  0.024885   428.943009\n",
      "2   5000  500   5  0.01     pls  0.997442     1.125453\n",
      "0   5000  500  50  0.01  linreg  0.997495     1.101917\n",
      "1   5000  500  50  0.01     pcr  0.095849   397.726742\n",
      "..   ...  ...  ..   ...     ...       ...          ...\n",
      "1    500  500   5  0.90     pcr  0.903522    49.414761\n",
      "2    500  500   5  0.90     pls  0.976886    11.838887\n",
      "0    500  500  50  0.90  linreg -2.409082  1746.081745\n",
      "1    500  500  50  0.90     pcr  0.911151    45.507092\n",
      "2    500  500  50  0.90     pls  0.967129    16.836009\n",
      "\n",
      "[294 rows x 7 columns]\n"
     ]
    },
    {
     "name": "stderr",
     "output_type": "stream",
     "text": [
      "  0%|          | 0/5 [09:49<?, ?it/s, N=500, linreg=-2.41, pcr=0.952, pls=0.607, rho=0.9]"
     ]
    },
    {
     "name": "stdout",
     "output_type": "stream",
     "text": [
      "       M    N    n   rho   model        R2          MSE\n",
      "0   5000  500    5  0.01  linreg  0.997495     1.101917\n",
      "1   5000  500    5  0.01     pcr  0.024885   428.943009\n",
      "2   5000  500    5  0.01     pls  0.997442     1.125453\n",
      "0   5000  500   50  0.01  linreg  0.997495     1.101917\n",
      "1   5000  500   50  0.01     pcr  0.095849   397.726742\n",
      "..   ...  ...  ...   ...     ...       ...          ...\n",
      "1    500  500   50  0.90     pcr  0.911151    45.507092\n",
      "2    500  500   50  0.90     pls  0.967129    16.836009\n",
      "0    500  500  125  0.90  linreg -2.409082  1746.081745\n",
      "1    500  500  125  0.90     pcr  0.922564    39.661407\n",
      "2    500  500  125  0.90     pls  0.930740    35.473748\n",
      "\n",
      "[297 rows x 7 columns]\n"
     ]
    },
    {
     "name": "stderr",
     "output_type": "stream",
     "text": [
      "  0%|          | 0/5 [09:54<?, ?it/s, N=500, linreg=0.997, pcr=0.984, pls=0.997, rho=0.99]"
     ]
    },
    {
     "name": "stdout",
     "output_type": "stream",
     "text": [
      "       M    N    n   rho   model        R2          MSE\n",
      "0   5000  500    5  0.01  linreg  0.997495     1.101917\n",
      "1   5000  500    5  0.01     pcr  0.024885   428.943009\n",
      "2   5000  500    5  0.01     pls  0.997442     1.125453\n",
      "0   5000  500   50  0.01  linreg  0.997495     1.101917\n",
      "1   5000  500   50  0.01     pcr  0.095849   397.726742\n",
      "..   ...  ...  ...   ...     ...       ...          ...\n",
      "1    500  500  125  0.90     pcr  0.922564    39.661407\n",
      "2    500  500  125  0.90     pls  0.930740    35.473748\n",
      "0    500  500  250  0.90  linreg -2.409082  1746.081745\n",
      "1    500  500  250  0.90     pcr  0.952453    24.353066\n",
      "2    500  500  250  0.90     pls  0.606535   201.527187\n",
      "\n",
      "[300 rows x 7 columns]\n"
     ]
    },
    {
     "name": "stderr",
     "output_type": "stream",
     "text": [
      "  0%|          | 0/5 [10:01<?, ?it/s, N=500, linreg=0.997, pcr=0.986, pls=0.997, rho=0.99]"
     ]
    },
    {
     "name": "stdout",
     "output_type": "stream",
     "text": [
      "       M    N    n   rho   model        R2         MSE\n",
      "0   5000  500    5  0.01  linreg  0.997495    1.101917\n",
      "1   5000  500    5  0.01     pcr  0.024885  428.943009\n",
      "2   5000  500    5  0.01     pls  0.997442    1.125453\n",
      "0   5000  500   50  0.01  linreg  0.997495    1.101917\n",
      "1   5000  500   50  0.01     pcr  0.095849  397.726742\n",
      "..   ...  ...  ...   ...     ...       ...         ...\n",
      "1    500  500  250  0.90     pcr  0.952453   24.353066\n",
      "2    500  500  250  0.90     pls  0.606535  201.527187\n",
      "0   5000  500    5  0.99  linreg  0.997001    1.101374\n",
      "1   5000  500    5  0.99     pcr  0.984138    5.826370\n",
      "2   5000  500    5  0.99     pls  0.996996    1.103324\n",
      "\n",
      "[303 rows x 7 columns]\n"
     ]
    },
    {
     "name": "stderr",
     "output_type": "stream",
     "text": [
      "  0%|          | 0/5 [10:09<?, ?it/s, N=500, linreg=0.997, pcr=0.987, pls=0.997, rho=0.99]"
     ]
    },
    {
     "name": "stdout",
     "output_type": "stream",
     "text": [
      "       M    N   n   rho   model        R2         MSE\n",
      "0   5000  500   5  0.01  linreg  0.997495    1.101917\n",
      "1   5000  500   5  0.01     pcr  0.024885  428.943009\n",
      "2   5000  500   5  0.01     pls  0.997442    1.125453\n",
      "0   5000  500  50  0.01  linreg  0.997495    1.101917\n",
      "1   5000  500  50  0.01     pcr  0.095849  397.726742\n",
      "..   ...  ...  ..   ...     ...       ...         ...\n",
      "1   5000  500   5  0.99     pcr  0.984138    5.826370\n",
      "2   5000  500   5  0.99     pls  0.996996    1.103324\n",
      "0   5000  500  50  0.99  linreg  0.997001    1.101374\n",
      "1   5000  500  50  0.99     pcr  0.985664    5.265708\n",
      "2   5000  500  50  0.99     pls  0.997001    1.101374\n",
      "\n",
      "[306 rows x 7 columns]\n"
     ]
    },
    {
     "name": "stderr",
     "output_type": "stream",
     "text": [
      "  0%|          | 0/5 [10:19<?, ?it/s, N=500, linreg=0.997, pcr=0.991, pls=0.997, rho=0.99]"
     ]
    },
    {
     "name": "stdout",
     "output_type": "stream",
     "text": [
      "       M    N    n   rho   model        R2         MSE\n",
      "0   5000  500    5  0.01  linreg  0.997495    1.101917\n",
      "1   5000  500    5  0.01     pcr  0.024885  428.943009\n",
      "2   5000  500    5  0.01     pls  0.997442    1.125453\n",
      "0   5000  500   50  0.01  linreg  0.997495    1.101917\n",
      "1   5000  500   50  0.01     pcr  0.095849  397.726742\n",
      "..   ...  ...  ...   ...     ...       ...         ...\n",
      "1   5000  500   50  0.99     pcr  0.985664    5.265708\n",
      "2   5000  500   50  0.99     pls  0.997001    1.101374\n",
      "0   5000  500  125  0.99  linreg  0.997001    1.101374\n",
      "1   5000  500  125  0.99     pcr  0.987486    4.596528\n",
      "2   5000  500  125  0.99     pls  0.997002    1.101275\n",
      "\n",
      "[309 rows x 7 columns]\n"
     ]
    },
    {
     "name": "stderr",
     "output_type": "stream",
     "text": [
      "  0%|          | 0/5 [10:23<?, ?it/s, N=500, linreg=0.997, pcr=0.984, pls=0.997, rho=0.99]"
     ]
    },
    {
     "name": "stdout",
     "output_type": "stream",
     "text": [
      "       M    N    n   rho   model        R2         MSE\n",
      "0   5000  500    5  0.01  linreg  0.997495    1.101917\n",
      "1   5000  500    5  0.01     pcr  0.024885  428.943009\n",
      "2   5000  500    5  0.01     pls  0.997442    1.125453\n",
      "0   5000  500   50  0.01  linreg  0.997495    1.101917\n",
      "1   5000  500   50  0.01     pcr  0.095849  397.726742\n",
      "..   ...  ...  ...   ...     ...       ...         ...\n",
      "1   5000  500  125  0.99     pcr  0.987486    4.596528\n",
      "2   5000  500  125  0.99     pls  0.997002    1.101275\n",
      "0   5000  500  250  0.99  linreg  0.997001    1.101374\n",
      "1   5000  500  250  0.99     pcr  0.990570    3.463803\n",
      "2   5000  500  250  0.99     pls  0.996992    1.104981\n",
      "\n",
      "[312 rows x 7 columns]\n"
     ]
    },
    {
     "name": "stderr",
     "output_type": "stream",
     "text": [
      "  0%|          | 0/5 [10:30<?, ?it/s, N=500, linreg=0.997, pcr=0.985, pls=0.997, rho=0.99]"
     ]
    },
    {
     "name": "stdout",
     "output_type": "stream",
     "text": [
      "       M    N    n   rho   model        R2         MSE\n",
      "0   5000  500    5  0.01  linreg  0.997495    1.101917\n",
      "1   5000  500    5  0.01     pcr  0.024885  428.943009\n",
      "2   5000  500    5  0.01     pls  0.997442    1.125453\n",
      "0   5000  500   50  0.01  linreg  0.997495    1.101917\n",
      "1   5000  500   50  0.01     pcr  0.095849  397.726742\n",
      "..   ...  ...  ...   ...     ...       ...         ...\n",
      "1   5000  500  250  0.99     pcr  0.990570    3.463803\n",
      "2   5000  500  250  0.99     pls  0.996992    1.104981\n",
      "0   2500  500    5  0.99  linreg  0.996582    1.255655\n",
      "1   2500  500    5  0.99     pcr  0.984161    5.818818\n",
      "2   2500  500    5  0.99     pls  0.996565    1.262022\n",
      "\n",
      "[315 rows x 7 columns]\n"
     ]
    },
    {
     "name": "stderr",
     "output_type": "stream",
     "text": [
      "  0%|          | 0/5 [10:38<?, ?it/s, N=500, linreg=0.997, pcr=0.988, pls=0.997, rho=0.99]"
     ]
    },
    {
     "name": "stdout",
     "output_type": "stream",
     "text": [
      "       M    N   n   rho   model        R2         MSE\n",
      "0   5000  500   5  0.01  linreg  0.997495    1.101917\n",
      "1   5000  500   5  0.01     pcr  0.024885  428.943009\n",
      "2   5000  500   5  0.01     pls  0.997442    1.125453\n",
      "0   5000  500  50  0.01  linreg  0.997495    1.101917\n",
      "1   5000  500  50  0.01     pcr  0.095849  397.726742\n",
      "..   ...  ...  ..   ...     ...       ...         ...\n",
      "1   2500  500   5  0.99     pcr  0.984161    5.818818\n",
      "2   2500  500   5  0.99     pls  0.996565    1.262022\n",
      "0   2500  500  50  0.99  linreg  0.996582    1.255655\n",
      "1   2500  500  50  0.99     pcr  0.985326    5.390873\n",
      "2   2500  500  50  0.99     pls  0.996582    1.255655\n",
      "\n",
      "[318 rows x 7 columns]\n"
     ]
    },
    {
     "name": "stderr",
     "output_type": "stream",
     "text": [
      "  0%|          | 0/5 [10:47<?, ?it/s, N=500, linreg=0.997, pcr=0.991, pls=0.997, rho=0.99]"
     ]
    },
    {
     "name": "stdout",
     "output_type": "stream",
     "text": [
      "       M    N    n   rho   model        R2         MSE\n",
      "0   5000  500    5  0.01  linreg  0.997495    1.101917\n",
      "1   5000  500    5  0.01     pcr  0.024885  428.943009\n",
      "2   5000  500    5  0.01     pls  0.997442    1.125453\n",
      "0   5000  500   50  0.01  linreg  0.997495    1.101917\n",
      "1   5000  500   50  0.01     pcr  0.095849  397.726742\n",
      "..   ...  ...  ...   ...     ...       ...         ...\n",
      "1   2500  500   50  0.99     pcr  0.985326    5.390873\n",
      "2   2500  500   50  0.99     pls  0.996582    1.255655\n",
      "0   2500  500  125  0.99  linreg  0.996582    1.255655\n",
      "1   2500  500  125  0.99     pcr  0.987552    4.573263\n",
      "2   2500  500  125  0.99     pls  0.996582    1.255759\n",
      "\n",
      "[321 rows x 7 columns]\n"
     ]
    },
    {
     "name": "stderr",
     "output_type": "stream",
     "text": [
      "  0%|          | 0/5 [10:50<?, ?it/s, N=500, linreg=0.996, pcr=0.984, pls=0.996, rho=0.99]"
     ]
    },
    {
     "name": "stdout",
     "output_type": "stream",
     "text": [
      "       M    N    n   rho   model        R2         MSE\n",
      "0   5000  500    5  0.01  linreg  0.997495    1.101917\n",
      "1   5000  500    5  0.01     pcr  0.024885  428.943009\n",
      "2   5000  500    5  0.01     pls  0.997442    1.125453\n",
      "0   5000  500   50  0.01  linreg  0.997495    1.101917\n",
      "1   5000  500   50  0.01     pcr  0.095849  397.726742\n",
      "..   ...  ...  ...   ...     ...       ...         ...\n",
      "1   2500  500  125  0.99     pcr  0.987552    4.573263\n",
      "2   2500  500  125  0.99     pls  0.996582    1.255759\n",
      "0   2500  500  250  0.99  linreg  0.996582    1.255655\n",
      "1   2500  500  250  0.99     pcr  0.990595    3.455147\n",
      "2   2500  500  250  0.99     pls  0.996563    1.262563\n",
      "\n",
      "[324 rows x 7 columns]\n"
     ]
    },
    {
     "name": "stderr",
     "output_type": "stream",
     "text": [
      "  0%|          | 0/5 [10:57<?, ?it/s, N=500, linreg=0.996, pcr=0.985, pls=0.996, rho=0.99]"
     ]
    },
    {
     "name": "stdout",
     "output_type": "stream",
     "text": [
      "       M    N    n   rho   model        R2         MSE\n",
      "0   5000  500    5  0.01  linreg  0.997495    1.101917\n",
      "1   5000  500    5  0.01     pcr  0.024885  428.943009\n",
      "2   5000  500    5  0.01     pls  0.997442    1.125453\n",
      "0   5000  500   50  0.01  linreg  0.997495    1.101917\n",
      "1   5000  500   50  0.01     pcr  0.095849  397.726742\n",
      "..   ...  ...  ...   ...     ...       ...         ...\n",
      "1   2500  500  250  0.99     pcr  0.990595    3.455147\n",
      "2   2500  500  250  0.99     pls  0.996563    1.262563\n",
      "0   1500  500    5  0.99  linreg  0.995980    1.476603\n",
      "1   1500  500    5  0.99     pcr  0.984156    5.819431\n",
      "2   1500  500    5  0.99     pls  0.995987    1.474112\n",
      "\n",
      "[327 rows x 7 columns]\n"
     ]
    },
    {
     "name": "stderr",
     "output_type": "stream",
     "text": [
      "  0%|          | 0/5 [11:05<?, ?it/s, N=500, linreg=0.996, pcr=0.987, pls=0.996, rho=0.99]"
     ]
    },
    {
     "name": "stdout",
     "output_type": "stream",
     "text": [
      "       M    N   n   rho   model        R2         MSE\n",
      "0   5000  500   5  0.01  linreg  0.997495    1.101917\n",
      "1   5000  500   5  0.01     pcr  0.024885  428.943009\n",
      "2   5000  500   5  0.01     pls  0.997442    1.125453\n",
      "0   5000  500  50  0.01  linreg  0.997495    1.101917\n",
      "1   5000  500  50  0.01     pcr  0.095849  397.726742\n",
      "..   ...  ...  ..   ...     ...       ...         ...\n",
      "1   1500  500   5  0.99     pcr  0.984156    5.819431\n",
      "2   1500  500   5  0.99     pls  0.995987    1.474112\n",
      "0   1500  500  50  0.99  linreg  0.995980    1.476603\n",
      "1   1500  500  50  0.99     pcr  0.985436    5.349517\n",
      "2   1500  500  50  0.99     pls  0.995980    1.476603\n",
      "\n",
      "[330 rows x 7 columns]\n"
     ]
    },
    {
     "name": "stderr",
     "output_type": "stream",
     "text": [
      "  0%|          | 0/5 [11:14<?, ?it/s, N=500, linreg=0.996, pcr=0.99, pls=0.996, rho=0.99] "
     ]
    },
    {
     "name": "stdout",
     "output_type": "stream",
     "text": [
      "       M    N    n   rho   model        R2         MSE\n",
      "0   5000  500    5  0.01  linreg  0.997495    1.101917\n",
      "1   5000  500    5  0.01     pcr  0.024885  428.943009\n",
      "2   5000  500    5  0.01     pls  0.997442    1.125453\n",
      "0   5000  500   50  0.01  linreg  0.997495    1.101917\n",
      "1   5000  500   50  0.01     pcr  0.095849  397.726742\n",
      "..   ...  ...  ...   ...     ...       ...         ...\n",
      "1   1500  500   50  0.99     pcr  0.985436    5.349517\n",
      "2   1500  500   50  0.99     pls  0.995980    1.476603\n",
      "0   1500  500  125  0.99  linreg  0.995980    1.476603\n",
      "1   1500  500  125  0.99     pcr  0.987335    4.651893\n",
      "2   1500  500  125  0.99     pls  0.995981    1.476056\n",
      "\n",
      "[333 rows x 7 columns]\n"
     ]
    },
    {
     "name": "stderr",
     "output_type": "stream",
     "text": [
      "  0%|          | 0/5 [11:17<?, ?it/s, N=500, linreg=0.995, pcr=0.984, pls=0.995, rho=0.99]"
     ]
    },
    {
     "name": "stdout",
     "output_type": "stream",
     "text": [
      "       M    N    n   rho   model        R2         MSE\n",
      "0   5000  500    5  0.01  linreg  0.997495    1.101917\n",
      "1   5000  500    5  0.01     pcr  0.024885  428.943009\n",
      "2   5000  500    5  0.01     pls  0.997442    1.125453\n",
      "0   5000  500   50  0.01  linreg  0.997495    1.101917\n",
      "1   5000  500   50  0.01     pcr  0.095849  397.726742\n",
      "..   ...  ...  ...   ...     ...       ...         ...\n",
      "1   1500  500  125  0.99     pcr  0.987335    4.651893\n",
      "2   1500  500  125  0.99     pls  0.995981    1.476056\n",
      "0   1500  500  250  0.99  linreg  0.995980    1.476603\n",
      "1   1500  500  250  0.99     pcr  0.990459    3.504337\n",
      "2   1500  500  250  0.99     pls  0.995954    1.486235\n",
      "\n",
      "[336 rows x 7 columns]\n"
     ]
    },
    {
     "name": "stderr",
     "output_type": "stream",
     "text": [
      "  0%|          | 0/5 [11:24<?, ?it/s, N=500, linreg=0.995, pcr=0.985, pls=0.995, rho=0.99]"
     ]
    },
    {
     "name": "stdout",
     "output_type": "stream",
     "text": [
      "       M    N    n   rho   model        R2         MSE\n",
      "0   5000  500    5  0.01  linreg  0.997495    1.101917\n",
      "1   5000  500    5  0.01     pcr  0.024885  428.943009\n",
      "2   5000  500    5  0.01     pls  0.997442    1.125453\n",
      "0   5000  500   50  0.01  linreg  0.997495    1.101917\n",
      "1   5000  500   50  0.01     pcr  0.095849  397.726742\n",
      "..   ...  ...  ...   ...     ...       ...         ...\n",
      "1   1500  500  250  0.99     pcr  0.990459    3.504337\n",
      "2   1500  500  250  0.99     pls  0.995954    1.486235\n",
      "0   1000  500    5  0.99  linreg  0.994905    1.871887\n",
      "1   1000  500    5  0.99     pcr  0.984316    5.762533\n",
      "2   1000  500    5  0.99     pls  0.995176    1.772484\n",
      "\n",
      "[339 rows x 7 columns]\n"
     ]
    },
    {
     "name": "stderr",
     "output_type": "stream",
     "text": [
      "  0%|          | 0/5 [11:34<?, ?it/s, N=500, linreg=0.995, pcr=0.988, pls=0.995, rho=0.99]"
     ]
    },
    {
     "name": "stdout",
     "output_type": "stream",
     "text": [
      "       M    N   n   rho   model        R2         MSE\n",
      "0   5000  500   5  0.01  linreg  0.997495    1.101917\n",
      "1   5000  500   5  0.01     pcr  0.024885  428.943009\n",
      "2   5000  500   5  0.01     pls  0.997442    1.125453\n",
      "0   5000  500  50  0.01  linreg  0.997495    1.101917\n",
      "1   5000  500  50  0.01     pcr  0.095849  397.726742\n",
      "..   ...  ...  ..   ...     ...       ...         ...\n",
      "1   1000  500   5  0.99     pcr  0.984316    5.762533\n",
      "2   1000  500   5  0.99     pls  0.995176    1.772484\n",
      "0   1000  500  50  0.99  linreg  0.994905    1.871887\n",
      "1   1000  500  50  0.99     pcr  0.985310    5.397166\n",
      "2   1000  500  50  0.99     pls  0.994905    1.871887\n",
      "\n",
      "[342 rows x 7 columns]\n"
     ]
    },
    {
     "name": "stderr",
     "output_type": "stream",
     "text": [
      "  0%|          | 0/5 [11:44<?, ?it/s, N=500, linreg=0.995, pcr=0.99, pls=0.995, rho=0.99] "
     ]
    },
    {
     "name": "stdout",
     "output_type": "stream",
     "text": [
      "       M    N    n   rho   model        R2         MSE\n",
      "0   5000  500    5  0.01  linreg  0.997495    1.101917\n",
      "1   5000  500    5  0.01     pcr  0.024885  428.943009\n",
      "2   5000  500    5  0.01     pls  0.997442    1.125453\n",
      "0   5000  500   50  0.01  linreg  0.997495    1.101917\n",
      "1   5000  500   50  0.01     pcr  0.095849  397.726742\n",
      "..   ...  ...  ...   ...     ...       ...         ...\n",
      "1   1000  500   50  0.99     pcr  0.985310    5.397166\n",
      "2   1000  500   50  0.99     pls  0.994905    1.871887\n",
      "0   1000  500  125  0.99  linreg  0.994905    1.871887\n",
      "1   1000  500  125  0.99     pcr  0.987560    4.570570\n",
      "2   1000  500  125  0.99     pls  0.994905    1.871887\n",
      "\n",
      "[345 rows x 7 columns]\n"
     ]
    },
    {
     "name": "stderr",
     "output_type": "stream",
     "text": [
      "  0%|          | 0/5 [11:47<?, ?it/s, N=500, linreg=-1.04, pcr=0.984, pls=0.992, rho=0.99]"
     ]
    },
    {
     "name": "stdout",
     "output_type": "stream",
     "text": [
      "       M    N    n   rho   model        R2         MSE\n",
      "0   5000  500    5  0.01  linreg  0.997495    1.101917\n",
      "1   5000  500    5  0.01     pcr  0.024885  428.943009\n",
      "2   5000  500    5  0.01     pls  0.997442    1.125453\n",
      "0   5000  500   50  0.01  linreg  0.997495    1.101917\n",
      "1   5000  500   50  0.01     pcr  0.095849  397.726742\n",
      "..   ...  ...  ...   ...     ...       ...         ...\n",
      "1   1000  500  125  0.99     pcr  0.987560    4.570570\n",
      "2   1000  500  125  0.99     pls  0.994905    1.871887\n",
      "0   1000  500  250  0.99  linreg  0.994905    1.871887\n",
      "1   1000  500  250  0.99     pcr  0.990454    3.507291\n",
      "2   1000  500  250  0.99     pls  0.994905    1.872040\n",
      "\n",
      "[348 rows x 7 columns]\n"
     ]
    },
    {
     "name": "stderr",
     "output_type": "stream",
     "text": [
      "  0%|          | 0/5 [11:50<?, ?it/s, N=500, linreg=-1.04, pcr=0.985, pls=0.947, rho=0.99]"
     ]
    },
    {
     "name": "stdout",
     "output_type": "stream",
     "text": [
      "       M    N    n   rho   model        R2         MSE\n",
      "0   5000  500    5  0.01  linreg  0.997495    1.101917\n",
      "1   5000  500    5  0.01     pcr  0.024885  428.943009\n",
      "2   5000  500    5  0.01     pls  0.997442    1.125453\n",
      "0   5000  500   50  0.01  linreg  0.997495    1.101917\n",
      "1   5000  500   50  0.01     pcr  0.095849  397.726742\n",
      "..   ...  ...  ...   ...     ...       ...         ...\n",
      "1   1000  500  250  0.99     pcr  0.990454    3.507291\n",
      "2   1000  500  250  0.99     pls  0.994905    1.872040\n",
      "0    500  500    5  0.99  linreg -1.044621  751.266503\n",
      "1    500  500    5  0.99     pcr  0.984163    5.819079\n",
      "2    500  500    5  0.99     pls  0.992315    2.823600\n",
      "\n",
      "[351 rows x 7 columns]\n"
     ]
    },
    {
     "name": "stderr",
     "output_type": "stream",
     "text": [
      "  0%|          | 0/5 [11:53<?, ?it/s, N=500, linreg=-1.04, pcr=0.987, pls=0.876, rho=0.99]"
     ]
    },
    {
     "name": "stdout",
     "output_type": "stream",
     "text": [
      "       M    N   n   rho   model        R2         MSE\n",
      "0   5000  500   5  0.01  linreg  0.997495    1.101917\n",
      "1   5000  500   5  0.01     pcr  0.024885  428.943009\n",
      "2   5000  500   5  0.01     pls  0.997442    1.125453\n",
      "0   5000  500  50  0.01  linreg  0.997495    1.101917\n",
      "1   5000  500  50  0.01     pcr  0.095849  397.726742\n",
      "..   ...  ...  ..   ...     ...       ...         ...\n",
      "1    500  500   5  0.99     pcr  0.984163    5.819079\n",
      "2    500  500   5  0.99     pls  0.992315    2.823600\n",
      "0    500  500  50  0.99  linreg -1.044621  751.266503\n",
      "1    500  500  50  0.99     pcr  0.985325    5.392083\n",
      "2    500  500  50  0.99     pls  0.947140   19.422805\n",
      "\n",
      "[354 rows x 7 columns]\n"
     ]
    },
    {
     "name": "stderr",
     "output_type": "stream",
     "text": [
      " 20%|██        | 1/5 [11:58<47:53, 718.45s/it, N=500, linreg=-1.04, pcr=0.99, pls=0.769, rho=0.99]"
     ]
    },
    {
     "name": "stdout",
     "output_type": "stream",
     "text": [
      "       M    N    n   rho   model        R2         MSE\n",
      "0   5000  500    5  0.01  linreg  0.997495    1.101917\n",
      "1   5000  500    5  0.01     pcr  0.024885  428.943009\n",
      "2   5000  500    5  0.01     pls  0.997442    1.125453\n",
      "0   5000  500   50  0.01  linreg  0.997495    1.101917\n",
      "1   5000  500   50  0.01     pcr  0.095849  397.726742\n",
      "..   ...  ...  ...   ...     ...       ...         ...\n",
      "1    500  500   50  0.99     pcr  0.985325    5.392083\n",
      "2    500  500   50  0.99     pls  0.947140   19.422805\n",
      "0    500  500  125  0.99  linreg -1.044621  751.266503\n",
      "1    500  500  125  0.99     pcr  0.987432    4.617783\n",
      "2    500  500  125  0.99     pls  0.876056   45.541612\n",
      "\n",
      "[357 rows x 7 columns]\n"
     ]
    },
    {
     "name": "stderr",
     "output_type": "stream",
     "text": [
      " 20%|██        | 1/5 [12:01<47:53, 718.45s/it, N=100, linreg=0.988, pcr=0.0229, pls=0.878, rho=0.01]"
     ]
    },
    {
     "name": "stdout",
     "output_type": "stream",
     "text": [
      "       M    N    n   rho   model        R2         MSE\n",
      "0   5000  500    5  0.01  linreg  0.997495    1.101917\n",
      "1   5000  500    5  0.01     pcr  0.024885  428.943009\n",
      "2   5000  500    5  0.01     pls  0.997442    1.125453\n",
      "0   5000  500   50  0.01  linreg  0.997495    1.101917\n",
      "1   5000  500   50  0.01     pcr  0.095849  397.726742\n",
      "..   ...  ...  ...   ...     ...       ...         ...\n",
      "1    500  500  125  0.99     pcr  0.987432    4.617783\n",
      "2    500  500  125  0.99     pls  0.876056   45.541612\n",
      "0    500  500  250  0.99  linreg -1.044621  751.266503\n",
      "1    500  500  250  0.99     pcr  0.990469    3.501955\n",
      "2    500  500  250  0.99     pls  0.768650   85.006356\n",
      "\n",
      "[360 rows x 7 columns]\n"
     ]
    },
    {
     "name": "stderr",
     "output_type": "stream",
     "text": [
      " 20%|██        | 1/5 [12:04<47:53, 718.45s/it, N=100, linreg=0.988, pcr=0.101, pls=0.988, rho=0.01] "
     ]
    },
    {
     "name": "stdout",
     "output_type": "stream",
     "text": [
      "       M    N    n   rho   model        R2         MSE\n",
      "0   5000  500    5  0.01  linreg  0.997495    1.101917\n",
      "1   5000  500    5  0.01     pcr  0.024885  428.943009\n",
      "2   5000  500    5  0.01     pls  0.997442    1.125453\n",
      "0   5000  500   50  0.01  linreg  0.997495    1.101917\n",
      "1   5000  500   50  0.01     pcr  0.095849  397.726742\n",
      "..   ...  ...  ...   ...     ...       ...         ...\n",
      "1    500  500  250  0.99     pcr  0.990469    3.501955\n",
      "2    500  500  250  0.99     pls  0.768650   85.006356\n",
      "0   1000  100    1  0.01  linreg  0.987977    1.131903\n",
      "1   1000  100    1  0.01     pcr  0.022899   91.988857\n",
      "2   1000  100    1  0.01     pls  0.878188   11.467998\n",
      "\n",
      "[363 rows x 7 columns]\n"
     ]
    },
    {
     "name": "stderr",
     "output_type": "stream",
     "text": [
      " 20%|██        | 1/5 [12:08<47:53, 718.45s/it, N=100, linreg=0.988, pcr=0.226, pls=0.988, rho=0.01]"
     ]
    },
    {
     "name": "stdout",
     "output_type": "stream",
     "text": [
      "       M    N   n   rho   model        R2         MSE\n",
      "0   5000  500   5  0.01  linreg  0.997495    1.101917\n",
      "1   5000  500   5  0.01     pcr  0.024885  428.943009\n",
      "2   5000  500   5  0.01     pls  0.997442    1.125453\n",
      "0   5000  500  50  0.01  linreg  0.997495    1.101917\n",
      "1   5000  500  50  0.01     pcr  0.095849  397.726742\n",
      "..   ...  ...  ..   ...     ...       ...         ...\n",
      "1   1000  100   1  0.01     pcr  0.022899   91.988857\n",
      "2   1000  100   1  0.01     pls  0.878188   11.467998\n",
      "0   1000  100  10  0.01  linreg  0.987977    1.131903\n",
      "1   1000  100  10  0.01     pcr  0.100845   84.650710\n",
      "2   1000  100  10  0.01     pls  0.987977    1.131897\n",
      "\n",
      "[366 rows x 7 columns]\n"
     ]
    },
    {
     "name": "stderr",
     "output_type": "stream",
     "text": [
      " 20%|██        | 1/5 [12:12<47:53, 718.45s/it, N=100, linreg=0.988, pcr=0.527, pls=0.988, rho=0.01]"
     ]
    },
    {
     "name": "stdout",
     "output_type": "stream",
     "text": [
      "       M    N   n   rho   model        R2         MSE\n",
      "0   5000  500   5  0.01  linreg  0.997495    1.101917\n",
      "1   5000  500   5  0.01     pcr  0.024885  428.943009\n",
      "2   5000  500   5  0.01     pls  0.997442    1.125453\n",
      "0   5000  500  50  0.01  linreg  0.997495    1.101917\n",
      "1   5000  500  50  0.01     pcr  0.095849  397.726742\n",
      "..   ...  ...  ..   ...     ...       ...         ...\n",
      "1   1000  100  10  0.01     pcr  0.100845   84.650710\n",
      "2   1000  100  10  0.01     pls  0.987977    1.131897\n",
      "0   1000  100  25  0.01  linreg  0.987977    1.131903\n",
      "1   1000  100  25  0.01     pcr  0.225763   72.890319\n",
      "2   1000  100  25  0.01     pls  0.987977    1.131903\n",
      "\n",
      "[369 rows x 7 columns]\n"
     ]
    },
    {
     "name": "stderr",
     "output_type": "stream",
     "text": [
      " 20%|██        | 1/5 [12:13<47:53, 718.45s/it, N=100, linreg=0.986, pcr=0.0339, pls=0.792, rho=0.01]"
     ]
    },
    {
     "name": "stdout",
     "output_type": "stream",
     "text": [
      "       M    N   n   rho   model        R2         MSE\n",
      "0   5000  500   5  0.01  linreg  0.997495    1.101917\n",
      "1   5000  500   5  0.01     pcr  0.024885  428.943009\n",
      "2   5000  500   5  0.01     pls  0.997442    1.125453\n",
      "0   5000  500  50  0.01  linreg  0.997495    1.101917\n",
      "1   5000  500  50  0.01     pcr  0.095849  397.726742\n",
      "..   ...  ...  ..   ...     ...       ...         ...\n",
      "1   1000  100  25  0.01     pcr  0.225763   72.890319\n",
      "2   1000  100  25  0.01     pls  0.987977    1.131903\n",
      "0   1000  100  50  0.01  linreg  0.987977    1.131903\n",
      "1   1000  100  50  0.01     pcr  0.526638   44.564486\n",
      "2   1000  100  50  0.01     pls  0.987977    1.131903\n",
      "\n",
      "[372 rows x 7 columns]\n"
     ]
    },
    {
     "name": "stderr",
     "output_type": "stream",
     "text": [
      " 20%|██        | 1/5 [12:14<47:53, 718.45s/it, N=100, linreg=0.986, pcr=0.0829, pls=0.986, rho=0.01]"
     ]
    },
    {
     "name": "stdout",
     "output_type": "stream",
     "text": [
      "       M    N   n   rho   model        R2         MSE\n",
      "0   5000  500   5  0.01  linreg  0.997495    1.101917\n",
      "1   5000  500   5  0.01     pcr  0.024885  428.943009\n",
      "2   5000  500   5  0.01     pls  0.997442    1.125453\n",
      "0   5000  500  50  0.01  linreg  0.997495    1.101917\n",
      "1   5000  500  50  0.01     pcr  0.095849  397.726742\n",
      "..   ...  ...  ..   ...     ...       ...         ...\n",
      "1   1000  100  50  0.01     pcr  0.526638   44.564486\n",
      "2   1000  100  50  0.01     pls  0.987977    1.131903\n",
      "0    500  100   1  0.01  linreg  0.986427    1.278208\n",
      "1    500  100   1  0.01     pcr  0.033902   90.981133\n",
      "2    500  100   1  0.01     pls  0.792212   19.568175\n",
      "\n",
      "[375 rows x 7 columns]\n"
     ]
    },
    {
     "name": "stderr",
     "output_type": "stream",
     "text": [
      " 20%|██        | 1/5 [12:15<47:53, 718.45s/it, N=100, linreg=0.986, pcr=0.212, pls=0.986, rho=0.01] "
     ]
    },
    {
     "name": "stdout",
     "output_type": "stream",
     "text": [
      "       M    N   n   rho   model        R2         MSE\n",
      "0   5000  500   5  0.01  linreg  0.997495    1.101917\n",
      "1   5000  500   5  0.01     pcr  0.024885  428.943009\n",
      "2   5000  500   5  0.01     pls  0.997442    1.125453\n",
      "0   5000  500  50  0.01  linreg  0.997495    1.101917\n",
      "1   5000  500  50  0.01     pcr  0.095849  397.726742\n",
      "..   ...  ...  ..   ...     ...       ...         ...\n",
      "1    500  100   1  0.01     pcr  0.033902   90.981133\n",
      "2    500  100   1  0.01     pls  0.792212   19.568175\n",
      "0    500  100  10  0.01  linreg  0.986427    1.278208\n",
      "1    500  100  10  0.01     pcr  0.082870   86.369645\n",
      "2    500  100  10  0.01     pls  0.986427    1.278209\n",
      "\n",
      "[378 rows x 7 columns]\n"
     ]
    },
    {
     "name": "stderr",
     "output_type": "stream",
     "text": [
      " 20%|██        | 1/5 [12:16<47:53, 718.45s/it, N=100, linreg=0.986, pcr=0.495, pls=0.986, rho=0.01]"
     ]
    },
    {
     "name": "stdout",
     "output_type": "stream",
     "text": [
      "       M    N   n   rho   model        R2         MSE\n",
      "0   5000  500   5  0.01  linreg  0.997495    1.101917\n",
      "1   5000  500   5  0.01     pcr  0.024885  428.943009\n",
      "2   5000  500   5  0.01     pls  0.997442    1.125453\n",
      "0   5000  500  50  0.01  linreg  0.997495    1.101917\n",
      "1   5000  500  50  0.01     pcr  0.095849  397.726742\n",
      "..   ...  ...  ..   ...     ...       ...         ...\n",
      "1    500  100  10  0.01     pcr  0.082870   86.369645\n",
      "2    500  100  10  0.01     pls  0.986427    1.278209\n",
      "0    500  100  25  0.01  linreg  0.986427    1.278208\n",
      "1    500  100  25  0.01     pcr  0.212163   74.193662\n",
      "2    500  100  25  0.01     pls  0.986427    1.278208\n",
      "\n",
      "[381 rows x 7 columns]\n"
     ]
    },
    {
     "name": "stderr",
     "output_type": "stream",
     "text": [
      " 20%|██        | 1/5 [12:17<47:53, 718.45s/it, N=100, linreg=0.983, pcr=0.0267, pls=0.718, rho=0.01]"
     ]
    },
    {
     "name": "stdout",
     "output_type": "stream",
     "text": [
      "       M    N   n   rho   model        R2         MSE\n",
      "0   5000  500   5  0.01  linreg  0.997495    1.101917\n",
      "1   5000  500   5  0.01     pcr  0.024885  428.943009\n",
      "2   5000  500   5  0.01     pls  0.997442    1.125453\n",
      "0   5000  500  50  0.01  linreg  0.997495    1.101917\n",
      "1   5000  500  50  0.01     pcr  0.095849  397.726742\n",
      "..   ...  ...  ..   ...     ...       ...         ...\n",
      "1    500  100  25  0.01     pcr  0.212163   74.193662\n",
      "2    500  100  25  0.01     pls  0.986427    1.278208\n",
      "0    500  100  50  0.01  linreg  0.986427    1.278208\n",
      "1    500  100  50  0.01     pcr  0.494614   47.594133\n",
      "2    500  100  50  0.01     pls  0.986427    1.278208\n",
      "\n",
      "[384 rows x 7 columns]\n"
     ]
    },
    {
     "name": "stderr",
     "output_type": "stream",
     "text": [
      " 20%|██        | 1/5 [12:18<47:53, 718.45s/it, N=100, linreg=0.983, pcr=0.083, pls=0.983, rho=0.01] "
     ]
    },
    {
     "name": "stdout",
     "output_type": "stream",
     "text": [
      "       M    N   n   rho   model        R2         MSE\n",
      "0   5000  500   5  0.01  linreg  0.997495    1.101917\n",
      "1   5000  500   5  0.01     pcr  0.024885  428.943009\n",
      "2   5000  500   5  0.01     pls  0.997442    1.125453\n",
      "0   5000  500  50  0.01  linreg  0.997495    1.101917\n",
      "1   5000  500  50  0.01     pcr  0.095849  397.726742\n",
      "..   ...  ...  ..   ...     ...       ...         ...\n",
      "1    500  100  50  0.01     pcr  0.494614   47.594133\n",
      "2    500  100  50  0.01     pls  0.986427    1.278208\n",
      "0    300  100   1  0.01  linreg  0.983232    1.579141\n",
      "1    300  100   1  0.01     pcr  0.026682   91.665103\n",
      "2    300  100   1  0.01     pls  0.717627   26.593280\n",
      "\n",
      "[387 rows x 7 columns]\n"
     ]
    },
    {
     "name": "stderr",
     "output_type": "stream",
     "text": [
      " 20%|██        | 1/5 [12:19<47:53, 718.45s/it, N=100, linreg=0.983, pcr=0.245, pls=0.983, rho=0.01]"
     ]
    },
    {
     "name": "stdout",
     "output_type": "stream",
     "text": [
      "       M    N   n   rho   model        R2         MSE\n",
      "0   5000  500   5  0.01  linreg  0.997495    1.101917\n",
      "1   5000  500   5  0.01     pcr  0.024885  428.943009\n",
      "2   5000  500   5  0.01     pls  0.997442    1.125453\n",
      "0   5000  500  50  0.01  linreg  0.997495    1.101917\n",
      "1   5000  500  50  0.01     pcr  0.095849  397.726742\n",
      "..   ...  ...  ..   ...     ...       ...         ...\n",
      "1    300  100   1  0.01     pcr  0.026682   91.665103\n",
      "2    300  100   1  0.01     pls  0.717627   26.593280\n",
      "0    300  100  10  0.01  linreg  0.983232    1.579141\n",
      "1    300  100  10  0.01     pcr  0.083007   86.360511\n",
      "2    300  100  10  0.01     pls  0.983327    1.570232\n",
      "\n",
      "[390 rows x 7 columns]\n"
     ]
    },
    {
     "name": "stderr",
     "output_type": "stream",
     "text": [
      " 20%|██        | 1/5 [12:21<47:53, 718.45s/it, N=100, linreg=0.983, pcr=0.47, pls=0.983, rho=0.01] "
     ]
    },
    {
     "name": "stdout",
     "output_type": "stream",
     "text": [
      "       M    N   n   rho   model        R2         MSE\n",
      "0   5000  500   5  0.01  linreg  0.997495    1.101917\n",
      "1   5000  500   5  0.01     pcr  0.024885  428.943009\n",
      "2   5000  500   5  0.01     pls  0.997442    1.125453\n",
      "0   5000  500  50  0.01  linreg  0.997495    1.101917\n",
      "1   5000  500  50  0.01     pcr  0.095849  397.726742\n",
      "..   ...  ...  ..   ...     ...       ...         ...\n",
      "1    300  100  10  0.01     pcr  0.083007   86.360511\n",
      "2    300  100  10  0.01     pls  0.983327    1.570232\n",
      "0    300  100  25  0.01  linreg  0.983232    1.579141\n",
      "1    300  100  25  0.01     pcr  0.244877   71.115940\n",
      "2    300  100  25  0.01     pls  0.983232    1.579141\n",
      "\n",
      "[393 rows x 7 columns]\n"
     ]
    },
    {
     "name": "stderr",
     "output_type": "stream",
     "text": [
      " 20%|██        | 1/5 [12:21<47:53, 718.45s/it, N=100, linreg=0.975, pcr=0.0103, pls=0.594, rho=0.01]"
     ]
    },
    {
     "name": "stdout",
     "output_type": "stream",
     "text": [
      "       M    N   n   rho   model        R2         MSE\n",
      "0   5000  500   5  0.01  linreg  0.997495    1.101917\n",
      "1   5000  500   5  0.01     pcr  0.024885  428.943009\n",
      "2   5000  500   5  0.01     pls  0.997442    1.125453\n",
      "0   5000  500  50  0.01  linreg  0.997495    1.101917\n",
      "1   5000  500  50  0.01     pcr  0.095849  397.726742\n",
      "..   ...  ...  ..   ...     ...       ...         ...\n",
      "1    300  100  25  0.01     pcr  0.244877   71.115940\n",
      "2    300  100  25  0.01     pls  0.983232    1.579141\n",
      "0    300  100  50  0.01  linreg  0.983232    1.579141\n",
      "1    300  100  50  0.01     pcr  0.469683   49.944151\n",
      "2    300  100  50  0.01     pls  0.983232    1.579141\n",
      "\n",
      "[396 rows x 7 columns]\n"
     ]
    },
    {
     "name": "stderr",
     "output_type": "stream",
     "text": [
      " 20%|██        | 1/5 [12:22<47:53, 718.45s/it, N=100, linreg=0.975, pcr=0.0673, pls=0.976, rho=0.01]"
     ]
    },
    {
     "name": "stdout",
     "output_type": "stream",
     "text": [
      "       M    N   n   rho   model        R2         MSE\n",
      "0   5000  500   5  0.01  linreg  0.997495    1.101917\n",
      "1   5000  500   5  0.01     pcr  0.024885  428.943009\n",
      "2   5000  500   5  0.01     pls  0.997442    1.125453\n",
      "0   5000  500  50  0.01  linreg  0.997495    1.101917\n",
      "1   5000  500  50  0.01     pcr  0.095849  397.726742\n",
      "..   ...  ...  ..   ...     ...       ...         ...\n",
      "1    300  100  50  0.01     pcr  0.469683   49.944151\n",
      "2    300  100  50  0.01     pls  0.983232    1.579141\n",
      "0    200  100   1  0.01  linreg  0.975257    2.330410\n",
      "1    200  100   1  0.01     pcr  0.010338   93.211462\n",
      "2    200  100   1  0.01     pls  0.593552   38.281415\n",
      "\n",
      "[399 rows x 7 columns]\n"
     ]
    },
    {
     "name": "stderr",
     "output_type": "stream",
     "text": [
      " 20%|██        | 1/5 [12:23<47:53, 718.45s/it, N=100, linreg=0.975, pcr=0.204, pls=0.975, rho=0.01] "
     ]
    },
    {
     "name": "stdout",
     "output_type": "stream",
     "text": [
      "       M    N   n   rho   model        R2         MSE\n",
      "0   5000  500   5  0.01  linreg  0.997495    1.101917\n",
      "1   5000  500   5  0.01     pcr  0.024885  428.943009\n",
      "2   5000  500   5  0.01     pls  0.997442    1.125453\n",
      "0   5000  500  50  0.01  linreg  0.997495    1.101917\n",
      "1   5000  500  50  0.01     pcr  0.095849  397.726742\n",
      "..   ...  ...  ..   ...     ...       ...         ...\n",
      "1    200  100   1  0.01     pcr  0.010338   93.211462\n",
      "2    200  100   1  0.01     pls  0.593552   38.281415\n",
      "0    200  100  10  0.01  linreg  0.975257    2.330410\n",
      "1    200  100  10  0.01     pcr  0.067285   87.847912\n",
      "2    200  100  10  0.01     pls  0.976181    2.243418\n",
      "\n",
      "[402 rows x 7 columns]\n"
     ]
    },
    {
     "name": "stderr",
     "output_type": "stream",
     "text": [
      " 20%|██        | 1/5 [12:24<47:53, 718.45s/it, N=100, linreg=0.975, pcr=0.438, pls=0.975, rho=0.01]"
     ]
    },
    {
     "name": "stdout",
     "output_type": "stream",
     "text": [
      "       M    N   n   rho   model        R2         MSE\n",
      "0   5000  500   5  0.01  linreg  0.997495    1.101917\n",
      "1   5000  500   5  0.01     pcr  0.024885  428.943009\n",
      "2   5000  500   5  0.01     pls  0.997442    1.125453\n",
      "0   5000  500  50  0.01  linreg  0.997495    1.101917\n",
      "1   5000  500  50  0.01     pcr  0.095849  397.726742\n",
      "..   ...  ...  ..   ...     ...       ...         ...\n",
      "1    200  100  10  0.01     pcr  0.067285   87.847912\n",
      "2    200  100  10  0.01     pls  0.976181    2.243418\n",
      "0    200  100  25  0.01  linreg  0.975257    2.330410\n",
      "1    200  100  25  0.01     pcr  0.203929   74.978030\n",
      "2    200  100  25  0.01     pls  0.975258    2.330295\n",
      "\n",
      "[405 rows x 7 columns]\n"
     ]
    },
    {
     "name": "stderr",
     "output_type": "stream",
     "text": [
      " 20%|██        | 1/5 [12:25<47:53, 718.45s/it, N=100, linreg=-20.4, pcr=-.0273, pls=0.439, rho=0.01]"
     ]
    },
    {
     "name": "stdout",
     "output_type": "stream",
     "text": [
      "       M    N   n   rho   model        R2         MSE\n",
      "0   5000  500   5  0.01  linreg  0.997495    1.101917\n",
      "1   5000  500   5  0.01     pcr  0.024885  428.943009\n",
      "2   5000  500   5  0.01     pls  0.997442    1.125453\n",
      "0   5000  500  50  0.01  linreg  0.997495    1.101917\n",
      "1   5000  500  50  0.01     pcr  0.095849  397.726742\n",
      "..   ...  ...  ..   ...     ...       ...         ...\n",
      "1    200  100  25  0.01     pcr  0.203929   74.978030\n",
      "2    200  100  25  0.01     pls  0.975258    2.330295\n",
      "0    200  100  50  0.01  linreg  0.975257    2.330410\n",
      "1    200  100  50  0.01     pcr  0.437501   52.979036\n",
      "2    200  100  50  0.01     pls  0.975257    2.330410\n",
      "\n",
      "[408 rows x 7 columns]\n"
     ]
    },
    {
     "name": "stderr",
     "output_type": "stream",
     "text": [
      " 20%|██        | 1/5 [12:26<47:53, 718.45s/it, N=100, linreg=-20.4, pcr=0.0444, pls=0.867, rho=0.01]"
     ]
    },
    {
     "name": "stdout",
     "output_type": "stream",
     "text": [
      "       M    N   n   rho   model         R2          MSE\n",
      "0   5000  500   5  0.01  linreg   0.997495     1.101917\n",
      "1   5000  500   5  0.01     pcr   0.024885   428.943009\n",
      "2   5000  500   5  0.01     pls   0.997442     1.125453\n",
      "0   5000  500  50  0.01  linreg   0.997495     1.101917\n",
      "1   5000  500  50  0.01     pcr   0.095849   397.726742\n",
      "..   ...  ...  ..   ...     ...        ...          ...\n",
      "1    200  100  50  0.01     pcr   0.437501    52.979036\n",
      "2    200  100  50  0.01     pls   0.975257     2.330410\n",
      "0    100  100   1  0.01  linreg -20.372972  2012.900142\n",
      "1    100  100   1  0.01     pcr  -0.027314    96.752136\n",
      "2    100  100   1  0.01     pls   0.439460    52.791482\n",
      "\n",
      "[411 rows x 7 columns]\n"
     ]
    },
    {
     "name": "stderr",
     "output_type": "stream",
     "text": [
      " 20%|██        | 1/5 [12:27<47:53, 718.45s/it, N=100, linreg=-20.4, pcr=0.208, pls=0.893, rho=0.01] "
     ]
    },
    {
     "name": "stdout",
     "output_type": "stream",
     "text": [
      "       M    N   n   rho   model         R2          MSE\n",
      "0   5000  500   5  0.01  linreg   0.997495     1.101917\n",
      "1   5000  500   5  0.01     pcr   0.024885   428.943009\n",
      "2   5000  500   5  0.01     pls   0.997442     1.125453\n",
      "0   5000  500  50  0.01  linreg   0.997495     1.101917\n",
      "1   5000  500  50  0.01     pcr   0.095849   397.726742\n",
      "..   ...  ...  ..   ...     ...        ...          ...\n",
      "1    100  100   1  0.01     pcr  -0.027314    96.752136\n",
      "2    100  100   1  0.01     pls   0.439460    52.791482\n",
      "0    100  100  10  0.01  linreg -20.372972  2012.900142\n",
      "1    100  100  10  0.01     pcr   0.044443    89.994049\n",
      "2    100  100  10  0.01     pls   0.866749    12.549526\n",
      "\n",
      "[414 rows x 7 columns]\n"
     ]
    },
    {
     "name": "stderr",
     "output_type": "stream",
     "text": [
      " 20%|██        | 1/5 [12:28<47:53, 718.45s/it, N=100, linreg=-20.4, pcr=0.366, pls=0.845, rho=0.01]"
     ]
    },
    {
     "name": "stdout",
     "output_type": "stream",
     "text": [
      "       M    N   n   rho   model         R2          MSE\n",
      "0   5000  500   5  0.01  linreg   0.997495     1.101917\n",
      "1   5000  500   5  0.01     pcr   0.024885   428.943009\n",
      "2   5000  500   5  0.01     pls   0.997442     1.125453\n",
      "0   5000  500  50  0.01  linreg   0.997495     1.101917\n",
      "1   5000  500  50  0.01     pcr   0.095849   397.726742\n",
      "..   ...  ...  ..   ...     ...        ...          ...\n",
      "1    100  100  10  0.01     pcr   0.044443    89.994049\n",
      "2    100  100  10  0.01     pls   0.866749    12.549526\n",
      "0    100  100  25  0.01  linreg -20.372972  2012.900142\n",
      "1    100  100  25  0.01     pcr   0.207873    74.602307\n",
      "2    100  100  25  0.01     pls   0.892674    10.107905\n",
      "\n",
      "[417 rows x 7 columns]\n"
     ]
    },
    {
     "name": "stderr",
     "output_type": "stream",
     "text": [
      " 20%|██        | 1/5 [12:30<47:53, 718.45s/it, N=100, linreg=0.987, pcr=0.0151, pls=0.491, rho=0.1]"
     ]
    },
    {
     "name": "stdout",
     "output_type": "stream",
     "text": [
      "       M    N   n   rho   model         R2          MSE\n",
      "0   5000  500   5  0.01  linreg   0.997495     1.101917\n",
      "1   5000  500   5  0.01     pcr   0.024885   428.943009\n",
      "2   5000  500   5  0.01     pls   0.997442     1.125453\n",
      "0   5000  500  50  0.01  linreg   0.997495     1.101917\n",
      "1   5000  500  50  0.01     pcr   0.095849   397.726742\n",
      "..   ...  ...  ..   ...     ...        ...          ...\n",
      "1    100  100  25  0.01     pcr   0.207873    74.602307\n",
      "2    100  100  25  0.01     pls   0.892674    10.107905\n",
      "0    100  100  50  0.01  linreg -20.372972  2012.900142\n",
      "1    100  100  50  0.01     pcr   0.365733    59.735099\n",
      "2    100  100  50  0.01     pls   0.844974    14.600268\n",
      "\n",
      "[420 rows x 7 columns]\n"
     ]
    },
    {
     "name": "stderr",
     "output_type": "stream",
     "text": [
      " 20%|██        | 1/5 [12:32<47:53, 718.45s/it, N=100, linreg=0.987, pcr=0.0928, pls=0.987, rho=0.1]"
     ]
    },
    {
     "name": "stdout",
     "output_type": "stream",
     "text": [
      "       M    N   n   rho   model        R2         MSE\n",
      "0   5000  500   5  0.01  linreg  0.997495    1.101917\n",
      "1   5000  500   5  0.01     pcr  0.024885  428.943009\n",
      "2   5000  500   5  0.01     pls  0.997442    1.125453\n",
      "0   5000  500  50  0.01  linreg  0.997495    1.101917\n",
      "1   5000  500  50  0.01     pcr  0.095849  397.726742\n",
      "..   ...  ...  ..   ...     ...       ...         ...\n",
      "1    100  100  50  0.01     pcr  0.365733   59.735099\n",
      "2    100  100  50  0.01     pls  0.844974   14.600268\n",
      "0   1000  100   1  0.10  linreg  0.987314    1.150311\n",
      "1   1000  100   1  0.10     pcr  0.015069   89.311720\n",
      "2   1000  100   1  0.10     pls  0.491290   46.128880\n",
      "\n",
      "[423 rows x 7 columns]\n"
     ]
    },
    {
     "name": "stderr",
     "output_type": "stream",
     "text": [
      " 20%|██        | 1/5 [12:36<47:53, 718.45s/it, N=100, linreg=0.987, pcr=0.32, pls=0.987, rho=0.1]  "
     ]
    },
    {
     "name": "stdout",
     "output_type": "stream",
     "text": [
      "       M    N   n   rho   model        R2         MSE\n",
      "0   5000  500   5  0.01  linreg  0.997495    1.101917\n",
      "1   5000  500   5  0.01     pcr  0.024885  428.943009\n",
      "2   5000  500   5  0.01     pls  0.997442    1.125453\n",
      "0   5000  500  50  0.01  linreg  0.997495    1.101917\n",
      "1   5000  500  50  0.01     pcr  0.095849  397.726742\n",
      "..   ...  ...  ..   ...     ...       ...         ...\n",
      "1   1000  100   1  0.10     pcr  0.015069   89.311720\n",
      "2   1000  100   1  0.10     pls  0.491290   46.128880\n",
      "0   1000  100  10  0.10  linreg  0.987314    1.150311\n",
      "1   1000  100  10  0.10     pcr  0.092807   82.262646\n",
      "2   1000  100  10  0.10     pls  0.987314    1.150313\n",
      "\n",
      "[426 rows x 7 columns]\n"
     ]
    },
    {
     "name": "stderr",
     "output_type": "stream",
     "text": [
      " 20%|██        | 1/5 [12:40<47:53, 718.45s/it, N=100, linreg=0.987, pcr=0.653, pls=0.987, rho=0.1]"
     ]
    },
    {
     "name": "stdout",
     "output_type": "stream",
     "text": [
      "       M    N   n   rho   model        R2         MSE\n",
      "0   5000  500   5  0.01  linreg  0.997495    1.101917\n",
      "1   5000  500   5  0.01     pcr  0.024885  428.943009\n",
      "2   5000  500   5  0.01     pls  0.997442    1.125453\n",
      "0   5000  500  50  0.01  linreg  0.997495    1.101917\n",
      "1   5000  500  50  0.01     pcr  0.095849  397.726742\n",
      "..   ...  ...  ..   ...     ...       ...         ...\n",
      "1   1000  100  10  0.10     pcr  0.092807   82.262646\n",
      "2   1000  100  10  0.10     pls  0.987314    1.150313\n",
      "0   1000  100  25  0.10  linreg  0.987314    1.150311\n",
      "1   1000  100  25  0.10     pcr  0.319624   61.695233\n",
      "2   1000  100  25  0.10     pls  0.987314    1.150311\n",
      "\n",
      "[429 rows x 7 columns]\n"
     ]
    },
    {
     "name": "stderr",
     "output_type": "stream",
     "text": [
      " 20%|██        | 1/5 [12:41<47:53, 718.45s/it, N=100, linreg=0.985, pcr=0.0145, pls=0.422, rho=0.1]"
     ]
    },
    {
     "name": "stdout",
     "output_type": "stream",
     "text": [
      "       M    N   n   rho   model        R2         MSE\n",
      "0   5000  500   5  0.01  linreg  0.997495    1.101917\n",
      "1   5000  500   5  0.01     pcr  0.024885  428.943009\n",
      "2   5000  500   5  0.01     pls  0.997442    1.125453\n",
      "0   5000  500  50  0.01  linreg  0.997495    1.101917\n",
      "1   5000  500  50  0.01     pcr  0.095849  397.726742\n",
      "..   ...  ...  ..   ...     ...       ...         ...\n",
      "1   1000  100  25  0.10     pcr  0.319624   61.695233\n",
      "2   1000  100  25  0.10     pls  0.987314    1.150311\n",
      "0   1000  100  50  0.10  linreg  0.987314    1.150311\n",
      "1   1000  100  50  0.10     pcr  0.653133   31.453303\n",
      "2   1000  100  50  0.10     pls  0.987314    1.150311\n",
      "\n",
      "[432 rows x 7 columns]\n"
     ]
    },
    {
     "name": "stderr",
     "output_type": "stream",
     "text": [
      " 20%|██        | 1/5 [12:42<47:53, 718.45s/it, N=100, linreg=0.985, pcr=0.121, pls=0.985, rho=0.1] "
     ]
    },
    {
     "name": "stdout",
     "output_type": "stream",
     "text": [
      "       M    N   n   rho   model        R2         MSE\n",
      "0   5000  500   5  0.01  linreg  0.997495    1.101917\n",
      "1   5000  500   5  0.01     pcr  0.024885  428.943009\n",
      "2   5000  500   5  0.01     pls  0.997442    1.125453\n",
      "0   5000  500  50  0.01  linreg  0.997495    1.101917\n",
      "1   5000  500  50  0.01     pcr  0.095849  397.726742\n",
      "..   ...  ...  ..   ...     ...       ...         ...\n",
      "1   1000  100  50  0.10     pcr  0.653133   31.453303\n",
      "2   1000  100  50  0.10     pls  0.987314    1.150311\n",
      "0    500  100   1  0.10  linreg  0.985107    1.351204\n",
      "1    500  100   1  0.10     pcr  0.014510   89.412200\n",
      "2    500  100   1  0.10     pls  0.422039   52.437659\n",
      "\n",
      "[435 rows x 7 columns]\n"
     ]
    },
    {
     "name": "stderr",
     "output_type": "stream",
     "text": [
      " 20%|██        | 1/5 [12:43<47:53, 718.45s/it, N=100, linreg=0.985, pcr=0.27, pls=0.985, rho=0.1] "
     ]
    },
    {
     "name": "stdout",
     "output_type": "stream",
     "text": [
      "       M    N   n   rho   model        R2         MSE\n",
      "0   5000  500   5  0.01  linreg  0.997495    1.101917\n",
      "1   5000  500   5  0.01     pcr  0.024885  428.943009\n",
      "2   5000  500   5  0.01     pls  0.997442    1.125453\n",
      "0   5000  500  50  0.01  linreg  0.997495    1.101917\n",
      "1   5000  500  50  0.01     pcr  0.095849  397.726742\n",
      "..   ...  ...  ..   ...     ...       ...         ...\n",
      "1    500  100   1  0.10     pcr  0.014510   89.412200\n",
      "2    500  100   1  0.10     pls  0.422039   52.437659\n",
      "0    500  100  10  0.10  linreg  0.985107    1.351204\n",
      "1    500  100  10  0.10     pcr  0.120977   79.752569\n",
      "2    500  100  10  0.10     pls  0.985112    1.350786\n",
      "\n",
      "[438 rows x 7 columns]\n"
     ]
    },
    {
     "name": "stderr",
     "output_type": "stream",
     "text": [
      " 20%|██        | 1/5 [12:44<47:53, 718.45s/it, N=100, linreg=0.985, pcr=0.576, pls=0.985, rho=0.1]"
     ]
    },
    {
     "name": "stdout",
     "output_type": "stream",
     "text": [
      "       M    N   n   rho   model        R2         MSE\n",
      "0   5000  500   5  0.01  linreg  0.997495    1.101917\n",
      "1   5000  500   5  0.01     pcr  0.024885  428.943009\n",
      "2   5000  500   5  0.01     pls  0.997442    1.125453\n",
      "0   5000  500  50  0.01  linreg  0.997495    1.101917\n",
      "1   5000  500  50  0.01     pcr  0.095849  397.726742\n",
      "..   ...  ...  ..   ...     ...       ...         ...\n",
      "1    500  100  10  0.10     pcr  0.120977   79.752569\n",
      "2    500  100  10  0.10     pls  0.985112    1.350786\n",
      "0    500  100  25  0.10  linreg  0.985107    1.351204\n",
      "1    500  100  25  0.10     pcr  0.270032   66.228990\n",
      "2    500  100  25  0.10     pls  0.985107    1.351204\n",
      "\n",
      "[441 rows x 7 columns]\n"
     ]
    },
    {
     "name": "stderr",
     "output_type": "stream",
     "text": [
      " 20%|██        | 1/5 [12:45<47:53, 718.45s/it, N=100, linreg=0.981, pcr=0.0133, pls=0.571, rho=0.1]"
     ]
    },
    {
     "name": "stdout",
     "output_type": "stream",
     "text": [
      "       M    N   n   rho   model        R2         MSE\n",
      "0   5000  500   5  0.01  linreg  0.997495    1.101917\n",
      "1   5000  500   5  0.01     pcr  0.024885  428.943009\n",
      "2   5000  500   5  0.01     pls  0.997442    1.125453\n",
      "0   5000  500  50  0.01  linreg  0.997495    1.101917\n",
      "1   5000  500  50  0.01     pcr  0.095849  397.726742\n",
      "..   ...  ...  ..   ...     ...       ...         ...\n",
      "1    500  100  25  0.10     pcr  0.270032   66.228990\n",
      "2    500  100  25  0.10     pls  0.985107    1.351204\n",
      "0    500  100  50  0.10  linreg  0.985107    1.351204\n",
      "1    500  100  50  0.10     pcr  0.575941   38.474333\n",
      "2    500  100  50  0.10     pls  0.985107    1.351204\n",
      "\n",
      "[444 rows x 7 columns]\n"
     ]
    },
    {
     "name": "stderr",
     "output_type": "stream",
     "text": [
      " 20%|██        | 1/5 [12:46<47:53, 718.45s/it, N=100, linreg=0.981, pcr=0.0697, pls=0.981, rho=0.1]"
     ]
    },
    {
     "name": "stdout",
     "output_type": "stream",
     "text": [
      "       M    N   n   rho   model        R2         MSE\n",
      "0   5000  500   5  0.01  linreg  0.997495    1.101917\n",
      "1   5000  500   5  0.01     pcr  0.024885  428.943009\n",
      "2   5000  500   5  0.01     pls  0.997442    1.125453\n",
      "0   5000  500  50  0.01  linreg  0.997495    1.101917\n",
      "1   5000  500  50  0.01     pcr  0.095849  397.726742\n",
      "..   ...  ...  ..   ...     ...       ...         ...\n",
      "1    500  100  50  0.10     pcr  0.575941   38.474333\n",
      "2    500  100  50  0.10     pls  0.985107    1.351204\n",
      "0    300  100   1  0.10  linreg  0.980856    1.737088\n",
      "1    300  100   1  0.10     pcr  0.013327   89.529437\n",
      "2    300  100   1  0.10     pls  0.571119   38.916059\n",
      "\n",
      "[447 rows x 7 columns]\n"
     ]
    },
    {
     "name": "stderr",
     "output_type": "stream",
     "text": [
      " 20%|██        | 1/5 [12:47<47:53, 718.45s/it, N=100, linreg=0.981, pcr=0.268, pls=0.981, rho=0.1] "
     ]
    },
    {
     "name": "stdout",
     "output_type": "stream",
     "text": [
      "       M    N   n   rho   model        R2         MSE\n",
      "0   5000  500   5  0.01  linreg  0.997495    1.101917\n",
      "1   5000  500   5  0.01     pcr  0.024885  428.943009\n",
      "2   5000  500   5  0.01     pls  0.997442    1.125453\n",
      "0   5000  500  50  0.01  linreg  0.997495    1.101917\n",
      "1   5000  500  50  0.01     pcr  0.095849  397.726742\n",
      "..   ...  ...  ..   ...     ...       ...         ...\n",
      "1    300  100   1  0.10     pcr  0.013327   89.529437\n",
      "2    300  100   1  0.10     pls  0.571119   38.916059\n",
      "0    300  100  10  0.10  linreg  0.980856    1.737088\n",
      "1    300  100  10  0.10     pcr  0.069666   84.417258\n",
      "2    300  100  10  0.10     pls  0.980739    1.747718\n",
      "\n",
      "[450 rows x 7 columns]\n"
     ]
    },
    {
     "name": "stderr",
     "output_type": "stream",
     "text": [
      " 20%|██        | 1/5 [12:48<47:53, 718.45s/it, N=100, linreg=0.981, pcr=0.593, pls=0.981, rho=0.1]"
     ]
    },
    {
     "name": "stdout",
     "output_type": "stream",
     "text": [
      "       M    N   n   rho   model        R2         MSE\n",
      "0   5000  500   5  0.01  linreg  0.997495    1.101917\n",
      "1   5000  500   5  0.01     pcr  0.024885  428.943009\n",
      "2   5000  500   5  0.01     pls  0.997442    1.125453\n",
      "0   5000  500  50  0.01  linreg  0.997495    1.101917\n",
      "1   5000  500  50  0.01     pcr  0.095849  397.726742\n",
      "..   ...  ...  ..   ...     ...       ...         ...\n",
      "1    300  100  10  0.10     pcr  0.069666   84.417258\n",
      "2    300  100  10  0.10     pls  0.980739    1.747718\n",
      "0    300  100  25  0.10  linreg  0.980856    1.737088\n",
      "1    300  100  25  0.10     pcr  0.267720   66.446141\n",
      "2    300  100  25  0.10     pls  0.980856    1.737089\n",
      "\n",
      "[453 rows x 7 columns]\n"
     ]
    },
    {
     "name": "stderr",
     "output_type": "stream",
     "text": [
      " 20%|██        | 1/5 [12:49<47:53, 718.45s/it, N=100, linreg=0.976, pcr=0.0149, pls=0.369, rho=0.1]"
     ]
    },
    {
     "name": "stdout",
     "output_type": "stream",
     "text": [
      "       M    N   n   rho   model        R2         MSE\n",
      "0   5000  500   5  0.01  linreg  0.997495    1.101917\n",
      "1   5000  500   5  0.01     pcr  0.024885  428.943009\n",
      "2   5000  500   5  0.01     pls  0.997442    1.125453\n",
      "0   5000  500  50  0.01  linreg  0.997495    1.101917\n",
      "1   5000  500  50  0.01     pcr  0.095849  397.726742\n",
      "..   ...  ...  ..   ...     ...       ...         ...\n",
      "1    300  100  25  0.10     pcr  0.267720   66.446141\n",
      "2    300  100  25  0.10     pls  0.980856    1.737089\n",
      "0    300  100  50  0.10  linreg  0.980856    1.737088\n",
      "1    300  100  50  0.10     pcr  0.593249   36.908072\n",
      "2    300  100  50  0.10     pls  0.980856    1.737088\n",
      "\n",
      "[456 rows x 7 columns]\n"
     ]
    },
    {
     "name": "stderr",
     "output_type": "stream",
     "text": [
      " 20%|██        | 1/5 [12:49<47:53, 718.45s/it, N=100, linreg=0.976, pcr=0.0973, pls=0.975, rho=0.1]"
     ]
    },
    {
     "name": "stdout",
     "output_type": "stream",
     "text": [
      "       M    N   n   rho   model        R2         MSE\n",
      "0   5000  500   5  0.01  linreg  0.997495    1.101917\n",
      "1   5000  500   5  0.01     pcr  0.024885  428.943009\n",
      "2   5000  500   5  0.01     pls  0.997442    1.125453\n",
      "0   5000  500  50  0.01  linreg  0.997495    1.101917\n",
      "1   5000  500  50  0.01     pcr  0.095849  397.726742\n",
      "..   ...  ...  ..   ...     ...       ...         ...\n",
      "1    300  100  50  0.10     pcr  0.593249   36.908072\n",
      "2    300  100  50  0.10     pls  0.980856    1.737088\n",
      "0    200  100   1  0.10  linreg  0.975960    2.181331\n",
      "1    200  100   1  0.10     pcr  0.014900   89.386960\n",
      "2    200  100   1  0.10     pls  0.368808   57.273650\n",
      "\n",
      "[459 rows x 7 columns]\n"
     ]
    },
    {
     "name": "stderr",
     "output_type": "stream",
     "text": [
      " 20%|██        | 1/5 [12:50<47:53, 718.45s/it, N=100, linreg=0.976, pcr=0.277, pls=0.976, rho=0.1] "
     ]
    },
    {
     "name": "stdout",
     "output_type": "stream",
     "text": [
      "       M    N   n   rho   model        R2         MSE\n",
      "0   5000  500   5  0.01  linreg  0.997495    1.101917\n",
      "1   5000  500   5  0.01     pcr  0.024885  428.943009\n",
      "2   5000  500   5  0.01     pls  0.997442    1.125453\n",
      "0   5000  500  50  0.01  linreg  0.997495    1.101917\n",
      "1   5000  500  50  0.01     pcr  0.095849  397.726742\n",
      "..   ...  ...  ..   ...     ...       ...         ...\n",
      "1    200  100   1  0.10     pcr  0.014900   89.386960\n",
      "2    200  100   1  0.10     pls  0.368808   57.273650\n",
      "0    200  100  10  0.10  linreg  0.975960    2.181331\n",
      "1    200  100  10  0.10     pcr  0.097337   81.906684\n",
      "2    200  100  10  0.10     pls  0.974946    2.273385\n",
      "\n",
      "[462 rows x 7 columns]\n"
     ]
    },
    {
     "name": "stderr",
     "output_type": "stream",
     "text": [
      " 20%|██        | 1/5 [12:51<47:53, 718.45s/it, N=100, linreg=0.976, pcr=0.525, pls=0.976, rho=0.1]"
     ]
    },
    {
     "name": "stdout",
     "output_type": "stream",
     "text": [
      "       M    N   n   rho   model        R2         MSE\n",
      "0   5000  500   5  0.01  linreg  0.997495    1.101917\n",
      "1   5000  500   5  0.01     pcr  0.024885  428.943009\n",
      "2   5000  500   5  0.01     pls  0.997442    1.125453\n",
      "0   5000  500  50  0.01  linreg  0.997495    1.101917\n",
      "1   5000  500  50  0.01     pcr  0.095849  397.726742\n",
      "..   ...  ...  ..   ...     ...       ...         ...\n",
      "1    200  100  10  0.10     pcr  0.097337   81.906684\n",
      "2    200  100  10  0.10     pls  0.974946    2.273385\n",
      "0    200  100  25  0.10  linreg  0.975960    2.181331\n",
      "1    200  100  25  0.10     pcr  0.276635   65.637403\n",
      "2    200  100  25  0.10     pls  0.975957    2.181650\n",
      "\n",
      "[465 rows x 7 columns]\n"
     ]
    },
    {
     "name": "stderr",
     "output_type": "stream",
     "text": [
      " 20%|██        | 1/5 [12:52<47:53, 718.45s/it, N=100, linreg=0.545, pcr=-.00998, pls=0.183, rho=0.1]"
     ]
    },
    {
     "name": "stdout",
     "output_type": "stream",
     "text": [
      "       M    N   n   rho   model        R2         MSE\n",
      "0   5000  500   5  0.01  linreg  0.997495    1.101917\n",
      "1   5000  500   5  0.01     pcr  0.024885  428.943009\n",
      "2   5000  500   5  0.01     pls  0.997442    1.125453\n",
      "0   5000  500  50  0.01  linreg  0.997495    1.101917\n",
      "1   5000  500  50  0.01     pcr  0.095849  397.726742\n",
      "..   ...  ...  ..   ...     ...       ...         ...\n",
      "1    200  100  25  0.10     pcr  0.276635   65.637403\n",
      "2    200  100  25  0.10     pls  0.975957    2.181650\n",
      "0    200  100  50  0.10  linreg  0.975960    2.181331\n",
      "1    200  100  50  0.10     pcr  0.525451   43.060056\n",
      "2    200  100  50  0.10     pls  0.975960    2.181331\n",
      "\n",
      "[468 rows x 7 columns]\n"
     ]
    },
    {
     "name": "stderr",
     "output_type": "stream",
     "text": [
      " 20%|██        | 1/5 [12:53<47:53, 718.45s/it, N=100, linreg=0.545, pcr=0.0838, pls=0.874, rho=0.1] "
     ]
    },
    {
     "name": "stdout",
     "output_type": "stream",
     "text": [
      "       M    N   n   rho   model        R2         MSE\n",
      "0   5000  500   5  0.01  linreg  0.997495    1.101917\n",
      "1   5000  500   5  0.01     pcr  0.024885  428.943009\n",
      "2   5000  500   5  0.01     pls  0.997442    1.125453\n",
      "0   5000  500  50  0.01  linreg  0.997495    1.101917\n",
      "1   5000  500  50  0.01     pcr  0.095849  397.726742\n",
      "..   ...  ...  ..   ...     ...       ...         ...\n",
      "1    200  100  50  0.10     pcr  0.525451   43.060056\n",
      "2    200  100  50  0.10     pls  0.975960    2.181331\n",
      "0    100  100   1  0.10  linreg  0.545196   41.274592\n",
      "1    100  100   1  0.10     pcr -0.009976   91.657795\n",
      "2    100  100   1  0.10     pls  0.182784   74.164368\n",
      "\n",
      "[471 rows x 7 columns]\n"
     ]
    },
    {
     "name": "stderr",
     "output_type": "stream",
     "text": [
      " 20%|██        | 1/5 [12:54<47:53, 718.45s/it, N=100, linreg=0.545, pcr=0.206, pls=0.875, rho=0.1] "
     ]
    },
    {
     "name": "stdout",
     "output_type": "stream",
     "text": [
      "       M    N   n   rho   model        R2         MSE\n",
      "0   5000  500   5  0.01  linreg  0.997495    1.101917\n",
      "1   5000  500   5  0.01     pcr  0.024885  428.943009\n",
      "2   5000  500   5  0.01     pls  0.997442    1.125453\n",
      "0   5000  500  50  0.01  linreg  0.997495    1.101917\n",
      "1   5000  500  50  0.01     pcr  0.095849  397.726742\n",
      "..   ...  ...  ..   ...     ...       ...         ...\n",
      "1    100  100   1  0.10     pcr -0.009976   91.657795\n",
      "2    100  100   1  0.10     pls  0.182784   74.164368\n",
      "0    100  100  10  0.10  linreg  0.545196   41.274592\n",
      "1    100  100  10  0.10     pcr  0.083758   83.151190\n",
      "2    100  100  10  0.10     pls  0.873710   11.461133\n",
      "\n",
      "[474 rows x 7 columns]\n"
     ]
    },
    {
     "name": "stderr",
     "output_type": "stream",
     "text": [
      " 20%|██        | 1/5 [12:55<47:53, 718.45s/it, N=100, linreg=0.545, pcr=0.485, pls=0.7, rho=0.1]  "
     ]
    },
    {
     "name": "stdout",
     "output_type": "stream",
     "text": [
      "       M    N   n   rho   model        R2         MSE\n",
      "0   5000  500   5  0.01  linreg  0.997495    1.101917\n",
      "1   5000  500   5  0.01     pcr  0.024885  428.943009\n",
      "2   5000  500   5  0.01     pls  0.997442    1.125453\n",
      "0   5000  500  50  0.01  linreg  0.997495    1.101917\n",
      "1   5000  500  50  0.01     pcr  0.095849  397.726742\n",
      "..   ...  ...  ..   ...     ...       ...         ...\n",
      "1    100  100  10  0.10     pcr  0.083758   83.151190\n",
      "2    100  100  10  0.10     pls  0.873710   11.461133\n",
      "0    100  100  25  0.10  linreg  0.545196   41.274592\n",
      "1    100  100  25  0.10     pcr  0.205519   72.101063\n",
      "2    100  100  25  0.10     pls  0.874828   11.359696\n",
      "\n",
      "[477 rows x 7 columns]\n"
     ]
    },
    {
     "name": "stderr",
     "output_type": "stream",
     "text": [
      " 20%|██        | 1/5 [12:58<47:53, 718.45s/it, N=100, linreg=0.984, pcr=-.00381, pls=0.465, rho=0.2]"
     ]
    },
    {
     "name": "stdout",
     "output_type": "stream",
     "text": [
      "       M    N   n   rho   model        R2         MSE\n",
      "0   5000  500   5  0.01  linreg  0.997495    1.101917\n",
      "1   5000  500   5  0.01     pcr  0.024885  428.943009\n",
      "2   5000  500   5  0.01     pls  0.997442    1.125453\n",
      "0   5000  500  50  0.01  linreg  0.997495    1.101917\n",
      "1   5000  500  50  0.01     pcr  0.095849  397.726742\n",
      "..   ...  ...  ..   ...     ...       ...         ...\n",
      "1    100  100  25  0.10     pcr  0.205519   72.101063\n",
      "2    100  100  25  0.10     pls  0.874828   11.359696\n",
      "0    100  100  50  0.10  linreg  0.545196   41.274592\n",
      "1    100  100  50  0.10     pcr  0.485058   46.732284\n",
      "2    100  100  50  0.10     pls  0.700046   27.221543\n",
      "\n",
      "[480 rows x 7 columns]\n"
     ]
    },
    {
     "name": "stderr",
     "output_type": "stream",
     "text": [
      " 20%|██        | 1/5 [13:01<47:53, 718.45s/it, N=100, linreg=0.984, pcr=0.102, pls=0.984, rho=0.2]  "
     ]
    },
    {
     "name": "stdout",
     "output_type": "stream",
     "text": [
      "       M    N   n   rho   model        R2         MSE\n",
      "0   5000  500   5  0.01  linreg  0.997495    1.101917\n",
      "1   5000  500   5  0.01     pcr  0.024885  428.943009\n",
      "2   5000  500   5  0.01     pls  0.997442    1.125453\n",
      "0   5000  500  50  0.01  linreg  0.997495    1.101917\n",
      "1   5000  500  50  0.01     pcr  0.095849  397.726742\n",
      "..   ...  ...  ..   ...     ...       ...         ...\n",
      "1    100  100  50  0.10     pcr  0.485058   46.732284\n",
      "2    100  100  50  0.10     pls  0.700046   27.221543\n",
      "0   1000  100   1  0.20  linreg  0.983578    1.104570\n",
      "1   1000  100   1  0.20     pcr -0.003807   67.515682\n",
      "2   1000  100   1  0.20     pls  0.465224   35.968855\n",
      "\n",
      "[483 rows x 7 columns]\n"
     ]
    },
    {
     "name": "stderr",
     "output_type": "stream",
     "text": [
      " 20%|██        | 1/5 [13:04<47:53, 718.45s/it, N=100, linreg=0.984, pcr=0.282, pls=0.984, rho=0.2]"
     ]
    },
    {
     "name": "stdout",
     "output_type": "stream",
     "text": [
      "       M    N   n   rho   model        R2         MSE\n",
      "0   5000  500   5  0.01  linreg  0.997495    1.101917\n",
      "1   5000  500   5  0.01     pcr  0.024885  428.943009\n",
      "2   5000  500   5  0.01     pls  0.997442    1.125453\n",
      "0   5000  500  50  0.01  linreg  0.997495    1.101917\n",
      "1   5000  500  50  0.01     pcr  0.095849  397.726742\n",
      "..   ...  ...  ..   ...     ...       ...         ...\n",
      "1   1000  100   1  0.20     pcr -0.003807   67.515682\n",
      "2   1000  100   1  0.20     pls  0.465224   35.968855\n",
      "0   1000  100  10  0.20  linreg  0.983578    1.104570\n",
      "1   1000  100  10  0.20     pcr  0.102141   60.389681\n",
      "2   1000  100  10  0.20     pls  0.983577    1.104581\n",
      "\n",
      "[486 rows x 7 columns]\n"
     ]
    },
    {
     "name": "stderr",
     "output_type": "stream",
     "text": [
      " 20%|██        | 1/5 [13:08<47:53, 718.45s/it, N=100, linreg=0.984, pcr=0.502, pls=0.984, rho=0.2]"
     ]
    },
    {
     "name": "stdout",
     "output_type": "stream",
     "text": [
      "       M    N   n   rho   model        R2         MSE\n",
      "0   5000  500   5  0.01  linreg  0.997495    1.101917\n",
      "1   5000  500   5  0.01     pcr  0.024885  428.943009\n",
      "2   5000  500   5  0.01     pls  0.997442    1.125453\n",
      "0   5000  500  50  0.01  linreg  0.997495    1.101917\n",
      "1   5000  500  50  0.01     pcr  0.095849  397.726742\n",
      "..   ...  ...  ..   ...     ...       ...         ...\n",
      "1   1000  100  10  0.20     pcr  0.102141   60.389681\n",
      "2   1000  100  10  0.20     pls  0.983577    1.104581\n",
      "0   1000  100  25  0.20  linreg  0.983578    1.104570\n",
      "1   1000  100  25  0.20     pcr  0.281641   48.316589\n",
      "2   1000  100  25  0.20     pls  0.983578    1.104570\n",
      "\n",
      "[489 rows x 7 columns]\n"
     ]
    },
    {
     "name": "stderr",
     "output_type": "stream",
     "text": [
      " 20%|██        | 1/5 [13:09<47:53, 718.45s/it, N=100, linreg=0.982, pcr=-.00514, pls=0.357, rho=0.2]"
     ]
    },
    {
     "name": "stdout",
     "output_type": "stream",
     "text": [
      "       M    N   n   rho   model        R2         MSE\n",
      "0   5000  500   5  0.01  linreg  0.997495    1.101917\n",
      "1   5000  500   5  0.01     pcr  0.024885  428.943009\n",
      "2   5000  500   5  0.01     pls  0.997442    1.125453\n",
      "0   5000  500  50  0.01  linreg  0.997495    1.101917\n",
      "1   5000  500  50  0.01     pcr  0.095849  397.726742\n",
      "..   ...  ...  ..   ...     ...       ...         ...\n",
      "1   1000  100  25  0.20     pcr  0.281641   48.316589\n",
      "2   1000  100  25  0.20     pls  0.983578    1.104570\n",
      "0   1000  100  50  0.20  linreg  0.983578    1.104570\n",
      "1   1000  100  50  0.20     pcr  0.502235   33.479485\n",
      "2   1000  100  50  0.20     pls  0.983578    1.104570\n",
      "\n",
      "[492 rows x 7 columns]\n"
     ]
    },
    {
     "name": "stderr",
     "output_type": "stream",
     "text": [
      " 20%|██        | 1/5 [13:10<47:53, 718.45s/it, N=100, linreg=0.982, pcr=0.195, pls=0.982, rho=0.2]  "
     ]
    },
    {
     "name": "stdout",
     "output_type": "stream",
     "text": [
      "       M    N   n   rho   model        R2         MSE\n",
      "0   5000  500   5  0.01  linreg  0.997495    1.101917\n",
      "1   5000  500   5  0.01     pcr  0.024885  428.943009\n",
      "2   5000  500   5  0.01     pls  0.997442    1.125453\n",
      "0   5000  500  50  0.01  linreg  0.997495    1.101917\n",
      "1   5000  500  50  0.01     pcr  0.095849  397.726742\n",
      "..   ...  ...  ..   ...     ...       ...         ...\n",
      "1   1000  100  50  0.20     pcr  0.502235   33.479485\n",
      "2   1000  100  50  0.20     pls  0.983578    1.104570\n",
      "0    500  100   1  0.20  linreg  0.982050    1.206913\n",
      "1    500  100   1  0.20     pcr -0.005142   67.583786\n",
      "2    500  100   1  0.20     pls  0.356851   43.244082\n",
      "\n",
      "[495 rows x 7 columns]\n"
     ]
    },
    {
     "name": "stderr",
     "output_type": "stream",
     "text": [
      " 20%|██        | 1/5 [13:11<47:53, 718.45s/it, N=100, linreg=0.982, pcr=0.33, pls=0.982, rho=0.2] "
     ]
    },
    {
     "name": "stdout",
     "output_type": "stream",
     "text": [
      "       M    N   n   rho   model        R2         MSE\n",
      "0   5000  500   5  0.01  linreg  0.997495    1.101917\n",
      "1   5000  500   5  0.01     pcr  0.024885  428.943009\n",
      "2   5000  500   5  0.01     pls  0.997442    1.125453\n",
      "0   5000  500  50  0.01  linreg  0.997495    1.101917\n",
      "1   5000  500  50  0.01     pcr  0.095849  397.726742\n",
      "..   ...  ...  ..   ...     ...       ...         ...\n",
      "1    500  100   1  0.20     pcr -0.005142   67.583786\n",
      "2    500  100   1  0.20     pls  0.356851   43.244082\n",
      "0    500  100  10  0.20  linreg  0.982050    1.206913\n",
      "1    500  100  10  0.20     pcr  0.195137   54.117391\n",
      "2    500  100  10  0.20     pls  0.982063    1.206019\n",
      "\n",
      "[498 rows x 7 columns]\n"
     ]
    },
    {
     "name": "stderr",
     "output_type": "stream",
     "text": [
      " 20%|██        | 1/5 [13:12<47:53, 718.45s/it, N=100, linreg=0.982, pcr=0.48, pls=0.982, rho=0.2]"
     ]
    },
    {
     "name": "stdout",
     "output_type": "stream",
     "text": [
      "       M    N   n   rho   model        R2         MSE\n",
      "0   5000  500   5  0.01  linreg  0.997495    1.101917\n",
      "1   5000  500   5  0.01     pcr  0.024885  428.943009\n",
      "2   5000  500   5  0.01     pls  0.997442    1.125453\n",
      "0   5000  500  50  0.01  linreg  0.997495    1.101917\n",
      "1   5000  500  50  0.01     pcr  0.095849  397.726742\n",
      "..   ...  ...  ..   ...     ...       ...         ...\n",
      "1    500  100  10  0.20     pcr  0.195137   54.117391\n",
      "2    500  100  10  0.20     pls  0.982063    1.206019\n",
      "0    500  100  25  0.20  linreg  0.982050    1.206913\n",
      "1    500  100  25  0.20     pcr  0.330211   45.035323\n",
      "2    500  100  25  0.20     pls  0.982050    1.206913\n",
      "\n",
      "[501 rows x 7 columns]\n"
     ]
    },
    {
     "name": "stderr",
     "output_type": "stream",
     "text": [
      " 20%|██        | 1/5 [13:13<47:53, 718.45s/it, N=100, linreg=0.977, pcr=-.00708, pls=0.701, rho=0.2]"
     ]
    },
    {
     "name": "stdout",
     "output_type": "stream",
     "text": [
      "       M    N   n   rho   model        R2         MSE\n",
      "0   5000  500   5  0.01  linreg  0.997495    1.101917\n",
      "1   5000  500   5  0.01     pcr  0.024885  428.943009\n",
      "2   5000  500   5  0.01     pls  0.997442    1.125453\n",
      "0   5000  500  50  0.01  linreg  0.997495    1.101917\n",
      "1   5000  500  50  0.01     pcr  0.095849  397.726742\n",
      "..   ...  ...  ..   ...     ...       ...         ...\n",
      "1    500  100  25  0.20     pcr  0.330211   45.035323\n",
      "2    500  100  25  0.20     pls  0.982050    1.206913\n",
      "0    500  100  50  0.20  linreg  0.982050    1.206913\n",
      "1    500  100  50  0.20     pcr  0.479909   34.969894\n",
      "2    500  100  50  0.20     pls  0.982050    1.206913\n",
      "\n",
      "[504 rows x 7 columns]\n"
     ]
    },
    {
     "name": "stderr",
     "output_type": "stream",
     "text": [
      " 20%|██        | 1/5 [13:13<47:53, 718.45s/it, N=100, linreg=0.977, pcr=0.0779, pls=0.977, rho=0.2] "
     ]
    },
    {
     "name": "stdout",
     "output_type": "stream",
     "text": [
      "       M    N   n   rho   model        R2         MSE\n",
      "0   5000  500   5  0.01  linreg  0.997495    1.101917\n",
      "1   5000  500   5  0.01     pcr  0.024885  428.943009\n",
      "2   5000  500   5  0.01     pls  0.997442    1.125453\n",
      "0   5000  500  50  0.01  linreg  0.997495    1.101917\n",
      "1   5000  500  50  0.01     pcr  0.095849  397.726742\n",
      "..   ...  ...  ..   ...     ...       ...         ...\n",
      "1    500  100  50  0.20     pcr  0.479909   34.969894\n",
      "2    500  100  50  0.20     pls  0.982050    1.206913\n",
      "0    300  100   1  0.20  linreg  0.976621    1.571950\n",
      "1    300  100   1  0.20     pcr -0.007081   67.713098\n",
      "2    300  100   1  0.20     pls  0.701402   20.076870\n",
      "\n",
      "[507 rows x 7 columns]\n"
     ]
    },
    {
     "name": "stderr",
     "output_type": "stream",
     "text": [
      " 20%|██        | 1/5 [13:14<47:53, 718.45s/it, N=100, linreg=0.977, pcr=0.324, pls=0.977, rho=0.2] "
     ]
    },
    {
     "name": "stdout",
     "output_type": "stream",
     "text": [
      "       M    N   n   rho   model        R2         MSE\n",
      "0   5000  500   5  0.01  linreg  0.997495    1.101917\n",
      "1   5000  500   5  0.01     pcr  0.024885  428.943009\n",
      "2   5000  500   5  0.01     pls  0.997442    1.125453\n",
      "0   5000  500  50  0.01  linreg  0.997495    1.101917\n",
      "1   5000  500  50  0.01     pcr  0.095849  397.726742\n",
      "..   ...  ...  ..   ...     ...       ...         ...\n",
      "1    300  100   1  0.20     pcr -0.007081   67.713098\n",
      "2    300  100   1  0.20     pls  0.701402   20.076870\n",
      "0    300  100  10  0.20  linreg  0.976621    1.571950\n",
      "1    300  100  10  0.20     pcr  0.077920   61.997901\n",
      "2    300  100  10  0.20     pls  0.976906    1.552753\n",
      "\n",
      "[510 rows x 7 columns]\n"
     ]
    },
    {
     "name": "stderr",
     "output_type": "stream",
     "text": [
      " 20%|██        | 1/5 [13:15<47:53, 718.45s/it, N=100, linreg=0.977, pcr=0.576, pls=0.977, rho=0.2]"
     ]
    },
    {
     "name": "stdout",
     "output_type": "stream",
     "text": [
      "       M    N   n   rho   model        R2         MSE\n",
      "0   5000  500   5  0.01  linreg  0.997495    1.101917\n",
      "1   5000  500   5  0.01     pcr  0.024885  428.943009\n",
      "2   5000  500   5  0.01     pls  0.997442    1.125453\n",
      "0   5000  500  50  0.01  linreg  0.997495    1.101917\n",
      "1   5000  500  50  0.01     pcr  0.095849  397.726742\n",
      "..   ...  ...  ..   ...     ...       ...         ...\n",
      "1    300  100  10  0.20     pcr  0.077920   61.997901\n",
      "2    300  100  10  0.20     pls  0.976906    1.552753\n",
      "0    300  100  25  0.20  linreg  0.976621    1.571950\n",
      "1    300  100  25  0.20     pcr  0.323631   45.477050\n",
      "2    300  100  25  0.20     pls  0.976621    1.571950\n",
      "\n",
      "[513 rows x 7 columns]\n"
     ]
    },
    {
     "name": "stderr",
     "output_type": "stream",
     "text": [
      " 20%|██        | 1/5 [13:16<47:53, 718.45s/it, N=100, linreg=0.974, pcr=-.019, pls=0.663, rho=0.2]"
     ]
    },
    {
     "name": "stdout",
     "output_type": "stream",
     "text": [
      "       M    N   n   rho   model        R2         MSE\n",
      "0   5000  500   5  0.01  linreg  0.997495    1.101917\n",
      "1   5000  500   5  0.01     pcr  0.024885  428.943009\n",
      "2   5000  500   5  0.01     pls  0.997442    1.125453\n",
      "0   5000  500  50  0.01  linreg  0.997495    1.101917\n",
      "1   5000  500  50  0.01     pcr  0.095849  397.726742\n",
      "..   ...  ...  ..   ...     ...       ...         ...\n",
      "1    300  100  25  0.20     pcr  0.323631   45.477050\n",
      "2    300  100  25  0.20     pls  0.976621    1.571950\n",
      "0    300  100  50  0.20  linreg  0.976621    1.571950\n",
      "1    300  100  50  0.20     pcr  0.576320   28.487013\n",
      "2    300  100  50  0.20     pls  0.976621    1.571950\n",
      "\n",
      "[516 rows x 7 columns]\n"
     ]
    },
    {
     "name": "stderr",
     "output_type": "stream",
     "text": [
      " 20%|██        | 1/5 [13:17<47:53, 718.45s/it, N=100, linreg=0.974, pcr=0.111, pls=0.975, rho=0.2]"
     ]
    },
    {
     "name": "stdout",
     "output_type": "stream",
     "text": [
      "       M    N   n   rho   model        R2         MSE\n",
      "0   5000  500   5  0.01  linreg  0.997495    1.101917\n",
      "1   5000  500   5  0.01     pcr  0.024885  428.943009\n",
      "2   5000  500   5  0.01     pls  0.997442    1.125453\n",
      "0   5000  500  50  0.01  linreg  0.997495    1.101917\n",
      "1   5000  500  50  0.01     pcr  0.095849  397.726742\n",
      "..   ...  ...  ..   ...     ...       ...         ...\n",
      "1    300  100  50  0.20     pcr  0.576320   28.487013\n",
      "2    300  100  50  0.20     pls  0.976621    1.571950\n",
      "0    200  100   1  0.20  linreg  0.974247    1.731720\n",
      "1    200  100   1  0.20     pcr -0.019011   68.521404\n",
      "2    200  100   1  0.20     pls  0.663072   22.656069\n",
      "\n",
      "[519 rows x 7 columns]\n"
     ]
    },
    {
     "name": "stderr",
     "output_type": "stream",
     "text": [
      " 20%|██        | 1/5 [13:18<47:53, 718.45s/it, N=100, linreg=0.974, pcr=0.192, pls=0.974, rho=0.2]"
     ]
    },
    {
     "name": "stdout",
     "output_type": "stream",
     "text": [
      "       M    N   n   rho   model        R2         MSE\n",
      "0   5000  500   5  0.01  linreg  0.997495    1.101917\n",
      "1   5000  500   5  0.01     pcr  0.024885  428.943009\n",
      "2   5000  500   5  0.01     pls  0.997442    1.125453\n",
      "0   5000  500  50  0.01  linreg  0.997495    1.101917\n",
      "1   5000  500  50  0.01     pcr  0.095849  397.726742\n",
      "..   ...  ...  ..   ...     ...       ...         ...\n",
      "1    200  100   1  0.20     pcr -0.019011   68.521404\n",
      "2    200  100   1  0.20     pls  0.663072   22.656069\n",
      "0    200  100  10  0.20  linreg  0.974247    1.731720\n",
      "1    200  100  10  0.20     pcr  0.111019   59.777781\n",
      "2    200  100  10  0.20     pls  0.974792    1.695045\n",
      "\n",
      "[522 rows x 7 columns]\n"
     ]
    },
    {
     "name": "stderr",
     "output_type": "stream",
     "text": [
      " 20%|██        | 1/5 [13:19<47:53, 718.45s/it, N=100, linreg=0.974, pcr=0.484, pls=0.974, rho=0.2]"
     ]
    },
    {
     "name": "stdout",
     "output_type": "stream",
     "text": [
      "       M    N   n   rho   model        R2         MSE\n",
      "0   5000  500   5  0.01  linreg  0.997495    1.101917\n",
      "1   5000  500   5  0.01     pcr  0.024885  428.943009\n",
      "2   5000  500   5  0.01     pls  0.997442    1.125453\n",
      "0   5000  500  50  0.01  linreg  0.997495    1.101917\n",
      "1   5000  500  50  0.01     pcr  0.095849  397.726742\n",
      "..   ...  ...  ..   ...     ...       ...         ...\n",
      "1    200  100  10  0.20     pcr  0.111019   59.777781\n",
      "2    200  100  10  0.20     pls  0.974792    1.695045\n",
      "0    200  100  25  0.20  linreg  0.974247    1.731720\n",
      "1    200  100  25  0.20     pcr  0.191547   54.362824\n",
      "2    200  100  25  0.20     pls  0.974246    1.731803\n",
      "\n",
      "[525 rows x 7 columns]\n"
     ]
    },
    {
     "name": "stderr",
     "output_type": "stream",
     "text": [
      " 20%|██        | 1/5 [13:19<47:53, 718.45s/it, N=100, linreg=-1.88, pcr=-.0486, pls=0.244, rho=0.2]"
     ]
    },
    {
     "name": "stdout",
     "output_type": "stream",
     "text": [
      "       M    N   n   rho   model        R2         MSE\n",
      "0   5000  500   5  0.01  linreg  0.997495    1.101917\n",
      "1   5000  500   5  0.01     pcr  0.024885  428.943009\n",
      "2   5000  500   5  0.01     pls  0.997442    1.125453\n",
      "0   5000  500  50  0.01  linreg  0.997495    1.101917\n",
      "1   5000  500  50  0.01     pcr  0.095849  397.726742\n",
      "..   ...  ...  ..   ...     ...       ...         ...\n",
      "1    200  100  25  0.20     pcr  0.191547   54.362824\n",
      "2    200  100  25  0.20     pls  0.974246    1.731803\n",
      "0    200  100  50  0.20  linreg  0.974247    1.731720\n",
      "1    200  100  50  0.20     pcr  0.484444   34.667558\n",
      "2    200  100  50  0.20     pls  0.974247    1.731720\n",
      "\n",
      "[528 rows x 7 columns]\n"
     ]
    },
    {
     "name": "stderr",
     "output_type": "stream",
     "text": [
      " 20%|██        | 1/5 [13:20<47:53, 718.45s/it, N=100, linreg=-1.88, pcr=0.019, pls=0.863, rho=0.2] "
     ]
    },
    {
     "name": "stdout",
     "output_type": "stream",
     "text": [
      "       M    N   n   rho   model        R2         MSE\n",
      "0   5000  500   5  0.01  linreg  0.997495    1.101917\n",
      "1   5000  500   5  0.01     pcr  0.024885  428.943009\n",
      "2   5000  500   5  0.01     pls  0.997442    1.125453\n",
      "0   5000  500  50  0.01  linreg  0.997495    1.101917\n",
      "1   5000  500  50  0.01     pcr  0.095849  397.726742\n",
      "..   ...  ...  ..   ...     ...       ...         ...\n",
      "1    200  100  50  0.20     pcr  0.484444   34.667558\n",
      "2    200  100  50  0.20     pls  0.974247    1.731720\n",
      "0    100  100   1  0.20  linreg -1.879463  193.650012\n",
      "1    100  100   1  0.20     pcr -0.048618   70.521806\n",
      "2    100  100   1  0.20     pls  0.243800   50.856067\n",
      "\n",
      "[531 rows x 7 columns]\n"
     ]
    },
    {
     "name": "stderr",
     "output_type": "stream",
     "text": [
      " 20%|██        | 1/5 [13:21<47:53, 718.45s/it, N=100, linreg=-1.88, pcr=0.149, pls=0.871, rho=0.2]"
     ]
    },
    {
     "name": "stdout",
     "output_type": "stream",
     "text": [
      "       M    N   n   rho   model        R2         MSE\n",
      "0   5000  500   5  0.01  linreg  0.997495    1.101917\n",
      "1   5000  500   5  0.01     pcr  0.024885  428.943009\n",
      "2   5000  500   5  0.01     pls  0.997442    1.125453\n",
      "0   5000  500  50  0.01  linreg  0.997495    1.101917\n",
      "1   5000  500  50  0.01     pcr  0.095849  397.726742\n",
      "..   ...  ...  ..   ...     ...       ...         ...\n",
      "1    100  100   1  0.20     pcr -0.048618   70.521806\n",
      "2    100  100   1  0.20     pls  0.243800   50.856067\n",
      "0    100  100  10  0.20  linreg -1.879463  193.650012\n",
      "1    100  100  10  0.20     pcr  0.018963   65.976816\n",
      "2    100  100  10  0.20     pls  0.863190    9.200783\n",
      "\n",
      "[534 rows x 7 columns]\n"
     ]
    },
    {
     "name": "stderr",
     "output_type": "stream",
     "text": [
      " 20%|██        | 1/5 [13:22<47:53, 718.45s/it, N=100, linreg=-1.88, pcr=0.529, pls=0.731, rho=0.2]"
     ]
    },
    {
     "name": "stdout",
     "output_type": "stream",
     "text": [
      "       M    N   n   rho   model        R2         MSE\n",
      "0   5000  500   5  0.01  linreg  0.997495    1.101917\n",
      "1   5000  500   5  0.01     pcr  0.024885  428.943009\n",
      "2   5000  500   5  0.01     pls  0.997442    1.125453\n",
      "0   5000  500  50  0.01  linreg  0.997495    1.101917\n",
      "1   5000  500  50  0.01     pcr  0.095849  397.726742\n",
      "..   ...  ...  ..   ...     ...       ...         ...\n",
      "1    100  100  10  0.20     pcr  0.018963   65.976816\n",
      "2    100  100  10  0.20     pls  0.863190    9.200783\n",
      "0    100  100  25  0.20  linreg -1.879463  193.650012\n",
      "1    100  100  25  0.20     pcr  0.148622   57.256982\n",
      "2    100  100  25  0.20     pls  0.871142    8.665964\n",
      "\n",
      "[537 rows x 7 columns]\n"
     ]
    },
    {
     "name": "stderr",
     "output_type": "stream",
     "text": [
      " 20%|██        | 1/5 [13:24<47:53, 718.45s/it, N=100, linreg=0.983, pcr=0.24, pls=0.256, rho=0.5] "
     ]
    },
    {
     "name": "stdout",
     "output_type": "stream",
     "text": [
      "       M    N   n   rho   model        R2         MSE\n",
      "0   5000  500   5  0.01  linreg  0.997495    1.101917\n",
      "1   5000  500   5  0.01     pcr  0.024885  428.943009\n",
      "2   5000  500   5  0.01     pls  0.997442    1.125453\n",
      "0   5000  500  50  0.01  linreg  0.997495    1.101917\n",
      "1   5000  500  50  0.01     pcr  0.095849  397.726742\n",
      "..   ...  ...  ..   ...     ...       ...         ...\n",
      "1    100  100  25  0.20     pcr  0.148622   57.256982\n",
      "2    100  100  25  0.20     pls  0.871142    8.665964\n",
      "0    100  100  50  0.20  linreg -1.879463  193.650012\n",
      "1    100  100  50  0.20     pcr  0.529098   31.669130\n",
      "2    100  100  50  0.20     pls  0.731357   18.066818\n",
      "\n",
      "[540 rows x 7 columns]\n"
     ]
    },
    {
     "name": "stderr",
     "output_type": "stream",
     "text": [
      " 20%|██        | 1/5 [13:27<47:53, 718.45s/it, N=100, linreg=0.983, pcr=0.328, pls=0.983, rho=0.5]"
     ]
    },
    {
     "name": "stdout",
     "output_type": "stream",
     "text": [
      "       M    N   n   rho   model        R2         MSE\n",
      "0   5000  500   5  0.01  linreg  0.997495    1.101917\n",
      "1   5000  500   5  0.01     pcr  0.024885  428.943009\n",
      "2   5000  500   5  0.01     pls  0.997442    1.125453\n",
      "0   5000  500  50  0.01  linreg  0.997495    1.101917\n",
      "1   5000  500  50  0.01     pcr  0.095849  397.726742\n",
      "..   ...  ...  ..   ...     ...       ...         ...\n",
      "1    100  100  50  0.20     pcr  0.529098   31.669130\n",
      "2    100  100  50  0.20     pls  0.731357   18.066818\n",
      "0   1000  100   1  0.50  linreg  0.982949    1.108465\n",
      "1   1000  100   1  0.50     pcr  0.239824   49.417861\n",
      "2   1000  100   1  0.50     pls  0.256000   48.366279\n",
      "\n",
      "[543 rows x 7 columns]\n"
     ]
    },
    {
     "name": "stderr",
     "output_type": "stream",
     "text": [
      " 20%|██        | 1/5 [13:31<47:53, 718.45s/it, N=100, linreg=0.983, pcr=0.394, pls=0.983, rho=0.5]"
     ]
    },
    {
     "name": "stdout",
     "output_type": "stream",
     "text": [
      "       M    N   n   rho   model        R2         MSE\n",
      "0   5000  500   5  0.01  linreg  0.997495    1.101917\n",
      "1   5000  500   5  0.01     pcr  0.024885  428.943009\n",
      "2   5000  500   5  0.01     pls  0.997442    1.125453\n",
      "0   5000  500  50  0.01  linreg  0.997495    1.101917\n",
      "1   5000  500  50  0.01     pcr  0.095849  397.726742\n",
      "..   ...  ...  ..   ...     ...       ...         ...\n",
      "1   1000  100   1  0.50     pcr  0.239824   49.417861\n",
      "2   1000  100   1  0.50     pls  0.256000   48.366279\n",
      "0   1000  100  10  0.50  linreg  0.982949    1.108465\n",
      "1   1000  100  10  0.50     pcr  0.328084   43.680202\n",
      "2   1000  100  10  0.50     pls  0.982949    1.108455\n",
      "\n",
      "[546 rows x 7 columns]\n"
     ]
    },
    {
     "name": "stderr",
     "output_type": "stream",
     "text": [
      " 20%|██        | 1/5 [13:35<47:53, 718.45s/it, N=100, linreg=0.983, pcr=0.581, pls=0.983, rho=0.5]"
     ]
    },
    {
     "name": "stdout",
     "output_type": "stream",
     "text": [
      "       M    N   n   rho   model        R2         MSE\n",
      "0   5000  500   5  0.01  linreg  0.997495    1.101917\n",
      "1   5000  500   5  0.01     pcr  0.024885  428.943009\n",
      "2   5000  500   5  0.01     pls  0.997442    1.125453\n",
      "0   5000  500  50  0.01  linreg  0.997495    1.101917\n",
      "1   5000  500  50  0.01     pcr  0.095849  397.726742\n",
      "..   ...  ...  ..   ...     ...       ...         ...\n",
      "1   1000  100  10  0.50     pcr  0.328084   43.680202\n",
      "2   1000  100  10  0.50     pls  0.982949    1.108455\n",
      "0   1000  100  25  0.50  linreg  0.982949    1.108465\n",
      "1   1000  100  25  0.50     pcr  0.394371   39.370977\n",
      "2   1000  100  25  0.50     pls  0.982949    1.108465\n",
      "\n",
      "[549 rows x 7 columns]\n"
     ]
    },
    {
     "name": "stderr",
     "output_type": "stream",
     "text": [
      " 20%|██        | 1/5 [13:36<47:53, 718.45s/it, N=100, linreg=0.981, pcr=0.235, pls=0.256, rho=0.5]"
     ]
    },
    {
     "name": "stdout",
     "output_type": "stream",
     "text": [
      "       M    N   n   rho   model        R2         MSE\n",
      "0   5000  500   5  0.01  linreg  0.997495    1.101917\n",
      "1   5000  500   5  0.01     pcr  0.024885  428.943009\n",
      "2   5000  500   5  0.01     pls  0.997442    1.125453\n",
      "0   5000  500  50  0.01  linreg  0.997495    1.101917\n",
      "1   5000  500  50  0.01     pcr  0.095849  397.726742\n",
      "..   ...  ...  ..   ...     ...       ...         ...\n",
      "1   1000  100  25  0.50     pcr  0.394371   39.370977\n",
      "2   1000  100  25  0.50     pls  0.982949    1.108465\n",
      "0   1000  100  50  0.50  linreg  0.982949    1.108465\n",
      "1   1000  100  50  0.50     pcr  0.581282   27.220221\n",
      "2   1000  100  50  0.50     pls  0.982949    1.108465\n",
      "\n",
      "[552 rows x 7 columns]\n"
     ]
    },
    {
     "name": "stderr",
     "output_type": "stream",
     "text": [
      " 20%|██        | 1/5 [13:37<47:53, 718.45s/it, N=100, linreg=0.981, pcr=0.305, pls=0.981, rho=0.5]"
     ]
    },
    {
     "name": "stdout",
     "output_type": "stream",
     "text": [
      "       M    N   n   rho   model        R2         MSE\n",
      "0   5000  500   5  0.01  linreg  0.997495    1.101917\n",
      "1   5000  500   5  0.01     pcr  0.024885  428.943009\n",
      "2   5000  500   5  0.01     pls  0.997442    1.125453\n",
      "0   5000  500  50  0.01  linreg  0.997495    1.101917\n",
      "1   5000  500  50  0.01     pcr  0.095849  397.726742\n",
      "..   ...  ...  ..   ...     ...       ...         ...\n",
      "1   1000  100  50  0.50     pcr  0.581282   27.220221\n",
      "2   1000  100  50  0.50     pls  0.982949    1.108465\n",
      "0    500  100   1  0.50  linreg  0.980756    1.250673\n",
      "1    500  100   1  0.50     pcr  0.234619   49.742571\n",
      "2    500  100   1  0.50     pls  0.255626   48.377314\n",
      "\n",
      "[555 rows x 7 columns]\n"
     ]
    },
    {
     "name": "stderr",
     "output_type": "stream",
     "text": [
      " 20%|██        | 1/5 [13:38<47:53, 718.45s/it, N=100, linreg=0.981, pcr=0.442, pls=0.981, rho=0.5]"
     ]
    },
    {
     "name": "stdout",
     "output_type": "stream",
     "text": [
      "       M    N   n   rho   model        R2         MSE\n",
      "0   5000  500   5  0.01  linreg  0.997495    1.101917\n",
      "1   5000  500   5  0.01     pcr  0.024885  428.943009\n",
      "2   5000  500   5  0.01     pls  0.997442    1.125453\n",
      "0   5000  500  50  0.01  linreg  0.997495    1.101917\n",
      "1   5000  500  50  0.01     pcr  0.095849  397.726742\n",
      "..   ...  ...  ..   ...     ...       ...         ...\n",
      "1    500  100   1  0.50     pcr  0.234619   49.742571\n",
      "2    500  100   1  0.50     pls  0.255626   48.377314\n",
      "0    500  100  10  0.50  linreg  0.980756    1.250673\n",
      "1    500  100  10  0.50     pcr  0.305409   45.141873\n",
      "2    500  100  10  0.50     pls  0.980770    1.249795\n",
      "\n",
      "[558 rows x 7 columns]\n"
     ]
    },
    {
     "name": "stderr",
     "output_type": "stream",
     "text": [
      " 20%|██        | 1/5 [13:39<47:53, 718.45s/it, N=100, linreg=0.981, pcr=0.602, pls=0.981, rho=0.5]"
     ]
    },
    {
     "name": "stdout",
     "output_type": "stream",
     "text": [
      "       M    N   n   rho   model        R2         MSE\n",
      "0   5000  500   5  0.01  linreg  0.997495    1.101917\n",
      "1   5000  500   5  0.01     pcr  0.024885  428.943009\n",
      "2   5000  500   5  0.01     pls  0.997442    1.125453\n",
      "0   5000  500  50  0.01  linreg  0.997495    1.101917\n",
      "1   5000  500  50  0.01     pcr  0.095849  397.726742\n",
      "..   ...  ...  ..   ...     ...       ...         ...\n",
      "1    500  100  10  0.50     pcr  0.305409   45.141873\n",
      "2    500  100  10  0.50     pls  0.980770    1.249795\n",
      "0    500  100  25  0.50  linreg  0.980756    1.250673\n",
      "1    500  100  25  0.50     pcr  0.441716   36.283167\n",
      "2    500  100  25  0.50     pls  0.980756    1.250673\n",
      "\n",
      "[561 rows x 7 columns]\n"
     ]
    },
    {
     "name": "stderr",
     "output_type": "stream",
     "text": [
      " 20%|██        | 1/5 [13:40<47:53, 718.45s/it, N=100, linreg=0.978, pcr=0.235, pls=0.259, rho=0.5]"
     ]
    },
    {
     "name": "stdout",
     "output_type": "stream",
     "text": [
      "       M    N   n   rho   model        R2         MSE\n",
      "0   5000  500   5  0.01  linreg  0.997495    1.101917\n",
      "1   5000  500   5  0.01     pcr  0.024885  428.943009\n",
      "2   5000  500   5  0.01     pls  0.997442    1.125453\n",
      "0   5000  500  50  0.01  linreg  0.997495    1.101917\n",
      "1   5000  500  50  0.01     pcr  0.095849  397.726742\n",
      "..   ...  ...  ..   ...     ...       ...         ...\n",
      "1    500  100  25  0.50     pcr  0.441716   36.283167\n",
      "2    500  100  25  0.50     pls  0.980756    1.250673\n",
      "0    500  100  50  0.50  linreg  0.980756    1.250673\n",
      "1    500  100  50  0.50     pcr  0.602139   25.857192\n",
      "2    500  100  50  0.50     pls  0.980756    1.250673\n",
      "\n",
      "[564 rows x 7 columns]\n"
     ]
    },
    {
     "name": "stderr",
     "output_type": "stream",
     "text": [
      " 20%|██        | 1/5 [13:40<47:53, 718.45s/it, N=100, linreg=0.978, pcr=0.3, pls=0.978, rho=0.5]  "
     ]
    },
    {
     "name": "stdout",
     "output_type": "stream",
     "text": [
      "       M    N   n   rho   model        R2         MSE\n",
      "0   5000  500   5  0.01  linreg  0.997495    1.101917\n",
      "1   5000  500   5  0.01     pcr  0.024885  428.943009\n",
      "2   5000  500   5  0.01     pls  0.997442    1.125453\n",
      "0   5000  500  50  0.01  linreg  0.997495    1.101917\n",
      "1   5000  500  50  0.01     pcr  0.095849  397.726742\n",
      "..   ...  ...  ..   ...     ...       ...         ...\n",
      "1    500  100  50  0.50     pcr  0.602139   25.857192\n",
      "2    500  100  50  0.50     pls  0.980756    1.250673\n",
      "0    300  100   1  0.50  linreg  0.978177    1.418039\n",
      "1    300  100   1  0.50     pcr  0.234776   49.724252\n",
      "2    300  100   1  0.50     pls  0.258613   48.175318\n",
      "\n",
      "[567 rows x 7 columns]\n"
     ]
    },
    {
     "name": "stderr",
     "output_type": "stream",
     "text": [
      " 20%|██        | 1/5 [13:41<47:53, 718.45s/it, N=100, linreg=0.978, pcr=0.455, pls=0.978, rho=0.5]"
     ]
    },
    {
     "name": "stdout",
     "output_type": "stream",
     "text": [
      "       M    N   n   rho   model        R2         MSE\n",
      "0   5000  500   5  0.01  linreg  0.997495    1.101917\n",
      "1   5000  500   5  0.01     pcr  0.024885  428.943009\n",
      "2   5000  500   5  0.01     pls  0.997442    1.125453\n",
      "0   5000  500  50  0.01  linreg  0.997495    1.101917\n",
      "1   5000  500  50  0.01     pcr  0.095849  397.726742\n",
      "..   ...  ...  ..   ...     ...       ...         ...\n",
      "1    300  100   1  0.50     pcr  0.234776   49.724252\n",
      "2    300  100   1  0.50     pls  0.258613   48.175318\n",
      "0    300  100  10  0.50  linreg  0.978177    1.418039\n",
      "1    300  100  10  0.50     pcr  0.299992   45.486525\n",
      "2    300  100  10  0.50     pls  0.978181    1.417808\n",
      "\n",
      "[570 rows x 7 columns]\n"
     ]
    },
    {
     "name": "stderr",
     "output_type": "stream",
     "text": [
      " 20%|██        | 1/5 [13:43<47:53, 718.45s/it, N=100, linreg=0.978, pcr=0.666, pls=0.978, rho=0.5]"
     ]
    },
    {
     "name": "stdout",
     "output_type": "stream",
     "text": [
      "       M    N   n   rho   model        R2         MSE\n",
      "0   5000  500   5  0.01  linreg  0.997495    1.101917\n",
      "1   5000  500   5  0.01     pcr  0.024885  428.943009\n",
      "2   5000  500   5  0.01     pls  0.997442    1.125453\n",
      "0   5000  500  50  0.01  linreg  0.997495    1.101917\n",
      "1   5000  500  50  0.01     pcr  0.095849  397.726742\n",
      "..   ...  ...  ..   ...     ...       ...         ...\n",
      "1    300  100  10  0.50     pcr  0.299992   45.486525\n",
      "2    300  100  10  0.50     pls  0.978181    1.417808\n",
      "0    300  100  25  0.50  linreg  0.978177    1.418039\n",
      "1    300  100  25  0.50     pcr  0.454794   35.427489\n",
      "2    300  100  25  0.50     pls  0.978177    1.418039\n",
      "\n",
      "[573 rows x 7 columns]\n"
     ]
    },
    {
     "name": "stderr",
     "output_type": "stream",
     "text": [
      " 20%|██        | 1/5 [13:43<47:53, 718.45s/it, N=100, linreg=0.972, pcr=0.224, pls=0.259, rho=0.5]"
     ]
    },
    {
     "name": "stdout",
     "output_type": "stream",
     "text": [
      "       M    N   n   rho   model        R2         MSE\n",
      "0   5000  500   5  0.01  linreg  0.997495    1.101917\n",
      "1   5000  500   5  0.01     pcr  0.024885  428.943009\n",
      "2   5000  500   5  0.01     pls  0.997442    1.125453\n",
      "0   5000  500  50  0.01  linreg  0.997495    1.101917\n",
      "1   5000  500  50  0.01     pcr  0.095849  397.726742\n",
      "..   ...  ...  ..   ...     ...       ...         ...\n",
      "1    300  100  25  0.50     pcr  0.454794   35.427489\n",
      "2    300  100  25  0.50     pls  0.978177    1.418039\n",
      "0    300  100  50  0.50  linreg  0.978177    1.418039\n",
      "1    300  100  50  0.50     pcr  0.665508   21.735281\n",
      "2    300  100  50  0.50     pls  0.978177    1.418039\n",
      "\n",
      "[576 rows x 7 columns]\n"
     ]
    },
    {
     "name": "stderr",
     "output_type": "stream",
     "text": [
      " 20%|██        | 1/5 [13:44<47:53, 718.45s/it, N=100, linreg=0.972, pcr=0.329, pls=0.972, rho=0.5]"
     ]
    },
    {
     "name": "stdout",
     "output_type": "stream",
     "text": [
      "       M    N   n   rho   model        R2         MSE\n",
      "0   5000  500   5  0.01  linreg  0.997495    1.101917\n",
      "1   5000  500   5  0.01     pcr  0.024885  428.943009\n",
      "2   5000  500   5  0.01     pls  0.997442    1.125453\n",
      "0   5000  500  50  0.01  linreg  0.997495    1.101917\n",
      "1   5000  500  50  0.01     pcr  0.095849  397.726742\n",
      "..   ...  ...  ..   ...     ...       ...         ...\n",
      "1    300  100  50  0.50     pcr  0.665508   21.735281\n",
      "2    300  100  50  0.50     pls  0.978177    1.418039\n",
      "0    200  100   1  0.50  linreg  0.971600    1.845377\n",
      "1    200  100   1  0.50     pcr  0.224377   50.397623\n",
      "2    200  100   1  0.50     pls  0.259155   48.137852\n",
      "\n",
      "[579 rows x 7 columns]\n"
     ]
    },
    {
     "name": "stderr",
     "output_type": "stream",
     "text": [
      " 20%|██        | 1/5 [13:45<47:53, 718.45s/it, N=100, linreg=0.972, pcr=0.505, pls=0.972, rho=0.5]"
     ]
    },
    {
     "name": "stdout",
     "output_type": "stream",
     "text": [
      "       M    N   n   rho   model        R2         MSE\n",
      "0   5000  500   5  0.01  linreg  0.997495    1.101917\n",
      "1   5000  500   5  0.01     pcr  0.024885  428.943009\n",
      "2   5000  500   5  0.01     pls  0.997442    1.125453\n",
      "0   5000  500  50  0.01  linreg  0.997495    1.101917\n",
      "1   5000  500  50  0.01     pcr  0.095849  397.726742\n",
      "..   ...  ...  ..   ...     ...       ...         ...\n",
      "1    200  100   1  0.50     pcr  0.224377   50.397623\n",
      "2    200  100   1  0.50     pls  0.259155   48.137852\n",
      "0    200  100  10  0.50  linreg  0.971600    1.845377\n",
      "1    200  100  10  0.50     pcr  0.329029   43.597692\n",
      "2    200  100  10  0.50     pls  0.971792    1.832871\n",
      "\n",
      "[582 rows x 7 columns]\n"
     ]
    },
    {
     "name": "stderr",
     "output_type": "stream",
     "text": [
      " 20%|██        | 1/5 [13:46<47:53, 718.45s/it, N=100, linreg=0.972, pcr=0.62, pls=0.972, rho=0.5] "
     ]
    },
    {
     "name": "stdout",
     "output_type": "stream",
     "text": [
      "       M    N   n   rho   model        R2         MSE\n",
      "0   5000  500   5  0.01  linreg  0.997495    1.101917\n",
      "1   5000  500   5  0.01     pcr  0.024885  428.943009\n",
      "2   5000  500   5  0.01     pls  0.997442    1.125453\n",
      "0   5000  500  50  0.01  linreg  0.997495    1.101917\n",
      "1   5000  500  50  0.01     pcr  0.095849  397.726742\n",
      "..   ...  ...  ..   ...     ...       ...         ...\n",
      "1    200  100  10  0.50     pcr  0.329029   43.597692\n",
      "2    200  100  10  0.50     pls  0.971792    1.832871\n",
      "0    200  100  25  0.50  linreg  0.971600    1.845377\n",
      "1    200  100  25  0.50     pcr  0.505095   32.157450\n",
      "2    200  100  25  0.50     pls  0.971604    1.845073\n",
      "\n",
      "[585 rows x 7 columns]\n"
     ]
    },
    {
     "name": "stderr",
     "output_type": "stream",
     "text": [
      " 20%|██        | 1/5 [13:47<47:53, 718.45s/it, N=100, linreg=-20.3, pcr=0.164, pls=0.248, rho=0.5]"
     ]
    },
    {
     "name": "stdout",
     "output_type": "stream",
     "text": [
      "       M    N   n   rho   model        R2         MSE\n",
      "0   5000  500   5  0.01  linreg  0.997495    1.101917\n",
      "1   5000  500   5  0.01     pcr  0.024885  428.943009\n",
      "2   5000  500   5  0.01     pls  0.997442    1.125453\n",
      "0   5000  500  50  0.01  linreg  0.997495    1.101917\n",
      "1   5000  500  50  0.01     pcr  0.095849  397.726742\n",
      "..   ...  ...  ..   ...     ...       ...         ...\n",
      "1    200  100  25  0.50     pcr  0.505095   32.157450\n",
      "2    200  100  25  0.50     pls  0.971604    1.845073\n",
      "0    200  100  50  0.50  linreg  0.971600    1.845377\n",
      "1    200  100  50  0.50     pcr  0.619813   24.703421\n",
      "2    200  100  50  0.50     pls  0.971600    1.845377\n",
      "\n",
      "[588 rows x 7 columns]\n"
     ]
    },
    {
     "name": "stderr",
     "output_type": "stream",
     "text": [
      " 20%|██        | 1/5 [13:48<47:53, 718.45s/it, N=100, linreg=-20.3, pcr=0.261, pls=0.888, rho=0.5]"
     ]
    },
    {
     "name": "stdout",
     "output_type": "stream",
     "text": [
      "       M    N   n   rho   model         R2          MSE\n",
      "0   5000  500   5  0.01  linreg   0.997495     1.101917\n",
      "1   5000  500   5  0.01     pcr   0.024885   428.943009\n",
      "2   5000  500   5  0.01     pls   0.997442     1.125453\n",
      "0   5000  500  50  0.01  linreg   0.997495     1.101917\n",
      "1   5000  500  50  0.01     pcr   0.095849   397.726742\n",
      "..   ...  ...  ..   ...     ...        ...          ...\n",
      "1    200  100  50  0.50     pcr   0.619813    24.703421\n",
      "2    200  100  50  0.50     pls   0.971600     1.845377\n",
      "0    100  100   1  0.50  linreg -20.299112  1384.012677\n",
      "1    100  100   1  0.50     pcr   0.164242    54.307387\n",
      "2    100  100   1  0.50     pls   0.247832    48.875751\n",
      "\n",
      "[591 rows x 7 columns]\n"
     ]
    },
    {
     "name": "stderr",
     "output_type": "stream",
     "text": [
      " 20%|██        | 1/5 [13:49<47:53, 718.45s/it, N=100, linreg=-20.3, pcr=0.443, pls=0.878, rho=0.5]"
     ]
    },
    {
     "name": "stdout",
     "output_type": "stream",
     "text": [
      "       M    N   n   rho   model         R2          MSE\n",
      "0   5000  500   5  0.01  linreg   0.997495     1.101917\n",
      "1   5000  500   5  0.01     pcr   0.024885   428.943009\n",
      "2   5000  500   5  0.01     pls   0.997442     1.125453\n",
      "0   5000  500  50  0.01  linreg   0.997495     1.101917\n",
      "1   5000  500  50  0.01     pcr   0.095849   397.726742\n",
      "..   ...  ...  ..   ...     ...        ...          ...\n",
      "1    100  100   1  0.50     pcr   0.164242    54.307387\n",
      "2    100  100   1  0.50     pls   0.247832    48.875751\n",
      "0    100  100  10  0.50  linreg -20.299112  1384.012677\n",
      "1    100  100  10  0.50     pcr   0.260651    48.042761\n",
      "2    100  100  10  0.50     pls   0.887829     7.288879\n",
      "\n",
      "[594 rows x 7 columns]\n"
     ]
    },
    {
     "name": "stderr",
     "output_type": "stream",
     "text": [
      " 20%|██        | 1/5 [13:50<47:53, 718.45s/it, N=100, linreg=-20.3, pcr=0.612, pls=0.856, rho=0.5]"
     ]
    },
    {
     "name": "stdout",
     "output_type": "stream",
     "text": [
      "       M    N   n   rho   model         R2          MSE\n",
      "0   5000  500   5  0.01  linreg   0.997495     1.101917\n",
      "1   5000  500   5  0.01     pcr   0.024885   428.943009\n",
      "2   5000  500   5  0.01     pls   0.997442     1.125453\n",
      "0   5000  500  50  0.01  linreg   0.997495     1.101917\n",
      "1   5000  500  50  0.01     pcr   0.095849   397.726742\n",
      "..   ...  ...  ..   ...     ...        ...          ...\n",
      "1    100  100  10  0.50     pcr   0.260651    48.042761\n",
      "2    100  100  10  0.50     pls   0.887829     7.288879\n",
      "0    100  100  25  0.50  linreg -20.299112  1384.012677\n",
      "1    100  100  25  0.50     pcr   0.442710    36.212636\n",
      "2    100  100  25  0.50     pls   0.877613     7.952672\n",
      "\n",
      "[597 rows x 7 columns]\n"
     ]
    },
    {
     "name": "stderr",
     "output_type": "stream",
     "text": [
      " 20%|██        | 1/5 [13:53<47:53, 718.45s/it, N=100, linreg=0.898, pcr=0.0225, pls=0.024, rho=0.9]"
     ]
    },
    {
     "name": "stdout",
     "output_type": "stream",
     "text": [
      "       M    N   n   rho   model         R2          MSE\n",
      "0   5000  500   5  0.01  linreg   0.997495     1.101917\n",
      "1   5000  500   5  0.01     pcr   0.024885   428.943009\n",
      "2   5000  500   5  0.01     pls   0.997442     1.125453\n",
      "0   5000  500  50  0.01  linreg   0.997495     1.101917\n",
      "1   5000  500  50  0.01     pcr   0.095849   397.726742\n",
      "..   ...  ...  ..   ...     ...        ...          ...\n",
      "1    100  100  25  0.50     pcr   0.442710    36.212636\n",
      "2    100  100  25  0.50     pls   0.877613     7.952672\n",
      "0    100  100  50  0.50  linreg -20.299112  1384.012677\n",
      "1    100  100  50  0.50     pcr   0.611952    25.215293\n",
      "2    100  100  50  0.50     pls   0.855685     9.377562\n",
      "\n",
      "[600 rows x 7 columns]\n"
     ]
    },
    {
     "name": "stderr",
     "output_type": "stream",
     "text": [
      " 20%|██        | 1/5 [13:55<47:53, 718.45s/it, N=100, linreg=0.898, pcr=0.0972, pls=0.898, rho=0.9]"
     ]
    },
    {
     "name": "stdout",
     "output_type": "stream",
     "text": [
      "       M    N   n   rho   model        R2         MSE\n",
      "0   5000  500   5  0.01  linreg  0.997495    1.101917\n",
      "1   5000  500   5  0.01     pcr  0.024885  428.943009\n",
      "2   5000  500   5  0.01     pls  0.997442    1.125453\n",
      "0   5000  500  50  0.01  linreg  0.997495    1.101917\n",
      "1   5000  500  50  0.01     pcr  0.095849  397.726742\n",
      "..   ...  ...  ..   ...     ...       ...         ...\n",
      "1    100  100  50  0.50     pcr  0.611952   25.215293\n",
      "2    100  100  50  0.50     pls  0.855685    9.377562\n",
      "0   1000  100   1  0.90  linreg  0.897653    1.112760\n",
      "1   1000  100   1  0.90     pcr  0.022484   10.627931\n",
      "2   1000  100   1  0.90     pls  0.024008   10.611366\n",
      "\n",
      "[603 rows x 7 columns]\n"
     ]
    },
    {
     "name": "stderr",
     "output_type": "stream",
     "text": [
      " 20%|██        | 1/5 [13:59<47:53, 718.45s/it, N=100, linreg=0.898, pcr=0.191, pls=0.898, rho=0.9] "
     ]
    },
    {
     "name": "stdout",
     "output_type": "stream",
     "text": [
      "       M    N   n   rho   model        R2         MSE\n",
      "0   5000  500   5  0.01  linreg  0.997495    1.101917\n",
      "1   5000  500   5  0.01     pcr  0.024885  428.943009\n",
      "2   5000  500   5  0.01     pls  0.997442    1.125453\n",
      "0   5000  500  50  0.01  linreg  0.997495    1.101917\n",
      "1   5000  500  50  0.01     pcr  0.095849  397.726742\n",
      "..   ...  ...  ..   ...     ...       ...         ...\n",
      "1   1000  100   1  0.90     pcr  0.022484   10.627931\n",
      "2   1000  100   1  0.90     pls  0.024008   10.611366\n",
      "0   1000  100  10  0.90  linreg  0.897653    1.112760\n",
      "1   1000  100  10  0.90     pcr  0.097200    9.815588\n",
      "2   1000  100  10  0.90     pls  0.897653    1.112759\n",
      "\n",
      "[606 rows x 7 columns]\n"
     ]
    },
    {
     "name": "stderr",
     "output_type": "stream",
     "text": [
      " 20%|██        | 1/5 [14:03<47:53, 718.45s/it, N=100, linreg=0.898, pcr=0.436, pls=0.898, rho=0.9]"
     ]
    },
    {
     "name": "stdout",
     "output_type": "stream",
     "text": [
      "       M    N   n   rho   model        R2         MSE\n",
      "0   5000  500   5  0.01  linreg  0.997495    1.101917\n",
      "1   5000  500   5  0.01     pcr  0.024885  428.943009\n",
      "2   5000  500   5  0.01     pls  0.997442    1.125453\n",
      "0   5000  500  50  0.01  linreg  0.997495    1.101917\n",
      "1   5000  500  50  0.01     pcr  0.095849  397.726742\n",
      "..   ...  ...  ..   ...     ...       ...         ...\n",
      "1   1000  100  10  0.90     pcr  0.097200    9.815588\n",
      "2   1000  100  10  0.90     pls  0.897653    1.112759\n",
      "0   1000  100  25  0.90  linreg  0.897653    1.112760\n",
      "1   1000  100  25  0.90     pcr  0.191187    8.793729\n",
      "2   1000  100  25  0.90     pls  0.897653    1.112760\n",
      "\n",
      "[609 rows x 7 columns]\n"
     ]
    },
    {
     "name": "stderr",
     "output_type": "stream",
     "text": [
      " 20%|██        | 1/5 [14:04<47:53, 718.45s/it, N=100, linreg=0.884, pcr=0.0219, pls=0.0237, rho=0.9]"
     ]
    },
    {
     "name": "stdout",
     "output_type": "stream",
     "text": [
      "       M    N   n   rho   model        R2         MSE\n",
      "0   5000  500   5  0.01  linreg  0.997495    1.101917\n",
      "1   5000  500   5  0.01     pcr  0.024885  428.943009\n",
      "2   5000  500   5  0.01     pls  0.997442    1.125453\n",
      "0   5000  500  50  0.01  linreg  0.997495    1.101917\n",
      "1   5000  500  50  0.01     pcr  0.095849  397.726742\n",
      "..   ...  ...  ..   ...     ...       ...         ...\n",
      "1   1000  100  25  0.90     pcr  0.191187    8.793729\n",
      "2   1000  100  25  0.90     pls  0.897653    1.112760\n",
      "0   1000  100  50  0.90  linreg  0.897653    1.112760\n",
      "1   1000  100  50  0.90     pcr  0.435729    6.134977\n",
      "2   1000  100  50  0.90     pls  0.897653    1.112760\n",
      "\n",
      "[612 rows x 7 columns]\n"
     ]
    },
    {
     "name": "stderr",
     "output_type": "stream",
     "text": [
      " 20%|██        | 1/5 [14:05<47:53, 718.45s/it, N=100, linreg=0.884, pcr=0.127, pls=0.884, rho=0.9]  "
     ]
    },
    {
     "name": "stdout",
     "output_type": "stream",
     "text": [
      "       M    N   n   rho   model        R2         MSE\n",
      "0   5000  500   5  0.01  linreg  0.997495    1.101917\n",
      "1   5000  500   5  0.01     pcr  0.024885  428.943009\n",
      "2   5000  500   5  0.01     pls  0.997442    1.125453\n",
      "0   5000  500  50  0.01  linreg  0.997495    1.101917\n",
      "1   5000  500  50  0.01     pcr  0.095849  397.726742\n",
      "..   ...  ...  ..   ...     ...       ...         ...\n",
      "1   1000  100  50  0.90     pcr  0.435729    6.134977\n",
      "2   1000  100  50  0.90     pls  0.897653    1.112760\n",
      "0    500  100   1  0.90  linreg  0.884328    1.257405\n",
      "1    500  100   1  0.90     pcr  0.021889   10.632504\n",
      "2    500  100   1  0.90     pls  0.023725   10.612547\n",
      "\n",
      "[615 rows x 7 columns]\n"
     ]
    },
    {
     "name": "stderr",
     "output_type": "stream",
     "text": [
      " 20%|██        | 1/5 [14:06<47:53, 718.45s/it, N=100, linreg=0.884, pcr=0.227, pls=0.884, rho=0.9]"
     ]
    },
    {
     "name": "stdout",
     "output_type": "stream",
     "text": [
      "       M    N   n   rho   model        R2         MSE\n",
      "0   5000  500   5  0.01  linreg  0.997495    1.101917\n",
      "1   5000  500   5  0.01     pcr  0.024885  428.943009\n",
      "2   5000  500   5  0.01     pls  0.997442    1.125453\n",
      "0   5000  500  50  0.01  linreg  0.997495    1.101917\n",
      "1   5000  500  50  0.01     pcr  0.095849  397.726742\n",
      "..   ...  ...  ..   ...     ...       ...         ...\n",
      "1    500  100   1  0.90     pcr  0.021889   10.632504\n",
      "2    500  100   1  0.90     pls  0.023725   10.612547\n",
      "0    500  100  10  0.90  linreg  0.884328    1.257405\n",
      "1    500  100  10  0.90     pcr  0.126569    9.494586\n",
      "2    500  100  10  0.90     pls  0.884343    1.257243\n",
      "\n",
      "[618 rows x 7 columns]\n"
     ]
    },
    {
     "name": "stderr",
     "output_type": "stream",
     "text": [
      " 20%|██        | 1/5 [14:07<47:53, 718.45s/it, N=100, linreg=0.884, pcr=0.406, pls=0.884, rho=0.9]"
     ]
    },
    {
     "name": "stdout",
     "output_type": "stream",
     "text": [
      "       M    N   n   rho   model        R2         MSE\n",
      "0   5000  500   5  0.01  linreg  0.997495    1.101917\n",
      "1   5000  500   5  0.01     pcr  0.024885  428.943009\n",
      "2   5000  500   5  0.01     pls  0.997442    1.125453\n",
      "0   5000  500  50  0.01  linreg  0.997495    1.101917\n",
      "1   5000  500  50  0.01     pcr  0.095849  397.726742\n",
      "..   ...  ...  ..   ...     ...       ...         ...\n",
      "1    500  100  10  0.90     pcr  0.126569    9.494586\n",
      "2    500  100  10  0.90     pls  0.884343    1.257243\n",
      "0    500  100  25  0.90  linreg  0.884328    1.257405\n",
      "1    500  100  25  0.90     pcr  0.227384    8.398686\n",
      "2    500  100  25  0.90     pls  0.884328    1.257405\n",
      "\n",
      "[621 rows x 7 columns]\n"
     ]
    },
    {
     "name": "stderr",
     "output_type": "stream",
     "text": [
      " 20%|██        | 1/5 [14:08<47:53, 718.45s/it, N=100, linreg=0.87, pcr=0.0231, pls=0.0248, rho=0.9]"
     ]
    },
    {
     "name": "stdout",
     "output_type": "stream",
     "text": [
      "       M    N   n   rho   model        R2         MSE\n",
      "0   5000  500   5  0.01  linreg  0.997495    1.101917\n",
      "1   5000  500   5  0.01     pcr  0.024885  428.943009\n",
      "2   5000  500   5  0.01     pls  0.997442    1.125453\n",
      "0   5000  500  50  0.01  linreg  0.997495    1.101917\n",
      "1   5000  500  50  0.01     pcr  0.095849  397.726742\n",
      "..   ...  ...  ..   ...     ...       ...         ...\n",
      "1    500  100  25  0.90     pcr  0.227384    8.398686\n",
      "2    500  100  25  0.90     pls  0.884328    1.257405\n",
      "0    500  100  50  0.90  linreg  0.884328    1.257405\n",
      "1    500  100  50  0.90     pcr  0.405883    6.458323\n",
      "2    500  100  50  0.90     pls  0.884328    1.257405\n",
      "\n",
      "[624 rows x 7 columns]\n"
     ]
    },
    {
     "name": "stderr",
     "output_type": "stream",
     "text": [
      " 20%|██        | 1/5 [14:09<47:53, 718.45s/it, N=100, linreg=0.87, pcr=0.0807, pls=0.87, rho=0.9]  "
     ]
    },
    {
     "name": "stdout",
     "output_type": "stream",
     "text": [
      "       M    N   n   rho   model        R2         MSE\n",
      "0   5000  500   5  0.01  linreg  0.997495    1.101917\n",
      "1   5000  500   5  0.01     pcr  0.024885  428.943009\n",
      "2   5000  500   5  0.01     pls  0.997442    1.125453\n",
      "0   5000  500  50  0.01  linreg  0.997495    1.101917\n",
      "1   5000  500  50  0.01     pcr  0.095849  397.726742\n",
      "..   ...  ...  ..   ...     ...       ...         ...\n",
      "1    500  100  50  0.90     pcr  0.405883    6.458323\n",
      "2    500  100  50  0.90     pls  0.884328    1.257405\n",
      "0    300  100   1  0.90  linreg  0.870170    1.411646\n",
      "1    300  100   1  0.90     pcr  0.023065   10.622264\n",
      "2    300  100   1  0.90     pls  0.024833   10.603042\n",
      "\n",
      "[627 rows x 7 columns]\n"
     ]
    },
    {
     "name": "stderr",
     "output_type": "stream",
     "text": [
      " 20%|██        | 1/5 [14:10<47:53, 718.45s/it, N=100, linreg=0.87, pcr=0.184, pls=0.87, rho=0.9] "
     ]
    },
    {
     "name": "stdout",
     "output_type": "stream",
     "text": [
      "       M    N   n   rho   model        R2         MSE\n",
      "0   5000  500   5  0.01  linreg  0.997495    1.101917\n",
      "1   5000  500   5  0.01     pcr  0.024885  428.943009\n",
      "2   5000  500   5  0.01     pls  0.997442    1.125453\n",
      "0   5000  500  50  0.01  linreg  0.997495    1.101917\n",
      "1   5000  500  50  0.01     pcr  0.095849  397.726742\n",
      "..   ...  ...  ..   ...     ...       ...         ...\n",
      "1    300  100   1  0.90     pcr  0.023065   10.622264\n",
      "2    300  100   1  0.90     pls  0.024833   10.603042\n",
      "0    300  100  10  0.90  linreg  0.870170    1.411646\n",
      "1    300  100  10  0.90     pcr  0.080700    9.995600\n",
      "2    300  100  10  0.90     pls  0.869934    1.414210\n",
      "\n",
      "[630 rows x 7 columns]\n"
     ]
    },
    {
     "name": "stderr",
     "output_type": "stream",
     "text": [
      " 20%|██        | 1/5 [14:11<47:53, 718.45s/it, N=100, linreg=0.87, pcr=0.38, pls=0.87, rho=0.9] "
     ]
    },
    {
     "name": "stdout",
     "output_type": "stream",
     "text": [
      "       M    N   n   rho   model        R2         MSE\n",
      "0   5000  500   5  0.01  linreg  0.997495    1.101917\n",
      "1   5000  500   5  0.01     pcr  0.024885  428.943009\n",
      "2   5000  500   5  0.01     pls  0.997442    1.125453\n",
      "0   5000  500  50  0.01  linreg  0.997495    1.101917\n",
      "1   5000  500  50  0.01     pcr  0.095849  397.726742\n",
      "..   ...  ...  ..   ...     ...       ...         ...\n",
      "1    300  100  10  0.90     pcr  0.080700    9.995600\n",
      "2    300  100  10  0.90     pls  0.869934    1.414210\n",
      "0    300  100  25  0.90  linreg  0.870170    1.411646\n",
      "1    300  100  25  0.90     pcr  0.184436    8.867674\n",
      "2    300  100  25  0.90     pls  0.870170    1.411647\n",
      "\n",
      "[633 rows x 7 columns]\n"
     ]
    },
    {
     "name": "stderr",
     "output_type": "stream",
     "text": [
      " 20%|██        | 1/5 [14:12<47:53, 718.45s/it, N=100, linreg=0.845, pcr=0.0233, pls=0.025, rho=0.9]"
     ]
    },
    {
     "name": "stdout",
     "output_type": "stream",
     "text": [
      "       M    N   n   rho   model        R2         MSE\n",
      "0   5000  500   5  0.01  linreg  0.997495    1.101917\n",
      "1   5000  500   5  0.01     pcr  0.024885  428.943009\n",
      "2   5000  500   5  0.01     pls  0.997442    1.125453\n",
      "0   5000  500  50  0.01  linreg  0.997495    1.101917\n",
      "1   5000  500  50  0.01     pcr  0.095849  397.726742\n",
      "..   ...  ...  ..   ...     ...       ...         ...\n",
      "1    300  100  25  0.90     pcr  0.184436    8.867674\n",
      "2    300  100  25  0.90     pls  0.870170    1.411647\n",
      "0    300  100  50  0.90  linreg  0.870170    1.411646\n",
      "1    300  100  50  0.90     pcr  0.380102    6.740186\n",
      "2    300  100  50  0.90     pls  0.870170    1.411646\n",
      "\n",
      "[636 rows x 7 columns]\n"
     ]
    },
    {
     "name": "stderr",
     "output_type": "stream",
     "text": [
      " 20%|██        | 1/5 [14:13<47:53, 718.45s/it, N=100, linreg=0.845, pcr=0.108, pls=0.845, rho=0.9] "
     ]
    },
    {
     "name": "stdout",
     "output_type": "stream",
     "text": [
      "       M    N   n   rho   model        R2         MSE\n",
      "0   5000  500   5  0.01  linreg  0.997495    1.101917\n",
      "1   5000  500   5  0.01     pcr  0.024885  428.943009\n",
      "2   5000  500   5  0.01     pls  0.997442    1.125453\n",
      "0   5000  500  50  0.01  linreg  0.997495    1.101917\n",
      "1   5000  500  50  0.01     pcr  0.095849  397.726742\n",
      "..   ...  ...  ..   ...     ...       ...         ...\n",
      "1    300  100  50  0.90     pcr  0.380102    6.740186\n",
      "2    300  100  50  0.90     pls  0.870170    1.411646\n",
      "0    200  100   1  0.90  linreg  0.844514    1.690410\n",
      "1    200  100   1  0.90     pcr  0.023337   10.618049\n",
      "2    200  100   1  0.90     pls  0.024960   10.600411\n",
      "\n",
      "[639 rows x 7 columns]\n"
     ]
    },
    {
     "name": "stderr",
     "output_type": "stream",
     "text": [
      " 20%|██        | 1/5 [14:14<47:53, 718.45s/it, N=100, linreg=0.845, pcr=0.174, pls=0.845, rho=0.9]"
     ]
    },
    {
     "name": "stdout",
     "output_type": "stream",
     "text": [
      "       M    N   n   rho   model        R2         MSE\n",
      "0   5000  500   5  0.01  linreg  0.997495    1.101917\n",
      "1   5000  500   5  0.01     pcr  0.024885  428.943009\n",
      "2   5000  500   5  0.01     pls  0.997442    1.125453\n",
      "0   5000  500  50  0.01  linreg  0.997495    1.101917\n",
      "1   5000  500  50  0.01     pcr  0.095849  397.726742\n",
      "..   ...  ...  ..   ...     ...       ...         ...\n",
      "1    200  100   1  0.90     pcr  0.023337   10.618049\n",
      "2    200  100   1  0.90     pls  0.024960   10.600411\n",
      "0    200  100  10  0.90  linreg  0.844514    1.690410\n",
      "1    200  100  10  0.90     pcr  0.108231    9.695103\n",
      "2    200  100  10  0.90     pls  0.844769    1.687635\n",
      "\n",
      "[642 rows x 7 columns]\n"
     ]
    },
    {
     "name": "stderr",
     "output_type": "stream",
     "text": [
      " 20%|██        | 1/5 [14:15<47:53, 718.45s/it, N=100, linreg=0.845, pcr=0.387, pls=0.845, rho=0.9]"
     ]
    },
    {
     "name": "stdout",
     "output_type": "stream",
     "text": [
      "       M    N   n   rho   model        R2         MSE\n",
      "0   5000  500   5  0.01  linreg  0.997495    1.101917\n",
      "1   5000  500   5  0.01     pcr  0.024885  428.943009\n",
      "2   5000  500   5  0.01     pls  0.997442    1.125453\n",
      "0   5000  500  50  0.01  linreg  0.997495    1.101917\n",
      "1   5000  500  50  0.01     pcr  0.095849  397.726742\n",
      "..   ...  ...  ..   ...     ...       ...         ...\n",
      "1    200  100  10  0.90     pcr  0.108231    9.695103\n",
      "2    200  100  10  0.90     pls  0.844769    1.687635\n",
      "0    200  100  25  0.90  linreg  0.844514    1.690410\n",
      "1    200  100  25  0.90     pcr  0.174018    8.979879\n",
      "2    200  100  25  0.90     pls  0.844513    1.690417\n",
      "\n",
      "[645 rows x 7 columns]\n"
     ]
    },
    {
     "name": "stderr",
     "output_type": "stream",
     "text": [
      " 20%|██        | 1/5 [14:16<47:53, 718.45s/it, N=100, linreg=-1.75, pcr=0.0162, pls=0.0177, rho=0.9]"
     ]
    },
    {
     "name": "stdout",
     "output_type": "stream",
     "text": [
      "       M    N   n   rho   model        R2         MSE\n",
      "0   5000  500   5  0.01  linreg  0.997495    1.101917\n",
      "1   5000  500   5  0.01     pcr  0.024885  428.943009\n",
      "2   5000  500   5  0.01     pls  0.997442    1.125453\n",
      "0   5000  500  50  0.01  linreg  0.997495    1.101917\n",
      "1   5000  500  50  0.01     pcr  0.095849  397.726742\n",
      "..   ...  ...  ..   ...     ...       ...         ...\n",
      "1    200  100  25  0.90     pcr  0.174018    8.979879\n",
      "2    200  100  25  0.90     pls  0.844513    1.690417\n",
      "0    200  100  50  0.90  linreg  0.844514    1.690410\n",
      "1    200  100  50  0.90     pcr  0.386855    6.665966\n",
      "2    200  100  50  0.90     pls  0.844514    1.690410\n",
      "\n",
      "[648 rows x 7 columns]\n"
     ]
    },
    {
     "name": "stderr",
     "output_type": "stream",
     "text": [
      " 20%|██        | 1/5 [14:17<47:53, 718.45s/it, N=100, linreg=-1.75, pcr=0.0662, pls=0.666, rho=0.9] "
     ]
    },
    {
     "name": "stdout",
     "output_type": "stream",
     "text": [
      "       M    N   n   rho   model        R2         MSE\n",
      "0   5000  500   5  0.01  linreg  0.997495    1.101917\n",
      "1   5000  500   5  0.01     pcr  0.024885  428.943009\n",
      "2   5000  500   5  0.01     pls  0.997442    1.125453\n",
      "0   5000  500  50  0.01  linreg  0.997495    1.101917\n",
      "1   5000  500  50  0.01     pcr  0.095849  397.726742\n",
      "..   ...  ...  ..   ...     ...       ...         ...\n",
      "1    200  100  50  0.90     pcr  0.386855    6.665966\n",
      "2    200  100  50  0.90     pls  0.844514    1.690410\n",
      "0    100  100   1  0.90  linreg -1.749430   29.886657\n",
      "1    100  100   1  0.90     pcr  0.016223   10.693780\n",
      "2    100  100   1  0.90     pls  0.017685   10.677886\n",
      "\n",
      "[651 rows x 7 columns]\n"
     ]
    },
    {
     "name": "stderr",
     "output_type": "stream",
     "text": [
      " 20%|██        | 1/5 [14:18<47:53, 718.45s/it, N=100, linreg=-1.75, pcr=0.213, pls=0.186, rho=0.9] "
     ]
    },
    {
     "name": "stdout",
     "output_type": "stream",
     "text": [
      "       M    N   n   rho   model        R2         MSE\n",
      "0   5000  500   5  0.01  linreg  0.997495    1.101917\n",
      "1   5000  500   5  0.01     pcr  0.024885  428.943009\n",
      "2   5000  500   5  0.01     pls  0.997442    1.125453\n",
      "0   5000  500  50  0.01  linreg  0.997495    1.101917\n",
      "1   5000  500  50  0.01     pcr  0.095849  397.726742\n",
      "..   ...  ...  ..   ...     ...       ...         ...\n",
      "1    100  100   1  0.90     pcr  0.016223   10.693780\n",
      "2    100  100   1  0.90     pls  0.017685   10.677886\n",
      "0    100  100  10  0.90  linreg -1.749430   29.886657\n",
      "1    100  100  10  0.90     pcr  0.066177   10.150776\n",
      "2    100  100  10  0.90     pls  0.666149    3.629003\n",
      "\n",
      "[654 rows x 7 columns]\n"
     ]
    },
    {
     "name": "stderr",
     "output_type": "stream",
     "text": [
      " 20%|██        | 1/5 [14:19<47:53, 718.45s/it, N=100, linreg=-1.75, pcr=0.31, pls=-1.46, rho=0.9] "
     ]
    },
    {
     "name": "stdout",
     "output_type": "stream",
     "text": [
      "       M    N   n   rho   model        R2         MSE\n",
      "0   5000  500   5  0.01  linreg  0.997495    1.101917\n",
      "1   5000  500   5  0.01     pcr  0.024885  428.943009\n",
      "2   5000  500   5  0.01     pls  0.997442    1.125453\n",
      "0   5000  500  50  0.01  linreg  0.997495    1.101917\n",
      "1   5000  500  50  0.01     pcr  0.095849  397.726742\n",
      "..   ...  ...  ..   ...     ...       ...         ...\n",
      "1    100  100  10  0.90     pcr  0.066177   10.150776\n",
      "2    100  100  10  0.90     pls  0.666149    3.629003\n",
      "0    100  100  25  0.90  linreg -1.749430   29.886657\n",
      "1    100  100  25  0.90     pcr  0.213212    8.552488\n",
      "2    100  100  25  0.90     pls  0.186087    8.847334\n",
      "\n",
      "[657 rows x 7 columns]\n"
     ]
    },
    {
     "name": "stderr",
     "output_type": "stream",
     "text": [
      " 20%|██        | 1/5 [14:21<47:53, 718.45s/it, N=100, linreg=0.966, pcr=0.937, pls=0.937, rho=0.99]"
     ]
    },
    {
     "name": "stdout",
     "output_type": "stream",
     "text": [
      "       M    N   n   rho   model        R2         MSE\n",
      "0   5000  500   5  0.01  linreg  0.997495    1.101917\n",
      "1   5000  500   5  0.01     pcr  0.024885  428.943009\n",
      "2   5000  500   5  0.01     pls  0.997442    1.125453\n",
      "0   5000  500  50  0.01  linreg  0.997495    1.101917\n",
      "1   5000  500  50  0.01     pcr  0.095849  397.726742\n",
      "..   ...  ...  ..   ...     ...       ...         ...\n",
      "1    100  100  25  0.90     pcr  0.213212    8.552488\n",
      "2    100  100  25  0.90     pls  0.186087    8.847334\n",
      "0    100  100  50  0.90  linreg -1.749430   29.886657\n",
      "1    100  100  50  0.90     pcr  0.310163    7.498611\n",
      "2    100  100  50  0.90     pls -1.455401   26.690516\n",
      "\n",
      "[660 rows x 7 columns]\n"
     ]
    },
    {
     "name": "stderr",
     "output_type": "stream",
     "text": [
      " 20%|██        | 1/5 [14:24<47:53, 718.45s/it, N=100, linreg=0.966, pcr=0.941, pls=0.966, rho=0.99]"
     ]
    },
    {
     "name": "stdout",
     "output_type": "stream",
     "text": [
      "       M    N   n   rho   model        R2         MSE\n",
      "0   5000  500   5  0.01  linreg  0.997495    1.101917\n",
      "1   5000  500   5  0.01     pcr  0.024885  428.943009\n",
      "2   5000  500   5  0.01     pls  0.997442    1.125453\n",
      "0   5000  500  50  0.01  linreg  0.997495    1.101917\n",
      "1   5000  500  50  0.01     pcr  0.095849  397.726742\n",
      "..   ...  ...  ..   ...     ...       ...         ...\n",
      "1    100  100  50  0.90     pcr  0.310163    7.498611\n",
      "2    100  100  50  0.90     pls -1.455401   26.690516\n",
      "0   1000  100   1  0.99  linreg  0.966132    1.093641\n",
      "1   1000  100   1  0.99     pcr  0.937394    2.021608\n",
      "2   1000  100   1  0.99     pls  0.937403    2.021308\n",
      "\n",
      "[663 rows x 7 columns]\n"
     ]
    },
    {
     "name": "stderr",
     "output_type": "stream",
     "text": [
      " 20%|██        | 1/5 [14:28<47:53, 718.45s/it, N=100, linreg=0.966, pcr=0.945, pls=0.966, rho=0.99]"
     ]
    },
    {
     "name": "stdout",
     "output_type": "stream",
     "text": [
      "       M    N   n   rho   model        R2         MSE\n",
      "0   5000  500   5  0.01  linreg  0.997495    1.101917\n",
      "1   5000  500   5  0.01     pcr  0.024885  428.943009\n",
      "2   5000  500   5  0.01     pls  0.997442    1.125453\n",
      "0   5000  500  50  0.01  linreg  0.997495    1.101917\n",
      "1   5000  500  50  0.01     pcr  0.095849  397.726742\n",
      "..   ...  ...  ..   ...     ...       ...         ...\n",
      "1   1000  100   1  0.99     pcr  0.937394    2.021608\n",
      "2   1000  100   1  0.99     pls  0.937403    2.021308\n",
      "0   1000  100  10  0.99  linreg  0.966132    1.093641\n",
      "1   1000  100  10  0.99     pcr  0.941291    1.895751\n",
      "2   1000  100  10  0.99     pls  0.966132    1.093639\n",
      "\n",
      "[666 rows x 7 columns]\n"
     ]
    },
    {
     "name": "stderr",
     "output_type": "stream",
     "text": [
      " 20%|██        | 1/5 [14:32<47:53, 718.45s/it, N=100, linreg=0.966, pcr=0.954, pls=0.966, rho=0.99]"
     ]
    },
    {
     "name": "stdout",
     "output_type": "stream",
     "text": [
      "       M    N   n   rho   model        R2         MSE\n",
      "0   5000  500   5  0.01  linreg  0.997495    1.101917\n",
      "1   5000  500   5  0.01     pcr  0.024885  428.943009\n",
      "2   5000  500   5  0.01     pls  0.997442    1.125453\n",
      "0   5000  500  50  0.01  linreg  0.997495    1.101917\n",
      "1   5000  500  50  0.01     pcr  0.095849  397.726742\n",
      "..   ...  ...  ..   ...     ...       ...         ...\n",
      "1   1000  100  10  0.99     pcr  0.941291    1.895751\n",
      "2   1000  100  10  0.99     pls  0.966132    1.093639\n",
      "0   1000  100  25  0.99  linreg  0.966132    1.093641\n",
      "1   1000  100  25  0.99     pcr  0.945293    1.766552\n",
      "2   1000  100  25  0.99     pls  0.966132    1.093641\n",
      "\n",
      "[669 rows x 7 columns]\n"
     ]
    },
    {
     "name": "stderr",
     "output_type": "stream",
     "text": [
      " 20%|██        | 1/5 [14:33<47:53, 718.45s/it, N=100, linreg=0.962, pcr=0.937, pls=0.937, rho=0.99]"
     ]
    },
    {
     "name": "stdout",
     "output_type": "stream",
     "text": [
      "       M    N   n   rho   model        R2         MSE\n",
      "0   5000  500   5  0.01  linreg  0.997495    1.101917\n",
      "1   5000  500   5  0.01     pcr  0.024885  428.943009\n",
      "2   5000  500   5  0.01     pls  0.997442    1.125453\n",
      "0   5000  500  50  0.01  linreg  0.997495    1.101917\n",
      "1   5000  500  50  0.01     pcr  0.095849  397.726742\n",
      "..   ...  ...  ..   ...     ...       ...         ...\n",
      "1   1000  100  25  0.99     pcr  0.945293    1.766552\n",
      "2   1000  100  25  0.99     pls  0.966132    1.093641\n",
      "0   1000  100  50  0.99  linreg  0.966132    1.093641\n",
      "1   1000  100  50  0.99     pcr  0.954145    1.480713\n",
      "2   1000  100  50  0.99     pls  0.966131    1.093648\n",
      "\n",
      "[672 rows x 7 columns]\n"
     ]
    },
    {
     "name": "stderr",
     "output_type": "stream",
     "text": [
      " 20%|██        | 1/5 [14:34<47:53, 718.45s/it, N=100, linreg=0.962, pcr=0.942, pls=0.962, rho=0.99]"
     ]
    },
    {
     "name": "stdout",
     "output_type": "stream",
     "text": [
      "       M    N   n   rho   model        R2         MSE\n",
      "0   5000  500   5  0.01  linreg  0.997495    1.101917\n",
      "1   5000  500   5  0.01     pcr  0.024885  428.943009\n",
      "2   5000  500   5  0.01     pls  0.997442    1.125453\n",
      "0   5000  500  50  0.01  linreg  0.997495    1.101917\n",
      "1   5000  500  50  0.01     pcr  0.095849  397.726742\n",
      "..   ...  ...  ..   ...     ...       ...         ...\n",
      "1   1000  100  50  0.99     pcr  0.954145    1.480713\n",
      "2   1000  100  50  0.99     pls  0.966131    1.093648\n",
      "0    500  100   1  0.99  linreg  0.962213    1.219771\n",
      "1    500  100   1  0.99     pcr  0.937400    2.020719\n",
      "2    500  100   1  0.99     pls  0.937410    2.020414\n",
      "\n",
      "[675 rows x 7 columns]\n"
     ]
    },
    {
     "name": "stderr",
     "output_type": "stream",
     "text": [
      " 20%|██        | 1/5 [14:35<47:53, 718.45s/it, N=100, linreg=0.962, pcr=0.944, pls=0.962, rho=0.99]"
     ]
    },
    {
     "name": "stdout",
     "output_type": "stream",
     "text": [
      "       M    N   n   rho   model        R2         MSE\n",
      "0   5000  500   5  0.01  linreg  0.997495    1.101917\n",
      "1   5000  500   5  0.01     pcr  0.024885  428.943009\n",
      "2   5000  500   5  0.01     pls  0.997442    1.125453\n",
      "0   5000  500  50  0.01  linreg  0.997495    1.101917\n",
      "1   5000  500  50  0.01     pcr  0.095849  397.726742\n",
      "..   ...  ...  ..   ...     ...       ...         ...\n",
      "1    500  100   1  0.99     pcr  0.937400    2.020719\n",
      "2    500  100   1  0.99     pls  0.937410    2.020414\n",
      "0    500  100  10  0.99  linreg  0.962213    1.219771\n",
      "1    500  100  10  0.99     pcr  0.941946    1.873976\n",
      "2    500  100  10  0.99     pls  0.962209    1.219880\n",
      "\n",
      "[678 rows x 7 columns]\n"
     ]
    },
    {
     "name": "stderr",
     "output_type": "stream",
     "text": [
      " 20%|██        | 1/5 [14:36<47:53, 718.45s/it, N=100, linreg=0.962, pcr=0.955, pls=0.962, rho=0.99]"
     ]
    },
    {
     "name": "stdout",
     "output_type": "stream",
     "text": [
      "       M    N   n   rho   model        R2         MSE\n",
      "0   5000  500   5  0.01  linreg  0.997495    1.101917\n",
      "1   5000  500   5  0.01     pcr  0.024885  428.943009\n",
      "2   5000  500   5  0.01     pls  0.997442    1.125453\n",
      "0   5000  500  50  0.01  linreg  0.997495    1.101917\n",
      "1   5000  500  50  0.01     pcr  0.095849  397.726742\n",
      "..   ...  ...  ..   ...     ...       ...         ...\n",
      "1    500  100  10  0.99     pcr  0.941946    1.873976\n",
      "2    500  100  10  0.99     pls  0.962209    1.219880\n",
      "0    500  100  25  0.99  linreg  0.962213    1.219771\n",
      "1    500  100  25  0.99     pcr  0.943842    1.812782\n",
      "2    500  100  25  0.99     pls  0.962213    1.219771\n",
      "\n",
      "[681 rows x 7 columns]\n"
     ]
    },
    {
     "name": "stderr",
     "output_type": "stream",
     "text": [
      " 20%|██        | 1/5 [14:36<47:53, 718.45s/it, N=100, linreg=0.947, pcr=0.937, pls=0.937, rho=0.99]"
     ]
    },
    {
     "name": "stdout",
     "output_type": "stream",
     "text": [
      "       M    N   n   rho   model        R2         MSE\n",
      "0   5000  500   5  0.01  linreg  0.997495    1.101917\n",
      "1   5000  500   5  0.01     pcr  0.024885  428.943009\n",
      "2   5000  500   5  0.01     pls  0.997442    1.125453\n",
      "0   5000  500  50  0.01  linreg  0.997495    1.101917\n",
      "1   5000  500  50  0.01     pcr  0.095849  397.726742\n",
      "..   ...  ...  ..   ...     ...       ...         ...\n",
      "1    500  100  25  0.99     pcr  0.943842    1.812782\n",
      "2    500  100  25  0.99     pls  0.962213    1.219771\n",
      "0    500  100  50  0.99  linreg  0.962213    1.219771\n",
      "1    500  100  50  0.99     pcr  0.955493    1.436690\n",
      "2    500  100  50  0.99     pls  0.962213    1.219771\n",
      "\n",
      "[684 rows x 7 columns]\n"
     ]
    },
    {
     "name": "stderr",
     "output_type": "stream",
     "text": [
      " 20%|██        | 1/5 [14:37<47:53, 718.45s/it, N=100, linreg=0.947, pcr=0.939, pls=0.947, rho=0.99]"
     ]
    },
    {
     "name": "stdout",
     "output_type": "stream",
     "text": [
      "       M    N   n   rho   model        R2         MSE\n",
      "0   5000  500   5  0.01  linreg  0.997495    1.101917\n",
      "1   5000  500   5  0.01     pcr  0.024885  428.943009\n",
      "2   5000  500   5  0.01     pls  0.997442    1.125453\n",
      "0   5000  500  50  0.01  linreg  0.997495    1.101917\n",
      "1   5000  500  50  0.01     pcr  0.095849  397.726742\n",
      "..   ...  ...  ..   ...     ...       ...         ...\n",
      "1    500  100  50  0.99     pcr  0.955493    1.436690\n",
      "2    500  100  50  0.99     pls  0.962213    1.219771\n",
      "0    300  100   1  0.99  linreg  0.946907    1.714631\n",
      "1    300  100   1  0.99     pcr  0.936721    2.043584\n",
      "2    300  100   1  0.99     pls  0.936738    2.043045\n",
      "\n",
      "[687 rows x 7 columns]\n"
     ]
    },
    {
     "name": "stderr",
     "output_type": "stream",
     "text": [
      " 20%|██        | 1/5 [14:38<47:53, 718.45s/it, N=100, linreg=0.947, pcr=0.942, pls=0.947, rho=0.99]"
     ]
    },
    {
     "name": "stdout",
     "output_type": "stream",
     "text": [
      "       M    N   n   rho   model        R2         MSE\n",
      "0   5000  500   5  0.01  linreg  0.997495    1.101917\n",
      "1   5000  500   5  0.01     pcr  0.024885  428.943009\n",
      "2   5000  500   5  0.01     pls  0.997442    1.125453\n",
      "0   5000  500  50  0.01  linreg  0.997495    1.101917\n",
      "1   5000  500  50  0.01     pcr  0.095849  397.726742\n",
      "..   ...  ...  ..   ...     ...       ...         ...\n",
      "1    300  100   1  0.99     pcr  0.936721    2.043584\n",
      "2    300  100   1  0.99     pls  0.936738    2.043045\n",
      "0    300  100  10  0.99  linreg  0.946907    1.714631\n",
      "1    300  100  10  0.99     pcr  0.938569    1.983898\n",
      "2    300  100  10  0.99     pls  0.946852    1.716404\n",
      "\n",
      "[690 rows x 7 columns]\n"
     ]
    },
    {
     "name": "stderr",
     "output_type": "stream",
     "text": [
      " 20%|██        | 1/5 [14:39<47:53, 718.45s/it, N=100, linreg=0.947, pcr=0.951, pls=0.947, rho=0.99]"
     ]
    },
    {
     "name": "stdout",
     "output_type": "stream",
     "text": [
      "       M    N   n   rho   model        R2         MSE\n",
      "0   5000  500   5  0.01  linreg  0.997495    1.101917\n",
      "1   5000  500   5  0.01     pcr  0.024885  428.943009\n",
      "2   5000  500   5  0.01     pls  0.997442    1.125453\n",
      "0   5000  500  50  0.01  linreg  0.997495    1.101917\n",
      "1   5000  500  50  0.01     pcr  0.095849  397.726742\n",
      "..   ...  ...  ..   ...     ...       ...         ...\n",
      "1    300  100  10  0.99     pcr  0.938569    1.983898\n",
      "2    300  100  10  0.99     pls  0.946852    1.716404\n",
      "0    300  100  25  0.99  linreg  0.946907    1.714631\n",
      "1    300  100  25  0.99     pcr  0.942046    1.871614\n",
      "2    300  100  25  0.99     pls  0.946907    1.714631\n",
      "\n",
      "[693 rows x 7 columns]\n"
     ]
    },
    {
     "name": "stderr",
     "output_type": "stream",
     "text": [
      " 20%|██        | 1/5 [14:40<47:53, 718.45s/it, N=100, linreg=0.93, pcr=0.937, pls=0.937, rho=0.99] "
     ]
    },
    {
     "name": "stdout",
     "output_type": "stream",
     "text": [
      "       M    N   n   rho   model        R2         MSE\n",
      "0   5000  500   5  0.01  linreg  0.997495    1.101917\n",
      "1   5000  500   5  0.01     pcr  0.024885  428.943009\n",
      "2   5000  500   5  0.01     pls  0.997442    1.125453\n",
      "0   5000  500  50  0.01  linreg  0.997495    1.101917\n",
      "1   5000  500  50  0.01     pcr  0.095849  397.726742\n",
      "..   ...  ...  ..   ...     ...       ...         ...\n",
      "1    300  100  25  0.99     pcr  0.942046    1.871614\n",
      "2    300  100  25  0.99     pls  0.946907    1.714631\n",
      "0    300  100  50  0.99  linreg  0.946907    1.714631\n",
      "1    300  100  50  0.99     pcr  0.950845    1.587449\n",
      "2    300  100  50  0.99     pls  0.946907    1.714631\n",
      "\n",
      "[696 rows x 7 columns]\n"
     ]
    },
    {
     "name": "stderr",
     "output_type": "stream",
     "text": [
      " 20%|██        | 1/5 [14:40<47:53, 718.45s/it, N=100, linreg=0.93, pcr=0.939, pls=0.931, rho=0.99]"
     ]
    },
    {
     "name": "stdout",
     "output_type": "stream",
     "text": [
      "       M    N   n   rho   model        R2         MSE\n",
      "0   5000  500   5  0.01  linreg  0.997495    1.101917\n",
      "1   5000  500   5  0.01     pcr  0.024885  428.943009\n",
      "2   5000  500   5  0.01     pls  0.997442    1.125453\n",
      "0   5000  500  50  0.01  linreg  0.997495    1.101917\n",
      "1   5000  500  50  0.01     pcr  0.095849  397.726742\n",
      "..   ...  ...  ..   ...     ...       ...         ...\n",
      "1    300  100  50  0.99     pcr  0.950845    1.587449\n",
      "2    300  100  50  0.99     pls  0.946907    1.714631\n",
      "0    200  100   1  0.99  linreg  0.930088    2.257603\n",
      "1    200  100   1  0.99     pcr  0.936645    2.045856\n",
      "2    200  100   1  0.99     pls  0.936667    2.045147\n",
      "\n",
      "[699 rows x 7 columns]\n"
     ]
    },
    {
     "name": "stderr",
     "output_type": "stream",
     "text": [
      " 20%|██        | 1/5 [14:41<47:53, 718.45s/it, N=100, linreg=0.93, pcr=0.941, pls=0.93, rho=0.99] "
     ]
    },
    {
     "name": "stdout",
     "output_type": "stream",
     "text": [
      "       M    N   n   rho   model        R2         MSE\n",
      "0   5000  500   5  0.01  linreg  0.997495    1.101917\n",
      "1   5000  500   5  0.01     pcr  0.024885  428.943009\n",
      "2   5000  500   5  0.01     pls  0.997442    1.125453\n",
      "0   5000  500  50  0.01  linreg  0.997495    1.101917\n",
      "1   5000  500  50  0.01     pcr  0.095849  397.726742\n",
      "..   ...  ...  ..   ...     ...       ...         ...\n",
      "1    200  100   1  0.99     pcr  0.936645    2.045856\n",
      "2    200  100   1  0.99     pls  0.936667    2.045147\n",
      "0    200  100  10  0.99  linreg  0.930088    2.257603\n",
      "1    200  100  10  0.99     pcr  0.938801    1.976239\n",
      "2    200  100  10  0.99     pls  0.931059    2.226258\n",
      "\n",
      "[702 rows x 7 columns]\n"
     ]
    },
    {
     "name": "stderr",
     "output_type": "stream",
     "text": [
      " 20%|██        | 1/5 [14:42<47:53, 718.45s/it, N=100, linreg=0.93, pcr=0.947, pls=0.93, rho=0.99]"
     ]
    },
    {
     "name": "stdout",
     "output_type": "stream",
     "text": [
      "       M    N   n   rho   model        R2         MSE\n",
      "0   5000  500   5  0.01  linreg  0.997495    1.101917\n",
      "1   5000  500   5  0.01     pcr  0.024885  428.943009\n",
      "2   5000  500   5  0.01     pls  0.997442    1.125453\n",
      "0   5000  500  50  0.01  linreg  0.997495    1.101917\n",
      "1   5000  500  50  0.01     pcr  0.095849  397.726742\n",
      "..   ...  ...  ..   ...     ...       ...         ...\n",
      "1    200  100  10  0.99     pcr  0.938801    1.976239\n",
      "2    200  100  10  0.99     pls  0.931059    2.226258\n",
      "0    200  100  25  0.99  linreg  0.930088    2.257603\n",
      "1    200  100  25  0.99     pcr  0.940590    1.918476\n",
      "2    200  100  25  0.99     pls  0.930088    2.257596\n",
      "\n",
      "[705 rows x 7 columns]\n"
     ]
    },
    {
     "name": "stderr",
     "output_type": "stream",
     "text": [
      " 20%|██        | 1/5 [14:43<47:53, 718.45s/it, N=100, linreg=-.0994, pcr=0.936, pls=0.936, rho=0.99]"
     ]
    },
    {
     "name": "stdout",
     "output_type": "stream",
     "text": [
      "       M    N   n   rho   model        R2         MSE\n",
      "0   5000  500   5  0.01  linreg  0.997495    1.101917\n",
      "1   5000  500   5  0.01     pcr  0.024885  428.943009\n",
      "2   5000  500   5  0.01     pls  0.997442    1.125453\n",
      "0   5000  500  50  0.01  linreg  0.997495    1.101917\n",
      "1   5000  500  50  0.01     pcr  0.095849  397.726742\n",
      "..   ...  ...  ..   ...     ...       ...         ...\n",
      "1    200  100  25  0.99     pcr  0.940590    1.918476\n",
      "2    200  100  25  0.99     pls  0.930088    2.257596\n",
      "0    200  100  50  0.99  linreg  0.930088    2.257603\n",
      "1    200  100  50  0.99     pcr  0.946779    1.718619\n",
      "2    200  100  50  0.99     pls  0.930088    2.257603\n",
      "\n",
      "[708 rows x 7 columns]\n"
     ]
    },
    {
     "name": "stderr",
     "output_type": "stream",
     "text": [
      " 20%|██        | 1/5 [14:44<47:53, 718.45s/it, N=100, linreg=-.0994, pcr=0.937, pls=0.877, rho=0.99]"
     ]
    },
    {
     "name": "stdout",
     "output_type": "stream",
     "text": [
      "       M    N   n   rho   model        R2         MSE\n",
      "0   5000  500   5  0.01  linreg  0.997495    1.101917\n",
      "1   5000  500   5  0.01     pcr  0.024885  428.943009\n",
      "2   5000  500   5  0.01     pls  0.997442    1.125453\n",
      "0   5000  500  50  0.01  linreg  0.997495    1.101917\n",
      "1   5000  500  50  0.01     pcr  0.095849  397.726742\n",
      "..   ...  ...  ..   ...     ...       ...         ...\n",
      "1    200  100  50  0.99     pcr  0.946779    1.718619\n",
      "2    200  100  50  0.99     pls  0.930088    2.257603\n",
      "0    100  100   1  0.99  linreg -0.099357   35.504383\n",
      "1    100  100   1  0.99     pcr  0.936245    2.058991\n",
      "2    100  100   1  0.99     pls  0.936269    2.058226\n",
      "\n",
      "[711 rows x 7 columns]\n"
     ]
    },
    {
     "name": "stderr",
     "output_type": "stream",
     "text": [
      " 20%|██        | 1/5 [14:45<47:53, 718.45s/it, N=100, linreg=-.0994, pcr=0.939, pls=0.73, rho=0.99] "
     ]
    },
    {
     "name": "stdout",
     "output_type": "stream",
     "text": [
      "       M    N   n   rho   model        R2         MSE\n",
      "0   5000  500   5  0.01  linreg  0.997495    1.101917\n",
      "1   5000  500   5  0.01     pcr  0.024885  428.943009\n",
      "2   5000  500   5  0.01     pls  0.997442    1.125453\n",
      "0   5000  500  50  0.01  linreg  0.997495    1.101917\n",
      "1   5000  500  50  0.01     pcr  0.095849  397.726742\n",
      "..   ...  ...  ..   ...     ...       ...         ...\n",
      "1    100  100   1  0.99     pcr  0.936245    2.058991\n",
      "2    100  100   1  0.99     pls  0.936269    2.058226\n",
      "0    100  100  10  0.99  linreg -0.099357   35.504383\n",
      "1    100  100  10  0.99     pcr  0.936850    2.039473\n",
      "2    100  100  10  0.99     pls  0.877151    3.967470\n",
      "\n",
      "[714 rows x 7 columns]\n"
     ]
    },
    {
     "name": "stderr",
     "output_type": "stream",
     "text": [
      " 40%|████      | 2/5 [14:46<19:43, 394.55s/it, N=100, linreg=-.0994, pcr=0.941, pls=0.603, rho=0.99]"
     ]
    },
    {
     "name": "stdout",
     "output_type": "stream",
     "text": [
      "       M    N   n   rho   model        R2         MSE\n",
      "0   5000  500   5  0.01  linreg  0.997495    1.101917\n",
      "1   5000  500   5  0.01     pcr  0.024885  428.943009\n",
      "2   5000  500   5  0.01     pls  0.997442    1.125453\n",
      "0   5000  500  50  0.01  linreg  0.997495    1.101917\n",
      "1   5000  500  50  0.01     pcr  0.095849  397.726742\n",
      "..   ...  ...  ..   ...     ...       ...         ...\n",
      "1    100  100  10  0.99     pcr  0.936850    2.039473\n",
      "2    100  100  10  0.99     pls  0.877151    3.967470\n",
      "0    100  100  25  0.99  linreg -0.099357   35.504383\n",
      "1    100  100  25  0.99     pcr  0.938906    1.973071\n",
      "2    100  100  25  0.99     pls  0.730418    8.706315\n",
      "\n",
      "[717 rows x 7 columns]\n"
     ]
    },
    {
     "name": "stderr",
     "output_type": "stream",
     "text": [
      " 40%|████      | 2/5 [14:47<19:43, 394.55s/it, N=50, linreg=0.986, pcr=0.0788, pls=0.985, rho=0.01] "
     ]
    },
    {
     "name": "stdout",
     "output_type": "stream",
     "text": [
      "       M    N   n   rho   model        R2         MSE\n",
      "0   5000  500   5  0.01  linreg  0.997495    1.101917\n",
      "1   5000  500   5  0.01     pcr  0.024885  428.943009\n",
      "2   5000  500   5  0.01     pls  0.997442    1.125453\n",
      "0   5000  500  50  0.01  linreg  0.997495    1.101917\n",
      "1   5000  500  50  0.01     pcr  0.095849  397.726742\n",
      "..   ...  ...  ..   ...     ...       ...         ...\n",
      "1    100  100  25  0.99     pcr  0.938906    1.973071\n",
      "2    100  100  25  0.99     pls  0.730418    8.706315\n",
      "0    100  100  50  0.99  linreg -0.099357   35.504383\n",
      "1    100  100  50  0.99     pcr  0.941370    1.893485\n",
      "2    100  100  50  0.99     pls  0.602655   12.832492\n",
      "\n",
      "[720 rows x 7 columns]\n"
     ]
    },
    {
     "name": "stderr",
     "output_type": "stream",
     "text": [
      " 40%|████      | 2/5 [14:48<19:43, 394.55s/it, N=50, linreg=0.986, pcr=0.233, pls=0.986, rho=0.01] "
     ]
    },
    {
     "name": "stdout",
     "output_type": "stream",
     "text": [
      "       M    N   n   rho   model        R2         MSE\n",
      "0   5000  500   5  0.01  linreg  0.997495    1.101917\n",
      "1   5000  500   5  0.01     pcr  0.024885  428.943009\n",
      "2   5000  500   5  0.01     pls  0.997442    1.125453\n",
      "0   5000  500  50  0.01  linreg  0.997495    1.101917\n",
      "1   5000  500  50  0.01     pcr  0.095849  397.726742\n",
      "..   ...  ...  ..   ...     ...       ...         ...\n",
      "1    100  100  50  0.99     pcr  0.941370    1.893485\n",
      "2    100  100  50  0.99     pls  0.602655   12.832492\n",
      "0    500   50   5  0.01  linreg  0.985556    1.096422\n",
      "1    500   50   5  0.01     pcr  0.078760   69.927841\n",
      "2    500   50   5  0.01     pls  0.985450    1.104444\n",
      "\n",
      "[723 rows x 7 columns]\n"
     ]
    },
    {
     "name": "stderr",
     "output_type": "stream",
     "text": [
      " 40%|████      | 2/5 [14:49<19:43, 394.55s/it, N=50, linreg=0.986, pcr=0.534, pls=0.986, rho=0.01]"
     ]
    },
    {
     "name": "stdout",
     "output_type": "stream",
     "text": [
      "       M    N   n   rho   model        R2         MSE\n",
      "0   5000  500   5  0.01  linreg  0.997495    1.101917\n",
      "1   5000  500   5  0.01     pcr  0.024885  428.943009\n",
      "2   5000  500   5  0.01     pls  0.997442    1.125453\n",
      "0   5000  500  50  0.01  linreg  0.997495    1.101917\n",
      "1   5000  500  50  0.01     pcr  0.095849  397.726742\n",
      "..   ...  ...  ..   ...     ...       ...         ...\n",
      "1    500   50   5  0.01     pcr  0.078760   69.927841\n",
      "2    500   50   5  0.01     pls  0.985450    1.104444\n",
      "0    500   50  12  0.01  linreg  0.985556    1.096422\n",
      "1    500   50  12  0.01     pcr  0.232822   58.233522\n",
      "2    500   50  12  0.01     pls  0.985556    1.096422\n",
      "\n",
      "[726 rows x 7 columns]\n"
     ]
    },
    {
     "name": "stderr",
     "output_type": "stream",
     "text": [
      " 40%|████      | 2/5 [14:50<19:43, 394.55s/it, N=50, linreg=0.985, pcr=0.107, pls=0.984, rho=0.01]"
     ]
    },
    {
     "name": "stdout",
     "output_type": "stream",
     "text": [
      "       M    N   n   rho   model        R2         MSE\n",
      "0   5000  500   5  0.01  linreg  0.997495    1.101917\n",
      "1   5000  500   5  0.01     pcr  0.024885  428.943009\n",
      "2   5000  500   5  0.01     pls  0.997442    1.125453\n",
      "0   5000  500  50  0.01  linreg  0.997495    1.101917\n",
      "1   5000  500  50  0.01     pcr  0.095849  397.726742\n",
      "..   ...  ...  ..   ...     ...       ...         ...\n",
      "1    500   50  12  0.01     pcr  0.232822   58.233522\n",
      "2    500   50  12  0.01     pls  0.985556    1.096422\n",
      "0    500   50  25  0.01  linreg  0.985556    1.096422\n",
      "1    500   50  25  0.01     pcr  0.533989   35.373101\n",
      "2    500   50  25  0.01     pls  0.985556    1.096422\n",
      "\n",
      "[729 rows x 7 columns]\n"
     ]
    },
    {
     "name": "stderr",
     "output_type": "stream",
     "text": [
      " 40%|████      | 2/5 [14:51<19:43, 394.55s/it, N=50, linreg=0.985, pcr=0.243, pls=0.985, rho=0.01]"
     ]
    },
    {
     "name": "stdout",
     "output_type": "stream",
     "text": [
      "       M    N   n   rho   model        R2         MSE\n",
      "0   5000  500   5  0.01  linreg  0.997495    1.101917\n",
      "1   5000  500   5  0.01     pcr  0.024885  428.943009\n",
      "2   5000  500   5  0.01     pls  0.997442    1.125453\n",
      "0   5000  500  50  0.01  linreg  0.997495    1.101917\n",
      "1   5000  500  50  0.01     pcr  0.095849  397.726742\n",
      "..   ...  ...  ..   ...     ...       ...         ...\n",
      "1    500   50  25  0.01     pcr  0.533989   35.373101\n",
      "2    500   50  25  0.01     pls  0.985556    1.096422\n",
      "0    250   50   5  0.01  linreg  0.984501    1.176239\n",
      "1    250   50   5  0.01     pcr  0.106910   67.779764\n",
      "2    250   50   5  0.01     pls  0.984333    1.189020\n",
      "\n",
      "[732 rows x 7 columns]\n"
     ]
    },
    {
     "name": "stderr",
     "output_type": "stream",
     "text": [
      " 40%|████      | 2/5 [14:52<19:43, 394.55s/it, N=50, linreg=0.985, pcr=0.588, pls=0.985, rho=0.01]"
     ]
    },
    {
     "name": "stdout",
     "output_type": "stream",
     "text": [
      "       M    N   n   rho   model        R2         MSE\n",
      "0   5000  500   5  0.01  linreg  0.997495    1.101917\n",
      "1   5000  500   5  0.01     pcr  0.024885  428.943009\n",
      "2   5000  500   5  0.01     pls  0.997442    1.125453\n",
      "0   5000  500  50  0.01  linreg  0.997495    1.101917\n",
      "1   5000  500  50  0.01     pcr  0.095849  397.726742\n",
      "..   ...  ...  ..   ...     ...       ...         ...\n",
      "1    250   50   5  0.01     pcr  0.106910   67.779764\n",
      "2    250   50   5  0.01     pls  0.984333    1.189020\n",
      "0    250   50  12  0.01  linreg  0.984501    1.176239\n",
      "1    250   50  12  0.01     pcr  0.242951   57.455116\n",
      "2    250   50  12  0.01     pls  0.984501    1.176243\n",
      "\n",
      "[735 rows x 7 columns]\n"
     ]
    },
    {
     "name": "stderr",
     "output_type": "stream",
     "text": [
      " 40%|████      | 2/5 [14:52<19:43, 394.55s/it, N=50, linreg=0.982, pcr=0.153, pls=0.981, rho=0.01]"
     ]
    },
    {
     "name": "stdout",
     "output_type": "stream",
     "text": [
      "       M    N   n   rho   model        R2         MSE\n",
      "0   5000  500   5  0.01  linreg  0.997495    1.101917\n",
      "1   5000  500   5  0.01     pcr  0.024885  428.943009\n",
      "2   5000  500   5  0.01     pls  0.997442    1.125453\n",
      "0   5000  500  50  0.01  linreg  0.997495    1.101917\n",
      "1   5000  500  50  0.01     pcr  0.095849  397.726742\n",
      "..   ...  ...  ..   ...     ...       ...         ...\n",
      "1    250   50  12  0.01     pcr  0.242951   57.455116\n",
      "2    250   50  12  0.01     pls  0.984501    1.176243\n",
      "0    250   50  25  0.01  linreg  0.984501    1.176239\n",
      "1    250   50  25  0.01     pcr  0.588320   31.243827\n",
      "2    250   50  25  0.01     pls  0.984501    1.176239\n",
      "\n",
      "[738 rows x 7 columns]\n"
     ]
    },
    {
     "name": "stderr",
     "output_type": "stream",
     "text": [
      " 40%|████      | 2/5 [14:52<19:43, 394.55s/it, N=50, linreg=0.982, pcr=0.277, pls=0.982, rho=0.01]"
     ]
    },
    {
     "name": "stdout",
     "output_type": "stream",
     "text": [
      "       M    N   n   rho   model        R2         MSE\n",
      "0   5000  500   5  0.01  linreg  0.997495    1.101917\n",
      "1   5000  500   5  0.01     pcr  0.024885  428.943009\n",
      "2   5000  500   5  0.01     pls  0.997442    1.125453\n",
      "0   5000  500  50  0.01  linreg  0.997495    1.101917\n",
      "1   5000  500  50  0.01     pcr  0.095849  397.726742\n",
      "..   ...  ...  ..   ...     ...       ...         ...\n",
      "1    250   50  25  0.01     pcr  0.588320   31.243827\n",
      "2    250   50  25  0.01     pls  0.984501    1.176239\n",
      "0    150   50   5  0.01  linreg  0.982366    1.338306\n",
      "1    150   50   5  0.01     pcr  0.152658   64.307588\n",
      "2    150   50   5  0.01     pls  0.981399    1.411692\n",
      "\n",
      "[741 rows x 7 columns]\n"
     ]
    },
    {
     "name": "stderr",
     "output_type": "stream",
     "text": [
      " 40%|████      | 2/5 [14:53<19:43, 394.55s/it, N=50, linreg=0.982, pcr=0.57, pls=0.982, rho=0.01] "
     ]
    },
    {
     "name": "stdout",
     "output_type": "stream",
     "text": [
      "       M    N   n   rho   model        R2         MSE\n",
      "0   5000  500   5  0.01  linreg  0.997495    1.101917\n",
      "1   5000  500   5  0.01     pcr  0.024885  428.943009\n",
      "2   5000  500   5  0.01     pls  0.997442    1.125453\n",
      "0   5000  500  50  0.01  linreg  0.997495    1.101917\n",
      "1   5000  500  50  0.01     pcr  0.095849  397.726742\n",
      "..   ...  ...  ..   ...     ...       ...         ...\n",
      "1    150   50   5  0.01     pcr  0.152658   64.307588\n",
      "2    150   50   5  0.01     pls  0.981399    1.411692\n",
      "0    150   50  12  0.01  linreg  0.982366    1.338306\n",
      "1    150   50  12  0.01     pcr  0.277343   54.844827\n",
      "2    150   50  12  0.01     pls  0.982367    1.338197\n",
      "\n",
      "[744 rows x 7 columns]\n"
     ]
    },
    {
     "name": "stderr",
     "output_type": "stream",
     "text": [
      " 40%|████      | 2/5 [14:53<19:43, 394.55s/it, N=50, linreg=0.975, pcr=0.188, pls=0.974, rho=0.01]"
     ]
    },
    {
     "name": "stdout",
     "output_type": "stream",
     "text": [
      "       M    N   n   rho   model        R2         MSE\n",
      "0   5000  500   5  0.01  linreg  0.997495    1.101917\n",
      "1   5000  500   5  0.01     pcr  0.024885  428.943009\n",
      "2   5000  500   5  0.01     pls  0.997442    1.125453\n",
      "0   5000  500  50  0.01  linreg  0.997495    1.101917\n",
      "1   5000  500  50  0.01     pcr  0.095849  397.726742\n",
      "..   ...  ...  ..   ...     ...       ...         ...\n",
      "1    150   50  12  0.01     pcr  0.277343   54.844827\n",
      "2    150   50  12  0.01     pls  0.982367    1.338197\n",
      "0    150   50  25  0.01  linreg  0.982366    1.338306\n",
      "1    150   50  25  0.01     pcr  0.569900   32.641696\n",
      "2    150   50  25  0.01     pls  0.982366    1.338306\n",
      "\n",
      "[747 rows x 7 columns]\n"
     ]
    },
    {
     "name": "stderr",
     "output_type": "stream",
     "text": [
      " 40%|████      | 2/5 [14:54<19:43, 394.55s/it, N=50, linreg=0.975, pcr=0.265, pls=0.975, rho=0.01]"
     ]
    },
    {
     "name": "stdout",
     "output_type": "stream",
     "text": [
      "       M    N   n   rho   model        R2         MSE\n",
      "0   5000  500   5  0.01  linreg  0.997495    1.101917\n",
      "1   5000  500   5  0.01     pcr  0.024885  428.943009\n",
      "2   5000  500   5  0.01     pls  0.997442    1.125453\n",
      "0   5000  500  50  0.01  linreg  0.997495    1.101917\n",
      "1   5000  500  50  0.01     pcr  0.095849  397.726742\n",
      "..   ...  ...  ..   ...     ...       ...         ...\n",
      "1    150   50  25  0.01     pcr  0.569900   32.641696\n",
      "2    150   50  25  0.01     pls  0.982366    1.338306\n",
      "0    100   50   5  0.01  linreg  0.974837    1.909643\n",
      "1    100   50   5  0.01     pcr  0.188307   61.599230\n",
      "2    100   50   5  0.01     pls  0.974222    1.956293\n",
      "\n",
      "[750 rows x 7 columns]\n"
     ]
    },
    {
     "name": "stderr",
     "output_type": "stream",
     "text": [
      " 40%|████      | 2/5 [14:54<19:43, 394.55s/it, N=50, linreg=0.975, pcr=0.603, pls=0.975, rho=0.01]"
     ]
    },
    {
     "name": "stdout",
     "output_type": "stream",
     "text": [
      "       M    N   n   rho   model        R2         MSE\n",
      "0   5000  500   5  0.01  linreg  0.997495    1.101917\n",
      "1   5000  500   5  0.01     pcr  0.024885  428.943009\n",
      "2   5000  500   5  0.01     pls  0.997442    1.125453\n",
      "0   5000  500  50  0.01  linreg  0.997495    1.101917\n",
      "1   5000  500  50  0.01     pcr  0.095849  397.726742\n",
      "..   ...  ...  ..   ...     ...       ...         ...\n",
      "1    100   50   5  0.01     pcr  0.188307   61.599230\n",
      "2    100   50   5  0.01     pls  0.974222    1.956293\n",
      "0    100   50  12  0.01  linreg  0.974837    1.909643\n",
      "1    100   50  12  0.01     pcr  0.264586   55.810427\n",
      "2    100   50  12  0.01     pls  0.975115    1.888550\n",
      "\n",
      "[753 rows x 7 columns]\n"
     ]
    },
    {
     "name": "stderr",
     "output_type": "stream",
     "text": [
      " 40%|████      | 2/5 [14:55<19:43, 394.55s/it, N=50, linreg=-.5, pcr=0.204, pls=0.799, rho=0.01]  "
     ]
    },
    {
     "name": "stdout",
     "output_type": "stream",
     "text": [
      "       M    N   n   rho   model        R2         MSE\n",
      "0   5000  500   5  0.01  linreg  0.997495    1.101917\n",
      "1   5000  500   5  0.01     pcr  0.024885  428.943009\n",
      "2   5000  500   5  0.01     pls  0.997442    1.125453\n",
      "0   5000  500  50  0.01  linreg  0.997495    1.101917\n",
      "1   5000  500  50  0.01     pcr  0.095849  397.726742\n",
      "..   ...  ...  ..   ...     ...       ...         ...\n",
      "1    100   50  12  0.01     pcr  0.264586   55.810427\n",
      "2    100   50  12  0.01     pls  0.975115    1.888550\n",
      "0    100   50  25  0.01  linreg  0.974837    1.909643\n",
      "1    100   50  25  0.01     pcr  0.602838   30.140512\n",
      "2    100   50  25  0.01     pls  0.974837    1.909637\n",
      "\n",
      "[756 rows x 7 columns]\n"
     ]
    },
    {
     "name": "stderr",
     "output_type": "stream",
     "text": [
      " 40%|████      | 2/5 [14:55<19:43, 394.55s/it, N=50, linreg=-.5, pcr=0.319, pls=0.893, rho=0.01]"
     ]
    },
    {
     "name": "stdout",
     "output_type": "stream",
     "text": [
      "       M    N   n   rho   model        R2         MSE\n",
      "0   5000  500   5  0.01  linreg  0.997495    1.101917\n",
      "1   5000  500   5  0.01     pcr  0.024885  428.943009\n",
      "2   5000  500   5  0.01     pls  0.997442    1.125453\n",
      "0   5000  500  50  0.01  linreg  0.997495    1.101917\n",
      "1   5000  500  50  0.01     pcr  0.095849  397.726742\n",
      "..   ...  ...  ..   ...     ...       ...         ...\n",
      "1    100   50  25  0.01     pcr  0.602838   30.140512\n",
      "2    100   50  25  0.01     pls  0.974837    1.909637\n",
      "0     50   50   5  0.01  linreg -0.499667  113.823592\n",
      "1     50   50   5  0.01     pcr  0.203617   60.444822\n",
      "2     50   50   5  0.01     pls  0.799279   15.234580\n",
      "\n",
      "[759 rows x 7 columns]\n"
     ]
    },
    {
     "name": "stderr",
     "output_type": "stream",
     "text": [
      " 40%|████      | 2/5 [14:56<19:43, 394.55s/it, N=50, linreg=-.5, pcr=0.503, pls=0.733, rho=0.01]"
     ]
    },
    {
     "name": "stdout",
     "output_type": "stream",
     "text": [
      "       M    N   n   rho   model        R2         MSE\n",
      "0   5000  500   5  0.01  linreg  0.997495    1.101917\n",
      "1   5000  500   5  0.01     pcr  0.024885  428.943009\n",
      "2   5000  500   5  0.01     pls  0.997442    1.125453\n",
      "0   5000  500  50  0.01  linreg  0.997495    1.101917\n",
      "1   5000  500  50  0.01     pcr  0.095849  397.726742\n",
      "..   ...  ...  ..   ...     ...       ...         ...\n",
      "1     50   50   5  0.01     pcr  0.203617   60.444822\n",
      "2     50   50   5  0.01     pls  0.799279   15.234580\n",
      "0     50   50  12  0.01  linreg -0.499667  113.823592\n",
      "1     50   50  12  0.01     pcr  0.318780   51.704045\n",
      "2     50   50  12  0.01     pls  0.893205    8.105632\n",
      "\n",
      "[762 rows x 7 columns]\n"
     ]
    },
    {
     "name": "stderr",
     "output_type": "stream",
     "text": [
      " 40%|████      | 2/5 [14:56<19:43, 394.55s/it, N=50, linreg=0.981, pcr=0.162, pls=0.981, rho=0.1]"
     ]
    },
    {
     "name": "stdout",
     "output_type": "stream",
     "text": [
      "       M    N   n   rho   model        R2         MSE\n",
      "0   5000  500   5  0.01  linreg  0.997495    1.101917\n",
      "1   5000  500   5  0.01     pcr  0.024885  428.943009\n",
      "2   5000  500   5  0.01     pls  0.997442    1.125453\n",
      "0   5000  500  50  0.01  linreg  0.997495    1.101917\n",
      "1   5000  500  50  0.01     pcr  0.095849  397.726742\n",
      "..   ...  ...  ..   ...     ...       ...         ...\n",
      "1     50   50  12  0.01     pcr  0.318780   51.704045\n",
      "2     50   50  12  0.01     pls  0.893205    8.105632\n",
      "0     50   50  25  0.01  linreg -0.499667  113.823592\n",
      "1     50   50  25  0.01     pcr  0.502756   37.740442\n",
      "2     50   50  25  0.01     pls  0.733036   20.262348\n",
      "\n",
      "[765 rows x 7 columns]\n"
     ]
    },
    {
     "name": "stderr",
     "output_type": "stream",
     "text": [
      " 40%|████      | 2/5 [14:57<19:43, 394.55s/it, N=50, linreg=0.981, pcr=0.299, pls=0.981, rho=0.1]"
     ]
    },
    {
     "name": "stdout",
     "output_type": "stream",
     "text": [
      "       M    N   n   rho   model        R2         MSE\n",
      "0   5000  500   5  0.01  linreg  0.997495    1.101917\n",
      "1   5000  500   5  0.01     pcr  0.024885  428.943009\n",
      "2   5000  500   5  0.01     pls  0.997442    1.125453\n",
      "0   5000  500  50  0.01  linreg  0.997495    1.101917\n",
      "1   5000  500  50  0.01     pcr  0.095849  397.726742\n",
      "..   ...  ...  ..   ...     ...       ...         ...\n",
      "1     50   50  25  0.01     pcr  0.502756   37.740442\n",
      "2     50   50  25  0.01     pls  0.733036   20.262348\n",
      "0    500   50   5  0.10  linreg  0.981302    1.110526\n",
      "1    500   50   5  0.10     pcr  0.161513   49.800262\n",
      "2    500   50   5  0.10     pls  0.981361    1.107046\n",
      "\n",
      "[768 rows x 7 columns]\n"
     ]
    },
    {
     "name": "stderr",
     "output_type": "stream",
     "text": [
      " 40%|████      | 2/5 [14:58<19:43, 394.55s/it, N=50, linreg=0.981, pcr=0.514, pls=0.981, rho=0.1]"
     ]
    },
    {
     "name": "stdout",
     "output_type": "stream",
     "text": [
      "       M    N   n   rho   model        R2         MSE\n",
      "0   5000  500   5  0.01  linreg  0.997495    1.101917\n",
      "1   5000  500   5  0.01     pcr  0.024885  428.943009\n",
      "2   5000  500   5  0.01     pls  0.997442    1.125453\n",
      "0   5000  500  50  0.01  linreg  0.997495    1.101917\n",
      "1   5000  500  50  0.01     pcr  0.095849  397.726742\n",
      "..   ...  ...  ..   ...     ...       ...         ...\n",
      "1    500   50   5  0.10     pcr  0.161513   49.800262\n",
      "2    500   50   5  0.10     pls  0.981361    1.107046\n",
      "0    500   50  12  0.10  linreg  0.981302    1.110526\n",
      "1    500   50  12  0.10     pcr  0.299217   41.621601\n",
      "2    500   50  12  0.10     pls  0.981302    1.110526\n",
      "\n",
      "[771 rows x 7 columns]\n"
     ]
    },
    {
     "name": "stderr",
     "output_type": "stream",
     "text": [
      " 40%|████      | 2/5 [14:59<19:43, 394.55s/it, N=50, linreg=0.978, pcr=0.176, pls=0.978, rho=0.1]"
     ]
    },
    {
     "name": "stdout",
     "output_type": "stream",
     "text": [
      "       M    N   n   rho   model        R2         MSE\n",
      "0   5000  500   5  0.01  linreg  0.997495    1.101917\n",
      "1   5000  500   5  0.01     pcr  0.024885  428.943009\n",
      "2   5000  500   5  0.01     pls  0.997442    1.125453\n",
      "0   5000  500  50  0.01  linreg  0.997495    1.101917\n",
      "1   5000  500  50  0.01     pcr  0.095849  397.726742\n",
      "..   ...  ...  ..   ...     ...       ...         ...\n",
      "1    500   50  12  0.10     pcr  0.299217   41.621601\n",
      "2    500   50  12  0.10     pls  0.981302    1.110526\n",
      "0    500   50  25  0.10  linreg  0.981302    1.110526\n",
      "1    500   50  25  0.10     pcr  0.513841   28.874452\n",
      "2    500   50  25  0.10     pls  0.981302    1.110526\n",
      "\n",
      "[774 rows x 7 columns]\n"
     ]
    },
    {
     "name": "stderr",
     "output_type": "stream",
     "text": [
      " 40%|████      | 2/5 [15:00<19:43, 394.55s/it, N=50, linreg=0.978, pcr=0.352, pls=0.978, rho=0.1]"
     ]
    },
    {
     "name": "stdout",
     "output_type": "stream",
     "text": [
      "       M    N   n   rho   model        R2         MSE\n",
      "0   5000  500   5  0.01  linreg  0.997495    1.101917\n",
      "1   5000  500   5  0.01     pcr  0.024885  428.943009\n",
      "2   5000  500   5  0.01     pls  0.997442    1.125453\n",
      "0   5000  500  50  0.01  linreg  0.997495    1.101917\n",
      "1   5000  500  50  0.01     pcr  0.095849  397.726742\n",
      "..   ...  ...  ..   ...     ...       ...         ...\n",
      "1    500   50  25  0.10     pcr  0.513841   28.874452\n",
      "2    500   50  25  0.10     pls  0.981302    1.110526\n",
      "0    250   50   5  0.10  linreg  0.977893    1.312792\n",
      "1    250   50   5  0.10     pcr  0.175726   48.949394\n",
      "2    250   50   5  0.10     pls  0.977570    1.331978\n",
      "\n",
      "[777 rows x 7 columns]\n"
     ]
    },
    {
     "name": "stderr",
     "output_type": "stream",
     "text": [
      " 40%|████      | 2/5 [15:00<19:43, 394.55s/it, N=50, linreg=0.978, pcr=0.526, pls=0.978, rho=0.1]"
     ]
    },
    {
     "name": "stdout",
     "output_type": "stream",
     "text": [
      "       M    N   n   rho   model        R2         MSE\n",
      "0   5000  500   5  0.01  linreg  0.997495    1.101917\n",
      "1   5000  500   5  0.01     pcr  0.024885  428.943009\n",
      "2   5000  500   5  0.01     pls  0.997442    1.125453\n",
      "0   5000  500  50  0.01  linreg  0.997495    1.101917\n",
      "1   5000  500  50  0.01     pcr  0.095849  397.726742\n",
      "..   ...  ...  ..   ...     ...       ...         ...\n",
      "1    250   50   5  0.10     pcr  0.175726   48.949394\n",
      "2    250   50   5  0.10     pls  0.977570    1.331978\n",
      "0    250   50  12  0.10  linreg  0.977893    1.312792\n",
      "1    250   50  12  0.10     pcr  0.352017   38.480353\n",
      "2    250   50  12  0.10     pls  0.977895    1.312705\n",
      "\n",
      "[780 rows x 7 columns]\n"
     ]
    },
    {
     "name": "stderr",
     "output_type": "stream",
     "text": [
      " 40%|████      | 2/5 [15:01<19:43, 394.55s/it, N=50, linreg=0.973, pcr=0.177, pls=0.969, rho=0.1]"
     ]
    },
    {
     "name": "stdout",
     "output_type": "stream",
     "text": [
      "       M    N   n   rho   model        R2         MSE\n",
      "0   5000  500   5  0.01  linreg  0.997495    1.101917\n",
      "1   5000  500   5  0.01     pcr  0.024885  428.943009\n",
      "2   5000  500   5  0.01     pls  0.997442    1.125453\n",
      "0   5000  500  50  0.01  linreg  0.997495    1.101917\n",
      "1   5000  500  50  0.01     pcr  0.095849  397.726742\n",
      "..   ...  ...  ..   ...     ...       ...         ...\n",
      "1    250   50  12  0.10     pcr  0.352017   38.480353\n",
      "2    250   50  12  0.10     pls  0.977895    1.312705\n",
      "0    250   50  25  0.10  linreg  0.977893    1.312792\n",
      "1    250   50  25  0.10     pcr  0.525853   28.157170\n",
      "2    250   50  25  0.10     pls  0.977893    1.312792\n",
      "\n",
      "[783 rows x 7 columns]\n"
     ]
    },
    {
     "name": "stderr",
     "output_type": "stream",
     "text": [
      " 40%|████      | 2/5 [15:01<19:43, 394.55s/it, N=50, linreg=0.973, pcr=0.303, pls=0.973, rho=0.1]"
     ]
    },
    {
     "name": "stdout",
     "output_type": "stream",
     "text": [
      "       M    N   n   rho   model        R2         MSE\n",
      "0   5000  500   5  0.01  linreg  0.997495    1.101917\n",
      "1   5000  500   5  0.01     pcr  0.024885  428.943009\n",
      "2   5000  500   5  0.01     pls  0.997442    1.125453\n",
      "0   5000  500  50  0.01  linreg  0.997495    1.101917\n",
      "1   5000  500  50  0.01     pcr  0.095849  397.726742\n",
      "..   ...  ...  ..   ...     ...       ...         ...\n",
      "1    250   50  25  0.10     pcr  0.525853   28.157170\n",
      "2    250   50  25  0.10     pls  0.977893    1.312792\n",
      "0    150   50   5  0.10  linreg  0.973316    1.584909\n",
      "1    150   50   5  0.10     pcr  0.176751   48.896954\n",
      "2    150   50   5  0.10     pls  0.968858    1.849668\n",
      "\n",
      "[786 rows x 7 columns]\n"
     ]
    },
    {
     "name": "stderr",
     "output_type": "stream",
     "text": [
      " 40%|████      | 2/5 [15:01<19:43, 394.55s/it, N=50, linreg=0.973, pcr=0.4, pls=0.973, rho=0.1]  "
     ]
    },
    {
     "name": "stdout",
     "output_type": "stream",
     "text": [
      "       M    N   n   rho   model        R2         MSE\n",
      "0   5000  500   5  0.01  linreg  0.997495    1.101917\n",
      "1   5000  500   5  0.01     pcr  0.024885  428.943009\n",
      "2   5000  500   5  0.01     pls  0.997442    1.125453\n",
      "0   5000  500  50  0.01  linreg  0.997495    1.101917\n",
      "1   5000  500  50  0.01     pcr  0.095849  397.726742\n",
      "..   ...  ...  ..   ...     ...       ...         ...\n",
      "1    150   50   5  0.10     pcr  0.176751   48.896954\n",
      "2    150   50   5  0.10     pls  0.968858    1.849668\n",
      "0    150   50  12  0.10  linreg  0.973316    1.584909\n",
      "1    150   50  12  0.10     pcr  0.303366   41.376667\n",
      "2    150   50  12  0.10     pls  0.973364    1.582031\n",
      "\n",
      "[789 rows x 7 columns]\n"
     ]
    },
    {
     "name": "stderr",
     "output_type": "stream",
     "text": [
      " 40%|████      | 2/5 [15:02<19:43, 394.55s/it, N=50, linreg=0.957, pcr=0.132, pls=0.951, rho=0.1]"
     ]
    },
    {
     "name": "stdout",
     "output_type": "stream",
     "text": [
      "       M    N   n   rho   model        R2         MSE\n",
      "0   5000  500   5  0.01  linreg  0.997495    1.101917\n",
      "1   5000  500   5  0.01     pcr  0.024885  428.943009\n",
      "2   5000  500   5  0.01     pls  0.997442    1.125453\n",
      "0   5000  500  50  0.01  linreg  0.997495    1.101917\n",
      "1   5000  500  50  0.01     pcr  0.095849  397.726742\n",
      "..   ...  ...  ..   ...     ...       ...         ...\n",
      "1    150   50  12  0.10     pcr  0.303366   41.376667\n",
      "2    150   50  12  0.10     pls  0.973364    1.582031\n",
      "0    150   50  25  0.10  linreg  0.973316    1.584909\n",
      "1    150   50  25  0.10     pcr  0.399700   35.654868\n",
      "2    150   50  25  0.10     pls  0.973316    1.584909\n",
      "\n",
      "[792 rows x 7 columns]\n"
     ]
    },
    {
     "name": "stderr",
     "output_type": "stream",
     "text": [
      " 40%|████      | 2/5 [15:02<19:43, 394.55s/it, N=50, linreg=0.957, pcr=0.277, pls=0.957, rho=0.1]"
     ]
    },
    {
     "name": "stdout",
     "output_type": "stream",
     "text": [
      "       M    N   n   rho   model        R2         MSE\n",
      "0   5000  500   5  0.01  linreg  0.997495    1.101917\n",
      "1   5000  500   5  0.01     pcr  0.024885  428.943009\n",
      "2   5000  500   5  0.01     pls  0.997442    1.125453\n",
      "0   5000  500  50  0.01  linreg  0.997495    1.101917\n",
      "1   5000  500  50  0.01     pcr  0.095849  397.726742\n",
      "..   ...  ...  ..   ...     ...       ...         ...\n",
      "1    150   50  25  0.10     pcr  0.399700   35.654868\n",
      "2    150   50  25  0.10     pls  0.973316    1.584909\n",
      "0    100   50   5  0.10  linreg  0.957323    2.534640\n",
      "1    100   50   5  0.10     pcr  0.131718   51.568781\n",
      "2    100   50   5  0.10     pls  0.950733    2.926037\n",
      "\n",
      "[795 rows x 7 columns]\n"
     ]
    },
    {
     "name": "stderr",
     "output_type": "stream",
     "text": [
      " 40%|████      | 2/5 [15:03<19:43, 394.55s/it, N=50, linreg=0.957, pcr=0.588, pls=0.957, rho=0.1]"
     ]
    },
    {
     "name": "stdout",
     "output_type": "stream",
     "text": [
      "       M    N   n   rho   model        R2         MSE\n",
      "0   5000  500   5  0.01  linreg  0.997495    1.101917\n",
      "1   5000  500   5  0.01     pcr  0.024885  428.943009\n",
      "2   5000  500   5  0.01     pls  0.997442    1.125453\n",
      "0   5000  500  50  0.01  linreg  0.997495    1.101917\n",
      "1   5000  500  50  0.01     pcr  0.095849  397.726742\n",
      "..   ...  ...  ..   ...     ...       ...         ...\n",
      "1    100   50   5  0.10     pcr  0.131718   51.568781\n",
      "2    100   50   5  0.10     pls  0.950733    2.926037\n",
      "0    100   50  12  0.10  linreg  0.957323    2.534640\n",
      "1    100   50  12  0.10     pcr  0.276669   42.959913\n",
      "2    100   50  12  0.10     pls  0.957432    2.528182\n",
      "\n",
      "[798 rows x 7 columns]\n"
     ]
    },
    {
     "name": "stderr",
     "output_type": "stream",
     "text": [
      " 40%|████      | 2/5 [15:03<19:43, 394.55s/it, N=50, linreg=-.826, pcr=0.0887, pls=0.861, rho=0.1]"
     ]
    },
    {
     "name": "stdout",
     "output_type": "stream",
     "text": [
      "       M    N   n   rho   model        R2         MSE\n",
      "0   5000  500   5  0.01  linreg  0.997495    1.101917\n",
      "1   5000  500   5  0.01     pcr  0.024885  428.943009\n",
      "2   5000  500   5  0.01     pls  0.997442    1.125453\n",
      "0   5000  500  50  0.01  linreg  0.997495    1.101917\n",
      "1   5000  500  50  0.01     pcr  0.095849  397.726742\n",
      "..   ...  ...  ..   ...     ...       ...         ...\n",
      "1    100   50  12  0.10     pcr  0.276669   42.959913\n",
      "2    100   50  12  0.10     pls  0.957432    2.528182\n",
      "0    100   50  25  0.10  linreg  0.957323    2.534640\n",
      "1    100   50  25  0.10     pcr  0.587767   24.483244\n",
      "2    100   50  25  0.10     pls  0.957324    2.534618\n",
      "\n",
      "[801 rows x 7 columns]\n"
     ]
    },
    {
     "name": "stderr",
     "output_type": "stream",
     "text": [
      " 40%|████      | 2/5 [15:04<19:43, 394.55s/it, N=50, linreg=-.826, pcr=0.138, pls=0.91, rho=0.1]  "
     ]
    },
    {
     "name": "stdout",
     "output_type": "stream",
     "text": [
      "       M    N   n   rho   model        R2         MSE\n",
      "0   5000  500   5  0.01  linreg  0.997495    1.101917\n",
      "1   5000  500   5  0.01     pcr  0.024885  428.943009\n",
      "2   5000  500   5  0.01     pls  0.997442    1.125453\n",
      "0   5000  500  50  0.01  linreg  0.997495    1.101917\n",
      "1   5000  500  50  0.01     pcr  0.095849  397.726742\n",
      "..   ...  ...  ..   ...     ...       ...         ...\n",
      "1    100   50  25  0.10     pcr  0.587767   24.483244\n",
      "2    100   50  25  0.10     pls  0.957324    2.534618\n",
      "0     50   50   5  0.10  linreg -0.825805  108.425819\n",
      "1     50   50   5  0.10     pcr  0.088688   54.118427\n",
      "2     50   50   5  0.10     pls  0.861294    8.237074\n",
      "\n",
      "[804 rows x 7 columns]\n"
     ]
    },
    {
     "name": "stderr",
     "output_type": "stream",
     "text": [
      " 40%|████      | 2/5 [15:04<19:43, 394.55s/it, N=50, linreg=-.826, pcr=0.567, pls=0.562, rho=0.1]"
     ]
    },
    {
     "name": "stdout",
     "output_type": "stream",
     "text": [
      "       M    N   n   rho   model        R2         MSE\n",
      "0   5000  500   5  0.01  linreg  0.997495    1.101917\n",
      "1   5000  500   5  0.01     pcr  0.024885  428.943009\n",
      "2   5000  500   5  0.01     pls  0.997442    1.125453\n",
      "0   5000  500  50  0.01  linreg  0.997495    1.101917\n",
      "1   5000  500  50  0.01     pcr  0.095849  397.726742\n",
      "..   ...  ...  ..   ...     ...       ...         ...\n",
      "1     50   50   5  0.10     pcr  0.088688   54.118427\n",
      "2     50   50   5  0.10     pls  0.861294    8.237074\n",
      "0     50   50  12  0.10  linreg -0.825805  108.425819\n",
      "1     50   50  12  0.10     pcr  0.137838   51.199697\n",
      "2     50   50  12  0.10     pls  0.910043    5.342136\n",
      "\n",
      "[807 rows x 7 columns]\n"
     ]
    },
    {
     "name": "stderr",
     "output_type": "stream",
     "text": [
      " 40%|████      | 2/5 [15:05<19:43, 394.55s/it, N=50, linreg=0.973, pcr=0.0865, pls=0.973, rho=0.2]"
     ]
    },
    {
     "name": "stdout",
     "output_type": "stream",
     "text": [
      "       M    N   n   rho   model        R2         MSE\n",
      "0   5000  500   5  0.01  linreg  0.997495    1.101917\n",
      "1   5000  500   5  0.01     pcr  0.024885  428.943009\n",
      "2   5000  500   5  0.01     pls  0.997442    1.125453\n",
      "0   5000  500  50  0.01  linreg  0.997495    1.101917\n",
      "1   5000  500  50  0.01     pcr  0.095849  397.726742\n",
      "..   ...  ...  ..   ...     ...       ...         ...\n",
      "1     50   50  12  0.10     pcr  0.137838   51.199697\n",
      "2     50   50  12  0.10     pls  0.910043    5.342136\n",
      "0     50   50  25  0.10  linreg -0.825805  108.425819\n",
      "1     50   50  25  0.10     pcr  0.567199   25.701972\n",
      "2     50   50  25  0.10     pls  0.562122   26.003459\n",
      "\n",
      "[810 rows x 7 columns]\n"
     ]
    },
    {
     "name": "stderr",
     "output_type": "stream",
     "text": [
      " 40%|████      | 2/5 [15:06<19:43, 394.55s/it, N=50, linreg=0.973, pcr=0.316, pls=0.973, rho=0.2] "
     ]
    },
    {
     "name": "stdout",
     "output_type": "stream",
     "text": [
      "       M    N   n   rho   model        R2         MSE\n",
      "0   5000  500   5  0.01  linreg  0.997495    1.101917\n",
      "1   5000  500   5  0.01     pcr  0.024885  428.943009\n",
      "2   5000  500   5  0.01     pls  0.997442    1.125453\n",
      "0   5000  500  50  0.01  linreg  0.997495    1.101917\n",
      "1   5000  500  50  0.01     pcr  0.095849  397.726742\n",
      "..   ...  ...  ..   ...     ...       ...         ...\n",
      "1     50   50  25  0.10     pcr  0.567199   25.701972\n",
      "2     50   50  25  0.10     pls  0.562122   26.003459\n",
      "0    500   50   5  0.20  linreg  0.973259    1.137869\n",
      "1    500   50   5  0.20     pcr  0.086462   38.872062\n",
      "2    500   50   5  0.20     pls  0.973074    1.145716\n",
      "\n",
      "[813 rows x 7 columns]\n"
     ]
    },
    {
     "name": "stderr",
     "output_type": "stream",
     "text": [
      " 40%|████      | 2/5 [15:07<19:43, 394.55s/it, N=50, linreg=0.973, pcr=0.598, pls=0.973, rho=0.2]"
     ]
    },
    {
     "name": "stdout",
     "output_type": "stream",
     "text": [
      "       M    N   n   rho   model        R2         MSE\n",
      "0   5000  500   5  0.01  linreg  0.997495    1.101917\n",
      "1   5000  500   5  0.01     pcr  0.024885  428.943009\n",
      "2   5000  500   5  0.01     pls  0.997442    1.125453\n",
      "0   5000  500  50  0.01  linreg  0.997495    1.101917\n",
      "1   5000  500  50  0.01     pcr  0.095849  397.726742\n",
      "..   ...  ...  ..   ...     ...       ...         ...\n",
      "1    500   50   5  0.20     pcr  0.086462   38.872062\n",
      "2    500   50   5  0.20     pls  0.973074    1.145716\n",
      "0    500   50  12  0.20  linreg  0.973259    1.137869\n",
      "1    500   50  12  0.20     pcr  0.315538   29.124639\n",
      "2    500   50  12  0.20     pls  0.973259    1.137869\n",
      "\n",
      "[816 rows x 7 columns]\n"
     ]
    },
    {
     "name": "stderr",
     "output_type": "stream",
     "text": [
      " 40%|████      | 2/5 [15:08<19:43, 394.55s/it, N=50, linreg=0.97, pcr=0.0292, pls=0.97, rho=0.2] "
     ]
    },
    {
     "name": "stdout",
     "output_type": "stream",
     "text": [
      "       M    N   n   rho   model        R2         MSE\n",
      "0   5000  500   5  0.01  linreg  0.997495    1.101917\n",
      "1   5000  500   5  0.01     pcr  0.024885  428.943009\n",
      "2   5000  500   5  0.01     pls  0.997442    1.125453\n",
      "0   5000  500  50  0.01  linreg  0.997495    1.101917\n",
      "1   5000  500  50  0.01     pcr  0.095849  397.726742\n",
      "..   ...  ...  ..   ...     ...       ...         ...\n",
      "1    500   50  12  0.20     pcr  0.315538   29.124639\n",
      "2    500   50  12  0.20     pls  0.973259    1.137869\n",
      "0    500   50  25  0.20  linreg  0.973259    1.137869\n",
      "1    500   50  25  0.20     pcr  0.598110   17.100876\n",
      "2    500   50  25  0.20     pls  0.973259    1.137869\n",
      "\n",
      "[819 rows x 7 columns]\n"
     ]
    },
    {
     "name": "stderr",
     "output_type": "stream",
     "text": [
      " 40%|████      | 2/5 [15:08<19:43, 394.55s/it, N=50, linreg=0.97, pcr=0.135, pls=0.97, rho=0.2] "
     ]
    },
    {
     "name": "stdout",
     "output_type": "stream",
     "text": [
      "       M    N   n   rho   model        R2         MSE\n",
      "0   5000  500   5  0.01  linreg  0.997495    1.101917\n",
      "1   5000  500   5  0.01     pcr  0.024885  428.943009\n",
      "2   5000  500   5  0.01     pls  0.997442    1.125453\n",
      "0   5000  500  50  0.01  linreg  0.997495    1.101917\n",
      "1   5000  500  50  0.01     pcr  0.095849  397.726742\n",
      "..   ...  ...  ..   ...     ...       ...         ...\n",
      "1    500   50  25  0.20     pcr  0.598110   17.100876\n",
      "2    500   50  25  0.20     pls  0.973259    1.137869\n",
      "0    250   50   5  0.20  linreg  0.970426    1.259282\n",
      "1    250   50   5  0.20     pcr  0.029156   41.339161\n",
      "2    250   50   5  0.20     pls  0.969886    1.282295\n",
      "\n",
      "[822 rows x 7 columns]\n"
     ]
    },
    {
     "name": "stderr",
     "output_type": "stream",
     "text": [
      " 40%|████      | 2/5 [15:09<19:43, 394.55s/it, N=50, linreg=0.97, pcr=0.511, pls=0.97, rho=0.2]"
     ]
    },
    {
     "name": "stdout",
     "output_type": "stream",
     "text": [
      "       M    N   n   rho   model        R2         MSE\n",
      "0   5000  500   5  0.01  linreg  0.997495    1.101917\n",
      "1   5000  500   5  0.01     pcr  0.024885  428.943009\n",
      "2   5000  500   5  0.01     pls  0.997442    1.125453\n",
      "0   5000  500  50  0.01  linreg  0.997495    1.101917\n",
      "1   5000  500  50  0.01     pcr  0.095849  397.726742\n",
      "..   ...  ...  ..   ...     ...       ...         ...\n",
      "1    250   50   5  0.20     pcr  0.029156   41.339161\n",
      "2    250   50   5  0.20     pls  0.969886    1.282295\n",
      "0    250   50  12  0.20  linreg  0.970426    1.259282\n",
      "1    250   50  12  0.20     pcr  0.135024   36.831222\n",
      "2    250   50  12  0.20     pls  0.970423    1.259408\n",
      "\n",
      "[825 rows x 7 columns]\n"
     ]
    },
    {
     "name": "stderr",
     "output_type": "stream",
     "text": [
      " 40%|████      | 2/5 [15:09<19:43, 394.55s/it, N=50, linreg=0.966, pcr=0.0158, pls=0.964, rho=0.2]"
     ]
    },
    {
     "name": "stdout",
     "output_type": "stream",
     "text": [
      "       M    N   n   rho   model        R2         MSE\n",
      "0   5000  500   5  0.01  linreg  0.997495    1.101917\n",
      "1   5000  500   5  0.01     pcr  0.024885  428.943009\n",
      "2   5000  500   5  0.01     pls  0.997442    1.125453\n",
      "0   5000  500  50  0.01  linreg  0.997495    1.101917\n",
      "1   5000  500  50  0.01     pcr  0.095849  397.726742\n",
      "..   ...  ...  ..   ...     ...       ...         ...\n",
      "1    250   50  12  0.20     pcr  0.135024   36.831222\n",
      "2    250   50  12  0.20     pls  0.970423    1.259408\n",
      "0    250   50  25  0.20  linreg  0.970426    1.259282\n",
      "1    250   50  25  0.20     pcr  0.511477   20.801607\n",
      "2    250   50  25  0.20     pls  0.970426    1.259282\n",
      "\n",
      "[828 rows x 7 columns]\n"
     ]
    },
    {
     "name": "stderr",
     "output_type": "stream",
     "text": [
      " 40%|████      | 2/5 [15:10<19:43, 394.55s/it, N=50, linreg=0.966, pcr=0.221, pls=0.966, rho=0.2] "
     ]
    },
    {
     "name": "stdout",
     "output_type": "stream",
     "text": [
      "       M    N   n   rho   model        R2         MSE\n",
      "0   5000  500   5  0.01  linreg  0.997495    1.101917\n",
      "1   5000  500   5  0.01     pcr  0.024885  428.943009\n",
      "2   5000  500   5  0.01     pls  0.997442    1.125453\n",
      "0   5000  500  50  0.01  linreg  0.997495    1.101917\n",
      "1   5000  500  50  0.01     pcr  0.095849  397.726742\n",
      "..   ...  ...  ..   ...     ...       ...         ...\n",
      "1    250   50  25  0.20     pcr  0.511477   20.801607\n",
      "2    250   50  25  0.20     pls  0.970426    1.259282\n",
      "0    150   50   5  0.20  linreg  0.965976    1.448510\n",
      "1    150   50   5  0.20     pcr  0.015787   41.901553\n",
      "2    150   50   5  0.20     pls  0.964056    1.530263\n",
      "\n",
      "[831 rows x 7 columns]\n"
     ]
    },
    {
     "name": "stderr",
     "output_type": "stream",
     "text": [
      " 40%|████      | 2/5 [15:10<19:43, 394.55s/it, N=50, linreg=0.966, pcr=0.58, pls=0.966, rho=0.2] "
     ]
    },
    {
     "name": "stdout",
     "output_type": "stream",
     "text": [
      "       M    N   n   rho   model        R2         MSE\n",
      "0   5000  500   5  0.01  linreg  0.997495    1.101917\n",
      "1   5000  500   5  0.01     pcr  0.024885  428.943009\n",
      "2   5000  500   5  0.01     pls  0.997442    1.125453\n",
      "0   5000  500  50  0.01  linreg  0.997495    1.101917\n",
      "1   5000  500  50  0.01     pcr  0.095849  397.726742\n",
      "..   ...  ...  ..   ...     ...       ...         ...\n",
      "1    150   50   5  0.20     pcr  0.015787   41.901553\n",
      "2    150   50   5  0.20     pls  0.964056    1.530263\n",
      "0    150   50  12  0.20  linreg  0.965976    1.448510\n",
      "1    150   50  12  0.20     pcr  0.221403   33.147715\n",
      "2    150   50  12  0.20     pls  0.965961    1.449151\n",
      "\n",
      "[834 rows x 7 columns]\n"
     ]
    },
    {
     "name": "stderr",
     "output_type": "stream",
     "text": [
      " 40%|████      | 2/5 [15:11<19:43, 394.55s/it, N=50, linreg=0.959, pcr=0.0802, pls=0.943, rho=0.2]"
     ]
    },
    {
     "name": "stdout",
     "output_type": "stream",
     "text": [
      "       M    N   n   rho   model        R2         MSE\n",
      "0   5000  500   5  0.01  linreg  0.997495    1.101917\n",
      "1   5000  500   5  0.01     pcr  0.024885  428.943009\n",
      "2   5000  500   5  0.01     pls  0.997442    1.125453\n",
      "0   5000  500  50  0.01  linreg  0.997495    1.101917\n",
      "1   5000  500  50  0.01     pcr  0.095849  397.726742\n",
      "..   ...  ...  ..   ...     ...       ...         ...\n",
      "1    150   50  12  0.20     pcr  0.221403   33.147715\n",
      "2    150   50  12  0.20     pls  0.965961    1.449151\n",
      "0    150   50  25  0.20  linreg  0.965976    1.448510\n",
      "1    150   50  25  0.20     pcr  0.580229   17.871182\n",
      "2    150   50  25  0.20     pls  0.965976    1.448510\n",
      "\n",
      "[837 rows x 7 columns]\n"
     ]
    },
    {
     "name": "stderr",
     "output_type": "stream",
     "text": [
      " 40%|████      | 2/5 [15:11<19:43, 394.55s/it, N=50, linreg=0.959, pcr=0.217, pls=0.96, rho=0.2]  "
     ]
    },
    {
     "name": "stdout",
     "output_type": "stream",
     "text": [
      "       M    N   n   rho   model        R2         MSE\n",
      "0   5000  500   5  0.01  linreg  0.997495    1.101917\n",
      "1   5000  500   5  0.01     pcr  0.024885  428.943009\n",
      "2   5000  500   5  0.01     pls  0.997442    1.125453\n",
      "0   5000  500  50  0.01  linreg  0.997495    1.101917\n",
      "1   5000  500  50  0.01     pcr  0.095849  397.726742\n",
      "..   ...  ...  ..   ...     ...       ...         ...\n",
      "1    150   50  25  0.20     pcr  0.580229   17.871182\n",
      "2    150   50  25  0.20     pls  0.965976    1.448510\n",
      "0    100   50   5  0.20  linreg  0.958618    1.761755\n",
      "1    100   50   5  0.20     pcr  0.080203   39.158883\n",
      "2    100   50   5  0.20     pls  0.942766    2.436659\n",
      "\n",
      "[840 rows x 7 columns]\n"
     ]
    },
    {
     "name": "stderr",
     "output_type": "stream",
     "text": [
      " 40%|████      | 2/5 [15:12<19:43, 394.55s/it, N=50, linreg=0.959, pcr=0.469, pls=0.959, rho=0.2]"
     ]
    },
    {
     "name": "stdout",
     "output_type": "stream",
     "text": [
      "       M    N   n   rho   model        R2         MSE\n",
      "0   5000  500   5  0.01  linreg  0.997495    1.101917\n",
      "1   5000  500   5  0.01     pcr  0.024885  428.943009\n",
      "2   5000  500   5  0.01     pls  0.997442    1.125453\n",
      "0   5000  500  50  0.01  linreg  0.997495    1.101917\n",
      "1   5000  500  50  0.01     pcr  0.095849  397.726742\n",
      "..   ...  ...  ..   ...     ...       ...         ...\n",
      "1    100   50   5  0.20     pcr  0.080203   39.158883\n",
      "2    100   50   5  0.20     pls  0.942766    2.436659\n",
      "0    100   50  12  0.20  linreg  0.958618    1.761755\n",
      "1    100   50  12  0.20     pcr  0.217087   33.331269\n",
      "2    100   50  12  0.20     pls  0.959569    1.721300\n",
      "\n",
      "[843 rows x 7 columns]\n"
     ]
    },
    {
     "name": "stderr",
     "output_type": "stream",
     "text": [
      " 40%|████      | 2/5 [15:12<19:43, 394.55s/it, N=50, linreg=-5.55, pcr=0.0396, pls=0.704, rho=0.2]"
     ]
    },
    {
     "name": "stdout",
     "output_type": "stream",
     "text": [
      "       M    N   n   rho   model        R2         MSE\n",
      "0   5000  500   5  0.01  linreg  0.997495    1.101917\n",
      "1   5000  500   5  0.01     pcr  0.024885  428.943009\n",
      "2   5000  500   5  0.01     pls  0.997442    1.125453\n",
      "0   5000  500  50  0.01  linreg  0.997495    1.101917\n",
      "1   5000  500  50  0.01     pcr  0.095849  397.726742\n",
      "..   ...  ...  ..   ...     ...       ...         ...\n",
      "1    100   50  12  0.20     pcr  0.217087   33.331269\n",
      "2    100   50  12  0.20     pls  0.959569    1.721300\n",
      "0    100   50  25  0.20  linreg  0.958618    1.761755\n",
      "1    100   50  25  0.20     pcr  0.469297   22.593841\n",
      "2    100   50  25  0.20     pls  0.958618    1.761767\n",
      "\n",
      "[846 rows x 7 columns]\n"
     ]
    },
    {
     "name": "stderr",
     "output_type": "stream",
     "text": [
      " 40%|████      | 2/5 [15:12<19:43, 394.55s/it, N=50, linreg=-5.55, pcr=0.128, pls=0.776, rho=0.2] "
     ]
    },
    {
     "name": "stdout",
     "output_type": "stream",
     "text": [
      "       M    N   n   rho   model        R2         MSE\n",
      "0   5000  500   5  0.01  linreg  0.997495    1.101917\n",
      "1   5000  500   5  0.01     pcr  0.024885  428.943009\n",
      "2   5000  500   5  0.01     pls  0.997442    1.125453\n",
      "0   5000  500  50  0.01  linreg  0.997495    1.101917\n",
      "1   5000  500  50  0.01     pcr  0.095849  397.726742\n",
      "..   ...  ...  ..   ...     ...       ...         ...\n",
      "1    100   50  25  0.20     pcr  0.469297   22.593841\n",
      "2    100   50  25  0.20     pls  0.958618    1.761767\n",
      "0     50   50   5  0.20  linreg -5.545286  278.706317\n",
      "1     50   50   5  0.20     pcr  0.039636   40.893491\n",
      "2     50   50   5  0.20     pls  0.704034   12.602584\n",
      "\n",
      "[849 rows x 7 columns]\n"
     ]
    },
    {
     "name": "stderr",
     "output_type": "stream",
     "text": [
      " 40%|████      | 2/5 [15:13<19:43, 394.55s/it, N=50, linreg=-5.55, pcr=0.323, pls=0.626, rho=0.2]"
     ]
    },
    {
     "name": "stdout",
     "output_type": "stream",
     "text": [
      "       M    N   n   rho   model        R2         MSE\n",
      "0   5000  500   5  0.01  linreg  0.997495    1.101917\n",
      "1   5000  500   5  0.01     pcr  0.024885  428.943009\n",
      "2   5000  500   5  0.01     pls  0.997442    1.125453\n",
      "0   5000  500  50  0.01  linreg  0.997495    1.101917\n",
      "1   5000  500  50  0.01     pcr  0.095849  397.726742\n",
      "..   ...  ...  ..   ...     ...       ...         ...\n",
      "1     50   50   5  0.20     pcr  0.039636   40.893491\n",
      "2     50   50   5  0.20     pls  0.704034   12.602584\n",
      "0     50   50  12  0.20  linreg -5.545286  278.706317\n",
      "1     50   50  12  0.20     pcr  0.127957   37.132670\n",
      "2     50   50  12  0.20     pls  0.776445    9.519233\n",
      "\n",
      "[852 rows x 7 columns]\n"
     ]
    },
    {
     "name": "stderr",
     "output_type": "stream",
     "text": [
      " 40%|████      | 2/5 [15:14<19:43, 394.55s/it, N=50, linreg=0.958, pcr=0.0196, pls=0.958, rho=0.5]"
     ]
    },
    {
     "name": "stdout",
     "output_type": "stream",
     "text": [
      "       M    N   n   rho   model        R2         MSE\n",
      "0   5000  500   5  0.01  linreg  0.997495    1.101917\n",
      "1   5000  500   5  0.01     pcr  0.024885  428.943009\n",
      "2   5000  500   5  0.01     pls  0.997442    1.125453\n",
      "0   5000  500  50  0.01  linreg  0.997495    1.101917\n",
      "1   5000  500  50  0.01     pcr  0.095849  397.726742\n",
      "..   ...  ...  ..   ...     ...       ...         ...\n",
      "1     50   50  12  0.20     pcr  0.127957   37.132670\n",
      "2     50   50  12  0.20     pls  0.776445    9.519233\n",
      "0     50   50  25  0.20  linreg -5.545286  278.706317\n",
      "1     50   50  25  0.20     pcr  0.322947   28.829751\n",
      "2     50   50  25  0.20     pls  0.626454   15.906037\n",
      "\n",
      "[855 rows x 7 columns]\n"
     ]
    },
    {
     "name": "stderr",
     "output_type": "stream",
     "text": [
      " 40%|████      | 2/5 [15:14<19:43, 394.55s/it, N=50, linreg=0.958, pcr=0.109, pls=0.958, rho=0.5] "
     ]
    },
    {
     "name": "stdout",
     "output_type": "stream",
     "text": [
      "       M    N   n   rho   model        R2         MSE\n",
      "0   5000  500   5  0.01  linreg  0.997495    1.101917\n",
      "1   5000  500   5  0.01     pcr  0.024885  428.943009\n",
      "2   5000  500   5  0.01     pls  0.997442    1.125453\n",
      "0   5000  500  50  0.01  linreg  0.997495    1.101917\n",
      "1   5000  500  50  0.01     pcr  0.095849  397.726742\n",
      "..   ...  ...  ..   ...     ...       ...         ...\n",
      "1     50   50  25  0.20     pcr  0.322947   28.829751\n",
      "2     50   50  25  0.20     pls  0.626454   15.906037\n",
      "0    500   50   5  0.50  linreg  0.957632    1.099893\n",
      "1    500   50   5  0.50     pcr  0.019621   25.451145\n",
      "2    500   50   5  0.50     pls  0.957703    1.098040\n",
      "\n",
      "[858 rows x 7 columns]\n"
     ]
    },
    {
     "name": "stderr",
     "output_type": "stream",
     "text": [
      " 40%|████      | 2/5 [15:15<19:43, 394.55s/it, N=50, linreg=0.958, pcr=0.467, pls=0.958, rho=0.5]"
     ]
    },
    {
     "name": "stdout",
     "output_type": "stream",
     "text": [
      "       M    N   n   rho   model        R2         MSE\n",
      "0   5000  500   5  0.01  linreg  0.997495    1.101917\n",
      "1   5000  500   5  0.01     pcr  0.024885  428.943009\n",
      "2   5000  500   5  0.01     pls  0.997442    1.125453\n",
      "0   5000  500  50  0.01  linreg  0.997495    1.101917\n",
      "1   5000  500  50  0.01     pcr  0.095849  397.726742\n",
      "..   ...  ...  ..   ...     ...       ...         ...\n",
      "1    500   50   5  0.50     pcr  0.019621   25.451145\n",
      "2    500   50   5  0.50     pls  0.957703    1.098040\n",
      "0    500   50  12  0.50  linreg  0.957632    1.099893\n",
      "1    500   50  12  0.50     pcr  0.109485   23.118241\n",
      "2    500   50  12  0.50     pls  0.957632    1.099894\n",
      "\n",
      "[861 rows x 7 columns]\n"
     ]
    },
    {
     "name": "stderr",
     "output_type": "stream",
     "text": [
      " 40%|████      | 2/5 [15:16<19:43, 394.55s/it, N=50, linreg=0.953, pcr=-.00513, pls=0.952, rho=0.5]"
     ]
    },
    {
     "name": "stdout",
     "output_type": "stream",
     "text": [
      "       M    N   n   rho   model        R2         MSE\n",
      "0   5000  500   5  0.01  linreg  0.997495    1.101917\n",
      "1   5000  500   5  0.01     pcr  0.024885  428.943009\n",
      "2   5000  500   5  0.01     pls  0.997442    1.125453\n",
      "0   5000  500  50  0.01  linreg  0.997495    1.101917\n",
      "1   5000  500  50  0.01     pcr  0.095849  397.726742\n",
      "..   ...  ...  ..   ...     ...       ...         ...\n",
      "1    500   50  12  0.50     pcr  0.109485   23.118241\n",
      "2    500   50  12  0.50     pls  0.957632    1.099894\n",
      "0    500   50  25  0.50  linreg  0.957632    1.099893\n",
      "1    500   50  25  0.50     pcr  0.466737   13.843784\n",
      "2    500   50  25  0.50     pls  0.957632    1.099893\n",
      "\n",
      "[864 rows x 7 columns]\n"
     ]
    },
    {
     "name": "stderr",
     "output_type": "stream",
     "text": [
      " 40%|████      | 2/5 [15:17<19:43, 394.55s/it, N=50, linreg=0.953, pcr=0.0633, pls=0.953, rho=0.5] "
     ]
    },
    {
     "name": "stdout",
     "output_type": "stream",
     "text": [
      "       M    N   n   rho   model        R2         MSE\n",
      "0   5000  500   5  0.01  linreg  0.997495    1.101917\n",
      "1   5000  500   5  0.01     pcr  0.024885  428.943009\n",
      "2   5000  500   5  0.01     pls  0.997442    1.125453\n",
      "0   5000  500  50  0.01  linreg  0.997495    1.101917\n",
      "1   5000  500  50  0.01     pcr  0.095849  397.726742\n",
      "..   ...  ...  ..   ...     ...       ...         ...\n",
      "1    500   50  25  0.50     pcr  0.466737   13.843784\n",
      "2    500   50  25  0.50     pls  0.957632    1.099893\n",
      "0    250   50   5  0.50  linreg  0.952803    1.225044\n",
      "1    250   50   5  0.50     pcr -0.005132   26.089194\n",
      "2    250   50   5  0.50     pls  0.951668    1.254503\n",
      "\n",
      "[867 rows x 7 columns]\n"
     ]
    },
    {
     "name": "stderr",
     "output_type": "stream",
     "text": [
      " 40%|████      | 2/5 [15:18<19:43, 394.55s/it, N=50, linreg=0.953, pcr=0.48, pls=0.953, rho=0.5]  "
     ]
    },
    {
     "name": "stdout",
     "output_type": "stream",
     "text": [
      "       M    N   n   rho   model        R2         MSE\n",
      "0   5000  500   5  0.01  linreg  0.997495    1.101917\n",
      "1   5000  500   5  0.01     pcr  0.024885  428.943009\n",
      "2   5000  500   5  0.01     pls  0.997442    1.125453\n",
      "0   5000  500  50  0.01  linreg  0.997495    1.101917\n",
      "1   5000  500  50  0.01     pcr  0.095849  397.726742\n",
      "..   ...  ...  ..   ...     ...       ...         ...\n",
      "1    250   50   5  0.50     pcr -0.005132   26.089194\n",
      "2    250   50   5  0.50     pls  0.951668    1.254503\n",
      "0    250   50  12  0.50  linreg  0.952803    1.225044\n",
      "1    250   50  12  0.50     pcr  0.063312   24.312653\n",
      "2    250   50  12  0.50     pls  0.952803    1.225038\n",
      "\n",
      "[870 rows x 7 columns]\n"
     ]
    },
    {
     "name": "stderr",
     "output_type": "stream",
     "text": [
      " 40%|████      | 2/5 [15:18<19:43, 394.55s/it, N=50, linreg=0.942, pcr=-.015, pls=0.936, rho=0.5]"
     ]
    },
    {
     "name": "stdout",
     "output_type": "stream",
     "text": [
      "       M    N   n   rho   model        R2         MSE\n",
      "0   5000  500   5  0.01  linreg  0.997495    1.101917\n",
      "1   5000  500   5  0.01     pcr  0.024885  428.943009\n",
      "2   5000  500   5  0.01     pls  0.997442    1.125453\n",
      "0   5000  500  50  0.01  linreg  0.997495    1.101917\n",
      "1   5000  500  50  0.01     pcr  0.095849  397.726742\n",
      "..   ...  ...  ..   ...     ...       ...         ...\n",
      "1    250   50  12  0.50     pcr  0.063312   24.312653\n",
      "2    250   50  12  0.50     pls  0.952803    1.225038\n",
      "0    250   50  25  0.50  linreg  0.952803    1.225044\n",
      "1    250   50  25  0.50     pcr  0.480343   13.488220\n",
      "2    250   50  25  0.50     pls  0.952803    1.225044\n",
      "\n",
      "[873 rows x 7 columns]\n"
     ]
    },
    {
     "name": "stderr",
     "output_type": "stream",
     "text": [
      " 40%|████      | 2/5 [15:19<19:43, 394.55s/it, N=50, linreg=0.942, pcr=0.0459, pls=0.942, rho=0.5]"
     ]
    },
    {
     "name": "stdout",
     "output_type": "stream",
     "text": [
      "       M    N   n   rho   model        R2         MSE\n",
      "0   5000  500   5  0.01  linreg  0.997495    1.101917\n",
      "1   5000  500   5  0.01     pcr  0.024885  428.943009\n",
      "2   5000  500   5  0.01     pls  0.997442    1.125453\n",
      "0   5000  500  50  0.01  linreg  0.997495    1.101917\n",
      "1   5000  500  50  0.01     pcr  0.095849  397.726742\n",
      "..   ...  ...  ..   ...     ...       ...         ...\n",
      "1    250   50  25  0.50     pcr  0.480343   13.488220\n",
      "2    250   50  25  0.50     pls  0.952803    1.225044\n",
      "0    150   50   5  0.50  linreg  0.942261    1.498879\n",
      "1    150   50   5  0.50     pcr -0.014970   26.347990\n",
      "2    150   50   5  0.50     pls  0.936048    1.660156\n",
      "\n",
      "[876 rows x 7 columns]\n"
     ]
    },
    {
     "name": "stderr",
     "output_type": "stream",
     "text": [
      " 40%|████      | 2/5 [15:19<19:43, 394.55s/it, N=50, linreg=0.942, pcr=0.377, pls=0.942, rho=0.5] "
     ]
    },
    {
     "name": "stdout",
     "output_type": "stream",
     "text": [
      "       M    N   n   rho   model        R2         MSE\n",
      "0   5000  500   5  0.01  linreg  0.997495    1.101917\n",
      "1   5000  500   5  0.01     pcr  0.024885  428.943009\n",
      "2   5000  500   5  0.01     pls  0.997442    1.125453\n",
      "0   5000  500  50  0.01  linreg  0.997495    1.101917\n",
      "1   5000  500  50  0.01     pcr  0.095849  397.726742\n",
      "..   ...  ...  ..   ...     ...       ...         ...\n",
      "1    150   50   5  0.50     pcr -0.014970   26.347990\n",
      "2    150   50   5  0.50     pls  0.936048    1.660156\n",
      "0    150   50  12  0.50  linreg  0.942261    1.498879\n",
      "1    150   50  12  0.50     pcr  0.045895   24.767973\n",
      "2    150   50  12  0.50     pls  0.942322    1.497291\n",
      "\n",
      "[879 rows x 7 columns]\n"
     ]
    },
    {
     "name": "stderr",
     "output_type": "stream",
     "text": [
      " 40%|████      | 2/5 [15:19<19:43, 394.55s/it, N=50, linreg=0.928, pcr=0.0112, pls=0.881, rho=0.5]"
     ]
    },
    {
     "name": "stdout",
     "output_type": "stream",
     "text": [
      "       M    N   n   rho   model        R2         MSE\n",
      "0   5000  500   5  0.01  linreg  0.997495    1.101917\n",
      "1   5000  500   5  0.01     pcr  0.024885  428.943009\n",
      "2   5000  500   5  0.01     pls  0.997442    1.125453\n",
      "0   5000  500  50  0.01  linreg  0.997495    1.101917\n",
      "1   5000  500  50  0.01     pcr  0.095849  397.726742\n",
      "..   ...  ...  ..   ...     ...       ...         ...\n",
      "1    150   50  12  0.50     pcr  0.045895   24.767973\n",
      "2    150   50  12  0.50     pls  0.942322    1.497291\n",
      "0    150   50  25  0.50  linreg  0.942261    1.498879\n",
      "1    150   50  25  0.50     pcr  0.376904   16.175203\n",
      "2    150   50  25  0.50     pls  0.942261    1.498879\n",
      "\n",
      "[882 rows x 7 columns]\n"
     ]
    },
    {
     "name": "stderr",
     "output_type": "stream",
     "text": [
      " 40%|████      | 2/5 [15:20<19:43, 394.55s/it, N=50, linreg=0.928, pcr=0.122, pls=0.927, rho=0.5] "
     ]
    },
    {
     "name": "stdout",
     "output_type": "stream",
     "text": [
      "       M    N   n   rho   model        R2         MSE\n",
      "0   5000  500   5  0.01  linreg  0.997495    1.101917\n",
      "1   5000  500   5  0.01     pcr  0.024885  428.943009\n",
      "2   5000  500   5  0.01     pls  0.997442    1.125453\n",
      "0   5000  500  50  0.01  linreg  0.997495    1.101917\n",
      "1   5000  500  50  0.01     pcr  0.095849  397.726742\n",
      "..   ...  ...  ..   ...     ...       ...         ...\n",
      "1    150   50  25  0.50     pcr  0.376904   16.175203\n",
      "2    150   50  25  0.50     pls  0.942261    1.498879\n",
      "0    100   50   5  0.50  linreg  0.927551    1.880657\n",
      "1    100   50   5  0.50     pcr  0.011226   25.666949\n",
      "2    100   50   5  0.50     pls  0.881227    3.083148\n",
      "\n",
      "[885 rows x 7 columns]\n"
     ]
    },
    {
     "name": "stderr",
     "output_type": "stream",
     "text": [
      " 40%|████      | 2/5 [15:20<19:43, 394.55s/it, N=50, linreg=0.928, pcr=0.31, pls=0.928, rho=0.5] "
     ]
    },
    {
     "name": "stdout",
     "output_type": "stream",
     "text": [
      "       M    N   n   rho   model        R2         MSE\n",
      "0   5000  500   5  0.01  linreg  0.997495    1.101917\n",
      "1   5000  500   5  0.01     pcr  0.024885  428.943009\n",
      "2   5000  500   5  0.01     pls  0.997442    1.125453\n",
      "0   5000  500  50  0.01  linreg  0.997495    1.101917\n",
      "1   5000  500  50  0.01     pcr  0.095849  397.726742\n",
      "..   ...  ...  ..   ...     ...       ...         ...\n",
      "1    100   50   5  0.50     pcr  0.011226   25.666949\n",
      "2    100   50   5  0.50     pls  0.881227    3.083148\n",
      "0    100   50  12  0.50  linreg  0.927551    1.880657\n",
      "1    100   50  12  0.50     pcr  0.122225   22.785603\n",
      "2    100   50  12  0.50     pls  0.927155    1.890926\n",
      "\n",
      "[888 rows x 7 columns]\n"
     ]
    },
    {
     "name": "stderr",
     "output_type": "stream",
     "text": [
      " 40%|████      | 2/5 [15:21<19:43, 394.55s/it, N=50, linreg=0.107, pcr=-.00829, pls=0.669, rho=0.5]"
     ]
    },
    {
     "name": "stdout",
     "output_type": "stream",
     "text": [
      "       M    N   n   rho   model        R2         MSE\n",
      "0   5000  500   5  0.01  linreg  0.997495    1.101917\n",
      "1   5000  500   5  0.01     pcr  0.024885  428.943009\n",
      "2   5000  500   5  0.01     pls  0.997442    1.125453\n",
      "0   5000  500  50  0.01  linreg  0.997495    1.101917\n",
      "1   5000  500  50  0.01     pcr  0.095849  397.726742\n",
      "..   ...  ...  ..   ...     ...       ...         ...\n",
      "1    100   50  12  0.50     pcr  0.122225   22.785603\n",
      "2    100   50  12  0.50     pls  0.927155    1.890926\n",
      "0    100   50  25  0.50  linreg  0.927551    1.880657\n",
      "1    100   50  25  0.50     pcr  0.309721   17.918496\n",
      "2    100   50  25  0.50     pls  0.927557    1.880505\n",
      "\n",
      "[891 rows x 7 columns]\n"
     ]
    },
    {
     "name": "stderr",
     "output_type": "stream",
     "text": [
      " 40%|████      | 2/5 [15:21<19:43, 394.55s/it, N=50, linreg=0.107, pcr=0.0767, pls=0.778, rho=0.5] "
     ]
    },
    {
     "name": "stdout",
     "output_type": "stream",
     "text": [
      "       M    N   n   rho   model        R2         MSE\n",
      "0   5000  500   5  0.01  linreg  0.997495    1.101917\n",
      "1   5000  500   5  0.01     pcr  0.024885  428.943009\n",
      "2   5000  500   5  0.01     pls  0.997442    1.125453\n",
      "0   5000  500  50  0.01  linreg  0.997495    1.101917\n",
      "1   5000  500  50  0.01     pcr  0.095849  397.726742\n",
      "..   ...  ...  ..   ...     ...       ...         ...\n",
      "1    100   50  25  0.50     pcr  0.309721   17.918496\n",
      "2    100   50  25  0.50     pls  0.927557    1.880505\n",
      "0     50   50   5  0.50  linreg  0.106941   23.181268\n",
      "1     50   50   5  0.50     pcr -0.008290   26.172324\n",
      "2     50   50   5  0.50     pls  0.669299    8.584050\n",
      "\n",
      "[894 rows x 7 columns]\n"
     ]
    },
    {
     "name": "stderr",
     "output_type": "stream",
     "text": [
      " 40%|████      | 2/5 [15:21<19:43, 394.55s/it, N=50, linreg=0.107, pcr=0.211, pls=0.71, rho=0.5]  "
     ]
    },
    {
     "name": "stdout",
     "output_type": "stream",
     "text": [
      "       M    N   n   rho   model        R2         MSE\n",
      "0   5000  500   5  0.01  linreg  0.997495    1.101917\n",
      "1   5000  500   5  0.01     pcr  0.024885  428.943009\n",
      "2   5000  500   5  0.01     pls  0.997442    1.125453\n",
      "0   5000  500  50  0.01  linreg  0.997495    1.101917\n",
      "1   5000  500  50  0.01     pcr  0.095849  397.726742\n",
      "..   ...  ...  ..   ...     ...       ...         ...\n",
      "1     50   50   5  0.50     pcr -0.008290   26.172324\n",
      "2     50   50   5  0.50     pls  0.669299    8.584050\n",
      "0     50   50  12  0.50  linreg  0.106941   23.181268\n",
      "1     50   50  12  0.50     pcr  0.076724   23.965604\n",
      "2     50   50  12  0.50     pls  0.777974    5.763151\n",
      "\n",
      "[897 rows x 7 columns]\n"
     ]
    },
    {
     "name": "stderr",
     "output_type": "stream",
     "text": [
      " 40%|████      | 2/5 [15:22<19:43, 394.55s/it, N=50, linreg=0.791, pcr=0.146, pls=0.791, rho=0.9]"
     ]
    },
    {
     "name": "stdout",
     "output_type": "stream",
     "text": [
      "       M    N   n   rho   model        R2         MSE\n",
      "0   5000  500   5  0.01  linreg  0.997495    1.101917\n",
      "1   5000  500   5  0.01     pcr  0.024885  428.943009\n",
      "2   5000  500   5  0.01     pls  0.997442    1.125453\n",
      "0   5000  500  50  0.01  linreg  0.997495    1.101917\n",
      "1   5000  500  50  0.01     pcr  0.095849  397.726742\n",
      "..   ...  ...  ..   ...     ...       ...         ...\n",
      "1     50   50  12  0.50     pcr  0.076724   23.965604\n",
      "2     50   50  12  0.50     pls  0.777974    5.763151\n",
      "0     50   50  25  0.50  linreg  0.106941   23.181268\n",
      "1     50   50  25  0.50     pcr  0.210541   20.492101\n",
      "2     50   50  25  0.50     pls  0.710151    7.523657\n",
      "\n",
      "[900 rows x 7 columns]\n"
     ]
    },
    {
     "name": "stderr",
     "output_type": "stream",
     "text": [
      " 40%|████      | 2/5 [15:23<19:43, 394.55s/it, N=50, linreg=0.791, pcr=0.272, pls=0.791, rho=0.9]"
     ]
    },
    {
     "name": "stdout",
     "output_type": "stream",
     "text": [
      "       M    N   n   rho   model        R2         MSE\n",
      "0   5000  500   5  0.01  linreg  0.997495    1.101917\n",
      "1   5000  500   5  0.01     pcr  0.024885  428.943009\n",
      "2   5000  500   5  0.01     pls  0.997442    1.125453\n",
      "0   5000  500  50  0.01  linreg  0.997495    1.101917\n",
      "1   5000  500  50  0.01     pcr  0.095849  397.726742\n",
      "..   ...  ...  ..   ...     ...       ...         ...\n",
      "1     50   50  25  0.50     pcr  0.210541   20.492101\n",
      "2     50   50  25  0.50     pls  0.710151    7.523657\n",
      "0    500   50   5  0.90  linreg  0.791082    1.126823\n",
      "1    500   50   5  0.90     pcr  0.146480    4.603561\n",
      "2    500   50   5  0.90     pls  0.790738    1.128677\n",
      "\n",
      "[903 rows x 7 columns]\n"
     ]
    },
    {
     "name": "stderr",
     "output_type": "stream",
     "text": [
      " 40%|████      | 2/5 [15:24<19:43, 394.55s/it, N=50, linreg=0.791, pcr=0.443, pls=0.791, rho=0.9]"
     ]
    },
    {
     "name": "stdout",
     "output_type": "stream",
     "text": [
      "       M    N   n   rho   model        R2         MSE\n",
      "0   5000  500   5  0.01  linreg  0.997495    1.101917\n",
      "1   5000  500   5  0.01     pcr  0.024885  428.943009\n",
      "2   5000  500   5  0.01     pls  0.997442    1.125453\n",
      "0   5000  500  50  0.01  linreg  0.997495    1.101917\n",
      "1   5000  500  50  0.01     pcr  0.095849  397.726742\n",
      "..   ...  ...  ..   ...     ...       ...         ...\n",
      "1    500   50   5  0.90     pcr  0.146480    4.603561\n",
      "2    500   50   5  0.90     pls  0.790738    1.128677\n",
      "0    500   50  12  0.90  linreg  0.791082    1.126823\n",
      "1    500   50  12  0.90     pcr  0.272453    3.924113\n",
      "2    500   50  12  0.90     pls  0.791082    1.126823\n",
      "\n",
      "[906 rows x 7 columns]\n"
     ]
    },
    {
     "name": "stderr",
     "output_type": "stream",
     "text": [
      " 40%|████      | 2/5 [15:25<19:43, 394.55s/it, N=50, linreg=0.761, pcr=0.105, pls=0.76, rho=0.9] "
     ]
    },
    {
     "name": "stdout",
     "output_type": "stream",
     "text": [
      "       M    N   n   rho   model        R2         MSE\n",
      "0   5000  500   5  0.01  linreg  0.997495    1.101917\n",
      "1   5000  500   5  0.01     pcr  0.024885  428.943009\n",
      "2   5000  500   5  0.01     pls  0.997442    1.125453\n",
      "0   5000  500  50  0.01  linreg  0.997495    1.101917\n",
      "1   5000  500  50  0.01     pcr  0.095849  397.726742\n",
      "..   ...  ...  ..   ...     ...       ...         ...\n",
      "1    500   50  12  0.90     pcr  0.272453    3.924113\n",
      "2    500   50  12  0.90     pls  0.791082    1.126823\n",
      "0    500   50  25  0.90  linreg  0.791082    1.126823\n",
      "1    500   50  25  0.90     pcr  0.442646    3.006156\n",
      "2    500   50  25  0.90     pls  0.791082    1.126823\n",
      "\n",
      "[909 rows x 7 columns]\n"
     ]
    },
    {
     "name": "stderr",
     "output_type": "stream",
     "text": [
      " 40%|████      | 2/5 [15:25<19:43, 394.55s/it, N=50, linreg=0.761, pcr=0.22, pls=0.761, rho=0.9]"
     ]
    },
    {
     "name": "stdout",
     "output_type": "stream",
     "text": [
      "       M    N   n   rho   model        R2         MSE\n",
      "0   5000  500   5  0.01  linreg  0.997495    1.101917\n",
      "1   5000  500   5  0.01     pcr  0.024885  428.943009\n",
      "2   5000  500   5  0.01     pls  0.997442    1.125453\n",
      "0   5000  500  50  0.01  linreg  0.997495    1.101917\n",
      "1   5000  500  50  0.01     pcr  0.095849  397.726742\n",
      "..   ...  ...  ..   ...     ...       ...         ...\n",
      "1    500   50  25  0.90     pcr  0.442646    3.006156\n",
      "2    500   50  25  0.90     pls  0.791082    1.126823\n",
      "0    250   50   5  0.90  linreg  0.760967    1.289265\n",
      "1    250   50   5  0.90     pcr  0.105222    4.826144\n",
      "2    250   50   5  0.90     pls  0.760039    1.294270\n",
      "\n",
      "[912 rows x 7 columns]\n"
     ]
    },
    {
     "name": "stderr",
     "output_type": "stream",
     "text": [
      " 40%|████      | 2/5 [15:26<19:43, 394.55s/it, N=50, linreg=0.761, pcr=0.42, pls=0.761, rho=0.9]"
     ]
    },
    {
     "name": "stdout",
     "output_type": "stream",
     "text": [
      "       M    N   n   rho   model        R2         MSE\n",
      "0   5000  500   5  0.01  linreg  0.997495    1.101917\n",
      "1   5000  500   5  0.01     pcr  0.024885  428.943009\n",
      "2   5000  500   5  0.01     pls  0.997442    1.125453\n",
      "0   5000  500  50  0.01  linreg  0.997495    1.101917\n",
      "1   5000  500  50  0.01     pcr  0.095849  397.726742\n",
      "..   ...  ...  ..   ...     ...       ...         ...\n",
      "1    250   50   5  0.90     pcr  0.105222    4.826144\n",
      "2    250   50   5  0.90     pls  0.760039    1.294270\n",
      "0    250   50  12  0.90  linreg  0.760967    1.289265\n",
      "1    250   50  12  0.90     pcr  0.219722    4.208565\n",
      "2    250   50  12  0.90     pls  0.760968    1.289259\n",
      "\n",
      "[915 rows x 7 columns]\n"
     ]
    },
    {
     "name": "stderr",
     "output_type": "stream",
     "text": [
      " 40%|████      | 2/5 [15:27<19:43, 394.55s/it, N=50, linreg=0.705, pcr=0.0453, pls=0.704, rho=0.9]"
     ]
    },
    {
     "name": "stdout",
     "output_type": "stream",
     "text": [
      "       M    N   n   rho   model        R2         MSE\n",
      "0   5000  500   5  0.01  linreg  0.997495    1.101917\n",
      "1   5000  500   5  0.01     pcr  0.024885  428.943009\n",
      "2   5000  500   5  0.01     pls  0.997442    1.125453\n",
      "0   5000  500  50  0.01  linreg  0.997495    1.101917\n",
      "1   5000  500  50  0.01     pcr  0.095849  397.726742\n",
      "..   ...  ...  ..   ...     ...       ...         ...\n",
      "1    250   50  12  0.90     pcr  0.219722    4.208565\n",
      "2    250   50  12  0.90     pls  0.760968    1.289259\n",
      "0    250   50  25  0.90  linreg  0.760967    1.289265\n",
      "1    250   50  25  0.90     pcr  0.419765    3.129600\n",
      "2    250   50  25  0.90     pls  0.760967    1.289265\n",
      "\n",
      "[918 rows x 7 columns]\n"
     ]
    },
    {
     "name": "stderr",
     "output_type": "stream",
     "text": [
      " 40%|████      | 2/5 [15:27<19:43, 394.55s/it, N=50, linreg=0.705, pcr=0.206, pls=0.705, rho=0.9] "
     ]
    },
    {
     "name": "stdout",
     "output_type": "stream",
     "text": [
      "       M    N   n   rho   model        R2         MSE\n",
      "0   5000  500   5  0.01  linreg  0.997495    1.101917\n",
      "1   5000  500   5  0.01     pcr  0.024885  428.943009\n",
      "2   5000  500   5  0.01     pls  0.997442    1.125453\n",
      "0   5000  500  50  0.01  linreg  0.997495    1.101917\n",
      "1   5000  500  50  0.01     pcr  0.095849  397.726742\n",
      "..   ...  ...  ..   ...     ...       ...         ...\n",
      "1    250   50  25  0.90     pcr  0.419765    3.129600\n",
      "2    250   50  25  0.90     pls  0.760967    1.289265\n",
      "0    150   50   5  0.90  linreg  0.704853    1.592293\n",
      "1    150   50   5  0.90     pcr  0.045336    5.150333\n",
      "2    150   50   5  0.90     pls  0.704299    1.595284\n",
      "\n",
      "[921 rows x 7 columns]\n"
     ]
    },
    {
     "name": "stderr",
     "output_type": "stream",
     "text": [
      " 40%|████      | 2/5 [15:27<19:43, 394.55s/it, N=50, linreg=0.705, pcr=0.351, pls=0.705, rho=0.9]"
     ]
    },
    {
     "name": "stdout",
     "output_type": "stream",
     "text": [
      "       M    N   n   rho   model        R2         MSE\n",
      "0   5000  500   5  0.01  linreg  0.997495    1.101917\n",
      "1   5000  500   5  0.01     pcr  0.024885  428.943009\n",
      "2   5000  500   5  0.01     pls  0.997442    1.125453\n",
      "0   5000  500  50  0.01  linreg  0.997495    1.101917\n",
      "1   5000  500  50  0.01     pcr  0.095849  397.726742\n",
      "..   ...  ...  ..   ...     ...       ...         ...\n",
      "1    150   50   5  0.90     pcr  0.045336    5.150333\n",
      "2    150   50   5  0.90     pls  0.704299    1.595284\n",
      "0    150   50  12  0.90  linreg  0.704853    1.592293\n",
      "1    150   50  12  0.90     pcr  0.206281    4.282050\n",
      "2    150   50  12  0.90     pls  0.704917    1.591951\n",
      "\n",
      "[924 rows x 7 columns]\n"
     ]
    },
    {
     "name": "stderr",
     "output_type": "stream",
     "text": [
      " 40%|████      | 2/5 [15:28<19:43, 394.55s/it, N=50, linreg=0.644, pcr=0.016, pls=0.618, rho=0.9]"
     ]
    },
    {
     "name": "stdout",
     "output_type": "stream",
     "text": [
      "       M    N   n   rho   model        R2         MSE\n",
      "0   5000  500   5  0.01  linreg  0.997495    1.101917\n",
      "1   5000  500   5  0.01     pcr  0.024885  428.943009\n",
      "2   5000  500   5  0.01     pls  0.997442    1.125453\n",
      "0   5000  500  50  0.01  linreg  0.997495    1.101917\n",
      "1   5000  500  50  0.01     pcr  0.095849  397.726742\n",
      "..   ...  ...  ..   ...     ...       ...         ...\n",
      "1    150   50  12  0.90     pcr  0.206281    4.282050\n",
      "2    150   50  12  0.90     pls  0.704917    1.591951\n",
      "0    150   50  25  0.90  linreg  0.704853    1.592293\n",
      "1    150   50  25  0.90     pcr  0.350763    3.502583\n",
      "2    150   50  25  0.90     pls  0.704853    1.592293\n",
      "\n",
      "[927 rows x 7 columns]\n"
     ]
    },
    {
     "name": "stderr",
     "output_type": "stream",
     "text": [
      " 40%|████      | 2/5 [15:28<19:43, 394.55s/it, N=50, linreg=0.644, pcr=0.0654, pls=0.644, rho=0.9]"
     ]
    },
    {
     "name": "stdout",
     "output_type": "stream",
     "text": [
      "       M    N   n   rho   model        R2         MSE\n",
      "0   5000  500   5  0.01  linreg  0.997495    1.101917\n",
      "1   5000  500   5  0.01     pcr  0.024885  428.943009\n",
      "2   5000  500   5  0.01     pls  0.997442    1.125453\n",
      "0   5000  500  50  0.01  linreg  0.997495    1.101917\n",
      "1   5000  500  50  0.01     pcr  0.095849  397.726742\n",
      "..   ...  ...  ..   ...     ...       ...         ...\n",
      "1    150   50  25  0.90     pcr  0.350763    3.502583\n",
      "2    150   50  25  0.90     pls  0.704853    1.592293\n",
      "0    100   50   5  0.90  linreg  0.643894    1.921860\n",
      "1    100   50   5  0.90     pcr  0.016050    5.310253\n",
      "2    100   50   5  0.90     pls  0.618126    2.060926\n",
      "\n",
      "[930 rows x 7 columns]\n"
     ]
    },
    {
     "name": "stderr",
     "output_type": "stream",
     "text": [
      " 40%|████      | 2/5 [15:29<19:43, 394.55s/it, N=50, linreg=0.644, pcr=0.26, pls=0.644, rho=0.9]  "
     ]
    },
    {
     "name": "stdout",
     "output_type": "stream",
     "text": [
      "       M    N   n   rho   model        R2         MSE\n",
      "0   5000  500   5  0.01  linreg  0.997495    1.101917\n",
      "1   5000  500   5  0.01     pcr  0.024885  428.943009\n",
      "2   5000  500   5  0.01     pls  0.997442    1.125453\n",
      "0   5000  500  50  0.01  linreg  0.997495    1.101917\n",
      "1   5000  500  50  0.01     pcr  0.095849  397.726742\n",
      "..   ...  ...  ..   ...     ...       ...         ...\n",
      "1    100   50   5  0.90     pcr  0.016050    5.310253\n",
      "2    100   50   5  0.90     pls  0.618126    2.060926\n",
      "0    100   50  12  0.90  linreg  0.643894    1.921860\n",
      "1    100   50  12  0.90     pcr  0.065391    5.043962\n",
      "2    100   50  12  0.90     pls  0.643845    1.922121\n",
      "\n",
      "[933 rows x 7 columns]\n"
     ]
    },
    {
     "name": "stderr",
     "output_type": "stream",
     "text": [
      " 40%|████      | 2/5 [15:29<19:43, 394.55s/it, N=50, linreg=-6.89, pcr=0.0592, pls=0.459, rho=0.9]"
     ]
    },
    {
     "name": "stdout",
     "output_type": "stream",
     "text": [
      "       M    N   n   rho   model        R2         MSE\n",
      "0   5000  500   5  0.01  linreg  0.997495    1.101917\n",
      "1   5000  500   5  0.01     pcr  0.024885  428.943009\n",
      "2   5000  500   5  0.01     pls  0.997442    1.125453\n",
      "0   5000  500  50  0.01  linreg  0.997495    1.101917\n",
      "1   5000  500  50  0.01     pcr  0.095849  397.726742\n",
      "..   ...  ...  ..   ...     ...       ...         ...\n",
      "1    100   50  12  0.90     pcr  0.065391    5.043962\n",
      "2    100   50  12  0.90     pls  0.643845    1.922121\n",
      "0    100   50  25  0.90  linreg  0.643894    1.921860\n",
      "1    100   50  25  0.90     pcr  0.260450    3.991258\n",
      "2    100   50  25  0.90     pls  0.643894    1.921858\n",
      "\n",
      "[936 rows x 7 columns]\n"
     ]
    },
    {
     "name": "stderr",
     "output_type": "stream",
     "text": [
      " 40%|████      | 2/5 [15:29<19:43, 394.55s/it, N=50, linreg=-6.89, pcr=0.149, pls=0.0714, rho=0.9]"
     ]
    },
    {
     "name": "stdout",
     "output_type": "stream",
     "text": [
      "       M    N   n   rho   model        R2         MSE\n",
      "0   5000  500   5  0.01  linreg  0.997495    1.101917\n",
      "1   5000  500   5  0.01     pcr  0.024885  428.943009\n",
      "2   5000  500   5  0.01     pls  0.997442    1.125453\n",
      "0   5000  500  50  0.01  linreg  0.997495    1.101917\n",
      "1   5000  500  50  0.01     pcr  0.095849  397.726742\n",
      "..   ...  ...  ..   ...     ...       ...         ...\n",
      "1    100   50  25  0.90     pcr  0.260450    3.991258\n",
      "2    100   50  25  0.90     pls  0.643894    1.921858\n",
      "0     50   50   5  0.90  linreg -6.891848   42.583374\n",
      "1     50   50   5  0.90     pcr  0.059162    5.076638\n",
      "2     50   50   5  0.90     pls  0.458749    2.920518\n",
      "\n",
      "[939 rows x 7 columns]\n"
     ]
    },
    {
     "name": "stderr",
     "output_type": "stream",
     "text": [
      " 40%|████      | 2/5 [15:30<19:43, 394.55s/it, N=50, linreg=-6.89, pcr=0.399, pls=-.00875, rho=0.9]"
     ]
    },
    {
     "name": "stdout",
     "output_type": "stream",
     "text": [
      "       M    N   n   rho   model        R2         MSE\n",
      "0   5000  500   5  0.01  linreg  0.997495    1.101917\n",
      "1   5000  500   5  0.01     pcr  0.024885  428.943009\n",
      "2   5000  500   5  0.01     pls  0.997442    1.125453\n",
      "0   5000  500  50  0.01  linreg  0.997495    1.101917\n",
      "1   5000  500  50  0.01     pcr  0.095849  397.726742\n",
      "..   ...  ...  ..   ...     ...       ...         ...\n",
      "1     50   50   5  0.90     pcr  0.059162    5.076638\n",
      "2     50   50   5  0.90     pls  0.458749    2.920518\n",
      "0     50   50  12  0.90  linreg -6.891848   42.583374\n",
      "1     50   50  12  0.90     pcr  0.148975    4.592019\n",
      "2     50   50  12  0.90     pls  0.071416    5.010518\n",
      "\n",
      "[942 rows x 7 columns]\n"
     ]
    },
    {
     "name": "stderr",
     "output_type": "stream",
     "text": [
      " 40%|████      | 2/5 [15:31<19:43, 394.55s/it, N=50, linreg=0.371, pcr=0.168, pls=0.37, rho=0.99]  "
     ]
    },
    {
     "name": "stdout",
     "output_type": "stream",
     "text": [
      "       M    N   n   rho   model        R2         MSE\n",
      "0   5000  500   5  0.01  linreg  0.997495    1.101917\n",
      "1   5000  500   5  0.01     pcr  0.024885  428.943009\n",
      "2   5000  500   5  0.01     pls  0.997442    1.125453\n",
      "0   5000  500  50  0.01  linreg  0.997495    1.101917\n",
      "1   5000  500  50  0.01     pcr  0.095849  397.726742\n",
      "..   ...  ...  ..   ...     ...       ...         ...\n",
      "1     50   50  12  0.90     pcr  0.148975    4.592019\n",
      "2     50   50  12  0.90     pls  0.071416    5.010518\n",
      "0     50   50  25  0.90  linreg -6.891848   42.583374\n",
      "1     50   50  25  0.90     pcr  0.399223    3.241713\n",
      "2     50   50  25  0.90     pls -0.008750    5.443083\n",
      "\n",
      "[945 rows x 7 columns]\n"
     ]
    },
    {
     "name": "stderr",
     "output_type": "stream",
     "text": [
      " 40%|████      | 2/5 [15:31<19:43, 394.55s/it, N=50, linreg=0.371, pcr=0.229, pls=0.371, rho=0.99]"
     ]
    },
    {
     "name": "stdout",
     "output_type": "stream",
     "text": [
      "       M    N   n   rho   model        R2         MSE\n",
      "0   5000  500   5  0.01  linreg  0.997495    1.101917\n",
      "1   5000  500   5  0.01     pcr  0.024885  428.943009\n",
      "2   5000  500   5  0.01     pls  0.997442    1.125453\n",
      "0   5000  500  50  0.01  linreg  0.997495    1.101917\n",
      "1   5000  500  50  0.01     pcr  0.095849  397.726742\n",
      "..   ...  ...  ..   ...     ...       ...         ...\n",
      "1     50   50  25  0.90     pcr  0.399223    3.241713\n",
      "2     50   50  25  0.90     pls -0.008750    5.443083\n",
      "0    500   50   5  0.99  linreg  0.370520    1.121592\n",
      "1    500   50   5  0.99     pcr  0.168064    1.482323\n",
      "2    500   50   5  0.99     pls  0.370480    1.121664\n",
      "\n",
      "[948 rows x 7 columns]\n"
     ]
    },
    {
     "name": "stderr",
     "output_type": "stream",
     "text": [
      " 40%|████      | 2/5 [15:32<19:43, 394.55s/it, N=50, linreg=0.371, pcr=0.299, pls=0.371, rho=0.99]"
     ]
    },
    {
     "name": "stdout",
     "output_type": "stream",
     "text": [
      "       M    N   n   rho   model        R2         MSE\n",
      "0   5000  500   5  0.01  linreg  0.997495    1.101917\n",
      "1   5000  500   5  0.01     pcr  0.024885  428.943009\n",
      "2   5000  500   5  0.01     pls  0.997442    1.125453\n",
      "0   5000  500  50  0.01  linreg  0.997495    1.101917\n",
      "1   5000  500  50  0.01     pcr  0.095849  397.726742\n",
      "..   ...  ...  ..   ...     ...       ...         ...\n",
      "1    500   50   5  0.99     pcr  0.168064    1.482323\n",
      "2    500   50   5  0.99     pls  0.370480    1.121664\n",
      "0    500   50  12  0.99  linreg  0.370520    1.121592\n",
      "1    500   50  12  0.99     pcr  0.229453    1.372942\n",
      "2    500   50  12  0.99     pls  0.370520    1.121592\n",
      "\n",
      "[951 rows x 7 columns]\n"
     ]
    },
    {
     "name": "stderr",
     "output_type": "stream",
     "text": [
      " 40%|████      | 2/5 [15:33<19:43, 394.55s/it, N=50, linreg=0.277, pcr=0.186, pls=0.283, rho=0.99]"
     ]
    },
    {
     "name": "stdout",
     "output_type": "stream",
     "text": [
      "       M    N   n   rho   model        R2         MSE\n",
      "0   5000  500   5  0.01  linreg  0.997495    1.101917\n",
      "1   5000  500   5  0.01     pcr  0.024885  428.943009\n",
      "2   5000  500   5  0.01     pls  0.997442    1.125453\n",
      "0   5000  500  50  0.01  linreg  0.997495    1.101917\n",
      "1   5000  500  50  0.01     pcr  0.095849  397.726742\n",
      "..   ...  ...  ..   ...     ...       ...         ...\n",
      "1    500   50  12  0.99     pcr  0.229453    1.372942\n",
      "2    500   50  12  0.99     pls  0.370520    1.121592\n",
      "0    500   50  25  0.99  linreg  0.370520    1.121592\n",
      "1    500   50  25  0.99     pcr  0.298787    1.249403\n",
      "2    500   50  25  0.99     pls  0.370520    1.121592\n",
      "\n",
      "[954 rows x 7 columns]\n"
     ]
    },
    {
     "name": "stderr",
     "output_type": "stream",
     "text": [
      " 40%|████      | 2/5 [15:34<19:43, 394.55s/it, N=50, linreg=0.277, pcr=0.225, pls=0.277, rho=0.99]"
     ]
    },
    {
     "name": "stdout",
     "output_type": "stream",
     "text": [
      "       M    N   n   rho   model        R2         MSE\n",
      "0   5000  500   5  0.01  linreg  0.997495    1.101917\n",
      "1   5000  500   5  0.01     pcr  0.024885  428.943009\n",
      "2   5000  500   5  0.01     pls  0.997442    1.125453\n",
      "0   5000  500  50  0.01  linreg  0.997495    1.101917\n",
      "1   5000  500  50  0.01     pcr  0.095849  397.726742\n",
      "..   ...  ...  ..   ...     ...       ...         ...\n",
      "1    500   50  25  0.99     pcr  0.298787    1.249403\n",
      "2    500   50  25  0.99     pls  0.370520    1.121592\n",
      "0    250   50   5  0.99  linreg  0.276648    1.289130\n",
      "1    250   50   5  0.99     pcr  0.185750    1.451125\n",
      "2    250   50   5  0.99     pls  0.283217    1.277423\n",
      "\n",
      "[957 rows x 7 columns]\n"
     ]
    },
    {
     "name": "stderr",
     "output_type": "stream",
     "text": [
      " 40%|████      | 2/5 [15:35<19:43, 394.55s/it, N=50, linreg=0.277, pcr=0.237, pls=0.277, rho=0.99]"
     ]
    },
    {
     "name": "stdout",
     "output_type": "stream",
     "text": [
      "       M    N   n   rho   model        R2         MSE\n",
      "0   5000  500   5  0.01  linreg  0.997495    1.101917\n",
      "1   5000  500   5  0.01     pcr  0.024885  428.943009\n",
      "2   5000  500   5  0.01     pls  0.997442    1.125453\n",
      "0   5000  500  50  0.01  linreg  0.997495    1.101917\n",
      "1   5000  500  50  0.01     pcr  0.095849  397.726742\n",
      "..   ...  ...  ..   ...     ...       ...         ...\n",
      "1    250   50   5  0.99     pcr  0.185750    1.451125\n",
      "2    250   50   5  0.99     pls  0.283217    1.277423\n",
      "0    250   50  12  0.99  linreg  0.276648    1.289130\n",
      "1    250   50  12  0.99     pcr  0.225406    1.380453\n",
      "2    250   50  12  0.99     pls  0.276648    1.289131\n",
      "\n",
      "[960 rows x 7 columns]\n"
     ]
    },
    {
     "name": "stderr",
     "output_type": "stream",
     "text": [
      " 40%|████      | 2/5 [15:35<19:43, 394.55s/it, N=50, linreg=0.155, pcr=0.174, pls=0.171, rho=0.99]"
     ]
    },
    {
     "name": "stdout",
     "output_type": "stream",
     "text": [
      "       M    N   n   rho   model        R2         MSE\n",
      "0   5000  500   5  0.01  linreg  0.997495    1.101917\n",
      "1   5000  500   5  0.01     pcr  0.024885  428.943009\n",
      "2   5000  500   5  0.01     pls  0.997442    1.125453\n",
      "0   5000  500  50  0.01  linreg  0.997495    1.101917\n",
      "1   5000  500  50  0.01     pcr  0.095849  397.726742\n",
      "..   ...  ...  ..   ...     ...       ...         ...\n",
      "1    250   50  12  0.99     pcr  0.225406    1.380453\n",
      "2    250   50  12  0.99     pls  0.276648    1.289131\n",
      "0    250   50  25  0.99  linreg  0.276648    1.289130\n",
      "1    250   50  25  0.99     pcr  0.236850    1.360057\n",
      "2    250   50  25  0.99     pls  0.276648    1.289130\n",
      "\n",
      "[963 rows x 7 columns]\n"
     ]
    },
    {
     "name": "stderr",
     "output_type": "stream",
     "text": [
      " 40%|████      | 2/5 [15:35<19:43, 394.55s/it, N=50, linreg=0.155, pcr=0.212, pls=0.155, rho=0.99]"
     ]
    },
    {
     "name": "stdout",
     "output_type": "stream",
     "text": [
      "       M    N   n   rho   model        R2         MSE\n",
      "0   5000  500   5  0.01  linreg  0.997495    1.101917\n",
      "1   5000  500   5  0.01     pcr  0.024885  428.943009\n",
      "2   5000  500   5  0.01     pls  0.997442    1.125453\n",
      "0   5000  500  50  0.01  linreg  0.997495    1.101917\n",
      "1   5000  500  50  0.01     pcr  0.095849  397.726742\n",
      "..   ...  ...  ..   ...     ...       ...         ...\n",
      "1    250   50  25  0.99     pcr  0.236850    1.360057\n",
      "2    250   50  25  0.99     pls  0.276648    1.289130\n",
      "0    150   50   5  0.99  linreg  0.155002    1.505772\n",
      "1    150   50   5  0.99     pcr  0.174404    1.471198\n",
      "2    150   50   5  0.99     pls  0.170609    1.477960\n",
      "\n",
      "[966 rows x 7 columns]\n"
     ]
    },
    {
     "name": "stderr",
     "output_type": "stream",
     "text": [
      " 40%|████      | 2/5 [15:36<19:43, 394.55s/it, N=50, linreg=0.155, pcr=0.258, pls=0.155, rho=0.99]"
     ]
    },
    {
     "name": "stdout",
     "output_type": "stream",
     "text": [
      "       M    N   n   rho   model        R2         MSE\n",
      "0   5000  500   5  0.01  linreg  0.997495    1.101917\n",
      "1   5000  500   5  0.01     pcr  0.024885  428.943009\n",
      "2   5000  500   5  0.01     pls  0.997442    1.125453\n",
      "0   5000  500  50  0.01  linreg  0.997495    1.101917\n",
      "1   5000  500  50  0.01     pcr  0.095849  397.726742\n",
      "..   ...  ...  ..   ...     ...       ...         ...\n",
      "1    150   50   5  0.99     pcr  0.174404    1.471198\n",
      "2    150   50   5  0.99     pls  0.170609    1.477960\n",
      "0    150   50  12  0.99  linreg  0.155002    1.505772\n",
      "1    150   50  12  0.99     pcr  0.211522    1.405055\n",
      "2    150   50  12  0.99     pls  0.155128    1.505548\n",
      "\n",
      "[969 rows x 7 columns]\n"
     ]
    },
    {
     "name": "stderr",
     "output_type": "stream",
     "text": [
      " 40%|████      | 2/5 [15:36<19:43, 394.55s/it, N=50, linreg=-.125, pcr=0.151, pls=0.0525, rho=0.99]"
     ]
    },
    {
     "name": "stdout",
     "output_type": "stream",
     "text": [
      "       M    N   n   rho   model        R2         MSE\n",
      "0   5000  500   5  0.01  linreg  0.997495    1.101917\n",
      "1   5000  500   5  0.01     pcr  0.024885  428.943009\n",
      "2   5000  500   5  0.01     pls  0.997442    1.125453\n",
      "0   5000  500  50  0.01  linreg  0.997495    1.101917\n",
      "1   5000  500  50  0.01     pcr  0.095849  397.726742\n",
      "..   ...  ...  ..   ...     ...       ...         ...\n",
      "1    150   50  12  0.99     pcr  0.211522    1.405055\n",
      "2    150   50  12  0.99     pls  0.155128    1.505548\n",
      "0    150   50  25  0.99  linreg  0.155002    1.505772\n",
      "1    150   50  25  0.99     pcr  0.258017    1.322201\n",
      "2    150   50  25  0.99     pls  0.155002    1.505772\n",
      "\n",
      "[972 rows x 7 columns]\n"
     ]
    },
    {
     "name": "stderr",
     "output_type": "stream",
     "text": [
      " 40%|████      | 2/5 [15:37<19:43, 394.55s/it, N=50, linreg=-.125, pcr=0.173, pls=-.128, rho=0.99] "
     ]
    },
    {
     "name": "stdout",
     "output_type": "stream",
     "text": [
      "       M    N   n   rho   model        R2         MSE\n",
      "0   5000  500   5  0.01  linreg  0.997495    1.101917\n",
      "1   5000  500   5  0.01     pcr  0.024885  428.943009\n",
      "2   5000  500   5  0.01     pls  0.997442    1.125453\n",
      "0   5000  500  50  0.01  linreg  0.997495    1.101917\n",
      "1   5000  500  50  0.01     pcr  0.095849  397.726742\n",
      "..   ...  ...  ..   ...     ...       ...         ...\n",
      "1    150   50  25  0.99     pcr  0.258017    1.322201\n",
      "2    150   50  25  0.99     pls  0.155002    1.505772\n",
      "0    100   50   5  0.99  linreg -0.125303    2.005753\n",
      "1    100   50   5  0.99     pcr  0.150716    1.513773\n",
      "2    100   50   5  0.99     pls  0.052531    1.688778\n",
      "\n",
      "[975 rows x 7 columns]\n"
     ]
    },
    {
     "name": "stderr",
     "output_type": "stream",
     "text": [
      " 40%|████      | 2/5 [15:37<19:43, 394.55s/it, N=50, linreg=-.125, pcr=0.205, pls=-.125, rho=0.99]"
     ]
    },
    {
     "name": "stdout",
     "output_type": "stream",
     "text": [
      "       M    N   n   rho   model        R2         MSE\n",
      "0   5000  500   5  0.01  linreg  0.997495    1.101917\n",
      "1   5000  500   5  0.01     pcr  0.024885  428.943009\n",
      "2   5000  500   5  0.01     pls  0.997442    1.125453\n",
      "0   5000  500  50  0.01  linreg  0.997495    1.101917\n",
      "1   5000  500  50  0.01     pcr  0.095849  397.726742\n",
      "..   ...  ...  ..   ...     ...       ...         ...\n",
      "1    100   50   5  0.99     pcr  0.150716    1.513773\n",
      "2    100   50   5  0.99     pls  0.052531    1.688778\n",
      "0    100   50  12  0.99  linreg -0.125303    2.005753\n",
      "1    100   50  12  0.99     pcr  0.173424    1.473297\n",
      "2    100   50  12  0.99     pls -0.127596    2.009840\n",
      "\n",
      "[978 rows x 7 columns]\n"
     ]
    },
    {
     "name": "stderr",
     "output_type": "stream",
     "text": [
      " 40%|████      | 2/5 [15:37<19:43, 394.55s/it, N=50, linreg=-112, pcr=0.134, pls=-.246, rho=0.99] "
     ]
    },
    {
     "name": "stdout",
     "output_type": "stream",
     "text": [
      "       M    N   n   rho   model        R2         MSE\n",
      "0   5000  500   5  0.01  linreg  0.997495    1.101917\n",
      "1   5000  500   5  0.01     pcr  0.024885  428.943009\n",
      "2   5000  500   5  0.01     pls  0.997442    1.125453\n",
      "0   5000  500  50  0.01  linreg  0.997495    1.101917\n",
      "1   5000  500  50  0.01     pcr  0.095849  397.726742\n",
      "..   ...  ...  ..   ...     ...       ...         ...\n",
      "1    100   50  12  0.99     pcr  0.173424    1.473297\n",
      "2    100   50  12  0.99     pls -0.127596    2.009840\n",
      "0    100   50  25  0.99  linreg -0.125303    2.005753\n",
      "1    100   50  25  0.99     pcr  0.205272    1.416532\n",
      "2    100   50  25  0.99     pls -0.125313    2.005770\n",
      "\n",
      "[981 rows x 7 columns]\n"
     ]
    },
    {
     "name": "stderr",
     "output_type": "stream",
     "text": [
      " 40%|████      | 2/5 [15:38<19:43, 394.55s/it, N=50, linreg=-112, pcr=0.164, pls=-2.83, rho=0.99]"
     ]
    },
    {
     "name": "stdout",
     "output_type": "stream",
     "text": [
      "       M    N   n   rho   model          R2         MSE\n",
      "0   5000  500   5  0.01  linreg    0.997495    1.101917\n",
      "1   5000  500   5  0.01     pcr    0.024885  428.943009\n",
      "2   5000  500   5  0.01     pls    0.997442    1.125453\n",
      "0   5000  500  50  0.01  linreg    0.997495    1.101917\n",
      "1   5000  500  50  0.01     pcr    0.095849  397.726742\n",
      "..   ...  ...  ..   ...     ...         ...         ...\n",
      "1    100   50  25  0.99     pcr    0.205272    1.416532\n",
      "2    100   50  25  0.99     pls   -0.125313    2.005770\n",
      "0     50   50   5  0.99  linreg -112.062543  201.535070\n",
      "1     50   50   5  0.99     pcr    0.133942    1.543756\n",
      "2     50   50   5  0.99     pls   -0.245545    2.220196\n",
      "\n",
      "[984 rows x 7 columns]\n"
     ]
    },
    {
     "name": "stderr",
     "output_type": "stream",
     "text": [
      " 60%|██████    | 3/5 [15:38<07:56, 238.32s/it, N=10, linreg=0.913, pcr=0.11, pls=0.913, rho=0.01]  "
     ]
    },
    {
     "name": "stdout",
     "output_type": "stream",
     "text": [
      "       M    N   n   rho   model          R2         MSE\n",
      "0   5000  500   5  0.01  linreg    0.997495    1.101917\n",
      "1   5000  500   5  0.01     pcr    0.024885  428.943009\n",
      "2   5000  500   5  0.01     pls    0.997442    1.125453\n",
      "0   5000  500  50  0.01  linreg    0.997495    1.101917\n",
      "1   5000  500  50  0.01     pcr    0.095849  397.726742\n",
      "..   ...  ...  ..   ...     ...         ...         ...\n",
      "1     50   50   5  0.99     pcr    0.133942    1.543756\n",
      "2     50   50   5  0.99     pls   -0.245545    2.220196\n",
      "0     50   50  12  0.99  linreg -112.062543  201.535070\n",
      "1     50   50  12  0.99     pcr    0.164029    1.490126\n",
      "2     50   50  12  0.99     pls   -2.831249    6.829239\n",
      "\n",
      "[987 rows x 7 columns]\n",
      "       M    N   n   rho   model          R2         MSE\n",
      "0   5000  500   5  0.01  linreg    0.997495    1.101917\n",
      "1   5000  500   5  0.01     pcr    0.024885  428.943009\n",
      "2   5000  500   5  0.01     pls    0.997442    1.125453\n",
      "0   5000  500  50  0.01  linreg    0.997495    1.101917\n",
      "1   5000  500  50  0.01     pcr    0.095849  397.726742\n",
      "..   ...  ...  ..   ...     ...         ...         ...\n",
      "1     50   50  12  0.99     pcr    0.164029    1.490126\n",
      "2     50   50  12  0.99     pls   -2.831249    6.829239\n",
      "0     50   50  25  0.99  linreg -112.062543  201.535070\n",
      "1     50   50  25  0.99     pcr    0.061753    1.672434\n",
      "2     50   50  25  0.99     pls   -4.891195   10.501112\n",
      "\n",
      "[990 rows x 7 columns]\n",
      "       M    N   n   rho   model        R2         MSE\n",
      "0   5000  500   5  0.01  linreg  0.997495    1.101917\n",
      "1   5000  500   5  0.01     pcr  0.024885  428.943009\n",
      "2   5000  500   5  0.01     pls  0.997442    1.125453\n",
      "0   5000  500  50  0.01  linreg  0.997495    1.101917\n",
      "1   5000  500  50  0.01     pcr  0.095849  397.726742\n",
      "..   ...  ...  ..   ...     ...       ...         ...\n",
      "1     50   50  25  0.99     pcr  0.061753    1.672434\n",
      "2     50   50  25  0.99     pls -4.891195   10.501112\n",
      "0    100   10   1  0.01  linreg  0.912704    1.082719\n",
      "1    100   10   1  0.01     pcr -0.039866   12.897330\n",
      "2    100   10   1  0.01     pls  0.886703    1.405203\n",
      "\n",
      "[993 rows x 7 columns]\n",
      "       M    N   n   rho   model        R2         MSE\n",
      "0   5000  500   5  0.01  linreg  0.997495    1.101917\n",
      "1   5000  500   5  0.01     pcr  0.024885  428.943009\n",
      "2   5000  500   5  0.01     pls  0.997442    1.125453\n",
      "0   5000  500  50  0.01  linreg  0.997495    1.101917\n",
      "1   5000  500  50  0.01     pcr  0.095849  397.726742\n",
      "..   ...  ...  ..   ...     ...       ...         ...\n",
      "1    100   10   1  0.01     pcr -0.039866   12.897330\n",
      "2    100   10   1  0.01     pls  0.886703    1.405203\n",
      "0    100   10   2  0.01  linreg  0.912704    1.082719\n",
      "1    100   10   2  0.01     pcr -0.026073   12.726261\n",
      "2    100   10   2  0.01     pls  0.913161    1.077056\n",
      "\n",
      "[996 rows x 7 columns]\n"
     ]
    },
    {
     "name": "stderr",
     "output_type": "stream",
     "text": [
      " 60%|██████    | 3/5 [15:39<07:56, 238.32s/it, N=10, linreg=0.87, pcr=0.257, pls=0.871, rho=0.01] "
     ]
    },
    {
     "name": "stdout",
     "output_type": "stream",
     "text": [
      "       M    N   n   rho   model        R2         MSE\n",
      "0   5000  500   5  0.01  linreg  0.997495    1.101917\n",
      "1   5000  500   5  0.01     pcr  0.024885  428.943009\n",
      "2   5000  500   5  0.01     pls  0.997442    1.125453\n",
      "0   5000  500  50  0.01  linreg  0.997495    1.101917\n",
      "1   5000  500  50  0.01     pcr  0.095849  397.726742\n",
      "..   ...  ...  ..   ...     ...       ...         ...\n",
      "1    100   10   2  0.01     pcr -0.026073   12.726261\n",
      "2    100   10   2  0.01     pls  0.913161    1.077056\n",
      "0    100   10   5  0.01  linreg  0.912704    1.082719\n",
      "1    100   10   5  0.01     pcr  0.110205   11.036019\n",
      "2    100   10   5  0.01     pls  0.912722    1.082500\n",
      "\n",
      "[999 rows x 7 columns]\n",
      "       M    N   n   rho   model        R2         MSE\n",
      "0   5000  500   5  0.01  linreg  0.997495    1.101917\n",
      "1   5000  500   5  0.01     pcr  0.024885  428.943009\n",
      "2   5000  500   5  0.01     pls  0.997442    1.125453\n",
      "0   5000  500  50  0.01  linreg  0.997495    1.101917\n",
      "1   5000  500  50  0.01     pcr  0.095849  397.726742\n",
      "..   ...  ...  ..   ...     ...       ...         ...\n",
      "1    100   10   5  0.01     pcr  0.110205   11.036019\n",
      "2    100   10   5  0.01     pls  0.912722    1.082500\n",
      "0     50   10   1  0.01  linreg  0.870222    1.609588\n",
      "1     50   10   1  0.01     pcr -0.018896   12.636993\n",
      "2     50   10   1  0.01     pls  0.861018    1.723749\n",
      "\n",
      "[1002 rows x 7 columns]\n",
      "       M    N   n   rho   model        R2         MSE\n",
      "0   5000  500   5  0.01  linreg  0.997495    1.101917\n",
      "1   5000  500   5  0.01     pcr  0.024885  428.943009\n",
      "2   5000  500   5  0.01     pls  0.997442    1.125453\n",
      "0   5000  500  50  0.01  linreg  0.997495    1.101917\n",
      "1   5000  500  50  0.01     pcr  0.095849  397.726742\n",
      "..   ...  ...  ..   ...     ...       ...         ...\n",
      "1     50   10   1  0.01     pcr -0.018896   12.636993\n",
      "2     50   10   1  0.01     pls  0.861018    1.723749\n",
      "0     50   10   2  0.01  linreg  0.870222    1.609588\n",
      "1     50   10   2  0.01     pcr -0.017754   12.622836\n",
      "2     50   10   2  0.01     pls  0.894574    1.307562\n",
      "\n",
      "[1005 rows x 7 columns]\n",
      "       M    N   n   rho   model        R2         MSE\n",
      "0   5000  500   5  0.01  linreg  0.997495    1.101917\n",
      "1   5000  500   5  0.01     pcr  0.024885  428.943009\n",
      "2   5000  500   5  0.01     pls  0.997442    1.125453\n",
      "0   5000  500  50  0.01  linreg  0.997495    1.101917\n",
      "1   5000  500  50  0.01     pcr  0.095849  397.726742\n",
      "..   ...  ...  ..   ...     ...       ...         ...\n",
      "1     50   10   2  0.01     pcr -0.017754   12.622836\n",
      "2     50   10   2  0.01     pls  0.894574    1.307562\n",
      "0     50   10   5  0.01  linreg  0.870222    1.609588\n",
      "1     50   10   5  0.01     pcr  0.256571    9.220482\n",
      "2     50   10   5  0.01     pls  0.870550    1.605518\n",
      "\n",
      "[1008 rows x 7 columns]\n"
     ]
    },
    {
     "name": "stderr",
     "output_type": "stream",
     "text": [
      " 60%|██████    | 3/5 [15:39<07:56, 238.32s/it, N=10, linreg=0.852, pcr=0.22, pls=0.874, rho=0.01]  "
     ]
    },
    {
     "name": "stdout",
     "output_type": "stream",
     "text": [
      "       M    N   n   rho   model        R2         MSE\n",
      "0   5000  500   5  0.01  linreg  0.997495    1.101917\n",
      "1   5000  500   5  0.01     pcr  0.024885  428.943009\n",
      "2   5000  500   5  0.01     pls  0.997442    1.125453\n",
      "0   5000  500  50  0.01  linreg  0.997495    1.101917\n",
      "1   5000  500  50  0.01     pcr  0.095849  397.726742\n",
      "..   ...  ...  ..   ...     ...       ...         ...\n",
      "1     50   10   5  0.01     pcr  0.256571    9.220482\n",
      "2     50   10   5  0.01     pls  0.870550    1.605518\n",
      "0     30   10   1  0.01  linreg  0.877704    1.516783\n",
      "1     30   10   1  0.01     pcr  0.022641   12.121791\n",
      "2     30   10   1  0.01     pls  0.692550    3.813176\n",
      "\n",
      "[1011 rows x 7 columns]\n",
      "       M    N   n   rho   model        R2         MSE\n",
      "0   5000  500   5  0.01  linreg  0.997495    1.101917\n",
      "1   5000  500   5  0.01     pcr  0.024885  428.943009\n",
      "2   5000  500   5  0.01     pls  0.997442    1.125453\n",
      "0   5000  500  50  0.01  linreg  0.997495    1.101917\n",
      "1   5000  500  50  0.01     pcr  0.095849  397.726742\n",
      "..   ...  ...  ..   ...     ...       ...         ...\n",
      "1     30   10   1  0.01     pcr  0.022641   12.121791\n",
      "2     30   10   1  0.01     pls  0.692550    3.813176\n",
      "0     30   10   2  0.01  linreg  0.877704    1.516783\n",
      "1     30   10   2  0.01     pcr  0.029654   12.034812\n",
      "2     30   10   2  0.01     pls  0.861654    1.715852\n",
      "\n",
      "[1014 rows x 7 columns]\n",
      "       M    N   n   rho   model        R2         MSE\n",
      "0   5000  500   5  0.01  linreg  0.997495    1.101917\n",
      "1   5000  500   5  0.01     pcr  0.024885  428.943009\n",
      "2   5000  500   5  0.01     pls  0.997442    1.125453\n",
      "0   5000  500  50  0.01  linreg  0.997495    1.101917\n",
      "1   5000  500  50  0.01     pcr  0.095849  397.726742\n",
      "..   ...  ...  ..   ...     ...       ...         ...\n",
      "1     30   10   2  0.01     pcr  0.029654   12.034812\n",
      "2     30   10   2  0.01     pls  0.861654    1.715852\n",
      "0     30   10   5  0.01  linreg  0.877704    1.516783\n",
      "1     30   10   5  0.01     pcr  0.215457    9.730373\n",
      "2     30   10   5  0.01     pls  0.878757    1.503726\n",
      "\n",
      "[1017 rows x 7 columns]\n",
      "       M    N   n   rho   model        R2         MSE\n",
      "0   5000  500   5  0.01  linreg  0.997495    1.101917\n",
      "1   5000  500   5  0.01     pcr  0.024885  428.943009\n",
      "2   5000  500   5  0.01     pls  0.997442    1.125453\n",
      "0   5000  500  50  0.01  linreg  0.997495    1.101917\n",
      "1   5000  500  50  0.01     pcr  0.095849  397.726742\n",
      "..   ...  ...  ..   ...     ...       ...         ...\n",
      "1     30   10   5  0.01     pcr  0.215457    9.730373\n",
      "2     30   10   5  0.01     pls  0.878757    1.503726\n",
      "0     20   10   1  0.01  linreg  0.851914    1.836603\n",
      "1     20   10   1  0.01     pcr -0.051029   13.035153\n",
      "2     20   10   1  0.01     pls  0.367402    7.845647\n",
      "\n",
      "[1020 rows x 7 columns]\n",
      "       M    N   n   rho   model        R2         MSE\n",
      "0   5000  500   5  0.01  linreg  0.997495    1.101917\n",
      "1   5000  500   5  0.01     pcr  0.024885  428.943009\n",
      "2   5000  500   5  0.01     pls  0.997442    1.125453\n",
      "0   5000  500  50  0.01  linreg  0.997495    1.101917\n",
      "1   5000  500  50  0.01     pcr  0.095849  397.726742\n",
      "..   ...  ...  ..   ...     ...       ...         ...\n",
      "1     20   10   1  0.01     pcr -0.051029   13.035153\n",
      "2     20   10   1  0.01     pls  0.367402    7.845647\n",
      "0     20   10   2  0.01  linreg  0.851914    1.836603\n",
      "1     20   10   2  0.01     pcr  0.047489   11.813300\n",
      "2     20   10   2  0.01     pls  0.672081    4.066944\n",
      "\n",
      "[1023 rows x 7 columns]\n"
     ]
    },
    {
     "name": "stderr",
     "output_type": "stream",
     "text": [
      " 60%|██████    | 3/5 [15:39<07:56, 238.32s/it, N=10, linreg=0.949, pcr=0.246, pls=0.867, rho=0.1]  "
     ]
    },
    {
     "name": "stdout",
     "output_type": "stream",
     "text": [
      "       M    N   n   rho   model        R2         MSE\n",
      "0   5000  500   5  0.01  linreg  0.997495    1.101917\n",
      "1   5000  500   5  0.01     pcr  0.024885  428.943009\n",
      "2   5000  500   5  0.01     pls  0.997442    1.125453\n",
      "0   5000  500  50  0.01  linreg  0.997495    1.101917\n",
      "1   5000  500  50  0.01     pcr  0.095849  397.726742\n",
      "..   ...  ...  ..   ...     ...       ...         ...\n",
      "1     20   10   2  0.01     pcr  0.047489   11.813300\n",
      "2     20   10   2  0.01     pls  0.672081    4.066944\n",
      "0     20   10   5  0.01  linreg  0.851914    1.836603\n",
      "1     20   10   5  0.01     pcr  0.220089    9.672667\n",
      "2     20   10   5  0.01     pls  0.874040    1.562189\n",
      "\n",
      "[1026 rows x 7 columns]\n",
      "       M    N   n   rho   model         R2         MSE\n",
      "0   5000  500   5  0.01  linreg   0.997495    1.101917\n",
      "1   5000  500   5  0.01     pcr   0.024885  428.943009\n",
      "2   5000  500   5  0.01     pls   0.997442    1.125453\n",
      "0   5000  500  50  0.01  linreg   0.997495    1.101917\n",
      "1   5000  500  50  0.01     pcr   0.095849  397.726742\n",
      "..   ...  ...  ..   ...     ...        ...         ...\n",
      "1     20   10   5  0.01     pcr   0.220089    9.672667\n",
      "2     20   10   5  0.01     pls   0.874040    1.562189\n",
      "0     10   10   1  0.01  linreg -11.141600  150.580799\n",
      "1     10   10   1  0.01     pcr   0.028219   12.052087\n",
      "2     10   10   1  0.01     pls   0.514010    6.027273\n",
      "\n",
      "[1029 rows x 7 columns]\n",
      "       M    N   n   rho   model         R2         MSE\n",
      "0   5000  500   5  0.01  linreg   0.997495    1.101917\n",
      "1   5000  500   5  0.01     pcr   0.024885  428.943009\n",
      "2   5000  500   5  0.01     pls   0.997442    1.125453\n",
      "0   5000  500  50  0.01  linreg   0.997495    1.101917\n",
      "1   5000  500  50  0.01     pcr   0.095849  397.726742\n",
      "..   ...  ...  ..   ...     ...        ...         ...\n",
      "1     10   10   1  0.01     pcr   0.028219   12.052087\n",
      "2     10   10   1  0.01     pls   0.514010    6.027273\n",
      "0     10   10   2  0.01  linreg -11.141600  150.580799\n",
      "1     10   10   2  0.01     pcr   0.201964    9.897283\n",
      "2     10   10   2  0.01     pls   0.691804    3.822261\n",
      "\n",
      "[1032 rows x 7 columns]\n",
      "       M    N   n   rho   model         R2         MSE\n",
      "0   5000  500   5  0.01  linreg   0.997495    1.101917\n",
      "1   5000  500   5  0.01     pcr   0.024885  428.943009\n",
      "2   5000  500   5  0.01     pls   0.997442    1.125453\n",
      "0   5000  500  50  0.01  linreg   0.997495    1.101917\n",
      "1   5000  500  50  0.01     pcr   0.095849  397.726742\n",
      "..   ...  ...  ..   ...     ...        ...         ...\n",
      "1     10   10   2  0.01     pcr   0.201964    9.897283\n",
      "2     10   10   2  0.01     pls   0.691804    3.822261\n",
      "0     10   10   5  0.01  linreg -11.141600  150.580799\n",
      "1     10   10   5  0.01     pcr   0.618474    4.731708\n",
      "2     10   10   5  0.01     pls   0.487092    6.361112\n",
      "\n",
      "[1035 rows x 7 columns]\n"
     ]
    },
    {
     "name": "stderr",
     "output_type": "stream",
     "text": [
      " 60%|██████    | 3/5 [15:39<07:56, 238.32s/it, N=10, linreg=0.944, pcr=0.312, pls=0.934, rho=0.1]"
     ]
    },
    {
     "name": "stdout",
     "output_type": "stream",
     "text": [
      "       M    N   n   rho   model        R2         MSE\n",
      "0   5000  500   5  0.01  linreg  0.997495    1.101917\n",
      "1   5000  500   5  0.01     pcr  0.024885  428.943009\n",
      "2   5000  500   5  0.01     pls  0.997442    1.125453\n",
      "0   5000  500  50  0.01  linreg  0.997495    1.101917\n",
      "1   5000  500  50  0.01     pcr  0.095849  397.726742\n",
      "..   ...  ...  ..   ...     ...       ...         ...\n",
      "1     10   10   5  0.01     pcr  0.618474    4.731708\n",
      "2     10   10   5  0.01     pls  0.487092    6.361112\n",
      "0    100   10   1  0.10  linreg  0.949097    1.104376\n",
      "1    100   10   1  0.10     pcr  0.245657   16.366077\n",
      "2    100   10   1  0.10     pls  0.866962    2.886361\n",
      "\n",
      "[1038 rows x 7 columns]\n",
      "       M    N   n   rho   model        R2         MSE\n",
      "0   5000  500   5  0.01  linreg  0.997495    1.101917\n",
      "1   5000  500   5  0.01     pcr  0.024885  428.943009\n",
      "2   5000  500   5  0.01     pls  0.997442    1.125453\n",
      "0   5000  500  50  0.01  linreg  0.997495    1.101917\n",
      "1   5000  500  50  0.01     pcr  0.095849  397.726742\n",
      "..   ...  ...  ..   ...     ...       ...         ...\n",
      "1    100   10   1  0.10     pcr  0.245657   16.366077\n",
      "2    100   10   1  0.10     pls  0.866962    2.886361\n",
      "0    100   10   2  0.10  linreg  0.949097    1.104376\n",
      "1    100   10   2  0.10     pcr  0.309723   14.976116\n",
      "2    100   10   2  0.10     pls  0.937688    1.351915\n",
      "\n",
      "[1041 rows x 7 columns]\n",
      "       M    N   n   rho   model        R2         MSE\n",
      "0   5000  500   5  0.01  linreg  0.997495    1.101917\n",
      "1   5000  500   5  0.01     pcr  0.024885  428.943009\n",
      "2   5000  500   5  0.01     pls  0.997442    1.125453\n",
      "0   5000  500  50  0.01  linreg  0.997495    1.101917\n",
      "1   5000  500  50  0.01     pcr  0.095849  397.726742\n",
      "..   ...  ...  ..   ...     ...       ...         ...\n",
      "1    100   10   2  0.10     pcr  0.309723   14.976116\n",
      "2    100   10   2  0.10     pls  0.937688    1.351915\n",
      "0    100   10   5  0.10  linreg  0.949097    1.104376\n",
      "1    100   10   5  0.10     pcr  0.584456    9.015559\n",
      "2    100   10   5  0.10     pls  0.949087    1.104599\n",
      "\n",
      "[1044 rows x 7 columns]\n",
      "       M    N   n   rho   model        R2         MSE\n",
      "0   5000  500   5  0.01  linreg  0.997495    1.101917\n",
      "1   5000  500   5  0.01     pcr  0.024885  428.943009\n",
      "2   5000  500   5  0.01     pls  0.997442    1.125453\n",
      "0   5000  500  50  0.01  linreg  0.997495    1.101917\n",
      "1   5000  500  50  0.01     pcr  0.095849  397.726742\n",
      "..   ...  ...  ..   ...     ...       ...         ...\n",
      "1    100   10   5  0.10     pcr  0.584456    9.015559\n",
      "2    100   10   5  0.10     pls  0.949087    1.104599\n",
      "0     50   10   1  0.10  linreg  0.942940    1.237837\n",
      "1     50   10   1  0.10     pcr  0.306220   15.050700\n",
      "2     50   10   1  0.10     pls  0.796899    4.406029\n",
      "\n",
      "[1047 rows x 7 columns]\n",
      "       M    N   n   rho   model        R2         MSE\n",
      "0   5000  500   5  0.01  linreg  0.997495    1.101917\n",
      "1   5000  500   5  0.01     pcr  0.024885  428.943009\n",
      "2   5000  500   5  0.01     pls  0.997442    1.125453\n",
      "0   5000  500  50  0.01  linreg  0.997495    1.101917\n",
      "1   5000  500  50  0.01     pcr  0.095849  397.726742\n",
      "..   ...  ...  ..   ...     ...       ...         ...\n",
      "1     50   10   1  0.10     pcr  0.306220   15.050700\n",
      "2     50   10   1  0.10     pls  0.796899    4.406029\n",
      "0     50   10   2  0.10  linreg  0.942940    1.237837\n",
      "1     50   10   2  0.10     pcr  0.317739   14.800807\n",
      "2     50   10   2  0.10     pls  0.913875    1.868378\n",
      "\n",
      "[1050 rows x 7 columns]\n",
      "       M    N   n   rho   model        R2         MSE\n",
      "0   5000  500   5  0.01  linreg  0.997495    1.101917\n",
      "1   5000  500   5  0.01     pcr  0.024885  428.943009\n",
      "2   5000  500   5  0.01     pls  0.997442    1.125453\n",
      "0   5000  500  50  0.01  linreg  0.997495    1.101917\n",
      "1   5000  500  50  0.01     pcr  0.095849  397.726742\n",
      "..   ...  ...  ..   ...     ...       ...         ...\n",
      "1     50   10   2  0.10     pcr  0.317739   14.800807\n",
      "2     50   10   2  0.10     pls  0.913875    1.868378\n",
      "0     50   10   5  0.10  linreg  0.942940    1.237837\n",
      "1     50   10   5  0.10     pcr  0.592761    8.834535\n",
      "2     50   10   5  0.10     pls  0.942970    1.237204\n",
      "\n",
      "[1053 rows x 7 columns]\n",
      "       M    N   n   rho   model        R2         MSE\n",
      "0   5000  500   5  0.01  linreg  0.997495    1.101917\n",
      "1   5000  500   5  0.01     pcr  0.024885  428.943009\n",
      "2   5000  500   5  0.01     pls  0.997442    1.125453\n",
      "0   5000  500  50  0.01  linreg  0.997495    1.101917\n",
      "1   5000  500  50  0.01     pcr  0.095849  397.726742\n",
      "..   ...  ...  ..   ...     ...       ...         ...\n",
      "1     50   10   5  0.10     pcr  0.592761    8.834535\n",
      "2     50   10   5  0.10     pls  0.942970    1.237204\n",
      "0     30   10   1  0.10  linreg  0.943666    1.222199\n",
      "1     30   10   1  0.10     pcr  0.248954   16.294470\n",
      "2     30   10   1  0.10     pls  0.798704    4.367267\n",
      "\n",
      "[1056 rows x 7 columns]\n"
     ]
    },
    {
     "name": "stderr",
     "output_type": "stream",
     "text": [
      " 60%|██████    | 3/5 [15:40<07:56, 238.32s/it, N=10, linreg=0.9, pcr=0.404, pls=0.795, rho=0.1]  "
     ]
    },
    {
     "name": "stdout",
     "output_type": "stream",
     "text": [
      "       M    N   n   rho   model        R2         MSE\n",
      "0   5000  500   5  0.01  linreg  0.997495    1.101917\n",
      "1   5000  500   5  0.01     pcr  0.024885  428.943009\n",
      "2   5000  500   5  0.01     pls  0.997442    1.125453\n",
      "0   5000  500  50  0.01  linreg  0.997495    1.101917\n",
      "1   5000  500  50  0.01     pcr  0.095849  397.726742\n",
      "..   ...  ...  ..   ...     ...       ...         ...\n",
      "1     30   10   1  0.10     pcr  0.248954   16.294470\n",
      "2     30   10   1  0.10     pls  0.798704    4.367267\n",
      "0     30   10   2  0.10  linreg  0.943666    1.222199\n",
      "1     30   10   2  0.10     pcr  0.311716   14.932818\n",
      "2     30   10   2  0.10     pls  0.934274    1.425968\n",
      "\n",
      "[1059 rows x 7 columns]\n",
      "       M    N   n   rho   model        R2         MSE\n",
      "0   5000  500   5  0.01  linreg  0.997495    1.101917\n",
      "1   5000  500   5  0.01     pcr  0.024885  428.943009\n",
      "2   5000  500   5  0.01     pls  0.997442    1.125453\n",
      "0   5000  500  50  0.01  linreg  0.997495    1.101917\n",
      "1   5000  500  50  0.01     pcr  0.095849  397.726742\n",
      "..   ...  ...  ..   ...     ...       ...         ...\n",
      "1     30   10   2  0.10     pcr  0.311716   14.932818\n",
      "2     30   10   2  0.10     pls  0.934274    1.425968\n",
      "0     30   10   5  0.10  linreg  0.943666    1.222199\n",
      "1     30   10   5  0.10     pcr  0.420669   12.568991\n",
      "2     30   10   5  0.10     pls  0.943720    1.221043\n",
      "\n",
      "[1062 rows x 7 columns]\n",
      "       M    N   n   rho   model        R2         MSE\n",
      "0   5000  500   5  0.01  linreg  0.997495    1.101917\n",
      "1   5000  500   5  0.01     pcr  0.024885  428.943009\n",
      "2   5000  500   5  0.01     pls  0.997442    1.125453\n",
      "0   5000  500  50  0.01  linreg  0.997495    1.101917\n",
      "1   5000  500  50  0.01     pcr  0.095849  397.726742\n",
      "..   ...  ...  ..   ...     ...       ...         ...\n",
      "1     30   10   5  0.10     pcr  0.420669   12.568991\n",
      "2     30   10   5  0.10     pls  0.943720    1.221043\n",
      "0     20   10   1  0.10  linreg  0.899992    2.169682\n",
      "1     20   10   1  0.10     pcr  0.411803   12.760962\n",
      "2     20   10   1  0.10     pls  0.613935    8.375689\n",
      "\n",
      "[1065 rows x 7 columns]\n"
     ]
    },
    {
     "name": "stderr",
     "output_type": "stream",
     "text": [
      " 60%|██████    | 3/5 [15:40<07:56, 238.32s/it, N=10, linreg=0.616, pcr=0.109, pls=0.647, rho=0.1]"
     ]
    },
    {
     "name": "stdout",
     "output_type": "stream",
     "text": [
      "       M    N   n   rho   model        R2         MSE\n",
      "0   5000  500   5  0.01  linreg  0.997495    1.101917\n",
      "1   5000  500   5  0.01     pcr  0.024885  428.943009\n",
      "2   5000  500   5  0.01     pls  0.997442    1.125453\n",
      "0   5000  500  50  0.01  linreg  0.997495    1.101917\n",
      "1   5000  500  50  0.01     pcr  0.095849  397.726742\n",
      "..   ...  ...  ..   ...     ...       ...         ...\n",
      "1     20   10   1  0.10     pcr  0.411803   12.760962\n",
      "2     20   10   1  0.10     pls  0.613935    8.375689\n",
      "0     20   10   2  0.10  linreg  0.899992    2.169682\n",
      "1     20   10   2  0.10     pcr  0.404165   12.926670\n",
      "2     20   10   2  0.10     pls  0.794836    4.451051\n",
      "\n",
      "[1068 rows x 7 columns]\n",
      "       M    N   n   rho   model        R2         MSE\n",
      "0   5000  500   5  0.01  linreg  0.997495    1.101917\n",
      "1   5000  500   5  0.01     pcr  0.024885  428.943009\n",
      "2   5000  500   5  0.01     pls  0.997442    1.125453\n",
      "0   5000  500  50  0.01  linreg  0.997495    1.101917\n",
      "1   5000  500  50  0.01     pcr  0.095849  397.726742\n",
      "..   ...  ...  ..   ...     ...       ...         ...\n",
      "1     20   10   2  0.10     pcr  0.404165   12.926670\n",
      "2     20   10   2  0.10     pls  0.794836    4.451051\n",
      "0     20   10   5  0.10  linreg  0.899992    2.169682\n",
      "1     20   10   5  0.10     pcr  0.608086    8.502585\n",
      "2     20   10   5  0.10     pls  0.900856    2.150940\n",
      "\n",
      "[1071 rows x 7 columns]\n",
      "       M    N   n   rho   model        R2         MSE\n",
      "0   5000  500   5  0.01  linreg  0.997495    1.101917\n",
      "1   5000  500   5  0.01     pcr  0.024885  428.943009\n",
      "2   5000  500   5  0.01     pls  0.997442    1.125453\n",
      "0   5000  500  50  0.01  linreg  0.997495    1.101917\n",
      "1   5000  500  50  0.01     pcr  0.095849  397.726742\n",
      "..   ...  ...  ..   ...     ...       ...         ...\n",
      "1     20   10   5  0.10     pcr  0.608086    8.502585\n",
      "2     20   10   5  0.10     pls  0.900856    2.150940\n",
      "0     10   10   1  0.10  linreg  0.615559    8.340785\n",
      "1     10   10   1  0.10     pcr  0.161277   18.196856\n",
      "2     10   10   1  0.10     pls  0.388809   13.260350\n",
      "\n",
      "[1074 rows x 7 columns]\n",
      "       M    N   n   rho   model        R2         MSE\n",
      "0   5000  500   5  0.01  linreg  0.997495    1.101917\n",
      "1   5000  500   5  0.01     pcr  0.024885  428.943009\n",
      "2   5000  500   5  0.01     pls  0.997442    1.125453\n",
      "0   5000  500  50  0.01  linreg  0.997495    1.101917\n",
      "1   5000  500  50  0.01     pcr  0.095849  397.726742\n",
      "..   ...  ...  ..   ...     ...       ...         ...\n",
      "1     10   10   1  0.10     pcr  0.161277   18.196856\n",
      "2     10   10   1  0.10     pls  0.388809   13.260350\n",
      "0     10   10   2  0.10  linreg  0.615559    8.340785\n",
      "1     10   10   2  0.10     pcr  0.109070   19.329526\n",
      "2     10   10   2  0.10     pls  0.646986    7.658968\n",
      "\n",
      "[1077 rows x 7 columns]\n"
     ]
    },
    {
     "name": "stderr",
     "output_type": "stream",
     "text": [
      " 60%|██████    | 3/5 [15:40<07:56, 238.32s/it, N=10, linreg=0.894, pcr=0.223, pls=0.844, rho=0.2]"
     ]
    },
    {
     "name": "stdout",
     "output_type": "stream",
     "text": [
      "       M    N   n   rho   model        R2         MSE\n",
      "0   5000  500   5  0.01  linreg  0.997495    1.101917\n",
      "1   5000  500   5  0.01     pcr  0.024885  428.943009\n",
      "2   5000  500   5  0.01     pls  0.997442    1.125453\n",
      "0   5000  500  50  0.01  linreg  0.997495    1.101917\n",
      "1   5000  500  50  0.01     pcr  0.095849  397.726742\n",
      "..   ...  ...  ..   ...     ...       ...         ...\n",
      "1     10   10   2  0.10     pcr  0.109070   19.329526\n",
      "2     10   10   2  0.10     pls  0.646986    7.658968\n",
      "0     10   10   5  0.10  linreg  0.615559    8.340785\n",
      "1     10   10   5  0.10     pcr  0.164742   18.121676\n",
      "2     10   10   5  0.10     pls  0.734092    5.769108\n",
      "\n",
      "[1080 rows x 7 columns]\n",
      "       M    N   n   rho   model        R2         MSE\n",
      "0   5000  500   5  0.01  linreg  0.997495    1.101917\n",
      "1   5000  500   5  0.01     pcr  0.024885  428.943009\n",
      "2   5000  500   5  0.01     pls  0.997442    1.125453\n",
      "0   5000  500  50  0.01  linreg  0.997495    1.101917\n",
      "1   5000  500  50  0.01     pcr  0.095849  397.726742\n",
      "..   ...  ...  ..   ...     ...       ...         ...\n",
      "1     10   10   5  0.10     pcr  0.164742   18.121676\n",
      "2     10   10   5  0.10     pls  0.734092    5.769108\n",
      "0    100   10   1  0.20  linreg  0.909638    1.216346\n",
      "1    100   10   1  0.20     pcr  0.250503   10.088836\n",
      "2    100   10   1  0.20     pls  0.665039    4.508854\n",
      "\n",
      "[1083 rows x 7 columns]\n",
      "       M    N   n   rho   model        R2         MSE\n",
      "0   5000  500   5  0.01  linreg  0.997495    1.101917\n",
      "1   5000  500   5  0.01     pcr  0.024885  428.943009\n",
      "2   5000  500   5  0.01     pls  0.997442    1.125453\n",
      "0   5000  500  50  0.01  linreg  0.997495    1.101917\n",
      "1   5000  500  50  0.01     pcr  0.095849  397.726742\n",
      "..   ...  ...  ..   ...     ...       ...         ...\n",
      "1    100   10   1  0.20     pcr  0.250503   10.088836\n",
      "2    100   10   1  0.20     pls  0.665039    4.508854\n",
      "0    100   10   2  0.20  linreg  0.909638    1.216346\n",
      "1    100   10   2  0.20     pcr  0.249702   10.099625\n",
      "2    100   10   2  0.20     pls  0.906704    1.255845\n",
      "\n",
      "[1086 rows x 7 columns]\n",
      "       M    N   n   rho   model        R2         MSE\n",
      "0   5000  500   5  0.01  linreg  0.997495    1.101917\n",
      "1   5000  500   5  0.01     pcr  0.024885  428.943009\n",
      "2   5000  500   5  0.01     pls  0.997442    1.125453\n",
      "0   5000  500  50  0.01  linreg  0.997495    1.101917\n",
      "1   5000  500  50  0.01     pcr  0.095849  397.726742\n",
      "..   ...  ...  ..   ...     ...       ...         ...\n",
      "1    100   10   2  0.20     pcr  0.249702   10.099625\n",
      "2    100   10   2  0.20     pls  0.906704    1.255845\n",
      "0    100   10   5  0.20  linreg  0.909638    1.216346\n",
      "1    100   10   5  0.20     pcr  0.788149    2.851690\n",
      "2    100   10   5  0.20     pls  0.909754    1.214784\n",
      "\n",
      "[1089 rows x 7 columns]\n",
      "       M    N   n   rho   model        R2         MSE\n",
      "0   5000  500   5  0.01  linreg  0.997495    1.101917\n",
      "1   5000  500   5  0.01     pcr  0.024885  428.943009\n",
      "2   5000  500   5  0.01     pls  0.997442    1.125453\n",
      "0   5000  500  50  0.01  linreg  0.997495    1.101917\n",
      "1   5000  500  50  0.01     pcr  0.095849  397.726742\n",
      "..   ...  ...  ..   ...     ...       ...         ...\n",
      "1    100   10   5  0.20     pcr  0.788149    2.851690\n",
      "2    100   10   5  0.20     pls  0.909754    1.214784\n",
      "0     50   10   1  0.20  linreg  0.894317    1.422629\n",
      "1     50   10   1  0.20     pcr  0.203222   10.725658\n",
      "2     50   10   1  0.20     pls  0.646122    4.763663\n",
      "\n",
      "[1092 rows x 7 columns]\n"
     ]
    },
    {
     "name": "stderr",
     "output_type": "stream",
     "text": [
      " 60%|██████    | 3/5 [15:40<07:56, 238.32s/it, N=10, linreg=0.873, pcr=0.391, pls=0.838, rho=0.2] "
     ]
    },
    {
     "name": "stdout",
     "output_type": "stream",
     "text": [
      "       M    N   n   rho   model        R2         MSE\n",
      "0   5000  500   5  0.01  linreg  0.997495    1.101917\n",
      "1   5000  500   5  0.01     pcr  0.024885  428.943009\n",
      "2   5000  500   5  0.01     pls  0.997442    1.125453\n",
      "0   5000  500  50  0.01  linreg  0.997495    1.101917\n",
      "1   5000  500  50  0.01     pcr  0.095849  397.726742\n",
      "..   ...  ...  ..   ...     ...       ...         ...\n",
      "1     50   10   1  0.20     pcr  0.203222   10.725658\n",
      "2     50   10   1  0.20     pls  0.646122    4.763663\n",
      "0     50   10   2  0.20  linreg  0.894317    1.422629\n",
      "1     50   10   2  0.20     pcr  0.222734   10.463002\n",
      "2     50   10   2  0.20     pls  0.844089    2.098770\n",
      "\n",
      "[1095 rows x 7 columns]\n",
      "       M    N   n   rho   model        R2         MSE\n",
      "0   5000  500   5  0.01  linreg  0.997495    1.101917\n",
      "1   5000  500   5  0.01     pcr  0.024885  428.943009\n",
      "2   5000  500   5  0.01     pls  0.997442    1.125453\n",
      "0   5000  500  50  0.01  linreg  0.997495    1.101917\n",
      "1   5000  500  50  0.01     pcr  0.095849  397.726742\n",
      "..   ...  ...  ..   ...     ...       ...         ...\n",
      "1     50   10   2  0.20     pcr  0.222734   10.463002\n",
      "2     50   10   2  0.20     pls  0.844089    2.098770\n",
      "0     50   10   5  0.20  linreg  0.894317    1.422629\n",
      "1     50   10   5  0.20     pcr  0.632392    4.948480\n",
      "2     50   10   5  0.20     pls  0.893465    1.434102\n",
      "\n",
      "[1098 rows x 7 columns]\n",
      "       M    N   n   rho   model        R2         MSE\n",
      "0   5000  500   5  0.01  linreg  0.997495    1.101917\n",
      "1   5000  500   5  0.01     pcr  0.024885  428.943009\n",
      "2   5000  500   5  0.01     pls  0.997442    1.125453\n",
      "0   5000  500  50  0.01  linreg  0.997495    1.101917\n",
      "1   5000  500  50  0.01     pcr  0.095849  397.726742\n",
      "..   ...  ...  ..   ...     ...       ...         ...\n",
      "1     50   10   5  0.20     pcr  0.632392    4.948480\n",
      "2     50   10   5  0.20     pls  0.893465    1.434102\n",
      "0     30   10   1  0.20  linreg  0.888087    1.506539\n",
      "1     30   10   1  0.20     pcr  0.069006   12.532710\n",
      "2     30   10   1  0.20     pls  0.741713    3.476974\n",
      "\n",
      "[1101 rows x 7 columns]\n",
      "       M    N   n   rho   model        R2         MSE\n",
      "0   5000  500   5  0.01  linreg  0.997495    1.101917\n",
      "1   5000  500   5  0.01     pcr  0.024885  428.943009\n",
      "2   5000  500   5  0.01     pls  0.997442    1.125453\n",
      "0   5000  500  50  0.01  linreg  0.997495    1.101917\n",
      "1   5000  500  50  0.01     pcr  0.095849  397.726742\n",
      "..   ...  ...  ..   ...     ...       ...         ...\n",
      "1     30   10   1  0.20     pcr  0.069006   12.532710\n",
      "2     30   10   1  0.20     pls  0.741713    3.476974\n",
      "0     30   10   2  0.20  linreg  0.888087    1.506539\n",
      "1     30   10   2  0.20     pcr  0.069487   12.526232\n",
      "2     30   10   2  0.20     pls  0.806057    2.610786\n",
      "\n",
      "[1104 rows x 7 columns]\n",
      "       M    N   n   rho   model        R2         MSE\n",
      "0   5000  500   5  0.01  linreg  0.997495    1.101917\n",
      "1   5000  500   5  0.01     pcr  0.024885  428.943009\n",
      "2   5000  500   5  0.01     pls  0.997442    1.125453\n",
      "0   5000  500  50  0.01  linreg  0.997495    1.101917\n",
      "1   5000  500  50  0.01     pcr  0.095849  397.726742\n",
      "..   ...  ...  ..   ...     ...       ...         ...\n",
      "1     30   10   2  0.20     pcr  0.069487   12.526232\n",
      "2     30   10   2  0.20     pls  0.806057    2.610786\n",
      "0     30   10   5  0.20  linreg  0.888087    1.506539\n",
      "1     30   10   5  0.20     pcr  0.767309    3.132399\n",
      "2     30   10   5  0.20     pls  0.883983    1.561778\n",
      "\n",
      "[1107 rows x 7 columns]\n",
      "       M    N   n   rho   model        R2         MSE\n",
      "0   5000  500   5  0.01  linreg  0.997495    1.101917\n",
      "1   5000  500   5  0.01     pcr  0.024885  428.943009\n",
      "2   5000  500   5  0.01     pls  0.997442    1.125453\n",
      "0   5000  500  50  0.01  linreg  0.997495    1.101917\n",
      "1   5000  500  50  0.01     pcr  0.095849  397.726742\n",
      "..   ...  ...  ..   ...     ...       ...         ...\n",
      "1     30   10   5  0.20     pcr  0.767309    3.132399\n",
      "2     30   10   5  0.20     pls  0.883983    1.561778\n",
      "0     20   10   1  0.20  linreg  0.872755    1.713035\n",
      "1     20   10   1  0.20     pcr  0.081943   12.359384\n",
      "2     20   10   1  0.20     pls  0.520096    6.460735\n",
      "\n",
      "[1110 rows x 7 columns]\n",
      "       M    N   n   rho   model        R2         MSE\n",
      "0   5000  500   5  0.01  linreg  0.997495    1.101917\n",
      "1   5000  500   5  0.01     pcr  0.024885  428.943009\n",
      "2   5000  500   5  0.01     pls  0.997442    1.125453\n",
      "0   5000  500  50  0.01  linreg  0.997495    1.101917\n",
      "1   5000  500  50  0.01     pcr  0.095849  397.726742\n",
      "..   ...  ...  ..   ...     ...       ...         ...\n",
      "1     20   10   1  0.20     pcr  0.081943   12.359384\n",
      "2     20   10   1  0.20     pls  0.520096    6.460735\n",
      "0     20   10   2  0.20  linreg  0.872755    1.713035\n",
      "1     20   10   2  0.20     pcr  0.096956   12.157269\n",
      "2     20   10   2  0.20     pls  0.629780    4.984097\n",
      "\n",
      "[1113 rows x 7 columns]\n"
     ]
    },
    {
     "name": "stderr",
     "output_type": "stream",
     "text": [
      " 60%|██████    | 3/5 [15:41<07:56, 238.32s/it, N=10, linreg=0.959, pcr=0.919, pls=0.924, rho=0.5] "
     ]
    },
    {
     "name": "stdout",
     "output_type": "stream",
     "text": [
      "       M    N   n   rho   model        R2         MSE\n",
      "0   5000  500   5  0.01  linreg  0.997495    1.101917\n",
      "1   5000  500   5  0.01     pcr  0.024885  428.943009\n",
      "2   5000  500   5  0.01     pls  0.997442    1.125453\n",
      "0   5000  500  50  0.01  linreg  0.997495    1.101917\n",
      "1   5000  500  50  0.01     pcr  0.095849  397.726742\n",
      "..   ...  ...  ..   ...     ...       ...         ...\n",
      "1     20   10   2  0.20     pcr  0.096956   12.157269\n",
      "2     20   10   2  0.20     pls  0.629780    4.984097\n",
      "0     20   10   5  0.20  linreg  0.872755    1.713035\n",
      "1     20   10   5  0.20     pcr  0.390600    8.204069\n",
      "2     20   10   5  0.20     pls  0.837984    2.181152\n",
      "\n",
      "[1116 rows x 7 columns]\n",
      "       M    N   n   rho   model        R2         MSE\n",
      "0   5000  500   5  0.01  linreg  0.997495    1.101917\n",
      "1   5000  500   5  0.01     pcr  0.024885  428.943009\n",
      "2   5000  500   5  0.01     pls  0.997442    1.125453\n",
      "0   5000  500  50  0.01  linreg  0.997495    1.101917\n",
      "1   5000  500  50  0.01     pcr  0.095849  397.726742\n",
      "..   ...  ...  ..   ...     ...       ...         ...\n",
      "1     20   10   5  0.20     pcr  0.390600    8.204069\n",
      "2     20   10   5  0.20     pls  0.837984    2.181152\n",
      "0     10   10   1  0.20  linreg  0.229508   10.372286\n",
      "1     10   10   1  0.20     pcr -0.003484   13.508791\n",
      "2     10   10   1  0.20     pls  0.550516    6.050900\n",
      "\n",
      "[1119 rows x 7 columns]\n",
      "       M    N   n   rho   model        R2         MSE\n",
      "0   5000  500   5  0.01  linreg  0.997495    1.101917\n",
      "1   5000  500   5  0.01     pcr  0.024885  428.943009\n",
      "2   5000  500   5  0.01     pls  0.997442    1.125453\n",
      "0   5000  500  50  0.01  linreg  0.997495    1.101917\n",
      "1   5000  500  50  0.01     pcr  0.095849  397.726742\n",
      "..   ...  ...  ..   ...     ...       ...         ...\n",
      "1     10   10   1  0.20     pcr -0.003484   13.508791\n",
      "2     10   10   1  0.20     pls  0.550516    6.050900\n",
      "0     10   10   2  0.20  linreg  0.229508   10.372286\n",
      "1     10   10   2  0.20     pcr  0.124565   11.785017\n",
      "2     10   10   2  0.20     pls  0.586500    5.566499\n",
      "\n",
      "[1122 rows x 7 columns]\n",
      "       M    N   n   rho   model        R2         MSE\n",
      "0   5000  500   5  0.01  linreg  0.997495    1.101917\n",
      "1   5000  500   5  0.01     pcr  0.024885  428.943009\n",
      "2   5000  500   5  0.01     pls  0.997442    1.125453\n",
      "0   5000  500  50  0.01  linreg  0.997495    1.101917\n",
      "1   5000  500  50  0.01     pcr  0.095849  397.726742\n",
      "..   ...  ...  ..   ...     ...       ...         ...\n",
      "1     10   10   2  0.20     pcr  0.124565   11.785017\n",
      "2     10   10   2  0.20     pls  0.586500    5.566499\n",
      "0     10   10   5  0.20  linreg  0.229508   10.372286\n",
      "1     10   10   5  0.20     pcr  0.358872    8.630797\n",
      "2     10   10   5  0.20     pls  0.806887    2.599661\n",
      "\n",
      "[1125 rows x 7 columns]\n"
     ]
    },
    {
     "name": "stderr",
     "output_type": "stream",
     "text": [
      " 60%|██████    | 3/5 [15:41<07:56, 238.32s/it, N=10, linreg=0.937, pcr=0.938, pls=0.938, rho=0.5]"
     ]
    },
    {
     "name": "stdout",
     "output_type": "stream",
     "text": [
      "       M    N   n   rho   model        R2         MSE\n",
      "0   5000  500   5  0.01  linreg  0.997495    1.101917\n",
      "1   5000  500   5  0.01     pcr  0.024885  428.943009\n",
      "2   5000  500   5  0.01     pls  0.997442    1.125453\n",
      "0   5000  500  50  0.01  linreg  0.997495    1.101917\n",
      "1   5000  500  50  0.01     pcr  0.095849  397.726742\n",
      "..   ...  ...  ..   ...     ...       ...         ...\n",
      "1     10   10   5  0.20     pcr  0.358872    8.630797\n",
      "2     10   10   5  0.20     pls  0.806887    2.599661\n",
      "0    100   10   1  0.50  linreg  0.959108    1.059029\n",
      "1    100   10   1  0.50     pcr  0.919189    2.092875\n",
      "2    100   10   1  0.50     pls  0.923898    1.970923\n",
      "\n",
      "[1128 rows x 7 columns]\n",
      "       M    N   n   rho   model        R2         MSE\n",
      "0   5000  500   5  0.01  linreg  0.997495    1.101917\n",
      "1   5000  500   5  0.01     pcr  0.024885  428.943009\n",
      "2   5000  500   5  0.01     pls  0.997442    1.125453\n",
      "0   5000  500  50  0.01  linreg  0.997495    1.101917\n",
      "1   5000  500  50  0.01     pcr  0.095849  397.726742\n",
      "..   ...  ...  ..   ...     ...       ...         ...\n",
      "1    100   10   1  0.50     pcr  0.919189    2.092875\n",
      "2    100   10   1  0.50     pls  0.923898    1.970923\n",
      "0    100   10   2  0.50  linreg  0.959108    1.059029\n",
      "1    100   10   2  0.50     pcr  0.918588    2.108449\n",
      "2    100   10   2  0.50     pls  0.958066    1.086024\n",
      "\n",
      "[1131 rows x 7 columns]\n",
      "       M    N   n   rho   model        R2         MSE\n",
      "0   5000  500   5  0.01  linreg  0.997495    1.101917\n",
      "1   5000  500   5  0.01     pcr  0.024885  428.943009\n",
      "2   5000  500   5  0.01     pls  0.997442    1.125453\n",
      "0   5000  500  50  0.01  linreg  0.997495    1.101917\n",
      "1   5000  500  50  0.01     pcr  0.095849  397.726742\n",
      "..   ...  ...  ..   ...     ...       ...         ...\n",
      "1    100   10   2  0.50     pcr  0.918588    2.108449\n",
      "2    100   10   2  0.50     pls  0.958066    1.086024\n",
      "0    100   10   5  0.50  linreg  0.959108    1.059029\n",
      "1    100   10   5  0.50     pcr  0.929612    1.822956\n",
      "2    100   10   5  0.50     pls  0.959107    1.059077\n",
      "\n",
      "[1134 rows x 7 columns]\n",
      "       M    N   n   rho   model        R2         MSE\n",
      "0   5000  500   5  0.01  linreg  0.997495    1.101917\n",
      "1   5000  500   5  0.01     pcr  0.024885  428.943009\n",
      "2   5000  500   5  0.01     pls  0.997442    1.125453\n",
      "0   5000  500  50  0.01  linreg  0.997495    1.101917\n",
      "1   5000  500  50  0.01     pcr  0.095849  397.726742\n",
      "..   ...  ...  ..   ...     ...       ...         ...\n",
      "1    100   10   5  0.50     pcr  0.929612    1.822956\n",
      "2    100   10   5  0.50     pls  0.959107    1.059077\n",
      "0     50   10   1  0.50  linreg  0.949428    1.309860\n",
      "1     50   10   1  0.50     pcr  0.908348    2.373870\n",
      "2     50   10   1  0.50     pls  0.921512    2.032912\n",
      "\n",
      "[1137 rows x 7 columns]\n",
      "       M    N   n   rho   model        R2         MSE\n",
      "0   5000  500   5  0.01  linreg  0.997495    1.101917\n",
      "1   5000  500   5  0.01     pcr  0.024885  428.943009\n",
      "2   5000  500   5  0.01     pls  0.997442    1.125453\n",
      "0   5000  500  50  0.01  linreg  0.997495    1.101917\n",
      "1   5000  500  50  0.01     pcr  0.095849  397.726742\n",
      "..   ...  ...  ..   ...     ...       ...         ...\n",
      "1     50   10   1  0.50     pcr  0.908348    2.373870\n",
      "2     50   10   1  0.50     pls  0.921512    2.032912\n",
      "0     50   10   2  0.50  linreg  0.949428    1.309860\n",
      "1     50   10   2  0.50     pcr  0.906091    2.432340\n",
      "2     50   10   2  0.50     pls  0.943205    1.471056\n",
      "\n",
      "[1140 rows x 7 columns]\n",
      "       M    N   n   rho   model        R2         MSE\n",
      "0   5000  500   5  0.01  linreg  0.997495    1.101917\n",
      "1   5000  500   5  0.01     pcr  0.024885  428.943009\n",
      "2   5000  500   5  0.01     pls  0.997442    1.125453\n",
      "0   5000  500  50  0.01  linreg  0.997495    1.101917\n",
      "1   5000  500  50  0.01     pcr  0.095849  397.726742\n",
      "..   ...  ...  ..   ...     ...       ...         ...\n",
      "1     50   10   2  0.50     pcr  0.906091    2.432340\n",
      "2     50   10   2  0.50     pls  0.943205    1.471056\n",
      "0     50   10   5  0.50  linreg  0.949428    1.309860\n",
      "1     50   10   5  0.50     pcr  0.914141    2.223843\n",
      "2     50   10   5  0.50     pls  0.949309    1.312952\n",
      "\n",
      "[1143 rows x 7 columns]\n",
      "       M    N   n   rho   model        R2         MSE\n",
      "0   5000  500   5  0.01  linreg  0.997495    1.101917\n",
      "1   5000  500   5  0.01     pcr  0.024885  428.943009\n",
      "2   5000  500   5  0.01     pls  0.997442    1.125453\n",
      "0   5000  500  50  0.01  linreg  0.997495    1.101917\n",
      "1   5000  500  50  0.01     pcr  0.095849  397.726742\n",
      "..   ...  ...  ..   ...     ...       ...         ...\n",
      "1     50   10   5  0.50     pcr  0.914141    2.223843\n",
      "2     50   10   5  0.50     pls  0.949309    1.312952\n",
      "0     30   10   1  0.50  linreg  0.937221    1.625953\n",
      "1     30   10   1  0.50     pcr  0.909122    2.353692\n",
      "2     30   10   1  0.50     pls  0.925217    1.936851\n",
      "\n",
      "[1146 rows x 7 columns]\n",
      "       M    N   n   rho   model        R2         MSE\n",
      "0   5000  500   5  0.01  linreg  0.997495    1.101917\n",
      "1   5000  500   5  0.01     pcr  0.024885  428.943009\n",
      "2   5000  500   5  0.01     pls  0.997442    1.125453\n",
      "0   5000  500  50  0.01  linreg  0.997495    1.101917\n",
      "1   5000  500  50  0.01     pcr  0.095849  397.726742\n",
      "..   ...  ...  ..   ...     ...       ...         ...\n",
      "1     30   10   1  0.50     pcr  0.909122    2.353692\n",
      "2     30   10   1  0.50     pls  0.925217    1.936851\n",
      "0     30   10   2  0.50  linreg  0.937221    1.625953\n",
      "1     30   10   2  0.50     pcr  0.908459    2.370858\n",
      "2     30   10   2  0.50     pls  0.944995    1.424608\n",
      "\n",
      "[1149 rows x 7 columns]\n"
     ]
    },
    {
     "name": "stderr",
     "output_type": "stream",
     "text": [
      " 60%|██████    | 3/5 [15:41<07:56, 238.32s/it, N=10, linreg=0.815, pcr=0.885, pls=0.833, rho=0.5]"
     ]
    },
    {
     "name": "stdout",
     "output_type": "stream",
     "text": [
      "       M    N   n   rho   model        R2         MSE\n",
      "0   5000  500   5  0.01  linreg  0.997495    1.101917\n",
      "1   5000  500   5  0.01     pcr  0.024885  428.943009\n",
      "2   5000  500   5  0.01     pls  0.997442    1.125453\n",
      "0   5000  500  50  0.01  linreg  0.997495    1.101917\n",
      "1   5000  500  50  0.01     pcr  0.095849  397.726742\n",
      "..   ...  ...  ..   ...     ...       ...         ...\n",
      "1     30   10   2  0.50     pcr  0.908459    2.370858\n",
      "2     30   10   2  0.50     pls  0.944995    1.424608\n",
      "0     30   10   5  0.50  linreg  0.937221    1.625953\n",
      "1     30   10   5  0.50     pcr  0.938292    1.598209\n",
      "2     30   10   5  0.50     pls  0.938079    1.603718\n",
      "\n",
      "[1152 rows x 7 columns]\n",
      "       M    N   n   rho   model        R2         MSE\n",
      "0   5000  500   5  0.01  linreg  0.997495    1.101917\n",
      "1   5000  500   5  0.01     pcr  0.024885  428.943009\n",
      "2   5000  500   5  0.01     pls  0.997442    1.125453\n",
      "0   5000  500  50  0.01  linreg  0.997495    1.101917\n",
      "1   5000  500  50  0.01     pcr  0.095849  397.726742\n",
      "..   ...  ...  ..   ...     ...       ...         ...\n",
      "1     30   10   5  0.50     pcr  0.938292    1.598209\n",
      "2     30   10   5  0.50     pls  0.938079    1.603718\n",
      "0     20   10   1  0.50  linreg  0.883787    3.009949\n",
      "1     20   10   1  0.50     pcr  0.915393    2.191350\n",
      "2     20   10   1  0.50     pls  0.925390    1.932426\n",
      "\n",
      "[1155 rows x 7 columns]\n",
      "       M    N   n   rho   model        R2         MSE\n",
      "0   5000  500   5  0.01  linreg  0.997495    1.101917\n",
      "1   5000  500   5  0.01     pcr  0.024885  428.943009\n",
      "2   5000  500   5  0.01     pls  0.997442    1.125453\n",
      "0   5000  500  50  0.01  linreg  0.997495    1.101917\n",
      "1   5000  500  50  0.01     pcr  0.095849  397.726742\n",
      "..   ...  ...  ..   ...     ...       ...         ...\n",
      "1     20   10   1  0.50     pcr  0.915393    2.191350\n",
      "2     20   10   1  0.50     pls  0.925390    1.932426\n",
      "0     20   10   2  0.50  linreg  0.883787    3.009949\n",
      "1     20   10   2  0.50     pcr  0.929556    1.824521\n",
      "2     20   10   2  0.50     pls  0.934519    1.695969\n",
      "\n",
      "[1158 rows x 7 columns]\n",
      "       M    N   n   rho   model        R2         MSE\n",
      "0   5000  500   5  0.01  linreg  0.997495    1.101917\n",
      "1   5000  500   5  0.01     pcr  0.024885  428.943009\n",
      "2   5000  500   5  0.01     pls  0.997442    1.125453\n",
      "0   5000  500  50  0.01  linreg  0.997495    1.101917\n",
      "1   5000  500  50  0.01     pcr  0.095849  397.726742\n",
      "..   ...  ...  ..   ...     ...       ...         ...\n",
      "1     20   10   2  0.50     pcr  0.929556    1.824521\n",
      "2     20   10   2  0.50     pls  0.934519    1.695969\n",
      "0     20   10   5  0.50  linreg  0.883787    3.009949\n",
      "1     20   10   5  0.50     pcr  0.937388    1.621656\n",
      "2     20   10   5  0.50     pls  0.895995    2.693751\n",
      "\n",
      "[1161 rows x 7 columns]\n",
      "       M    N   n   rho   model        R2         MSE\n",
      "0   5000  500   5  0.01  linreg  0.997495    1.101917\n",
      "1   5000  500   5  0.01     pcr  0.024885  428.943009\n",
      "2   5000  500   5  0.01     pls  0.997442    1.125453\n",
      "0   5000  500  50  0.01  linreg  0.997495    1.101917\n",
      "1   5000  500  50  0.01     pcr  0.095849  397.726742\n",
      "..   ...  ...  ..   ...     ...       ...         ...\n",
      "1     20   10   5  0.50     pcr  0.937388    1.621656\n",
      "2     20   10   5  0.50     pls  0.895995    2.693751\n",
      "0     10   10   1  0.50  linreg  0.814597    4.802109\n",
      "1     10   10   1  0.50     pcr  0.904501    2.473505\n",
      "2     10   10   1  0.50     pls  0.924123    1.965281\n",
      "\n",
      "[1164 rows x 7 columns]\n",
      "       M    N   n   rho   model        R2         MSE\n",
      "0   5000  500   5  0.01  linreg  0.997495    1.101917\n",
      "1   5000  500   5  0.01     pcr  0.024885  428.943009\n",
      "2   5000  500   5  0.01     pls  0.997442    1.125453\n",
      "0   5000  500  50  0.01  linreg  0.997495    1.101917\n",
      "1   5000  500  50  0.01     pcr  0.095849  397.726742\n",
      "..   ...  ...  ..   ...     ...       ...         ...\n",
      "1     10   10   1  0.50     pcr  0.904501    2.473505\n",
      "2     10   10   1  0.50     pls  0.924123    1.965281\n",
      "0     10   10   2  0.50  linreg  0.814597    4.802109\n",
      "1     10   10   2  0.50     pcr  0.905507    2.447449\n",
      "2     10   10   2  0.50     pls  0.917254    2.143212\n",
      "\n",
      "[1167 rows x 7 columns]\n"
     ]
    },
    {
     "name": "stderr",
     "output_type": "stream",
     "text": [
      " 60%|██████    | 3/5 [15:41<07:56, 238.32s/it, N=10, linreg=0.825, pcr=0.775, pls=0.782, rho=0.9]"
     ]
    },
    {
     "name": "stdout",
     "output_type": "stream",
     "text": [
      "       M    N   n   rho   model        R2         MSE\n",
      "0   5000  500   5  0.01  linreg  0.997495    1.101917\n",
      "1   5000  500   5  0.01     pcr  0.024885  428.943009\n",
      "2   5000  500   5  0.01     pls  0.997442    1.125453\n",
      "0   5000  500  50  0.01  linreg  0.997495    1.101917\n",
      "1   5000  500  50  0.01     pcr  0.095849  397.726742\n",
      "..   ...  ...  ..   ...     ...       ...         ...\n",
      "1     10   10   2  0.50     pcr  0.905507    2.447449\n",
      "2     10   10   2  0.50     pls  0.917254    2.143212\n",
      "0     10   10   5  0.50  linreg  0.814597    4.802109\n",
      "1     10   10   5  0.50     pcr  0.885328    2.970106\n",
      "2     10   10   5  0.50     pls  0.832893    4.328237\n",
      "\n",
      "[1170 rows x 7 columns]\n",
      "       M    N   n   rho   model        R2         MSE\n",
      "0   5000  500   5  0.01  linreg  0.997495    1.101917\n",
      "1   5000  500   5  0.01     pcr  0.024885  428.943009\n",
      "2   5000  500   5  0.01     pls  0.997442    1.125453\n",
      "0   5000  500  50  0.01  linreg  0.997495    1.101917\n",
      "1   5000  500  50  0.01     pcr  0.095849  397.726742\n",
      "..   ...  ...  ..   ...     ...       ...         ...\n",
      "1     10   10   5  0.50     pcr  0.885328    2.970106\n",
      "2     10   10   5  0.50     pls  0.832893    4.328237\n",
      "0    100   10   1  0.90  linreg  0.862364    1.132122\n",
      "1    100   10   1  0.90     pcr  0.798176    1.660100\n",
      "2    100   10   1  0.90     pls  0.800210    1.643372\n",
      "\n",
      "[1173 rows x 7 columns]\n",
      "       M    N   n   rho   model        R2         MSE\n",
      "0   5000  500   5  0.01  linreg  0.997495    1.101917\n",
      "1   5000  500   5  0.01     pcr  0.024885  428.943009\n",
      "2   5000  500   5  0.01     pls  0.997442    1.125453\n",
      "0   5000  500  50  0.01  linreg  0.997495    1.101917\n",
      "1   5000  500  50  0.01     pcr  0.095849  397.726742\n",
      "..   ...  ...  ..   ...     ...       ...         ...\n",
      "1    100   10   1  0.90     pcr  0.798176    1.660100\n",
      "2    100   10   1  0.90     pls  0.800210    1.643372\n",
      "0    100   10   2  0.90  linreg  0.862364    1.132122\n",
      "1    100   10   2  0.90     pcr  0.807942    1.579766\n",
      "2    100   10   2  0.90     pls  0.860024    1.151368\n",
      "\n",
      "[1176 rows x 7 columns]\n",
      "       M    N   n   rho   model        R2         MSE\n",
      "0   5000  500   5  0.01  linreg  0.997495    1.101917\n",
      "1   5000  500   5  0.01     pcr  0.024885  428.943009\n",
      "2   5000  500   5  0.01     pls  0.997442    1.125453\n",
      "0   5000  500  50  0.01  linreg  0.997495    1.101917\n",
      "1   5000  500  50  0.01     pcr  0.095849  397.726742\n",
      "..   ...  ...  ..   ...     ...       ...         ...\n",
      "1    100   10   2  0.90     pcr  0.807942    1.579766\n",
      "2    100   10   2  0.90     pls  0.860024    1.151368\n",
      "0    100   10   5  0.90  linreg  0.862364    1.132122\n",
      "1    100   10   5  0.90     pcr  0.833265    1.371476\n",
      "2    100   10   5  0.90     pls  0.862355    1.132197\n",
      "\n",
      "[1179 rows x 7 columns]\n",
      "       M    N   n   rho   model        R2         MSE\n",
      "0   5000  500   5  0.01  linreg  0.997495    1.101917\n",
      "1   5000  500   5  0.01     pcr  0.024885  428.943009\n",
      "2   5000  500   5  0.01     pls  0.997442    1.125453\n",
      "0   5000  500  50  0.01  linreg  0.997495    1.101917\n",
      "1   5000  500  50  0.01     pcr  0.095849  397.726742\n",
      "..   ...  ...  ..   ...     ...       ...         ...\n",
      "1    100   10   5  0.90     pcr  0.833265    1.371476\n",
      "2    100   10   5  0.90     pls  0.862355    1.132197\n",
      "0     50   10   1  0.90  linreg  0.855673    1.187236\n",
      "1     50   10   1  0.90     pcr  0.778276    1.823904\n",
      "2     50   10   1  0.90     pls  0.783635    1.779820\n",
      "\n",
      "[1182 rows x 7 columns]\n",
      "       M    N   n   rho   model        R2         MSE\n",
      "0   5000  500   5  0.01  linreg  0.997495    1.101917\n",
      "1   5000  500   5  0.01     pcr  0.024885  428.943009\n",
      "2   5000  500   5  0.01     pls  0.997442    1.125453\n",
      "0   5000  500  50  0.01  linreg  0.997495    1.101917\n",
      "1   5000  500  50  0.01     pcr  0.095849  397.726742\n",
      "..   ...  ...  ..   ...     ...       ...         ...\n",
      "1     50   10   1  0.90     pcr  0.778276    1.823904\n",
      "2     50   10   1  0.90     pls  0.783635    1.779820\n",
      "0     50   10   2  0.90  linreg  0.855673    1.187236\n",
      "1     50   10   2  0.90     pcr  0.803947    1.612735\n",
      "2     50   10   2  0.90     pls  0.843322    1.288834\n",
      "\n",
      "[1185 rows x 7 columns]\n",
      "       M    N   n   rho   model        R2         MSE\n",
      "0   5000  500   5  0.01  linreg  0.997495    1.101917\n",
      "1   5000  500   5  0.01     pcr  0.024885  428.943009\n",
      "2   5000  500   5  0.01     pls  0.997442    1.125453\n",
      "0   5000  500  50  0.01  linreg  0.997495    1.101917\n",
      "1   5000  500  50  0.01     pcr  0.095849  397.726742\n",
      "..   ...  ...  ..   ...     ...       ...         ...\n",
      "1     50   10   2  0.90     pcr  0.803947    1.612735\n",
      "2     50   10   2  0.90     pls  0.843322    1.288834\n",
      "0     50   10   5  0.90  linreg  0.855673    1.187236\n",
      "1     50   10   5  0.90     pcr  0.823506    1.451844\n",
      "2     50   10   5  0.90     pls  0.855873    1.185591\n",
      "\n",
      "[1188 rows x 7 columns]\n"
     ]
    },
    {
     "name": "stderr",
     "output_type": "stream",
     "text": [
      " 60%|██████    | 3/5 [15:41<07:56, 238.32s/it, N=10, linreg=0.761, pcr=0.806, pls=0.808, rho=0.9]"
     ]
    },
    {
     "name": "stdout",
     "output_type": "stream",
     "text": [
      "       M    N   n   rho   model        R2         MSE\n",
      "0   5000  500   5  0.01  linreg  0.997495    1.101917\n",
      "1   5000  500   5  0.01     pcr  0.024885  428.943009\n",
      "2   5000  500   5  0.01     pls  0.997442    1.125453\n",
      "0   5000  500  50  0.01  linreg  0.997495    1.101917\n",
      "1   5000  500  50  0.01     pcr  0.095849  397.726742\n",
      "..   ...  ...  ..   ...     ...       ...         ...\n",
      "1     50   10   5  0.90     pcr  0.823506    1.451844\n",
      "2     50   10   5  0.90     pls  0.855873    1.185591\n",
      "0     30   10   1  0.90  linreg  0.825429    1.435910\n",
      "1     30   10   1  0.90     pcr  0.774862    1.851840\n",
      "2     30   10   1  0.90     pls  0.782214    1.791369\n",
      "\n",
      "[1191 rows x 7 columns]\n",
      "       M    N   n   rho   model        R2         MSE\n",
      "0   5000  500   5  0.01  linreg  0.997495    1.101917\n",
      "1   5000  500   5  0.01     pcr  0.024885  428.943009\n",
      "2   5000  500   5  0.01     pls  0.997442    1.125453\n",
      "0   5000  500  50  0.01  linreg  0.997495    1.101917\n",
      "1   5000  500  50  0.01     pcr  0.095849  397.726742\n",
      "..   ...  ...  ..   ...     ...       ...         ...\n",
      "1     30   10   1  0.90     pcr  0.774862    1.851840\n",
      "2     30   10   1  0.90     pls  0.782214    1.791369\n",
      "0     30   10   2  0.90  linreg  0.825429    1.435910\n",
      "1     30   10   2  0.90     pcr  0.796219    1.676173\n",
      "2     30   10   2  0.90     pls  0.836208    1.347244\n",
      "\n",
      "[1194 rows x 7 columns]\n",
      "       M    N   n   rho   model        R2         MSE\n",
      "0   5000  500   5  0.01  linreg  0.997495    1.101917\n",
      "1   5000  500   5  0.01     pcr  0.024885  428.943009\n",
      "2   5000  500   5  0.01     pls  0.997442    1.125453\n",
      "0   5000  500  50  0.01  linreg  0.997495    1.101917\n",
      "1   5000  500  50  0.01     pcr  0.095849  397.726742\n",
      "..   ...  ...  ..   ...     ...       ...         ...\n",
      "1     30   10   2  0.90     pcr  0.796219    1.676173\n",
      "2     30   10   2  0.90     pls  0.836208    1.347244\n",
      "0     30   10   5  0.90  linreg  0.825429    1.435910\n",
      "1     30   10   5  0.90     pcr  0.826190    1.429649\n",
      "2     30   10   5  0.90     pls  0.826263    1.429051\n",
      "\n",
      "[1197 rows x 7 columns]\n",
      "       M    N   n   rho   model        R2         MSE\n",
      "0   5000  500   5  0.01  linreg  0.997495    1.101917\n",
      "1   5000  500   5  0.01     pcr  0.024885  428.943009\n",
      "2   5000  500   5  0.01     pls  0.997442    1.125453\n",
      "0   5000  500  50  0.01  linreg  0.997495    1.101917\n",
      "1   5000  500  50  0.01     pcr  0.095849  397.726742\n",
      "..   ...  ...  ..   ...     ...       ...         ...\n",
      "1     30   10   5  0.90     pcr  0.826190    1.429649\n",
      "2     30   10   5  0.90     pls  0.826263    1.429051\n",
      "0     20   10   1  0.90  linreg  0.761218    1.964090\n",
      "1     20   10   1  0.90     pcr  0.742595    2.117278\n",
      "2     20   10   1  0.90     pls  0.756346    2.004168\n",
      "\n",
      "[1200 rows x 7 columns]\n"
     ]
    },
    {
     "name": "stderr",
     "output_type": "stream",
     "text": [
      " 60%|██████    | 3/5 [15:42<07:56, 238.32s/it, N=10, linreg=-19.1, pcr=0.797, pls=0.777, rho=0.9]"
     ]
    },
    {
     "name": "stdout",
     "output_type": "stream",
     "text": [
      "       M    N   n   rho   model        R2         MSE\n",
      "0   5000  500   5  0.01  linreg  0.997495    1.101917\n",
      "1   5000  500   5  0.01     pcr  0.024885  428.943009\n",
      "2   5000  500   5  0.01     pls  0.997442    1.125453\n",
      "0   5000  500  50  0.01  linreg  0.997495    1.101917\n",
      "1   5000  500  50  0.01     pcr  0.095849  397.726742\n",
      "..   ...  ...  ..   ...     ...       ...         ...\n",
      "1     20   10   1  0.90     pcr  0.742595    2.117278\n",
      "2     20   10   1  0.90     pls  0.756346    2.004168\n",
      "0     20   10   2  0.90  linreg  0.761218    1.964090\n",
      "1     20   10   2  0.90     pcr  0.806235    1.593807\n",
      "2     20   10   2  0.90     pls  0.807592    1.582641\n",
      "\n",
      "[1203 rows x 7 columns]\n",
      "       M    N   n   rho   model        R2         MSE\n",
      "0   5000  500   5  0.01  linreg  0.997495    1.101917\n",
      "1   5000  500   5  0.01     pcr  0.024885  428.943009\n",
      "2   5000  500   5  0.01     pls  0.997442    1.125453\n",
      "0   5000  500  50  0.01  linreg  0.997495    1.101917\n",
      "1   5000  500  50  0.01     pcr  0.095849  397.726742\n",
      "..   ...  ...  ..   ...     ...       ...         ...\n",
      "1     20   10   2  0.90     pcr  0.806235    1.593807\n",
      "2     20   10   2  0.90     pls  0.807592    1.582641\n",
      "0     20   10   5  0.90  linreg  0.761218    1.964090\n",
      "1     20   10   5  0.90     pcr  0.808631    1.574101\n",
      "2     20   10   5  0.90     pls  0.759767    1.976026\n",
      "\n",
      "[1206 rows x 7 columns]\n",
      "       M    N   n   rho   model         R2         MSE\n",
      "0   5000  500   5  0.01  linreg   0.997495    1.101917\n",
      "1   5000  500   5  0.01     pcr   0.024885  428.943009\n",
      "2   5000  500   5  0.01     pls   0.997442    1.125453\n",
      "0   5000  500  50  0.01  linreg   0.997495    1.101917\n",
      "1   5000  500  50  0.01     pcr   0.095849  397.726742\n",
      "..   ...  ...  ..   ...     ...        ...         ...\n",
      "1     20   10   5  0.90     pcr   0.808631    1.574101\n",
      "2     20   10   5  0.90     pls   0.759767    1.976026\n",
      "0     10   10   1  0.90  linreg -19.090637  165.247363\n",
      "1     10   10   1  0.90     pcr   0.718416    2.316054\n",
      "2     10   10   1  0.90     pls   0.736838    2.164535\n",
      "\n",
      "[1209 rows x 7 columns]\n",
      "       M    N   n   rho   model         R2         MSE\n",
      "0   5000  500   5  0.01  linreg   0.997495    1.101917\n",
      "1   5000  500   5  0.01     pcr   0.024885  428.943009\n",
      "2   5000  500   5  0.01     pls   0.997442    1.125453\n",
      "0   5000  500  50  0.01  linreg   0.997495    1.101917\n",
      "1   5000  500  50  0.01     pcr   0.095849  397.726742\n",
      "..   ...  ...  ..   ...     ...        ...         ...\n",
      "1     10   10   1  0.90     pcr   0.718416    2.316054\n",
      "2     10   10   1  0.90     pls   0.736838    2.164535\n",
      "0     10   10   2  0.90  linreg -19.090637  165.247363\n",
      "1     10   10   2  0.90     pcr   0.812594    1.541431\n",
      "2     10   10   2  0.90     pls   0.799152    1.651993\n",
      "\n",
      "[1212 rows x 7 columns]\n"
     ]
    },
    {
     "name": "stderr",
     "output_type": "stream",
     "text": [
      " 60%|██████    | 3/5 [15:42<07:56, 238.32s/it, N=10, linreg=0.0335, pcr=0.17, pls=0.17, rho=0.99] "
     ]
    },
    {
     "name": "stdout",
     "output_type": "stream",
     "text": [
      "       M    N   n   rho   model         R2         MSE\n",
      "0   5000  500   5  0.01  linreg   0.997495    1.101917\n",
      "1   5000  500   5  0.01     pcr   0.024885  428.943009\n",
      "2   5000  500   5  0.01     pls   0.997442    1.125453\n",
      "0   5000  500  50  0.01  linreg   0.997495    1.101917\n",
      "1   5000  500  50  0.01     pcr   0.095849  397.726742\n",
      "..   ...  ...  ..   ...     ...        ...         ...\n",
      "1     10   10   2  0.90     pcr   0.812594    1.541431\n",
      "2     10   10   2  0.90     pls   0.799152    1.651993\n",
      "0     10   10   5  0.90  linreg -19.090637  165.247363\n",
      "1     10   10   5  0.90     pcr   0.797440    1.666073\n",
      "2     10   10   5  0.90     pls   0.777203    1.832527\n",
      "\n",
      "[1215 rows x 7 columns]\n",
      "       M    N   n   rho   model        R2         MSE\n",
      "0   5000  500   5  0.01  linreg  0.997495    1.101917\n",
      "1   5000  500   5  0.01     pcr  0.024885  428.943009\n",
      "2   5000  500   5  0.01     pls  0.997442    1.125453\n",
      "0   5000  500  50  0.01  linreg  0.997495    1.101917\n",
      "1   5000  500  50  0.01     pcr  0.095849  397.726742\n",
      "..   ...  ...  ..   ...     ...       ...         ...\n",
      "1     10   10   5  0.90     pcr  0.797440    1.666073\n",
      "2     10   10   5  0.90     pls  0.777203    1.832527\n",
      "0    100   10   1  0.99  linreg  0.180506    1.066345\n",
      "1    100   10   1  0.99     pcr  0.197401    1.044361\n",
      "2    100   10   1  0.99     pls  0.197543    1.044177\n",
      "\n",
      "[1218 rows x 7 columns]\n",
      "       M    N   n   rho   model        R2         MSE\n",
      "0   5000  500   5  0.01  linreg  0.997495    1.101917\n",
      "1   5000  500   5  0.01     pcr  0.024885  428.943009\n",
      "2   5000  500   5  0.01     pls  0.997442    1.125453\n",
      "0   5000  500  50  0.01  linreg  0.997495    1.101917\n",
      "1   5000  500  50  0.01     pcr  0.095849  397.726742\n",
      "..   ...  ...  ..   ...     ...       ...         ...\n",
      "1    100   10   1  0.99     pcr  0.197401    1.044361\n",
      "2    100   10   1  0.99     pls  0.197543    1.044177\n",
      "0    100   10   2  0.99  linreg  0.180506    1.066345\n",
      "1    100   10   2  0.99     pcr  0.185829    1.059419\n",
      "2    100   10   2  0.99     pls  0.188158    1.056388\n",
      "\n",
      "[1221 rows x 7 columns]\n",
      "       M    N   n   rho   model        R2         MSE\n",
      "0   5000  500   5  0.01  linreg  0.997495    1.101917\n",
      "1   5000  500   5  0.01     pcr  0.024885  428.943009\n",
      "2   5000  500   5  0.01     pls  0.997442    1.125453\n",
      "0   5000  500  50  0.01  linreg  0.997495    1.101917\n",
      "1   5000  500  50  0.01     pcr  0.095849  397.726742\n",
      "..   ...  ...  ..   ...     ...       ...         ...\n",
      "1    100   10   2  0.99     pcr  0.185829    1.059419\n",
      "2    100   10   2  0.99     pls  0.188158    1.056388\n",
      "0    100   10   5  0.99  linreg  0.180506    1.066345\n",
      "1    100   10   5  0.99     pcr  0.197217    1.044600\n",
      "2    100   10   5  0.99     pls  0.180585    1.066242\n",
      "\n",
      "[1224 rows x 7 columns]\n",
      "       M    N   n   rho   model        R2         MSE\n",
      "0   5000  500   5  0.01  linreg  0.997495    1.101917\n",
      "1   5000  500   5  0.01     pcr  0.024885  428.943009\n",
      "2   5000  500   5  0.01     pls  0.997442    1.125453\n",
      "0   5000  500  50  0.01  linreg  0.997495    1.101917\n",
      "1   5000  500  50  0.01     pcr  0.095849  397.726742\n",
      "..   ...  ...  ..   ...     ...       ...         ...\n",
      "1    100   10   5  0.99     pcr  0.197217    1.044600\n",
      "2    100   10   5  0.99     pls  0.180585    1.066242\n",
      "0     50   10   1  0.99  linreg  0.033481    1.257546\n",
      "1     50   10   1  0.99     pcr  0.169650    1.080375\n",
      "2     50   10   1  0.99     pls  0.170001    1.079918\n",
      "\n",
      "[1227 rows x 7 columns]\n"
     ]
    },
    {
     "name": "stderr",
     "output_type": "stream",
     "text": [
      " 60%|██████    | 3/5 [15:42<07:56, 238.32s/it, N=10, linreg=-1.35, pcr=-.111, pls=-.117, rho=0.99]  "
     ]
    },
    {
     "name": "stdout",
     "output_type": "stream",
     "text": [
      "       M    N   n   rho   model        R2         MSE\n",
      "0   5000  500   5  0.01  linreg  0.997495    1.101917\n",
      "1   5000  500   5  0.01     pcr  0.024885  428.943009\n",
      "2   5000  500   5  0.01     pls  0.997442    1.125453\n",
      "0   5000  500  50  0.01  linreg  0.997495    1.101917\n",
      "1   5000  500  50  0.01     pcr  0.095849  397.726742\n",
      "..   ...  ...  ..   ...     ...       ...         ...\n",
      "1     50   10   1  0.99     pcr  0.169650    1.080375\n",
      "2     50   10   1  0.99     pls  0.170001    1.079918\n",
      "0     50   10   2  0.99  linreg  0.033481    1.257546\n",
      "1     50   10   2  0.99     pcr  0.171809    1.077566\n",
      "2     50   10   2  0.99     pls  0.089244    1.184992\n",
      "\n",
      "[1230 rows x 7 columns]\n",
      "       M    N   n   rho   model        R2         MSE\n",
      "0   5000  500   5  0.01  linreg  0.997495    1.101917\n",
      "1   5000  500   5  0.01     pcr  0.024885  428.943009\n",
      "2   5000  500   5  0.01     pls  0.997442    1.125453\n",
      "0   5000  500  50  0.01  linreg  0.997495    1.101917\n",
      "1   5000  500  50  0.01     pcr  0.095849  397.726742\n",
      "..   ...  ...  ..   ...     ...       ...         ...\n",
      "1     50   10   2  0.99     pcr  0.171809    1.077566\n",
      "2     50   10   2  0.99     pls  0.089244    1.184992\n",
      "0     50   10   5  0.99  linreg  0.033481    1.257546\n",
      "1     50   10   5  0.99     pcr  0.165978    1.085153\n",
      "2     50   10   5  0.99     pls  0.034067    1.256784\n",
      "\n",
      "[1233 rows x 7 columns]\n",
      "       M    N   n   rho   model        R2         MSE\n",
      "0   5000  500   5  0.01  linreg  0.997495    1.101917\n",
      "1   5000  500   5  0.01     pcr  0.024885  428.943009\n",
      "2   5000  500   5  0.01     pls  0.997442    1.125453\n",
      "0   5000  500  50  0.01  linreg  0.997495    1.101917\n",
      "1   5000  500  50  0.01     pcr  0.095849  397.726742\n",
      "..   ...  ...  ..   ...     ...       ...         ...\n",
      "1     50   10   5  0.99     pcr  0.165978    1.085153\n",
      "2     50   10   5  0.99     pls  0.034067    1.256784\n",
      "0     30   10   1  0.99  linreg -0.174278    1.527920\n",
      "1     30   10   1  0.99     pcr  0.095730    1.176597\n",
      "2     30   10   1  0.99     pls  0.097346    1.174495\n",
      "\n",
      "[1236 rows x 7 columns]\n",
      "       M    N   n   rho   model        R2         MSE\n",
      "0   5000  500   5  0.01  linreg  0.997495    1.101917\n",
      "1   5000  500   5  0.01     pcr  0.024885  428.943009\n",
      "2   5000  500   5  0.01     pls  0.997442    1.125453\n",
      "0   5000  500  50  0.01  linreg  0.997495    1.101917\n",
      "1   5000  500  50  0.01     pcr  0.095849  397.726742\n",
      "..   ...  ...  ..   ...     ...       ...         ...\n",
      "1     30   10   1  0.99     pcr  0.095730    1.176597\n",
      "2     30   10   1  0.99     pls  0.097346    1.174495\n",
      "0     30   10   2  0.99  linreg -0.174278    1.527920\n",
      "1     30   10   2  0.99     pcr  0.093880    1.179004\n",
      "2     30   10   2  0.99     pls -0.026053    1.335055\n",
      "\n",
      "[1239 rows x 7 columns]\n",
      "       M    N   n   rho   model        R2         MSE\n",
      "0   5000  500   5  0.01  linreg  0.997495    1.101917\n",
      "1   5000  500   5  0.01     pcr  0.024885  428.943009\n",
      "2   5000  500   5  0.01     pls  0.997442    1.125453\n",
      "0   5000  500  50  0.01  linreg  0.997495    1.101917\n",
      "1   5000  500  50  0.01     pcr  0.095849  397.726742\n",
      "..   ...  ...  ..   ...     ...       ...         ...\n",
      "1     30   10   2  0.99     pcr  0.093880    1.179004\n",
      "2     30   10   2  0.99     pls -0.026053    1.335055\n",
      "0     30   10   5  0.99  linreg -0.174278    1.527920\n",
      "1     30   10   5  0.99     pcr  0.089492    1.184713\n",
      "2     30   10   5  0.99     pls -0.160949    1.510576\n",
      "\n",
      "[1242 rows x 7 columns]\n"
     ]
    },
    {
     "name": "stderr",
     "output_type": "stream",
     "text": [
      " 80%|████████  | 4/5 [15:42<02:25, 145.92s/it, N=5, linreg=0.707, pcr=-.00199, pls=0.643, rho=0.01]"
     ]
    },
    {
     "name": "stdout",
     "output_type": "stream",
     "text": [
      "       M    N   n   rho   model        R2         MSE\n",
      "0   5000  500   5  0.01  linreg  0.997495    1.101917\n",
      "1   5000  500   5  0.01     pcr  0.024885  428.943009\n",
      "2   5000  500   5  0.01     pls  0.997442    1.125453\n",
      "0   5000  500  50  0.01  linreg  0.997495    1.101917\n",
      "1   5000  500  50  0.01     pcr  0.095849  397.726742\n",
      "..   ...  ...  ..   ...     ...       ...         ...\n",
      "1     30   10   5  0.99     pcr  0.089492    1.184713\n",
      "2     30   10   5  0.99     pls -0.160949    1.510576\n",
      "0     20   10   1  0.99  linreg -1.345314    3.051541\n",
      "1     20   10   1  0.99     pcr -0.110811    1.445301\n",
      "2     20   10   1  0.99     pls -0.116657    1.452908\n",
      "\n",
      "[1245 rows x 7 columns]\n",
      "       M    N   n   rho   model        R2         MSE\n",
      "0   5000  500   5  0.01  linreg  0.997495    1.101917\n",
      "1   5000  500   5  0.01     pcr  0.024885  428.943009\n",
      "2   5000  500   5  0.01     pls  0.997442    1.125453\n",
      "0   5000  500  50  0.01  linreg  0.997495    1.101917\n",
      "1   5000  500  50  0.01     pcr  0.095849  397.726742\n",
      "..   ...  ...  ..   ...     ...       ...         ...\n",
      "1     20   10   1  0.99     pcr -0.110811    1.445301\n",
      "2     20   10   1  0.99     pls -0.116657    1.452908\n",
      "0     20   10   2  0.99  linreg -1.345314    3.051541\n",
      "1     20   10   2  0.99     pcr -0.134445    1.476052\n",
      "2     20   10   2  0.99     pls -0.099934    1.431149\n",
      "\n",
      "[1248 rows x 7 columns]\n",
      "       M    N   n   rho   model        R2         MSE\n",
      "0   5000  500   5  0.01  linreg  0.997495    1.101917\n",
      "1   5000  500   5  0.01     pcr  0.024885  428.943009\n",
      "2   5000  500   5  0.01     pls  0.997442    1.125453\n",
      "0   5000  500  50  0.01  linreg  0.997495    1.101917\n",
      "1   5000  500  50  0.01     pcr  0.095849  397.726742\n",
      "..   ...  ...  ..   ...     ...       ...         ...\n",
      "1     20   10   2  0.99     pcr -0.134445    1.476052\n",
      "2     20   10   2  0.99     pls -0.099934    1.431149\n",
      "0     20   10   5  0.99  linreg -1.345314    3.051541\n",
      "1     20   10   5  0.99     pcr -0.133612    1.474968\n",
      "2     20   10   5  0.99     pls -1.086879    2.715285\n",
      "\n",
      "[1251 rows x 7 columns]\n",
      "       M    N   n   rho   model          R2         MSE\n",
      "0   5000  500   5  0.01  linreg    0.997495    1.101917\n",
      "1   5000  500   5  0.01     pcr    0.024885  428.943009\n",
      "2   5000  500   5  0.01     pls    0.997442    1.125453\n",
      "0   5000  500  50  0.01  linreg    0.997495    1.101917\n",
      "1   5000  500  50  0.01     pcr    0.095849  397.726742\n",
      "..   ...  ...  ..   ...     ...         ...         ...\n",
      "1     20   10   5  0.99     pcr   -0.133612    1.474968\n",
      "2     20   10   5  0.99     pls   -1.086879    2.715285\n",
      "0     10   10   1  0.99  linreg -285.225411  372.397424\n",
      "1     10   10   1  0.99     pcr    0.131922    1.129424\n",
      "2     10   10   1  0.99     pls    0.131088    1.130510\n",
      "\n",
      "[1254 rows x 7 columns]\n",
      "       M    N   n   rho   model          R2         MSE\n",
      "0   5000  500   5  0.01  linreg    0.997495    1.101917\n",
      "1   5000  500   5  0.01     pcr    0.024885  428.943009\n",
      "2   5000  500   5  0.01     pls    0.997442    1.125453\n",
      "0   5000  500  50  0.01  linreg    0.997495    1.101917\n",
      "1   5000  500  50  0.01     pcr    0.095849  397.726742\n",
      "..   ...  ...  ..   ...     ...         ...         ...\n",
      "1     10   10   1  0.99     pcr    0.131922    1.129424\n",
      "2     10   10   1  0.99     pls    0.131088    1.130510\n",
      "0     10   10   2  0.99  linreg -285.225411  372.397424\n",
      "1     10   10   2  0.99     pcr    0.143219    1.114727\n",
      "2     10   10   2  0.99     pls   -0.019599    1.326563\n",
      "\n",
      "[1257 rows x 7 columns]\n",
      "       M    N   n   rho   model          R2         MSE\n",
      "0   5000  500   5  0.01  linreg    0.997495    1.101917\n",
      "1   5000  500   5  0.01     pcr    0.024885  428.943009\n",
      "2   5000  500   5  0.01     pls    0.997442    1.125453\n",
      "0   5000  500  50  0.01  linreg    0.997495    1.101917\n",
      "1   5000  500  50  0.01     pcr    0.095849  397.726742\n",
      "..   ...  ...  ..   ...     ...         ...         ...\n",
      "1     10   10   2  0.99     pcr    0.143219    1.114727\n",
      "2     10   10   2  0.99     pls   -0.019599    1.326563\n",
      "0     10   10   5  0.99  linreg -285.225411  372.397424\n",
      "1     10   10   5  0.99     pcr    0.039884    1.249172\n",
      "2     10   10   5  0.99     pls   -0.303168    1.695505\n",
      "\n",
      "[1260 rows x 7 columns]\n"
     ]
    },
    {
     "name": "stderr",
     "output_type": "stream",
     "text": [
      " 80%|████████  | 4/5 [15:43<02:25, 145.92s/it, N=5, linreg=0.562, pcr=0.126, pls=0.464, rho=0.01]  "
     ]
    },
    {
     "name": "stdout",
     "output_type": "stream",
     "text": [
      "       M    N   n   rho   model        R2         MSE\n",
      "0   5000  500   5  0.01  linreg  0.997495    1.101917\n",
      "1   5000  500   5  0.01     pcr  0.024885  428.943009\n",
      "2   5000  500   5  0.01     pls  0.997442    1.125453\n",
      "0   5000  500  50  0.01  linreg  0.997495    1.101917\n",
      "1   5000  500  50  0.01     pcr  0.095849  397.726742\n",
      "..   ...  ...  ..   ...     ...       ...         ...\n",
      "1     10   10   5  0.99     pcr  0.039884    1.249172\n",
      "2     10   10   5  0.99     pls -0.303168    1.695505\n",
      "0     50    5   1  0.01  linreg  0.707109    1.175543\n",
      "1     50    5   1  0.01     pcr -0.001994    4.021585\n",
      "2     50    5   1  0.01     pls  0.643247    1.431857\n",
      "\n",
      "[1263 rows x 7 columns]\n",
      "       M    N   n   rho   model        R2         MSE\n",
      "0   5000  500   5  0.01  linreg  0.997495    1.101917\n",
      "1   5000  500   5  0.01     pcr  0.024885  428.943009\n",
      "2   5000  500   5  0.01     pls  0.997442    1.125453\n",
      "0   5000  500  50  0.01  linreg  0.997495    1.101917\n",
      "1   5000  500  50  0.01     pcr  0.095849  397.726742\n",
      "..   ...  ...  ..   ...     ...       ...         ...\n",
      "1     50    5   1  0.01     pcr -0.001994    4.021585\n",
      "2     50    5   1  0.01     pls  0.643247    1.431857\n",
      "0     50    5   2  0.01  linreg  0.707109    1.175543\n",
      "1     50    5   2  0.01     pcr  0.318044    2.737085\n",
      "2     50    5   2  0.01     pls  0.689009    1.248189\n",
      "\n",
      "[1266 rows x 7 columns]\n",
      "       M    N   n   rho   model        R2         MSE\n",
      "0   5000  500   5  0.01  linreg  0.997495    1.101917\n",
      "1   5000  500   5  0.01     pcr  0.024885  428.943009\n",
      "2   5000  500   5  0.01     pls  0.997442    1.125453\n",
      "0   5000  500  50  0.01  linreg  0.997495    1.101917\n",
      "1   5000  500  50  0.01     pcr  0.095849  397.726742\n",
      "..   ...  ...  ..   ...     ...       ...         ...\n",
      "1     50    5   2  0.01     pcr  0.318044    2.737085\n",
      "2     50    5   2  0.01     pls  0.689009    1.248189\n",
      "0     25    5   1  0.01  linreg  0.701590    1.197731\n",
      "1     25    5   1  0.01     pcr  0.034970    3.873355\n",
      "2     25    5   1  0.01     pls  0.639188    1.448197\n",
      "\n",
      "[1269 rows x 7 columns]\n",
      "       M    N   n   rho   model        R2         MSE\n",
      "0   5000  500   5  0.01  linreg  0.997495    1.101917\n",
      "1   5000  500   5  0.01     pcr  0.024885  428.943009\n",
      "2   5000  500   5  0.01     pls  0.997442    1.125453\n",
      "0   5000  500  50  0.01  linreg  0.997495    1.101917\n",
      "1   5000  500  50  0.01     pcr  0.095849  397.726742\n",
      "..   ...  ...  ..   ...     ...       ...         ...\n",
      "1     25    5   1  0.01     pcr  0.034970    3.873355\n",
      "2     25    5   1  0.01     pls  0.639188    1.448197\n",
      "0     25    5   2  0.01  linreg  0.701590    1.197731\n",
      "1     25    5   2  0.01     pcr  0.319787    2.730179\n",
      "2     25    5   2  0.01     pls  0.648809    1.409581\n",
      "\n",
      "[1272 rows x 7 columns]\n",
      "       M    N   n   rho   model        R2         MSE\n",
      "0   5000  500   5  0.01  linreg  0.997495    1.101917\n",
      "1   5000  500   5  0.01     pcr  0.024885  428.943009\n",
      "2   5000  500   5  0.01     pls  0.997442    1.125453\n",
      "0   5000  500  50  0.01  linreg  0.997495    1.101917\n",
      "1   5000  500  50  0.01     pcr  0.095849  397.726742\n",
      "..   ...  ...  ..   ...     ...       ...         ...\n",
      "1     25    5   2  0.01     pcr  0.319787    2.730179\n",
      "2     25    5   2  0.01     pls  0.648809    1.409581\n",
      "0     15    5   1  0.01  linreg  0.561798    1.758842\n",
      "1     15    5   1  0.01     pcr -0.002741    4.024769\n",
      "2     15    5   1  0.01     pls  0.333363    2.675727\n",
      "\n",
      "[1275 rows x 7 columns]\n"
     ]
    },
    {
     "name": "stderr",
     "output_type": "stream",
     "text": [
      " 80%|████████  | 4/5 [15:43<02:25, 145.92s/it, N=5, linreg=0.0397, pcr=0.406, pls=0.0974, rho=0.01]"
     ]
    },
    {
     "name": "stdout",
     "output_type": "stream",
     "text": [
      "       M    N   n   rho   model        R2         MSE\n",
      "0   5000  500   5  0.01  linreg  0.997495    1.101917\n",
      "1   5000  500   5  0.01     pcr  0.024885  428.943009\n",
      "2   5000  500   5  0.01     pls  0.997442    1.125453\n",
      "0   5000  500  50  0.01  linreg  0.997495    1.101917\n",
      "1   5000  500  50  0.01     pcr  0.095849  397.726742\n",
      "..   ...  ...  ..   ...     ...       ...         ...\n",
      "1     15    5   1  0.01     pcr -0.002741    4.024769\n",
      "2     15    5   1  0.01     pls  0.333363    2.675727\n",
      "0     15    5   2  0.01  linreg  0.561798    1.758842\n",
      "1     15    5   2  0.01     pcr  0.125771    3.508953\n",
      "2     15    5   2  0.01     pls  0.464429    2.149657\n",
      "\n",
      "[1278 rows x 7 columns]\n",
      "       M    N   n   rho   model        R2         MSE\n",
      "0   5000  500   5  0.01  linreg  0.997495    1.101917\n",
      "1   5000  500   5  0.01     pcr  0.024885  428.943009\n",
      "2   5000  500   5  0.01     pls  0.997442    1.125453\n",
      "0   5000  500  50  0.01  linreg  0.997495    1.101917\n",
      "1   5000  500  50  0.01     pcr  0.095849  397.726742\n",
      "..   ...  ...  ..   ...     ...       ...         ...\n",
      "1     15    5   2  0.01     pcr  0.125771    3.508953\n",
      "2     15    5   2  0.01     pls  0.464429    2.149657\n",
      "0     10    5   1  0.01  linreg  0.429254    2.290755\n",
      "1     10    5   1  0.01     pcr -0.008111    4.046172\n",
      "2     10    5   1  0.01     pls  0.339091    2.652634\n",
      "\n",
      "[1281 rows x 7 columns]\n",
      "       M    N   n   rho   model        R2         MSE\n",
      "0   5000  500   5  0.01  linreg  0.997495    1.101917\n",
      "1   5000  500   5  0.01     pcr  0.024885  428.943009\n",
      "2   5000  500   5  0.01     pls  0.997442    1.125453\n",
      "0   5000  500  50  0.01  linreg  0.997495    1.101917\n",
      "1   5000  500  50  0.01     pcr  0.095849  397.726742\n",
      "..   ...  ...  ..   ...     ...       ...         ...\n",
      "1     10    5   1  0.01     pcr -0.008111    4.046172\n",
      "2     10    5   1  0.01     pls  0.339091    2.652634\n",
      "0     10    5   2  0.01  linreg  0.429254    2.290755\n",
      "1     10    5   2  0.01     pcr  0.177884    3.299660\n",
      "2     10    5   2  0.01     pls  0.406069    2.383811\n",
      "\n",
      "[1284 rows x 7 columns]\n",
      "       M    N   n   rho   model        R2         MSE\n",
      "0   5000  500   5  0.01  linreg  0.997495    1.101917\n",
      "1   5000  500   5  0.01     pcr  0.024885  428.943009\n",
      "2   5000  500   5  0.01     pls  0.997442    1.125453\n",
      "0   5000  500  50  0.01  linreg  0.997495    1.101917\n",
      "1   5000  500  50  0.01     pcr  0.095849  397.726742\n",
      "..   ...  ...  ..   ...     ...       ...         ...\n",
      "1     10    5   2  0.01     pcr  0.177884    3.299660\n",
      "2     10    5   2  0.01     pls  0.406069    2.383811\n",
      "0      5    5   1  0.01  linreg  0.039727    3.854126\n",
      "1      5    5   1  0.01     pcr  0.021951    3.925470\n",
      "2      5    5   1  0.01     pls -0.072606    4.304980\n",
      "\n",
      "[1287 rows x 7 columns]\n"
     ]
    },
    {
     "name": "stderr",
     "output_type": "stream",
     "text": [
      " 80%|████████  | 4/5 [15:43<02:25, 145.92s/it, N=5, linreg=0.814, pcr=0.0342, pls=0.689, rho=0.1]  "
     ]
    },
    {
     "name": "stdout",
     "output_type": "stream",
     "text": [
      "       M    N   n   rho   model        R2         MSE\n",
      "0   5000  500   5  0.01  linreg  0.997495    1.101917\n",
      "1   5000  500   5  0.01     pcr  0.024885  428.943009\n",
      "2   5000  500   5  0.01     pls  0.997442    1.125453\n",
      "0   5000  500  50  0.01  linreg  0.997495    1.101917\n",
      "1   5000  500  50  0.01     pcr  0.095849  397.726742\n",
      "..   ...  ...  ..   ...     ...       ...         ...\n",
      "1      5    5   1  0.01     pcr  0.021951    3.925470\n",
      "2      5    5   1  0.01     pls -0.072606    4.304980\n",
      "0      5    5   2  0.01  linreg  0.039727    3.854126\n",
      "1      5    5   2  0.01     pcr  0.406316    2.382795\n",
      "2      5    5   2  0.01     pls  0.097375    3.622751\n",
      "\n",
      "[1290 rows x 7 columns]\n",
      "       M    N   n   rho   model        R2         MSE\n",
      "0   5000  500   5  0.01  linreg  0.997495    1.101917\n",
      "1   5000  500   5  0.01     pcr  0.024885  428.943009\n",
      "2   5000  500   5  0.01     pls  0.997442    1.125453\n",
      "0   5000  500  50  0.01  linreg  0.997495    1.101917\n",
      "1   5000  500  50  0.01     pcr  0.095849  397.726742\n",
      "..   ...  ...  ..   ...     ...       ...         ...\n",
      "1      5    5   2  0.01     pcr  0.406316    2.382795\n",
      "2      5    5   2  0.01     pls  0.097375    3.622751\n",
      "0     50    5   1  0.10  linreg  0.829929    1.178944\n",
      "1     50    5   1  0.10     pcr  0.031489    6.713802\n",
      "2     50    5   1  0.10     pls  0.836887    1.130714\n",
      "\n",
      "[1293 rows x 7 columns]\n",
      "       M    N   n   rho   model        R2         MSE\n",
      "0   5000  500   5  0.01  linreg  0.997495    1.101917\n",
      "1   5000  500   5  0.01     pcr  0.024885  428.943009\n",
      "2   5000  500   5  0.01     pls  0.997442    1.125453\n",
      "0   5000  500  50  0.01  linreg  0.997495    1.101917\n",
      "1   5000  500  50  0.01     pcr  0.095849  397.726742\n",
      "..   ...  ...  ..   ...     ...       ...         ...\n",
      "1     50    5   1  0.10     pcr  0.031489    6.713802\n",
      "2     50    5   1  0.10     pls  0.836887    1.130714\n",
      "0     50    5   2  0.10  linreg  0.829929    1.178944\n",
      "1     50    5   2  0.10     pcr  0.208768    5.484887\n",
      "2     50    5   2  0.10     pls  0.831488    1.168141\n",
      "\n",
      "[1296 rows x 7 columns]\n"
     ]
    },
    {
     "name": "stderr",
     "output_type": "stream",
     "text": [
      " 80%|████████  | 4/5 [15:44<02:25, 145.92s/it, N=5, linreg=-.806, pcr=0.0397, pls=-.17, rho=0.1] "
     ]
    },
    {
     "name": "stdout",
     "output_type": "stream",
     "text": [
      "       M    N   n   rho   model        R2         MSE\n",
      "0   5000  500   5  0.01  linreg  0.997495    1.101917\n",
      "1   5000  500   5  0.01     pcr  0.024885  428.943009\n",
      "2   5000  500   5  0.01     pls  0.997442    1.125453\n",
      "0   5000  500  50  0.01  linreg  0.997495    1.101917\n",
      "1   5000  500  50  0.01     pcr  0.095849  397.726742\n",
      "..   ...  ...  ..   ...     ...       ...         ...\n",
      "1     50    5   2  0.10     pcr  0.208768    5.484887\n",
      "2     50    5   2  0.10     pls  0.831488    1.168141\n",
      "0     25    5   1  0.10  linreg  0.813948    1.289635\n",
      "1     25    5   1  0.10     pcr  0.034246    6.694189\n",
      "2     25    5   1  0.10     pls  0.688760    2.157382\n",
      "\n",
      "[1299 rows x 7 columns]\n",
      "       M    N   n   rho   model        R2         MSE\n",
      "0   5000  500   5  0.01  linreg  0.997495    1.101917\n",
      "1   5000  500   5  0.01     pcr  0.024885  428.943009\n",
      "2   5000  500   5  0.01     pls  0.997442    1.125453\n",
      "0   5000  500  50  0.01  linreg  0.997495    1.101917\n",
      "1   5000  500  50  0.01     pcr  0.095849  397.726742\n",
      "..   ...  ...  ..   ...     ...       ...         ...\n",
      "1     25    5   1  0.10     pcr  0.034246    6.694189\n",
      "2     25    5   1  0.10     pls  0.688760    2.157382\n",
      "0     25    5   2  0.10  linreg  0.813948    1.289635\n",
      "1     25    5   2  0.10     pcr  0.560529    3.046221\n",
      "2     25    5   2  0.10     pls  0.780724    1.519929\n",
      "\n",
      "[1302 rows x 7 columns]\n",
      "       M    N   n   rho   model        R2         MSE\n",
      "0   5000  500   5  0.01  linreg  0.997495    1.101917\n",
      "1   5000  500   5  0.01     pcr  0.024885  428.943009\n",
      "2   5000  500   5  0.01     pls  0.997442    1.125453\n",
      "0   5000  500  50  0.01  linreg  0.997495    1.101917\n",
      "1   5000  500  50  0.01     pcr  0.095849  397.726742\n",
      "..   ...  ...  ..   ...     ...       ...         ...\n",
      "1     25    5   2  0.10     pcr  0.560529    3.046221\n",
      "2     25    5   2  0.10     pls  0.780724    1.519929\n",
      "0     15    5   1  0.10  linreg  0.792410    1.438990\n",
      "1     15    5   1  0.10     pcr  0.073961    6.419205\n",
      "2     15    5   1  0.10     pls  0.604214    2.743544\n",
      "\n",
      "[1305 rows x 7 columns]\n",
      "       M    N   n   rho   model        R2         MSE\n",
      "0   5000  500   5  0.01  linreg  0.997495    1.101917\n",
      "1   5000  500   5  0.01     pcr  0.024885  428.943009\n",
      "2   5000  500   5  0.01     pls  0.997442    1.125453\n",
      "0   5000  500  50  0.01  linreg  0.997495    1.101917\n",
      "1   5000  500  50  0.01     pcr  0.095849  397.726742\n",
      "..   ...  ...  ..   ...     ...       ...         ...\n",
      "1     15    5   1  0.10     pcr  0.073961    6.419205\n",
      "2     15    5   1  0.10     pls  0.604214    2.743544\n",
      "0     15    5   2  0.10  linreg  0.792410    1.438990\n",
      "1     15    5   2  0.10     pcr  0.305483    4.814318\n",
      "2     15    5   2  0.10     pls  0.668680    2.296677\n",
      "\n",
      "[1308 rows x 7 columns]\n",
      "       M    N   n   rho   model        R2         MSE\n",
      "0   5000  500   5  0.01  linreg  0.997495    1.101917\n",
      "1   5000  500   5  0.01     pcr  0.024885  428.943009\n",
      "2   5000  500   5  0.01     pls  0.997442    1.125453\n",
      "0   5000  500  50  0.01  linreg  0.997495    1.101917\n",
      "1   5000  500  50  0.01     pcr  0.095849  397.726742\n",
      "..   ...  ...  ..   ...     ...       ...         ...\n",
      "1     15    5   2  0.10     pcr  0.305483    4.814318\n",
      "2     15    5   2  0.10     pls  0.668680    2.296677\n",
      "0     10    5   1  0.10  linreg  0.432649    3.932794\n",
      "1     10    5   1  0.10     pcr  0.013333    6.839427\n",
      "2     10    5   1  0.10     pls  0.094999    6.273336\n",
      "\n",
      "[1311 rows x 7 columns]\n",
      "       M    N   n   rho   model        R2         MSE\n",
      "0   5000  500   5  0.01  linreg  0.997495    1.101917\n",
      "1   5000  500   5  0.01     pcr  0.024885  428.943009\n",
      "2   5000  500   5  0.01     pls  0.997442    1.125453\n",
      "0   5000  500  50  0.01  linreg  0.997495    1.101917\n",
      "1   5000  500  50  0.01     pcr  0.095849  397.726742\n",
      "..   ...  ...  ..   ...     ...       ...         ...\n",
      "1     10    5   1  0.10     pcr  0.013333    6.839427\n",
      "2     10    5   1  0.10     pls  0.094999    6.273336\n",
      "0     10    5   2  0.10  linreg  0.432649    3.932794\n",
      "1     10    5   2  0.10     pcr  0.180986    5.677285\n",
      "2     10    5   2  0.10     pls  0.189156    5.620652\n",
      "\n",
      "[1314 rows x 7 columns]\n",
      "       M    N   n   rho   model        R2         MSE\n",
      "0   5000  500   5  0.01  linreg  0.997495    1.101917\n",
      "1   5000  500   5  0.01     pcr  0.024885  428.943009\n",
      "2   5000  500   5  0.01     pls  0.997442    1.125453\n",
      "0   5000  500  50  0.01  linreg  0.997495    1.101917\n",
      "1   5000  500  50  0.01     pcr  0.095849  397.726742\n",
      "..   ...  ...  ..   ...     ...       ...         ...\n",
      "1     10    5   2  0.10     pcr  0.180986    5.677285\n",
      "2     10    5   2  0.10     pls  0.189156    5.620652\n",
      "0      5    5   1  0.10  linreg -0.806108   12.519346\n",
      "1      5    5   1  0.10     pcr -0.056688    7.324610\n",
      "2      5    5   1  0.10     pls -0.148107    7.958299\n",
      "\n",
      "[1317 rows x 7 columns]\n"
     ]
    },
    {
     "name": "stderr",
     "output_type": "stream",
     "text": [
      " 80%|████████  | 4/5 [15:44<02:25, 145.92s/it, N=5, linreg=0.552, pcr=0.0918, pls=0.608, rho=0.2]"
     ]
    },
    {
     "name": "stdout",
     "output_type": "stream",
     "text": [
      "       M    N   n   rho   model        R2         MSE\n",
      "0   5000  500   5  0.01  linreg  0.997495    1.101917\n",
      "1   5000  500   5  0.01     pcr  0.024885  428.943009\n",
      "2   5000  500   5  0.01     pls  0.997442    1.125453\n",
      "0   5000  500  50  0.01  linreg  0.997495    1.101917\n",
      "1   5000  500  50  0.01     pcr  0.095849  397.726742\n",
      "..   ...  ...  ..   ...     ...       ...         ...\n",
      "1      5    5   1  0.10     pcr -0.056688    7.324610\n",
      "2      5    5   1  0.10     pls -0.148107    7.958299\n",
      "0      5    5   2  0.10  linreg -0.806108   12.519346\n",
      "1      5    5   2  0.10     pcr  0.039673    6.656669\n",
      "2      5    5   2  0.10     pls -0.169769    8.108455\n",
      "\n",
      "[1320 rows x 7 columns]\n",
      "       M    N   n   rho   model        R2         MSE\n",
      "0   5000  500   5  0.01  linreg  0.997495    1.101917\n",
      "1   5000  500   5  0.01     pcr  0.024885  428.943009\n",
      "2   5000  500   5  0.01     pls  0.997442    1.125453\n",
      "0   5000  500  50  0.01  linreg  0.997495    1.101917\n",
      "1   5000  500  50  0.01     pcr  0.095849  397.726742\n",
      "..   ...  ...  ..   ...     ...       ...         ...\n",
      "1      5    5   2  0.10     pcr  0.039673    6.656669\n",
      "2      5    5   2  0.10     pls -0.169769    8.108455\n",
      "0     50    5   1  0.20  linreg  0.655755    1.097569\n",
      "1     50    5   1  0.20     pcr  0.146000    2.722837\n",
      "2     50    5   1  0.20     pls  0.678309    1.025657\n",
      "\n",
      "[1323 rows x 7 columns]\n",
      "       M    N   n   rho   model        R2         MSE\n",
      "0   5000  500   5  0.01  linreg  0.997495    1.101917\n",
      "1   5000  500   5  0.01     pcr  0.024885  428.943009\n",
      "2   5000  500   5  0.01     pls  0.997442    1.125453\n",
      "0   5000  500  50  0.01  linreg  0.997495    1.101917\n",
      "1   5000  500  50  0.01     pcr  0.095849  397.726742\n",
      "..   ...  ...  ..   ...     ...       ...         ...\n",
      "1     50    5   1  0.20     pcr  0.146000    2.722837\n",
      "2     50    5   1  0.20     pls  0.678309    1.025657\n",
      "0     50    5   2  0.20  linreg  0.655755    1.097569\n",
      "1     50    5   2  0.20     pcr  0.308168    2.205791\n",
      "2     50    5   2  0.20     pls  0.659820    1.084606\n",
      "\n",
      "[1326 rows x 7 columns]\n"
     ]
    },
    {
     "name": "stderr",
     "output_type": "stream",
     "text": [
      " 80%|████████  | 4/5 [15:44<02:25, 145.92s/it, N=5, linreg=-8.8, pcr=0.118, pls=0.461, rho=0.2]  "
     ]
    },
    {
     "name": "stdout",
     "output_type": "stream",
     "text": [
      "       M    N   n   rho   model        R2         MSE\n",
      "0   5000  500   5  0.01  linreg  0.997495    1.101917\n",
      "1   5000  500   5  0.01     pcr  0.024885  428.943009\n",
      "2   5000  500   5  0.01     pls  0.997442    1.125453\n",
      "0   5000  500  50  0.01  linreg  0.997495    1.101917\n",
      "1   5000  500  50  0.01     pcr  0.095849  397.726742\n",
      "..   ...  ...  ..   ...     ...       ...         ...\n",
      "1     50    5   2  0.20     pcr  0.308168    2.205791\n",
      "2     50    5   2  0.20     pls  0.659820    1.084606\n",
      "0     25    5   1  0.20  linreg  0.551710    1.429205\n",
      "1     25    5   1  0.20     pcr  0.091815    2.895406\n",
      "2     25    5   1  0.20     pls  0.607943    1.249928\n",
      "\n",
      "[1329 rows x 7 columns]\n",
      "       M    N   n   rho   model        R2         MSE\n",
      "0   5000  500   5  0.01  linreg  0.997495    1.101917\n",
      "1   5000  500   5  0.01     pcr  0.024885  428.943009\n",
      "2   5000  500   5  0.01     pls  0.997442    1.125453\n",
      "0   5000  500  50  0.01  linreg  0.997495    1.101917\n",
      "1   5000  500  50  0.01     pcr  0.095849  397.726742\n",
      "..   ...  ...  ..   ...     ...       ...         ...\n",
      "1     25    5   1  0.20     pcr  0.091815    2.895406\n",
      "2     25    5   1  0.20     pls  0.607943    1.249928\n",
      "0     25    5   2  0.20  linreg  0.551710    1.429205\n",
      "1     25    5   2  0.20     pcr  0.371538    2.003616\n",
      "2     25    5   2  0.20     pls  0.591058    1.303760\n",
      "\n",
      "[1332 rows x 7 columns]\n",
      "       M    N   n   rho   model        R2         MSE\n",
      "0   5000  500   5  0.01  linreg  0.997495    1.101917\n",
      "1   5000  500   5  0.01     pcr  0.024885  428.943009\n",
      "2   5000  500   5  0.01     pls  0.997442    1.125453\n",
      "0   5000  500  50  0.01  linreg  0.997495    1.101917\n",
      "1   5000  500  50  0.01     pcr  0.095849  397.726742\n",
      "..   ...  ...  ..   ...     ...       ...         ...\n",
      "1     25    5   2  0.20     pcr  0.371538    2.003616\n",
      "2     25    5   2  0.20     pls  0.591058    1.303760\n",
      "0     15    5   1  0.20  linreg -0.232081    3.928148\n",
      "1     15    5   1  0.20     pcr  0.071603    2.959936\n",
      "2     15    5   1  0.20     pls  0.198763    2.554520\n",
      "\n",
      "[1335 rows x 7 columns]\n",
      "       M    N   n   rho   model        R2         MSE\n",
      "0   5000  500   5  0.01  linreg  0.997495    1.101917\n",
      "1   5000  500   5  0.01     pcr  0.024885  428.943009\n",
      "2   5000  500   5  0.01     pls  0.997442    1.125453\n",
      "0   5000  500  50  0.01  linreg  0.997495    1.101917\n",
      "1   5000  500  50  0.01     pcr  0.095849  397.726742\n",
      "..   ...  ...  ..   ...     ...       ...         ...\n",
      "1     15    5   1  0.20     pcr  0.071603    2.959936\n",
      "2     15    5   1  0.20     pls  0.198763    2.554520\n",
      "0     15    5   2  0.20  linreg -0.232081    3.928148\n",
      "1     15    5   2  0.20     pcr  0.171944    2.640027\n",
      "2     15    5   2  0.20     pls  0.545267    1.449790\n",
      "\n",
      "[1338 rows x 7 columns]\n",
      "       M    N   n   rho   model        R2         MSE\n",
      "0   5000  500   5  0.01  linreg  0.997495    1.101917\n",
      "1   5000  500   5  0.01     pcr  0.024885  428.943009\n",
      "2   5000  500   5  0.01     pls  0.997442    1.125453\n",
      "0   5000  500  50  0.01  linreg  0.997495    1.101917\n",
      "1   5000  500  50  0.01     pcr  0.095849  397.726742\n",
      "..   ...  ...  ..   ...     ...       ...         ...\n",
      "1     15    5   2  0.20     pcr  0.171944    2.640027\n",
      "2     15    5   2  0.20     pls  0.545267    1.449790\n",
      "0     10    5   1  0.20  linreg -8.803355   31.255336\n",
      "1     10    5   1  0.20     pcr  0.046659    3.039468\n",
      "2     10    5   1  0.20     pls  0.078658    2.937449\n",
      "\n",
      "[1341 rows x 7 columns]\n"
     ]
    },
    {
     "name": "stderr",
     "output_type": "stream",
     "text": [
      " 80%|████████  | 4/5 [15:44<02:25, 145.92s/it, N=5, linreg=0.722, pcr=0.683, pls=0.817, rho=0.5]"
     ]
    },
    {
     "name": "stdout",
     "output_type": "stream",
     "text": [
      "       M    N   n   rho   model        R2         MSE\n",
      "0   5000  500   5  0.01  linreg  0.997495    1.101917\n",
      "1   5000  500   5  0.01     pcr  0.024885  428.943009\n",
      "2   5000  500   5  0.01     pls  0.997442    1.125453\n",
      "0   5000  500  50  0.01  linreg  0.997495    1.101917\n",
      "1   5000  500  50  0.01     pcr  0.095849  397.726742\n",
      "..   ...  ...  ..   ...     ...       ...         ...\n",
      "1     10    5   1  0.20     pcr  0.046659    3.039468\n",
      "2     10    5   1  0.20     pls  0.078658    2.937449\n",
      "0     10    5   2  0.20  linreg -8.803355   31.255336\n",
      "1     10    5   2  0.20     pcr  0.117677    2.813048\n",
      "2     10    5   2  0.20     pls  0.461030    1.718360\n",
      "\n",
      "[1344 rows x 7 columns]\n",
      "       M    N   n   rho   model        R2         MSE\n",
      "0   5000  500   5  0.01  linreg  0.997495    1.101917\n",
      "1   5000  500   5  0.01     pcr  0.024885  428.943009\n",
      "2   5000  500   5  0.01     pls  0.997442    1.125453\n",
      "0   5000  500  50  0.01  linreg  0.997495    1.101917\n",
      "1   5000  500  50  0.01     pcr  0.095849  397.726742\n",
      "..   ...  ...  ..   ...     ...       ...         ...\n",
      "1     10    5   2  0.20     pcr  0.117677    2.813048\n",
      "2     10    5   2  0.20     pls  0.461030    1.718360\n",
      "0      5    5   1  0.20  linreg -1.242694    7.150516\n",
      "1      5    5   1  0.20     pcr -0.616225    5.153106\n",
      "2      5    5   1  0.20     pls -1.347347    7.484189\n",
      "\n",
      "[1347 rows x 7 columns]\n",
      "       M    N   n   rho   model        R2         MSE\n",
      "0   5000  500   5  0.01  linreg  0.997495    1.101917\n",
      "1   5000  500   5  0.01     pcr  0.024885  428.943009\n",
      "2   5000  500   5  0.01     pls  0.997442    1.125453\n",
      "0   5000  500  50  0.01  linreg  0.997495    1.101917\n",
      "1   5000  500  50  0.01     pcr  0.095849  397.726742\n",
      "..   ...  ...  ..   ...     ...       ...         ...\n",
      "1      5    5   1  0.20     pcr -0.616225    5.153106\n",
      "2      5    5   1  0.20     pls -1.347347    7.484189\n",
      "0      5    5   2  0.20  linreg -1.242694    7.150516\n",
      "1      5    5   2  0.20     pcr -0.716973    5.474327\n",
      "2      5    5   2  0.20     pls -1.431403    7.752189\n",
      "\n",
      "[1350 rows x 7 columns]\n",
      "       M    N   n   rho   model        R2         MSE\n",
      "0   5000  500   5  0.01  linreg  0.997495    1.101917\n",
      "1   5000  500   5  0.01     pcr  0.024885  428.943009\n",
      "2   5000  500   5  0.01     pls  0.997442    1.125453\n",
      "0   5000  500  50  0.01  linreg  0.997495    1.101917\n",
      "1   5000  500  50  0.01     pcr  0.095849  397.726742\n",
      "..   ...  ...  ..   ...     ...       ...         ...\n",
      "1      5    5   2  0.20     pcr -0.716973    5.474327\n",
      "2      5    5   2  0.20     pls -1.431403    7.752189\n",
      "0     50    5   1  0.50  linreg  0.839950    1.177499\n",
      "1     50    5   1  0.50     pcr  0.485190    3.787505\n",
      "2     50    5   1  0.50     pls  0.559549    3.240436\n",
      "\n",
      "[1353 rows x 7 columns]\n",
      "       M    N   n   rho   model        R2         MSE\n",
      "0   5000  500   5  0.01  linreg  0.997495    1.101917\n",
      "1   5000  500   5  0.01     pcr  0.024885  428.943009\n",
      "2   5000  500   5  0.01     pls  0.997442    1.125453\n",
      "0   5000  500  50  0.01  linreg  0.997495    1.101917\n",
      "1   5000  500  50  0.01     pcr  0.095849  397.726742\n",
      "..   ...  ...  ..   ...     ...       ...         ...\n",
      "1     50    5   1  0.50     pcr  0.485190    3.787505\n",
      "2     50    5   1  0.50     pls  0.559549    3.240436\n",
      "0     50    5   2  0.50  linreg  0.839950    1.177499\n",
      "1     50    5   2  0.50     pcr  0.626131    2.750589\n",
      "2     50    5   2  0.50     pls  0.823962    1.295124\n",
      "\n",
      "[1356 rows x 7 columns]\n",
      "       M    N   n   rho   model        R2         MSE\n",
      "0   5000  500   5  0.01  linreg  0.997495    1.101917\n",
      "1   5000  500   5  0.01     pcr  0.024885  428.943009\n",
      "2   5000  500   5  0.01     pls  0.997442    1.125453\n",
      "0   5000  500  50  0.01  linreg  0.997495    1.101917\n",
      "1   5000  500  50  0.01     pcr  0.095849  397.726742\n",
      "..   ...  ...  ..   ...     ...       ...         ...\n",
      "1     50    5   2  0.50     pcr  0.626131    2.750589\n",
      "2     50    5   2  0.50     pls  0.823962    1.295124\n",
      "0     25    5   1  0.50  linreg  0.812999    1.375775\n",
      "1     25    5   1  0.50     pcr  0.450037    4.046094\n",
      "2     25    5   1  0.50     pls  0.443491    4.094249\n",
      "\n",
      "[1359 rows x 7 columns]\n",
      "       M    N   n   rho   model        R2         MSE\n",
      "0   5000  500   5  0.01  linreg  0.997495    1.101917\n",
      "1   5000  500   5  0.01     pcr  0.024885  428.943009\n",
      "2   5000  500   5  0.01     pls  0.997442    1.125453\n",
      "0   5000  500  50  0.01  linreg  0.997495    1.101917\n",
      "1   5000  500  50  0.01     pcr  0.095849  397.726742\n",
      "..   ...  ...  ..   ...     ...       ...         ...\n",
      "1     25    5   1  0.50     pcr  0.450037    4.046094\n",
      "2     25    5   1  0.50     pls  0.443491    4.094249\n",
      "0     25    5   2  0.50  linreg  0.812999    1.375775\n",
      "1     25    5   2  0.50     pcr  0.468472    3.910465\n",
      "2     25    5   2  0.50     pls  0.836522    1.202711\n",
      "\n",
      "[1362 rows x 7 columns]\n",
      "       M    N   n   rho   model        R2         MSE\n",
      "0   5000  500   5  0.01  linreg  0.997495    1.101917\n",
      "1   5000  500   5  0.01     pcr  0.024885  428.943009\n",
      "2   5000  500   5  0.01     pls  0.997442    1.125453\n",
      "0   5000  500  50  0.01  linreg  0.997495    1.101917\n",
      "1   5000  500  50  0.01     pcr  0.095849  397.726742\n",
      "..   ...  ...  ..   ...     ...       ...         ...\n",
      "1     25    5   2  0.50     pcr  0.468472    3.910465\n",
      "2     25    5   2  0.50     pls  0.836522    1.202711\n",
      "0     15    5   1  0.50  linreg  0.721569    2.048374\n",
      "1     15    5   1  0.50     pcr  0.452926    4.024747\n",
      "2     15    5   1  0.50     pls  0.445850    4.076804\n",
      "\n",
      "[1365 rows x 7 columns]\n"
     ]
    },
    {
     "name": "stderr",
     "output_type": "stream",
     "text": [
      " 80%|████████  | 4/5 [15:44<02:25, 145.92s/it, N=5, linreg=0.6, pcr=0.68, pls=0.711, rho=0.5]   "
     ]
    },
    {
     "name": "stdout",
     "output_type": "stream",
     "text": [
      "       M    N   n   rho   model        R2         MSE\n",
      "0   5000  500   5  0.01  linreg  0.997495    1.101917\n",
      "1   5000  500   5  0.01     pcr  0.024885  428.943009\n",
      "2   5000  500   5  0.01     pls  0.997442    1.125453\n",
      "0   5000  500  50  0.01  linreg  0.997495    1.101917\n",
      "1   5000  500  50  0.01     pcr  0.095849  397.726742\n",
      "..   ...  ...  ..   ...     ...       ...         ...\n",
      "1     15    5   1  0.50     pcr  0.452926    4.024747\n",
      "2     15    5   1  0.50     pls  0.445850    4.076804\n",
      "0     15    5   2  0.50  linreg  0.721569    2.048374\n",
      "1     15    5   2  0.50     pcr  0.682833    2.333350\n",
      "2     15    5   2  0.50     pls  0.817175    1.345017\n",
      "\n",
      "[1368 rows x 7 columns]\n",
      "       M    N   n   rho   model        R2         MSE\n",
      "0   5000  500   5  0.01  linreg  0.997495    1.101917\n",
      "1   5000  500   5  0.01     pcr  0.024885  428.943009\n",
      "2   5000  500   5  0.01     pls  0.997442    1.125453\n",
      "0   5000  500  50  0.01  linreg  0.997495    1.101917\n",
      "1   5000  500  50  0.01     pcr  0.095849  397.726742\n",
      "..   ...  ...  ..   ...     ...       ...         ...\n",
      "1     15    5   2  0.50     pcr  0.682833    2.333350\n",
      "2     15    5   2  0.50     pls  0.817175    1.345017\n",
      "0     10    5   1  0.50  linreg  0.599608    2.945702\n",
      "1     10    5   1  0.50     pcr  0.414893    4.304660\n",
      "2     10    5   1  0.50     pls  0.385570    4.520392\n",
      "\n",
      "[1371 rows x 7 columns]\n",
      "       M    N   n   rho   model        R2         MSE\n",
      "0   5000  500   5  0.01  linreg  0.997495    1.101917\n",
      "1   5000  500   5  0.01     pcr  0.024885  428.943009\n",
      "2   5000  500   5  0.01     pls  0.997442    1.125453\n",
      "0   5000  500  50  0.01  linreg  0.997495    1.101917\n",
      "1   5000  500  50  0.01     pcr  0.095849  397.726742\n",
      "..   ...  ...  ..   ...     ...       ...         ...\n",
      "1     10    5   1  0.50     pcr  0.414893    4.304660\n",
      "2     10    5   1  0.50     pls  0.385570    4.520392\n",
      "0     10    5   2  0.50  linreg  0.599608    2.945702\n",
      "1     10    5   2  0.50     pcr  0.680108    2.353462\n",
      "2     10    5   2  0.50     pls  0.711309    2.123909\n",
      "\n",
      "[1374 rows x 7 columns]\n"
     ]
    },
    {
     "name": "stderr",
     "output_type": "stream",
     "text": [
      " 80%|████████  | 4/5 [15:45<02:25, 145.92s/it, N=5, linreg=0.0337, pcr=0.122, pls=0.111, rho=0.9]     "
     ]
    },
    {
     "name": "stdout",
     "output_type": "stream",
     "text": [
      "       M    N   n   rho   model        R2         MSE\n",
      "0   5000  500   5  0.01  linreg  0.997495    1.101917\n",
      "1   5000  500   5  0.01     pcr  0.024885  428.943009\n",
      "2   5000  500   5  0.01     pls  0.997442    1.125453\n",
      "0   5000  500  50  0.01  linreg  0.997495    1.101917\n",
      "1   5000  500  50  0.01     pcr  0.095849  397.726742\n",
      "..   ...  ...  ..   ...     ...       ...         ...\n",
      "1     10    5   2  0.50     pcr  0.680108    2.353462\n",
      "2     10    5   2  0.50     pls  0.711309    2.123909\n",
      "0      5    5   1  0.50  linreg -0.530818   11.263188\n",
      "1      5    5   1  0.50     pcr  0.446628    4.071501\n",
      "2      5    5   1  0.50     pls  0.649432    2.579347\n",
      "\n",
      "[1377 rows x 7 columns]\n",
      "       M    N   n   rho   model        R2         MSE\n",
      "0   5000  500   5  0.01  linreg  0.997495    1.101917\n",
      "1   5000  500   5  0.01     pcr  0.024885  428.943009\n",
      "2   5000  500   5  0.01     pls  0.997442    1.125453\n",
      "0   5000  500  50  0.01  linreg  0.997495    1.101917\n",
      "1   5000  500  50  0.01     pcr  0.095849  397.726742\n",
      "..   ...  ...  ..   ...     ...       ...         ...\n",
      "1      5    5   1  0.50     pcr  0.446628    4.071501\n",
      "2      5    5   1  0.50     pls  0.649432    2.579347\n",
      "0      5    5   2  0.50  linreg -0.530818   11.263188\n",
      "1      5    5   2  0.50     pcr  0.619051    2.802884\n",
      "2      5    5   2  0.50     pls -0.056725    7.774987\n",
      "\n",
      "[1380 rows x 7 columns]\n",
      "       M    N   n   rho   model        R2         MSE\n",
      "0   5000  500   5  0.01  linreg  0.997495    1.101917\n",
      "1   5000  500   5  0.01     pcr  0.024885  428.943009\n",
      "2   5000  500   5  0.01     pls  0.997442    1.125453\n",
      "0   5000  500  50  0.01  linreg  0.997495    1.101917\n",
      "1   5000  500  50  0.01     pcr  0.095849  397.726742\n",
      "..   ...  ...  ..   ...     ...       ...         ...\n",
      "1      5    5   2  0.50     pcr  0.619051    2.802884\n",
      "2      5    5   2  0.50     pls -0.056725    7.774987\n",
      "0     50    5   1  0.90  linreg  0.140551    1.124323\n",
      "1     50    5   1  0.90     pcr  0.030043    1.268888\n",
      "2     50    5   1  0.90     pls  0.033602    1.264232\n",
      "\n",
      "[1383 rows x 7 columns]\n",
      "       M    N   n   rho   model        R2         MSE\n",
      "0   5000  500   5  0.01  linreg  0.997495    1.101917\n",
      "1   5000  500   5  0.01     pcr  0.024885  428.943009\n",
      "2   5000  500   5  0.01     pls  0.997442    1.125453\n",
      "0   5000  500  50  0.01  linreg  0.997495    1.101917\n",
      "1   5000  500  50  0.01     pcr  0.095849  397.726742\n",
      "..   ...  ...  ..   ...     ...       ...         ...\n",
      "1     50    5   1  0.90     pcr  0.030043    1.268888\n",
      "2     50    5   1  0.90     pls  0.033602    1.264232\n",
      "0     50    5   2  0.90  linreg  0.140551    1.124323\n",
      "1     50    5   2  0.90     pcr  0.178419    1.074784\n",
      "2     50    5   2  0.90     pls  0.212536    1.030153\n",
      "\n",
      "[1386 rows x 7 columns]\n",
      "       M    N   n   rho   model        R2         MSE\n",
      "0   5000  500   5  0.01  linreg  0.997495    1.101917\n",
      "1   5000  500   5  0.01     pcr  0.024885  428.943009\n",
      "2   5000  500   5  0.01     pls  0.997442    1.125453\n",
      "0   5000  500  50  0.01  linreg  0.997495    1.101917\n",
      "1   5000  500  50  0.01     pcr  0.095849  397.726742\n",
      "..   ...  ...  ..   ...     ...       ...         ...\n",
      "1     50    5   2  0.90     pcr  0.178419    1.074784\n",
      "2     50    5   2  0.90     pls  0.212536    1.030153\n",
      "0     25    5   1  0.90  linreg  0.033703    1.264179\n",
      "1     25    5   1  0.90     pcr -0.002608    1.311684\n",
      "2     25    5   1  0.90     pls  0.000522    1.307588\n",
      "\n",
      "[1389 rows x 7 columns]\n"
     ]
    },
    {
     "name": "stderr",
     "output_type": "stream",
     "text": [
      " 80%|████████  | 4/5 [15:45<02:25, 145.92s/it, N=5, linreg=-12.6, pcr=-.241, pls=-.448, rho=0.9]   "
     ]
    },
    {
     "name": "stdout",
     "output_type": "stream",
     "text": [
      "       M    N   n   rho   model        R2         MSE\n",
      "0   5000  500   5  0.01  linreg  0.997495    1.101917\n",
      "1   5000  500   5  0.01     pcr  0.024885  428.943009\n",
      "2   5000  500   5  0.01     pls  0.997442    1.125453\n",
      "0   5000  500  50  0.01  linreg  0.997495    1.101917\n",
      "1   5000  500  50  0.01     pcr  0.095849  397.726742\n",
      "..   ...  ...  ..   ...     ...       ...         ...\n",
      "1     25    5   1  0.90     pcr -0.002608    1.311684\n",
      "2     25    5   1  0.90     pls  0.000522    1.307588\n",
      "0     25    5   2  0.90  linreg  0.033703    1.264179\n",
      "1     25    5   2  0.90     pcr  0.121634    1.149141\n",
      "2     25    5   2  0.90     pls  0.110891    1.163196\n",
      "\n",
      "[1392 rows x 7 columns]\n",
      "       M    N   n   rho   model        R2         MSE\n",
      "0   5000  500   5  0.01  linreg  0.997495    1.101917\n",
      "1   5000  500   5  0.01     pcr  0.024885  428.943009\n",
      "2   5000  500   5  0.01     pls  0.997442    1.125453\n",
      "0   5000  500  50  0.01  linreg  0.997495    1.101917\n",
      "1   5000  500  50  0.01     pcr  0.095849  397.726742\n",
      "..   ...  ...  ..   ...     ...       ...         ...\n",
      "1     25    5   2  0.90     pcr  0.121634    1.149141\n",
      "2     25    5   2  0.90     pls  0.110891    1.163196\n",
      "0     15    5   1  0.90  linreg -0.938428    2.535971\n",
      "1     15    5   1  0.90     pcr  0.007728    1.298152\n",
      "2     15    5   1  0.90     pls  0.015119    1.288481\n",
      "\n",
      "[1395 rows x 7 columns]\n",
      "       M    N   n   rho   model        R2         MSE\n",
      "0   5000  500   5  0.01  linreg  0.997495    1.101917\n",
      "1   5000  500   5  0.01     pcr  0.024885  428.943009\n",
      "2   5000  500   5  0.01     pls  0.997442    1.125453\n",
      "0   5000  500  50  0.01  linreg  0.997495    1.101917\n",
      "1   5000  500  50  0.01     pcr  0.095849  397.726742\n",
      "..   ...  ...  ..   ...     ...       ...         ...\n",
      "1     15    5   1  0.90     pcr  0.007728    1.298152\n",
      "2     15    5   1  0.90     pls  0.015119    1.288481\n",
      "0     15    5   2  0.90  linreg -0.938428    2.535971\n",
      "1     15    5   2  0.90     pcr  0.116451    1.155913\n",
      "2     15    5   2  0.90     pls  0.099053    1.178674\n",
      "\n",
      "[1398 rows x 7 columns]\n",
      "       M    N   n   rho   model        R2         MSE\n",
      "0   5000  500   5  0.01  linreg  0.997495    1.101917\n",
      "1   5000  500   5  0.01     pcr  0.024885  428.943009\n",
      "2   5000  500   5  0.01     pls  0.997442    1.125453\n",
      "0   5000  500  50  0.01  linreg  0.997495    1.101917\n",
      "1   5000  500  50  0.01     pcr  0.095849  397.726742\n",
      "..   ...  ...  ..   ...     ...       ...         ...\n",
      "1     15    5   2  0.90     pcr  0.116451    1.155913\n",
      "2     15    5   2  0.90     pls  0.099053    1.178674\n",
      "0     10    5   1  0.90  linreg -1.290695    2.996855\n",
      "1     10    5   1  0.90     pcr -0.135623    1.485705\n",
      "2     10    5   1  0.90     pls -0.179368    1.542936\n",
      "\n",
      "[1401 rows x 7 columns]\n",
      "       M    N   n   rho   model        R2         MSE\n",
      "0   5000  500   5  0.01  linreg  0.997495    1.101917\n",
      "1   5000  500   5  0.01     pcr  0.024885  428.943009\n",
      "2   5000  500   5  0.01     pls  0.997442    1.125453\n",
      "0   5000  500  50  0.01  linreg  0.997495    1.101917\n",
      "1   5000  500  50  0.01     pcr  0.095849  397.726742\n",
      "..   ...  ...  ..   ...     ...       ...         ...\n",
      "1     10    5   1  0.90     pcr -0.135623    1.485705\n",
      "2     10    5   1  0.90     pls -0.179368    1.542936\n",
      "0     10    5   2  0.90  linreg -1.290695    2.996855\n",
      "1     10    5   2  0.90     pcr -0.032210    1.350413\n",
      "2     10    5   2  0.90     pls -0.217118    1.592323\n",
      "\n",
      "[1404 rows x 7 columns]\n",
      "       M    N   n   rho   model         R2         MSE\n",
      "0   5000  500   5  0.01  linreg   0.997495    1.101917\n",
      "1   5000  500   5  0.01     pcr   0.024885  428.943009\n",
      "2   5000  500   5  0.01     pls   0.997442    1.125453\n",
      "0   5000  500  50  0.01  linreg   0.997495    1.101917\n",
      "1   5000  500  50  0.01     pcr   0.095849  397.726742\n",
      "..   ...  ...  ..   ...     ...        ...         ...\n",
      "1     10    5   2  0.90     pcr  -0.032210    1.350413\n",
      "2     10    5   2  0.90     pls  -0.217118    1.592323\n",
      "0      5    5   1  0.90  linreg -12.647146   17.853842\n",
      "1      5    5   1  0.90     pcr  -0.520048    1.988598\n",
      "2      5    5   1  0.90     pls  -0.630056    2.132516\n",
      "\n",
      "[1407 rows x 7 columns]\n"
     ]
    },
    {
     "name": "stderr",
     "output_type": "stream",
     "text": [
      " 80%|████████  | 4/5 [15:45<02:25, 145.92s/it, N=5, linreg=-.00711, pcr=0.0363, pls=0.0364, rho=0.99]"
     ]
    },
    {
     "name": "stdout",
     "output_type": "stream",
     "text": [
      "       M    N   n   rho   model         R2         MSE\n",
      "0   5000  500   5  0.01  linreg   0.997495    1.101917\n",
      "1   5000  500   5  0.01     pcr   0.024885  428.943009\n",
      "2   5000  500   5  0.01     pls   0.997442    1.125453\n",
      "0   5000  500  50  0.01  linreg   0.997495    1.101917\n",
      "1   5000  500  50  0.01     pcr   0.095849  397.726742\n",
      "..   ...  ...  ..   ...     ...        ...         ...\n",
      "1      5    5   1  0.90     pcr  -0.520048    1.988598\n",
      "2      5    5   1  0.90     pls  -0.630056    2.132516\n",
      "0      5    5   2  0.90  linreg -12.647146   17.853842\n",
      "1      5    5   2  0.90     pcr  -0.240935    1.623450\n",
      "2      5    5   2  0.90     pls  -0.447742    1.894004\n",
      "\n",
      "[1410 rows x 7 columns]\n",
      "       M    N   n   rho   model        R2         MSE\n",
      "0   5000  500   5  0.01  linreg  0.997495    1.101917\n",
      "1   5000  500   5  0.01     pcr  0.024885  428.943009\n",
      "2   5000  500   5  0.01     pls  0.997442    1.125453\n",
      "0   5000  500  50  0.01  linreg  0.997495    1.101917\n",
      "1   5000  500  50  0.01     pcr  0.095849  397.726742\n",
      "..   ...  ...  ..   ...     ...       ...         ...\n",
      "1      5    5   2  0.90     pcr -0.240935    1.623450\n",
      "2      5    5   2  0.90     pls -0.447742    1.894004\n",
      "0     50    5   1  0.99  linreg -0.012507    1.145377\n",
      "1     50    5   1  0.99     pcr -0.045414    1.182602\n",
      "2     50    5   1  0.99     pls -0.045420    1.182609\n",
      "\n",
      "[1413 rows x 7 columns]\n",
      "       M    N   n   rho   model        R2         MSE\n",
      "0   5000  500   5  0.01  linreg  0.997495    1.101917\n",
      "1   5000  500   5  0.01     pcr  0.024885  428.943009\n",
      "2   5000  500   5  0.01     pls  0.997442    1.125453\n",
      "0   5000  500  50  0.01  linreg  0.997495    1.101917\n",
      "1   5000  500  50  0.01     pcr  0.095849  397.726742\n",
      "..   ...  ...  ..   ...     ...       ...         ...\n",
      "1     50    5   1  0.99     pcr -0.045414    1.182602\n",
      "2     50    5   1  0.99     pls -0.045420    1.182609\n",
      "0     50    5   2  0.99  linreg -0.012507    1.145377\n",
      "1     50    5   2  0.99     pcr -0.049903    1.187679\n",
      "2     50    5   2  0.99     pls -0.017846    1.151416\n",
      "\n",
      "[1416 rows x 7 columns]\n"
     ]
    },
    {
     "name": "stderr",
     "output_type": "stream",
     "text": [
      " 80%|████████  | 4/5 [15:46<02:25, 145.92s/it, N=5, linreg=-11.6, pcr=-1.19, pls=-1.3, rho=0.99]      "
     ]
    },
    {
     "name": "stdout",
     "output_type": "stream",
     "text": [
      "       M    N   n   rho   model        R2         MSE\n",
      "0   5000  500   5  0.01  linreg  0.997495    1.101917\n",
      "1   5000  500   5  0.01     pcr  0.024885  428.943009\n",
      "2   5000  500   5  0.01     pls  0.997442    1.125453\n",
      "0   5000  500  50  0.01  linreg  0.997495    1.101917\n",
      "1   5000  500  50  0.01     pcr  0.095849  397.726742\n",
      "..   ...  ...  ..   ...     ...       ...         ...\n",
      "1     50    5   2  0.99     pcr -0.049903    1.187679\n",
      "2     50    5   2  0.99     pls -0.017846    1.151416\n",
      "0     25    5   1  0.99  linreg -0.007109    1.139335\n",
      "1     25    5   1  0.99     pcr  0.036253    1.090279\n",
      "2     25    5   1  0.99     pls  0.036437    1.090072\n",
      "\n",
      "[1419 rows x 7 columns]\n",
      "       M    N   n   rho   model        R2         MSE\n",
      "0   5000  500   5  0.01  linreg  0.997495    1.101917\n",
      "1   5000  500   5  0.01     pcr  0.024885  428.943009\n",
      "2   5000  500   5  0.01     pls  0.997442    1.125453\n",
      "0   5000  500  50  0.01  linreg  0.997495    1.101917\n",
      "1   5000  500  50  0.01     pcr  0.095849  397.726742\n",
      "..   ...  ...  ..   ...     ...       ...         ...\n",
      "1     25    5   1  0.99     pcr  0.036253    1.090279\n",
      "2     25    5   1  0.99     pls  0.036437    1.090072\n",
      "0     25    5   2  0.99  linreg -0.007109    1.139335\n",
      "1     25    5   2  0.99     pcr  0.032311    1.094739\n",
      "2     25    5   2  0.99     pls  0.006482    1.123959\n",
      "\n",
      "[1422 rows x 7 columns]\n",
      "       M    N   n   rho   model        R2         MSE\n",
      "0   5000  500   5  0.01  linreg  0.997495    1.101917\n",
      "1   5000  500   5  0.01     pcr  0.024885  428.943009\n",
      "2   5000  500   5  0.01     pls  0.997442    1.125453\n",
      "0   5000  500  50  0.01  linreg  0.997495    1.101917\n",
      "1   5000  500  50  0.01     pcr  0.095849  397.726742\n",
      "..   ...  ...  ..   ...     ...       ...         ...\n",
      "1     25    5   2  0.99     pcr  0.032311    1.094739\n",
      "2     25    5   2  0.99     pls  0.006482    1.123959\n",
      "0     15    5   1  0.99  linreg -0.472985    1.666365\n",
      "1     15    5   1  0.99     pcr -0.042702    1.179592\n",
      "2     15    5   1  0.99     pls  0.006185    1.124287\n",
      "\n",
      "[1425 rows x 7 columns]\n",
      "       M    N   n   rho   model        R2         MSE\n",
      "0   5000  500   5  0.01  linreg  0.997495    1.101917\n",
      "1   5000  500   5  0.01     pcr  0.024885  428.943009\n",
      "2   5000  500   5  0.01     pls  0.997442    1.125453\n",
      "0   5000  500  50  0.01  linreg  0.997495    1.101917\n",
      "1   5000  500  50  0.01     pcr  0.095849  397.726742\n",
      "..   ...  ...  ..   ...     ...       ...         ...\n",
      "1     15    5   1  0.99     pcr -0.042702    1.179592\n",
      "2     15    5   1  0.99     pls  0.006185    1.124287\n",
      "0     15    5   2  0.99  linreg -0.472985    1.666365\n",
      "1     15    5   2  0.99     pcr -0.205193    1.363415\n",
      "2     15    5   2  0.99     pls -0.383537    1.565173\n",
      "\n",
      "[1428 rows x 7 columns]\n",
      "       M    N   n   rho   model        R2         MSE\n",
      "0   5000  500   5  0.01  linreg  0.997495    1.101917\n",
      "1   5000  500   5  0.01     pcr  0.024885  428.943009\n",
      "2   5000  500   5  0.01     pls  0.997442    1.125453\n",
      "0   5000  500  50  0.01  linreg  0.997495    1.101917\n",
      "1   5000  500  50  0.01     pcr  0.095849  397.726742\n",
      "..   ...  ...  ..   ...     ...       ...         ...\n",
      "1     15    5   2  0.99     pcr -0.205193    1.363415\n",
      "2     15    5   2  0.99     pls -0.383537    1.565173\n",
      "0     10    5   1  0.99  linreg -2.031604    3.429719\n",
      "1     10    5   1  0.99     pcr -0.173212    1.327281\n",
      "2     10    5   1  0.99     pls -0.268037    1.434558\n",
      "\n",
      "[1431 rows x 7 columns]\n",
      "       M    N   n   rho   model        R2         MSE\n",
      "0   5000  500   5  0.01  linreg  0.997495    1.101917\n",
      "1   5000  500   5  0.01     pcr  0.024885  428.943009\n",
      "2   5000  500   5  0.01     pls  0.997442    1.125453\n",
      "0   5000  500  50  0.01  linreg  0.997495    1.101917\n",
      "1   5000  500  50  0.01     pcr  0.095849  397.726742\n",
      "..   ...  ...  ..   ...     ...       ...         ...\n",
      "1     10    5   1  0.99     pcr -0.173212    1.327281\n",
      "2     10    5   1  0.99     pls -0.268037    1.434558\n",
      "0     10    5   2  0.99  linreg -2.031604    3.429719\n",
      "1     10    5   2  0.99     pcr -0.259403    1.424790\n",
      "2     10    5   2  0.99     pls -0.395749    1.579041\n",
      "\n",
      "[1434 rows x 7 columns]\n"
     ]
    },
    {
     "name": "stderr",
     "output_type": "stream",
     "text": [
      "100%|██████████| 5/5 [15:46<00:00, 189.23s/it, N=5, linreg=-11.6, pcr=-.807, pls=-.942, rho=0.99]"
     ]
    },
    {
     "name": "stdout",
     "output_type": "stream",
     "text": [
      "       M    N   n   rho   model         R2         MSE\n",
      "0   5000  500   5  0.01  linreg   0.997495    1.101917\n",
      "1   5000  500   5  0.01     pcr   0.024885  428.943009\n",
      "2   5000  500   5  0.01     pls   0.997442    1.125453\n",
      "0   5000  500  50  0.01  linreg   0.997495    1.101917\n",
      "1   5000  500  50  0.01     pcr   0.095849  397.726742\n",
      "..   ...  ...  ..   ...     ...        ...         ...\n",
      "1     10    5   2  0.99     pcr  -0.259403    1.424790\n",
      "2     10    5   2  0.99     pls  -0.395749    1.579041\n",
      "0      5    5   1  0.99  linreg -11.607016   14.262548\n",
      "1      5    5   1  0.99     pcr  -1.193599    2.481659\n",
      "2      5    5   1  0.99     pls  -1.295294    2.596708\n",
      "\n",
      "[1437 rows x 7 columns]\n"
     ]
    },
    {
     "name": "stderr",
     "output_type": "stream",
     "text": [
      "\n"
     ]
    }
   ],
   "source": [
    "SAMPLE_SIZE = 100_000\n",
    "index_columns = ['M', 'N', 'n', 'rho']\n",
    "columns = ['model', 'R2', 'MSE']\n",
    "df = pd.DataFrame(None, columns=index_columns+columns)\n",
    "\n",
    "Ns = [500, 100, 50, 10, 5]\n",
    "loader = tqdm(Ns)\n",
    "\n",
    "N_M_ratios = [10, 5, 3, 2, 1]\n",
    "n_N_ratios = [0.01, 0.1, 0.25, 0.5]\n",
    "rhos = [0.01, 0.1, 0.2, 0.5, 0.9, 0.99]\n",
    "\n",
    "for N in loader:\n",
    "    for rho in rhos:\n",
    "        \n",
    "        beta = rng.normal(loc=0, scale=1, size=N)\n",
    "        X, y = get_sample(beta=beta, rho=rho, sample_size=SAMPLE_SIZE)\n",
    "\n",
    "        for M in [N*x for x in N_M_ratios]:\n",
    "\n",
    "            X_train, X_test, y_train, y_test = train_test_split(X, y, random_state=random_state, train_size=M)\n",
    "\n",
    "            for n in [int(N*x) for x in n_N_ratios]:\n",
    "\n",
    "                if n == 0:\n",
    "                    continue\n",
    "\n",
    "                score_dict = train_and_evaluate_all_models(X_train=X_train, X_test=X_test, y_train=y_train, y_test=y_test, n_components=n)\n",
    "                score_df = pd.DataFrame(score_dict)\n",
    "                score_df.index.name = 'model'\n",
    "                score_df = score_df.reset_index()\n",
    "                for col_name, value in zip(index_columns, [M, N, n, rho]):\n",
    "                    score_df[col_name] = value\n",
    "                print(df)\n",
    "                df = pd.concat([df, score_df])\n",
    "                loader.set_postfix(**score_dict['R2'] | {'rho': rho, 'N': N})\n",
    "        \n",
    "        score_df.to_csv('scores2.csv', index=False)\n",
    "\n",
    "df.to_csv('scores2.csv', index=False)"
   ]
  },
  {
   "cell_type": "code",
   "execution_count": null,
   "metadata": {},
   "outputs": [],
   "source": []
  }
 ],
 "metadata": {
  "kernelspec": {
   "display_name": "venv",
   "language": "python",
   "name": "python3"
  },
  "language_info": {
   "codemirror_mode": {
    "name": "ipython",
    "version": 3
   },
   "file_extension": ".py",
   "mimetype": "text/x-python",
   "name": "python",
   "nbconvert_exporter": "python",
   "pygments_lexer": "ipython3",
   "version": "3.10.4"
  },
  "orig_nbformat": 4,
  "vscode": {
   "interpreter": {
    "hash": "1aa0b08baf84a59db0468fc0305201b2935aa2c34c459b1c28b215e727584339"
   }
  }
 },
 "nbformat": 4,
 "nbformat_minor": 2
}
