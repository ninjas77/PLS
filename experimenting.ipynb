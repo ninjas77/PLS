{
 "cells": [
  {
   "attachments": {},
   "cell_type": "markdown",
   "metadata": {},
   "source": [
    "# Eksperimantiranje"
   ]
  },
  {
   "attachments": {},
   "cell_type": "markdown",
   "metadata": {},
   "source": [
    "Prvo ćemo importati potrebne pakete i fiksirati _random seed_ kako bi kod bio reproducibilan."
   ]
  },
  {
   "cell_type": "code",
   "execution_count": 27,
   "metadata": {},
   "outputs": [],
   "source": [
    "from enum import Enum\n",
    "from time import sleep\n",
    "\n",
    "import pandas as pd\n",
    "import numpy as np\n",
    "from sklearn.decomposition import PCA\n",
    "from sklearn.cross_decomposition import PLSRegression\n",
    "from sklearn.linear_model import LinearRegression\n",
    "from sklearn.pipeline import make_pipeline\n",
    "from sklearn.model_selection import train_test_split\n",
    "from sklearn.preprocessing import StandardScaler\n",
    "from tqdm import tqdm\n",
    "from sklearn.metrics import mean_squared_error\n",
    "\n",
    "random_state = 42\n",
    "rng = np.random.RandomState(random_state)"
   ]
  },
  {
   "attachments": {},
   "cell_type": "markdown",
   "metadata": {},
   "source": [
    "Sljedeća funkcija služi generiranju uzorka jediničnih normalnih veličina $x$ i $y$ td.\n",
    "\\begin{align*}\n",
    "y &= \\beta x + \\varepsilon, \\ \\ \\varepsilon \\sim N(0, \\sigma^2) \\\\\n",
    "\\mathrm{Cov}(x_i, x_j) &= \\sigma^2 > 0, \\ \\ i \\neq j.\n",
    "\\end{align*}"
   ]
  },
  {
   "cell_type": "code",
   "execution_count": 3,
   "metadata": {},
   "outputs": [],
   "source": [
    "def get_sample(beta: np.array, rho: float, sample_size: int, error_var: float = 1):\n",
    "\n",
    "    \"\"\"Generates sample of X and y such that y = X*beta + eps, eps ~ N(0, sqrt(error_var))\n",
    "\n",
    "    Args:\n",
    "        beta (np.array): Linear transformation vector.\n",
    "        rho (float): Covariance between covariates.\n",
    "\n",
    "    Returns:\n",
    "        sample: generated sample.\n",
    "    \"\"\"\n",
    "\n",
    "    N = beta.shape[0]\n",
    "    cov = rho * np.ones([N, N])\n",
    "    cov = cov + np.diag(1-rho * np.ones(N))\n",
    "\n",
    "    N = beta.shape[0]\n",
    "    X = rng.multivariate_normal(mean = np.zeros(N), cov=cov, size=sample_size)\n",
    "\n",
    "    error = rng.normal(loc=0, scale=np.sqrt(error_var), size=X.shape[0])\n",
    "    y = np.matmul(X, beta) + error\n",
    "    \n",
    "    return X, y"
   ]
  },
  {
   "attachments": {},
   "cell_type": "markdown",
   "metadata": {},
   "source": [
    "Brzinski _sanity check_: ako je $\\rho = 0,$ tada je $$\\mathrm{Var}(y) = \\sum_{k=0}^N \\beta_k^2 \\mathrm{Var}(X_k) + \\mathrm{Var}(\\varepsilon),$$ što bi u slucaju $N = 3, \\beta = (1, \\dots, 1)$ moralo biti $4$. Zaista, za dovoljno velik uzorak imamo da je uzoračka varijanca $\\approx 4$:"
   ]
  },
  {
   "cell_type": "code",
   "execution_count": 4,
   "metadata": {},
   "outputs": [
    {
     "name": "stdout",
     "output_type": "stream",
     "text": [
      ">>> Var(y) = 3.9966141119858167\n"
     ]
    }
   ],
   "source": [
    "N = 3\n",
    "beta = np.ones(3)\n",
    "rho = 0\n",
    "sample_size = 1000000\n",
    "\n",
    "X, y = get_sample(beta=beta, rho=rho, sample_size=sample_size)\n",
    "print(f'>>> Var(y) = {y.var(ddof=1)}')"
   ]
  },
  {
   "attachments": {},
   "cell_type": "markdown",
   "metadata": {},
   "source": [
    "Nastavljamo definiranjem funkcija za treniranje LS, PCR i PLS modela, pri čemu potonja dva kao parametar primaju i broj glavnih komponenti koje koriste."
   ]
  },
  {
   "cell_type": "code",
   "execution_count": 5,
   "metadata": {},
   "outputs": [],
   "source": [
    "class Model(str, Enum):\n",
    "    linreg = \"linreg\"\n",
    "    pcr = \"pcr\"\n",
    "    pls = \"pls\"\n",
    "\n",
    "    @staticmethod\n",
    "    def train(model_name: str, X: np.array, y: np.array, n_components: int | None = None):\n",
    "\n",
    "        if model_name not in list(Model):\n",
    "            raise ValueError(f'No such model. Available models are {list(Model)}')\n",
    "        \n",
    "        if model_name == Model.linreg:\n",
    "            model = LinearRegression()\n",
    "        \n",
    "        elif model_name == Model.pcr:\n",
    "            model = make_pipeline(PCA(n_components=n_components, random_state=random_state), LinearRegression())\n",
    "        \n",
    "        elif model_name == Model.pls:\n",
    "            model = PLSRegression(n_components=n_components)\n",
    "        \n",
    "        model.fit(X, y)\n",
    "\n",
    "        return model"
   ]
  },
  {
   "attachments": {},
   "cell_type": "markdown",
   "metadata": {},
   "source": [
    "Jedan razuman način validacije naših modela bio bi da koristeći distribucije iz kojih smo generirali podatke izračunamo populacijski $\\beta$ pa za grešku modela uzmemo\n",
    "koliko se njegov koeficijent razlikuje od populacijskog, tj. ako je nas model dan s $y = \\hat{\\beta}x$, njegovu grešku možemo računati kao\n",
    "\\begin{align*}\n",
    "\\mathrm{Err}(\\mathrm{Model}) = \\|\\beta-\\hat{\\beta}\\|.\n",
    "\\end{align*}\n",
    "Međutim, kako je prilikom visoke korelacije kovarijata taj $\\beta$ \"nestabilan\", mi ćemo umjesto toga testirati naše modele na velikom testnom uzorku. Preciznije, prvo ćemo izgenerirati jako velik uzorak, zatim trenirati model na njegovom malom dijelu, a na ostatku izračunati $R2,$ što ce nam biti primarna metrika za validaciju modela. Takav pristup ima dvije prednosti:\n",
    "1. Metrike poput kvaratne greške i $R2$ su interpretabilnije od udaljenosti do stvarnog $\\beta$.\n",
    "2. Tako se stvari rade u praksi (jer ne znamo stvarne distribucije pa ni vrijednost populacijskog koeficijenta); istrenira se model na uzorku koji nam je dan, a zatim validira na testnom skupu pa ide u produkciju.\n",
    "\n"
   ]
  },
  {
   "cell_type": "code",
   "execution_count": 6,
   "metadata": {},
   "outputs": [],
   "source": [
    "SAMPLE_SIZE = 50_000"
   ]
  },
  {
   "cell_type": "code",
   "execution_count": 28,
   "metadata": {},
   "outputs": [],
   "source": [
    "def train_and_evaluate_all_models(X_train: np.array, X_test: np.array, y_train: np.array, y_test: np.array, n_components: int):\n",
    "    \n",
    "    \"\"\"Trains LS, PLS and PCR models on X_train and y_test and evaluates them on X_test and y_test.\n",
    "\n",
    "    Args:\n",
    "        n_components (int): Number of relevant components to use for predicition in PCR and PLS.\n",
    "\n",
    "    Returns:\n",
    "        dict: Contains model names with their respective R2 values.\n",
    "    \"\"\"\n",
    "\n",
    "    score_dict = {'R2': {}, 'MSE': {}}\n",
    "\n",
    "    for model_name in list(Model):\n",
    "        model = Model.train(model_name=model_name, X=X_train, y=y_train, n_components=n_components)\n",
    "        score_dict['R2'][model_name.value] = model.score(X_test, y_test)\n",
    "        preds_test = model.predict(X_test)\n",
    "        score_dict['MSE'][model_name.value] = mean_squared_error(preds_test, y_test)\n",
    "\n",
    "    return score_dict"
   ]
  },
  {
   "attachments": {},
   "cell_type": "markdown",
   "metadata": {},
   "source": [
    "Donji primjer pokazuje kako kod \"skoro\" nezavisnih kovarijata PLS bolje predviđa nego PCR. To je i očekivano, pogotovo ako je broj komponenti puno manji od $N$ jer tada PCA nužno gubi bitne informacije za predviđanje. S druge strane, PLS, rastavljajuci zavisnu varijablu skupa s nezavisnima, ne izgubi gotovo ništa te predviđa jednako dobro kao i linearna regresija, ali u puno manjoj dimenziji pa je stoga interpretabilniji od nje."
   ]
  },
  {
   "cell_type": "code",
   "execution_count": 29,
   "metadata": {},
   "outputs": [],
   "source": [
    "N = 300\n",
    "train_sample_size = 1000\n",
    "n_components = 5\n",
    "rho= 0.1\n",
    "\n",
    "beta = rng.normal(loc=0, scale=25, size=N)\n",
    "X, y = get_sample(beta=beta, rho=rho, sample_size=SAMPLE_SIZE)\n",
    "X_train, X_test, y_train, y_test = train_test_split(X, y, random_state=random_state, train_size=train_sample_size)"
   ]
  },
  {
   "cell_type": "code",
   "execution_count": 30,
   "metadata": {},
   "outputs": [
    {
     "data": {
      "text/plain": [
       "{'R2': {'linreg': 0.9999910704911152,\n",
       "  'pcr': 0.0446818963982758,\n",
       "  'pls': 0.9943686745783412},\n",
       " 'MSE': {'linreg': 1.454770247950533,\n",
       "  'pcr': 155637.71450221376,\n",
       "  'pls': 917.4395575053132}}"
      ]
     },
     "execution_count": 30,
     "metadata": {},
     "output_type": "execute_result"
    }
   ],
   "source": [
    "score_dict = train_and_evaluate_all_models(X_train=X_train, X_test=X_test, y_train=y_train, y_test=y_test, n_components=n_components)\n",
    "score_dict"
   ]
  },
  {
   "cell_type": "code",
   "execution_count": 31,
   "metadata": {},
   "outputs": [
    {
     "data": {
      "text/html": [
       "<div>\n",
       "<style scoped>\n",
       "    .dataframe tbody tr th:only-of-type {\n",
       "        vertical-align: middle;\n",
       "    }\n",
       "\n",
       "    .dataframe tbody tr th {\n",
       "        vertical-align: top;\n",
       "    }\n",
       "\n",
       "    .dataframe thead th {\n",
       "        text-align: right;\n",
       "    }\n",
       "</style>\n",
       "<table border=\"1\" class=\"dataframe\">\n",
       "  <thead>\n",
       "    <tr style=\"text-align: right;\">\n",
       "      <th></th>\n",
       "      <th>model</th>\n",
       "      <th>R2</th>\n",
       "      <th>MSE</th>\n",
       "    </tr>\n",
       "  </thead>\n",
       "  <tbody>\n",
       "    <tr>\n",
       "      <th>0</th>\n",
       "      <td>linreg</td>\n",
       "      <td>0.999991</td>\n",
       "      <td>1.454770</td>\n",
       "    </tr>\n",
       "    <tr>\n",
       "      <th>1</th>\n",
       "      <td>pcr</td>\n",
       "      <td>0.044682</td>\n",
       "      <td>155637.714502</td>\n",
       "    </tr>\n",
       "    <tr>\n",
       "      <th>2</th>\n",
       "      <td>pls</td>\n",
       "      <td>0.994369</td>\n",
       "      <td>917.439558</td>\n",
       "    </tr>\n",
       "  </tbody>\n",
       "</table>\n",
       "</div>"
      ],
      "text/plain": [
       "    model        R2            MSE\n",
       "0  linreg  0.999991       1.454770\n",
       "1     pcr  0.044682  155637.714502\n",
       "2     pls  0.994369     917.439558"
      ]
     },
     "execution_count": 31,
     "metadata": {},
     "output_type": "execute_result"
    }
   ],
   "source": [
    "df = pd.DataFrame(score_dict)\n",
    "df.index.name = 'model'\n",
    "df = df.reset_index()\n",
    "df"
   ]
  },
  {
   "attachments": {},
   "cell_type": "markdown",
   "metadata": {},
   "source": [
    "Sad ćemo za razne parametre provesti eksperiment i podatke o R2 spremiti u datoteku _scores.csv_."
   ]
  },
  {
   "cell_type": "code",
   "execution_count": 43,
   "metadata": {},
   "outputs": [
    {
     "name": "stderr",
     "output_type": "stream",
     "text": [
      "  0%|          | 0/5 [00:05<?, ?it/s, N=500, linreg=1, pcr=0.00857, pls=1, rho=0.01]"
     ]
    },
    {
     "name": "stdout",
     "output_type": "stream",
     "text": [
      "Empty DataFrame\n",
      "Columns: [train_sample_size, N, n_components, rho, model, R2, MSE]\n",
      "Index: []\n"
     ]
    },
    {
     "name": "stderr",
     "output_type": "stream",
     "text": [
      "  0%|          | 0/5 [00:12<?, ?it/s, N=500, linreg=1, pcr=0.127, pls=1, rho=0.01]  "
     ]
    },
    {
     "name": "stdout",
     "output_type": "stream",
     "text": [
      "  train_sample_size    N n_components   rho   model        R2            MSE\n",
      "0              5000  500            5  0.01  linreg  0.999996       1.120479\n",
      "1              5000  500            5  0.01     pcr  0.008567  278123.542607\n",
      "2              5000  500            5  0.01     pls  0.999916      23.445148\n"
     ]
    },
    {
     "name": "stderr",
     "output_type": "stream",
     "text": [
      "  0%|          | 0/5 [00:21<?, ?it/s, N=500, linreg=1, pcr=0.278, pls=1, rho=0.01]"
     ]
    },
    {
     "name": "stdout",
     "output_type": "stream",
     "text": [
      "  train_sample_size    N n_components   rho   model        R2            MSE\n",
      "0              5000  500            5  0.01  linreg  0.999996       1.120479\n",
      "1              5000  500            5  0.01     pcr  0.008567  278123.542607\n",
      "2              5000  500            5  0.01     pls  0.999916      23.445148\n",
      "0              5000  500           50  0.01  linreg  0.999996       1.120479\n",
      "1              5000  500           50  0.01     pcr  0.127465  244769.316087\n",
      "2              5000  500           50  0.01     pls  0.999996       1.120479\n"
     ]
    },
    {
     "name": "stderr",
     "output_type": "stream",
     "text": [
      "  0%|          | 0/5 [00:32<?, ?it/s, N=500, linreg=1, pcr=0.474, pls=1, rho=0.01]"
     ]
    },
    {
     "name": "stdout",
     "output_type": "stream",
     "text": [
      "  train_sample_size    N n_components   rho   model        R2            MSE\n",
      "0              5000  500            5  0.01  linreg  0.999996       1.120479\n",
      "1              5000  500            5  0.01     pcr  0.008567  278123.542607\n",
      "2              5000  500            5  0.01     pls  0.999916      23.445148\n",
      "0              5000  500           50  0.01  linreg  0.999996       1.120479\n",
      "1              5000  500           50  0.01     pcr  0.127465  244769.316087\n",
      "2              5000  500           50  0.01     pls  0.999996       1.120479\n",
      "0              5000  500          125  0.01  linreg  0.999996       1.120479\n",
      "1              5000  500          125  0.01     pcr  0.277502  202679.968802\n",
      "2              5000  500          125  0.01     pls  0.999996       1.120658\n"
     ]
    },
    {
     "name": "stderr",
     "output_type": "stream",
     "text": [
      "  0%|          | 0/5 [00:37<?, ?it/s, N=500, linreg=1, pcr=0.0141, pls=0.999, rho=0.01]"
     ]
    },
    {
     "name": "stdout",
     "output_type": "stream",
     "text": [
      "  train_sample_size    N n_components   rho   model        R2            MSE\n",
      "0              5000  500            5  0.01  linreg  0.999996       1.120479\n",
      "1              5000  500            5  0.01     pcr  0.008567  278123.542607\n",
      "2              5000  500            5  0.01     pls  0.999916      23.445148\n",
      "0              5000  500           50  0.01  linreg  0.999996       1.120479\n",
      "1              5000  500           50  0.01     pcr  0.127465  244769.316087\n",
      "2              5000  500           50  0.01     pls  0.999996       1.120479\n",
      "0              5000  500          125  0.01  linreg  0.999996       1.120479\n",
      "1              5000  500          125  0.01     pcr  0.277502  202679.968802\n",
      "2              5000  500          125  0.01     pls  0.999996       1.120658\n",
      "0              5000  500          250  0.01  linreg  0.999996       1.120479\n",
      "1              5000  500          250  0.01     pcr  0.474108  147526.864421\n",
      "2              5000  500          250  0.01     pls  0.999996       1.125686\n"
     ]
    },
    {
     "name": "stderr",
     "output_type": "stream",
     "text": [
      "  0%|          | 0/5 [00:44<?, ?it/s, N=500, linreg=1, pcr=0.115, pls=1, rho=0.01]     "
     ]
    },
    {
     "name": "stdout",
     "output_type": "stream",
     "text": [
      "  train_sample_size    N n_components   rho   model        R2            MSE\n",
      "0              5000  500            5  0.01  linreg  0.999996       1.120479\n",
      "1              5000  500            5  0.01     pcr  0.008567  278123.542607\n",
      "2              5000  500            5  0.01     pls  0.999916      23.445148\n",
      "0              5000  500           50  0.01  linreg  0.999996       1.120479\n",
      "1              5000  500           50  0.01     pcr  0.127465  244769.316087\n",
      "2              5000  500           50  0.01     pls  0.999996       1.120479\n",
      "0              5000  500          125  0.01  linreg  0.999996       1.120479\n",
      "1              5000  500          125  0.01     pcr  0.277502  202679.968802\n",
      "2              5000  500          125  0.01     pls  0.999996       1.120658\n",
      "0              5000  500          250  0.01  linreg  0.999996       1.120479\n",
      "1              5000  500          250  0.01     pcr  0.474108  147526.864421\n",
      "2              5000  500          250  0.01     pls  0.999996       1.125686\n",
      "0              2500  500            5  0.01  linreg  0.999996       1.238895\n",
      "1              2500  500            5  0.01     pcr  0.014096  276746.254357\n",
      "2              2500  500            5  0.01     pls  0.998813     333.160941\n"
     ]
    },
    {
     "name": "stderr",
     "output_type": "stream",
     "text": [
      "  0%|          | 0/5 [00:52<?, ?it/s, N=500, linreg=1, pcr=0.265, pls=1, rho=0.01]"
     ]
    },
    {
     "name": "stdout",
     "output_type": "stream",
     "text": [
      "  train_sample_size    N n_components   rho   model        R2            MSE\n",
      "0              5000  500            5  0.01  linreg  0.999996       1.120479\n",
      "1              5000  500            5  0.01     pcr  0.008567  278123.542607\n",
      "2              5000  500            5  0.01     pls  0.999916      23.445148\n",
      "0              5000  500           50  0.01  linreg  0.999996       1.120479\n",
      "1              5000  500           50  0.01     pcr  0.127465  244769.316087\n",
      "2              5000  500           50  0.01     pls  0.999996       1.120479\n",
      "0              5000  500          125  0.01  linreg  0.999996       1.120479\n",
      "1              5000  500          125  0.01     pcr  0.277502  202679.968802\n",
      "2              5000  500          125  0.01     pls  0.999996       1.120658\n",
      "0              5000  500          250  0.01  linreg  0.999996       1.120479\n",
      "1              5000  500          250  0.01     pcr  0.474108  147526.864421\n",
      "2              5000  500          250  0.01     pls  0.999996       1.125686\n",
      "0              2500  500            5  0.01  linreg  0.999996       1.238895\n",
      "1              2500  500            5  0.01     pcr  0.014096  276746.254357\n",
      "2              2500  500            5  0.01     pls  0.998813     333.160941\n",
      "0              2500  500           50  0.01  linreg  0.999996       1.238895\n",
      "1              2500  500           50  0.01     pcr  0.115123  248387.818481\n",
      "2              2500  500           50  0.01     pls  0.999996       1.238895\n"
     ]
    },
    {
     "name": "stderr",
     "output_type": "stream",
     "text": [
      "  0%|          | 0/5 [01:01<?, ?it/s, N=500, linreg=1, pcr=0.522, pls=1, rho=0.01]"
     ]
    },
    {
     "name": "stdout",
     "output_type": "stream",
     "text": [
      "  train_sample_size    N n_components   rho   model        R2            MSE\n",
      "0              5000  500            5  0.01  linreg  0.999996       1.120479\n",
      "1              5000  500            5  0.01     pcr  0.008567  278123.542607\n",
      "2              5000  500            5  0.01     pls  0.999916      23.445148\n",
      "0              5000  500           50  0.01  linreg  0.999996       1.120479\n",
      "1              5000  500           50  0.01     pcr  0.127465  244769.316087\n",
      "2              5000  500           50  0.01     pls  0.999996       1.120479\n",
      "0              5000  500          125  0.01  linreg  0.999996       1.120479\n",
      "1              5000  500          125  0.01     pcr  0.277502  202679.968802\n",
      "2              5000  500          125  0.01     pls  0.999996       1.120658\n",
      "0              5000  500          250  0.01  linreg  0.999996       1.120479\n",
      "1              5000  500          250  0.01     pcr  0.474108  147526.864421\n",
      "2              5000  500          250  0.01     pls  0.999996       1.125686\n",
      "0              2500  500            5  0.01  linreg  0.999996       1.238895\n",
      "1              2500  500            5  0.01     pcr  0.014096  276746.254357\n",
      "2              2500  500            5  0.01     pls  0.998813     333.160941\n",
      "0              2500  500           50  0.01  linreg  0.999996       1.238895\n",
      "1              2500  500           50  0.01     pcr  0.115123  248387.818481\n",
      "2              2500  500           50  0.01     pls  0.999996       1.238895\n",
      "0              2500  500          125  0.01  linreg  0.999996       1.238895\n",
      "1              2500  500          125  0.01     pcr  0.265228  206252.809940\n",
      "2              2500  500          125  0.01     pls  0.999996       1.238936\n"
     ]
    },
    {
     "name": "stderr",
     "output_type": "stream",
     "text": [
      "  0%|          | 0/5 [01:05<?, ?it/s, N=500, linreg=1, pcr=0.0187, pls=0.991, rho=0.01]"
     ]
    },
    {
     "name": "stdout",
     "output_type": "stream",
     "text": [
      "  train_sample_size    N n_components   rho   model        R2            MSE\n",
      "0              5000  500            5  0.01  linreg  0.999996       1.120479\n",
      "1              5000  500            5  0.01     pcr  0.008567  278123.542607\n",
      "2              5000  500            5  0.01     pls  0.999916      23.445148\n",
      "0              5000  500           50  0.01  linreg  0.999996       1.120479\n",
      "1              5000  500           50  0.01     pcr  0.127465  244769.316087\n",
      "2              5000  500           50  0.01     pls  0.999996       1.120479\n",
      "0              5000  500          125  0.01  linreg  0.999996       1.120479\n",
      "1              5000  500          125  0.01     pcr  0.277502  202679.968802\n",
      "2              5000  500          125  0.01     pls  0.999996       1.120658\n",
      "0              5000  500          250  0.01  linreg  0.999996       1.120479\n",
      "1              5000  500          250  0.01     pcr  0.474108  147526.864421\n",
      "2              5000  500          250  0.01     pls  0.999996       1.125686\n",
      "0              2500  500            5  0.01  linreg  0.999996       1.238895\n",
      "1              2500  500            5  0.01     pcr  0.014096  276746.254357\n",
      "2              2500  500            5  0.01     pls  0.998813     333.160941\n",
      "0              2500  500           50  0.01  linreg  0.999996       1.238895\n",
      "1              2500  500           50  0.01     pcr  0.115123  248387.818481\n",
      "2              2500  500           50  0.01     pls  0.999996       1.238895\n",
      "0              2500  500          125  0.01  linreg  0.999996       1.238895\n",
      "1              2500  500          125  0.01     pcr  0.265228  206252.809940\n",
      "2              2500  500          125  0.01     pls  0.999996       1.238936\n",
      "0              2500  500          250  0.01  linreg  0.999996       1.238895\n",
      "1              2500  500          250  0.01     pcr  0.522079  134153.841184\n",
      "2              2500  500          250  0.01     pls  0.999996       1.245047\n"
     ]
    },
    {
     "name": "stderr",
     "output_type": "stream",
     "text": [
      "  0%|          | 0/5 [01:12<?, ?it/s, N=500, linreg=1, pcr=0.114, pls=1, rho=0.01]     "
     ]
    },
    {
     "name": "stdout",
     "output_type": "stream",
     "text": [
      "  train_sample_size    N n_components   rho   model        R2            MSE\n",
      "0              5000  500            5  0.01  linreg  0.999996       1.120479\n",
      "1              5000  500            5  0.01     pcr  0.008567  278123.542607\n",
      "2              5000  500            5  0.01     pls  0.999916      23.445148\n",
      "0              5000  500           50  0.01  linreg  0.999996       1.120479\n",
      "1              5000  500           50  0.01     pcr  0.127465  244769.316087\n",
      "2              5000  500           50  0.01     pls  0.999996       1.120479\n",
      "0              5000  500          125  0.01  linreg  0.999996       1.120479\n",
      "1              5000  500          125  0.01     pcr  0.277502  202679.968802\n",
      "2              5000  500          125  0.01     pls  0.999996       1.120658\n",
      "0              5000  500          250  0.01  linreg  0.999996       1.120479\n",
      "1              5000  500          250  0.01     pcr  0.474108  147526.864421\n",
      "2              5000  500          250  0.01     pls  0.999996       1.125686\n",
      "0              2500  500            5  0.01  linreg  0.999996       1.238895\n",
      "1              2500  500            5  0.01     pcr  0.014096  276746.254357\n",
      "2              2500  500            5  0.01     pls  0.998813     333.160941\n",
      "0              2500  500           50  0.01  linreg  0.999996       1.238895\n",
      "1              2500  500           50  0.01     pcr  0.115123  248387.818481\n",
      "2              2500  500           50  0.01     pls  0.999996       1.238895\n",
      "0              2500  500          125  0.01  linreg  0.999996       1.238895\n",
      "1              2500  500          125  0.01     pcr  0.265228  206252.809940\n",
      "2              2500  500          125  0.01     pls  0.999996       1.238936\n",
      "0              2500  500          250  0.01  linreg  0.999996       1.238895\n",
      "1              2500  500          250  0.01     pcr  0.522079  134153.841184\n",
      "2              2500  500          250  0.01     pls  0.999996       1.245047\n",
      "0              1500  500            5  0.01  linreg  0.999995       1.426893\n",
      "1              1500  500            5  0.01     pcr  0.018710  275328.974247\n",
      "2              1500  500            5  0.01     pls  0.990727    2601.866972\n"
     ]
    },
    {
     "name": "stderr",
     "output_type": "stream",
     "text": [
      "  0%|          | 0/5 [01:19<?, ?it/s, N=500, linreg=1, pcr=0.294, pls=1, rho=0.01]"
     ]
    },
    {
     "name": "stdout",
     "output_type": "stream",
     "text": [
      "  train_sample_size    N n_components   rho   model        R2            MSE\n",
      "0              5000  500            5  0.01  linreg  0.999996       1.120479\n",
      "1              5000  500            5  0.01     pcr  0.008567  278123.542607\n",
      "2              5000  500            5  0.01     pls  0.999916      23.445148\n",
      "0              5000  500           50  0.01  linreg  0.999996       1.120479\n",
      "1              5000  500           50  0.01     pcr  0.127465  244769.316087\n",
      "2              5000  500           50  0.01     pls  0.999996       1.120479\n",
      "0              5000  500          125  0.01  linreg  0.999996       1.120479\n",
      "1              5000  500          125  0.01     pcr  0.277502  202679.968802\n",
      "2              5000  500          125  0.01     pls  0.999996       1.120658\n",
      "0              5000  500          250  0.01  linreg  0.999996       1.120479\n",
      "1              5000  500          250  0.01     pcr  0.474108  147526.864421\n",
      "2              5000  500          250  0.01     pls  0.999996       1.125686\n",
      "0              2500  500            5  0.01  linreg  0.999996       1.238895\n",
      "1              2500  500            5  0.01     pcr  0.014096  276746.254357\n",
      "2              2500  500            5  0.01     pls  0.998813     333.160941\n",
      "0              2500  500           50  0.01  linreg  0.999996       1.238895\n",
      "1              2500  500           50  0.01     pcr  0.115123  248387.818481\n",
      "2              2500  500           50  0.01     pls  0.999996       1.238895\n",
      "0              2500  500          125  0.01  linreg  0.999996       1.238895\n",
      "1              2500  500          125  0.01     pcr  0.265228  206252.809940\n",
      "2              2500  500          125  0.01     pls  0.999996       1.238936\n",
      "0              2500  500          250  0.01  linreg  0.999996       1.238895\n",
      "1              2500  500          250  0.01     pcr  0.522079  134153.841184\n",
      "2              2500  500          250  0.01     pls  0.999996       1.245047\n",
      "0              1500  500            5  0.01  linreg  0.999995       1.426893\n",
      "1              1500  500            5  0.01     pcr  0.018710  275328.974247\n",
      "2              1500  500            5  0.01     pls  0.990727    2601.866972\n",
      "0              1500  500           50  0.01  linreg  0.999995       1.426893\n",
      "1              1500  500           50  0.01     pcr  0.113739  248666.004648\n",
      "2              1500  500           50  0.01     pls  0.999995       1.426893\n"
     ]
    },
    {
     "name": "stderr",
     "output_type": "stream",
     "text": [
      "  0%|          | 0/5 [01:28<?, ?it/s, N=500, linreg=1, pcr=0.542, pls=1, rho=0.01]"
     ]
    },
    {
     "name": "stdout",
     "output_type": "stream",
     "text": [
      "  train_sample_size    N n_components   rho   model        R2            MSE\n",
      "0              5000  500            5  0.01  linreg  0.999996       1.120479\n",
      "1              5000  500            5  0.01     pcr  0.008567  278123.542607\n",
      "2              5000  500            5  0.01     pls  0.999916      23.445148\n",
      "0              5000  500           50  0.01  linreg  0.999996       1.120479\n",
      "1              5000  500           50  0.01     pcr  0.127465  244769.316087\n",
      "2              5000  500           50  0.01     pls  0.999996       1.120479\n",
      "0              5000  500          125  0.01  linreg  0.999996       1.120479\n",
      "1              5000  500          125  0.01     pcr  0.277502  202679.968802\n",
      "2              5000  500          125  0.01     pls  0.999996       1.120658\n",
      "0              5000  500          250  0.01  linreg  0.999996       1.120479\n",
      "1              5000  500          250  0.01     pcr  0.474108  147526.864421\n",
      "2              5000  500          250  0.01     pls  0.999996       1.125686\n",
      "0              2500  500            5  0.01  linreg  0.999996       1.238895\n",
      "1              2500  500            5  0.01     pcr  0.014096  276746.254357\n",
      "2              2500  500            5  0.01     pls  0.998813     333.160941\n",
      "0              2500  500           50  0.01  linreg  0.999996       1.238895\n",
      "1              2500  500           50  0.01     pcr  0.115123  248387.818481\n",
      "2              2500  500           50  0.01     pls  0.999996       1.238895\n",
      "0              2500  500          125  0.01  linreg  0.999996       1.238895\n",
      "1              2500  500          125  0.01     pcr  0.265228  206252.809940\n",
      "2              2500  500          125  0.01     pls  0.999996       1.238936\n",
      "0              2500  500          250  0.01  linreg  0.999996       1.238895\n",
      "1              2500  500          250  0.01     pcr  0.522079  134153.841184\n",
      "2              2500  500          250  0.01     pls  0.999996       1.245047\n",
      "0              1500  500            5  0.01  linreg  0.999995       1.426893\n",
      "1              1500  500            5  0.01     pcr  0.018710  275328.974247\n",
      "2              1500  500            5  0.01     pls  0.990727    2601.866972\n",
      "0              1500  500           50  0.01  linreg  0.999995       1.426893\n",
      "1              1500  500           50  0.01     pcr  0.113739  248666.004648\n",
      "2              1500  500           50  0.01     pls  0.999995       1.426893\n",
      "0              1500  500          125  0.01  linreg  0.999995       1.426893\n",
      "1              1500  500          125  0.01     pcr  0.293682  198177.682655\n",
      "2              1500  500          125  0.01     pls  0.999995       1.426893\n"
     ]
    },
    {
     "name": "stderr",
     "output_type": "stream",
     "text": [
      "  0%|          | 0/5 [01:31<?, ?it/s, N=500, linreg=1, pcr=0.0215, pls=0.963, rho=0.01]"
     ]
    },
    {
     "name": "stdout",
     "output_type": "stream",
     "text": [
      "  train_sample_size    N n_components   rho   model        R2            MSE\n",
      "0              5000  500            5  0.01  linreg  0.999996       1.120479\n",
      "1              5000  500            5  0.01     pcr  0.008567  278123.542607\n",
      "2              5000  500            5  0.01     pls  0.999916      23.445148\n",
      "0              5000  500           50  0.01  linreg  0.999996       1.120479\n",
      "1              5000  500           50  0.01     pcr  0.127465  244769.316087\n",
      "2              5000  500           50  0.01     pls  0.999996       1.120479\n",
      "0              5000  500          125  0.01  linreg  0.999996       1.120479\n",
      "1              5000  500          125  0.01     pcr  0.277502  202679.968802\n",
      "2              5000  500          125  0.01     pls  0.999996       1.120658\n",
      "0              5000  500          250  0.01  linreg  0.999996       1.120479\n",
      "1              5000  500          250  0.01     pcr  0.474108  147526.864421\n",
      "2              5000  500          250  0.01     pls  0.999996       1.125686\n",
      "0              2500  500            5  0.01  linreg  0.999996       1.238895\n",
      "1              2500  500            5  0.01     pcr  0.014096  276746.254357\n",
      "2              2500  500            5  0.01     pls  0.998813     333.160941\n",
      "0              2500  500           50  0.01  linreg  0.999996       1.238895\n",
      "1              2500  500           50  0.01     pcr  0.115123  248387.818481\n",
      "2              2500  500           50  0.01     pls  0.999996       1.238895\n",
      "0              2500  500          125  0.01  linreg  0.999996       1.238895\n",
      "1              2500  500          125  0.01     pcr  0.265228  206252.809940\n",
      "2              2500  500          125  0.01     pls  0.999996       1.238936\n",
      "0              2500  500          250  0.01  linreg  0.999996       1.238895\n",
      "1              2500  500          250  0.01     pcr  0.522079  134153.841184\n",
      "2              2500  500          250  0.01     pls  0.999996       1.245047\n",
      "0              1500  500            5  0.01  linreg  0.999995       1.426893\n",
      "1              1500  500            5  0.01     pcr  0.018710  275328.974247\n",
      "2              1500  500            5  0.01     pls  0.990727    2601.866972\n",
      "0              1500  500           50  0.01  linreg  0.999995       1.426893\n",
      "1              1500  500           50  0.01     pcr  0.113739  248666.004648\n",
      "2              1500  500           50  0.01     pls  0.999995       1.426893\n",
      "0              1500  500          125  0.01  linreg  0.999995       1.426893\n",
      "1              1500  500          125  0.01     pcr  0.293682  198177.682655\n",
      "2              1500  500          125  0.01     pls  0.999995       1.426893\n",
      "0              1500  500          250  0.01  linreg  0.999995       1.426893\n",
      "1              1500  500          250  0.01     pcr  0.541507  128643.377736\n",
      "2              1500  500          250  0.01     pls  0.999995       1.430585\n"
     ]
    },
    {
     "name": "stderr",
     "output_type": "stream",
     "text": [
      "  0%|          | 0/5 [01:38<?, ?it/s, N=500, linreg=1, pcr=0.111, pls=1, rho=0.01]     "
     ]
    },
    {
     "name": "stdout",
     "output_type": "stream",
     "text": [
      "  train_sample_size    N n_components   rho   model        R2            MSE\n",
      "0              5000  500            5  0.01  linreg  0.999996       1.120479\n",
      "1              5000  500            5  0.01     pcr  0.008567  278123.542607\n",
      "2              5000  500            5  0.01     pls  0.999916      23.445148\n",
      "0              5000  500           50  0.01  linreg  0.999996       1.120479\n",
      "1              5000  500           50  0.01     pcr  0.127465  244769.316087\n",
      "2              5000  500           50  0.01     pls  0.999996       1.120479\n",
      "0              5000  500          125  0.01  linreg  0.999996       1.120479\n",
      "1              5000  500          125  0.01     pcr  0.277502  202679.968802\n",
      "2              5000  500          125  0.01     pls  0.999996       1.120658\n",
      "0              5000  500          250  0.01  linreg  0.999996       1.120479\n",
      "1              5000  500          250  0.01     pcr  0.474108  147526.864421\n",
      "2              5000  500          250  0.01     pls  0.999996       1.125686\n",
      "0              2500  500            5  0.01  linreg  0.999996       1.238895\n",
      "1              2500  500            5  0.01     pcr  0.014096  276746.254357\n",
      "2              2500  500            5  0.01     pls  0.998813     333.160941\n",
      "0              2500  500           50  0.01  linreg  0.999996       1.238895\n",
      "1              2500  500           50  0.01     pcr  0.115123  248387.818481\n",
      "2              2500  500           50  0.01     pls  0.999996       1.238895\n",
      "0              2500  500          125  0.01  linreg  0.999996       1.238895\n",
      "1              2500  500          125  0.01     pcr  0.265228  206252.809940\n",
      "2              2500  500          125  0.01     pls  0.999996       1.238936\n",
      "0              2500  500          250  0.01  linreg  0.999996       1.238895\n",
      "1              2500  500          250  0.01     pcr  0.522079  134153.841184\n",
      "2              2500  500          250  0.01     pls  0.999996       1.245047\n",
      "0              1500  500            5  0.01  linreg  0.999995       1.426893\n",
      "1              1500  500            5  0.01     pcr  0.018710  275328.974247\n",
      "2              1500  500            5  0.01     pls  0.990727    2601.866972\n",
      "0              1500  500           50  0.01  linreg  0.999995       1.426893\n",
      "1              1500  500           50  0.01     pcr  0.113739  248666.004648\n",
      "2              1500  500           50  0.01     pls  0.999995       1.426893\n",
      "0              1500  500          125  0.01  linreg  0.999995       1.426893\n",
      "1              1500  500          125  0.01     pcr  0.293682  198177.682655\n",
      "2              1500  500          125  0.01     pls  0.999995       1.426893\n",
      "0              1500  500          250  0.01  linreg  0.999995       1.426893\n",
      "1              1500  500          250  0.01     pcr  0.541507  128643.377736\n",
      "2              1500  500          250  0.01     pls  0.999995       1.430585\n",
      "0              1000  500            5  0.01  linreg  0.999993       1.907915\n",
      "1              1000  500            5  0.01     pcr  0.021521  274608.260986\n",
      "2              1000  500            5  0.01     pls  0.962735   10458.473294\n"
     ]
    },
    {
     "name": "stderr",
     "output_type": "stream",
     "text": [
      "  0%|          | 0/5 [01:45<?, ?it/s, N=500, linreg=1, pcr=0.273, pls=1, rho=0.01]"
     ]
    },
    {
     "name": "stdout",
     "output_type": "stream",
     "text": [
      "  train_sample_size    N n_components   rho   model        R2            MSE\n",
      "0              5000  500            5  0.01  linreg  0.999996       1.120479\n",
      "1              5000  500            5  0.01     pcr  0.008567  278123.542607\n",
      "2              5000  500            5  0.01     pls  0.999916      23.445148\n",
      "0              5000  500           50  0.01  linreg  0.999996       1.120479\n",
      "1              5000  500           50  0.01     pcr  0.127465  244769.316087\n",
      "2              5000  500           50  0.01     pls  0.999996       1.120479\n",
      "0              5000  500          125  0.01  linreg  0.999996       1.120479\n",
      "1              5000  500          125  0.01     pcr  0.277502  202679.968802\n",
      "2              5000  500          125  0.01     pls  0.999996       1.120658\n",
      "0              5000  500          250  0.01  linreg  0.999996       1.120479\n",
      "1              5000  500          250  0.01     pcr  0.474108  147526.864421\n",
      "2              5000  500          250  0.01     pls  0.999996       1.125686\n",
      "0              2500  500            5  0.01  linreg  0.999996       1.238895\n",
      "1              2500  500            5  0.01     pcr  0.014096  276746.254357\n",
      "2              2500  500            5  0.01     pls  0.998813     333.160941\n",
      "0              2500  500           50  0.01  linreg  0.999996       1.238895\n",
      "1              2500  500           50  0.01     pcr  0.115123  248387.818481\n",
      "2              2500  500           50  0.01     pls  0.999996       1.238895\n",
      "0              2500  500          125  0.01  linreg  0.999996       1.238895\n",
      "1              2500  500          125  0.01     pcr  0.265228  206252.809940\n",
      "2              2500  500          125  0.01     pls  0.999996       1.238936\n",
      "0              2500  500          250  0.01  linreg  0.999996       1.238895\n",
      "1              2500  500          250  0.01     pcr  0.522079  134153.841184\n",
      "2              2500  500          250  0.01     pls  0.999996       1.245047\n",
      "0              1500  500            5  0.01  linreg  0.999995       1.426893\n",
      "1              1500  500            5  0.01     pcr  0.018710  275328.974247\n",
      "2              1500  500            5  0.01     pls  0.990727    2601.866972\n",
      "0              1500  500           50  0.01  linreg  0.999995       1.426893\n",
      "1              1500  500           50  0.01     pcr  0.113739  248666.004648\n",
      "2              1500  500           50  0.01     pls  0.999995       1.426893\n",
      "0              1500  500          125  0.01  linreg  0.999995       1.426893\n",
      "1              1500  500          125  0.01     pcr  0.293682  198177.682655\n",
      "2              1500  500          125  0.01     pls  0.999995       1.426893\n",
      "0              1500  500          250  0.01  linreg  0.999995       1.426893\n",
      "1              1500  500          250  0.01     pcr  0.541507  128643.377736\n",
      "2              1500  500          250  0.01     pls  0.999995       1.430585\n",
      "0              1000  500            5  0.01  linreg  0.999993       1.907915\n",
      "1              1000  500            5  0.01     pcr  0.021521  274608.260986\n",
      "2              1000  500            5  0.01     pls  0.962735   10458.473294\n",
      "0              1000  500           50  0.01  linreg  0.999993       1.907915\n",
      "1              1000  500           50  0.01     pcr  0.110966  249505.735319\n",
      "2              1000  500           50  0.01     pls  0.999993       1.907916\n"
     ]
    },
    {
     "name": "stderr",
     "output_type": "stream",
     "text": [
      "  0%|          | 0/5 [01:53<?, ?it/s, N=500, linreg=1, pcr=0.524, pls=1, rho=0.01]"
     ]
    },
    {
     "name": "stdout",
     "output_type": "stream",
     "text": [
      "  train_sample_size    N n_components   rho   model        R2            MSE\n",
      "0              5000  500            5  0.01  linreg  0.999996       1.120479\n",
      "1              5000  500            5  0.01     pcr  0.008567  278123.542607\n",
      "2              5000  500            5  0.01     pls  0.999916      23.445148\n",
      "0              5000  500           50  0.01  linreg  0.999996       1.120479\n",
      "1              5000  500           50  0.01     pcr  0.127465  244769.316087\n",
      "2              5000  500           50  0.01     pls  0.999996       1.120479\n",
      "0              5000  500          125  0.01  linreg  0.999996       1.120479\n",
      "1              5000  500          125  0.01     pcr  0.277502  202679.968802\n",
      "2              5000  500          125  0.01     pls  0.999996       1.120658\n",
      "0              5000  500          250  0.01  linreg  0.999996       1.120479\n",
      "1              5000  500          250  0.01     pcr  0.474108  147526.864421\n",
      "2              5000  500          250  0.01     pls  0.999996       1.125686\n",
      "0              2500  500            5  0.01  linreg  0.999996       1.238895\n",
      "1              2500  500            5  0.01     pcr  0.014096  276746.254357\n",
      "2              2500  500            5  0.01     pls  0.998813     333.160941\n",
      "0              2500  500           50  0.01  linreg  0.999996       1.238895\n",
      "1              2500  500           50  0.01     pcr  0.115123  248387.818481\n",
      "2              2500  500           50  0.01     pls  0.999996       1.238895\n",
      "0              2500  500          125  0.01  linreg  0.999996       1.238895\n",
      "1              2500  500          125  0.01     pcr  0.265228  206252.809940\n",
      "2              2500  500          125  0.01     pls  0.999996       1.238936\n",
      "0              2500  500          250  0.01  linreg  0.999996       1.238895\n",
      "1              2500  500          250  0.01     pcr  0.522079  134153.841184\n",
      "2              2500  500          250  0.01     pls  0.999996       1.245047\n",
      "0              1500  500            5  0.01  linreg  0.999995       1.426893\n",
      "1              1500  500            5  0.01     pcr  0.018710  275328.974247\n",
      "2              1500  500            5  0.01     pls  0.990727    2601.866972\n",
      "0              1500  500           50  0.01  linreg  0.999995       1.426893\n",
      "1              1500  500           50  0.01     pcr  0.113739  248666.004648\n",
      "2              1500  500           50  0.01     pls  0.999995       1.426893\n",
      "0              1500  500          125  0.01  linreg  0.999995       1.426893\n",
      "1              1500  500          125  0.01     pcr  0.293682  198177.682655\n",
      "2              1500  500          125  0.01     pls  0.999995       1.426893\n",
      "0              1500  500          250  0.01  linreg  0.999995       1.426893\n",
      "1              1500  500          250  0.01     pcr  0.541507  128643.377736\n",
      "2              1500  500          250  0.01     pls  0.999995       1.430585\n",
      "0              1000  500            5  0.01  linreg  0.999993       1.907915\n",
      "1              1000  500            5  0.01     pcr  0.021521  274608.260986\n",
      "2              1000  500            5  0.01     pls  0.962735   10458.473294\n",
      "0              1000  500           50  0.01  linreg  0.999993       1.907915\n",
      "1              1000  500           50  0.01     pcr  0.110966  249505.735319\n",
      "2              1000  500           50  0.01     pls  0.999993       1.907916\n",
      "0              1000  500          125  0.01  linreg  0.999993       1.907915\n",
      "1              1000  500          125  0.01     pcr  0.272585  204147.607041\n",
      "2              1000  500          125  0.01     pls  0.999993       1.907915\n"
     ]
    },
    {
     "name": "stderr",
     "output_type": "stream",
     "text": [
      "  0%|          | 0/5 [01:55<?, ?it/s, N=500, linreg=0.998, pcr=0.00215, pls=0.803, rho=0.01]"
     ]
    },
    {
     "name": "stdout",
     "output_type": "stream",
     "text": [
      "  train_sample_size    N n_components   rho   model        R2            MSE\n",
      "0              5000  500            5  0.01  linreg  0.999996       1.120479\n",
      "1              5000  500            5  0.01     pcr  0.008567  278123.542607\n",
      "2              5000  500            5  0.01     pls  0.999916      23.445148\n",
      "0              5000  500           50  0.01  linreg  0.999996       1.120479\n",
      "1              5000  500           50  0.01     pcr  0.127465  244769.316087\n",
      "2              5000  500           50  0.01     pls  0.999996       1.120479\n",
      "0              5000  500          125  0.01  linreg  0.999996       1.120479\n",
      "1              5000  500          125  0.01     pcr  0.277502  202679.968802\n",
      "2              5000  500          125  0.01     pls  0.999996       1.120658\n",
      "0              5000  500          250  0.01  linreg  0.999996       1.120479\n",
      "1              5000  500          250  0.01     pcr  0.474108  147526.864421\n",
      "2              5000  500          250  0.01     pls  0.999996       1.125686\n",
      "0              2500  500            5  0.01  linreg  0.999996       1.238895\n",
      "1              2500  500            5  0.01     pcr  0.014096  276746.254357\n",
      "2              2500  500            5  0.01     pls  0.998813     333.160941\n",
      "0              2500  500           50  0.01  linreg  0.999996       1.238895\n",
      "1              2500  500           50  0.01     pcr  0.115123  248387.818481\n",
      "2              2500  500           50  0.01     pls  0.999996       1.238895\n",
      "0              2500  500          125  0.01  linreg  0.999996       1.238895\n",
      "1              2500  500          125  0.01     pcr  0.265228  206252.809940\n",
      "2              2500  500          125  0.01     pls  0.999996       1.238936\n",
      "0              2500  500          250  0.01  linreg  0.999996       1.238895\n",
      "1              2500  500          250  0.01     pcr  0.522079  134153.841184\n",
      "2              2500  500          250  0.01     pls  0.999996       1.245047\n",
      "0              1500  500            5  0.01  linreg  0.999995       1.426893\n",
      "1              1500  500            5  0.01     pcr  0.018710  275328.974247\n",
      "2              1500  500            5  0.01     pls  0.990727    2601.866972\n",
      "0              1500  500           50  0.01  linreg  0.999995       1.426893\n",
      "1              1500  500           50  0.01     pcr  0.113739  248666.004648\n",
      "2              1500  500           50  0.01     pls  0.999995       1.426893\n",
      "0              1500  500          125  0.01  linreg  0.999995       1.426893\n",
      "1              1500  500          125  0.01     pcr  0.293682  198177.682655\n",
      "2              1500  500          125  0.01     pls  0.999995       1.426893\n",
      "0              1500  500          250  0.01  linreg  0.999995       1.426893\n",
      "1              1500  500          250  0.01     pcr  0.541507  128643.377736\n",
      "2              1500  500          250  0.01     pls  0.999995       1.430585\n",
      "0              1000  500            5  0.01  linreg  0.999993       1.907915\n",
      "1              1000  500            5  0.01     pcr  0.021521  274608.260986\n",
      "2              1000  500            5  0.01     pls  0.962735   10458.473294\n",
      "0              1000  500           50  0.01  linreg  0.999993       1.907915\n",
      "1              1000  500           50  0.01     pcr  0.110966  249505.735319\n",
      "2              1000  500           50  0.01     pls  0.999993       1.907916\n",
      "0              1000  500          125  0.01  linreg  0.999993       1.907915\n",
      "1              1000  500          125  0.01     pcr  0.272585  204147.607041\n",
      "2              1000  500          125  0.01     pls  0.999993       1.907915\n",
      "0              1000  500          250  0.01  linreg  0.999993       1.907915\n",
      "1              1000  500          250  0.01     pcr  0.524007  133586.467355\n",
      "2              1000  500          250  0.01     pls  0.999993       1.932939\n"
     ]
    },
    {
     "name": "stderr",
     "output_type": "stream",
     "text": [
      "  0%|          | 0/5 [01:57<?, ?it/s, N=500, linreg=0.998, pcr=0.12, pls=0.984, rho=0.01]   "
     ]
    },
    {
     "name": "stdout",
     "output_type": "stream",
     "text": [
      "  train_sample_size    N n_components   rho   model        R2            MSE\n",
      "0              5000  500            5  0.01  linreg  0.999996       1.120479\n",
      "1              5000  500            5  0.01     pcr  0.008567  278123.542607\n",
      "2              5000  500            5  0.01     pls  0.999916      23.445148\n",
      "0              5000  500           50  0.01  linreg  0.999996       1.120479\n",
      "1              5000  500           50  0.01     pcr  0.127465  244769.316087\n",
      "2              5000  500           50  0.01     pls  0.999996       1.120479\n",
      "0              5000  500          125  0.01  linreg  0.999996       1.120479\n",
      "1              5000  500          125  0.01     pcr  0.277502  202679.968802\n",
      "2              5000  500          125  0.01     pls  0.999996       1.120658\n",
      "0              5000  500          250  0.01  linreg  0.999996       1.120479\n",
      "1              5000  500          250  0.01     pcr  0.474108  147526.864421\n",
      "2              5000  500          250  0.01     pls  0.999996       1.125686\n",
      "0              2500  500            5  0.01  linreg  0.999996       1.238895\n",
      "1              2500  500            5  0.01     pcr  0.014096  276746.254357\n",
      "2              2500  500            5  0.01     pls  0.998813     333.160941\n",
      "0              2500  500           50  0.01  linreg  0.999996       1.238895\n",
      "1              2500  500           50  0.01     pcr  0.115123  248387.818481\n",
      "2              2500  500           50  0.01     pls  0.999996       1.238895\n",
      "0              2500  500          125  0.01  linreg  0.999996       1.238895\n",
      "1              2500  500          125  0.01     pcr  0.265228  206252.809940\n",
      "2              2500  500          125  0.01     pls  0.999996       1.238936\n",
      "0              2500  500          250  0.01  linreg  0.999996       1.238895\n",
      "1              2500  500          250  0.01     pcr  0.522079  134153.841184\n",
      "2              2500  500          250  0.01     pls  0.999996       1.245047\n",
      "0              1500  500            5  0.01  linreg  0.999995       1.426893\n",
      "1              1500  500            5  0.01     pcr  0.018710  275328.974247\n",
      "2              1500  500            5  0.01     pls  0.990727    2601.866972\n",
      "0              1500  500           50  0.01  linreg  0.999995       1.426893\n",
      "1              1500  500           50  0.01     pcr  0.113739  248666.004648\n",
      "2              1500  500           50  0.01     pls  0.999995       1.426893\n",
      "0              1500  500          125  0.01  linreg  0.999995       1.426893\n",
      "1              1500  500          125  0.01     pcr  0.293682  198177.682655\n",
      "2              1500  500          125  0.01     pls  0.999995       1.426893\n",
      "0              1500  500          250  0.01  linreg  0.999995       1.426893\n",
      "1              1500  500          250  0.01     pcr  0.541507  128643.377736\n",
      "2              1500  500          250  0.01     pls  0.999995       1.430585\n",
      "0              1000  500            5  0.01  linreg  0.999993       1.907915\n",
      "1              1000  500            5  0.01     pcr  0.021521  274608.260986\n",
      "2              1000  500            5  0.01     pls  0.962735   10458.473294\n",
      "0              1000  500           50  0.01  linreg  0.999993       1.907915\n",
      "1              1000  500           50  0.01     pcr  0.110966  249505.735319\n",
      "2              1000  500           50  0.01     pls  0.999993       1.907916\n",
      "0              1000  500          125  0.01  linreg  0.999993       1.907915\n",
      "1              1000  500          125  0.01     pcr  0.272585  204147.607041\n",
      "2              1000  500          125  0.01     pls  0.999993       1.907915\n",
      "0              1000  500          250  0.01  linreg  0.999993       1.907915\n",
      "1              1000  500          250  0.01     pcr  0.524007  133586.467355\n",
      "2              1000  500          250  0.01     pls  0.999993       1.932939\n",
      "0               500  500            5  0.01  linreg  0.998499     421.195119\n",
      "1               500  500            5  0.01     pcr  0.002146  279983.606159\n",
      "2               500  500            5  0.01     pls  0.803500   55135.126122\n"
     ]
    },
    {
     "name": "stderr",
     "output_type": "stream",
     "text": [
      "  0%|          | 0/5 [02:00<?, ?it/s, N=500, linreg=0.998, pcr=0.281, pls=0.994, rho=0.01]"
     ]
    },
    {
     "name": "stdout",
     "output_type": "stream",
     "text": [
      "  train_sample_size    N n_components   rho   model        R2            MSE\n",
      "0              5000  500            5  0.01  linreg  0.999996       1.120479\n",
      "1              5000  500            5  0.01     pcr  0.008567  278123.542607\n",
      "2              5000  500            5  0.01     pls  0.999916      23.445148\n",
      "0              5000  500           50  0.01  linreg  0.999996       1.120479\n",
      "1              5000  500           50  0.01     pcr  0.127465  244769.316087\n",
      "2              5000  500           50  0.01     pls  0.999996       1.120479\n",
      "0              5000  500          125  0.01  linreg  0.999996       1.120479\n",
      "1              5000  500          125  0.01     pcr  0.277502  202679.968802\n",
      "2              5000  500          125  0.01     pls  0.999996       1.120658\n",
      "0              5000  500          250  0.01  linreg  0.999996       1.120479\n",
      "1              5000  500          250  0.01     pcr  0.474108  147526.864421\n",
      "2              5000  500          250  0.01     pls  0.999996       1.125686\n",
      "0              2500  500            5  0.01  linreg  0.999996       1.238895\n",
      "1              2500  500            5  0.01     pcr  0.014096  276746.254357\n",
      "2              2500  500            5  0.01     pls  0.998813     333.160941\n",
      "0              2500  500           50  0.01  linreg  0.999996       1.238895\n",
      "1              2500  500           50  0.01     pcr  0.115123  248387.818481\n",
      "2              2500  500           50  0.01     pls  0.999996       1.238895\n",
      "0              2500  500          125  0.01  linreg  0.999996       1.238895\n",
      "1              2500  500          125  0.01     pcr  0.265228  206252.809940\n",
      "2              2500  500          125  0.01     pls  0.999996       1.238936\n",
      "0              2500  500          250  0.01  linreg  0.999996       1.238895\n",
      "1              2500  500          250  0.01     pcr  0.522079  134153.841184\n",
      "2              2500  500          250  0.01     pls  0.999996       1.245047\n",
      "0              1500  500            5  0.01  linreg  0.999995       1.426893\n",
      "1              1500  500            5  0.01     pcr  0.018710  275328.974247\n",
      "2              1500  500            5  0.01     pls  0.990727    2601.866972\n",
      "0              1500  500           50  0.01  linreg  0.999995       1.426893\n",
      "1              1500  500           50  0.01     pcr  0.113739  248666.004648\n",
      "2              1500  500           50  0.01     pls  0.999995       1.426893\n",
      "0              1500  500          125  0.01  linreg  0.999995       1.426893\n",
      "1              1500  500          125  0.01     pcr  0.293682  198177.682655\n",
      "2              1500  500          125  0.01     pls  0.999995       1.426893\n",
      "0              1500  500          250  0.01  linreg  0.999995       1.426893\n",
      "1              1500  500          250  0.01     pcr  0.541507  128643.377736\n",
      "2              1500  500          250  0.01     pls  0.999995       1.430585\n",
      "0              1000  500            5  0.01  linreg  0.999993       1.907915\n",
      "1              1000  500            5  0.01     pcr  0.021521  274608.260986\n",
      "2              1000  500            5  0.01     pls  0.962735   10458.473294\n",
      "0              1000  500           50  0.01  linreg  0.999993       1.907915\n",
      "1              1000  500           50  0.01     pcr  0.110966  249505.735319\n",
      "2              1000  500           50  0.01     pls  0.999993       1.907916\n",
      "0              1000  500          125  0.01  linreg  0.999993       1.907915\n",
      "1              1000  500          125  0.01     pcr  0.272585  204147.607041\n",
      "2              1000  500          125  0.01     pls  0.999993       1.907915\n",
      "0              1000  500          250  0.01  linreg  0.999993       1.907915\n",
      "1              1000  500          250  0.01     pcr  0.524007  133586.467355\n",
      "2              1000  500          250  0.01     pls  0.999993       1.932939\n",
      "0               500  500            5  0.01  linreg  0.998499     421.195119\n",
      "1               500  500            5  0.01     pcr  0.002146  279983.606159\n",
      "2               500  500            5  0.01     pls  0.803500   55135.126122\n",
      "0               500  500           50  0.01  linreg  0.998499     421.195119\n",
      "1               500  500           50  0.01     pcr  0.120104  246886.263339\n",
      "2               500  500           50  0.01     pls  0.983993    4491.431256\n"
     ]
    },
    {
     "name": "stderr",
     "output_type": "stream",
     "text": [
      "  0%|          | 0/5 [02:03<?, ?it/s, N=500, linreg=0.998, pcr=0.543, pls=0.997, rho=0.01]"
     ]
    },
    {
     "name": "stdout",
     "output_type": "stream",
     "text": [
      "  train_sample_size    N n_components   rho   model        R2            MSE\n",
      "0              5000  500            5  0.01  linreg  0.999996       1.120479\n",
      "1              5000  500            5  0.01     pcr  0.008567  278123.542607\n",
      "2              5000  500            5  0.01     pls  0.999916      23.445148\n",
      "0              5000  500           50  0.01  linreg  0.999996       1.120479\n",
      "1              5000  500           50  0.01     pcr  0.127465  244769.316087\n",
      "2              5000  500           50  0.01     pls  0.999996       1.120479\n",
      "0              5000  500          125  0.01  linreg  0.999996       1.120479\n",
      "1              5000  500          125  0.01     pcr  0.277502  202679.968802\n",
      "2              5000  500          125  0.01     pls  0.999996       1.120658\n",
      "0              5000  500          250  0.01  linreg  0.999996       1.120479\n",
      "1              5000  500          250  0.01     pcr  0.474108  147526.864421\n",
      "2              5000  500          250  0.01     pls  0.999996       1.125686\n",
      "0              2500  500            5  0.01  linreg  0.999996       1.238895\n",
      "1              2500  500            5  0.01     pcr  0.014096  276746.254357\n",
      "2              2500  500            5  0.01     pls  0.998813     333.160941\n",
      "0              2500  500           50  0.01  linreg  0.999996       1.238895\n",
      "1              2500  500           50  0.01     pcr  0.115123  248387.818481\n",
      "2              2500  500           50  0.01     pls  0.999996       1.238895\n",
      "0              2500  500          125  0.01  linreg  0.999996       1.238895\n",
      "1              2500  500          125  0.01     pcr  0.265228  206252.809940\n",
      "2              2500  500          125  0.01     pls  0.999996       1.238936\n",
      "0              2500  500          250  0.01  linreg  0.999996       1.238895\n",
      "1              2500  500          250  0.01     pcr  0.522079  134153.841184\n",
      "2              2500  500          250  0.01     pls  0.999996       1.245047\n",
      "0              1500  500            5  0.01  linreg  0.999995       1.426893\n",
      "1              1500  500            5  0.01     pcr  0.018710  275328.974247\n",
      "2              1500  500            5  0.01     pls  0.990727    2601.866972\n",
      "0              1500  500           50  0.01  linreg  0.999995       1.426893\n",
      "1              1500  500           50  0.01     pcr  0.113739  248666.004648\n",
      "2              1500  500           50  0.01     pls  0.999995       1.426893\n",
      "0              1500  500          125  0.01  linreg  0.999995       1.426893\n",
      "1              1500  500          125  0.01     pcr  0.293682  198177.682655\n",
      "2              1500  500          125  0.01     pls  0.999995       1.426893\n",
      "0              1500  500          250  0.01  linreg  0.999995       1.426893\n",
      "1              1500  500          250  0.01     pcr  0.541507  128643.377736\n",
      "2              1500  500          250  0.01     pls  0.999995       1.430585\n",
      "0              1000  500            5  0.01  linreg  0.999993       1.907915\n",
      "1              1000  500            5  0.01     pcr  0.021521  274608.260986\n",
      "2              1000  500            5  0.01     pls  0.962735   10458.473294\n",
      "0              1000  500           50  0.01  linreg  0.999993       1.907915\n",
      "1              1000  500           50  0.01     pcr  0.110966  249505.735319\n",
      "2              1000  500           50  0.01     pls  0.999993       1.907916\n",
      "0              1000  500          125  0.01  linreg  0.999993       1.907915\n",
      "1              1000  500          125  0.01     pcr  0.272585  204147.607041\n",
      "2              1000  500          125  0.01     pls  0.999993       1.907915\n",
      "0              1000  500          250  0.01  linreg  0.999993       1.907915\n",
      "1              1000  500          250  0.01     pcr  0.524007  133586.467355\n",
      "2              1000  500          250  0.01     pls  0.999993       1.932939\n",
      "0               500  500            5  0.01  linreg  0.998499     421.195119\n",
      "1               500  500            5  0.01     pcr  0.002146  279983.606159\n",
      "2               500  500            5  0.01     pls  0.803500   55135.126122\n",
      "0               500  500           50  0.01  linreg  0.998499     421.195119\n",
      "1               500  500           50  0.01     pcr  0.120104  246886.263339\n",
      "2               500  500           50  0.01     pls  0.983993    4491.431256\n",
      "0               500  500          125  0.01  linreg  0.998499     421.195119\n",
      "1               500  500          125  0.01     pcr  0.281157  201697.144107\n",
      "2               500  500          125  0.01     pls  0.993995    1684.829261\n"
     ]
    },
    {
     "name": "stderr",
     "output_type": "stream",
     "text": [
      "  0%|          | 0/5 [02:09<?, ?it/s, N=500, linreg=1, pcr=0.00841, pls=1, rho=0.1]       "
     ]
    },
    {
     "name": "stdout",
     "output_type": "stream",
     "text": [
      "  train_sample_size    N n_components   rho   model        R2            MSE\n",
      "0              5000  500            5  0.01  linreg  0.999996       1.120479\n",
      "1              5000  500            5  0.01     pcr  0.008567  278123.542607\n",
      "2              5000  500            5  0.01     pls  0.999916      23.445148\n",
      "0              5000  500           50  0.01  linreg  0.999996       1.120479\n",
      "1              5000  500           50  0.01     pcr  0.127465  244769.316087\n",
      "2              5000  500           50  0.01     pls  0.999996       1.120479\n",
      "0              5000  500          125  0.01  linreg  0.999996       1.120479\n",
      "1              5000  500          125  0.01     pcr  0.277502  202679.968802\n",
      "2              5000  500          125  0.01     pls  0.999996       1.120658\n",
      "0              5000  500          250  0.01  linreg  0.999996       1.120479\n",
      "1              5000  500          250  0.01     pcr  0.474108  147526.864421\n",
      "2              5000  500          250  0.01     pls  0.999996       1.125686\n",
      "0              2500  500            5  0.01  linreg  0.999996       1.238895\n",
      "1              2500  500            5  0.01     pcr  0.014096  276746.254357\n",
      "2              2500  500            5  0.01     pls  0.998813     333.160941\n",
      "0              2500  500           50  0.01  linreg  0.999996       1.238895\n",
      "1              2500  500           50  0.01     pcr  0.115123  248387.818481\n",
      "2              2500  500           50  0.01     pls  0.999996       1.238895\n",
      "0              2500  500          125  0.01  linreg  0.999996       1.238895\n",
      "1              2500  500          125  0.01     pcr  0.265228  206252.809940\n",
      "2              2500  500          125  0.01     pls  0.999996       1.238936\n",
      "0              2500  500          250  0.01  linreg  0.999996       1.238895\n",
      "1              2500  500          250  0.01     pcr  0.522079  134153.841184\n",
      "2              2500  500          250  0.01     pls  0.999996       1.245047\n",
      "0              1500  500            5  0.01  linreg  0.999995       1.426893\n",
      "1              1500  500            5  0.01     pcr  0.018710  275328.974247\n",
      "2              1500  500            5  0.01     pls  0.990727    2601.866972\n",
      "0              1500  500           50  0.01  linreg  0.999995       1.426893\n",
      "1              1500  500           50  0.01     pcr  0.113739  248666.004648\n",
      "2              1500  500           50  0.01     pls  0.999995       1.426893\n",
      "0              1500  500          125  0.01  linreg  0.999995       1.426893\n",
      "1              1500  500          125  0.01     pcr  0.293682  198177.682655\n",
      "2              1500  500          125  0.01     pls  0.999995       1.426893\n",
      "0              1500  500          250  0.01  linreg  0.999995       1.426893\n",
      "1              1500  500          250  0.01     pcr  0.541507  128643.377736\n",
      "2              1500  500          250  0.01     pls  0.999995       1.430585\n",
      "0              1000  500            5  0.01  linreg  0.999993       1.907915\n",
      "1              1000  500            5  0.01     pcr  0.021521  274608.260986\n",
      "2              1000  500            5  0.01     pls  0.962735   10458.473294\n",
      "0              1000  500           50  0.01  linreg  0.999993       1.907915\n",
      "1              1000  500           50  0.01     pcr  0.110966  249505.735319\n",
      "2              1000  500           50  0.01     pls  0.999993       1.907916\n",
      "0              1000  500          125  0.01  linreg  0.999993       1.907915\n",
      "1              1000  500          125  0.01     pcr  0.272585  204147.607041\n",
      "2              1000  500          125  0.01     pls  0.999993       1.907915\n",
      "0              1000  500          250  0.01  linreg  0.999993       1.907915\n",
      "1              1000  500          250  0.01     pcr  0.524007  133586.467355\n",
      "2              1000  500          250  0.01     pls  0.999993       1.932939\n",
      "0               500  500            5  0.01  linreg  0.998499     421.195119\n",
      "1               500  500            5  0.01     pcr  0.002146  279983.606159\n",
      "2               500  500            5  0.01     pls  0.803500   55135.126122\n",
      "0               500  500           50  0.01  linreg  0.998499     421.195119\n",
      "1               500  500           50  0.01     pcr  0.120104  246886.263339\n",
      "2               500  500           50  0.01     pls  0.983993    4491.431256\n",
      "0               500  500          125  0.01  linreg  0.998499     421.195119\n",
      "1               500  500          125  0.01     pcr  0.281157  201697.144107\n",
      "2               500  500          125  0.01     pls  0.993995    1684.829261\n",
      "0               500  500          250  0.01  linreg  0.998499     421.195119\n",
      "1               500  500          250  0.01     pcr  0.542896  128256.734096\n",
      "2               500  500          250  0.01     pls  0.996799     898.097940\n"
     ]
    },
    {
     "name": "stderr",
     "output_type": "stream",
     "text": [
      "  0%|          | 0/5 [02:16<?, ?it/s, N=500, linreg=1, pcr=0.0779, pls=1, rho=0.1] "
     ]
    },
    {
     "name": "stdout",
     "output_type": "stream",
     "text": [
      "   train_sample_size    N n_components   rho   model        R2            MSE\n",
      "0               5000  500            5  0.01  linreg  0.999996       1.120479\n",
      "1               5000  500            5  0.01     pcr  0.008567  278123.542607\n",
      "2               5000  500            5  0.01     pls  0.999916      23.445148\n",
      "0               5000  500           50  0.01  linreg  0.999996       1.120479\n",
      "1               5000  500           50  0.01     pcr  0.127465  244769.316087\n",
      "..               ...  ...          ...   ...     ...       ...            ...\n",
      "1                500  500          250  0.01     pcr  0.542896  128256.734096\n",
      "2                500  500          250  0.01     pls  0.996799     898.097940\n",
      "0               5000  500            5  0.10  linreg  0.999996       1.123075\n",
      "1               5000  500            5  0.10     pcr  0.008414  271551.166442\n",
      "2               5000  500            5  0.10     pls  0.999922      21.257553\n",
      "\n",
      "[63 rows x 7 columns]\n"
     ]
    },
    {
     "name": "stderr",
     "output_type": "stream",
     "text": [
      "  0%|          | 0/5 [02:25<?, ?it/s, N=500, linreg=1, pcr=0.221, pls=1, rho=0.1] "
     ]
    },
    {
     "name": "stdout",
     "output_type": "stream",
     "text": [
      "   train_sample_size    N n_components   rho   model        R2            MSE\n",
      "0               5000  500            5  0.01  linreg  0.999996       1.120479\n",
      "1               5000  500            5  0.01     pcr  0.008567  278123.542607\n",
      "2               5000  500            5  0.01     pls  0.999916      23.445148\n",
      "0               5000  500           50  0.01  linreg  0.999996       1.120479\n",
      "1               5000  500           50  0.01     pcr  0.127465  244769.316087\n",
      "..               ...  ...          ...   ...     ...       ...            ...\n",
      "1               5000  500            5  0.10     pcr  0.008414  271551.166442\n",
      "2               5000  500            5  0.10     pls  0.999922      21.257553\n",
      "0               5000  500           50  0.10  linreg  0.999996       1.123075\n",
      "1               5000  500           50  0.10     pcr  0.077863  252532.045128\n",
      "2               5000  500           50  0.10     pls  0.999996       1.123075\n",
      "\n",
      "[66 rows x 7 columns]\n"
     ]
    },
    {
     "name": "stderr",
     "output_type": "stream",
     "text": [
      "  0%|          | 0/5 [02:35<?, ?it/s, N=500, linreg=1, pcr=0.465, pls=1, rho=0.1]"
     ]
    },
    {
     "name": "stdout",
     "output_type": "stream",
     "text": [
      "   train_sample_size    N n_components   rho   model        R2            MSE\n",
      "0               5000  500            5  0.01  linreg  0.999996       1.120479\n",
      "1               5000  500            5  0.01     pcr  0.008567  278123.542607\n",
      "2               5000  500            5  0.01     pls  0.999916      23.445148\n",
      "0               5000  500           50  0.01  linreg  0.999996       1.120479\n",
      "1               5000  500           50  0.01     pcr  0.127465  244769.316087\n",
      "..               ...  ...          ...   ...     ...       ...            ...\n",
      "1               5000  500           50  0.10     pcr  0.077863  252532.045128\n",
      "2               5000  500           50  0.10     pls  0.999996       1.123075\n",
      "0               5000  500          125  0.10  linreg  0.999996       1.123075\n",
      "1               5000  500          125  0.10     pcr  0.221307  213249.201824\n",
      "2               5000  500          125  0.10     pls  0.999996       1.123075\n",
      "\n",
      "[69 rows x 7 columns]\n"
     ]
    },
    {
     "name": "stderr",
     "output_type": "stream",
     "text": [
      "  0%|          | 0/5 [02:39<?, ?it/s, N=500, linreg=1, pcr=0.00963, pls=0.999, rho=0.1]"
     ]
    },
    {
     "name": "stdout",
     "output_type": "stream",
     "text": [
      "   train_sample_size    N n_components   rho   model        R2            MSE\n",
      "0               5000  500            5  0.01  linreg  0.999996       1.120479\n",
      "1               5000  500            5  0.01     pcr  0.008567  278123.542607\n",
      "2               5000  500            5  0.01     pls  0.999916      23.445148\n",
      "0               5000  500           50  0.01  linreg  0.999996       1.120479\n",
      "1               5000  500           50  0.01     pcr  0.127465  244769.316087\n",
      "..               ...  ...          ...   ...     ...       ...            ...\n",
      "1               5000  500          125  0.10     pcr  0.221307  213249.201824\n",
      "2               5000  500          125  0.10     pls  0.999996       1.123075\n",
      "0               5000  500          250  0.10  linreg  0.999996       1.123075\n",
      "1               5000  500          250  0.10     pcr  0.465255  146442.713171\n",
      "2               5000  500          250  0.10     pls  0.999996       1.124082\n",
      "\n",
      "[72 rows x 7 columns]\n"
     ]
    },
    {
     "name": "stderr",
     "output_type": "stream",
     "text": [
      "  0%|          | 0/5 [02:46<?, ?it/s, N=500, linreg=1, pcr=0.092, pls=1, rho=0.1]      "
     ]
    },
    {
     "name": "stdout",
     "output_type": "stream",
     "text": [
      "   train_sample_size    N n_components   rho   model        R2            MSE\n",
      "0               5000  500            5  0.01  linreg  0.999996       1.120479\n",
      "1               5000  500            5  0.01     pcr  0.008567  278123.542607\n",
      "2               5000  500            5  0.01     pls  0.999916      23.445148\n",
      "0               5000  500           50  0.01  linreg  0.999996       1.120479\n",
      "1               5000  500           50  0.01     pcr  0.127465  244769.316087\n",
      "..               ...  ...          ...   ...     ...       ...            ...\n",
      "1               5000  500          250  0.10     pcr  0.465255  146442.713171\n",
      "2               5000  500          250  0.10     pls  0.999996       1.124082\n",
      "0               2500  500            5  0.10  linreg  0.999995       1.232319\n",
      "1               2500  500            5  0.10     pcr  0.009630  271018.574641\n",
      "2               2500  500            5  0.10     pls  0.998550     396.877492\n",
      "\n",
      "[75 rows x 7 columns]\n"
     ]
    },
    {
     "name": "stderr",
     "output_type": "stream",
     "text": [
      "  0%|          | 0/5 [02:54<?, ?it/s, N=500, linreg=1, pcr=0.25, pls=1, rho=0.1] "
     ]
    },
    {
     "name": "stdout",
     "output_type": "stream",
     "text": [
      "   train_sample_size    N n_components   rho   model        R2            MSE\n",
      "0               5000  500            5  0.01  linreg  0.999996       1.120479\n",
      "1               5000  500            5  0.01     pcr  0.008567  278123.542607\n",
      "2               5000  500            5  0.01     pls  0.999916      23.445148\n",
      "0               5000  500           50  0.01  linreg  0.999996       1.120479\n",
      "1               5000  500           50  0.01     pcr  0.127465  244769.316087\n",
      "..               ...  ...          ...   ...     ...       ...            ...\n",
      "1               2500  500            5  0.10     pcr  0.009630  271018.574641\n",
      "2               2500  500            5  0.10     pls  0.998550     396.877492\n",
      "0               2500  500           50  0.10  linreg  0.999995       1.232319\n",
      "1               2500  500           50  0.10     pcr  0.092006  248476.088761\n",
      "2               2500  500           50  0.10     pls  0.999995       1.232319\n",
      "\n",
      "[78 rows x 7 columns]\n"
     ]
    },
    {
     "name": "stderr",
     "output_type": "stream",
     "text": [
      "  0%|          | 0/5 [03:03<?, ?it/s, N=500, linreg=1, pcr=0.444, pls=1, rho=0.1]"
     ]
    },
    {
     "name": "stdout",
     "output_type": "stream",
     "text": [
      "   train_sample_size    N n_components   rho   model        R2            MSE\n",
      "0               5000  500            5  0.01  linreg  0.999996       1.120479\n",
      "1               5000  500            5  0.01     pcr  0.008567  278123.542607\n",
      "2               5000  500            5  0.01     pls  0.999916      23.445148\n",
      "0               5000  500           50  0.01  linreg  0.999996       1.120479\n",
      "1               5000  500           50  0.01     pcr  0.127465  244769.316087\n",
      "..               ...  ...          ...   ...     ...       ...            ...\n",
      "1               2500  500           50  0.10     pcr  0.092006  248476.088761\n",
      "2               2500  500           50  0.10     pls  0.999995       1.232319\n",
      "0               2500  500          125  0.10  linreg  0.999995       1.232319\n",
      "1               2500  500          125  0.10     pcr  0.250064  205222.955302\n",
      "2               2500  500          125  0.10     pls  0.999995       1.231748\n",
      "\n",
      "[81 rows x 7 columns]\n"
     ]
    },
    {
     "name": "stderr",
     "output_type": "stream",
     "text": [
      "  0%|          | 0/5 [03:06<?, ?it/s, N=500, linreg=1, pcr=0.0106, pls=0.989, rho=0.1]"
     ]
    },
    {
     "name": "stdout",
     "output_type": "stream",
     "text": [
      "   train_sample_size    N n_components   rho   model        R2            MSE\n",
      "0               5000  500            5  0.01  linreg  0.999996       1.120479\n",
      "1               5000  500            5  0.01     pcr  0.008567  278123.542607\n",
      "2               5000  500            5  0.01     pls  0.999916      23.445148\n",
      "0               5000  500           50  0.01  linreg  0.999996       1.120479\n",
      "1               5000  500           50  0.01     pcr  0.127465  244769.316087\n",
      "..               ...  ...          ...   ...     ...       ...            ...\n",
      "1               2500  500          125  0.10     pcr  0.250064  205222.955302\n",
      "2               2500  500          125  0.10     pls  0.999995       1.231748\n",
      "0               2500  500          250  0.10  linreg  0.999995       1.232319\n",
      "1               2500  500          250  0.10     pcr  0.443592  152263.300609\n",
      "2               2500  500          250  0.10     pls  0.999995       1.235133\n",
      "\n",
      "[84 rows x 7 columns]\n"
     ]
    },
    {
     "name": "stderr",
     "output_type": "stream",
     "text": [
      "  0%|          | 0/5 [03:14<?, ?it/s, N=500, linreg=1, pcr=0.0988, pls=1, rho=0.1]    "
     ]
    },
    {
     "name": "stdout",
     "output_type": "stream",
     "text": [
      "   train_sample_size    N n_components   rho   model        R2            MSE\n",
      "0               5000  500            5  0.01  linreg  0.999996       1.120479\n",
      "1               5000  500            5  0.01     pcr  0.008567  278123.542607\n",
      "2               5000  500            5  0.01     pls  0.999916      23.445148\n",
      "0               5000  500           50  0.01  linreg  0.999996       1.120479\n",
      "1               5000  500           50  0.01     pcr  0.127465  244769.316087\n",
      "..               ...  ...          ...   ...     ...       ...            ...\n",
      "1               2500  500          250  0.10     pcr  0.443592  152263.300609\n",
      "2               2500  500          250  0.10     pls  0.999995       1.235133\n",
      "0               1500  500            5  0.10  linreg  0.999994       1.530888\n",
      "1               1500  500            5  0.10     pcr  0.010595  270782.642010\n",
      "2               1500  500            5  0.10     pls  0.988865    3047.349185\n",
      "\n",
      "[87 rows x 7 columns]\n"
     ]
    },
    {
     "name": "stderr",
     "output_type": "stream",
     "text": [
      "  0%|          | 0/5 [03:21<?, ?it/s, N=500, linreg=1, pcr=0.236, pls=1, rho=0.1] "
     ]
    },
    {
     "name": "stdout",
     "output_type": "stream",
     "text": [
      "   train_sample_size    N n_components   rho   model        R2            MSE\n",
      "0               5000  500            5  0.01  linreg  0.999996       1.120479\n",
      "1               5000  500            5  0.01     pcr  0.008567  278123.542607\n",
      "2               5000  500            5  0.01     pls  0.999916      23.445148\n",
      "0               5000  500           50  0.01  linreg  0.999996       1.120479\n",
      "1               5000  500           50  0.01     pcr  0.127465  244769.316087\n",
      "..               ...  ...          ...   ...     ...       ...            ...\n",
      "1               1500  500            5  0.10     pcr  0.010595  270782.642010\n",
      "2               1500  500            5  0.10     pls  0.988865    3047.349185\n",
      "0               1500  500           50  0.10  linreg  0.999994       1.530888\n",
      "1               1500  500           50  0.10     pcr  0.098773  246649.716097\n",
      "2               1500  500           50  0.10     pls  0.999994       1.530888\n",
      "\n",
      "[90 rows x 7 columns]\n"
     ]
    },
    {
     "name": "stderr",
     "output_type": "stream",
     "text": [
      "  0%|          | 0/5 [03:30<?, ?it/s, N=500, linreg=1, pcr=0.476, pls=1, rho=0.1]"
     ]
    },
    {
     "name": "stdout",
     "output_type": "stream",
     "text": [
      "   train_sample_size    N n_components   rho   model        R2            MSE\n",
      "0               5000  500            5  0.01  linreg  0.999996       1.120479\n",
      "1               5000  500            5  0.01     pcr  0.008567  278123.542607\n",
      "2               5000  500            5  0.01     pls  0.999916      23.445148\n",
      "0               5000  500           50  0.01  linreg  0.999996       1.120479\n",
      "1               5000  500           50  0.01     pcr  0.127465  244769.316087\n",
      "..               ...  ...          ...   ...     ...       ...            ...\n",
      "1               1500  500           50  0.10     pcr  0.098773  246649.716097\n",
      "2               1500  500           50  0.10     pls  0.999994       1.530888\n",
      "0               1500  500          125  0.10  linreg  0.999994       1.530888\n",
      "1               1500  500          125  0.10     pcr  0.235541  209218.828064\n",
      "2               1500  500          125  0.10     pls  0.999994       1.530888\n",
      "\n",
      "[93 rows x 7 columns]\n"
     ]
    },
    {
     "name": "stderr",
     "output_type": "stream",
     "text": [
      "  0%|          | 0/5 [03:33<?, ?it/s, N=500, linreg=1, pcr=0.0115, pls=0.954, rho=0.1]"
     ]
    },
    {
     "name": "stdout",
     "output_type": "stream",
     "text": [
      "   train_sample_size    N n_components   rho   model        R2            MSE\n",
      "0               5000  500            5  0.01  linreg  0.999996       1.120479\n",
      "1               5000  500            5  0.01     pcr  0.008567  278123.542607\n",
      "2               5000  500            5  0.01     pls  0.999916      23.445148\n",
      "0               5000  500           50  0.01  linreg  0.999996       1.120479\n",
      "1               5000  500           50  0.01     pcr  0.127465  244769.316087\n",
      "..               ...  ...          ...   ...     ...       ...            ...\n",
      "1               1500  500          125  0.10     pcr  0.235541  209218.828064\n",
      "2               1500  500          125  0.10     pls  0.999994       1.530888\n",
      "0               1500  500          250  0.10  linreg  0.999994       1.530888\n",
      "1               1500  500          250  0.10     pcr  0.475563  143529.085044\n",
      "2               1500  500          250  0.10     pls  0.999994       1.532761\n",
      "\n",
      "[96 rows x 7 columns]\n"
     ]
    },
    {
     "name": "stderr",
     "output_type": "stream",
     "text": [
      "  0%|          | 0/5 [03:40<?, ?it/s, N=500, linreg=1, pcr=0.0855, pls=1, rho=0.1]    "
     ]
    },
    {
     "name": "stdout",
     "output_type": "stream",
     "text": [
      "   train_sample_size    N n_components   rho   model        R2            MSE\n",
      "0               5000  500            5  0.01  linreg  0.999996       1.120479\n",
      "1               5000  500            5  0.01     pcr  0.008567  278123.542607\n",
      "2               5000  500            5  0.01     pls  0.999916      23.445148\n",
      "0               5000  500           50  0.01  linreg  0.999996       1.120479\n",
      "1               5000  500           50  0.01     pcr  0.127465  244769.316087\n",
      "..               ...  ...          ...   ...     ...       ...            ...\n",
      "1               1500  500          250  0.10     pcr  0.475563  143529.085044\n",
      "2               1500  500          250  0.10     pls  0.999994       1.532761\n",
      "0               1000  500            5  0.10  linreg  0.999993       1.974038\n",
      "1               1000  500            5  0.10     pcr  0.011530  270527.300097\n",
      "2               1000  500            5  0.10     pls  0.953982   12594.352501\n",
      "\n",
      "[99 rows x 7 columns]\n"
     ]
    },
    {
     "name": "stderr",
     "output_type": "stream",
     "text": [
      "  0%|          | 0/5 [03:47<?, ?it/s, N=500, linreg=1, pcr=0.224, pls=1, rho=0.1] "
     ]
    },
    {
     "name": "stdout",
     "output_type": "stream",
     "text": [
      "   train_sample_size    N n_components   rho   model        R2            MSE\n",
      "0               5000  500            5  0.01  linreg  0.999996       1.120479\n",
      "1               5000  500            5  0.01     pcr  0.008567  278123.542607\n",
      "2               5000  500            5  0.01     pls  0.999916      23.445148\n",
      "0               5000  500           50  0.01  linreg  0.999996       1.120479\n",
      "1               5000  500           50  0.01     pcr  0.127465  244769.316087\n",
      "..               ...  ...          ...   ...     ...       ...            ...\n",
      "1               1000  500            5  0.10     pcr  0.011530  270527.300097\n",
      "2               1000  500            5  0.10     pls  0.953982   12594.352501\n",
      "0               1000  500           50  0.10  linreg  0.999993       1.974038\n",
      "1               1000  500           50  0.10     pcr  0.085465  250292.395288\n",
      "2               1000  500           50  0.10     pls  0.999993       1.974040\n",
      "\n",
      "[102 rows x 7 columns]\n"
     ]
    },
    {
     "name": "stderr",
     "output_type": "stream",
     "text": [
      "  0%|          | 0/5 [03:55<?, ?it/s, N=500, linreg=1, pcr=0.461, pls=1, rho=0.1]"
     ]
    },
    {
     "name": "stdout",
     "output_type": "stream",
     "text": [
      "   train_sample_size    N n_components   rho   model        R2            MSE\n",
      "0               5000  500            5  0.01  linreg  0.999996       1.120479\n",
      "1               5000  500            5  0.01     pcr  0.008567  278123.542607\n",
      "2               5000  500            5  0.01     pls  0.999916      23.445148\n",
      "0               5000  500           50  0.01  linreg  0.999996       1.120479\n",
      "1               5000  500           50  0.01     pcr  0.127465  244769.316087\n",
      "..               ...  ...          ...   ...     ...       ...            ...\n",
      "1               1000  500           50  0.10     pcr  0.085465  250292.395288\n",
      "2               1000  500           50  0.10     pls  0.999993       1.974040\n",
      "0               1000  500          125  0.10  linreg  0.999993       1.974038\n",
      "1               1000  500          125  0.10     pcr  0.224254  212308.366481\n",
      "2               1000  500          125  0.10     pls  0.999993       1.974038\n",
      "\n",
      "[105 rows x 7 columns]\n"
     ]
    },
    {
     "name": "stderr",
     "output_type": "stream",
     "text": [
      "  0%|          | 0/5 [03:57<?, ?it/s, N=500, linreg=0.992, pcr=0.0147, pls=0.779, rho=0.1]"
     ]
    },
    {
     "name": "stdout",
     "output_type": "stream",
     "text": [
      "   train_sample_size    N n_components   rho   model        R2            MSE\n",
      "0               5000  500            5  0.01  linreg  0.999996       1.120479\n",
      "1               5000  500            5  0.01     pcr  0.008567  278123.542607\n",
      "2               5000  500            5  0.01     pls  0.999916      23.445148\n",
      "0               5000  500           50  0.01  linreg  0.999996       1.120479\n",
      "1               5000  500           50  0.01     pcr  0.127465  244769.316087\n",
      "..               ...  ...          ...   ...     ...       ...            ...\n",
      "1               1000  500          125  0.10     pcr  0.224254  212308.366481\n",
      "2               1000  500          125  0.10     pls  0.999993       1.974038\n",
      "0               1000  500          250  0.10  linreg  0.999993       1.974038\n",
      "1               1000  500          250  0.10     pcr  0.460788  147573.109705\n",
      "2               1000  500          250  0.10     pls  0.999993       1.979878\n",
      "\n",
      "[108 rows x 7 columns]\n"
     ]
    },
    {
     "name": "stderr",
     "output_type": "stream",
     "text": [
      "  0%|          | 0/5 [03:59<?, ?it/s, N=500, linreg=0.992, pcr=0.0864, pls=0.976, rho=0.1]"
     ]
    },
    {
     "name": "stdout",
     "output_type": "stream",
     "text": [
      "   train_sample_size    N n_components   rho   model        R2            MSE\n",
      "0               5000  500            5  0.01  linreg  0.999996       1.120479\n",
      "1               5000  500            5  0.01     pcr  0.008567  278123.542607\n",
      "2               5000  500            5  0.01     pls  0.999916      23.445148\n",
      "0               5000  500           50  0.01  linreg  0.999996       1.120479\n",
      "1               5000  500           50  0.01     pcr  0.127465  244769.316087\n",
      "..               ...  ...          ...   ...     ...       ...            ...\n",
      "1               1000  500          250  0.10     pcr  0.460788  147573.109705\n",
      "2               1000  500          250  0.10     pls  0.999993       1.979878\n",
      "0                500  500            5  0.10  linreg  0.991971    2196.146433\n",
      "1                500  500            5  0.10     pcr  0.014720  269506.221341\n",
      "2                500  500            5  0.10     pls  0.778893   60480.077809\n",
      "\n",
      "[111 rows x 7 columns]\n"
     ]
    },
    {
     "name": "stderr",
     "output_type": "stream",
     "text": [
      "  0%|          | 0/5 [04:02<?, ?it/s, N=500, linreg=0.992, pcr=0.273, pls=0.994, rho=0.1] "
     ]
    },
    {
     "name": "stdout",
     "output_type": "stream",
     "text": [
      "   train_sample_size    N n_components   rho   model        R2            MSE\n",
      "0               5000  500            5  0.01  linreg  0.999996       1.120479\n",
      "1               5000  500            5  0.01     pcr  0.008567  278123.542607\n",
      "2               5000  500            5  0.01     pls  0.999916      23.445148\n",
      "0               5000  500           50  0.01  linreg  0.999996       1.120479\n",
      "1               5000  500           50  0.01     pcr  0.127465  244769.316087\n",
      "..               ...  ...          ...   ...     ...       ...            ...\n",
      "1                500  500            5  0.10     pcr  0.014720  269506.221341\n",
      "2                500  500            5  0.10     pls  0.778893   60480.077809\n",
      "0                500  500           50  0.10  linreg  0.991971    2196.146433\n",
      "1                500  500           50  0.10     pcr  0.086371  249907.460176\n",
      "2                500  500           50  0.10     pls  0.975941    6580.950824\n",
      "\n",
      "[114 rows x 7 columns]\n"
     ]
    },
    {
     "name": "stderr",
     "output_type": "stream",
     "text": [
      "  0%|          | 0/5 [04:05<?, ?it/s, N=500, linreg=0.992, pcr=0.502, pls=0.996, rho=0.1]"
     ]
    },
    {
     "name": "stdout",
     "output_type": "stream",
     "text": [
      "   train_sample_size    N n_components   rho   model        R2            MSE\n",
      "0               5000  500            5  0.01  linreg  0.999996       1.120479\n",
      "1               5000  500            5  0.01     pcr  0.008567  278123.542607\n",
      "2               5000  500            5  0.01     pls  0.999916      23.445148\n",
      "0               5000  500           50  0.01  linreg  0.999996       1.120479\n",
      "1               5000  500           50  0.01     pcr  0.127465  244769.316087\n",
      "..               ...  ...          ...   ...     ...       ...            ...\n",
      "1                500  500           50  0.10     pcr  0.086371  249907.460176\n",
      "2                500  500           50  0.10     pls  0.975941    6580.950824\n",
      "0                500  500          125  0.10  linreg  0.991971    2196.146433\n",
      "1                500  500          125  0.10     pcr  0.273213  198799.961347\n",
      "2                500  500          125  0.10     pls  0.993623    1744.327268\n",
      "\n",
      "[117 rows x 7 columns]\n"
     ]
    },
    {
     "name": "stderr",
     "output_type": "stream",
     "text": [
      "  0%|          | 0/5 [04:10<?, ?it/s, N=500, linreg=1, pcr=0.352, pls=1, rho=0.2]        "
     ]
    },
    {
     "name": "stdout",
     "output_type": "stream",
     "text": [
      "   train_sample_size    N n_components   rho   model        R2            MSE\n",
      "0               5000  500            5  0.01  linreg  0.999996       1.120479\n",
      "1               5000  500            5  0.01     pcr  0.008567  278123.542607\n",
      "2               5000  500            5  0.01     pls  0.999916      23.445148\n",
      "0               5000  500           50  0.01  linreg  0.999996       1.120479\n",
      "1               5000  500           50  0.01     pcr  0.127465  244769.316087\n",
      "..               ...  ...          ...   ...     ...       ...            ...\n",
      "1                500  500          125  0.10     pcr  0.273213  198799.961347\n",
      "2                500  500          125  0.10     pls  0.993623    1744.327268\n",
      "0                500  500          250  0.10  linreg  0.991971    2196.146433\n",
      "1                500  500          250  0.10     pcr  0.502152  136177.599303\n",
      "2                500  500          250  0.10     pls  0.996039    1083.470962\n",
      "\n",
      "[120 rows x 7 columns]\n"
     ]
    },
    {
     "name": "stderr",
     "output_type": "stream",
     "text": [
      "  0%|          | 0/5 [04:18<?, ?it/s, N=500, linreg=1, pcr=0.407, pls=1, rho=0.2]"
     ]
    },
    {
     "name": "stdout",
     "output_type": "stream",
     "text": [
      "   train_sample_size    N n_components   rho   model        R2            MSE\n",
      "0               5000  500            5  0.01  linreg  0.999996       1.120479\n",
      "1               5000  500            5  0.01     pcr  0.008567  278123.542607\n",
      "2               5000  500            5  0.01     pls  0.999916      23.445148\n",
      "0               5000  500           50  0.01  linreg  0.999996       1.120479\n",
      "1               5000  500           50  0.01     pcr  0.127465  244769.316087\n",
      "..               ...  ...          ...   ...     ...       ...            ...\n",
      "1                500  500          250  0.10     pcr  0.502152  136177.599303\n",
      "2                500  500          250  0.10     pls  0.996039    1083.470962\n",
      "0               5000  500            5  0.20  linreg  0.999997       1.095811\n",
      "1               5000  500            5  0.20     pcr  0.352488  275538.392158\n",
      "2               5000  500            5  0.20     pls  0.999933      28.352966\n",
      "\n",
      "[123 rows x 7 columns]\n"
     ]
    },
    {
     "name": "stderr",
     "output_type": "stream",
     "text": [
      "  0%|          | 0/5 [04:26<?, ?it/s, N=500, linreg=1, pcr=0.499, pls=1, rho=0.2]"
     ]
    },
    {
     "name": "stdout",
     "output_type": "stream",
     "text": [
      "   train_sample_size    N n_components   rho   model        R2            MSE\n",
      "0               5000  500            5  0.01  linreg  0.999996       1.120479\n",
      "1               5000  500            5  0.01     pcr  0.008567  278123.542607\n",
      "2               5000  500            5  0.01     pls  0.999916      23.445148\n",
      "0               5000  500           50  0.01  linreg  0.999996       1.120479\n",
      "1               5000  500           50  0.01     pcr  0.127465  244769.316087\n",
      "..               ...  ...          ...   ...     ...       ...            ...\n",
      "1               5000  500            5  0.20     pcr  0.352488  275538.392158\n",
      "2               5000  500            5  0.20     pls  0.999933      28.352966\n",
      "0               5000  500           50  0.20  linreg  0.999997       1.095811\n",
      "1               5000  500           50  0.20     pcr  0.406812  252421.830022\n",
      "2               5000  500           50  0.20     pls  0.999997       1.095811\n",
      "\n",
      "[126 rows x 7 columns]\n"
     ]
    },
    {
     "name": "stderr",
     "output_type": "stream",
     "text": [
      "  0%|          | 0/5 [04:37<?, ?it/s, N=500, linreg=1, pcr=0.684, pls=1, rho=0.2]"
     ]
    },
    {
     "name": "stdout",
     "output_type": "stream",
     "text": [
      "   train_sample_size    N n_components   rho   model        R2            MSE\n",
      "0               5000  500            5  0.01  linreg  0.999996       1.120479\n",
      "1               5000  500            5  0.01     pcr  0.008567  278123.542607\n",
      "2               5000  500            5  0.01     pls  0.999916      23.445148\n",
      "0               5000  500           50  0.01  linreg  0.999996       1.120479\n",
      "1               5000  500           50  0.01     pcr  0.127465  244769.316087\n",
      "..               ...  ...          ...   ...     ...       ...            ...\n",
      "1               5000  500           50  0.20     pcr  0.406812  252421.830022\n",
      "2               5000  500           50  0.20     pls  0.999997       1.095811\n",
      "0               5000  500          125  0.20  linreg  0.999997       1.095811\n",
      "1               5000  500          125  0.20     pcr  0.499313  213059.404513\n",
      "2               5000  500          125  0.20     pls  0.999997       1.096331\n",
      "\n",
      "[129 rows x 7 columns]\n"
     ]
    },
    {
     "name": "stderr",
     "output_type": "stream",
     "text": [
      "  0%|          | 0/5 [04:41<?, ?it/s, N=500, linreg=1, pcr=0.352, pls=0.999, rho=0.2]"
     ]
    },
    {
     "name": "stdout",
     "output_type": "stream",
     "text": [
      "   train_sample_size    N n_components   rho   model        R2            MSE\n",
      "0               5000  500            5  0.01  linreg  0.999996       1.120479\n",
      "1               5000  500            5  0.01     pcr  0.008567  278123.542607\n",
      "2               5000  500            5  0.01     pls  0.999916      23.445148\n",
      "0               5000  500           50  0.01  linreg  0.999996       1.120479\n",
      "1               5000  500           50  0.01     pcr  0.127465  244769.316087\n",
      "..               ...  ...          ...   ...     ...       ...            ...\n",
      "1               5000  500          125  0.20     pcr  0.499313  213059.404513\n",
      "2               5000  500          125  0.20     pls  0.999997       1.096331\n",
      "0               5000  500          250  0.20  linreg  0.999997       1.095811\n",
      "1               5000  500          250  0.20     pcr  0.684078  134435.484176\n",
      "2               5000  500          250  0.20     pls  0.999997       1.100983\n",
      "\n",
      "[132 rows x 7 columns]\n"
     ]
    },
    {
     "name": "stderr",
     "output_type": "stream",
     "text": [
      "  0%|          | 0/5 [04:48<?, ?it/s, N=500, linreg=1, pcr=0.423, pls=1, rho=0.2]    "
     ]
    },
    {
     "name": "stdout",
     "output_type": "stream",
     "text": [
      "   train_sample_size    N n_components   rho   model        R2            MSE\n",
      "0               5000  500            5  0.01  linreg  0.999996       1.120479\n",
      "1               5000  500            5  0.01     pcr  0.008567  278123.542607\n",
      "2               5000  500            5  0.01     pls  0.999916      23.445148\n",
      "0               5000  500           50  0.01  linreg  0.999996       1.120479\n",
      "1               5000  500           50  0.01     pcr  0.127465  244769.316087\n",
      "..               ...  ...          ...   ...     ...       ...            ...\n",
      "1               5000  500          250  0.20     pcr  0.684078  134435.484176\n",
      "2               5000  500          250  0.20     pls  0.999997       1.100983\n",
      "0               2500  500            5  0.20  linreg  0.999997       1.221811\n",
      "1               2500  500            5  0.20     pcr  0.352047  275721.610662\n",
      "2               2500  500            5  0.20     pls  0.999026     414.446460\n",
      "\n",
      "[135 rows x 7 columns]\n"
     ]
    },
    {
     "name": "stderr",
     "output_type": "stream",
     "text": [
      "  0%|          | 0/5 [04:56<?, ?it/s, N=500, linreg=1, pcr=0.508, pls=1, rho=0.2]"
     ]
    },
    {
     "name": "stdout",
     "output_type": "stream",
     "text": [
      "   train_sample_size    N n_components   rho   model        R2            MSE\n",
      "0               5000  500            5  0.01  linreg  0.999996       1.120479\n",
      "1               5000  500            5  0.01     pcr  0.008567  278123.542607\n",
      "2               5000  500            5  0.01     pls  0.999916      23.445148\n",
      "0               5000  500           50  0.01  linreg  0.999996       1.120479\n",
      "1               5000  500           50  0.01     pcr  0.127465  244769.316087\n",
      "..               ...  ...          ...   ...     ...       ...            ...\n",
      "1               2500  500            5  0.20     pcr  0.352047  275721.610662\n",
      "2               2500  500            5  0.20     pls  0.999026     414.446460\n",
      "0               2500  500           50  0.20  linreg  0.999997       1.221811\n",
      "1               2500  500           50  0.20     pcr  0.422816  245607.778968\n",
      "2               2500  500           50  0.20     pls  0.999997       1.221811\n",
      "\n",
      "[138 rows x 7 columns]\n"
     ]
    },
    {
     "name": "stderr",
     "output_type": "stream",
     "text": [
      "  0%|          | 0/5 [05:05<?, ?it/s, N=500, linreg=1, pcr=0.679, pls=1, rho=0.2]"
     ]
    },
    {
     "name": "stdout",
     "output_type": "stream",
     "text": [
      "   train_sample_size    N n_components   rho   model        R2            MSE\n",
      "0               5000  500            5  0.01  linreg  0.999996       1.120479\n",
      "1               5000  500            5  0.01     pcr  0.008567  278123.542607\n",
      "2               5000  500            5  0.01     pls  0.999916      23.445148\n",
      "0               5000  500           50  0.01  linreg  0.999996       1.120479\n",
      "1               5000  500           50  0.01     pcr  0.127465  244769.316087\n",
      "..               ...  ...          ...   ...     ...       ...            ...\n",
      "1               2500  500           50  0.20     pcr  0.422816  245607.778968\n",
      "2               2500  500           50  0.20     pls  0.999997       1.221811\n",
      "0               2500  500          125  0.20  linreg  0.999997       1.221811\n",
      "1               2500  500          125  0.20     pcr  0.508400  209189.529601\n",
      "2               2500  500          125  0.20     pls  0.999997       1.221807\n",
      "\n",
      "[141 rows x 7 columns]\n"
     ]
    },
    {
     "name": "stderr",
     "output_type": "stream",
     "text": [
      "  0%|          | 0/5 [05:09<?, ?it/s, N=500, linreg=1, pcr=0.353, pls=0.994, rho=0.2]"
     ]
    },
    {
     "name": "stdout",
     "output_type": "stream",
     "text": [
      "   train_sample_size    N n_components   rho   model        R2            MSE\n",
      "0               5000  500            5  0.01  linreg  0.999996       1.120479\n",
      "1               5000  500            5  0.01     pcr  0.008567  278123.542607\n",
      "2               5000  500            5  0.01     pls  0.999916      23.445148\n",
      "0               5000  500           50  0.01  linreg  0.999996       1.120479\n",
      "1               5000  500           50  0.01     pcr  0.127465  244769.316087\n",
      "..               ...  ...          ...   ...     ...       ...            ...\n",
      "1               2500  500          125  0.20     pcr  0.508400  209189.529601\n",
      "2               2500  500          125  0.20     pls  0.999997       1.221807\n",
      "0               2500  500          250  0.20  linreg  0.999997       1.221811\n",
      "1               2500  500          250  0.20     pcr  0.678720  136713.280789\n",
      "2               2500  500          250  0.20     pls  0.999997       1.224987\n",
      "\n",
      "[144 rows x 7 columns]\n"
     ]
    },
    {
     "name": "stderr",
     "output_type": "stream",
     "text": [
      "  0%|          | 0/5 [05:15<?, ?it/s, N=500, linreg=1, pcr=0.41, pls=1, rho=0.2]     "
     ]
    },
    {
     "name": "stdout",
     "output_type": "stream",
     "text": [
      "   train_sample_size    N n_components   rho   model        R2            MSE\n",
      "0               5000  500            5  0.01  linreg  0.999996       1.120479\n",
      "1               5000  500            5  0.01     pcr  0.008567  278123.542607\n",
      "2               5000  500            5  0.01     pls  0.999916      23.445148\n",
      "0               5000  500           50  0.01  linreg  0.999996       1.120479\n",
      "1               5000  500           50  0.01     pcr  0.127465  244769.316087\n",
      "..               ...  ...          ...   ...     ...       ...            ...\n",
      "1               2500  500          250  0.20     pcr  0.678720  136713.280789\n",
      "2               2500  500          250  0.20     pls  0.999997       1.224987\n",
      "0               1500  500            5  0.20  linreg  0.999996       1.489612\n",
      "1               1500  500            5  0.20     pcr  0.352790  275306.736083\n",
      "2               1500  500            5  0.20     pls  0.993780    2645.813457\n",
      "\n",
      "[147 rows x 7 columns]\n"
     ]
    },
    {
     "name": "stderr",
     "output_type": "stream",
     "text": [
      "  0%|          | 0/5 [05:24<?, ?it/s, N=500, linreg=1, pcr=0.52, pls=1, rho=0.2]"
     ]
    },
    {
     "name": "stdout",
     "output_type": "stream",
     "text": [
      "   train_sample_size    N n_components   rho   model        R2            MSE\n",
      "0               5000  500            5  0.01  linreg  0.999996       1.120479\n",
      "1               5000  500            5  0.01     pcr  0.008567  278123.542607\n",
      "2               5000  500            5  0.01     pls  0.999916      23.445148\n",
      "0               5000  500           50  0.01  linreg  0.999996       1.120479\n",
      "1               5000  500           50  0.01     pcr  0.127465  244769.316087\n",
      "..               ...  ...          ...   ...     ...       ...            ...\n",
      "1               1500  500            5  0.20     pcr  0.352790  275306.736083\n",
      "2               1500  500            5  0.20     pls  0.993780    2645.813457\n",
      "0               1500  500           50  0.20  linreg  0.999996       1.489612\n",
      "1               1500  500           50  0.20     pcr  0.409932  251000.037544\n",
      "2               1500  500           50  0.20     pls  0.999996       1.489612\n",
      "\n",
      "[150 rows x 7 columns]\n"
     ]
    },
    {
     "name": "stderr",
     "output_type": "stream",
     "text": [
      "  0%|          | 0/5 [05:32<?, ?it/s, N=500, linreg=1, pcr=0.692, pls=1, rho=0.2]"
     ]
    },
    {
     "name": "stdout",
     "output_type": "stream",
     "text": [
      "   train_sample_size    N n_components   rho   model        R2            MSE\n",
      "0               5000  500            5  0.01  linreg  0.999996       1.120479\n",
      "1               5000  500            5  0.01     pcr  0.008567  278123.542607\n",
      "2               5000  500            5  0.01     pls  0.999916      23.445148\n",
      "0               5000  500           50  0.01  linreg  0.999996       1.120479\n",
      "1               5000  500           50  0.01     pcr  0.127465  244769.316087\n",
      "..               ...  ...          ...   ...     ...       ...            ...\n",
      "1               1500  500           50  0.20     pcr  0.409932  251000.037544\n",
      "2               1500  500           50  0.20     pls  0.999996       1.489612\n",
      "0               1500  500          125  0.20  linreg  0.999996       1.489612\n",
      "1               1500  500          125  0.20     pcr  0.520233  204081.014558\n",
      "2               1500  500          125  0.20     pls  0.999996       1.489612\n",
      "\n",
      "[153 rows x 7 columns]\n"
     ]
    },
    {
     "name": "stderr",
     "output_type": "stream",
     "text": [
      "  0%|          | 0/5 [05:36<?, ?it/s, N=500, linreg=1, pcr=0.35, pls=0.974, rho=0.2]"
     ]
    },
    {
     "name": "stdout",
     "output_type": "stream",
     "text": [
      "   train_sample_size    N n_components   rho   model        R2            MSE\n",
      "0               5000  500            5  0.01  linreg  0.999996       1.120479\n",
      "1               5000  500            5  0.01     pcr  0.008567  278123.542607\n",
      "2               5000  500            5  0.01     pls  0.999916      23.445148\n",
      "0               5000  500           50  0.01  linreg  0.999996       1.120479\n",
      "1               5000  500           50  0.01     pcr  0.127465  244769.316087\n",
      "..               ...  ...          ...   ...     ...       ...            ...\n",
      "1               1500  500          125  0.20     pcr  0.520233  204081.014558\n",
      "2               1500  500          125  0.20     pls  0.999996       1.489612\n",
      "0               1500  500          250  0.20  linreg  0.999996       1.489612\n",
      "1               1500  500          250  0.20     pcr  0.692480  130811.356258\n",
      "2               1500  500          250  0.20     pls  0.999997       1.484955\n",
      "\n",
      "[156 rows x 7 columns]\n"
     ]
    },
    {
     "name": "stderr",
     "output_type": "stream",
     "text": [
      "  0%|          | 0/5 [05:43<?, ?it/s, N=500, linreg=1, pcr=0.398, pls=1, rho=0.2]   "
     ]
    },
    {
     "name": "stdout",
     "output_type": "stream",
     "text": [
      "   train_sample_size    N n_components   rho   model        R2            MSE\n",
      "0               5000  500            5  0.01  linreg  0.999996       1.120479\n",
      "1               5000  500            5  0.01     pcr  0.008567  278123.542607\n",
      "2               5000  500            5  0.01     pls  0.999916      23.445148\n",
      "0               5000  500           50  0.01  linreg  0.999996       1.120479\n",
      "1               5000  500           50  0.01     pcr  0.127465  244769.316087\n",
      "..               ...  ...          ...   ...     ...       ...            ...\n",
      "1               1500  500          250  0.20     pcr  0.692480  130811.356258\n",
      "2               1500  500          250  0.20     pls  0.999997       1.484955\n",
      "0               1000  500            5  0.20  linreg  0.999995       2.005426\n",
      "1               1000  500            5  0.20     pcr  0.349747  276757.050151\n",
      "2               1000  500            5  0.20     pls  0.973728   11181.939474\n",
      "\n",
      "[159 rows x 7 columns]\n"
     ]
    },
    {
     "name": "stderr",
     "output_type": "stream",
     "text": [
      "  0%|          | 0/5 [05:50<?, ?it/s, N=500, linreg=1, pcr=0.514, pls=1, rho=0.2]"
     ]
    },
    {
     "name": "stdout",
     "output_type": "stream",
     "text": [
      "   train_sample_size    N n_components   rho   model        R2            MSE\n",
      "0               5000  500            5  0.01  linreg  0.999996       1.120479\n",
      "1               5000  500            5  0.01     pcr  0.008567  278123.542607\n",
      "2               5000  500            5  0.01     pls  0.999916      23.445148\n",
      "0               5000  500           50  0.01  linreg  0.999996       1.120479\n",
      "1               5000  500           50  0.01     pcr  0.127465  244769.316087\n",
      "..               ...  ...          ...   ...     ...       ...            ...\n",
      "1               1000  500            5  0.20     pcr  0.349747  276757.050151\n",
      "2               1000  500            5  0.20     pls  0.973728   11181.939474\n",
      "0               1000  500           50  0.20  linreg  0.999995       2.005426\n",
      "1               1000  500           50  0.20     pcr  0.398489  256011.672744\n",
      "2               1000  500           50  0.20     pls  0.999995       2.005427\n",
      "\n",
      "[162 rows x 7 columns]\n"
     ]
    },
    {
     "name": "stderr",
     "output_type": "stream",
     "text": [
      "  0%|          | 0/5 [05:58<?, ?it/s, N=500, linreg=1, pcr=0.682, pls=1, rho=0.2]"
     ]
    },
    {
     "name": "stdout",
     "output_type": "stream",
     "text": [
      "   train_sample_size    N n_components   rho   model        R2            MSE\n",
      "0               5000  500            5  0.01  linreg  0.999996       1.120479\n",
      "1               5000  500            5  0.01     pcr  0.008567  278123.542607\n",
      "2               5000  500            5  0.01     pls  0.999916      23.445148\n",
      "0               5000  500           50  0.01  linreg  0.999996       1.120479\n",
      "1               5000  500           50  0.01     pcr  0.127465  244769.316087\n",
      "..               ...  ...          ...   ...     ...       ...            ...\n",
      "1               1000  500           50  0.20     pcr  0.398489  256011.672744\n",
      "2               1000  500           50  0.20     pls  0.999995       2.005427\n",
      "0               1000  500          125  0.20  linreg  0.999995       2.005426\n",
      "1               1000  500          125  0.20     pcr  0.513661  206993.140961\n",
      "2               1000  500          125  0.20     pls  0.999995       2.005426\n",
      "\n",
      "[165 rows x 7 columns]\n"
     ]
    },
    {
     "name": "stderr",
     "output_type": "stream",
     "text": [
      "  0%|          | 0/5 [06:00<?, ?it/s, N=500, linreg=0.995, pcr=0.342, pls=0.856, rho=0.2]"
     ]
    },
    {
     "name": "stdout",
     "output_type": "stream",
     "text": [
      "   train_sample_size    N n_components   rho   model        R2            MSE\n",
      "0               5000  500            5  0.01  linreg  0.999996       1.120479\n",
      "1               5000  500            5  0.01     pcr  0.008567  278123.542607\n",
      "2               5000  500            5  0.01     pls  0.999916      23.445148\n",
      "0               5000  500           50  0.01  linreg  0.999996       1.120479\n",
      "1               5000  500           50  0.01     pcr  0.127465  244769.316087\n",
      "..               ...  ...          ...   ...     ...       ...            ...\n",
      "1               1000  500          125  0.20     pcr  0.513661  206993.140961\n",
      "2               1000  500          125  0.20     pls  0.999995       2.005426\n",
      "0               1000  500          250  0.20  linreg  0.999995       2.005426\n",
      "1               1000  500          250  0.20     pcr  0.681502  135557.357553\n",
      "2               1000  500          250  0.20     pls  0.999995       2.004834\n",
      "\n",
      "[168 rows x 7 columns]\n"
     ]
    },
    {
     "name": "stderr",
     "output_type": "stream",
     "text": [
      "  0%|          | 0/5 [06:02<?, ?it/s, N=500, linreg=0.995, pcr=0.403, pls=0.987, rho=0.2]"
     ]
    },
    {
     "name": "stdout",
     "output_type": "stream",
     "text": [
      "   train_sample_size    N n_components   rho   model        R2            MSE\n",
      "0               5000  500            5  0.01  linreg  0.999996       1.120479\n",
      "1               5000  500            5  0.01     pcr  0.008567  278123.542607\n",
      "2               5000  500            5  0.01     pls  0.999916      23.445148\n",
      "0               5000  500           50  0.01  linreg  0.999996       1.120479\n",
      "1               5000  500           50  0.01     pcr  0.127465  244769.316087\n",
      "..               ...  ...          ...   ...     ...       ...            ...\n",
      "1               1000  500          250  0.20     pcr  0.681502  135557.357553\n",
      "2               1000  500          250  0.20     pls  0.999995       2.004834\n",
      "0                500  500            5  0.20  linreg  0.994965    2143.361585\n",
      "1                500  500            5  0.20     pcr  0.342351  279928.913536\n",
      "2                500  500            5  0.20     pls  0.855714   61415.580416\n",
      "\n",
      "[171 rows x 7 columns]\n"
     ]
    },
    {
     "name": "stderr",
     "output_type": "stream",
     "text": [
      "  0%|          | 0/5 [06:05<?, ?it/s, N=500, linreg=0.995, pcr=0.542, pls=0.992, rho=0.2]"
     ]
    },
    {
     "name": "stdout",
     "output_type": "stream",
     "text": [
      "   train_sample_size    N n_components   rho   model        R2            MSE\n",
      "0               5000  500            5  0.01  linreg  0.999996       1.120479\n",
      "1               5000  500            5  0.01     pcr  0.008567  278123.542607\n",
      "2               5000  500            5  0.01     pls  0.999916      23.445148\n",
      "0               5000  500           50  0.01  linreg  0.999996       1.120479\n",
      "1               5000  500           50  0.01     pcr  0.127465  244769.316087\n",
      "..               ...  ...          ...   ...     ...       ...            ...\n",
      "1                500  500            5  0.20     pcr  0.342351  279928.913536\n",
      "2                500  500            5  0.20     pls  0.855714   61415.580416\n",
      "0                500  500           50  0.20  linreg  0.994965    2143.361585\n",
      "1                500  500           50  0.20     pcr  0.403060  254088.230137\n",
      "2                500  500           50  0.20     pls  0.986522    5736.926894\n",
      "\n",
      "[174 rows x 7 columns]\n"
     ]
    },
    {
     "name": "stderr",
     "output_type": "stream",
     "text": [
      "  0%|          | 0/5 [06:08<?, ?it/s, N=500, linreg=0.995, pcr=0.677, pls=0.995, rho=0.2]"
     ]
    },
    {
     "name": "stdout",
     "output_type": "stream",
     "text": [
      "   train_sample_size    N n_components   rho   model        R2            MSE\n",
      "0               5000  500            5  0.01  linreg  0.999996       1.120479\n",
      "1               5000  500            5  0.01     pcr  0.008567  278123.542607\n",
      "2               5000  500            5  0.01     pls  0.999916      23.445148\n",
      "0               5000  500           50  0.01  linreg  0.999996       1.120479\n",
      "1               5000  500           50  0.01     pcr  0.127465  244769.316087\n",
      "..               ...  ...          ...   ...     ...       ...            ...\n",
      "1                500  500           50  0.20     pcr  0.403060  254088.230137\n",
      "2                500  500           50  0.20     pls  0.986522    5736.926894\n",
      "0                500  500          125  0.20  linreg  0.994965    2143.361585\n",
      "1                500  500          125  0.20     pcr  0.542180  194871.463260\n",
      "2                500  500          125  0.20     pls  0.992251    3298.177179\n",
      "\n",
      "[177 rows x 7 columns]\n"
     ]
    },
    {
     "name": "stderr",
     "output_type": "stream",
     "text": [
      "  0%|          | 0/5 [06:14<?, ?it/s, N=500, linreg=1, pcr=0.249, pls=1, rho=0.5]        "
     ]
    },
    {
     "name": "stdout",
     "output_type": "stream",
     "text": [
      "   train_sample_size    N n_components   rho   model        R2            MSE\n",
      "0               5000  500            5  0.01  linreg  0.999996       1.120479\n",
      "1               5000  500            5  0.01     pcr  0.008567  278123.542607\n",
      "2               5000  500            5  0.01     pls  0.999916      23.445148\n",
      "0               5000  500           50  0.01  linreg  0.999996       1.120479\n",
      "1               5000  500           50  0.01     pcr  0.127465  244769.316087\n",
      "..               ...  ...          ...   ...     ...       ...            ...\n",
      "1                500  500          125  0.20     pcr  0.542180  194871.463260\n",
      "2                500  500          125  0.20     pls  0.992251    3298.177179\n",
      "0                500  500          250  0.20  linreg  0.994965    2143.361585\n",
      "1                500  500          250  0.20     pcr  0.677228  137388.168266\n",
      "2                500  500          250  0.20     pls  0.994629    2285.989408\n",
      "\n",
      "[180 rows x 7 columns]\n"
     ]
    },
    {
     "name": "stderr",
     "output_type": "stream",
     "text": [
      "  0%|          | 0/5 [06:21<?, ?it/s, N=500, linreg=1, pcr=0.315, pls=1, rho=0.5]"
     ]
    },
    {
     "name": "stdout",
     "output_type": "stream",
     "text": [
      "   train_sample_size    N n_components   rho   model        R2            MSE\n",
      "0               5000  500            5  0.01  linreg  0.999996       1.120479\n",
      "1               5000  500            5  0.01     pcr  0.008567  278123.542607\n",
      "2               5000  500            5  0.01     pls  0.999916      23.445148\n",
      "0               5000  500           50  0.01  linreg  0.999996       1.120479\n",
      "1               5000  500           50  0.01     pcr  0.127465  244769.316087\n",
      "..               ...  ...          ...   ...     ...       ...            ...\n",
      "1                500  500          250  0.20     pcr  0.677228  137388.168266\n",
      "2                500  500          250  0.20     pls  0.994629    2285.989408\n",
      "0               5000  500            5  0.50  linreg  0.999994       1.107435\n",
      "1               5000  500            5  0.50     pcr  0.248510  150107.461294\n",
      "2               5000  500            5  0.50     pls  0.999910      17.987307\n",
      "\n",
      "[183 rows x 7 columns]\n"
     ]
    },
    {
     "name": "stderr",
     "output_type": "stream",
     "text": [
      "  0%|          | 0/5 [06:30<?, ?it/s, N=500, linreg=1, pcr=0.407, pls=1, rho=0.5]"
     ]
    },
    {
     "name": "stdout",
     "output_type": "stream",
     "text": [
      "   train_sample_size    N n_components   rho   model        R2            MSE\n",
      "0               5000  500            5  0.01  linreg  0.999996       1.120479\n",
      "1               5000  500            5  0.01     pcr  0.008567  278123.542607\n",
      "2               5000  500            5  0.01     pls  0.999916      23.445148\n",
      "0               5000  500           50  0.01  linreg  0.999996       1.120479\n",
      "1               5000  500           50  0.01     pcr  0.127465  244769.316087\n",
      "..               ...  ...          ...   ...     ...       ...            ...\n",
      "1               5000  500            5  0.50     pcr  0.248510  150107.461294\n",
      "2               5000  500            5  0.50     pls  0.999910      17.987307\n",
      "0               5000  500           50  0.50  linreg  0.999994       1.107435\n",
      "1               5000  500           50  0.50     pcr  0.314609  136904.458980\n",
      "2               5000  500           50  0.50     pls  0.999994       1.107435\n",
      "\n",
      "[186 rows x 7 columns]\n"
     ]
    },
    {
     "name": "stderr",
     "output_type": "stream",
     "text": [
      "  0%|          | 0/5 [06:41<?, ?it/s, N=500, linreg=1, pcr=0.589, pls=1, rho=0.5]"
     ]
    },
    {
     "name": "stdout",
     "output_type": "stream",
     "text": [
      "   train_sample_size    N n_components   rho   model        R2            MSE\n",
      "0               5000  500            5  0.01  linreg  0.999996       1.120479\n",
      "1               5000  500            5  0.01     pcr  0.008567  278123.542607\n",
      "2               5000  500            5  0.01     pls  0.999916      23.445148\n",
      "0               5000  500           50  0.01  linreg  0.999996       1.120479\n",
      "1               5000  500           50  0.01     pcr  0.127465  244769.316087\n",
      "..               ...  ...          ...   ...     ...       ...            ...\n",
      "1               5000  500           50  0.50     pcr  0.314609  136904.458980\n",
      "2               5000  500           50  0.50     pls  0.999994       1.107435\n",
      "0               5000  500          125  0.50  linreg  0.999994       1.107435\n",
      "1               5000  500          125  0.50     pcr  0.406991  118451.519809\n",
      "2               5000  500          125  0.50     pls  0.999994       1.107435\n",
      "\n",
      "[189 rows x 7 columns]\n"
     ]
    },
    {
     "name": "stderr",
     "output_type": "stream",
     "text": [
      "  0%|          | 0/5 [06:45<?, ?it/s, N=500, linreg=1, pcr=0.249, pls=0.999, rho=0.5]"
     ]
    },
    {
     "name": "stdout",
     "output_type": "stream",
     "text": [
      "   train_sample_size    N n_components   rho   model        R2            MSE\n",
      "0               5000  500            5  0.01  linreg  0.999996       1.120479\n",
      "1               5000  500            5  0.01     pcr  0.008567  278123.542607\n",
      "2               5000  500            5  0.01     pls  0.999916      23.445148\n",
      "0               5000  500           50  0.01  linreg  0.999996       1.120479\n",
      "1               5000  500           50  0.01     pcr  0.127465  244769.316087\n",
      "..               ...  ...          ...   ...     ...       ...            ...\n",
      "1               5000  500          125  0.50     pcr  0.406991  118451.519809\n",
      "2               5000  500          125  0.50     pls  0.999994       1.107435\n",
      "0               5000  500          250  0.50  linreg  0.999994       1.107435\n",
      "1               5000  500          250  0.50     pcr  0.589334   82029.171253\n",
      "2               5000  500          250  0.50     pls  0.999994       1.110125\n",
      "\n",
      "[192 rows x 7 columns]\n"
     ]
    },
    {
     "name": "stderr",
     "output_type": "stream",
     "text": [
      "  0%|          | 0/5 [06:52<?, ?it/s, N=500, linreg=1, pcr=0.313, pls=1, rho=0.5]    "
     ]
    },
    {
     "name": "stdout",
     "output_type": "stream",
     "text": [
      "   train_sample_size    N n_components   rho   model        R2            MSE\n",
      "0               5000  500            5  0.01  linreg  0.999996       1.120479\n",
      "1               5000  500            5  0.01     pcr  0.008567  278123.542607\n",
      "2               5000  500            5  0.01     pls  0.999916      23.445148\n",
      "0               5000  500           50  0.01  linreg  0.999996       1.120479\n",
      "1               5000  500           50  0.01     pcr  0.127465  244769.316087\n",
      "..               ...  ...          ...   ...     ...       ...            ...\n",
      "1               5000  500          250  0.50     pcr  0.589334   82029.171253\n",
      "2               5000  500          250  0.50     pls  0.999994       1.110125\n",
      "0               2500  500            5  0.50  linreg  0.999994       1.250467\n",
      "1               2500  500            5  0.50     pcr  0.249091  149921.653450\n",
      "2               2500  500            5  0.50     pls  0.999080     183.743222\n",
      "\n",
      "[195 rows x 7 columns]\n"
     ]
    },
    {
     "name": "stderr",
     "output_type": "stream",
     "text": [
      "  0%|          | 0/5 [07:00<?, ?it/s, N=500, linreg=1, pcr=0.403, pls=1, rho=0.5]"
     ]
    },
    {
     "name": "stdout",
     "output_type": "stream",
     "text": [
      "   train_sample_size    N n_components   rho   model        R2            MSE\n",
      "0               5000  500            5  0.01  linreg  0.999996       1.120479\n",
      "1               5000  500            5  0.01     pcr  0.008567  278123.542607\n",
      "2               5000  500            5  0.01     pls  0.999916      23.445148\n",
      "0               5000  500           50  0.01  linreg  0.999996       1.120479\n",
      "1               5000  500           50  0.01     pcr  0.127465  244769.316087\n",
      "..               ...  ...          ...   ...     ...       ...            ...\n",
      "1               2500  500            5  0.50     pcr  0.249091  149921.653450\n",
      "2               2500  500            5  0.50     pls  0.999080     183.743222\n",
      "0               2500  500           50  0.50  linreg  0.999994       1.250467\n",
      "1               2500  500           50  0.50     pcr  0.312936  137174.652973\n",
      "2               2500  500           50  0.50     pls  0.999994       1.250467\n",
      "\n",
      "[198 rows x 7 columns]\n"
     ]
    },
    {
     "name": "stderr",
     "output_type": "stream",
     "text": [
      "  0%|          | 0/5 [07:10<?, ?it/s, N=500, linreg=1, pcr=0.594, pls=1, rho=0.5]"
     ]
    },
    {
     "name": "stdout",
     "output_type": "stream",
     "text": [
      "   train_sample_size    N n_components   rho   model        R2            MSE\n",
      "0               5000  500            5  0.01  linreg  0.999996       1.120479\n",
      "1               5000  500            5  0.01     pcr  0.008567  278123.542607\n",
      "2               5000  500            5  0.01     pls  0.999916      23.445148\n",
      "0               5000  500           50  0.01  linreg  0.999996       1.120479\n",
      "1               5000  500           50  0.01     pcr  0.127465  244769.316087\n",
      "..               ...  ...          ...   ...     ...       ...            ...\n",
      "1               2500  500           50  0.50     pcr  0.312936  137174.652973\n",
      "2               2500  500           50  0.50     pls  0.999994       1.250467\n",
      "0               2500  500          125  0.50  linreg  0.999994       1.250467\n",
      "1               2500  500          125  0.50     pcr  0.402591  119274.826889\n",
      "2               2500  500          125  0.50     pls  0.999994       1.252401\n",
      "\n",
      "[201 rows x 7 columns]\n"
     ]
    },
    {
     "name": "stderr",
     "output_type": "stream",
     "text": [
      "  0%|          | 0/5 [07:14<?, ?it/s, N=500, linreg=1, pcr=0.245, pls=0.994, rho=0.5]"
     ]
    },
    {
     "name": "stdout",
     "output_type": "stream",
     "text": [
      "   train_sample_size    N n_components   rho   model        R2            MSE\n",
      "0               5000  500            5  0.01  linreg  0.999996       1.120479\n",
      "1               5000  500            5  0.01     pcr  0.008567  278123.542607\n",
      "2               5000  500            5  0.01     pls  0.999916      23.445148\n",
      "0               5000  500           50  0.01  linreg  0.999996       1.120479\n",
      "1               5000  500           50  0.01     pcr  0.127465  244769.316087\n",
      "..               ...  ...          ...   ...     ...       ...            ...\n",
      "1               2500  500          125  0.50     pcr  0.402591  119274.826889\n",
      "2               2500  500          125  0.50     pls  0.999994       1.252401\n",
      "0               2500  500          250  0.50  linreg  0.999994       1.250467\n",
      "1               2500  500          250  0.50     pcr  0.594034   81052.482810\n",
      "2               2500  500          250  0.50     pls  0.999994       1.255249\n",
      "\n",
      "[204 rows x 7 columns]\n"
     ]
    },
    {
     "name": "stderr",
     "output_type": "stream",
     "text": [
      "  0%|          | 0/5 [07:22<?, ?it/s, N=500, linreg=1, pcr=0.307, pls=1, rho=0.5]    "
     ]
    },
    {
     "name": "stdout",
     "output_type": "stream",
     "text": [
      "   train_sample_size    N n_components   rho   model        R2            MSE\n",
      "0               5000  500            5  0.01  linreg  0.999996       1.120479\n",
      "1               5000  500            5  0.01     pcr  0.008567  278123.542607\n",
      "2               5000  500            5  0.01     pls  0.999916      23.445148\n",
      "0               5000  500           50  0.01  linreg  0.999996       1.120479\n",
      "1               5000  500           50  0.01     pcr  0.127465  244769.316087\n",
      "..               ...  ...          ...   ...     ...       ...            ...\n",
      "1               2500  500          250  0.50     pcr  0.594034   81052.482810\n",
      "2               2500  500          250  0.50     pls  0.999994       1.255249\n",
      "0               1500  500            5  0.50  linreg  0.999993       1.445310\n",
      "1               1500  500            5  0.50     pcr  0.245045  150684.544934\n",
      "2               1500  500            5  0.50     pls  0.993652    1267.120326\n",
      "\n",
      "[207 rows x 7 columns]\n"
     ]
    },
    {
     "name": "stderr",
     "output_type": "stream",
     "text": [
      "  0%|          | 0/5 [07:29<?, ?it/s, N=500, linreg=1, pcr=0.414, pls=1, rho=0.5]"
     ]
    },
    {
     "name": "stdout",
     "output_type": "stream",
     "text": [
      "   train_sample_size    N n_components   rho   model        R2            MSE\n",
      "0               5000  500            5  0.01  linreg  0.999996       1.120479\n",
      "1               5000  500            5  0.01     pcr  0.008567  278123.542607\n",
      "2               5000  500            5  0.01     pls  0.999916      23.445148\n",
      "0               5000  500           50  0.01  linreg  0.999996       1.120479\n",
      "1               5000  500           50  0.01     pcr  0.127465  244769.316087\n",
      "..               ...  ...          ...   ...     ...       ...            ...\n",
      "1               1500  500            5  0.50     pcr  0.245045  150684.544934\n",
      "2               1500  500            5  0.50     pls  0.993652    1267.120326\n",
      "0               1500  500           50  0.50  linreg  0.999993       1.445310\n",
      "1               1500  500           50  0.50     pcr  0.307444  138230.046689\n",
      "2               1500  500           50  0.50     pls  0.999993       1.445310\n",
      "\n",
      "[210 rows x 7 columns]\n"
     ]
    },
    {
     "name": "stderr",
     "output_type": "stream",
     "text": [
      "  0%|          | 0/5 [07:38<?, ?it/s, N=500, linreg=1, pcr=0.617, pls=1, rho=0.5]"
     ]
    },
    {
     "name": "stdout",
     "output_type": "stream",
     "text": [
      "   train_sample_size    N n_components   rho   model        R2            MSE\n",
      "0               5000  500            5  0.01  linreg  0.999996       1.120479\n",
      "1               5000  500            5  0.01     pcr  0.008567  278123.542607\n",
      "2               5000  500            5  0.01     pls  0.999916      23.445148\n",
      "0               5000  500           50  0.01  linreg  0.999996       1.120479\n",
      "1               5000  500           50  0.01     pcr  0.127465  244769.316087\n",
      "..               ...  ...          ...   ...     ...       ...            ...\n",
      "1               1500  500           50  0.50     pcr  0.307444  138230.046689\n",
      "2               1500  500           50  0.50     pls  0.999993       1.445310\n",
      "0               1500  500          125  0.50  linreg  0.999993       1.445310\n",
      "1               1500  500          125  0.50     pcr  0.414403  116881.806971\n",
      "2               1500  500          125  0.50     pls  0.999993       1.445309\n",
      "\n",
      "[213 rows x 7 columns]\n"
     ]
    },
    {
     "name": "stderr",
     "output_type": "stream",
     "text": [
      "  0%|          | 0/5 [07:41<?, ?it/s, N=500, linreg=1, pcr=0.245, pls=0.966, rho=0.5]"
     ]
    },
    {
     "name": "stdout",
     "output_type": "stream",
     "text": [
      "   train_sample_size    N n_components   rho   model        R2            MSE\n",
      "0               5000  500            5  0.01  linreg  0.999996       1.120479\n",
      "1               5000  500            5  0.01     pcr  0.008567  278123.542607\n",
      "2               5000  500            5  0.01     pls  0.999916      23.445148\n",
      "0               5000  500           50  0.01  linreg  0.999996       1.120479\n",
      "1               5000  500           50  0.01     pcr  0.127465  244769.316087\n",
      "..               ...  ...          ...   ...     ...       ...            ...\n",
      "1               1500  500          125  0.50     pcr  0.414403  116881.806971\n",
      "2               1500  500          125  0.50     pls  0.999993       1.445309\n",
      "0               1500  500          250  0.50  linreg  0.999993       1.445310\n",
      "1               1500  500          250  0.50     pcr  0.617272   76390.183189\n",
      "2               1500  500          250  0.50     pls  0.999993       1.437547\n",
      "\n",
      "[216 rows x 7 columns]\n"
     ]
    },
    {
     "name": "stderr",
     "output_type": "stream",
     "text": [
      "  0%|          | 0/5 [07:49<?, ?it/s, N=500, linreg=1, pcr=0.304, pls=1, rho=0.5]    "
     ]
    },
    {
     "name": "stdout",
     "output_type": "stream",
     "text": [
      "   train_sample_size    N n_components   rho   model        R2            MSE\n",
      "0               5000  500            5  0.01  linreg  0.999996       1.120479\n",
      "1               5000  500            5  0.01     pcr  0.008567  278123.542607\n",
      "2               5000  500            5  0.01     pls  0.999916      23.445148\n",
      "0               5000  500           50  0.01  linreg  0.999996       1.120479\n",
      "1               5000  500           50  0.01     pcr  0.127465  244769.316087\n",
      "..               ...  ...          ...   ...     ...       ...            ...\n",
      "1               1500  500          250  0.50     pcr  0.617272   76390.183189\n",
      "2               1500  500          250  0.50     pls  0.999993       1.437547\n",
      "0               1000  500            5  0.50  linreg  0.999990       1.916977\n",
      "1               1000  500            5  0.50     pcr  0.245212  150631.134093\n",
      "2               1000  500            5  0.50     pls  0.965574    6870.391705\n",
      "\n",
      "[219 rows x 7 columns]\n"
     ]
    },
    {
     "name": "stderr",
     "output_type": "stream",
     "text": [
      "  0%|          | 0/5 [07:56<?, ?it/s, N=500, linreg=1, pcr=0.413, pls=1, rho=0.5]"
     ]
    },
    {
     "name": "stdout",
     "output_type": "stream",
     "text": [
      "   train_sample_size    N n_components   rho   model        R2            MSE\n",
      "0               5000  500            5  0.01  linreg  0.999996       1.120479\n",
      "1               5000  500            5  0.01     pcr  0.008567  278123.542607\n",
      "2               5000  500            5  0.01     pls  0.999916      23.445148\n",
      "0               5000  500           50  0.01  linreg  0.999996       1.120479\n",
      "1               5000  500           50  0.01     pcr  0.127465  244769.316087\n",
      "..               ...  ...          ...   ...     ...       ...            ...\n",
      "1               1000  500            5  0.50     pcr  0.245212  150631.134093\n",
      "2               1000  500            5  0.50     pls  0.965574    6870.391705\n",
      "0               1000  500           50  0.50  linreg  0.999990       1.916977\n",
      "1               1000  500           50  0.50     pcr  0.304015  138896.048183\n",
      "2               1000  500           50  0.50     pls  0.999990       1.916976\n",
      "\n",
      "[222 rows x 7 columns]\n"
     ]
    },
    {
     "name": "stderr",
     "output_type": "stream",
     "text": [
      "  0%|          | 0/5 [08:04<?, ?it/s, N=500, linreg=1, pcr=0.626, pls=1, rho=0.5]"
     ]
    },
    {
     "name": "stdout",
     "output_type": "stream",
     "text": [
      "   train_sample_size    N n_components   rho   model        R2            MSE\n",
      "0               5000  500            5  0.01  linreg  0.999996       1.120479\n",
      "1               5000  500            5  0.01     pcr  0.008567  278123.542607\n",
      "2               5000  500            5  0.01     pls  0.999916      23.445148\n",
      "0               5000  500           50  0.01  linreg  0.999996       1.120479\n",
      "1               5000  500           50  0.01     pcr  0.127465  244769.316087\n",
      "..               ...  ...          ...   ...     ...       ...            ...\n",
      "1               1000  500           50  0.50     pcr  0.304015  138896.048183\n",
      "2               1000  500           50  0.50     pls  0.999990       1.916976\n",
      "0               1000  500          125  0.50  linreg  0.999990       1.916977\n",
      "1               1000  500          125  0.50     pcr  0.412941  117157.946645\n",
      "2               1000  500          125  0.50     pls  0.999990       1.916977\n",
      "\n",
      "[225 rows x 7 columns]\n"
     ]
    },
    {
     "name": "stderr",
     "output_type": "stream",
     "text": [
      "  0%|          | 0/5 [08:05<?, ?it/s, N=500, linreg=0.995, pcr=0.248, pls=0.835, rho=0.5]"
     ]
    },
    {
     "name": "stdout",
     "output_type": "stream",
     "text": [
      "   train_sample_size    N n_components   rho   model        R2            MSE\n",
      "0               5000  500            5  0.01  linreg  0.999996       1.120479\n",
      "1               5000  500            5  0.01     pcr  0.008567  278123.542607\n",
      "2               5000  500            5  0.01     pls  0.999916      23.445148\n",
      "0               5000  500           50  0.01  linreg  0.999996       1.120479\n",
      "1               5000  500           50  0.01     pcr  0.127465  244769.316087\n",
      "..               ...  ...          ...   ...     ...       ...            ...\n",
      "1               1000  500          125  0.50     pcr  0.412941  117157.946645\n",
      "2               1000  500          125  0.50     pls  0.999990       1.916977\n",
      "0               1000  500          250  0.50  linreg  0.999990       1.916977\n",
      "1               1000  500          250  0.50     pcr  0.625737   74690.728678\n",
      "2               1000  500          250  0.50     pls  0.999990       1.908975\n",
      "\n",
      "[228 rows x 7 columns]\n"
     ]
    },
    {
     "name": "stderr",
     "output_type": "stream",
     "text": [
      "  0%|          | 0/5 [08:08<?, ?it/s, N=500, linreg=0.995, pcr=0.299, pls=0.982, rho=0.5]"
     ]
    },
    {
     "name": "stdout",
     "output_type": "stream",
     "text": [
      "   train_sample_size    N n_components   rho   model        R2            MSE\n",
      "0               5000  500            5  0.01  linreg  0.999996       1.120479\n",
      "1               5000  500            5  0.01     pcr  0.008567  278123.542607\n",
      "2               5000  500            5  0.01     pls  0.999916      23.445148\n",
      "0               5000  500           50  0.01  linreg  0.999996       1.120479\n",
      "1               5000  500           50  0.01     pcr  0.127465  244769.316087\n",
      "..               ...  ...          ...   ...     ...       ...            ...\n",
      "1               1000  500          250  0.50     pcr  0.625737   74690.728678\n",
      "2               1000  500          250  0.50     pls  0.999990       1.908975\n",
      "0                500  500            5  0.50  linreg  0.995484     901.162381\n",
      "1                500  500            5  0.50     pcr  0.248479  149970.771988\n",
      "2                500  500            5  0.50     pls  0.834922   32942.352077\n",
      "\n",
      "[231 rows x 7 columns]\n"
     ]
    },
    {
     "name": "stderr",
     "output_type": "stream",
     "text": [
      "  0%|          | 0/5 [08:11<?, ?it/s, N=500, linreg=0.995, pcr=0.42, pls=0.988, rho=0.5] "
     ]
    },
    {
     "name": "stdout",
     "output_type": "stream",
     "text": [
      "   train_sample_size    N n_components   rho   model        R2            MSE\n",
      "0               5000  500            5  0.01  linreg  0.999996       1.120479\n",
      "1               5000  500            5  0.01     pcr  0.008567  278123.542607\n",
      "2               5000  500            5  0.01     pls  0.999916      23.445148\n",
      "0               5000  500           50  0.01  linreg  0.999996       1.120479\n",
      "1               5000  500           50  0.01     pcr  0.127465  244769.316087\n",
      "..               ...  ...          ...   ...     ...       ...            ...\n",
      "1                500  500            5  0.50     pcr  0.248479  149970.771988\n",
      "2                500  500            5  0.50     pls  0.834922   32942.352077\n",
      "0                500  500           50  0.50  linreg  0.995484     901.162381\n",
      "1                500  500           50  0.50     pcr  0.299378  139813.612349\n",
      "2                500  500           50  0.50     pls  0.982285    3535.131752\n",
      "\n",
      "[234 rows x 7 columns]\n"
     ]
    },
    {
     "name": "stderr",
     "output_type": "stream",
     "text": [
      "  0%|          | 0/5 [08:14<?, ?it/s, N=500, linreg=0.995, pcr=0.657, pls=0.995, rho=0.5]"
     ]
    },
    {
     "name": "stdout",
     "output_type": "stream",
     "text": [
      "   train_sample_size    N n_components   rho   model        R2            MSE\n",
      "0               5000  500            5  0.01  linreg  0.999996       1.120479\n",
      "1               5000  500            5  0.01     pcr  0.008567  278123.542607\n",
      "2               5000  500            5  0.01     pls  0.999916      23.445148\n",
      "0               5000  500           50  0.01  linreg  0.999996       1.120479\n",
      "1               5000  500           50  0.01     pcr  0.127465  244769.316087\n",
      "..               ...  ...          ...   ...     ...       ...            ...\n",
      "1                500  500           50  0.50     pcr  0.299378  139813.612349\n",
      "2                500  500           50  0.50     pls  0.982285    3535.131752\n",
      "0                500  500          125  0.50  linreg  0.995484     901.162381\n",
      "1                500  500          125  0.50     pcr  0.419584  115825.623015\n",
      "2                500  500          125  0.50     pls  0.988468    2301.210294\n",
      "\n",
      "[237 rows x 7 columns]\n"
     ]
    },
    {
     "name": "stderr",
     "output_type": "stream",
     "text": [
      "  0%|          | 0/5 [08:19<?, ?it/s, N=500, linreg=1, pcr=0.943, pls=1, rho=0.9]        "
     ]
    },
    {
     "name": "stdout",
     "output_type": "stream",
     "text": [
      "   train_sample_size    N n_components   rho   model        R2            MSE\n",
      "0               5000  500            5  0.01  linreg  0.999996       1.120479\n",
      "1               5000  500            5  0.01     pcr  0.008567  278123.542607\n",
      "2               5000  500            5  0.01     pls  0.999916      23.445148\n",
      "0               5000  500           50  0.01  linreg  0.999996       1.120479\n",
      "1               5000  500           50  0.01     pcr  0.127465  244769.316087\n",
      "..               ...  ...          ...   ...     ...       ...            ...\n",
      "1                500  500          125  0.50     pcr  0.419584  115825.623015\n",
      "2                500  500          125  0.50     pls  0.988468    2301.210294\n",
      "0                500  500          250  0.50  linreg  0.995484     901.162381\n",
      "1                500  500          250  0.50     pcr  0.657101   68427.623387\n",
      "2                500  500          250  0.50     pls  0.995257     946.488054\n",
      "\n",
      "[240 rows x 7 columns]\n"
     ]
    },
    {
     "name": "stderr",
     "output_type": "stream",
     "text": [
      "  0%|          | 0/5 [08:27<?, ?it/s, N=500, linreg=1, pcr=0.949, pls=1, rho=0.9]"
     ]
    },
    {
     "name": "stdout",
     "output_type": "stream",
     "text": [
      "   train_sample_size    N n_components   rho   model        R2            MSE\n",
      "0               5000  500            5  0.01  linreg  0.999996       1.120479\n",
      "1               5000  500            5  0.01     pcr  0.008567  278123.542607\n",
      "2               5000  500            5  0.01     pls  0.999916      23.445148\n",
      "0               5000  500           50  0.01  linreg  0.999996       1.120479\n",
      "1               5000  500           50  0.01     pcr  0.127465  244769.316087\n",
      "..               ...  ...          ...   ...     ...       ...            ...\n",
      "1                500  500          250  0.50     pcr  0.657101   68427.623387\n",
      "2                500  500          250  0.50     pls  0.995257     946.488054\n",
      "0               5000  500            5  0.90  linreg  0.999998       1.113367\n",
      "1               5000  500            5  0.90     pcr  0.943076   31642.076843\n",
      "2               5000  500            5  0.90     pls  0.999993       3.874465\n",
      "\n",
      "[243 rows x 7 columns]\n"
     ]
    },
    {
     "name": "stderr",
     "output_type": "stream",
     "text": [
      "  0%|          | 0/5 [08:36<?, ?it/s, N=500, linreg=1, pcr=0.957, pls=1, rho=0.9]"
     ]
    },
    {
     "name": "stdout",
     "output_type": "stream",
     "text": [
      "   train_sample_size    N n_components   rho   model        R2            MSE\n",
      "0               5000  500            5  0.01  linreg  0.999996       1.120479\n",
      "1               5000  500            5  0.01     pcr  0.008567  278123.542607\n",
      "2               5000  500            5  0.01     pls  0.999916      23.445148\n",
      "0               5000  500           50  0.01  linreg  0.999996       1.120479\n",
      "1               5000  500           50  0.01     pcr  0.127465  244769.316087\n",
      "..               ...  ...          ...   ...     ...       ...            ...\n",
      "1               5000  500            5  0.90     pcr  0.943076   31642.076843\n",
      "2               5000  500            5  0.90     pls  0.999993       3.874465\n",
      "0               5000  500           50  0.90  linreg  0.999998       1.113367\n",
      "1               5000  500           50  0.90     pcr  0.949395   28129.860748\n",
      "2               5000  500           50  0.90     pls  0.999998       1.113367\n",
      "\n",
      "[246 rows x 7 columns]\n"
     ]
    },
    {
     "name": "stderr",
     "output_type": "stream",
     "text": [
      "  0%|          | 0/5 [08:47<?, ?it/s, N=500, linreg=1, pcr=0.971, pls=1, rho=0.9]"
     ]
    },
    {
     "name": "stdout",
     "output_type": "stream",
     "text": [
      "   train_sample_size    N n_components   rho   model        R2            MSE\n",
      "0               5000  500            5  0.01  linreg  0.999996       1.120479\n",
      "1               5000  500            5  0.01     pcr  0.008567  278123.542607\n",
      "2               5000  500            5  0.01     pls  0.999916      23.445148\n",
      "0               5000  500           50  0.01  linreg  0.999996       1.120479\n",
      "1               5000  500           50  0.01     pcr  0.127465  244769.316087\n",
      "..               ...  ...          ...   ...     ...       ...            ...\n",
      "1               5000  500           50  0.90     pcr  0.949395   28129.860748\n",
      "2               5000  500           50  0.90     pls  0.999998       1.113367\n",
      "0               5000  500          125  0.90  linreg  0.999998       1.113367\n",
      "1               5000  500          125  0.90     pcr  0.956553   24150.749385\n",
      "2               5000  500          125  0.90     pls  0.999998       1.113047\n",
      "\n",
      "[249 rows x 7 columns]\n"
     ]
    },
    {
     "name": "stderr",
     "output_type": "stream",
     "text": [
      "  0%|          | 0/5 [08:51<?, ?it/s, N=500, linreg=1, pcr=0.943, pls=1, rho=0.9]"
     ]
    },
    {
     "name": "stdout",
     "output_type": "stream",
     "text": [
      "   train_sample_size    N n_components   rho   model        R2            MSE\n",
      "0               5000  500            5  0.01  linreg  0.999996       1.120479\n",
      "1               5000  500            5  0.01     pcr  0.008567  278123.542607\n",
      "2               5000  500            5  0.01     pls  0.999916      23.445148\n",
      "0               5000  500           50  0.01  linreg  0.999996       1.120479\n",
      "1               5000  500           50  0.01     pcr  0.127465  244769.316087\n",
      "..               ...  ...          ...   ...     ...       ...            ...\n",
      "1               5000  500          125  0.90     pcr  0.956553   24150.749385\n",
      "2               5000  500          125  0.90     pls  0.999998       1.113047\n",
      "0               5000  500          250  0.90  linreg  0.999998       1.113367\n",
      "1               5000  500          250  0.90     pcr  0.970615   16334.258462\n",
      "2               5000  500          250  0.90     pls  0.999998       1.115540\n",
      "\n",
      "[252 rows x 7 columns]\n"
     ]
    },
    {
     "name": "stderr",
     "output_type": "stream",
     "text": [
      "  0%|          | 0/5 [08:59<?, ?it/s, N=500, linreg=1, pcr=0.949, pls=1, rho=0.9]"
     ]
    },
    {
     "name": "stdout",
     "output_type": "stream",
     "text": [
      "   train_sample_size    N n_components   rho   model        R2            MSE\n",
      "0               5000  500            5  0.01  linreg  0.999996       1.120479\n",
      "1               5000  500            5  0.01     pcr  0.008567  278123.542607\n",
      "2               5000  500            5  0.01     pls  0.999916      23.445148\n",
      "0               5000  500           50  0.01  linreg  0.999996       1.120479\n",
      "1               5000  500           50  0.01     pcr  0.127465  244769.316087\n",
      "..               ...  ...          ...   ...     ...       ...            ...\n",
      "1               5000  500          250  0.90     pcr  0.970615   16334.258462\n",
      "2               5000  500          250  0.90     pls  0.999998       1.115540\n",
      "0               2500  500            5  0.90  linreg  0.999998       1.217448\n",
      "1               2500  500            5  0.90     pcr  0.942765   31787.767879\n",
      "2               2500  500            5  0.90     pls  0.999910      50.059522\n",
      "\n",
      "[255 rows x 7 columns]\n"
     ]
    },
    {
     "name": "stderr",
     "output_type": "stream",
     "text": [
      "  0%|          | 0/5 [09:07<?, ?it/s, N=500, linreg=1, pcr=0.957, pls=1, rho=0.9]"
     ]
    },
    {
     "name": "stdout",
     "output_type": "stream",
     "text": [
      "   train_sample_size    N n_components   rho   model        R2            MSE\n",
      "0               5000  500            5  0.01  linreg  0.999996       1.120479\n",
      "1               5000  500            5  0.01     pcr  0.008567  278123.542607\n",
      "2               5000  500            5  0.01     pls  0.999916      23.445148\n",
      "0               5000  500           50  0.01  linreg  0.999996       1.120479\n",
      "1               5000  500           50  0.01     pcr  0.127465  244769.316087\n",
      "..               ...  ...          ...   ...     ...       ...            ...\n",
      "1               2500  500            5  0.90     pcr  0.942765   31787.767879\n",
      "2               2500  500            5  0.90     pls  0.999910      50.059522\n",
      "0               2500  500           50  0.90  linreg  0.999998       1.217448\n",
      "1               2500  500           50  0.90     pcr  0.949275   28171.717891\n",
      "2               2500  500           50  0.90     pls  0.999998       1.217448\n",
      "\n",
      "[258 rows x 7 columns]\n"
     ]
    },
    {
     "name": "stderr",
     "output_type": "stream",
     "text": [
      "  0%|          | 0/5 [09:16<?, ?it/s, N=500, linreg=1, pcr=0.97, pls=1, rho=0.9] "
     ]
    },
    {
     "name": "stdout",
     "output_type": "stream",
     "text": [
      "   train_sample_size    N n_components   rho   model        R2            MSE\n",
      "0               5000  500            5  0.01  linreg  0.999996       1.120479\n",
      "1               5000  500            5  0.01     pcr  0.008567  278123.542607\n",
      "2               5000  500            5  0.01     pls  0.999916      23.445148\n",
      "0               5000  500           50  0.01  linreg  0.999996       1.120479\n",
      "1               5000  500           50  0.01     pcr  0.127465  244769.316087\n",
      "..               ...  ...          ...   ...     ...       ...            ...\n",
      "1               2500  500           50  0.90     pcr  0.949275   28171.717891\n",
      "2               2500  500           50  0.90     pls  0.999998       1.217448\n",
      "0               2500  500          125  0.90  linreg  0.999998       1.217448\n",
      "1               2500  500          125  0.90     pcr  0.957411   23653.220446\n",
      "2               2500  500          125  0.90     pls  0.999998       1.217199\n",
      "\n",
      "[261 rows x 7 columns]\n"
     ]
    },
    {
     "name": "stderr",
     "output_type": "stream",
     "text": [
      "  0%|          | 0/5 [09:20<?, ?it/s, N=500, linreg=1, pcr=0.943, pls=0.999, rho=0.9]"
     ]
    },
    {
     "name": "stdout",
     "output_type": "stream",
     "text": [
      "   train_sample_size    N n_components   rho   model        R2            MSE\n",
      "0               5000  500            5  0.01  linreg  0.999996       1.120479\n",
      "1               5000  500            5  0.01     pcr  0.008567  278123.542607\n",
      "2               5000  500            5  0.01     pls  0.999916      23.445148\n",
      "0               5000  500           50  0.01  linreg  0.999996       1.120479\n",
      "1               5000  500           50  0.01     pcr  0.127465  244769.316087\n",
      "..               ...  ...          ...   ...     ...       ...            ...\n",
      "1               2500  500          125  0.90     pcr  0.957411   23653.220446\n",
      "2               2500  500          125  0.90     pls  0.999998       1.217199\n",
      "0               2500  500          250  0.90  linreg  0.999998       1.217448\n",
      "1               2500  500          250  0.90     pcr  0.969688   16834.588180\n",
      "2               2500  500          250  0.90     pls  0.999998       1.227870\n",
      "\n",
      "[264 rows x 7 columns]\n"
     ]
    },
    {
     "name": "stderr",
     "output_type": "stream",
     "text": [
      "  0%|          | 0/5 [09:27<?, ?it/s, N=500, linreg=1, pcr=0.95, pls=1, rho=0.9]     "
     ]
    },
    {
     "name": "stdout",
     "output_type": "stream",
     "text": [
      "   train_sample_size    N n_components   rho   model        R2            MSE\n",
      "0               5000  500            5  0.01  linreg  0.999996       1.120479\n",
      "1               5000  500            5  0.01     pcr  0.008567  278123.542607\n",
      "2               5000  500            5  0.01     pls  0.999916      23.445148\n",
      "0               5000  500           50  0.01  linreg  0.999996       1.120479\n",
      "1               5000  500           50  0.01     pcr  0.127465  244769.316087\n",
      "..               ...  ...          ...   ...     ...       ...            ...\n",
      "1               2500  500          250  0.90     pcr  0.969688   16834.588180\n",
      "2               2500  500          250  0.90     pls  0.999998       1.227870\n",
      "0               1500  500            5  0.90  linreg  0.999997       1.437921\n",
      "1               1500  500            5  0.90     pcr  0.943357   31462.224071\n",
      "2               1500  500            5  0.90     pls  0.999403     331.761418\n",
      "\n",
      "[267 rows x 7 columns]\n"
     ]
    },
    {
     "name": "stderr",
     "output_type": "stream",
     "text": [
      "  0%|          | 0/5 [09:35<?, ?it/s, N=500, linreg=1, pcr=0.957, pls=1, rho=0.9]"
     ]
    },
    {
     "name": "stdout",
     "output_type": "stream",
     "text": [
      "   train_sample_size    N n_components   rho   model        R2            MSE\n",
      "0               5000  500            5  0.01  linreg  0.999996       1.120479\n",
      "1               5000  500            5  0.01     pcr  0.008567  278123.542607\n",
      "2               5000  500            5  0.01     pls  0.999916      23.445148\n",
      "0               5000  500           50  0.01  linreg  0.999996       1.120479\n",
      "1               5000  500           50  0.01     pcr  0.127465  244769.316087\n",
      "..               ...  ...          ...   ...     ...       ...            ...\n",
      "1               1500  500            5  0.90     pcr  0.943357   31462.224071\n",
      "2               1500  500            5  0.90     pls  0.999403     331.761418\n",
      "0               1500  500           50  0.90  linreg  0.999997       1.437921\n",
      "1               1500  500           50  0.90     pcr  0.950452   27521.246678\n",
      "2               1500  500           50  0.90     pls  0.999997       1.437921\n",
      "\n",
      "[270 rows x 7 columns]\n"
     ]
    },
    {
     "name": "stderr",
     "output_type": "stream",
     "text": [
      "  0%|          | 0/5 [09:44<?, ?it/s, N=500, linreg=1, pcr=0.971, pls=1, rho=0.9]"
     ]
    },
    {
     "name": "stdout",
     "output_type": "stream",
     "text": [
      "   train_sample_size    N n_components   rho   model        R2            MSE\n",
      "0               5000  500            5  0.01  linreg  0.999996       1.120479\n",
      "1               5000  500            5  0.01     pcr  0.008567  278123.542607\n",
      "2               5000  500            5  0.01     pls  0.999916      23.445148\n",
      "0               5000  500           50  0.01  linreg  0.999996       1.120479\n",
      "1               5000  500           50  0.01     pcr  0.127465  244769.316087\n",
      "..               ...  ...          ...   ...     ...       ...            ...\n",
      "1               1500  500           50  0.90     pcr  0.950452   27521.246678\n",
      "2               1500  500           50  0.90     pls  0.999997       1.437921\n",
      "0               1500  500          125  0.90  linreg  0.999997       1.437921\n",
      "1               1500  500          125  0.90     pcr  0.957422   23649.702578\n",
      "2               1500  500          125  0.90     pls  0.999997       1.437758\n",
      "\n",
      "[273 rows x 7 columns]\n"
     ]
    },
    {
     "name": "stderr",
     "output_type": "stream",
     "text": [
      "  0%|          | 0/5 [09:49<?, ?it/s, N=500, linreg=1, pcr=0.944, pls=0.998, rho=0.9]"
     ]
    },
    {
     "name": "stdout",
     "output_type": "stream",
     "text": [
      "   train_sample_size    N n_components   rho   model        R2            MSE\n",
      "0               5000  500            5  0.01  linreg  0.999996       1.120479\n",
      "1               5000  500            5  0.01     pcr  0.008567  278123.542607\n",
      "2               5000  500            5  0.01     pls  0.999916      23.445148\n",
      "0               5000  500           50  0.01  linreg  0.999996       1.120479\n",
      "1               5000  500           50  0.01     pcr  0.127465  244769.316087\n",
      "..               ...  ...          ...   ...     ...       ...            ...\n",
      "1               1500  500          125  0.90     pcr  0.957422   23649.702578\n",
      "2               1500  500          125  0.90     pls  0.999997       1.437758\n",
      "0               1500  500          250  0.90  linreg  0.999997       1.437921\n",
      "1               1500  500          250  0.90     pcr  0.971090   16058.178487\n",
      "2               1500  500          250  0.90     pls  0.999997       1.442499\n",
      "\n",
      "[276 rows x 7 columns]\n"
     ]
    },
    {
     "name": "stderr",
     "output_type": "stream",
     "text": [
      "  0%|          | 0/5 [09:55<?, ?it/s, N=500, linreg=1, pcr=0.95, pls=1, rho=0.9]     "
     ]
    },
    {
     "name": "stdout",
     "output_type": "stream",
     "text": [
      "   train_sample_size    N n_components   rho   model        R2            MSE\n",
      "0               5000  500            5  0.01  linreg  0.999996       1.120479\n",
      "1               5000  500            5  0.01     pcr  0.008567  278123.542607\n",
      "2               5000  500            5  0.01     pls  0.999916      23.445148\n",
      "0               5000  500           50  0.01  linreg  0.999996       1.120479\n",
      "1               5000  500           50  0.01     pcr  0.127465  244769.316087\n",
      "..               ...  ...          ...   ...     ...       ...            ...\n",
      "1               1500  500          250  0.90     pcr  0.971090   16058.178487\n",
      "2               1500  500          250  0.90     pls  0.999997       1.442499\n",
      "0               1000  500            5  0.90  linreg  0.999997       1.872034\n",
      "1               1000  500            5  0.90     pcr  0.943564   31345.368626\n",
      "2               1000  500            5  0.90     pls  0.997621    1321.525061\n",
      "\n",
      "[279 rows x 7 columns]\n"
     ]
    },
    {
     "name": "stderr",
     "output_type": "stream",
     "text": [
      "  0%|          | 0/5 [10:03<?, ?it/s, N=500, linreg=1, pcr=0.958, pls=1, rho=0.9]"
     ]
    },
    {
     "name": "stdout",
     "output_type": "stream",
     "text": [
      "   train_sample_size    N n_components   rho   model        R2            MSE\n",
      "0               5000  500            5  0.01  linreg  0.999996       1.120479\n",
      "1               5000  500            5  0.01     pcr  0.008567  278123.542607\n",
      "2               5000  500            5  0.01     pls  0.999916      23.445148\n",
      "0               5000  500           50  0.01  linreg  0.999996       1.120479\n",
      "1               5000  500           50  0.01     pcr  0.127465  244769.316087\n",
      "..               ...  ...          ...   ...     ...       ...            ...\n",
      "1               1000  500            5  0.90     pcr  0.943564   31345.368626\n",
      "2               1000  500            5  0.90     pls  0.997621    1321.525061\n",
      "0               1000  500           50  0.90  linreg  0.999997       1.872034\n",
      "1               1000  500           50  0.90     pcr  0.949603   27990.798421\n",
      "2               1000  500           50  0.90     pls  0.999997       1.872034\n",
      "\n",
      "[282 rows x 7 columns]\n"
     ]
    },
    {
     "name": "stderr",
     "output_type": "stream",
     "text": [
      "  0%|          | 0/5 [10:12<?, ?it/s, N=500, linreg=1, pcr=0.969, pls=1, rho=0.9]"
     ]
    },
    {
     "name": "stdout",
     "output_type": "stream",
     "text": [
      "   train_sample_size    N n_components   rho   model        R2            MSE\n",
      "0               5000  500            5  0.01  linreg  0.999996       1.120479\n",
      "1               5000  500            5  0.01     pcr  0.008567  278123.542607\n",
      "2               5000  500            5  0.01     pls  0.999916      23.445148\n",
      "0               5000  500           50  0.01  linreg  0.999996       1.120479\n",
      "1               5000  500           50  0.01     pcr  0.127465  244769.316087\n",
      "..               ...  ...          ...   ...     ...       ...            ...\n",
      "1               1000  500           50  0.90     pcr  0.949603   27990.798421\n",
      "2               1000  500           50  0.90     pls  0.999997       1.872034\n",
      "0               1000  500          125  0.90  linreg  0.999997       1.872034\n",
      "1               1000  500          125  0.90     pcr  0.957941   23359.828083\n",
      "2               1000  500          125  0.90     pls  0.999997       1.872034\n",
      "\n",
      "[285 rows x 7 columns]\n"
     ]
    },
    {
     "name": "stderr",
     "output_type": "stream",
     "text": [
      "  0%|          | 0/5 [10:13<?, ?it/s, N=500, linreg=0.99, pcr=0.943, pls=0.987, rho=0.9]"
     ]
    },
    {
     "name": "stdout",
     "output_type": "stream",
     "text": [
      "   train_sample_size    N n_components   rho   model        R2            MSE\n",
      "0               5000  500            5  0.01  linreg  0.999996       1.120479\n",
      "1               5000  500            5  0.01     pcr  0.008567  278123.542607\n",
      "2               5000  500            5  0.01     pls  0.999916      23.445148\n",
      "0               5000  500           50  0.01  linreg  0.999996       1.120479\n",
      "1               5000  500           50  0.01     pcr  0.127465  244769.316087\n",
      "..               ...  ...          ...   ...     ...       ...            ...\n",
      "1               1000  500          125  0.90     pcr  0.957941   23359.828083\n",
      "2               1000  500          125  0.90     pls  0.999997       1.872034\n",
      "0               1000  500          250  0.90  linreg  0.999997       1.872034\n",
      "1               1000  500          250  0.90     pcr  0.968798   17329.754706\n",
      "2               1000  500          250  0.90     pls  0.999997       1.873103\n",
      "\n",
      "[288 rows x 7 columns]\n"
     ]
    },
    {
     "name": "stderr",
     "output_type": "stream",
     "text": [
      "  0%|          | 0/5 [10:15<?, ?it/s, N=500, linreg=0.99, pcr=0.948, pls=0.999, rho=0.9]"
     ]
    },
    {
     "name": "stdout",
     "output_type": "stream",
     "text": [
      "   train_sample_size    N n_components   rho   model        R2            MSE\n",
      "0               5000  500            5  0.01  linreg  0.999996       1.120479\n",
      "1               5000  500            5  0.01     pcr  0.008567  278123.542607\n",
      "2               5000  500            5  0.01     pls  0.999916      23.445148\n",
      "0               5000  500           50  0.01  linreg  0.999996       1.120479\n",
      "1               5000  500           50  0.01     pcr  0.127465  244769.316087\n",
      "..               ...  ...          ...   ...     ...       ...            ...\n",
      "1               1000  500          250  0.90     pcr  0.968798   17329.754706\n",
      "2               1000  500          250  0.90     pls  0.999997       1.873103\n",
      "0                500  500            5  0.90  linreg  0.989881    5620.982073\n",
      "1                500  500            5  0.90     pcr  0.942889   31723.596109\n",
      "2                500  500            5  0.90     pls  0.986513    7491.468733\n",
      "\n",
      "[291 rows x 7 columns]\n"
     ]
    },
    {
     "name": "stderr",
     "output_type": "stream",
     "text": [
      "  0%|          | 0/5 [10:18<?, ?it/s, N=500, linreg=0.99, pcr=0.958, pls=1, rho=0.9]    "
     ]
    },
    {
     "name": "stdout",
     "output_type": "stream",
     "text": [
      "   train_sample_size    N n_components   rho   model        R2            MSE\n",
      "0               5000  500            5  0.01  linreg  0.999996       1.120479\n",
      "1               5000  500            5  0.01     pcr  0.008567  278123.542607\n",
      "2               5000  500            5  0.01     pls  0.999916      23.445148\n",
      "0               5000  500           50  0.01  linreg  0.999996       1.120479\n",
      "1               5000  500           50  0.01     pcr  0.127465  244769.316087\n",
      "..               ...  ...          ...   ...     ...       ...            ...\n",
      "1                500  500            5  0.90     pcr  0.942889   31723.596109\n",
      "2                500  500            5  0.90     pls  0.986513    7491.468733\n",
      "0                500  500           50  0.90  linreg  0.989881    5620.982073\n",
      "1                500  500           50  0.90     pcr  0.947970   28901.396074\n",
      "2                500  500           50  0.90     pls  0.999267     407.035402\n",
      "\n",
      "[294 rows x 7 columns]\n"
     ]
    },
    {
     "name": "stderr",
     "output_type": "stream",
     "text": [
      "  0%|          | 0/5 [10:22<?, ?it/s, N=500, linreg=0.99, pcr=0.972, pls=1, rho=0.9]"
     ]
    },
    {
     "name": "stdout",
     "output_type": "stream",
     "text": [
      "   train_sample_size    N n_components   rho   model        R2            MSE\n",
      "0               5000  500            5  0.01  linreg  0.999996       1.120479\n",
      "1               5000  500            5  0.01     pcr  0.008567  278123.542607\n",
      "2               5000  500            5  0.01     pls  0.999916      23.445148\n",
      "0               5000  500           50  0.01  linreg  0.999996       1.120479\n",
      "1               5000  500           50  0.01     pcr  0.127465  244769.316087\n",
      "..               ...  ...          ...   ...     ...       ...            ...\n",
      "1                500  500           50  0.90     pcr  0.947970   28901.396074\n",
      "2                500  500           50  0.90     pls  0.999267     407.035402\n",
      "0                500  500          125  0.90  linreg  0.989881    5620.982073\n",
      "1                500  500          125  0.90     pcr  0.957612   23545.435630\n",
      "2                500  500          125  0.90     pls  0.999784     119.918037\n",
      "\n",
      "[297 rows x 7 columns]\n"
     ]
    },
    {
     "name": "stderr",
     "output_type": "stream",
     "text": [
      "  0%|          | 0/5 [10:27<?, ?it/s, N=500, linreg=1, pcr=0.787, pls=1, rho=0.99]  "
     ]
    },
    {
     "name": "stdout",
     "output_type": "stream",
     "text": [
      "   train_sample_size    N n_components   rho   model        R2            MSE\n",
      "0               5000  500            5  0.01  linreg  0.999996       1.120479\n",
      "1               5000  500            5  0.01     pcr  0.008567  278123.542607\n",
      "2               5000  500            5  0.01     pls  0.999916      23.445148\n",
      "0               5000  500           50  0.01  linreg  0.999996       1.120479\n",
      "1               5000  500           50  0.01     pcr  0.127465  244769.316087\n",
      "..               ...  ...          ...   ...     ...       ...            ...\n",
      "1                500  500          125  0.90     pcr  0.957612   23545.435630\n",
      "2                500  500          125  0.90     pls  0.999784     119.918037\n",
      "0                500  500          250  0.90  linreg  0.989881    5620.982073\n",
      "1                500  500          250  0.90     pcr  0.971682   15730.101038\n",
      "2                500  500          250  0.90     pls  0.999639     200.492769\n",
      "\n",
      "[300 rows x 7 columns]\n"
     ]
    },
    {
     "name": "stderr",
     "output_type": "stream",
     "text": [
      "  0%|          | 0/5 [10:35<?, ?it/s, N=500, linreg=1, pcr=0.809, pls=1, rho=0.99]"
     ]
    },
    {
     "name": "stdout",
     "output_type": "stream",
     "text": [
      "   train_sample_size    N n_components   rho   model        R2            MSE\n",
      "0               5000  500            5  0.01  linreg  0.999996       1.120479\n",
      "1               5000  500            5  0.01     pcr  0.008567  278123.542607\n",
      "2               5000  500            5  0.01     pls  0.999916      23.445148\n",
      "0               5000  500           50  0.01  linreg  0.999996       1.120479\n",
      "1               5000  500           50  0.01     pcr  0.127465  244769.316087\n",
      "..               ...  ...          ...   ...     ...       ...            ...\n",
      "1                500  500          250  0.90     pcr  0.971682   15730.101038\n",
      "2                500  500          250  0.90     pls  0.999639     200.492769\n",
      "0               5000  500            5  0.99  linreg  0.999926       1.111871\n",
      "1               5000  500            5  0.99     pcr  0.787136    3207.338233\n",
      "2               5000  500            5  0.99     pls  0.999908       1.390606\n",
      "\n",
      "[303 rows x 7 columns]\n"
     ]
    },
    {
     "name": "stderr",
     "output_type": "stream",
     "text": [
      "  0%|          | 0/5 [10:44<?, ?it/s, N=500, linreg=1, pcr=0.845, pls=1, rho=0.99]"
     ]
    },
    {
     "name": "stdout",
     "output_type": "stream",
     "text": [
      "   train_sample_size    N n_components   rho   model        R2            MSE\n",
      "0               5000  500            5  0.01  linreg  0.999996       1.120479\n",
      "1               5000  500            5  0.01     pcr  0.008567  278123.542607\n",
      "2               5000  500            5  0.01     pls  0.999916      23.445148\n",
      "0               5000  500           50  0.01  linreg  0.999996       1.120479\n",
      "1               5000  500           50  0.01     pcr  0.127465  244769.316087\n",
      "..               ...  ...          ...   ...     ...       ...            ...\n",
      "1               5000  500            5  0.99     pcr  0.787136    3207.338233\n",
      "2               5000  500            5  0.99     pls  0.999908       1.390606\n",
      "0               5000  500           50  0.99  linreg  0.999926       1.111871\n",
      "1               5000  500           50  0.99     pcr  0.809052    2877.113368\n",
      "2               5000  500           50  0.99     pls  0.999926       1.111871\n",
      "\n",
      "[306 rows x 7 columns]\n"
     ]
    },
    {
     "name": "stderr",
     "output_type": "stream",
     "text": [
      "  0%|          | 0/5 [10:54<?, ?it/s, N=500, linreg=1, pcr=0.906, pls=1, rho=0.99]"
     ]
    },
    {
     "name": "stdout",
     "output_type": "stream",
     "text": [
      "   train_sample_size    N n_components   rho   model        R2            MSE\n",
      "0               5000  500            5  0.01  linreg  0.999996       1.120479\n",
      "1               5000  500            5  0.01     pcr  0.008567  278123.542607\n",
      "2               5000  500            5  0.01     pls  0.999916      23.445148\n",
      "0               5000  500           50  0.01  linreg  0.999996       1.120479\n",
      "1               5000  500           50  0.01     pcr  0.127465  244769.316087\n",
      "..               ...  ...          ...   ...     ...       ...            ...\n",
      "1               5000  500           50  0.99     pcr  0.809052    2877.113368\n",
      "2               5000  500           50  0.99     pls  0.999926       1.111871\n",
      "0               5000  500          125  0.99  linreg  0.999926       1.111871\n",
      "1               5000  500          125  0.99     pcr  0.844672    2340.419286\n",
      "2               5000  500          125  0.99     pls  0.999926       1.111879\n",
      "\n",
      "[309 rows x 7 columns]\n"
     ]
    },
    {
     "name": "stderr",
     "output_type": "stream",
     "text": [
      "  0%|          | 0/5 [10:59<?, ?it/s, N=500, linreg=1, pcr=0.785, pls=1, rho=0.99]"
     ]
    },
    {
     "name": "stdout",
     "output_type": "stream",
     "text": [
      "   train_sample_size    N n_components   rho   model        R2            MSE\n",
      "0               5000  500            5  0.01  linreg  0.999996       1.120479\n",
      "1               5000  500            5  0.01     pcr  0.008567  278123.542607\n",
      "2               5000  500            5  0.01     pls  0.999916      23.445148\n",
      "0               5000  500           50  0.01  linreg  0.999996       1.120479\n",
      "1               5000  500           50  0.01     pcr  0.127465  244769.316087\n",
      "..               ...  ...          ...   ...     ...       ...            ...\n",
      "1               5000  500          125  0.99     pcr  0.844672    2340.419286\n",
      "2               5000  500          125  0.99     pls  0.999926       1.111879\n",
      "0               5000  500          250  0.99  linreg  0.999926       1.111871\n",
      "1               5000  500          250  0.99     pcr  0.906421    1410.011357\n",
      "2               5000  500          250  0.99     pls  0.999926       1.116771\n",
      "\n",
      "[312 rows x 7 columns]\n"
     ]
    },
    {
     "name": "stderr",
     "output_type": "stream",
     "text": [
      "  0%|          | 0/5 [11:06<?, ?it/s, N=500, linreg=1, pcr=0.806, pls=1, rho=0.99]"
     ]
    },
    {
     "name": "stdout",
     "output_type": "stream",
     "text": [
      "   train_sample_size    N n_components   rho   model        R2            MSE\n",
      "0               5000  500            5  0.01  linreg  0.999996       1.120479\n",
      "1               5000  500            5  0.01     pcr  0.008567  278123.542607\n",
      "2               5000  500            5  0.01     pls  0.999916      23.445148\n",
      "0               5000  500           50  0.01  linreg  0.999996       1.120479\n",
      "1               5000  500           50  0.01     pcr  0.127465  244769.316087\n",
      "..               ...  ...          ...   ...     ...       ...            ...\n",
      "1               5000  500          250  0.99     pcr  0.906421    1410.011357\n",
      "2               5000  500          250  0.99     pls  0.999926       1.116771\n",
      "0               2500  500            5  0.99  linreg  0.999919       1.222009\n",
      "1               2500  500            5  0.99     pcr  0.785016    3241.207801\n",
      "2               2500  500            5  0.99     pls  0.999619       5.747675\n",
      "\n",
      "[315 rows x 7 columns]\n"
     ]
    },
    {
     "name": "stderr",
     "output_type": "stream",
     "text": [
      "  0%|          | 0/5 [11:14<?, ?it/s, N=500, linreg=1, pcr=0.841, pls=1, rho=0.99]"
     ]
    },
    {
     "name": "stdout",
     "output_type": "stream",
     "text": [
      "   train_sample_size    N n_components   rho   model        R2            MSE\n",
      "0               5000  500            5  0.01  linreg  0.999996       1.120479\n",
      "1               5000  500            5  0.01     pcr  0.008567  278123.542607\n",
      "2               5000  500            5  0.01     pls  0.999916      23.445148\n",
      "0               5000  500           50  0.01  linreg  0.999996       1.120479\n",
      "1               5000  500           50  0.01     pcr  0.127465  244769.316087\n",
      "..               ...  ...          ...   ...     ...       ...            ...\n",
      "1               2500  500            5  0.99     pcr  0.785016    3241.207801\n",
      "2               2500  500            5  0.99     pls  0.999619       5.747675\n",
      "0               2500  500           50  0.99  linreg  0.999919       1.222009\n",
      "1               2500  500           50  0.99     pcr  0.806016    2924.591737\n",
      "2               2500  500           50  0.99     pls  0.999919       1.222009\n",
      "\n",
      "[318 rows x 7 columns]\n"
     ]
    },
    {
     "name": "stderr",
     "output_type": "stream",
     "text": [
      "  0%|          | 0/5 [11:23<?, ?it/s, N=500, linreg=1, pcr=0.897, pls=1, rho=0.99]"
     ]
    },
    {
     "name": "stdout",
     "output_type": "stream",
     "text": [
      "   train_sample_size    N n_components   rho   model        R2            MSE\n",
      "0               5000  500            5  0.01  linreg  0.999996       1.120479\n",
      "1               5000  500            5  0.01     pcr  0.008567  278123.542607\n",
      "2               5000  500            5  0.01     pls  0.999916      23.445148\n",
      "0               5000  500           50  0.01  linreg  0.999996       1.120479\n",
      "1               5000  500           50  0.01     pcr  0.127465  244769.316087\n",
      "..               ...  ...          ...   ...     ...       ...            ...\n",
      "1               2500  500           50  0.99     pcr  0.806016    2924.591737\n",
      "2               2500  500           50  0.99     pls  0.999919       1.222009\n",
      "0               2500  500          125  0.99  linreg  0.999919       1.222009\n",
      "1               2500  500          125  0.99     pcr  0.840888    2398.856877\n",
      "2               2500  500          125  0.99     pls  0.999919       1.222049\n",
      "\n",
      "[321 rows x 7 columns]\n"
     ]
    },
    {
     "name": "stderr",
     "output_type": "stream",
     "text": [
      "  0%|          | 0/5 [11:27<?, ?it/s, N=500, linreg=1, pcr=0.784, pls=0.997, rho=0.99]"
     ]
    },
    {
     "name": "stdout",
     "output_type": "stream",
     "text": [
      "   train_sample_size    N n_components   rho   model        R2            MSE\n",
      "0               5000  500            5  0.01  linreg  0.999996       1.120479\n",
      "1               5000  500            5  0.01     pcr  0.008567  278123.542607\n",
      "2               5000  500            5  0.01     pls  0.999916      23.445148\n",
      "0               5000  500           50  0.01  linreg  0.999996       1.120479\n",
      "1               5000  500           50  0.01     pcr  0.127465  244769.316087\n",
      "..               ...  ...          ...   ...     ...       ...            ...\n",
      "1               2500  500          125  0.99     pcr  0.840888    2398.856877\n",
      "2               2500  500          125  0.99     pls  0.999919       1.222049\n",
      "0               2500  500          250  0.99  linreg  0.999919       1.222009\n",
      "1               2500  500          250  0.99     pcr  0.897047    1552.169734\n",
      "2               2500  500          250  0.99     pls  0.999918       1.233277\n",
      "\n",
      "[324 rows x 7 columns]\n"
     ]
    },
    {
     "name": "stderr",
     "output_type": "stream",
     "text": [
      "  0%|          | 0/5 [11:33<?, ?it/s, N=500, linreg=1, pcr=0.812, pls=1, rho=0.99]    "
     ]
    },
    {
     "name": "stdout",
     "output_type": "stream",
     "text": [
      "   train_sample_size    N n_components   rho   model        R2            MSE\n",
      "0               5000  500            5  0.01  linreg  0.999996       1.120479\n",
      "1               5000  500            5  0.01     pcr  0.008567  278123.542607\n",
      "2               5000  500            5  0.01     pls  0.999916      23.445148\n",
      "0               5000  500           50  0.01  linreg  0.999996       1.120479\n",
      "1               5000  500           50  0.01     pcr  0.127465  244769.316087\n",
      "..               ...  ...          ...   ...     ...       ...            ...\n",
      "1               2500  500          250  0.99     pcr  0.897047    1552.169734\n",
      "2               2500  500          250  0.99     pls  0.999918       1.233277\n",
      "0               1500  500            5  0.99  linreg  0.999904       1.445470\n",
      "1               1500  500            5  0.99     pcr  0.784274    3251.871681\n",
      "2               1500  500            5  0.99     pls  0.997447      38.485031\n",
      "\n",
      "[327 rows x 7 columns]\n"
     ]
    },
    {
     "name": "stderr",
     "output_type": "stream",
     "text": [
      "  0%|          | 0/5 [11:41<?, ?it/s, N=500, linreg=1, pcr=0.843, pls=1, rho=0.99]"
     ]
    },
    {
     "name": "stdout",
     "output_type": "stream",
     "text": [
      "   train_sample_size    N n_components   rho   model        R2            MSE\n",
      "0               5000  500            5  0.01  linreg  0.999996       1.120479\n",
      "1               5000  500            5  0.01     pcr  0.008567  278123.542607\n",
      "2               5000  500            5  0.01     pls  0.999916      23.445148\n",
      "0               5000  500           50  0.01  linreg  0.999996       1.120479\n",
      "1               5000  500           50  0.01     pcr  0.127465  244769.316087\n",
      "..               ...  ...          ...   ...     ...       ...            ...\n",
      "1               1500  500            5  0.99     pcr  0.784274    3251.871681\n",
      "2               1500  500            5  0.99     pls  0.997447      38.485031\n",
      "0               1500  500           50  0.99  linreg  0.999904       1.445470\n",
      "1               1500  500           50  0.99     pcr  0.811605    2839.872528\n",
      "2               1500  500           50  0.99     pls  0.999904       1.445470\n",
      "\n",
      "[330 rows x 7 columns]\n"
     ]
    },
    {
     "name": "stderr",
     "output_type": "stream",
     "text": [
      "  0%|          | 0/5 [11:50<?, ?it/s, N=500, linreg=1, pcr=0.901, pls=1, rho=0.99]"
     ]
    },
    {
     "name": "stdout",
     "output_type": "stream",
     "text": [
      "   train_sample_size    N n_components   rho   model        R2            MSE\n",
      "0               5000  500            5  0.01  linreg  0.999996       1.120479\n",
      "1               5000  500            5  0.01     pcr  0.008567  278123.542607\n",
      "2               5000  500            5  0.01     pls  0.999916      23.445148\n",
      "0               5000  500           50  0.01  linreg  0.999996       1.120479\n",
      "1               5000  500           50  0.01     pcr  0.127465  244769.316087\n",
      "..               ...  ...          ...   ...     ...       ...            ...\n",
      "1               1500  500           50  0.99     pcr  0.811605    2839.872528\n",
      "2               1500  500           50  0.99     pls  0.999904       1.445470\n",
      "0               1500  500          125  0.99  linreg  0.999904       1.445470\n",
      "1               1500  500          125  0.99     pcr  0.842756    2370.312661\n",
      "2               1500  500          125  0.99     pls  0.999904       1.444335\n",
      "\n",
      "[333 rows x 7 columns]\n"
     ]
    },
    {
     "name": "stderr",
     "output_type": "stream",
     "text": [
      "  0%|          | 0/5 [11:53<?, ?it/s, N=500, linreg=1, pcr=0.785, pls=0.991, rho=0.99]"
     ]
    },
    {
     "name": "stdout",
     "output_type": "stream",
     "text": [
      "   train_sample_size    N n_components   rho   model        R2            MSE\n",
      "0               5000  500            5  0.01  linreg  0.999996       1.120479\n",
      "1               5000  500            5  0.01     pcr  0.008567  278123.542607\n",
      "2               5000  500            5  0.01     pls  0.999916      23.445148\n",
      "0               5000  500           50  0.01  linreg  0.999996       1.120479\n",
      "1               5000  500           50  0.01     pcr  0.127465  244769.316087\n",
      "..               ...  ...          ...   ...     ...       ...            ...\n",
      "1               1500  500          125  0.99     pcr  0.842756    2370.312661\n",
      "2               1500  500          125  0.99     pls  0.999904       1.444335\n",
      "0               1500  500          250  0.99  linreg  0.999904       1.445470\n",
      "1               1500  500          250  0.99     pcr  0.901324    1487.445551\n",
      "2               1500  500          250  0.99     pls  0.999904       1.444990\n",
      "\n",
      "[336 rows x 7 columns]\n"
     ]
    },
    {
     "name": "stderr",
     "output_type": "stream",
     "text": [
      "  0%|          | 0/5 [12:00<?, ?it/s, N=500, linreg=1, pcr=0.813, pls=1, rho=0.99]    "
     ]
    },
    {
     "name": "stdout",
     "output_type": "stream",
     "text": [
      "   train_sample_size    N n_components   rho   model        R2            MSE\n",
      "0               5000  500            5  0.01  linreg  0.999996       1.120479\n",
      "1               5000  500            5  0.01     pcr  0.008567  278123.542607\n",
      "2               5000  500            5  0.01     pls  0.999916      23.445148\n",
      "0               5000  500           50  0.01  linreg  0.999996       1.120479\n",
      "1               5000  500           50  0.01     pcr  0.127465  244769.316087\n",
      "..               ...  ...          ...   ...     ...       ...            ...\n",
      "1               1500  500          250  0.99     pcr  0.901324    1487.445551\n",
      "2               1500  500          250  0.99     pls  0.999904       1.444990\n",
      "0               1000  500            5  0.99  linreg  0.999873       1.917119\n",
      "1               1000  500            5  0.99     pcr  0.785011    3241.250302\n",
      "2               1000  500            5  0.99     pls  0.990609     141.580924\n",
      "\n",
      "[339 rows x 7 columns]\n"
     ]
    },
    {
     "name": "stderr",
     "output_type": "stream",
     "text": [
      "  0%|          | 0/5 [12:07<?, ?it/s, N=500, linreg=1, pcr=0.836, pls=1, rho=0.99]"
     ]
    },
    {
     "name": "stdout",
     "output_type": "stream",
     "text": [
      "   train_sample_size    N n_components   rho   model        R2            MSE\n",
      "0               5000  500            5  0.01  linreg  0.999996       1.120479\n",
      "1               5000  500            5  0.01     pcr  0.008567  278123.542607\n",
      "2               5000  500            5  0.01     pls  0.999916      23.445148\n",
      "0               5000  500           50  0.01  linreg  0.999996       1.120479\n",
      "1               5000  500           50  0.01     pcr  0.127465  244769.316087\n",
      "..               ...  ...          ...   ...     ...       ...            ...\n",
      "1               1000  500            5  0.99     pcr  0.785011    3241.250302\n",
      "2               1000  500            5  0.99     pls  0.990609     141.580924\n",
      "0               1000  500           50  0.99  linreg  0.999873       1.917119\n",
      "1               1000  500           50  0.99     pcr  0.813317    2814.496026\n",
      "2               1000  500           50  0.99     pls  0.999873       1.917119\n",
      "\n",
      "[342 rows x 7 columns]\n"
     ]
    },
    {
     "name": "stderr",
     "output_type": "stream",
     "text": [
      "  0%|          | 0/5 [12:15<?, ?it/s, N=500, linreg=1, pcr=0.897, pls=1, rho=0.99]"
     ]
    },
    {
     "name": "stdout",
     "output_type": "stream",
     "text": [
      "   train_sample_size    N n_components   rho   model        R2            MSE\n",
      "0               5000  500            5  0.01  linreg  0.999996       1.120479\n",
      "1               5000  500            5  0.01     pcr  0.008567  278123.542607\n",
      "2               5000  500            5  0.01     pls  0.999916      23.445148\n",
      "0               5000  500           50  0.01  linreg  0.999996       1.120479\n",
      "1               5000  500           50  0.01     pcr  0.127465  244769.316087\n",
      "..               ...  ...          ...   ...     ...       ...            ...\n",
      "1               1000  500           50  0.99     pcr  0.813317    2814.496026\n",
      "2               1000  500           50  0.99     pls  0.999873       1.917119\n",
      "0               1000  500          125  0.99  linreg  0.999873       1.917119\n",
      "1               1000  500          125  0.99     pcr  0.835686    2477.252609\n",
      "2               1000  500          125  0.99     pls  0.999873       1.917119\n",
      "\n",
      "[345 rows x 7 columns]\n"
     ]
    },
    {
     "name": "stderr",
     "output_type": "stream",
     "text": [
      "  0%|          | 0/5 [12:17<?, ?it/s, N=500, linreg=0.972, pcr=0.785, pls=0.951, rho=0.99]"
     ]
    },
    {
     "name": "stdout",
     "output_type": "stream",
     "text": [
      "   train_sample_size    N n_components   rho   model        R2            MSE\n",
      "0               5000  500            5  0.01  linreg  0.999996       1.120479\n",
      "1               5000  500            5  0.01     pcr  0.008567  278123.542607\n",
      "2               5000  500            5  0.01     pls  0.999916      23.445148\n",
      "0               5000  500           50  0.01  linreg  0.999996       1.120479\n",
      "1               5000  500           50  0.01     pcr  0.127465  244769.316087\n",
      "..               ...  ...          ...   ...     ...       ...            ...\n",
      "1               1000  500          125  0.99     pcr  0.835686    2477.252609\n",
      "2               1000  500          125  0.99     pls  0.999873       1.917119\n",
      "0               1000  500          250  0.99  linreg  0.999873       1.917119\n",
      "1               1000  500          250  0.99     pcr  0.896612    1558.720861\n",
      "2               1000  500          250  0.99     pls  0.999873       1.916217\n",
      "\n",
      "[348 rows x 7 columns]\n"
     ]
    },
    {
     "name": "stderr",
     "output_type": "stream",
     "text": [
      "  0%|          | 0/5 [12:19<?, ?it/s, N=500, linreg=0.972, pcr=0.802, pls=0.995, rho=0.99]"
     ]
    },
    {
     "name": "stdout",
     "output_type": "stream",
     "text": [
      "   train_sample_size    N n_components   rho   model        R2            MSE\n",
      "0               5000  500            5  0.01  linreg  0.999996       1.120479\n",
      "1               5000  500            5  0.01     pcr  0.008567  278123.542607\n",
      "2               5000  500            5  0.01     pls  0.999916      23.445148\n",
      "0               5000  500           50  0.01  linreg  0.999996       1.120479\n",
      "1               5000  500           50  0.01     pcr  0.127465  244769.316087\n",
      "..               ...  ...          ...   ...     ...       ...            ...\n",
      "1               1000  500          250  0.99     pcr  0.896612    1558.720861\n",
      "2               1000  500          250  0.99     pls  0.999873       1.916217\n",
      "0                500  500            5  0.99  linreg  0.971584     428.346598\n",
      "1                500  500            5  0.99     pcr  0.785147    3238.676347\n",
      "2                500  500            5  0.99     pls  0.951421     732.281608\n",
      "\n",
      "[351 rows x 7 columns]\n"
     ]
    },
    {
     "name": "stderr",
     "output_type": "stream",
     "text": [
      "  0%|          | 0/5 [12:21<?, ?it/s, N=500, linreg=0.972, pcr=0.833, pls=0.997, rho=0.99]"
     ]
    },
    {
     "name": "stdout",
     "output_type": "stream",
     "text": [
      "   train_sample_size    N n_components   rho   model        R2            MSE\n",
      "0               5000  500            5  0.01  linreg  0.999996       1.120479\n",
      "1               5000  500            5  0.01     pcr  0.008567  278123.542607\n",
      "2               5000  500            5  0.01     pls  0.999916      23.445148\n",
      "0               5000  500           50  0.01  linreg  0.999996       1.120479\n",
      "1               5000  500           50  0.01     pcr  0.127465  244769.316087\n",
      "..               ...  ...          ...   ...     ...       ...            ...\n",
      "1                500  500            5  0.99     pcr  0.785147    3238.676347\n",
      "2                500  500            5  0.99     pls  0.951421     732.281608\n",
      "0                500  500           50  0.99  linreg  0.971584     428.346598\n",
      "1                500  500           50  0.99     pcr  0.802202    2981.595165\n",
      "2                500  500           50  0.99     pls  0.995044      74.699930\n",
      "\n",
      "[354 rows x 7 columns]\n"
     ]
    },
    {
     "name": "stderr",
     "output_type": "stream",
     "text": [
      " 20%|██        | 1/5 [12:25<49:40, 745.10s/it, N=500, linreg=0.972, pcr=0.889, pls=0.997, rho=0.99]"
     ]
    },
    {
     "name": "stdout",
     "output_type": "stream",
     "text": [
      "   train_sample_size    N n_components   rho   model        R2            MSE\n",
      "0               5000  500            5  0.01  linreg  0.999996       1.120479\n",
      "1               5000  500            5  0.01     pcr  0.008567  278123.542607\n",
      "2               5000  500            5  0.01     pls  0.999916      23.445148\n",
      "0               5000  500           50  0.01  linreg  0.999996       1.120479\n",
      "1               5000  500           50  0.01     pcr  0.127465  244769.316087\n",
      "..               ...  ...          ...   ...     ...       ...            ...\n",
      "1                500  500           50  0.99     pcr  0.802202    2981.595165\n",
      "2                500  500           50  0.99     pls  0.995044      74.699930\n",
      "0                500  500          125  0.99  linreg  0.971584     428.346598\n",
      "1                500  500          125  0.99     pcr  0.833195    2514.404817\n",
      "2                500  500          125  0.99     pls  0.996677      50.092700\n",
      "\n",
      "[357 rows x 7 columns]\n"
     ]
    },
    {
     "name": "stderr",
     "output_type": "stream",
     "text": [
      " 20%|██        | 1/5 [12:27<49:40, 745.10s/it, N=100, linreg=1, pcr=0.0227, pls=0.885, rho=0.01]   "
     ]
    },
    {
     "name": "stdout",
     "output_type": "stream",
     "text": [
      "   train_sample_size    N n_components   rho   model        R2            MSE\n",
      "0               5000  500            5  0.01  linreg  0.999996       1.120479\n",
      "1               5000  500            5  0.01     pcr  0.008567  278123.542607\n",
      "2               5000  500            5  0.01     pls  0.999916      23.445148\n",
      "0               5000  500           50  0.01  linreg  0.999996       1.120479\n",
      "1               5000  500           50  0.01     pcr  0.127465  244769.316087\n",
      "..               ...  ...          ...   ...     ...       ...            ...\n",
      "1                500  500          125  0.99     pcr  0.833195    2514.404817\n",
      "2                500  500          125  0.99     pls  0.996677      50.092700\n",
      "0                500  500          250  0.99  linreg  0.971584     428.346598\n",
      "1                500  500          250  0.99     pcr  0.888700    1677.725250\n",
      "2                500  500          250  0.99     pls  0.996640      50.645873\n",
      "\n",
      "[360 rows x 7 columns]\n"
     ]
    },
    {
     "name": "stderr",
     "output_type": "stream",
     "text": [
      " 20%|██        | 1/5 [12:31<49:40, 745.10s/it, N=100, linreg=1, pcr=0.132, pls=1, rho=0.01]     "
     ]
    },
    {
     "name": "stdout",
     "output_type": "stream",
     "text": [
      "   train_sample_size    N n_components   rho   model        R2            MSE\n",
      "0               5000  500            5  0.01  linreg  0.999996       1.120479\n",
      "1               5000  500            5  0.01     pcr  0.008567  278123.542607\n",
      "2               5000  500            5  0.01     pls  0.999916      23.445148\n",
      "0               5000  500           50  0.01  linreg  0.999996       1.120479\n",
      "1               5000  500           50  0.01     pcr  0.127465  244769.316087\n",
      "..               ...  ...          ...   ...     ...       ...            ...\n",
      "1                500  500          250  0.99     pcr  0.888700    1677.725250\n",
      "2                500  500          250  0.99     pls  0.996640      50.645873\n",
      "0               1000  100            1  0.01  linreg  0.999983       1.107113\n",
      "1               1000  100            1  0.01     pcr  0.022690   62633.661695\n",
      "2               1000  100            1  0.01     pls  0.885092    7364.211728\n",
      "\n",
      "[363 rows x 7 columns]\n"
     ]
    },
    {
     "name": "stderr",
     "output_type": "stream",
     "text": [
      " 20%|██        | 1/5 [12:34<49:40, 745.10s/it, N=100, linreg=1, pcr=0.306, pls=1, rho=0.01]"
     ]
    },
    {
     "name": "stdout",
     "output_type": "stream",
     "text": [
      "   train_sample_size    N n_components   rho   model        R2            MSE\n",
      "0               5000  500            5  0.01  linreg  0.999996       1.120479\n",
      "1               5000  500            5  0.01     pcr  0.008567  278123.542607\n",
      "2               5000  500            5  0.01     pls  0.999916      23.445148\n",
      "0               5000  500           50  0.01  linreg  0.999996       1.120479\n",
      "1               5000  500           50  0.01     pcr  0.127465  244769.316087\n",
      "..               ...  ...          ...   ...     ...       ...            ...\n",
      "1               1000  100            1  0.01     pcr  0.022690   62633.661695\n",
      "2               1000  100            1  0.01     pls  0.885092    7364.211728\n",
      "0               1000  100           10  0.01  linreg  0.999983       1.107113\n",
      "1               1000  100           10  0.01     pcr  0.132160   55617.910293\n",
      "2               1000  100           10  0.01     pls  0.999983       1.107068\n",
      "\n",
      "[366 rows x 7 columns]\n"
     ]
    },
    {
     "name": "stderr",
     "output_type": "stream",
     "text": [
      " 20%|██        | 1/5 [12:39<49:40, 745.10s/it, N=100, linreg=1, pcr=0.538, pls=1, rho=0.01]"
     ]
    },
    {
     "name": "stdout",
     "output_type": "stream",
     "text": [
      "   train_sample_size    N n_components   rho   model        R2            MSE\n",
      "0               5000  500            5  0.01  linreg  0.999996       1.120479\n",
      "1               5000  500            5  0.01     pcr  0.008567  278123.542607\n",
      "2               5000  500            5  0.01     pls  0.999916      23.445148\n",
      "0               5000  500           50  0.01  linreg  0.999996       1.120479\n",
      "1               5000  500           50  0.01     pcr  0.127465  244769.316087\n",
      "..               ...  ...          ...   ...     ...       ...            ...\n",
      "1               1000  100           10  0.01     pcr  0.132160   55617.910293\n",
      "2               1000  100           10  0.01     pls  0.999983       1.107068\n",
      "0               1000  100           25  0.01  linreg  0.999983       1.107113\n",
      "1               1000  100           25  0.01     pcr  0.305626   44500.868906\n",
      "2               1000  100           25  0.01     pls  0.999983       1.107113\n",
      "\n",
      "[369 rows x 7 columns]\n"
     ]
    },
    {
     "name": "stderr",
     "output_type": "stream",
     "text": [
      " 20%|██        | 1/5 [12:40<49:40, 745.10s/it, N=100, linreg=1, pcr=0.013, pls=0.82, rho=0.01]"
     ]
    },
    {
     "name": "stdout",
     "output_type": "stream",
     "text": [
      "   train_sample_size    N n_components   rho   model        R2            MSE\n",
      "0               5000  500            5  0.01  linreg  0.999996       1.120479\n",
      "1               5000  500            5  0.01     pcr  0.008567  278123.542607\n",
      "2               5000  500            5  0.01     pls  0.999916      23.445148\n",
      "0               5000  500           50  0.01  linreg  0.999996       1.120479\n",
      "1               5000  500           50  0.01     pcr  0.127465  244769.316087\n",
      "..               ...  ...          ...   ...     ...       ...            ...\n",
      "1               1000  100           25  0.01     pcr  0.305626   44500.868906\n",
      "2               1000  100           25  0.01     pls  0.999983       1.107113\n",
      "0               1000  100           50  0.01  linreg  0.999983       1.107113\n",
      "1               1000  100           50  0.01     pcr  0.537599   29634.258558\n",
      "2               1000  100           50  0.01     pls  0.999983       1.107113\n",
      "\n",
      "[372 rows x 7 columns]\n"
     ]
    },
    {
     "name": "stderr",
     "output_type": "stream",
     "text": [
      " 20%|██        | 1/5 [12:40<49:40, 745.10s/it, N=100, linreg=1, pcr=0.136, pls=1, rho=0.01]   "
     ]
    },
    {
     "name": "stdout",
     "output_type": "stream",
     "text": [
      "   train_sample_size    N n_components   rho   model        R2            MSE\n",
      "0               5000  500            5  0.01  linreg  0.999996       1.120479\n",
      "1               5000  500            5  0.01     pcr  0.008567  278123.542607\n",
      "2               5000  500            5  0.01     pls  0.999916      23.445148\n",
      "0               5000  500           50  0.01  linreg  0.999996       1.120479\n",
      "1               5000  500           50  0.01     pcr  0.127465  244769.316087\n",
      "..               ...  ...          ...   ...     ...       ...            ...\n",
      "1               1000  100           50  0.01     pcr  0.537599   29634.258558\n",
      "2               1000  100           50  0.01     pls  0.999983       1.107113\n",
      "0                500  100            1  0.01  linreg  0.999980       1.264701\n",
      "1                500  100            1  0.01     pcr  0.012989   63265.030755\n",
      "2                500  100            1  0.01     pls  0.819813   11549.523367\n",
      "\n",
      "[375 rows x 7 columns]\n"
     ]
    },
    {
     "name": "stderr",
     "output_type": "stream",
     "text": [
      " 20%|██        | 1/5 [12:41<49:40, 745.10s/it, N=100, linreg=1, pcr=0.257, pls=1, rho=0.01]"
     ]
    },
    {
     "name": "stdout",
     "output_type": "stream",
     "text": [
      "   train_sample_size    N n_components   rho   model        R2            MSE\n",
      "0               5000  500            5  0.01  linreg  0.999996       1.120479\n",
      "1               5000  500            5  0.01     pcr  0.008567  278123.542607\n",
      "2               5000  500            5  0.01     pls  0.999916      23.445148\n",
      "0               5000  500           50  0.01  linreg  0.999996       1.120479\n",
      "1               5000  500           50  0.01     pcr  0.127465  244769.316087\n",
      "..               ...  ...          ...   ...     ...       ...            ...\n",
      "1                500  100            1  0.01     pcr  0.012989   63265.030755\n",
      "2                500  100            1  0.01     pls  0.819813   11549.523367\n",
      "0                500  100           10  0.01  linreg  0.999980       1.264701\n",
      "1                500  100           10  0.01     pcr  0.136182   55368.622089\n",
      "2                500  100           10  0.01     pls  0.999980       1.294189\n",
      "\n",
      "[378 rows x 7 columns]\n"
     ]
    },
    {
     "name": "stderr",
     "output_type": "stream",
     "text": [
      " 20%|██        | 1/5 [12:43<49:40, 745.10s/it, N=100, linreg=1, pcr=0.483, pls=1, rho=0.01]"
     ]
    },
    {
     "name": "stdout",
     "output_type": "stream",
     "text": [
      "   train_sample_size    N n_components   rho   model        R2            MSE\n",
      "0               5000  500            5  0.01  linreg  0.999996       1.120479\n",
      "1               5000  500            5  0.01     pcr  0.008567  278123.542607\n",
      "2               5000  500            5  0.01     pls  0.999916      23.445148\n",
      "0               5000  500           50  0.01  linreg  0.999996       1.120479\n",
      "1               5000  500           50  0.01     pcr  0.127465  244769.316087\n",
      "..               ...  ...          ...   ...     ...       ...            ...\n",
      "1                500  100           10  0.01     pcr  0.136182   55368.622089\n",
      "2                500  100           10  0.01     pls  0.999980       1.294189\n",
      "0                500  100           25  0.01  linreg  0.999980       1.264701\n",
      "1                500  100           25  0.01     pcr  0.257146   47615.139674\n",
      "2                500  100           25  0.01     pls  0.999980       1.264701\n",
      "\n",
      "[381 rows x 7 columns]\n"
     ]
    },
    {
     "name": "stderr",
     "output_type": "stream",
     "text": [
      " 20%|██        | 1/5 [12:43<49:40, 745.10s/it, N=100, linreg=1, pcr=0.00578, pls=0.76, rho=0.01]"
     ]
    },
    {
     "name": "stdout",
     "output_type": "stream",
     "text": [
      "   train_sample_size    N n_components   rho   model        R2            MSE\n",
      "0               5000  500            5  0.01  linreg  0.999996       1.120479\n",
      "1               5000  500            5  0.01     pcr  0.008567  278123.542607\n",
      "2               5000  500            5  0.01     pls  0.999916      23.445148\n",
      "0               5000  500           50  0.01  linreg  0.999996       1.120479\n",
      "1               5000  500           50  0.01     pcr  0.127465  244769.316087\n",
      "..               ...  ...          ...   ...     ...       ...            ...\n",
      "1                500  100           25  0.01     pcr  0.257146   47615.139674\n",
      "2                500  100           25  0.01     pls  0.999980       1.264701\n",
      "0                500  100           50  0.01  linreg  0.999980       1.264701\n",
      "1                500  100           50  0.01     pcr  0.482685   33158.607204\n",
      "2                500  100           50  0.01     pls  0.999980       1.264701\n",
      "\n",
      "[384 rows x 7 columns]\n"
     ]
    },
    {
     "name": "stderr",
     "output_type": "stream",
     "text": [
      " 20%|██        | 1/5 [12:44<49:40, 745.10s/it, N=100, linreg=1, pcr=0.113, pls=1, rho=0.01]     "
     ]
    },
    {
     "name": "stdout",
     "output_type": "stream",
     "text": [
      "   train_sample_size    N n_components   rho   model        R2            MSE\n",
      "0               5000  500            5  0.01  linreg  0.999996       1.120479\n",
      "1               5000  500            5  0.01     pcr  0.008567  278123.542607\n",
      "2               5000  500            5  0.01     pls  0.999916      23.445148\n",
      "0               5000  500           50  0.01  linreg  0.999996       1.120479\n",
      "1               5000  500           50  0.01     pcr  0.127465  244769.316087\n",
      "..               ...  ...          ...   ...     ...       ...            ...\n",
      "1                500  100           50  0.01     pcr  0.482685   33158.607204\n",
      "2                500  100           50  0.01     pls  0.999980       1.264701\n",
      "0                300  100            1  0.01  linreg  0.999976       1.561852\n",
      "1                300  100            1  0.01     pcr  0.005781   63719.696197\n",
      "2                300  100            1  0.01     pls  0.760362   15358.453381\n",
      "\n",
      "[387 rows x 7 columns]\n"
     ]
    },
    {
     "name": "stderr",
     "output_type": "stream",
     "text": [
      " 20%|██        | 1/5 [12:45<49:40, 745.10s/it, N=100, linreg=1, pcr=0.361, pls=1, rho=0.01]"
     ]
    },
    {
     "name": "stdout",
     "output_type": "stream",
     "text": [
      "   train_sample_size    N n_components   rho   model        R2            MSE\n",
      "0               5000  500            5  0.01  linreg  0.999996       1.120479\n",
      "1               5000  500            5  0.01     pcr  0.008567  278123.542607\n",
      "2               5000  500            5  0.01     pls  0.999916      23.445148\n",
      "0               5000  500           50  0.01  linreg  0.999996       1.120479\n",
      "1               5000  500           50  0.01     pcr  0.127465  244769.316087\n",
      "..               ...  ...          ...   ...     ...       ...            ...\n",
      "1                300  100            1  0.01     pcr  0.005781   63719.696197\n",
      "2                300  100            1  0.01     pls  0.760362   15358.453381\n",
      "0                300  100           10  0.01  linreg  0.999976       1.561852\n",
      "1                300  100           10  0.01     pcr  0.113391   56822.911461\n",
      "2                300  100           10  0.01     pls  0.999964       2.295642\n",
      "\n",
      "[390 rows x 7 columns]\n"
     ]
    },
    {
     "name": "stderr",
     "output_type": "stream",
     "text": [
      " 20%|██        | 1/5 [12:47<49:40, 745.10s/it, N=100, linreg=1, pcr=0.557, pls=1, rho=0.01]"
     ]
    },
    {
     "name": "stdout",
     "output_type": "stream",
     "text": [
      "   train_sample_size    N n_components   rho   model        R2            MSE\n",
      "0               5000  500            5  0.01  linreg  0.999996       1.120479\n",
      "1               5000  500            5  0.01     pcr  0.008567  278123.542607\n",
      "2               5000  500            5  0.01     pls  0.999916      23.445148\n",
      "0               5000  500           50  0.01  linreg  0.999996       1.120479\n",
      "1               5000  500           50  0.01     pcr  0.127465  244769.316087\n",
      "..               ...  ...          ...   ...     ...       ...            ...\n",
      "1                300  100           10  0.01     pcr  0.113391   56822.911461\n",
      "2                300  100           10  0.01     pls  0.999964       2.295642\n",
      "0                300  100           25  0.01  linreg  0.999976       1.561852\n",
      "1                300  100           25  0.01     pcr  0.360549   40982.504396\n",
      "2                300  100           25  0.01     pls  0.999976       1.561859\n",
      "\n",
      "[393 rows x 7 columns]\n"
     ]
    },
    {
     "name": "stderr",
     "output_type": "stream",
     "text": [
      " 20%|██        | 1/5 [12:48<49:40, 745.10s/it, N=100, linreg=1, pcr=0.00441, pls=0.677, rho=0.01]"
     ]
    },
    {
     "name": "stdout",
     "output_type": "stream",
     "text": [
      "   train_sample_size    N n_components   rho   model        R2            MSE\n",
      "0               5000  500            5  0.01  linreg  0.999996       1.120479\n",
      "1               5000  500            5  0.01     pcr  0.008567  278123.542607\n",
      "2               5000  500            5  0.01     pls  0.999916      23.445148\n",
      "0               5000  500           50  0.01  linreg  0.999996       1.120479\n",
      "1               5000  500           50  0.01     pcr  0.127465  244769.316087\n",
      "..               ...  ...          ...   ...     ...       ...            ...\n",
      "1                300  100           25  0.01     pcr  0.360549   40982.504396\n",
      "2                300  100           25  0.01     pls  0.999976       1.561859\n",
      "0                300  100           50  0.01  linreg  0.999976       1.561852\n",
      "1                300  100           50  0.01     pcr  0.556853   28401.347157\n",
      "2                300  100           50  0.01     pls  0.999976       1.561852\n",
      "\n",
      "[396 rows x 7 columns]\n"
     ]
    },
    {
     "name": "stderr",
     "output_type": "stream",
     "text": [
      " 20%|██        | 1/5 [12:48<49:40, 745.10s/it, N=100, linreg=1, pcr=0.0963, pls=1, rho=0.01]     "
     ]
    },
    {
     "name": "stdout",
     "output_type": "stream",
     "text": [
      "   train_sample_size    N n_components   rho   model        R2            MSE\n",
      "0               5000  500            5  0.01  linreg  0.999996       1.120479\n",
      "1               5000  500            5  0.01     pcr  0.008567  278123.542607\n",
      "2               5000  500            5  0.01     pls  0.999916      23.445148\n",
      "0               5000  500           50  0.01  linreg  0.999996       1.120479\n",
      "1               5000  500           50  0.01     pcr  0.127465  244769.316087\n",
      "..               ...  ...          ...   ...     ...       ...            ...\n",
      "1                300  100           50  0.01     pcr  0.556853   28401.347157\n",
      "2                300  100           50  0.01     pls  0.999976       1.561852\n",
      "0                200  100            1  0.01  linreg  0.999969       2.009879\n",
      "1                200  100            1  0.01     pcr  0.004405   63820.300096\n",
      "2                200  100            1  0.01     pls  0.676553   20733.802178\n",
      "\n",
      "[399 rows x 7 columns]\n"
     ]
    },
    {
     "name": "stderr",
     "output_type": "stream",
     "text": [
      " 20%|██        | 1/5 [12:49<49:40, 745.10s/it, N=100, linreg=1, pcr=0.273, pls=1, rho=0.01] "
     ]
    },
    {
     "name": "stdout",
     "output_type": "stream",
     "text": [
      "   train_sample_size    N n_components   rho   model        R2            MSE\n",
      "0               5000  500            5  0.01  linreg  0.999996       1.120479\n",
      "1               5000  500            5  0.01     pcr  0.008567  278123.542607\n",
      "2               5000  500            5  0.01     pls  0.999916      23.445148\n",
      "0               5000  500           50  0.01  linreg  0.999996       1.120479\n",
      "1               5000  500           50  0.01     pcr  0.127465  244769.316087\n",
      "..               ...  ...          ...   ...     ...       ...            ...\n",
      "1                200  100            1  0.01     pcr  0.004405   63820.300096\n",
      "2                200  100            1  0.01     pls  0.676553   20733.802178\n",
      "0                200  100           10  0.01  linreg  0.999969       2.009879\n",
      "1                200  100           10  0.01     pcr  0.096297   57929.827020\n",
      "2                200  100           10  0.01     pls  0.999601      25.550661\n",
      "\n",
      "[402 rows x 7 columns]\n"
     ]
    },
    {
     "name": "stderr",
     "output_type": "stream",
     "text": [
      " 20%|██        | 1/5 [12:51<49:40, 745.10s/it, N=100, linreg=1, pcr=0.587, pls=1, rho=0.01]"
     ]
    },
    {
     "name": "stdout",
     "output_type": "stream",
     "text": [
      "   train_sample_size    N n_components   rho   model        R2            MSE\n",
      "0               5000  500            5  0.01  linreg  0.999996       1.120479\n",
      "1               5000  500            5  0.01     pcr  0.008567  278123.542607\n",
      "2               5000  500            5  0.01     pls  0.999916      23.445148\n",
      "0               5000  500           50  0.01  linreg  0.999996       1.120479\n",
      "1               5000  500           50  0.01     pcr  0.127465  244769.316087\n",
      "..               ...  ...          ...   ...     ...       ...            ...\n",
      "1                200  100           10  0.01     pcr  0.096297   57929.827020\n",
      "2                200  100           10  0.01     pls  0.999601      25.550661\n",
      "0                200  100           25  0.01  linreg  0.999969       2.009879\n",
      "1                200  100           25  0.01     pcr  0.273286   46584.296060\n",
      "2                200  100           25  0.01     pls  0.999969       2.014733\n",
      "\n",
      "[405 rows x 7 columns]\n"
     ]
    },
    {
     "name": "stderr",
     "output_type": "stream",
     "text": [
      " 20%|██        | 1/5 [12:51<49:40, 745.10s/it, N=100, linreg=0.704, pcr=-.00442, pls=0.5, rho=0.01]"
     ]
    },
    {
     "name": "stdout",
     "output_type": "stream",
     "text": [
      "   train_sample_size    N n_components   rho   model        R2            MSE\n",
      "0               5000  500            5  0.01  linreg  0.999996       1.120479\n",
      "1               5000  500            5  0.01     pcr  0.008567  278123.542607\n",
      "2               5000  500            5  0.01     pls  0.999916      23.445148\n",
      "0               5000  500           50  0.01  linreg  0.999996       1.120479\n",
      "1               5000  500           50  0.01     pcr  0.127465  244769.316087\n",
      "..               ...  ...          ...   ...     ...       ...            ...\n",
      "1                200  100           25  0.01     pcr  0.273286   46584.296060\n",
      "2                200  100           25  0.01     pls  0.999969       2.014733\n",
      "0                200  100           50  0.01  linreg  0.999969       2.009879\n",
      "1                200  100           50  0.01     pcr  0.587341   26452.563689\n",
      "2                200  100           50  0.01     pls  0.999969       2.009879\n",
      "\n",
      "[408 rows x 7 columns]\n"
     ]
    },
    {
     "name": "stderr",
     "output_type": "stream",
     "text": [
      " 20%|██        | 1/5 [12:52<49:40, 745.10s/it, N=100, linreg=0.704, pcr=0.0671, pls=0.887, rho=0.01]"
     ]
    },
    {
     "name": "stdout",
     "output_type": "stream",
     "text": [
      "   train_sample_size    N n_components   rho   model        R2            MSE\n",
      "0               5000  500            5  0.01  linreg  0.999996       1.120479\n",
      "1               5000  500            5  0.01     pcr  0.008567  278123.542607\n",
      "2               5000  500            5  0.01     pls  0.999916      23.445148\n",
      "0               5000  500           50  0.01  linreg  0.999996       1.120479\n",
      "1               5000  500           50  0.01     pcr  0.127465  244769.316087\n",
      "..               ...  ...          ...   ...     ...       ...            ...\n",
      "1                200  100           50  0.01     pcr  0.587341   26452.563689\n",
      "2                200  100           50  0.01     pls  0.999969       2.009879\n",
      "0                100  100            1  0.01  linreg  0.703963   18978.345611\n",
      "1                100  100            1  0.01     pcr -0.004424   64391.570281\n",
      "2                100  100            1  0.01     pls  0.500081   32048.821517\n",
      "\n",
      "[411 rows x 7 columns]\n"
     ]
    },
    {
     "name": "stderr",
     "output_type": "stream",
     "text": [
      " 20%|██        | 1/5 [12:53<49:40, 745.10s/it, N=100, linreg=0.704, pcr=0.159, pls=0.934, rho=0.01] "
     ]
    },
    {
     "name": "stdout",
     "output_type": "stream",
     "text": [
      "   train_sample_size    N n_components   rho   model        R2            MSE\n",
      "0               5000  500            5  0.01  linreg  0.999996       1.120479\n",
      "1               5000  500            5  0.01     pcr  0.008567  278123.542607\n",
      "2               5000  500            5  0.01     pls  0.999916      23.445148\n",
      "0               5000  500           50  0.01  linreg  0.999996       1.120479\n",
      "1               5000  500           50  0.01     pcr  0.127465  244769.316087\n",
      "..               ...  ...          ...   ...     ...       ...            ...\n",
      "1                100  100            1  0.01     pcr -0.004424   64391.570281\n",
      "2                100  100            1  0.01     pls  0.500081   32048.821517\n",
      "0                100  100           10  0.01  linreg  0.703963   18978.345611\n",
      "1                100  100           10  0.01     pcr  0.067070   59808.259814\n",
      "2                100  100           10  0.01     pls  0.886905    7250.271448\n",
      "\n",
      "[414 rows x 7 columns]\n"
     ]
    },
    {
     "name": "stderr",
     "output_type": "stream",
     "text": [
      " 20%|██        | 1/5 [12:54<49:40, 745.10s/it, N=100, linreg=0.704, pcr=0.507, pls=0.984, rho=0.01]"
     ]
    },
    {
     "name": "stdout",
     "output_type": "stream",
     "text": [
      "   train_sample_size    N n_components   rho   model        R2            MSE\n",
      "0               5000  500            5  0.01  linreg  0.999996       1.120479\n",
      "1               5000  500            5  0.01     pcr  0.008567  278123.542607\n",
      "2               5000  500            5  0.01     pls  0.999916      23.445148\n",
      "0               5000  500           50  0.01  linreg  0.999996       1.120479\n",
      "1               5000  500           50  0.01     pcr  0.127465  244769.316087\n",
      "..               ...  ...          ...   ...     ...       ...            ...\n",
      "1                100  100           10  0.01     pcr  0.067070   59808.259814\n",
      "2                100  100           10  0.01     pls  0.886905    7250.271448\n",
      "0                100  100           25  0.01  linreg  0.703963   18978.345611\n",
      "1                100  100           25  0.01     pcr  0.159208   53901.502306\n",
      "2                100  100           25  0.01     pls  0.934301    4211.837564\n",
      "\n",
      "[417 rows x 7 columns]\n"
     ]
    },
    {
     "name": "stderr",
     "output_type": "stream",
     "text": [
      " 20%|██        | 1/5 [12:57<49:40, 745.10s/it, N=100, linreg=1, pcr=0.137, pls=0.337, rho=0.1]     "
     ]
    },
    {
     "name": "stdout",
     "output_type": "stream",
     "text": [
      "   train_sample_size    N n_components   rho   model        R2            MSE\n",
      "0               5000  500            5  0.01  linreg  0.999996       1.120479\n",
      "1               5000  500            5  0.01     pcr  0.008567  278123.542607\n",
      "2               5000  500            5  0.01     pls  0.999916      23.445148\n",
      "0               5000  500           50  0.01  linreg  0.999996       1.120479\n",
      "1               5000  500           50  0.01     pcr  0.127465  244769.316087\n",
      "..               ...  ...          ...   ...     ...       ...            ...\n",
      "1                100  100           25  0.01     pcr  0.159208   53901.502306\n",
      "2                100  100           25  0.01     pls  0.934301    4211.837564\n",
      "0                100  100           50  0.01  linreg  0.703963   18978.345611\n",
      "1                100  100           50  0.01     pcr  0.507300   31586.004347\n",
      "2                100  100           50  0.01     pls  0.983855    1035.017625\n",
      "\n",
      "[420 rows x 7 columns]\n"
     ]
    },
    {
     "name": "stderr",
     "output_type": "stream",
     "text": [
      " 20%|██        | 1/5 [13:00<49:40, 745.10s/it, N=100, linreg=1, pcr=0.208, pls=1, rho=0.1]    "
     ]
    },
    {
     "name": "stdout",
     "output_type": "stream",
     "text": [
      "   train_sample_size    N n_components   rho   model        R2            MSE\n",
      "0               5000  500            5  0.01  linreg  0.999996       1.120479\n",
      "1               5000  500            5  0.01     pcr  0.008567  278123.542607\n",
      "2               5000  500            5  0.01     pls  0.999916      23.445148\n",
      "0               5000  500           50  0.01  linreg  0.999996       1.120479\n",
      "1               5000  500           50  0.01     pcr  0.127465  244769.316087\n",
      "..               ...  ...          ...   ...     ...       ...            ...\n",
      "1                100  100           50  0.01     pcr  0.507300   31586.004347\n",
      "2                100  100           50  0.01     pls  0.983855    1035.017625\n",
      "0               1000  100            1  0.10  linreg  0.999981       1.108822\n",
      "1               1000  100            1  0.10     pcr  0.137482   51046.496530\n",
      "2               1000  100            1  0.10     pls  0.336501   39267.905631\n",
      "\n",
      "[423 rows x 7 columns]\n"
     ]
    },
    {
     "name": "stderr",
     "output_type": "stream",
     "text": [
      " 20%|██        | 1/5 [13:04<49:40, 745.10s/it, N=100, linreg=1, pcr=0.279, pls=1, rho=0.1]"
     ]
    },
    {
     "name": "stdout",
     "output_type": "stream",
     "text": [
      "   train_sample_size    N n_components   rho   model        R2            MSE\n",
      "0               5000  500            5  0.01  linreg  0.999996       1.120479\n",
      "1               5000  500            5  0.01     pcr  0.008567  278123.542607\n",
      "2               5000  500            5  0.01     pls  0.999916      23.445148\n",
      "0               5000  500           50  0.01  linreg  0.999996       1.120479\n",
      "1               5000  500           50  0.01     pcr  0.127465  244769.316087\n",
      "..               ...  ...          ...   ...     ...       ...            ...\n",
      "1               1000  100            1  0.10     pcr  0.137482   51046.496530\n",
      "2               1000  100            1  0.10     pls  0.336501   39267.905631\n",
      "0               1000  100           10  0.10  linreg  0.999981       1.108822\n",
      "1               1000  100           10  0.10     pcr  0.208357   46851.876476\n",
      "2               1000  100           10  0.10     pls  0.999981       1.108399\n",
      "\n",
      "[426 rows x 7 columns]\n"
     ]
    },
    {
     "name": "stderr",
     "output_type": "stream",
     "text": [
      " 20%|██        | 1/5 [13:08<49:40, 745.10s/it, N=100, linreg=1, pcr=0.466, pls=1, rho=0.1]"
     ]
    },
    {
     "name": "stdout",
     "output_type": "stream",
     "text": [
      "   train_sample_size    N n_components   rho   model        R2            MSE\n",
      "0               5000  500            5  0.01  linreg  0.999996       1.120479\n",
      "1               5000  500            5  0.01     pcr  0.008567  278123.542607\n",
      "2               5000  500            5  0.01     pls  0.999916      23.445148\n",
      "0               5000  500           50  0.01  linreg  0.999996       1.120479\n",
      "1               5000  500           50  0.01     pcr  0.127465  244769.316087\n",
      "..               ...  ...          ...   ...     ...       ...            ...\n",
      "1               1000  100           10  0.10     pcr  0.208357   46851.876476\n",
      "2               1000  100           10  0.10     pls  0.999981       1.108399\n",
      "0               1000  100           25  0.10  linreg  0.999981       1.108822\n",
      "1               1000  100           25  0.10     pcr  0.279101   42665.029083\n",
      "2               1000  100           25  0.10     pls  0.999981       1.108822\n",
      "\n",
      "[429 rows x 7 columns]\n"
     ]
    },
    {
     "name": "stderr",
     "output_type": "stream",
     "text": [
      " 20%|██        | 1/5 [13:09<49:40, 745.10s/it, N=100, linreg=1, pcr=0.14, pls=0.326, rho=0.1]"
     ]
    },
    {
     "name": "stdout",
     "output_type": "stream",
     "text": [
      "   train_sample_size    N n_components   rho   model        R2            MSE\n",
      "0               5000  500            5  0.01  linreg  0.999996       1.120479\n",
      "1               5000  500            5  0.01     pcr  0.008567  278123.542607\n",
      "2               5000  500            5  0.01     pls  0.999916      23.445148\n",
      "0               5000  500           50  0.01  linreg  0.999996       1.120479\n",
      "1               5000  500           50  0.01     pcr  0.127465  244769.316087\n",
      "..               ...  ...          ...   ...     ...       ...            ...\n",
      "1               1000  100           25  0.10     pcr  0.279101   42665.029083\n",
      "2               1000  100           25  0.10     pls  0.999981       1.108822\n",
      "0               1000  100           50  0.10  linreg  0.999981       1.108822\n",
      "1               1000  100           50  0.10     pcr  0.465605   31627.118733\n",
      "2               1000  100           50  0.10     pls  0.999981       1.108822\n",
      "\n",
      "[432 rows x 7 columns]\n"
     ]
    },
    {
     "name": "stderr",
     "output_type": "stream",
     "text": [
      " 20%|██        | 1/5 [13:10<49:40, 745.10s/it, N=100, linreg=1, pcr=0.196, pls=1, rho=0.1]   "
     ]
    },
    {
     "name": "stdout",
     "output_type": "stream",
     "text": [
      "   train_sample_size    N n_components   rho   model        R2            MSE\n",
      "0               5000  500            5  0.01  linreg  0.999996       1.120479\n",
      "1               5000  500            5  0.01     pcr  0.008567  278123.542607\n",
      "2               5000  500            5  0.01     pls  0.999916      23.445148\n",
      "0               5000  500           50  0.01  linreg  0.999996       1.120479\n",
      "1               5000  500           50  0.01     pcr  0.127465  244769.316087\n",
      "..               ...  ...          ...   ...     ...       ...            ...\n",
      "1               1000  100           50  0.10     pcr  0.465605   31627.118733\n",
      "2               1000  100           50  0.10     pls  0.999981       1.108822\n",
      "0                500  100            1  0.10  linreg  0.999979       1.218110\n",
      "1                500  100            1  0.10     pcr  0.140202   50851.305393\n",
      "2                500  100            1  0.10     pls  0.326444   39836.360392\n",
      "\n",
      "[435 rows x 7 columns]\n"
     ]
    },
    {
     "name": "stderr",
     "output_type": "stream",
     "text": [
      " 20%|██        | 1/5 [13:11<49:40, 745.10s/it, N=100, linreg=1, pcr=0.302, pls=1, rho=0.1]"
     ]
    },
    {
     "name": "stdout",
     "output_type": "stream",
     "text": [
      "   train_sample_size    N n_components   rho   model        R2            MSE\n",
      "0               5000  500            5  0.01  linreg  0.999996       1.120479\n",
      "1               5000  500            5  0.01     pcr  0.008567  278123.542607\n",
      "2               5000  500            5  0.01     pls  0.999916      23.445148\n",
      "0               5000  500           50  0.01  linreg  0.999996       1.120479\n",
      "1               5000  500           50  0.01     pcr  0.127465  244769.316087\n",
      "..               ...  ...          ...   ...     ...       ...            ...\n",
      "1                500  100            1  0.10     pcr  0.140202   50851.305393\n",
      "2                500  100            1  0.10     pls  0.326444   39836.360392\n",
      "0                500  100           10  0.10  linreg  0.999979       1.218110\n",
      "1                500  100           10  0.10     pcr  0.195630   47573.105578\n",
      "2                500  100           10  0.10     pls  0.999979       1.227301\n",
      "\n",
      "[438 rows x 7 columns]\n"
     ]
    },
    {
     "name": "stderr",
     "output_type": "stream",
     "text": [
      " 20%|██        | 1/5 [13:12<49:40, 745.10s/it, N=100, linreg=1, pcr=0.498, pls=1, rho=0.1]"
     ]
    },
    {
     "name": "stdout",
     "output_type": "stream",
     "text": [
      "   train_sample_size    N n_components   rho   model        R2            MSE\n",
      "0               5000  500            5  0.01  linreg  0.999996       1.120479\n",
      "1               5000  500            5  0.01     pcr  0.008567  278123.542607\n",
      "2               5000  500            5  0.01     pls  0.999916      23.445148\n",
      "0               5000  500           50  0.01  linreg  0.999996       1.120479\n",
      "1               5000  500           50  0.01     pcr  0.127465  244769.316087\n",
      "..               ...  ...          ...   ...     ...       ...            ...\n",
      "1                500  100           10  0.10     pcr  0.195630   47573.105578\n",
      "2                500  100           10  0.10     pls  0.999979       1.227301\n",
      "0                500  100           25  0.10  linreg  0.999979       1.218110\n",
      "1                500  100           25  0.10     pcr  0.301606   41305.335267\n",
      "2                500  100           25  0.10     pls  0.999979       1.218110\n",
      "\n",
      "[441 rows x 7 columns]\n"
     ]
    },
    {
     "name": "stderr",
     "output_type": "stream",
     "text": [
      " 20%|██        | 1/5 [13:13<49:40, 745.10s/it, N=100, linreg=1, pcr=0.136, pls=0.344, rho=0.1]"
     ]
    },
    {
     "name": "stdout",
     "output_type": "stream",
     "text": [
      "   train_sample_size    N n_components   rho   model        R2            MSE\n",
      "0               5000  500            5  0.01  linreg  0.999996       1.120479\n",
      "1               5000  500            5  0.01     pcr  0.008567  278123.542607\n",
      "2               5000  500            5  0.01     pls  0.999916      23.445148\n",
      "0               5000  500           50  0.01  linreg  0.999996       1.120479\n",
      "1               5000  500           50  0.01     pcr  0.127465  244769.316087\n",
      "..               ...  ...          ...   ...     ...       ...            ...\n",
      "1                500  100           25  0.10     pcr  0.301606   41305.335267\n",
      "2                500  100           25  0.10     pls  0.999979       1.218110\n",
      "0                500  100           50  0.10  linreg  0.999979       1.218110\n",
      "1                500  100           50  0.10     pcr  0.498454   29663.122767\n",
      "2                500  100           50  0.10     pls  0.999979       1.218110\n",
      "\n",
      "[444 rows x 7 columns]\n"
     ]
    },
    {
     "name": "stderr",
     "output_type": "stream",
     "text": [
      " 20%|██        | 1/5 [13:14<49:40, 745.10s/it, N=100, linreg=1, pcr=0.194, pls=1, rho=0.1]    "
     ]
    },
    {
     "name": "stdout",
     "output_type": "stream",
     "text": [
      "   train_sample_size    N n_components   rho   model        R2            MSE\n",
      "0               5000  500            5  0.01  linreg  0.999996       1.120479\n",
      "1               5000  500            5  0.01     pcr  0.008567  278123.542607\n",
      "2               5000  500            5  0.01     pls  0.999916      23.445148\n",
      "0               5000  500           50  0.01  linreg  0.999996       1.120479\n",
      "1               5000  500           50  0.01     pcr  0.127465  244769.316087\n",
      "..               ...  ...          ...   ...     ...       ...            ...\n",
      "1                500  100           50  0.10     pcr  0.498454   29663.122767\n",
      "2                500  100           50  0.10     pls  0.999979       1.218110\n",
      "0                300  100            1  0.10  linreg  0.999975       1.472806\n",
      "1                300  100            1  0.10     pcr  0.135961   51091.887473\n",
      "2                300  100            1  0.10     pls  0.344440   38764.179753\n",
      "\n",
      "[447 rows x 7 columns]\n"
     ]
    },
    {
     "name": "stderr",
     "output_type": "stream",
     "text": [
      " 20%|██        | 1/5 [13:15<49:40, 745.10s/it, N=100, linreg=1, pcr=0.288, pls=1, rho=0.1]"
     ]
    },
    {
     "name": "stdout",
     "output_type": "stream",
     "text": [
      "   train_sample_size    N n_components   rho   model        R2            MSE\n",
      "0               5000  500            5  0.01  linreg  0.999996       1.120479\n",
      "1               5000  500            5  0.01     pcr  0.008567  278123.542607\n",
      "2               5000  500            5  0.01     pls  0.999916      23.445148\n",
      "0               5000  500           50  0.01  linreg  0.999996       1.120479\n",
      "1               5000  500           50  0.01     pcr  0.127465  244769.316087\n",
      "..               ...  ...          ...   ...     ...       ...            ...\n",
      "1                300  100            1  0.10     pcr  0.135961   51091.887473\n",
      "2                300  100            1  0.10     pls  0.344440   38764.179753\n",
      "0                300  100           10  0.10  linreg  0.999975       1.472806\n",
      "1                300  100           10  0.10     pcr  0.194175   47649.561271\n",
      "2                300  100           10  0.10     pls  0.999961       2.316701\n",
      "\n",
      "[450 rows x 7 columns]\n"
     ]
    },
    {
     "name": "stderr",
     "output_type": "stream",
     "text": [
      " 20%|██        | 1/5 [13:16<49:40, 745.10s/it, N=100, linreg=1, pcr=0.53, pls=1, rho=0.1] "
     ]
    },
    {
     "name": "stdout",
     "output_type": "stream",
     "text": [
      "   train_sample_size    N n_components   rho   model        R2            MSE\n",
      "0               5000  500            5  0.01  linreg  0.999996       1.120479\n",
      "1               5000  500            5  0.01     pcr  0.008567  278123.542607\n",
      "2               5000  500            5  0.01     pls  0.999916      23.445148\n",
      "0               5000  500           50  0.01  linreg  0.999996       1.120479\n",
      "1               5000  500           50  0.01     pcr  0.127465  244769.316087\n",
      "..               ...  ...          ...   ...     ...       ...            ...\n",
      "1                300  100           10  0.10     pcr  0.194175   47649.561271\n",
      "2                300  100           10  0.10     pls  0.999961       2.316701\n",
      "0                300  100           25  0.10  linreg  0.999975       1.472806\n",
      "1                300  100           25  0.10     pcr  0.287782   42114.481263\n",
      "2                300  100           25  0.10     pls  0.999975       1.472787\n",
      "\n",
      "[453 rows x 7 columns]\n"
     ]
    },
    {
     "name": "stderr",
     "output_type": "stream",
     "text": [
      " 20%|██        | 1/5 [13:17<49:40, 745.10s/it, N=100, linreg=1, pcr=0.13, pls=0.356, rho=0.1]"
     ]
    },
    {
     "name": "stdout",
     "output_type": "stream",
     "text": [
      "   train_sample_size    N n_components   rho   model        R2            MSE\n",
      "0               5000  500            5  0.01  linreg  0.999996       1.120479\n",
      "1               5000  500            5  0.01     pcr  0.008567  278123.542607\n",
      "2               5000  500            5  0.01     pls  0.999916      23.445148\n",
      "0               5000  500           50  0.01  linreg  0.999996       1.120479\n",
      "1               5000  500           50  0.01     pcr  0.127465  244769.316087\n",
      "..               ...  ...          ...   ...     ...       ...            ...\n",
      "1                300  100           25  0.10     pcr  0.287782   42114.481263\n",
      "2                300  100           25  0.10     pls  0.999975       1.472787\n",
      "0                300  100           50  0.10  linreg  0.999975       1.472806\n",
      "1                300  100           50  0.10     pcr  0.530039   27789.469037\n",
      "2                300  100           50  0.10     pls  0.999975       1.472806\n",
      "\n",
      "[456 rows x 7 columns]\n"
     ]
    },
    {
     "name": "stderr",
     "output_type": "stream",
     "text": [
      " 20%|██        | 1/5 [13:17<49:40, 745.10s/it, N=100, linreg=1, pcr=0.181, pls=0.999, rho=0.1]"
     ]
    },
    {
     "name": "stdout",
     "output_type": "stream",
     "text": [
      "   train_sample_size    N n_components   rho   model        R2            MSE\n",
      "0               5000  500            5  0.01  linreg  0.999996       1.120479\n",
      "1               5000  500            5  0.01     pcr  0.008567  278123.542607\n",
      "2               5000  500            5  0.01     pls  0.999916      23.445148\n",
      "0               5000  500           50  0.01  linreg  0.999996       1.120479\n",
      "1               5000  500           50  0.01     pcr  0.127465  244769.316087\n",
      "..               ...  ...          ...   ...     ...       ...            ...\n",
      "1                300  100           50  0.10     pcr  0.530039   27789.469037\n",
      "2                300  100           50  0.10     pls  0.999975       1.472806\n",
      "0                200  100            1  0.10  linreg  0.999967       1.960211\n",
      "1                200  100            1  0.10     pcr  0.129755   51459.562784\n",
      "2                200  100            1  0.10     pls  0.356364   38059.631089\n",
      "\n",
      "[459 rows x 7 columns]\n"
     ]
    },
    {
     "name": "stderr",
     "output_type": "stream",
     "text": [
      " 20%|██        | 1/5 [13:18<49:40, 745.10s/it, N=100, linreg=1, pcr=0.274, pls=1, rho=0.1]    "
     ]
    },
    {
     "name": "stdout",
     "output_type": "stream",
     "text": [
      "   train_sample_size    N n_components   rho   model        R2            MSE\n",
      "0               5000  500            5  0.01  linreg  0.999996       1.120479\n",
      "1               5000  500            5  0.01     pcr  0.008567  278123.542607\n",
      "2               5000  500            5  0.01     pls  0.999916      23.445148\n",
      "0               5000  500           50  0.01  linreg  0.999996       1.120479\n",
      "1               5000  500           50  0.01     pcr  0.127465  244769.316087\n",
      "..               ...  ...          ...   ...     ...       ...            ...\n",
      "1                200  100            1  0.10     pcr  0.129755   51459.562784\n",
      "2                200  100            1  0.10     pls  0.356364   38059.631089\n",
      "0                200  100           10  0.10  linreg  0.999967       1.960211\n",
      "1                200  100           10  0.10     pcr  0.181472   48401.417968\n",
      "2                200  100           10  0.10     pls  0.999034      57.148044\n",
      "\n",
      "[462 rows x 7 columns]\n"
     ]
    },
    {
     "name": "stderr",
     "output_type": "stream",
     "text": [
      " 20%|██        | 1/5 [13:20<49:40, 745.10s/it, N=100, linreg=1, pcr=0.531, pls=1, rho=0.1]"
     ]
    },
    {
     "name": "stdout",
     "output_type": "stream",
     "text": [
      "   train_sample_size    N n_components   rho   model        R2            MSE\n",
      "0               5000  500            5  0.01  linreg  0.999996       1.120479\n",
      "1               5000  500            5  0.01     pcr  0.008567  278123.542607\n",
      "2               5000  500            5  0.01     pls  0.999916      23.445148\n",
      "0               5000  500           50  0.01  linreg  0.999996       1.120479\n",
      "1               5000  500           50  0.01     pcr  0.127465  244769.316087\n",
      "..               ...  ...          ...   ...     ...       ...            ...\n",
      "1                200  100           10  0.10     pcr  0.181472   48401.417968\n",
      "2                200  100           10  0.10     pls  0.999034      57.148044\n",
      "0                200  100           25  0.10  linreg  0.999967       1.960211\n",
      "1                200  100           25  0.10     pcr  0.274251   42915.168161\n",
      "2                200  100           25  0.10     pls  0.999967       1.962044\n",
      "\n",
      "[465 rows x 7 columns]\n"
     ]
    },
    {
     "name": "stderr",
     "output_type": "stream",
     "text": [
      " 20%|██        | 1/5 [13:20<49:40, 745.10s/it, N=100, linreg=0.931, pcr=0.121, pls=0.289, rho=0.1]"
     ]
    },
    {
     "name": "stdout",
     "output_type": "stream",
     "text": [
      "   train_sample_size    N n_components   rho   model        R2            MSE\n",
      "0               5000  500            5  0.01  linreg  0.999996       1.120479\n",
      "1               5000  500            5  0.01     pcr  0.008567  278123.542607\n",
      "2               5000  500            5  0.01     pls  0.999916      23.445148\n",
      "0               5000  500           50  0.01  linreg  0.999996       1.120479\n",
      "1               5000  500           50  0.01     pcr  0.127465  244769.316087\n",
      "..               ...  ...          ...   ...     ...       ...            ...\n",
      "1                200  100           25  0.10     pcr  0.274251   42915.168161\n",
      "2                200  100           25  0.10     pls  0.999967       1.962044\n",
      "0                200  100           50  0.10  linreg  0.999967       1.960211\n",
      "1                200  100           50  0.10     pcr  0.530605   27756.372114\n",
      "2                200  100           50  0.10     pls  0.999967       1.960211\n",
      "\n",
      "[468 rows x 7 columns]\n"
     ]
    },
    {
     "name": "stderr",
     "output_type": "stream",
     "text": [
      " 20%|██        | 1/5 [13:21<49:40, 745.10s/it, N=100, linreg=0.931, pcr=0.175, pls=0.93, rho=0.1] "
     ]
    },
    {
     "name": "stdout",
     "output_type": "stream",
     "text": [
      "   train_sample_size    N n_components   rho   model        R2            MSE\n",
      "0               5000  500            5  0.01  linreg  0.999996       1.120479\n",
      "1               5000  500            5  0.01     pcr  0.008567  278123.542607\n",
      "2               5000  500            5  0.01     pls  0.999916      23.445148\n",
      "0               5000  500           50  0.01  linreg  0.999996       1.120479\n",
      "1               5000  500           50  0.01     pcr  0.127465  244769.316087\n",
      "..               ...  ...          ...   ...     ...       ...            ...\n",
      "1                200  100           50  0.10     pcr  0.530605   27756.372114\n",
      "2                200  100           50  0.10     pls  0.999967       1.960211\n",
      "0                100  100            1  0.10  linreg  0.930520    4108.069195\n",
      "1                100  100            1  0.10     pcr  0.120868   51979.361941\n",
      "2                100  100            1  0.10     pls  0.289072   42034.168639\n",
      "\n",
      "[471 rows x 7 columns]\n"
     ]
    },
    {
     "name": "stderr",
     "output_type": "stream",
     "text": [
      " 20%|██        | 1/5 [13:22<49:40, 745.10s/it, N=100, linreg=0.931, pcr=0.244, pls=0.964, rho=0.1]"
     ]
    },
    {
     "name": "stdout",
     "output_type": "stream",
     "text": [
      "   train_sample_size    N n_components   rho   model        R2            MSE\n",
      "0               5000  500            5  0.01  linreg  0.999996       1.120479\n",
      "1               5000  500            5  0.01     pcr  0.008567  278123.542607\n",
      "2               5000  500            5  0.01     pls  0.999916      23.445148\n",
      "0               5000  500           50  0.01  linreg  0.999996       1.120479\n",
      "1               5000  500           50  0.01     pcr  0.127465  244769.316087\n",
      "..               ...  ...          ...   ...     ...       ...            ...\n",
      "1                100  100            1  0.10     pcr  0.120868   51979.361941\n",
      "2                100  100            1  0.10     pls  0.289072   42034.168639\n",
      "0                100  100           10  0.10  linreg  0.930520    4108.069195\n",
      "1                100  100           10  0.10     pcr  0.175348   48758.235938\n",
      "2                100  100           10  0.10     pls  0.930316    4120.118420\n",
      "\n",
      "[474 rows x 7 columns]\n"
     ]
    },
    {
     "name": "stderr",
     "output_type": "stream",
     "text": [
      " 20%|██        | 1/5 [13:23<49:40, 745.10s/it, N=100, linreg=0.931, pcr=0.546, pls=0.972, rho=0.1]"
     ]
    },
    {
     "name": "stdout",
     "output_type": "stream",
     "text": [
      "   train_sample_size    N n_components   rho   model        R2            MSE\n",
      "0               5000  500            5  0.01  linreg  0.999996       1.120479\n",
      "1               5000  500            5  0.01     pcr  0.008567  278123.542607\n",
      "2               5000  500            5  0.01     pls  0.999916      23.445148\n",
      "0               5000  500           50  0.01  linreg  0.999996       1.120479\n",
      "1               5000  500           50  0.01     pcr  0.127465  244769.316087\n",
      "..               ...  ...          ...   ...     ...       ...            ...\n",
      "1                100  100           10  0.10     pcr  0.175348   48758.235938\n",
      "2                100  100           10  0.10     pls  0.930316    4120.118420\n",
      "0                100  100           25  0.10  linreg  0.930520    4108.069195\n",
      "1                100  100           25  0.10     pcr  0.243547   44725.860081\n",
      "2                100  100           25  0.10     pls  0.963914    2133.589324\n",
      "\n",
      "[477 rows x 7 columns]\n"
     ]
    },
    {
     "name": "stderr",
     "output_type": "stream",
     "text": [
      " 20%|██        | 1/5 [13:26<49:40, 745.10s/it, N=100, linreg=1, pcr=-.00538, pls=0.223, rho=0.2]  "
     ]
    },
    {
     "name": "stdout",
     "output_type": "stream",
     "text": [
      "   train_sample_size    N n_components   rho   model        R2            MSE\n",
      "0               5000  500            5  0.01  linreg  0.999996       1.120479\n",
      "1               5000  500            5  0.01     pcr  0.008567  278123.542607\n",
      "2               5000  500            5  0.01     pls  0.999916      23.445148\n",
      "0               5000  500           50  0.01  linreg  0.999996       1.120479\n",
      "1               5000  500           50  0.01     pcr  0.127465  244769.316087\n",
      "..               ...  ...          ...   ...     ...       ...            ...\n",
      "1                100  100           25  0.10     pcr  0.243547   44725.860081\n",
      "2                100  100           25  0.10     pls  0.963914    2133.589324\n",
      "0                100  100           50  0.10  linreg  0.930520    4108.069195\n",
      "1                100  100           50  0.10     pcr  0.545629   26865.022100\n",
      "2                100  100           50  0.10     pls  0.972325    1636.303722\n",
      "\n",
      "[480 rows x 7 columns]\n"
     ]
    },
    {
     "name": "stderr",
     "output_type": "stream",
     "text": [
      " 20%|██        | 1/5 [13:29<49:40, 745.10s/it, N=100, linreg=1, pcr=0.0966, pls=1, rho=0.2]     "
     ]
    },
    {
     "name": "stdout",
     "output_type": "stream",
     "text": [
      "   train_sample_size    N n_components   rho   model        R2            MSE\n",
      "0               5000  500            5  0.01  linreg  0.999996       1.120479\n",
      "1               5000  500            5  0.01     pcr  0.008567  278123.542607\n",
      "2               5000  500            5  0.01     pls  0.999916      23.445148\n",
      "0               5000  500           50  0.01  linreg  0.999996       1.120479\n",
      "1               5000  500           50  0.01     pcr  0.127465  244769.316087\n",
      "..               ...  ...          ...   ...     ...       ...            ...\n",
      "1                100  100           50  0.10     pcr  0.545629   26865.022100\n",
      "2                100  100           50  0.10     pls  0.972325    1636.303722\n",
      "0               1000  100            1  0.20  linreg  0.999983       1.105744\n",
      "1               1000  100            1  0.20     pcr -0.005379   64875.585167\n",
      "2               1000  100            1  0.20     pls  0.222546   50167.920064\n",
      "\n",
      "[483 rows x 7 columns]\n"
     ]
    },
    {
     "name": "stderr",
     "output_type": "stream",
     "text": [
      " 20%|██        | 1/5 [13:33<49:40, 745.10s/it, N=100, linreg=1, pcr=0.276, pls=1, rho=0.2] "
     ]
    },
    {
     "name": "stdout",
     "output_type": "stream",
     "text": [
      "   train_sample_size    N n_components   rho   model        R2            MSE\n",
      "0               5000  500            5  0.01  linreg  0.999996       1.120479\n",
      "1               5000  500            5  0.01     pcr  0.008567  278123.542607\n",
      "2               5000  500            5  0.01     pls  0.999916      23.445148\n",
      "0               5000  500           50  0.01  linreg  0.999996       1.120479\n",
      "1               5000  500           50  0.01     pcr  0.127465  244769.316087\n",
      "..               ...  ...          ...   ...     ...       ...            ...\n",
      "1               1000  100            1  0.20     pcr -0.005379   64875.585167\n",
      "2               1000  100            1  0.20     pls  0.222546   50167.920064\n",
      "0               1000  100           10  0.20  linreg  0.999983       1.105744\n",
      "1               1000  100           10  0.20     pcr  0.096650   58291.833602\n",
      "2               1000  100           10  0.20     pls  0.999983       1.106044\n",
      "\n",
      "[486 rows x 7 columns]\n"
     ]
    },
    {
     "name": "stderr",
     "output_type": "stream",
     "text": [
      " 20%|██        | 1/5 [13:38<49:40, 745.10s/it, N=100, linreg=1, pcr=0.527, pls=1, rho=0.2]"
     ]
    },
    {
     "name": "stdout",
     "output_type": "stream",
     "text": [
      "   train_sample_size    N n_components   rho   model        R2            MSE\n",
      "0               5000  500            5  0.01  linreg  0.999996       1.120479\n",
      "1               5000  500            5  0.01     pcr  0.008567  278123.542607\n",
      "2               5000  500            5  0.01     pls  0.999916      23.445148\n",
      "0               5000  500           50  0.01  linreg  0.999996       1.120479\n",
      "1               5000  500           50  0.01     pcr  0.127465  244769.316087\n",
      "..               ...  ...          ...   ...     ...       ...            ...\n",
      "1               1000  100           10  0.20     pcr  0.096650   58291.833602\n",
      "2               1000  100           10  0.20     pls  0.999983       1.106044\n",
      "0               1000  100           25  0.20  linreg  0.999983       1.105744\n",
      "1               1000  100           25  0.20     pcr  0.275725   46736.396863\n",
      "2               1000  100           25  0.20     pls  0.999983       1.105744\n",
      "\n",
      "[489 rows x 7 columns]\n"
     ]
    },
    {
     "name": "stderr",
     "output_type": "stream",
     "text": [
      " 20%|██        | 1/5 [13:39<49:40, 745.10s/it, N=100, linreg=1, pcr=-.00143, pls=0.432, rho=0.2]"
     ]
    },
    {
     "name": "stdout",
     "output_type": "stream",
     "text": [
      "   train_sample_size    N n_components   rho   model        R2            MSE\n",
      "0               5000  500            5  0.01  linreg  0.999996       1.120479\n",
      "1               5000  500            5  0.01     pcr  0.008567  278123.542607\n",
      "2               5000  500            5  0.01     pls  0.999916      23.445148\n",
      "0               5000  500           50  0.01  linreg  0.999996       1.120479\n",
      "1               5000  500           50  0.01     pcr  0.127465  244769.316087\n",
      "..               ...  ...          ...   ...     ...       ...            ...\n",
      "1               1000  100           25  0.20     pcr  0.275725   46736.396863\n",
      "2               1000  100           25  0.20     pls  0.999983       1.105744\n",
      "0               1000  100           50  0.20  linreg  0.999983       1.105744\n",
      "1               1000  100           50  0.20     pcr  0.527467   30491.809359\n",
      "2               1000  100           50  0.20     pls  0.999983       1.105744\n",
      "\n",
      "[492 rows x 7 columns]\n"
     ]
    },
    {
     "name": "stderr",
     "output_type": "stream",
     "text": [
      " 20%|██        | 1/5 [13:40<49:40, 745.10s/it, N=100, linreg=1, pcr=0.0413, pls=1, rho=0.2]     "
     ]
    },
    {
     "name": "stdout",
     "output_type": "stream",
     "text": [
      "   train_sample_size    N n_components   rho   model        R2            MSE\n",
      "0               5000  500            5  0.01  linreg  0.999996       1.120479\n",
      "1               5000  500            5  0.01     pcr  0.008567  278123.542607\n",
      "2               5000  500            5  0.01     pls  0.999916      23.445148\n",
      "0               5000  500           50  0.01  linreg  0.999996       1.120479\n",
      "1               5000  500           50  0.01     pcr  0.127465  244769.316087\n",
      "..               ...  ...          ...   ...     ...       ...            ...\n",
      "1               1000  100           50  0.20     pcr  0.527467   30491.809359\n",
      "2               1000  100           50  0.20     pls  0.999983       1.105744\n",
      "0                500  100            1  0.20  linreg  0.999981       1.215601\n",
      "1                500  100            1  0.20     pcr -0.001434   64654.010369\n",
      "2                500  100            1  0.20     pls  0.432255   36654.448333\n",
      "\n",
      "[495 rows x 7 columns]\n"
     ]
    },
    {
     "name": "stderr",
     "output_type": "stream",
     "text": [
      " 20%|██        | 1/5 [13:41<49:40, 745.10s/it, N=100, linreg=1, pcr=0.157, pls=1, rho=0.2] "
     ]
    },
    {
     "name": "stdout",
     "output_type": "stream",
     "text": [
      "   train_sample_size    N n_components   rho   model        R2            MSE\n",
      "0               5000  500            5  0.01  linreg  0.999996       1.120479\n",
      "1               5000  500            5  0.01     pcr  0.008567  278123.542607\n",
      "2               5000  500            5  0.01     pls  0.999916      23.445148\n",
      "0               5000  500           50  0.01  linreg  0.999996       1.120479\n",
      "1               5000  500           50  0.01     pcr  0.127465  244769.316087\n",
      "..               ...  ...          ...   ...     ...       ...            ...\n",
      "1                500  100            1  0.20     pcr -0.001434   64654.010369\n",
      "2                500  100            1  0.20     pls  0.432255   36654.448333\n",
      "0                500  100           10  0.20  linreg  0.999981       1.215601\n",
      "1                500  100           10  0.20     pcr  0.041333   61892.932174\n",
      "2                500  100           10  0.20     pls  0.999980       1.279661\n",
      "\n",
      "[498 rows x 7 columns]\n"
     ]
    },
    {
     "name": "stderr",
     "output_type": "stream",
     "text": [
      " 20%|██        | 1/5 [13:42<49:40, 745.10s/it, N=100, linreg=1, pcr=0.568, pls=1, rho=0.2]"
     ]
    },
    {
     "name": "stdout",
     "output_type": "stream",
     "text": [
      "   train_sample_size    N n_components   rho   model        R2            MSE\n",
      "0               5000  500            5  0.01  linreg  0.999996       1.120479\n",
      "1               5000  500            5  0.01     pcr  0.008567  278123.542607\n",
      "2               5000  500            5  0.01     pls  0.999916      23.445148\n",
      "0               5000  500           50  0.01  linreg  0.999996       1.120479\n",
      "1               5000  500           50  0.01     pcr  0.127465  244769.316087\n",
      "..               ...  ...          ...   ...     ...       ...            ...\n",
      "1                500  100           10  0.20     pcr  0.041333   61892.932174\n",
      "2                500  100           10  0.20     pls  0.999980       1.279661\n",
      "0                500  100           25  0.20  linreg  0.999981       1.215601\n",
      "1                500  100           25  0.20     pcr  0.157477   54394.484197\n",
      "2                500  100           25  0.20     pls  0.999981       1.215601\n",
      "\n",
      "[501 rows x 7 columns]\n"
     ]
    },
    {
     "name": "stderr",
     "output_type": "stream",
     "text": [
      " 20%|██        | 1/5 [13:43<49:40, 745.10s/it, N=100, linreg=1, pcr=-.00418, pls=0.237, rho=0.2]"
     ]
    },
    {
     "name": "stdout",
     "output_type": "stream",
     "text": [
      "   train_sample_size    N n_components   rho   model        R2            MSE\n",
      "0               5000  500            5  0.01  linreg  0.999996       1.120479\n",
      "1               5000  500            5  0.01     pcr  0.008567  278123.542607\n",
      "2               5000  500            5  0.01     pls  0.999916      23.445148\n",
      "0               5000  500           50  0.01  linreg  0.999996       1.120479\n",
      "1               5000  500           50  0.01     pcr  0.127465  244769.316087\n",
      "..               ...  ...          ...   ...     ...       ...            ...\n",
      "1                500  100           25  0.20     pcr  0.157477   54394.484197\n",
      "2                500  100           25  0.20     pls  0.999981       1.215601\n",
      "0                500  100           50  0.20  linreg  0.999981       1.215601\n",
      "1                500  100           50  0.20     pcr  0.567913   27896.154890\n",
      "2                500  100           50  0.20     pls  0.999981       1.215601\n",
      "\n",
      "[504 rows x 7 columns]\n"
     ]
    },
    {
     "name": "stderr",
     "output_type": "stream",
     "text": [
      " 20%|██        | 1/5 [13:44<49:40, 745.10s/it, N=100, linreg=1, pcr=0.0733, pls=1, rho=0.2]     "
     ]
    },
    {
     "name": "stdout",
     "output_type": "stream",
     "text": [
      "   train_sample_size    N n_components   rho   model        R2            MSE\n",
      "0               5000  500            5  0.01  linreg  0.999996       1.120479\n",
      "1               5000  500            5  0.01     pcr  0.008567  278123.542607\n",
      "2               5000  500            5  0.01     pls  0.999916      23.445148\n",
      "0               5000  500           50  0.01  linreg  0.999996       1.120479\n",
      "1               5000  500           50  0.01     pcr  0.127465  244769.316087\n",
      "..               ...  ...          ...   ...     ...       ...            ...\n",
      "1                500  100           50  0.20     pcr  0.567913   27896.154890\n",
      "2                500  100           50  0.20     pls  0.999981       1.215601\n",
      "0                300  100            1  0.20  linreg  0.999977       1.511544\n",
      "1                300  100            1  0.20     pcr -0.004179   64822.710345\n",
      "2                300  100            1  0.20     pls  0.236786   49267.678938\n",
      "\n",
      "[507 rows x 7 columns]\n"
     ]
    },
    {
     "name": "stderr",
     "output_type": "stream",
     "text": [
      " 20%|██        | 1/5 [13:45<49:40, 745.10s/it, N=100, linreg=1, pcr=0.201, pls=1, rho=0.2] "
     ]
    },
    {
     "name": "stdout",
     "output_type": "stream",
     "text": [
      "   train_sample_size    N n_components   rho   model        R2            MSE\n",
      "0               5000  500            5  0.01  linreg  0.999996       1.120479\n",
      "1               5000  500            5  0.01     pcr  0.008567  278123.542607\n",
      "2               5000  500            5  0.01     pls  0.999916      23.445148\n",
      "0               5000  500           50  0.01  linreg  0.999996       1.120479\n",
      "1               5000  500           50  0.01     pcr  0.127465  244769.316087\n",
      "..               ...  ...          ...   ...     ...       ...            ...\n",
      "1                300  100            1  0.20     pcr -0.004179   64822.710345\n",
      "2                300  100            1  0.20     pls  0.236786   49267.678938\n",
      "0                300  100           10  0.20  linreg  0.999977       1.511544\n",
      "1                300  100           10  0.20     pcr  0.073252   59824.293453\n",
      "2                300  100           10  0.20     pls  0.999949       3.263585\n",
      "\n",
      "[510 rows x 7 columns]\n"
     ]
    },
    {
     "name": "stderr",
     "output_type": "stream",
     "text": [
      " 20%|██        | 1/5 [13:46<49:40, 745.10s/it, N=100, linreg=1, pcr=0.503, pls=1, rho=0.2]"
     ]
    },
    {
     "name": "stdout",
     "output_type": "stream",
     "text": [
      "   train_sample_size    N n_components   rho   model        R2            MSE\n",
      "0               5000  500            5  0.01  linreg  0.999996       1.120479\n",
      "1               5000  500            5  0.01     pcr  0.008567  278123.542607\n",
      "2               5000  500            5  0.01     pls  0.999916      23.445148\n",
      "0               5000  500           50  0.01  linreg  0.999996       1.120479\n",
      "1               5000  500           50  0.01     pcr  0.127465  244769.316087\n",
      "..               ...  ...          ...   ...     ...       ...            ...\n",
      "1                300  100           10  0.20     pcr  0.073252   59824.293453\n",
      "2                300  100           10  0.20     pls  0.999949       3.263585\n",
      "0                300  100           25  0.20  linreg  0.999977       1.511544\n",
      "1                300  100           25  0.20     pcr  0.200691   51597.699811\n",
      "2                300  100           25  0.20     pls  0.999977       1.511524\n",
      "\n",
      "[513 rows x 7 columns]\n"
     ]
    },
    {
     "name": "stderr",
     "output_type": "stream",
     "text": [
      " 20%|██        | 1/5 [13:46<49:40, 745.10s/it, N=100, linreg=1, pcr=-.00898, pls=0.123, rho=0.2]"
     ]
    },
    {
     "name": "stdout",
     "output_type": "stream",
     "text": [
      "   train_sample_size    N n_components   rho   model        R2            MSE\n",
      "0               5000  500            5  0.01  linreg  0.999996       1.120479\n",
      "1               5000  500            5  0.01     pcr  0.008567  278123.542607\n",
      "2               5000  500            5  0.01     pls  0.999916      23.445148\n",
      "0               5000  500           50  0.01  linreg  0.999996       1.120479\n",
      "1               5000  500           50  0.01     pcr  0.127465  244769.316087\n",
      "..               ...  ...          ...   ...     ...       ...            ...\n",
      "1                300  100           25  0.20     pcr  0.200691   51597.699811\n",
      "2                300  100           25  0.20     pls  0.999977       1.511524\n",
      "0                300  100           50  0.20  linreg  0.999977       1.511544\n",
      "1                300  100           50  0.20     pcr  0.502589   32109.334228\n",
      "2                300  100           50  0.20     pls  0.999977       1.511544\n",
      "\n",
      "[516 rows x 7 columns]\n"
     ]
    },
    {
     "name": "stderr",
     "output_type": "stream",
     "text": [
      " 20%|██        | 1/5 [13:47<49:40, 745.10s/it, N=100, linreg=1, pcr=0.104, pls=0.998, rho=0.2]  "
     ]
    },
    {
     "name": "stdout",
     "output_type": "stream",
     "text": [
      "   train_sample_size    N n_components   rho   model        R2            MSE\n",
      "0               5000  500            5  0.01  linreg  0.999996       1.120479\n",
      "1               5000  500            5  0.01     pcr  0.008567  278123.542607\n",
      "2               5000  500            5  0.01     pls  0.999916      23.445148\n",
      "0               5000  500           50  0.01  linreg  0.999996       1.120479\n",
      "1               5000  500           50  0.01     pcr  0.127465  244769.316087\n",
      "..               ...  ...          ...   ...     ...       ...            ...\n",
      "1                300  100           50  0.20     pcr  0.502589   32109.334228\n",
      "2                300  100           50  0.20     pls  0.999977       1.511544\n",
      "0                200  100            1  0.20  linreg  0.999967       2.144333\n",
      "1                200  100            1  0.20     pcr -0.008977   65127.964532\n",
      "2                200  100            1  0.20     pls  0.122615   56633.873221\n",
      "\n",
      "[519 rows x 7 columns]\n"
     ]
    },
    {
     "name": "stderr",
     "output_type": "stream",
     "text": [
      " 20%|██        | 1/5 [13:48<49:40, 745.10s/it, N=100, linreg=1, pcr=0.236, pls=1, rho=0.2]    "
     ]
    },
    {
     "name": "stdout",
     "output_type": "stream",
     "text": [
      "   train_sample_size    N n_components   rho   model        R2            MSE\n",
      "0               5000  500            5  0.01  linreg  0.999996       1.120479\n",
      "1               5000  500            5  0.01     pcr  0.008567  278123.542607\n",
      "2               5000  500            5  0.01     pls  0.999916      23.445148\n",
      "0               5000  500           50  0.01  linreg  0.999996       1.120479\n",
      "1               5000  500           50  0.01     pcr  0.127465  244769.316087\n",
      "..               ...  ...          ...   ...     ...       ...            ...\n",
      "1                200  100            1  0.20     pcr -0.008977   65127.964532\n",
      "2                200  100            1  0.20     pls  0.122615   56633.873221\n",
      "0                200  100           10  0.20  linreg  0.999967       2.144333\n",
      "1                200  100           10  0.20     pcr  0.104421   57808.302130\n",
      "2                200  100           10  0.20     pls  0.998095     122.958340\n",
      "\n",
      "[522 rows x 7 columns]\n"
     ]
    },
    {
     "name": "stderr",
     "output_type": "stream",
     "text": [
      " 20%|██        | 1/5 [13:49<49:40, 745.10s/it, N=100, linreg=1, pcr=0.429, pls=1, rho=0.2]"
     ]
    },
    {
     "name": "stdout",
     "output_type": "stream",
     "text": [
      "   train_sample_size    N n_components   rho   model        R2            MSE\n",
      "0               5000  500            5  0.01  linreg  0.999996       1.120479\n",
      "1               5000  500            5  0.01     pcr  0.008567  278123.542607\n",
      "2               5000  500            5  0.01     pls  0.999916      23.445148\n",
      "0               5000  500           50  0.01  linreg  0.999996       1.120479\n",
      "1               5000  500           50  0.01     pcr  0.127465  244769.316087\n",
      "..               ...  ...          ...   ...     ...       ...            ...\n",
      "1                200  100           10  0.20     pcr  0.104421   57808.302130\n",
      "2                200  100           10  0.20     pls  0.998095     122.958340\n",
      "0                200  100           25  0.20  linreg  0.999967       2.144333\n",
      "1                200  100           25  0.20     pcr  0.236303   49295.512100\n",
      "2                200  100           25  0.20     pls  0.999967       2.124901\n",
      "\n",
      "[525 rows x 7 columns]\n"
     ]
    },
    {
     "name": "stderr",
     "output_type": "stream",
     "text": [
      " 20%|██        | 1/5 [13:50<49:40, 745.10s/it, N=100, linreg=0.997, pcr=-.0118, pls=0.0308, rho=0.2]"
     ]
    },
    {
     "name": "stdout",
     "output_type": "stream",
     "text": [
      "   train_sample_size    N n_components   rho   model        R2            MSE\n",
      "0               5000  500            5  0.01  linreg  0.999996       1.120479\n",
      "1               5000  500            5  0.01     pcr  0.008567  278123.542607\n",
      "2               5000  500            5  0.01     pls  0.999916      23.445148\n",
      "0               5000  500           50  0.01  linreg  0.999996       1.120479\n",
      "1               5000  500           50  0.01     pcr  0.127465  244769.316087\n",
      "..               ...  ...          ...   ...     ...       ...            ...\n",
      "1                200  100           25  0.20     pcr  0.236303   49295.512100\n",
      "2                200  100           25  0.20     pls  0.999967       2.124901\n",
      "0                200  100           50  0.20  linreg  0.999967       2.144333\n",
      "1                200  100           50  0.20     pcr  0.429453   36827.944123\n",
      "2                200  100           50  0.20     pls  0.999967       2.144333\n",
      "\n",
      "[528 rows x 7 columns]\n"
     ]
    },
    {
     "name": "stderr",
     "output_type": "stream",
     "text": [
      " 20%|██        | 1/5 [13:51<49:40, 745.10s/it, N=100, linreg=0.997, pcr=0.0722, pls=0.885, rho=0.2] "
     ]
    },
    {
     "name": "stdout",
     "output_type": "stream",
     "text": [
      "   train_sample_size    N n_components   rho   model        R2            MSE\n",
      "0               5000  500            5  0.01  linreg  0.999996       1.120479\n",
      "1               5000  500            5  0.01     pcr  0.008567  278123.542607\n",
      "2               5000  500            5  0.01     pls  0.999916      23.445148\n",
      "0               5000  500           50  0.01  linreg  0.999996       1.120479\n",
      "1               5000  500           50  0.01     pcr  0.127465  244769.316087\n",
      "..               ...  ...          ...   ...     ...       ...            ...\n",
      "1                200  100           50  0.20     pcr  0.429453   36827.944123\n",
      "2                200  100           50  0.20     pls  0.999967       2.144333\n",
      "0                100  100            1  0.20  linreg  0.996881     201.295058\n",
      "1                100  100            1  0.20     pcr -0.011779   65307.041961\n",
      "2                100  100            1  0.20     pls  0.030829   62556.804667\n",
      "\n",
      "[531 rows x 7 columns]\n"
     ]
    },
    {
     "name": "stderr",
     "output_type": "stream",
     "text": [
      " 20%|██        | 1/5 [13:52<49:40, 745.10s/it, N=100, linreg=0.997, pcr=0.264, pls=0.922, rho=0.2] "
     ]
    },
    {
     "name": "stdout",
     "output_type": "stream",
     "text": [
      "   train_sample_size    N n_components   rho   model        R2            MSE\n",
      "0               5000  500            5  0.01  linreg  0.999996       1.120479\n",
      "1               5000  500            5  0.01     pcr  0.008567  278123.542607\n",
      "2               5000  500            5  0.01     pls  0.999916      23.445148\n",
      "0               5000  500           50  0.01  linreg  0.999996       1.120479\n",
      "1               5000  500           50  0.01     pcr  0.127465  244769.316087\n",
      "..               ...  ...          ...   ...     ...       ...            ...\n",
      "1                100  100            1  0.20     pcr -0.011779   65307.041961\n",
      "2                100  100            1  0.20     pls  0.030829   62556.804667\n",
      "0                100  100           10  0.20  linreg  0.996881     201.295058\n",
      "1                100  100           10  0.20     pcr  0.072209   59885.868461\n",
      "2                100  100           10  0.20     pls  0.885256    7406.339687\n",
      "\n",
      "[534 rows x 7 columns]\n"
     ]
    },
    {
     "name": "stderr",
     "output_type": "stream",
     "text": [
      " 20%|██        | 1/5 [13:53<49:40, 745.10s/it, N=100, linreg=0.997, pcr=0.524, pls=0.941, rho=0.2]"
     ]
    },
    {
     "name": "stdout",
     "output_type": "stream",
     "text": [
      "   train_sample_size    N n_components   rho   model        R2            MSE\n",
      "0               5000  500            5  0.01  linreg  0.999996       1.120479\n",
      "1               5000  500            5  0.01     pcr  0.008567  278123.542607\n",
      "2               5000  500            5  0.01     pls  0.999916      23.445148\n",
      "0               5000  500           50  0.01  linreg  0.999996       1.120479\n",
      "1               5000  500           50  0.01     pcr  0.127465  244769.316087\n",
      "..               ...  ...          ...   ...     ...       ...            ...\n",
      "1                100  100           10  0.20     pcr  0.072209   59885.868461\n",
      "2                100  100           10  0.20     pls  0.885256    7406.339687\n",
      "0                100  100           25  0.20  linreg  0.996881     201.295058\n",
      "1                100  100           25  0.20     pcr  0.263634   47530.046354\n",
      "2                100  100           25  0.20     pls  0.921765    5049.795683\n",
      "\n",
      "[537 rows x 7 columns]\n"
     ]
    },
    {
     "name": "stderr",
     "output_type": "stream",
     "text": [
      " 20%|██        | 1/5 [13:56<49:40, 745.10s/it, N=100, linreg=1, pcr=0.509, pls=0.518, rho=0.5]    "
     ]
    },
    {
     "name": "stdout",
     "output_type": "stream",
     "text": [
      "   train_sample_size    N n_components   rho   model        R2            MSE\n",
      "0               5000  500            5  0.01  linreg  0.999996       1.120479\n",
      "1               5000  500            5  0.01     pcr  0.008567  278123.542607\n",
      "2               5000  500            5  0.01     pls  0.999916      23.445148\n",
      "0               5000  500           50  0.01  linreg  0.999996       1.120479\n",
      "1               5000  500           50  0.01     pcr  0.127465  244769.316087\n",
      "..               ...  ...          ...   ...     ...       ...            ...\n",
      "1                100  100           25  0.20     pcr  0.263634   47530.046354\n",
      "2                100  100           25  0.20     pls  0.921765    5049.795683\n",
      "0                100  100           50  0.20  linreg  0.996881     201.295058\n",
      "1                100  100           50  0.20     pcr  0.523566   30752.262279\n",
      "2                100  100           50  0.20     pls  0.941189    3796.065820\n",
      "\n",
      "[540 rows x 7 columns]\n"
     ]
    },
    {
     "name": "stderr",
     "output_type": "stream",
     "text": [
      " 20%|██        | 1/5 [13:59<49:40, 745.10s/it, N=100, linreg=1, pcr=0.547, pls=1, rho=0.5]    "
     ]
    },
    {
     "name": "stdout",
     "output_type": "stream",
     "text": [
      "   train_sample_size    N n_components   rho   model        R2            MSE\n",
      "0               5000  500            5  0.01  linreg  0.999996       1.120479\n",
      "1               5000  500            5  0.01     pcr  0.008567  278123.542607\n",
      "2               5000  500            5  0.01     pls  0.999916      23.445148\n",
      "0               5000  500           50  0.01  linreg  0.999996       1.120479\n",
      "1               5000  500           50  0.01     pcr  0.127465  244769.316087\n",
      "..               ...  ...          ...   ...     ...       ...            ...\n",
      "1                100  100           50  0.20     pcr  0.523566   30752.262279\n",
      "2                100  100           50  0.20     pls  0.941189    3796.065820\n",
      "0               1000  100            1  0.50  linreg  0.999983       1.099898\n",
      "1               1000  100            1  0.50     pcr  0.508740   32230.571927\n",
      "2               1000  100            1  0.50     pls  0.517578   31650.695696\n",
      "\n",
      "[543 rows x 7 columns]\n"
     ]
    },
    {
     "name": "stderr",
     "output_type": "stream",
     "text": [
      " 20%|██        | 1/5 [14:03<49:40, 745.10s/it, N=100, linreg=1, pcr=0.649, pls=1, rho=0.5]"
     ]
    },
    {
     "name": "stdout",
     "output_type": "stream",
     "text": [
      "   train_sample_size    N n_components   rho   model        R2            MSE\n",
      "0               5000  500            5  0.01  linreg  0.999996       1.120479\n",
      "1               5000  500            5  0.01     pcr  0.008567  278123.542607\n",
      "2               5000  500            5  0.01     pls  0.999916      23.445148\n",
      "0               5000  500           50  0.01  linreg  0.999996       1.120479\n",
      "1               5000  500           50  0.01     pcr  0.127465  244769.316087\n",
      "..               ...  ...          ...   ...     ...       ...            ...\n",
      "1               1000  100            1  0.50     pcr  0.508740   32230.571927\n",
      "2               1000  100            1  0.50     pls  0.517578   31650.695696\n",
      "0               1000  100           10  0.50  linreg  0.999983       1.099898\n",
      "1               1000  100           10  0.50     pcr  0.547218   29706.125898\n",
      "2               1000  100           10  0.50     pls  0.999983       1.100168\n",
      "\n",
      "[546 rows x 7 columns]\n"
     ]
    },
    {
     "name": "stderr",
     "output_type": "stream",
     "text": [
      " 20%|██        | 1/5 [14:08<49:40, 745.10s/it, N=100, linreg=1, pcr=0.707, pls=1, rho=0.5]"
     ]
    },
    {
     "name": "stdout",
     "output_type": "stream",
     "text": [
      "   train_sample_size    N n_components   rho   model        R2            MSE\n",
      "0               5000  500            5  0.01  linreg  0.999996       1.120479\n",
      "1               5000  500            5  0.01     pcr  0.008567  278123.542607\n",
      "2               5000  500            5  0.01     pls  0.999916      23.445148\n",
      "0               5000  500           50  0.01  linreg  0.999996       1.120479\n",
      "1               5000  500           50  0.01     pcr  0.127465  244769.316087\n",
      "..               ...  ...          ...   ...     ...       ...            ...\n",
      "1               1000  100           10  0.50     pcr  0.547218   29706.125898\n",
      "2               1000  100           10  0.50     pls  0.999983       1.100168\n",
      "0               1000  100           25  0.50  linreg  0.999983       1.099898\n",
      "1               1000  100           25  0.50     pcr  0.648551   23057.874181\n",
      "2               1000  100           25  0.50     pls  0.999983       1.099898\n",
      "\n",
      "[549 rows x 7 columns]\n"
     ]
    },
    {
     "name": "stderr",
     "output_type": "stream",
     "text": [
      " 20%|██        | 1/5 [14:08<49:40, 745.10s/it, N=100, linreg=1, pcr=0.505, pls=0.517, rho=0.5]"
     ]
    },
    {
     "name": "stdout",
     "output_type": "stream",
     "text": [
      "   train_sample_size    N n_components   rho   model        R2            MSE\n",
      "0               5000  500            5  0.01  linreg  0.999996       1.120479\n",
      "1               5000  500            5  0.01     pcr  0.008567  278123.542607\n",
      "2               5000  500            5  0.01     pls  0.999916      23.445148\n",
      "0               5000  500           50  0.01  linreg  0.999996       1.120479\n",
      "1               5000  500           50  0.01     pcr  0.127465  244769.316087\n",
      "..               ...  ...          ...   ...     ...       ...            ...\n",
      "1               1000  100           25  0.50     pcr  0.648551   23057.874181\n",
      "2               1000  100           25  0.50     pls  0.999983       1.099898\n",
      "0               1000  100           50  0.50  linreg  0.999983       1.099898\n",
      "1               1000  100           50  0.50     pcr  0.707385   19197.900952\n",
      "2               1000  100           50  0.50     pls  0.999983       1.099898\n",
      "\n",
      "[552 rows x 7 columns]\n"
     ]
    },
    {
     "name": "stderr",
     "output_type": "stream",
     "text": [
      " 20%|██        | 1/5 [14:09<49:40, 745.10s/it, N=100, linreg=1, pcr=0.577, pls=1, rho=0.5]    "
     ]
    },
    {
     "name": "stdout",
     "output_type": "stream",
     "text": [
      "   train_sample_size    N n_components   rho   model        R2            MSE\n",
      "0               5000  500            5  0.01  linreg  0.999996       1.120479\n",
      "1               5000  500            5  0.01     pcr  0.008567  278123.542607\n",
      "2               5000  500            5  0.01     pls  0.999916      23.445148\n",
      "0               5000  500           50  0.01  linreg  0.999996       1.120479\n",
      "1               5000  500           50  0.01     pcr  0.127465  244769.316087\n",
      "..               ...  ...          ...   ...     ...       ...            ...\n",
      "1               1000  100           50  0.50     pcr  0.707385   19197.900952\n",
      "2               1000  100           50  0.50     pls  0.999983       1.099898\n",
      "0                500  100            1  0.50  linreg  0.999980       1.304814\n",
      "1                500  100            1  0.50     pcr  0.504893   32495.480637\n",
      "2                500  100            1  0.50     pls  0.516590   31727.824077\n",
      "\n",
      "[555 rows x 7 columns]\n"
     ]
    },
    {
     "name": "stderr",
     "output_type": "stream",
     "text": [
      " 20%|██        | 1/5 [14:10<49:40, 745.10s/it, N=100, linreg=1, pcr=0.648, pls=1, rho=0.5]"
     ]
    },
    {
     "name": "stdout",
     "output_type": "stream",
     "text": [
      "   train_sample_size    N n_components   rho   model        R2            MSE\n",
      "0               5000  500            5  0.01  linreg  0.999996       1.120479\n",
      "1               5000  500            5  0.01     pcr  0.008567  278123.542607\n",
      "2               5000  500            5  0.01     pls  0.999916      23.445148\n",
      "0               5000  500           50  0.01  linreg  0.999996       1.120479\n",
      "1               5000  500           50  0.01     pcr  0.127465  244769.316087\n",
      "..               ...  ...          ...   ...     ...       ...            ...\n",
      "1                500  100            1  0.50     pcr  0.504893   32495.480637\n",
      "2                500  100            1  0.50     pls  0.516590   31727.824077\n",
      "0                500  100           10  0.50  linreg  0.999980       1.304814\n",
      "1                500  100           10  0.50     pcr  0.576724   27780.983782\n",
      "2                500  100           10  0.50     pls  0.999980       1.328262\n",
      "\n",
      "[558 rows x 7 columns]\n"
     ]
    },
    {
     "name": "stderr",
     "output_type": "stream",
     "text": [
      " 20%|██        | 1/5 [14:11<49:40, 745.10s/it, N=100, linreg=1, pcr=0.772, pls=1, rho=0.5]"
     ]
    },
    {
     "name": "stdout",
     "output_type": "stream",
     "text": [
      "   train_sample_size    N n_components   rho   model        R2            MSE\n",
      "0               5000  500            5  0.01  linreg  0.999996       1.120479\n",
      "1               5000  500            5  0.01     pcr  0.008567  278123.542607\n",
      "2               5000  500            5  0.01     pls  0.999916      23.445148\n",
      "0               5000  500           50  0.01  linreg  0.999996       1.120479\n",
      "1               5000  500           50  0.01     pcr  0.127465  244769.316087\n",
      "..               ...  ...          ...   ...     ...       ...            ...\n",
      "1                500  100           10  0.50     pcr  0.576724   27780.983782\n",
      "2                500  100           10  0.50     pls  0.999980       1.328262\n",
      "0                500  100           25  0.50  linreg  0.999980       1.304814\n",
      "1                500  100           25  0.50     pcr  0.648277   23084.725089\n",
      "2                500  100           25  0.50     pls  0.999980       1.304814\n",
      "\n",
      "[561 rows x 7 columns]\n"
     ]
    },
    {
     "name": "stderr",
     "output_type": "stream",
     "text": [
      " 20%|██        | 1/5 [14:12<49:40, 745.10s/it, N=100, linreg=1, pcr=0.504, pls=0.516, rho=0.5]"
     ]
    },
    {
     "name": "stdout",
     "output_type": "stream",
     "text": [
      "   train_sample_size    N n_components   rho   model        R2            MSE\n",
      "0               5000  500            5  0.01  linreg  0.999996       1.120479\n",
      "1               5000  500            5  0.01     pcr  0.008567  278123.542607\n",
      "2               5000  500            5  0.01     pls  0.999916      23.445148\n",
      "0               5000  500           50  0.01  linreg  0.999996       1.120479\n",
      "1               5000  500           50  0.01     pcr  0.127465  244769.316087\n",
      "..               ...  ...          ...   ...     ...       ...            ...\n",
      "1                500  100           25  0.50     pcr  0.648277   23084.725089\n",
      "2                500  100           25  0.50     pls  0.999980       1.304814\n",
      "0                500  100           50  0.50  linreg  0.999980       1.304814\n",
      "1                500  100           50  0.50     pcr  0.771723   14982.556828\n",
      "2                500  100           50  0.50     pls  0.999980       1.304814\n",
      "\n",
      "[564 rows x 7 columns]\n"
     ]
    },
    {
     "name": "stderr",
     "output_type": "stream",
     "text": [
      " 20%|██        | 1/5 [14:13<49:40, 745.10s/it, N=100, linreg=1, pcr=0.562, pls=1, rho=0.5]    "
     ]
    },
    {
     "name": "stdout",
     "output_type": "stream",
     "text": [
      "   train_sample_size    N n_components   rho   model        R2            MSE\n",
      "0               5000  500            5  0.01  linreg  0.999996       1.120479\n",
      "1               5000  500            5  0.01     pcr  0.008567  278123.542607\n",
      "2               5000  500            5  0.01     pls  0.999916      23.445148\n",
      "0               5000  500           50  0.01  linreg  0.999996       1.120479\n",
      "1               5000  500           50  0.01     pcr  0.127465  244769.316087\n",
      "..               ...  ...          ...   ...     ...       ...            ...\n",
      "1                500  100           50  0.50     pcr  0.771723   14982.556828\n",
      "2                500  100           50  0.50     pls  0.999980       1.304814\n",
      "0                300  100            1  0.50  linreg  0.999976       1.572235\n",
      "1                300  100            1  0.50     pcr  0.504043   32546.759314\n",
      "2                300  100            1  0.50     pls  0.515700   31781.765797\n",
      "\n",
      "[567 rows x 7 columns]\n"
     ]
    },
    {
     "name": "stderr",
     "output_type": "stream",
     "text": [
      " 20%|██        | 1/5 [14:14<49:40, 745.10s/it, N=100, linreg=1, pcr=0.654, pls=1, rho=0.5]"
     ]
    },
    {
     "name": "stdout",
     "output_type": "stream",
     "text": [
      "   train_sample_size    N n_components   rho   model        R2            MSE\n",
      "0               5000  500            5  0.01  linreg  0.999996       1.120479\n",
      "1               5000  500            5  0.01     pcr  0.008567  278123.542607\n",
      "2               5000  500            5  0.01     pls  0.999916      23.445148\n",
      "0               5000  500           50  0.01  linreg  0.999996       1.120479\n",
      "1               5000  500           50  0.01     pcr  0.127465  244769.316087\n",
      "..               ...  ...          ...   ...     ...       ...            ...\n",
      "1                300  100            1  0.50     pcr  0.504043   32546.759314\n",
      "2                300  100            1  0.50     pls  0.515700   31781.765797\n",
      "0                300  100           10  0.50  linreg  0.999976       1.572235\n",
      "1                300  100           10  0.50     pcr  0.561705   28762.757832\n",
      "2                300  100           10  0.50     pls  0.999958       2.757530\n",
      "\n",
      "[570 rows x 7 columns]\n"
     ]
    },
    {
     "name": "stderr",
     "output_type": "stream",
     "text": [
      " 20%|██        | 1/5 [14:15<49:40, 745.10s/it, N=100, linreg=1, pcr=0.796, pls=1, rho=0.5]"
     ]
    },
    {
     "name": "stdout",
     "output_type": "stream",
     "text": [
      "   train_sample_size    N n_components   rho   model        R2            MSE\n",
      "0               5000  500            5  0.01  linreg  0.999996       1.120479\n",
      "1               5000  500            5  0.01     pcr  0.008567  278123.542607\n",
      "2               5000  500            5  0.01     pls  0.999916      23.445148\n",
      "0               5000  500           50  0.01  linreg  0.999996       1.120479\n",
      "1               5000  500           50  0.01     pcr  0.127465  244769.316087\n",
      "..               ...  ...          ...   ...     ...       ...            ...\n",
      "1                300  100           10  0.50     pcr  0.561705   28762.757832\n",
      "2                300  100           10  0.50     pls  0.999958       2.757530\n",
      "0                300  100           25  0.50  linreg  0.999976       1.572235\n",
      "1                300  100           25  0.50     pcr  0.653877   22714.005913\n",
      "2                300  100           25  0.50     pls  0.999976       1.572243\n",
      "\n",
      "[573 rows x 7 columns]\n"
     ]
    },
    {
     "name": "stderr",
     "output_type": "stream",
     "text": [
      " 20%|██        | 1/5 [14:16<49:40, 745.10s/it, N=100, linreg=1, pcr=0.503, pls=0.513, rho=0.5]"
     ]
    },
    {
     "name": "stdout",
     "output_type": "stream",
     "text": [
      "   train_sample_size    N n_components   rho   model        R2            MSE\n",
      "0               5000  500            5  0.01  linreg  0.999996       1.120479\n",
      "1               5000  500            5  0.01     pcr  0.008567  278123.542607\n",
      "2               5000  500            5  0.01     pls  0.999916      23.445148\n",
      "0               5000  500           50  0.01  linreg  0.999996       1.120479\n",
      "1               5000  500           50  0.01     pcr  0.127465  244769.316087\n",
      "..               ...  ...          ...   ...     ...       ...            ...\n",
      "1                300  100           25  0.50     pcr  0.653877   22714.005913\n",
      "2                300  100           25  0.50     pls  0.999976       1.572243\n",
      "0                300  100           50  0.50  linreg  0.999976       1.572235\n",
      "1                300  100           50  0.50     pcr  0.796464   13356.875175\n",
      "2                300  100           50  0.50     pls  0.999976       1.572235\n",
      "\n",
      "[576 rows x 7 columns]\n"
     ]
    },
    {
     "name": "stderr",
     "output_type": "stream",
     "text": [
      " 20%|██        | 1/5 [14:17<49:40, 745.10s/it, N=100, linreg=1, pcr=0.556, pls=0.999, rho=0.5]"
     ]
    },
    {
     "name": "stdout",
     "output_type": "stream",
     "text": [
      "   train_sample_size    N n_components   rho   model        R2            MSE\n",
      "0               5000  500            5  0.01  linreg  0.999996       1.120479\n",
      "1               5000  500            5  0.01     pcr  0.008567  278123.542607\n",
      "2               5000  500            5  0.01     pls  0.999916      23.445148\n",
      "0               5000  500           50  0.01  linreg  0.999996       1.120479\n",
      "1               5000  500           50  0.01     pcr  0.127465  244769.316087\n",
      "..               ...  ...          ...   ...     ...       ...            ...\n",
      "1                300  100           50  0.50     pcr  0.796464   13356.875175\n",
      "2                300  100           50  0.50     pls  0.999976       1.572235\n",
      "0                200  100            1  0.50  linreg  0.999971       1.898285\n",
      "1                200  100            1  0.50     pcr  0.503317   32590.053861\n",
      "2                200  100            1  0.50     pls  0.512783   31968.935771\n",
      "\n",
      "[579 rows x 7 columns]\n"
     ]
    },
    {
     "name": "stderr",
     "output_type": "stream",
     "text": [
      " 20%|██        | 1/5 [14:18<49:40, 745.10s/it, N=100, linreg=1, pcr=0.662, pls=1, rho=0.5]    "
     ]
    },
    {
     "name": "stdout",
     "output_type": "stream",
     "text": [
      "   train_sample_size    N n_components   rho   model        R2            MSE\n",
      "0               5000  500            5  0.01  linreg  0.999996       1.120479\n",
      "1               5000  500            5  0.01     pcr  0.008567  278123.542607\n",
      "2               5000  500            5  0.01     pls  0.999916      23.445148\n",
      "0               5000  500           50  0.01  linreg  0.999996       1.120479\n",
      "1               5000  500           50  0.01     pcr  0.127465  244769.316087\n",
      "..               ...  ...          ...   ...     ...       ...            ...\n",
      "1                200  100            1  0.50     pcr  0.503317   32590.053861\n",
      "2                200  100            1  0.50     pls  0.512783   31968.935771\n",
      "0                200  100           10  0.50  linreg  0.999971       1.898285\n",
      "1                200  100           10  0.50     pcr  0.555501   29165.969909\n",
      "2                200  100           10  0.50     pls  0.998871      74.105835\n",
      "\n",
      "[582 rows x 7 columns]\n"
     ]
    },
    {
     "name": "stderr",
     "output_type": "stream",
     "text": [
      " 20%|██        | 1/5 [14:19<49:40, 745.10s/it, N=100, linreg=1, pcr=0.805, pls=1, rho=0.5]"
     ]
    },
    {
     "name": "stdout",
     "output_type": "stream",
     "text": [
      "   train_sample_size    N n_components   rho   model        R2            MSE\n",
      "0               5000  500            5  0.01  linreg  0.999996       1.120479\n",
      "1               5000  500            5  0.01     pcr  0.008567  278123.542607\n",
      "2               5000  500            5  0.01     pls  0.999916      23.445148\n",
      "0               5000  500           50  0.01  linreg  0.999996       1.120479\n",
      "1               5000  500           50  0.01     pcr  0.127465  244769.316087\n",
      "..               ...  ...          ...   ...     ...       ...            ...\n",
      "1                200  100           10  0.50     pcr  0.555501   29165.969909\n",
      "2                200  100           10  0.50     pls  0.998871      74.105835\n",
      "0                200  100           25  0.50  linreg  0.999971       1.898285\n",
      "1                200  100           25  0.50     pcr  0.661537   22208.395906\n",
      "2                200  100           25  0.50     pls  0.999971       1.912173\n",
      "\n",
      "[585 rows x 7 columns]\n"
     ]
    },
    {
     "name": "stderr",
     "output_type": "stream",
     "text": [
      " 20%|██        | 1/5 [14:20<49:40, 745.10s/it, N=100, linreg=0.992, pcr=0.485, pls=0.501, rho=0.5]"
     ]
    },
    {
     "name": "stdout",
     "output_type": "stream",
     "text": [
      "   train_sample_size    N n_components   rho   model        R2            MSE\n",
      "0               5000  500            5  0.01  linreg  0.999996       1.120479\n",
      "1               5000  500            5  0.01     pcr  0.008567  278123.542607\n",
      "2               5000  500            5  0.01     pls  0.999916      23.445148\n",
      "0               5000  500           50  0.01  linreg  0.999996       1.120479\n",
      "1               5000  500           50  0.01     pcr  0.127465  244769.316087\n",
      "..               ...  ...          ...   ...     ...       ...            ...\n",
      "1                200  100           25  0.50     pcr  0.661537   22208.395906\n",
      "2                200  100           25  0.50     pls  0.999971       1.912173\n",
      "0                200  100           50  0.50  linreg  0.999971       1.898285\n",
      "1                200  100           50  0.50     pcr  0.805342   12772.568447\n",
      "2                200  100           50  0.50     pls  0.999971       1.898285\n",
      "\n",
      "[588 rows x 7 columns]\n"
     ]
    },
    {
     "name": "stderr",
     "output_type": "stream",
     "text": [
      " 20%|██        | 1/5 [14:21<49:40, 745.10s/it, N=100, linreg=0.992, pcr=0.556, pls=0.936, rho=0.5]"
     ]
    },
    {
     "name": "stdout",
     "output_type": "stream",
     "text": [
      "   train_sample_size    N n_components   rho   model        R2            MSE\n",
      "0               5000  500            5  0.01  linreg  0.999996       1.120479\n",
      "1               5000  500            5  0.01     pcr  0.008567  278123.542607\n",
      "2               5000  500            5  0.01     pls  0.999916      23.445148\n",
      "0               5000  500           50  0.01  linreg  0.999996       1.120479\n",
      "1               5000  500           50  0.01     pcr  0.127465  244769.316087\n",
      "..               ...  ...          ...   ...     ...       ...            ...\n",
      "1                200  100           50  0.50     pcr  0.805342   12772.568447\n",
      "2                200  100           50  0.50     pls  0.999971       1.898285\n",
      "0                100  100            1  0.50  linreg  0.992132     516.359808\n",
      "1                100  100            1  0.50     pcr  0.484889   33807.476240\n",
      "2                100  100            1  0.50     pls  0.500642   32773.589732\n",
      "\n",
      "[591 rows x 7 columns]\n"
     ]
    },
    {
     "name": "stderr",
     "output_type": "stream",
     "text": [
      " 20%|██        | 1/5 [14:22<49:40, 745.10s/it, N=100, linreg=0.992, pcr=0.612, pls=0.984, rho=0.5]"
     ]
    },
    {
     "name": "stdout",
     "output_type": "stream",
     "text": [
      "   train_sample_size    N n_components   rho   model        R2            MSE\n",
      "0               5000  500            5  0.01  linreg  0.999996       1.120479\n",
      "1               5000  500            5  0.01     pcr  0.008567  278123.542607\n",
      "2               5000  500            5  0.01     pls  0.999916      23.445148\n",
      "0               5000  500           50  0.01  linreg  0.999996       1.120479\n",
      "1               5000  500           50  0.01     pcr  0.127465  244769.316087\n",
      "..               ...  ...          ...   ...     ...       ...            ...\n",
      "1                100  100            1  0.50     pcr  0.484889   33807.476240\n",
      "2                100  100            1  0.50     pls  0.500642   32773.589732\n",
      "0                100  100           10  0.50  linreg  0.992132     516.359808\n",
      "1                100  100           10  0.50     pcr  0.555762   29156.001152\n",
      "2                100  100           10  0.50     pls  0.936195    4187.587838\n",
      "\n",
      "[594 rows x 7 columns]\n"
     ]
    },
    {
     "name": "stderr",
     "output_type": "stream",
     "text": [
      " 20%|██        | 1/5 [14:23<49:40, 745.10s/it, N=100, linreg=0.992, pcr=0.754, pls=0.995, rho=0.5]"
     ]
    },
    {
     "name": "stdout",
     "output_type": "stream",
     "text": [
      "   train_sample_size    N n_components   rho   model        R2            MSE\n",
      "0               5000  500            5  0.01  linreg  0.999996       1.120479\n",
      "1               5000  500            5  0.01     pcr  0.008567  278123.542607\n",
      "2               5000  500            5  0.01     pls  0.999916      23.445148\n",
      "0               5000  500           50  0.01  linreg  0.999996       1.120479\n",
      "1               5000  500           50  0.01     pcr  0.127465  244769.316087\n",
      "..               ...  ...          ...   ...     ...       ...            ...\n",
      "1                100  100           10  0.50     pcr  0.555762   29156.001152\n",
      "2                100  100           10  0.50     pls  0.936195    4187.587838\n",
      "0                100  100           25  0.50  linreg  0.992132     516.359808\n",
      "1                100  100           25  0.50     pcr  0.611642   25488.489683\n",
      "2                100  100           25  0.50     pls  0.984352    1026.970283\n",
      "\n",
      "[597 rows x 7 columns]\n"
     ]
    },
    {
     "name": "stderr",
     "output_type": "stream",
     "text": [
      " 20%|██        | 1/5 [14:26<49:40, 745.10s/it, N=100, linreg=1, pcr=0.583, pls=0.584, rho=0.9]    "
     ]
    },
    {
     "name": "stdout",
     "output_type": "stream",
     "text": [
      "   train_sample_size    N n_components   rho   model        R2            MSE\n",
      "0               5000  500            5  0.01  linreg  0.999996       1.120479\n",
      "1               5000  500            5  0.01     pcr  0.008567  278123.542607\n",
      "2               5000  500            5  0.01     pls  0.999916      23.445148\n",
      "0               5000  500           50  0.01  linreg  0.999996       1.120479\n",
      "1               5000  500           50  0.01     pcr  0.127465  244769.316087\n",
      "..               ...  ...          ...   ...     ...       ...            ...\n",
      "1                100  100           25  0.50     pcr  0.611642   25488.489683\n",
      "2                100  100           25  0.50     pls  0.984352    1026.970283\n",
      "0                100  100           50  0.50  linreg  0.992132     516.359808\n",
      "1                100  100           50  0.50     pcr  0.754139   16136.223845\n",
      "2                100  100           50  0.50     pls  0.995006     327.785334\n",
      "\n",
      "[600 rows x 7 columns]\n"
     ]
    },
    {
     "name": "stderr",
     "output_type": "stream",
     "text": [
      " 20%|██        | 1/5 [14:29<49:40, 745.10s/it, N=100, linreg=1, pcr=0.62, pls=1, rho=0.9]     "
     ]
    },
    {
     "name": "stdout",
     "output_type": "stream",
     "text": [
      "   train_sample_size    N n_components   rho   model        R2            MSE\n",
      "0               5000  500            5  0.01  linreg  0.999996       1.120479\n",
      "1               5000  500            5  0.01     pcr  0.008567  278123.542607\n",
      "2               5000  500            5  0.01     pls  0.999916      23.445148\n",
      "0               5000  500           50  0.01  linreg  0.999996       1.120479\n",
      "1               5000  500           50  0.01     pcr  0.127465  244769.316087\n",
      "..               ...  ...          ...   ...     ...       ...            ...\n",
      "1                100  100           50  0.50     pcr  0.754139   16136.223845\n",
      "2                100  100           50  0.50     pls  0.995006     327.785334\n",
      "0               1000  100            1  0.90  linreg  0.999917       1.127382\n",
      "1               1000  100            1  0.90     pcr  0.582956    5685.425886\n",
      "2               1000  100            1  0.90     pls  0.583871    5672.957241\n",
      "\n",
      "[603 rows x 7 columns]\n"
     ]
    },
    {
     "name": "stderr",
     "output_type": "stream",
     "text": [
      " 20%|██        | 1/5 [14:32<49:40, 745.10s/it, N=100, linreg=1, pcr=0.691, pls=1, rho=0.9]"
     ]
    },
    {
     "name": "stdout",
     "output_type": "stream",
     "text": [
      "   train_sample_size    N n_components   rho   model        R2            MSE\n",
      "0               5000  500            5  0.01  linreg  0.999996       1.120479\n",
      "1               5000  500            5  0.01     pcr  0.008567  278123.542607\n",
      "2               5000  500            5  0.01     pls  0.999916      23.445148\n",
      "0               5000  500           50  0.01  linreg  0.999996       1.120479\n",
      "1               5000  500           50  0.01     pcr  0.127465  244769.316087\n",
      "..               ...  ...          ...   ...     ...       ...            ...\n",
      "1               1000  100            1  0.90     pcr  0.582956    5685.425886\n",
      "2               1000  100            1  0.90     pls  0.583871    5672.957241\n",
      "0               1000  100           10  0.90  linreg  0.999917       1.127382\n",
      "1               1000  100           10  0.90     pcr  0.620257    5176.925545\n",
      "2               1000  100           10  0.90     pls  0.999917       1.127456\n",
      "\n",
      "[606 rows x 7 columns]\n"
     ]
    },
    {
     "name": "stderr",
     "output_type": "stream",
     "text": [
      " 20%|██        | 1/5 [14:37<49:40, 745.10s/it, N=100, linreg=1, pcr=0.791, pls=1, rho=0.9]"
     ]
    },
    {
     "name": "stdout",
     "output_type": "stream",
     "text": [
      "   train_sample_size    N n_components   rho   model        R2            MSE\n",
      "0               5000  500            5  0.01  linreg  0.999996       1.120479\n",
      "1               5000  500            5  0.01     pcr  0.008567  278123.542607\n",
      "2               5000  500            5  0.01     pls  0.999916      23.445148\n",
      "0               5000  500           50  0.01  linreg  0.999996       1.120479\n",
      "1               5000  500           50  0.01     pcr  0.127465  244769.316087\n",
      "..               ...  ...          ...   ...     ...       ...            ...\n",
      "1               1000  100           10  0.90     pcr  0.620257    5176.925545\n",
      "2               1000  100           10  0.90     pls  0.999917       1.127456\n",
      "0               1000  100           25  0.90  linreg  0.999917       1.127382\n",
      "1               1000  100           25  0.90     pcr  0.690548    4218.661178\n",
      "2               1000  100           25  0.90     pls  0.999917       1.127382\n",
      "\n",
      "[609 rows x 7 columns]\n"
     ]
    },
    {
     "name": "stderr",
     "output_type": "stream",
     "text": [
      " 20%|██        | 1/5 [14:38<49:40, 745.10s/it, N=100, linreg=1, pcr=0.583, pls=0.584, rho=0.9]"
     ]
    },
    {
     "name": "stdout",
     "output_type": "stream",
     "text": [
      "   train_sample_size    N n_components   rho   model        R2            MSE\n",
      "0               5000  500            5  0.01  linreg  0.999996       1.120479\n",
      "1               5000  500            5  0.01     pcr  0.008567  278123.542607\n",
      "2               5000  500            5  0.01     pls  0.999916      23.445148\n",
      "0               5000  500           50  0.01  linreg  0.999996       1.120479\n",
      "1               5000  500           50  0.01     pcr  0.127465  244769.316087\n",
      "..               ...  ...          ...   ...     ...       ...            ...\n",
      "1               1000  100           25  0.90     pcr  0.690548    4218.661178\n",
      "2               1000  100           25  0.90     pls  0.999917       1.127382\n",
      "0               1000  100           50  0.90  linreg  0.999917       1.127382\n",
      "1               1000  100           50  0.90     pcr  0.791003    2849.187688\n",
      "2               1000  100           50  0.90     pls  0.999917       1.127382\n",
      "\n",
      "[612 rows x 7 columns]\n"
     ]
    },
    {
     "name": "stderr",
     "output_type": "stream",
     "text": [
      " 20%|██        | 1/5 [14:39<49:40, 745.10s/it, N=100, linreg=1, pcr=0.614, pls=1, rho=0.9]    "
     ]
    },
    {
     "name": "stdout",
     "output_type": "stream",
     "text": [
      "   train_sample_size    N n_components   rho   model        R2            MSE\n",
      "0               5000  500            5  0.01  linreg  0.999996       1.120479\n",
      "1               5000  500            5  0.01     pcr  0.008567  278123.542607\n",
      "2               5000  500            5  0.01     pls  0.999916      23.445148\n",
      "0               5000  500           50  0.01  linreg  0.999996       1.120479\n",
      "1               5000  500           50  0.01     pcr  0.127465  244769.316087\n",
      "..               ...  ...          ...   ...     ...       ...            ...\n",
      "1               1000  100           50  0.90     pcr  0.791003    2849.187688\n",
      "2               1000  100           50  0.90     pls  0.999917       1.127382\n",
      "0                500  100            1  0.90  linreg  0.999902       1.333143\n",
      "1                500  100            1  0.90     pcr  0.583376    5680.880563\n",
      "2                500  100            1  0.90     pls  0.584107    5670.907851\n",
      "\n",
      "[615 rows x 7 columns]\n"
     ]
    },
    {
     "name": "stderr",
     "output_type": "stream",
     "text": [
      " 20%|██        | 1/5 [14:40<49:40, 745.10s/it, N=100, linreg=1, pcr=0.663, pls=1, rho=0.9]"
     ]
    },
    {
     "name": "stdout",
     "output_type": "stream",
     "text": [
      "   train_sample_size    N n_components   rho   model        R2            MSE\n",
      "0               5000  500            5  0.01  linreg  0.999996       1.120479\n",
      "1               5000  500            5  0.01     pcr  0.008567  278123.542607\n",
      "2               5000  500            5  0.01     pls  0.999916      23.445148\n",
      "0               5000  500           50  0.01  linreg  0.999996       1.120479\n",
      "1               5000  500           50  0.01     pcr  0.127465  244769.316087\n",
      "..               ...  ...          ...   ...     ...       ...            ...\n",
      "1                500  100            1  0.90     pcr  0.583376    5680.880563\n",
      "2                500  100            1  0.90     pls  0.584107    5670.907851\n",
      "0                500  100           10  0.90  linreg  0.999902       1.333143\n",
      "1                500  100           10  0.90     pcr  0.614380    5258.126721\n",
      "2                500  100           10  0.90     pls  0.999903       1.321175\n",
      "\n",
      "[618 rows x 7 columns]\n"
     ]
    },
    {
     "name": "stderr",
     "output_type": "stream",
     "text": [
      " 20%|██        | 1/5 [14:41<49:40, 745.10s/it, N=100, linreg=1, pcr=0.753, pls=1, rho=0.9]"
     ]
    },
    {
     "name": "stdout",
     "output_type": "stream",
     "text": [
      "   train_sample_size    N n_components   rho   model        R2            MSE\n",
      "0               5000  500            5  0.01  linreg  0.999996       1.120479\n",
      "1               5000  500            5  0.01     pcr  0.008567  278123.542607\n",
      "2               5000  500            5  0.01     pls  0.999916      23.445148\n",
      "0               5000  500           50  0.01  linreg  0.999996       1.120479\n",
      "1               5000  500           50  0.01     pcr  0.127465  244769.316087\n",
      "..               ...  ...          ...   ...     ...       ...            ...\n",
      "1                500  100           10  0.90     pcr  0.614380    5258.126721\n",
      "2                500  100           10  0.90     pls  0.999903       1.321175\n",
      "0                500  100           25  0.90  linreg  0.999902       1.333143\n",
      "1                500  100           25  0.90     pcr  0.663306    4590.990347\n",
      "2                500  100           25  0.90     pls  0.999902       1.333143\n",
      "\n",
      "[621 rows x 7 columns]\n"
     ]
    },
    {
     "name": "stderr",
     "output_type": "stream",
     "text": [
      " 20%|██        | 1/5 [14:42<49:40, 745.10s/it, N=100, linreg=1, pcr=0.583, pls=0.584, rho=0.9]"
     ]
    },
    {
     "name": "stdout",
     "output_type": "stream",
     "text": [
      "   train_sample_size    N n_components   rho   model        R2            MSE\n",
      "0               5000  500            5  0.01  linreg  0.999996       1.120479\n",
      "1               5000  500            5  0.01     pcr  0.008567  278123.542607\n",
      "2               5000  500            5  0.01     pls  0.999916      23.445148\n",
      "0               5000  500           50  0.01  linreg  0.999996       1.120479\n",
      "1               5000  500           50  0.01     pcr  0.127465  244769.316087\n",
      "..               ...  ...          ...   ...     ...       ...            ...\n",
      "1                500  100           25  0.90     pcr  0.663306    4590.990347\n",
      "2                500  100           25  0.90     pls  0.999902       1.333143\n",
      "0                500  100           50  0.90  linreg  0.999902       1.333143\n",
      "1                500  100           50  0.90     pcr  0.752859    3369.896679\n",
      "2                500  100           50  0.90     pls  0.999902       1.333143\n",
      "\n",
      "[624 rows x 7 columns]\n"
     ]
    },
    {
     "name": "stderr",
     "output_type": "stream",
     "text": [
      " 20%|██        | 1/5 [14:43<49:40, 745.10s/it, N=100, linreg=1, pcr=0.604, pls=1, rho=0.9]    "
     ]
    },
    {
     "name": "stdout",
     "output_type": "stream",
     "text": [
      "   train_sample_size    N n_components   rho   model        R2            MSE\n",
      "0               5000  500            5  0.01  linreg  0.999996       1.120479\n",
      "1               5000  500            5  0.01     pcr  0.008567  278123.542607\n",
      "2               5000  500            5  0.01     pls  0.999916      23.445148\n",
      "0               5000  500           50  0.01  linreg  0.999996       1.120479\n",
      "1               5000  500           50  0.01     pcr  0.127465  244769.316087\n",
      "..               ...  ...          ...   ...     ...       ...            ...\n",
      "1                500  100           50  0.90     pcr  0.752859    3369.896679\n",
      "2                500  100           50  0.90     pls  0.999902       1.333143\n",
      "0                300  100            1  0.90  linreg  0.999884       1.581165\n",
      "1                300  100            1  0.90     pcr  0.583132    5685.622798\n",
      "2                300  100            1  0.90     pls  0.583889    5675.310849\n",
      "\n",
      "[627 rows x 7 columns]\n"
     ]
    },
    {
     "name": "stderr",
     "output_type": "stream",
     "text": [
      " 20%|██        | 1/5 [14:44<49:40, 745.10s/it, N=100, linreg=1, pcr=0.646, pls=1, rho=0.9]"
     ]
    },
    {
     "name": "stdout",
     "output_type": "stream",
     "text": [
      "   train_sample_size    N n_components   rho   model        R2            MSE\n",
      "0               5000  500            5  0.01  linreg  0.999996       1.120479\n",
      "1               5000  500            5  0.01     pcr  0.008567  278123.542607\n",
      "2               5000  500            5  0.01     pls  0.999916      23.445148\n",
      "0               5000  500           50  0.01  linreg  0.999996       1.120479\n",
      "1               5000  500           50  0.01     pcr  0.127465  244769.316087\n",
      "..               ...  ...          ...   ...     ...       ...            ...\n",
      "1                300  100            1  0.90     pcr  0.583132    5685.622798\n",
      "2                300  100            1  0.90     pls  0.583889    5675.310849\n",
      "0                300  100           10  0.90  linreg  0.999884       1.581165\n",
      "1                300  100           10  0.90     pcr  0.604036    5400.517954\n",
      "2                300  100           10  0.90     pls  0.999872       1.739546\n",
      "\n",
      "[630 rows x 7 columns]\n"
     ]
    },
    {
     "name": "stderr",
     "output_type": "stream",
     "text": [
      " 20%|██        | 1/5 [14:45<49:40, 745.10s/it, N=100, linreg=1, pcr=0.753, pls=1, rho=0.9]"
     ]
    },
    {
     "name": "stdout",
     "output_type": "stream",
     "text": [
      "   train_sample_size    N n_components   rho   model        R2            MSE\n",
      "0               5000  500            5  0.01  linreg  0.999996       1.120479\n",
      "1               5000  500            5  0.01     pcr  0.008567  278123.542607\n",
      "2               5000  500            5  0.01     pls  0.999916      23.445148\n",
      "0               5000  500           50  0.01  linreg  0.999996       1.120479\n",
      "1               5000  500           50  0.01     pcr  0.127465  244769.316087\n",
      "..               ...  ...          ...   ...     ...       ...            ...\n",
      "1                300  100           10  0.90     pcr  0.604036    5400.517954\n",
      "2                300  100           10  0.90     pls  0.999872       1.739546\n",
      "0                300  100           25  0.90  linreg  0.999884       1.581165\n",
      "1                300  100           25  0.90     pcr  0.646220    4825.171118\n",
      "2                300  100           25  0.90     pls  0.999884       1.581144\n",
      "\n",
      "[633 rows x 7 columns]\n"
     ]
    },
    {
     "name": "stderr",
     "output_type": "stream",
     "text": [
      " 20%|██        | 1/5 [14:46<49:40, 745.10s/it, N=100, linreg=1, pcr=0.581, pls=0.581, rho=0.9]"
     ]
    },
    {
     "name": "stdout",
     "output_type": "stream",
     "text": [
      "   train_sample_size    N n_components   rho   model        R2            MSE\n",
      "0               5000  500            5  0.01  linreg  0.999996       1.120479\n",
      "1               5000  500            5  0.01     pcr  0.008567  278123.542607\n",
      "2               5000  500            5  0.01     pls  0.999916      23.445148\n",
      "0               5000  500           50  0.01  linreg  0.999996       1.120479\n",
      "1               5000  500           50  0.01     pcr  0.127465  244769.316087\n",
      "..               ...  ...          ...   ...     ...       ...            ...\n",
      "1                300  100           25  0.90     pcr  0.646220    4825.171118\n",
      "2                300  100           25  0.90     pls  0.999884       1.581144\n",
      "0                300  100           50  0.90  linreg  0.999884       1.581165\n",
      "1                300  100           50  0.90     pcr  0.753054    3368.075995\n",
      "2                300  100           50  0.90     pls  0.999884       1.581165\n",
      "\n",
      "[636 rows x 7 columns]\n"
     ]
    },
    {
     "name": "stderr",
     "output_type": "stream",
     "text": [
      " 20%|██        | 1/5 [14:47<49:40, 745.10s/it, N=100, linreg=1, pcr=0.6, pls=1, rho=0.9]      "
     ]
    },
    {
     "name": "stdout",
     "output_type": "stream",
     "text": [
      "   train_sample_size    N n_components   rho   model        R2            MSE\n",
      "0               5000  500            5  0.01  linreg  0.999996       1.120479\n",
      "1               5000  500            5  0.01     pcr  0.008567  278123.542607\n",
      "2               5000  500            5  0.01     pls  0.999916      23.445148\n",
      "0               5000  500           50  0.01  linreg  0.999996       1.120479\n",
      "1               5000  500           50  0.01     pcr  0.127465  244769.316087\n",
      "..               ...  ...          ...   ...     ...       ...            ...\n",
      "1                300  100           50  0.90     pcr  0.753054    3368.075995\n",
      "2                300  100           50  0.90     pls  0.999884       1.581165\n",
      "0                200  100            1  0.90  linreg  0.999850       2.048144\n",
      "1                200  100            1  0.90     pcr  0.580589    5719.579135\n",
      "2                200  100            1  0.90     pls  0.581248    5710.581874\n",
      "\n",
      "[639 rows x 7 columns]\n"
     ]
    },
    {
     "name": "stderr",
     "output_type": "stream",
     "text": [
      " 20%|██        | 1/5 [14:47<49:40, 745.10s/it, N=100, linreg=1, pcr=0.661, pls=1, rho=0.9]"
     ]
    },
    {
     "name": "stdout",
     "output_type": "stream",
     "text": [
      "   train_sample_size    N n_components   rho   model        R2            MSE\n",
      "0               5000  500            5  0.01  linreg  0.999996       1.120479\n",
      "1               5000  500            5  0.01     pcr  0.008567  278123.542607\n",
      "2               5000  500            5  0.01     pls  0.999916      23.445148\n",
      "0               5000  500           50  0.01  linreg  0.999996       1.120479\n",
      "1               5000  500           50  0.01     pcr  0.127465  244769.316087\n",
      "..               ...  ...          ...   ...     ...       ...            ...\n",
      "1                200  100            1  0.90     pcr  0.580589    5719.579135\n",
      "2                200  100            1  0.90     pls  0.581248    5710.581874\n",
      "0                200  100           10  0.90  linreg  0.999850       2.048144\n",
      "1                200  100           10  0.90     pcr  0.600112    5453.337937\n",
      "2                200  100           10  0.90     pls  0.999575       5.790681\n",
      "\n",
      "[642 rows x 7 columns]\n"
     ]
    },
    {
     "name": "stderr",
     "output_type": "stream",
     "text": [
      " 20%|██        | 1/5 [14:48<49:40, 745.10s/it, N=100, linreg=1, pcr=0.777, pls=1, rho=0.9]"
     ]
    },
    {
     "name": "stdout",
     "output_type": "stream",
     "text": [
      "   train_sample_size    N n_components   rho   model        R2            MSE\n",
      "0               5000  500            5  0.01  linreg  0.999996       1.120479\n",
      "1               5000  500            5  0.01     pcr  0.008567  278123.542607\n",
      "2               5000  500            5  0.01     pls  0.999916      23.445148\n",
      "0               5000  500           50  0.01  linreg  0.999996       1.120479\n",
      "1               5000  500           50  0.01     pcr  0.127465  244769.316087\n",
      "..               ...  ...          ...   ...     ...       ...            ...\n",
      "1                200  100           10  0.90     pcr  0.600112    5453.337937\n",
      "2                200  100           10  0.90     pls  0.999575       5.790681\n",
      "0                200  100           25  0.90  linreg  0.999850       2.048144\n",
      "1                200  100           25  0.90     pcr  0.661364    4618.033497\n",
      "2                200  100           25  0.90     pls  0.999850       2.049136\n",
      "\n",
      "[645 rows x 7 columns]\n"
     ]
    },
    {
     "name": "stderr",
     "output_type": "stream",
     "text": [
      " 20%|██        | 1/5 [14:49<49:40, 745.10s/it, N=100, linreg=0.986, pcr=0.578, pls=0.578, rho=0.9]"
     ]
    },
    {
     "name": "stdout",
     "output_type": "stream",
     "text": [
      "   train_sample_size    N n_components   rho   model        R2            MSE\n",
      "0               5000  500            5  0.01  linreg  0.999996       1.120479\n",
      "1               5000  500            5  0.01     pcr  0.008567  278123.542607\n",
      "2               5000  500            5  0.01     pls  0.999916      23.445148\n",
      "0               5000  500           50  0.01  linreg  0.999996       1.120479\n",
      "1               5000  500           50  0.01     pcr  0.127465  244769.316087\n",
      "..               ...  ...          ...   ...     ...       ...            ...\n",
      "1                200  100           25  0.90     pcr  0.661364    4618.033497\n",
      "2                200  100           25  0.90     pls  0.999850       2.049136\n",
      "0                200  100           50  0.90  linreg  0.999850       2.048144\n",
      "1                200  100           50  0.90     pcr  0.777125    3039.379121\n",
      "2                200  100           50  0.90     pls  0.999850       2.048144\n",
      "\n",
      "[648 rows x 7 columns]\n"
     ]
    },
    {
     "name": "stderr",
     "output_type": "stream",
     "text": [
      " 20%|██        | 1/5 [14:50<49:40, 745.10s/it, N=100, linreg=0.986, pcr=0.588, pls=0.94, rho=0.9] "
     ]
    },
    {
     "name": "stdout",
     "output_type": "stream",
     "text": [
      "   train_sample_size    N n_components   rho   model        R2            MSE\n",
      "0               5000  500            5  0.01  linreg  0.999996       1.120479\n",
      "1               5000  500            5  0.01     pcr  0.008567  278123.542607\n",
      "2               5000  500            5  0.01     pls  0.999916      23.445148\n",
      "0               5000  500           50  0.01  linreg  0.999996       1.120479\n",
      "1               5000  500           50  0.01     pcr  0.127465  244769.316087\n",
      "..               ...  ...          ...   ...     ...       ...            ...\n",
      "1                200  100           50  0.90     pcr  0.777125    3039.379121\n",
      "2                200  100           50  0.90     pls  0.999850       2.048144\n",
      "0                100  100            1  0.90  linreg  0.985974     191.307149\n",
      "1                100  100            1  0.90     pcr  0.577648    5760.790802\n",
      "2                100  100            1  0.90     pls  0.578278    5752.210897\n",
      "\n",
      "[651 rows x 7 columns]\n"
     ]
    },
    {
     "name": "stderr",
     "output_type": "stream",
     "text": [
      " 20%|██        | 1/5 [14:51<49:40, 745.10s/it, N=100, linreg=0.986, pcr=0.655, pls=0.984, rho=0.9]"
     ]
    },
    {
     "name": "stdout",
     "output_type": "stream",
     "text": [
      "   train_sample_size    N n_components   rho   model        R2            MSE\n",
      "0               5000  500            5  0.01  linreg  0.999996       1.120479\n",
      "1               5000  500            5  0.01     pcr  0.008567  278123.542607\n",
      "2               5000  500            5  0.01     pls  0.999916      23.445148\n",
      "0               5000  500           50  0.01  linreg  0.999996       1.120479\n",
      "1               5000  500           50  0.01     pcr  0.127465  244769.316087\n",
      "..               ...  ...          ...   ...     ...       ...            ...\n",
      "1                100  100            1  0.90     pcr  0.577648    5760.790802\n",
      "2                100  100            1  0.90     pls  0.578278    5752.210897\n",
      "0                100  100           10  0.90  linreg  0.985974     191.307149\n",
      "1                100  100           10  0.90     pcr  0.587616    5624.837766\n",
      "2                100  100           10  0.90     pls  0.940036     817.901898\n",
      "\n",
      "[654 rows x 7 columns]\n"
     ]
    },
    {
     "name": "stderr",
     "output_type": "stream",
     "text": [
      " 20%|██        | 1/5 [14:52<49:40, 745.10s/it, N=100, linreg=0.986, pcr=0.748, pls=0.993, rho=0.9]"
     ]
    },
    {
     "name": "stdout",
     "output_type": "stream",
     "text": [
      "   train_sample_size    N n_components   rho   model        R2            MSE\n",
      "0               5000  500            5  0.01  linreg  0.999996       1.120479\n",
      "1               5000  500            5  0.01     pcr  0.008567  278123.542607\n",
      "2               5000  500            5  0.01     pls  0.999916      23.445148\n",
      "0               5000  500           50  0.01  linreg  0.999996       1.120479\n",
      "1               5000  500           50  0.01     pcr  0.127465  244769.316087\n",
      "..               ...  ...          ...   ...     ...       ...            ...\n",
      "1                100  100           10  0.90     pcr  0.587616    5624.837766\n",
      "2                100  100           10  0.90     pls  0.940036     817.901898\n",
      "0                100  100           25  0.90  linreg  0.985974     191.307149\n",
      "1                100  100           25  0.90     pcr  0.655192    4703.106565\n",
      "2                100  100           25  0.90     pls  0.984067     217.316876\n",
      "\n",
      "[657 rows x 7 columns]\n"
     ]
    },
    {
     "name": "stderr",
     "output_type": "stream",
     "text": [
      " 20%|██        | 1/5 [14:55<49:40, 745.10s/it, N=100, linreg=1, pcr=0.994, pls=0.994, rho=0.99]   "
     ]
    },
    {
     "name": "stdout",
     "output_type": "stream",
     "text": [
      "   train_sample_size    N n_components   rho   model        R2            MSE\n",
      "0               5000  500            5  0.01  linreg  0.999996       1.120479\n",
      "1               5000  500            5  0.01     pcr  0.008567  278123.542607\n",
      "2               5000  500            5  0.01     pls  0.999916      23.445148\n",
      "0               5000  500           50  0.01  linreg  0.999996       1.120479\n",
      "1               5000  500           50  0.01     pcr  0.127465  244769.316087\n",
      "..               ...  ...          ...   ...     ...       ...            ...\n",
      "1                100  100           25  0.90     pcr  0.655192    4703.106565\n",
      "2                100  100           25  0.90     pls  0.984067     217.316876\n",
      "0                100  100           50  0.90  linreg  0.985974     191.307149\n",
      "1                100  100           50  0.90     pcr  0.748269    3433.558333\n",
      "2                100  100           50  0.90     pls  0.992807      98.112772\n",
      "\n",
      "[660 rows x 7 columns]\n"
     ]
    },
    {
     "name": "stderr",
     "output_type": "stream",
     "text": [
      " 20%|██        | 1/5 [14:58<49:40, 745.10s/it, N=100, linreg=1, pcr=0.995, pls=1, rho=0.99]    "
     ]
    },
    {
     "name": "stdout",
     "output_type": "stream",
     "text": [
      "   train_sample_size    N n_components   rho   model        R2            MSE\n",
      "0               5000  500            5  0.01  linreg  0.999996       1.120479\n",
      "1               5000  500            5  0.01     pcr  0.008567  278123.542607\n",
      "2               5000  500            5  0.01     pls  0.999916      23.445148\n",
      "0               5000  500           50  0.01  linreg  0.999996       1.120479\n",
      "1               5000  500           50  0.01     pcr  0.127465  244769.316087\n",
      "..               ...  ...          ...   ...     ...       ...            ...\n",
      "1                100  100           50  0.90     pcr  0.748269    3433.558333\n",
      "2                100  100           50  0.90     pls  0.992807      98.112772\n",
      "0               1000  100            1  0.99  linreg  0.999991       1.109480\n",
      "1               1000  100            1  0.99     pcr  0.994236     736.591396\n",
      "2               1000  100            1  0.99     pls  0.994240     736.170352\n",
      "\n",
      "[663 rows x 7 columns]\n"
     ]
    },
    {
     "name": "stderr",
     "output_type": "stream",
     "text": [
      " 20%|██        | 1/5 [15:02<49:40, 745.10s/it, N=100, linreg=1, pcr=0.996, pls=1, rho=0.99]"
     ]
    },
    {
     "name": "stdout",
     "output_type": "stream",
     "text": [
      "   train_sample_size    N n_components   rho   model        R2            MSE\n",
      "0               5000  500            5  0.01  linreg  0.999996       1.120479\n",
      "1               5000  500            5  0.01     pcr  0.008567  278123.542607\n",
      "2               5000  500            5  0.01     pls  0.999916      23.445148\n",
      "0               5000  500           50  0.01  linreg  0.999996       1.120479\n",
      "1               5000  500           50  0.01     pcr  0.127465  244769.316087\n",
      "..               ...  ...          ...   ...     ...       ...            ...\n",
      "1               1000  100            1  0.99     pcr  0.994236     736.591396\n",
      "2               1000  100            1  0.99     pls  0.994240     736.170352\n",
      "0               1000  100           10  0.99  linreg  0.999991       1.109480\n",
      "1               1000  100           10  0.99     pcr  0.995183     615.602749\n",
      "2               1000  100           10  0.99     pls  0.999991       1.109476\n",
      "\n",
      "[666 rows x 7 columns]\n"
     ]
    },
    {
     "name": "stderr",
     "output_type": "stream",
     "text": [
      " 20%|██        | 1/5 [15:06<49:40, 745.10s/it, N=100, linreg=1, pcr=0.997, pls=1, rho=0.99]"
     ]
    },
    {
     "name": "stdout",
     "output_type": "stream",
     "text": [
      "   train_sample_size    N n_components   rho   model        R2            MSE\n",
      "0               5000  500            5  0.01  linreg  0.999996       1.120479\n",
      "1               5000  500            5  0.01     pcr  0.008567  278123.542607\n",
      "2               5000  500            5  0.01     pls  0.999916      23.445148\n",
      "0               5000  500           50  0.01  linreg  0.999996       1.120479\n",
      "1               5000  500           50  0.01     pcr  0.127465  244769.316087\n",
      "..               ...  ...          ...   ...     ...       ...            ...\n",
      "1               1000  100           10  0.99     pcr  0.995183     615.602749\n",
      "2               1000  100           10  0.99     pls  0.999991       1.109476\n",
      "0               1000  100           25  0.99  linreg  0.999991       1.109480\n",
      "1               1000  100           25  0.99     pcr  0.996182     487.994528\n",
      "2               1000  100           25  0.99     pls  0.999991       1.109480\n",
      "\n",
      "[669 rows x 7 columns]\n"
     ]
    },
    {
     "name": "stderr",
     "output_type": "stream",
     "text": [
      " 20%|██        | 1/5 [15:07<49:40, 745.10s/it, N=100, linreg=1, pcr=0.994, pls=0.994, rho=0.99]"
     ]
    },
    {
     "name": "stdout",
     "output_type": "stream",
     "text": [
      "   train_sample_size    N n_components   rho   model        R2            MSE\n",
      "0               5000  500            5  0.01  linreg  0.999996       1.120479\n",
      "1               5000  500            5  0.01     pcr  0.008567  278123.542607\n",
      "2               5000  500            5  0.01     pls  0.999916      23.445148\n",
      "0               5000  500           50  0.01  linreg  0.999996       1.120479\n",
      "1               5000  500           50  0.01     pcr  0.127465  244769.316087\n",
      "..               ...  ...          ...   ...     ...       ...            ...\n",
      "1               1000  100           25  0.99     pcr  0.996182     487.994528\n",
      "2               1000  100           25  0.99     pls  0.999991       1.109480\n",
      "0               1000  100           50  0.99  linreg  0.999991       1.109480\n",
      "1               1000  100           50  0.99     pcr  0.997232     353.708682\n",
      "2               1000  100           50  0.99     pls  0.999991       1.109480\n",
      "\n",
      "[672 rows x 7 columns]\n"
     ]
    },
    {
     "name": "stderr",
     "output_type": "stream",
     "text": [
      " 20%|██        | 1/5 [15:08<49:40, 745.10s/it, N=100, linreg=1, pcr=0.995, pls=1, rho=0.99]    "
     ]
    },
    {
     "name": "stdout",
     "output_type": "stream",
     "text": [
      "   train_sample_size    N n_components   rho   model        R2            MSE\n",
      "0               5000  500            5  0.01  linreg  0.999996       1.120479\n",
      "1               5000  500            5  0.01     pcr  0.008567  278123.542607\n",
      "2               5000  500            5  0.01     pls  0.999916      23.445148\n",
      "0               5000  500           50  0.01  linreg  0.999996       1.120479\n",
      "1               5000  500           50  0.01     pcr  0.127465  244769.316087\n",
      "..               ...  ...          ...   ...     ...       ...            ...\n",
      "1               1000  100           50  0.99     pcr  0.997232     353.708682\n",
      "2               1000  100           50  0.99     pls  0.999991       1.109480\n",
      "0                500  100            1  0.99  linreg  0.999990       1.309429\n",
      "1                500  100            1  0.99     pcr  0.994222     738.301258\n",
      "2                500  100            1  0.99     pls  0.994226     737.865053\n",
      "\n",
      "[675 rows x 7 columns]\n"
     ]
    },
    {
     "name": "stderr",
     "output_type": "stream",
     "text": [
      " 20%|██        | 1/5 [15:09<49:40, 745.10s/it, N=100, linreg=1, pcr=0.995, pls=1, rho=0.99]"
     ]
    },
    {
     "name": "stdout",
     "output_type": "stream",
     "text": [
      "   train_sample_size    N n_components   rho   model        R2            MSE\n",
      "0               5000  500            5  0.01  linreg  0.999996       1.120479\n",
      "1               5000  500            5  0.01     pcr  0.008567  278123.542607\n",
      "2               5000  500            5  0.01     pls  0.999916      23.445148\n",
      "0               5000  500           50  0.01  linreg  0.999996       1.120479\n",
      "1               5000  500           50  0.01     pcr  0.127465  244769.316087\n",
      "..               ...  ...          ...   ...     ...       ...            ...\n",
      "1                500  100            1  0.99     pcr  0.994222     738.301258\n",
      "2                500  100            1  0.99     pls  0.994226     737.865053\n",
      "0                500  100           10  0.99  linreg  0.999990       1.309429\n",
      "1                500  100           10  0.99     pcr  0.994742     671.892209\n",
      "2                500  100           10  0.99     pls  0.999990       1.309507\n",
      "\n",
      "[678 rows x 7 columns]\n"
     ]
    },
    {
     "name": "stderr",
     "output_type": "stream",
     "text": [
      " 20%|██        | 1/5 [15:10<49:40, 745.10s/it, N=100, linreg=1, pcr=0.997, pls=1, rho=0.99]"
     ]
    },
    {
     "name": "stdout",
     "output_type": "stream",
     "text": [
      "   train_sample_size    N n_components   rho   model        R2            MSE\n",
      "0               5000  500            5  0.01  linreg  0.999996       1.120479\n",
      "1               5000  500            5  0.01     pcr  0.008567  278123.542607\n",
      "2               5000  500            5  0.01     pls  0.999916      23.445148\n",
      "0               5000  500           50  0.01  linreg  0.999996       1.120479\n",
      "1               5000  500           50  0.01     pcr  0.127465  244769.316087\n",
      "..               ...  ...          ...   ...     ...       ...            ...\n",
      "1                500  100           10  0.99     pcr  0.994742     671.892209\n",
      "2                500  100           10  0.99     pls  0.999990       1.309507\n",
      "0                500  100           25  0.99  linreg  0.999990       1.309429\n",
      "1                500  100           25  0.99     pcr  0.995492     576.087211\n",
      "2                500  100           25  0.99     pls  0.999990       1.309429\n",
      "\n",
      "[681 rows x 7 columns]\n"
     ]
    },
    {
     "name": "stderr",
     "output_type": "stream",
     "text": [
      " 20%|██        | 1/5 [15:11<49:40, 745.10s/it, N=100, linreg=1, pcr=0.994, pls=0.994, rho=0.99]"
     ]
    },
    {
     "name": "stdout",
     "output_type": "stream",
     "text": [
      "   train_sample_size    N n_components   rho   model        R2            MSE\n",
      "0               5000  500            5  0.01  linreg  0.999996       1.120479\n",
      "1               5000  500            5  0.01     pcr  0.008567  278123.542607\n",
      "2               5000  500            5  0.01     pls  0.999916      23.445148\n",
      "0               5000  500           50  0.01  linreg  0.999996       1.120479\n",
      "1               5000  500           50  0.01     pcr  0.127465  244769.316087\n",
      "..               ...  ...          ...   ...     ...       ...            ...\n",
      "1                500  100           25  0.99     pcr  0.995492     576.087211\n",
      "2                500  100           25  0.99     pls  0.999990       1.309429\n",
      "0                500  100           50  0.99  linreg  0.999990       1.309429\n",
      "1                500  100           50  0.99     pcr  0.996805     408.307801\n",
      "2                500  100           50  0.99     pls  0.999990       1.309429\n",
      "\n",
      "[684 rows x 7 columns]\n"
     ]
    },
    {
     "name": "stderr",
     "output_type": "stream",
     "text": [
      " 20%|██        | 1/5 [15:12<49:40, 745.10s/it, N=100, linreg=1, pcr=0.995, pls=1, rho=0.99]    "
     ]
    },
    {
     "name": "stdout",
     "output_type": "stream",
     "text": [
      "   train_sample_size    N n_components   rho   model        R2            MSE\n",
      "0               5000  500            5  0.01  linreg  0.999996       1.120479\n",
      "1               5000  500            5  0.01     pcr  0.008567  278123.542607\n",
      "2               5000  500            5  0.01     pls  0.999916      23.445148\n",
      "0               5000  500           50  0.01  linreg  0.999996       1.120479\n",
      "1               5000  500           50  0.01     pcr  0.127465  244769.316087\n",
      "..               ...  ...          ...   ...     ...       ...            ...\n",
      "1                500  100           50  0.99     pcr  0.996805     408.307801\n",
      "2                500  100           50  0.99     pls  0.999990       1.309429\n",
      "0                300  100            1  0.99  linreg  0.999987       1.687602\n",
      "1                300  100            1  0.99     pcr  0.994238     736.226114\n",
      "2                300  100            1  0.99     pls  0.994241     735.859829\n",
      "\n",
      "[687 rows x 7 columns]\n"
     ]
    },
    {
     "name": "stderr",
     "output_type": "stream",
     "text": [
      " 20%|██        | 1/5 [15:13<49:40, 745.10s/it, N=100, linreg=1, pcr=0.995, pls=1, rho=0.99]"
     ]
    },
    {
     "name": "stdout",
     "output_type": "stream",
     "text": [
      "   train_sample_size    N n_components   rho   model        R2            MSE\n",
      "0               5000  500            5  0.01  linreg  0.999996       1.120479\n",
      "1               5000  500            5  0.01     pcr  0.008567  278123.542607\n",
      "2               5000  500            5  0.01     pls  0.999916      23.445148\n",
      "0               5000  500           50  0.01  linreg  0.999996       1.120479\n",
      "1               5000  500           50  0.01     pcr  0.127465  244769.316087\n",
      "..               ...  ...          ...   ...     ...       ...            ...\n",
      "1                300  100            1  0.99     pcr  0.994238     736.226114\n",
      "2                300  100            1  0.99     pls  0.994241     735.859829\n",
      "0                300  100           10  0.99  linreg  0.999987       1.687602\n",
      "1                300  100           10  0.99     pcr  0.994651     683.399250\n",
      "2                300  100           10  0.99     pls  0.999986       1.816687\n",
      "\n",
      "[690 rows x 7 columns]\n"
     ]
    },
    {
     "name": "stderr",
     "output_type": "stream",
     "text": [
      " 20%|██        | 1/5 [15:14<49:40, 745.10s/it, N=100, linreg=1, pcr=0.998, pls=1, rho=0.99]"
     ]
    },
    {
     "name": "stdout",
     "output_type": "stream",
     "text": [
      "   train_sample_size    N n_components   rho   model        R2            MSE\n",
      "0               5000  500            5  0.01  linreg  0.999996       1.120479\n",
      "1               5000  500            5  0.01     pcr  0.008567  278123.542607\n",
      "2               5000  500            5  0.01     pls  0.999916      23.445148\n",
      "0               5000  500           50  0.01  linreg  0.999996       1.120479\n",
      "1               5000  500           50  0.01     pcr  0.127465  244769.316087\n",
      "..               ...  ...          ...   ...     ...       ...            ...\n",
      "1                300  100           10  0.99     pcr  0.994651     683.399250\n",
      "2                300  100           10  0.99     pls  0.999986       1.816687\n",
      "0                300  100           25  0.99  linreg  0.999987       1.687602\n",
      "1                300  100           25  0.99     pcr  0.995386     589.542378\n",
      "2                300  100           25  0.99     pls  0.999987       1.687603\n",
      "\n",
      "[693 rows x 7 columns]\n"
     ]
    },
    {
     "name": "stderr",
     "output_type": "stream",
     "text": [
      " 20%|██        | 1/5 [15:15<49:40, 745.10s/it, N=100, linreg=1, pcr=0.994, pls=0.994, rho=0.99]"
     ]
    },
    {
     "name": "stdout",
     "output_type": "stream",
     "text": [
      "   train_sample_size    N n_components   rho   model        R2            MSE\n",
      "0               5000  500            5  0.01  linreg  0.999996       1.120479\n",
      "1               5000  500            5  0.01     pcr  0.008567  278123.542607\n",
      "2               5000  500            5  0.01     pls  0.999916      23.445148\n",
      "0               5000  500           50  0.01  linreg  0.999996       1.120479\n",
      "1               5000  500           50  0.01     pcr  0.127465  244769.316087\n",
      "..               ...  ...          ...   ...     ...       ...            ...\n",
      "1                300  100           25  0.99     pcr  0.995386     589.542378\n",
      "2                300  100           25  0.99     pls  0.999987       1.687603\n",
      "0                300  100           50  0.99  linreg  0.999987       1.687602\n",
      "1                300  100           50  0.99     pcr  0.997580     309.204541\n",
      "2                300  100           50  0.99     pls  0.999987       1.687602\n",
      "\n",
      "[696 rows x 7 columns]\n"
     ]
    },
    {
     "name": "stderr",
     "output_type": "stream",
     "text": [
      " 20%|██        | 1/5 [15:16<49:40, 745.10s/it, N=100, linreg=1, pcr=0.995, pls=1, rho=0.99]    "
     ]
    },
    {
     "name": "stdout",
     "output_type": "stream",
     "text": [
      "   train_sample_size    N n_components   rho   model        R2            MSE\n",
      "0               5000  500            5  0.01  linreg  0.999996       1.120479\n",
      "1               5000  500            5  0.01     pcr  0.008567  278123.542607\n",
      "2               5000  500            5  0.01     pls  0.999916      23.445148\n",
      "0               5000  500           50  0.01  linreg  0.999996       1.120479\n",
      "1               5000  500           50  0.01     pcr  0.127465  244769.316087\n",
      "..               ...  ...          ...   ...     ...       ...            ...\n",
      "1                300  100           50  0.99     pcr  0.997580     309.204541\n",
      "2                300  100           50  0.99     pls  0.999987       1.687602\n",
      "0                200  100            1  0.99  linreg  0.999985       1.952925\n",
      "1                200  100            1  0.99     pcr  0.994230     737.145105\n",
      "2                200  100            1  0.99     pls  0.994234     736.584526\n",
      "\n",
      "[699 rows x 7 columns]\n"
     ]
    },
    {
     "name": "stderr",
     "output_type": "stream",
     "text": [
      " 20%|██        | 1/5 [15:17<49:40, 745.10s/it, N=100, linreg=1, pcr=0.996, pls=1, rho=0.99]"
     ]
    },
    {
     "name": "stdout",
     "output_type": "stream",
     "text": [
      "   train_sample_size    N n_components   rho   model        R2            MSE\n",
      "0               5000  500            5  0.01  linreg  0.999996       1.120479\n",
      "1               5000  500            5  0.01     pcr  0.008567  278123.542607\n",
      "2               5000  500            5  0.01     pls  0.999916      23.445148\n",
      "0               5000  500           50  0.01  linreg  0.999996       1.120479\n",
      "1               5000  500           50  0.01     pcr  0.127465  244769.316087\n",
      "..               ...  ...          ...   ...     ...       ...            ...\n",
      "1                200  100            1  0.99     pcr  0.994230     737.145105\n",
      "2                200  100            1  0.99     pls  0.994234     736.584526\n",
      "0                200  100           10  0.99  linreg  0.999985       1.952925\n",
      "1                200  100           10  0.99     pcr  0.994727     673.662710\n",
      "2                200  100           10  0.99     pls  0.999979       2.745698\n",
      "\n",
      "[702 rows x 7 columns]\n"
     ]
    },
    {
     "name": "stderr",
     "output_type": "stream",
     "text": [
      " 20%|██        | 1/5 [15:18<49:40, 745.10s/it, N=100, linreg=1, pcr=0.998, pls=1, rho=0.99]"
     ]
    },
    {
     "name": "stdout",
     "output_type": "stream",
     "text": [
      "   train_sample_size    N n_components   rho   model        R2            MSE\n",
      "0               5000  500            5  0.01  linreg  0.999996       1.120479\n",
      "1               5000  500            5  0.01     pcr  0.008567  278123.542607\n",
      "2               5000  500            5  0.01     pls  0.999916      23.445148\n",
      "0               5000  500           50  0.01  linreg  0.999996       1.120479\n",
      "1               5000  500           50  0.01     pcr  0.127465  244769.316087\n",
      "..               ...  ...          ...   ...     ...       ...            ...\n",
      "1                200  100           10  0.99     pcr  0.994727     673.662710\n",
      "2                200  100           10  0.99     pls  0.999979       2.745698\n",
      "0                200  100           25  0.99  linreg  0.999985       1.952925\n",
      "1                200  100           25  0.99     pcr  0.995964     515.582069\n",
      "2                200  100           25  0.99     pls  0.999985       1.953319\n",
      "\n",
      "[705 rows x 7 columns]\n"
     ]
    },
    {
     "name": "stderr",
     "output_type": "stream",
     "text": [
      " 20%|██        | 1/5 [15:19<49:40, 745.10s/it, N=100, linreg=0.999, pcr=0.994, pls=0.994, rho=0.99]"
     ]
    },
    {
     "name": "stdout",
     "output_type": "stream",
     "text": [
      "   train_sample_size    N n_components   rho   model        R2            MSE\n",
      "0               5000  500            5  0.01  linreg  0.999996       1.120479\n",
      "1               5000  500            5  0.01     pcr  0.008567  278123.542607\n",
      "2               5000  500            5  0.01     pls  0.999916      23.445148\n",
      "0               5000  500           50  0.01  linreg  0.999996       1.120479\n",
      "1               5000  500           50  0.01     pcr  0.127465  244769.316087\n",
      "..               ...  ...          ...   ...     ...       ...            ...\n",
      "1                200  100           25  0.99     pcr  0.995964     515.582069\n",
      "2                200  100           25  0.99     pls  0.999985       1.953319\n",
      "0                200  100           50  0.99  linreg  0.999985       1.952925\n",
      "1                200  100           50  0.99     pcr  0.997607     305.743974\n",
      "2                200  100           50  0.99     pls  0.999985       1.952925\n",
      "\n",
      "[708 rows x 7 columns]\n"
     ]
    },
    {
     "name": "stderr",
     "output_type": "stream",
     "text": [
      " 20%|██        | 1/5 [15:20<49:40, 745.10s/it, N=100, linreg=0.999, pcr=0.995, pls=0.999, rho=0.99]"
     ]
    },
    {
     "name": "stdout",
     "output_type": "stream",
     "text": [
      "   train_sample_size    N n_components   rho   model        R2            MSE\n",
      "0               5000  500            5  0.01  linreg  0.999996       1.120479\n",
      "1               5000  500            5  0.01     pcr  0.008567  278123.542607\n",
      "2               5000  500            5  0.01     pls  0.999916      23.445148\n",
      "0               5000  500           50  0.01  linreg  0.999996       1.120479\n",
      "1               5000  500           50  0.01     pcr  0.127465  244769.316087\n",
      "..               ...  ...          ...   ...     ...       ...            ...\n",
      "1                200  100           50  0.99     pcr  0.997607     305.743974\n",
      "2                200  100           50  0.99     pls  0.999985       1.952925\n",
      "0                100  100            1  0.99  linreg  0.998769     157.309348\n",
      "1                100  100            1  0.99     pcr  0.994145     747.882301\n",
      "2                100  100            1  0.99     pls  0.994143     748.186095\n",
      "\n",
      "[711 rows x 7 columns]\n"
     ]
    },
    {
     "name": "stderr",
     "output_type": "stream",
     "text": [
      " 20%|██        | 1/5 [15:21<49:40, 745.10s/it, N=100, linreg=0.999, pcr=0.996, pls=0.999, rho=0.99]"
     ]
    },
    {
     "name": "stdout",
     "output_type": "stream",
     "text": [
      "   train_sample_size    N n_components   rho   model        R2            MSE\n",
      "0               5000  500            5  0.01  linreg  0.999996       1.120479\n",
      "1               5000  500            5  0.01     pcr  0.008567  278123.542607\n",
      "2               5000  500            5  0.01     pls  0.999916      23.445148\n",
      "0               5000  500           50  0.01  linreg  0.999996       1.120479\n",
      "1               5000  500           50  0.01     pcr  0.127465  244769.316087\n",
      "..               ...  ...          ...   ...     ...       ...            ...\n",
      "1                100  100            1  0.99     pcr  0.994145     747.882301\n",
      "2                100  100            1  0.99     pls  0.994143     748.186095\n",
      "0                100  100           10  0.99  linreg  0.998769     157.309348\n",
      "1                100  100           10  0.99     pcr  0.994764     668.800457\n",
      "2                100  100           10  0.99     pls  0.998964     132.318986\n",
      "\n",
      "[714 rows x 7 columns]\n"
     ]
    },
    {
     "name": "stderr",
     "output_type": "stream",
     "text": [
      " 40%|████      | 2/5 [15:22<20:32, 410.93s/it, N=100, linreg=0.999, pcr=0.998, pls=1, rho=0.99]    "
     ]
    },
    {
     "name": "stdout",
     "output_type": "stream",
     "text": [
      "   train_sample_size    N n_components   rho   model        R2            MSE\n",
      "0               5000  500            5  0.01  linreg  0.999996       1.120479\n",
      "1               5000  500            5  0.01     pcr  0.008567  278123.542607\n",
      "2               5000  500            5  0.01     pls  0.999916      23.445148\n",
      "0               5000  500           50  0.01  linreg  0.999996       1.120479\n",
      "1               5000  500           50  0.01     pcr  0.127465  244769.316087\n",
      "..               ...  ...          ...   ...     ...       ...            ...\n",
      "1                100  100           10  0.99     pcr  0.994764     668.800457\n",
      "2                100  100           10  0.99     pls  0.998964     132.318986\n",
      "0                100  100           25  0.99  linreg  0.998769     157.309348\n",
      "1                100  100           25  0.99     pcr  0.995704     548.752792\n",
      "2                100  100           25  0.99     pls  0.999498      64.064393\n",
      "\n",
      "[717 rows x 7 columns]\n"
     ]
    },
    {
     "name": "stderr",
     "output_type": "stream",
     "text": [
      " 40%|████      | 2/5 [15:23<20:32, 410.93s/it, N=50, linreg=1, pcr=0.0519, pls=1, rho=0.01]    "
     ]
    },
    {
     "name": "stdout",
     "output_type": "stream",
     "text": [
      "   train_sample_size    N n_components   rho   model        R2            MSE\n",
      "0               5000  500            5  0.01  linreg  0.999996       1.120479\n",
      "1               5000  500            5  0.01     pcr  0.008567  278123.542607\n",
      "2               5000  500            5  0.01     pls  0.999916      23.445148\n",
      "0               5000  500           50  0.01  linreg  0.999996       1.120479\n",
      "1               5000  500           50  0.01     pcr  0.127465  244769.316087\n",
      "..               ...  ...          ...   ...     ...       ...            ...\n",
      "1                100  100           25  0.99     pcr  0.995704     548.752792\n",
      "2                100  100           25  0.99     pls  0.999498      64.064393\n",
      "0                100  100           50  0.99  linreg  0.998769     157.309348\n",
      "1                100  100           50  0.99     pcr  0.997501     319.174761\n",
      "2                100  100           50  0.99     pls  0.999743      32.881716\n",
      "\n",
      "[720 rows x 7 columns]\n"
     ]
    },
    {
     "name": "stderr",
     "output_type": "stream",
     "text": [
      " 40%|████      | 2/5 [15:24<20:32, 410.93s/it, N=50, linreg=1, pcr=0.199, pls=1, rho=0.01] "
     ]
    },
    {
     "name": "stdout",
     "output_type": "stream",
     "text": [
      "   train_sample_size    N n_components   rho   model        R2            MSE\n",
      "0               5000  500            5  0.01  linreg  0.999996       1.120479\n",
      "1               5000  500            5  0.01     pcr  0.008567  278123.542607\n",
      "2               5000  500            5  0.01     pls  0.999916      23.445148\n",
      "0               5000  500           50  0.01  linreg  0.999996       1.120479\n",
      "1               5000  500           50  0.01     pcr  0.127465  244769.316087\n",
      "..               ...  ...          ...   ...     ...       ...            ...\n",
      "1                100  100           50  0.99     pcr  0.997501     319.174761\n",
      "2                100  100           50  0.99     pls  0.999743      32.881716\n",
      "0                500   50            5  0.01  linreg  0.999957       1.145764\n",
      "1                500   50            5  0.01     pcr  0.051917   25258.762965\n",
      "2                500   50            5  0.01     pls  0.999947       1.418837\n",
      "\n",
      "[723 rows x 7 columns]\n"
     ]
    },
    {
     "name": "stderr",
     "output_type": "stream",
     "text": [
      " 40%|████      | 2/5 [15:25<20:32, 410.93s/it, N=50, linreg=1, pcr=0.513, pls=1, rho=0.01]"
     ]
    },
    {
     "name": "stdout",
     "output_type": "stream",
     "text": [
      "   train_sample_size    N n_components   rho   model        R2            MSE\n",
      "0               5000  500            5  0.01  linreg  0.999996       1.120479\n",
      "1               5000  500            5  0.01     pcr  0.008567  278123.542607\n",
      "2               5000  500            5  0.01     pls  0.999916      23.445148\n",
      "0               5000  500           50  0.01  linreg  0.999996       1.120479\n",
      "1               5000  500           50  0.01     pcr  0.127465  244769.316087\n",
      "..               ...  ...          ...   ...     ...       ...            ...\n",
      "1                500   50            5  0.01     pcr  0.051917   25258.762965\n",
      "2                500   50            5  0.01     pls  0.999947       1.418837\n",
      "0                500   50           12  0.01  linreg  0.999957       1.145764\n",
      "1                500   50           12  0.01     pcr  0.198561   21351.882001\n",
      "2                500   50           12  0.01     pls  0.999957       1.145778\n",
      "\n",
      "[726 rows x 7 columns]\n"
     ]
    },
    {
     "name": "stderr",
     "output_type": "stream",
     "text": [
      " 40%|████      | 2/5 [15:26<20:32, 410.93s/it, N=50, linreg=1, pcr=0.0188, pls=1, rho=0.01]"
     ]
    },
    {
     "name": "stdout",
     "output_type": "stream",
     "text": [
      "   train_sample_size    N n_components   rho   model        R2            MSE\n",
      "0               5000  500            5  0.01  linreg  0.999996       1.120479\n",
      "1               5000  500            5  0.01     pcr  0.008567  278123.542607\n",
      "2               5000  500            5  0.01     pls  0.999916      23.445148\n",
      "0               5000  500           50  0.01  linreg  0.999996       1.120479\n",
      "1               5000  500           50  0.01     pcr  0.127465  244769.316087\n",
      "..               ...  ...          ...   ...     ...       ...            ...\n",
      "1                500   50           12  0.01     pcr  0.198561   21351.882001\n",
      "2                500   50           12  0.01     pls  0.999957       1.145778\n",
      "0                500   50           25  0.01  linreg  0.999957       1.145764\n",
      "1                500   50           25  0.01     pcr  0.513371   12964.731650\n",
      "2                500   50           25  0.01     pls  0.999957       1.145764\n",
      "\n",
      "[729 rows x 7 columns]\n"
     ]
    },
    {
     "name": "stderr",
     "output_type": "stream",
     "text": [
      " 40%|████      | 2/5 [15:27<20:32, 410.93s/it, N=50, linreg=1, pcr=0.164, pls=1, rho=0.01] "
     ]
    },
    {
     "name": "stdout",
     "output_type": "stream",
     "text": [
      "   train_sample_size    N n_components   rho   model        R2            MSE\n",
      "0               5000  500            5  0.01  linreg  0.999996       1.120479\n",
      "1               5000  500            5  0.01     pcr  0.008567  278123.542607\n",
      "2               5000  500            5  0.01     pls  0.999916      23.445148\n",
      "0               5000  500           50  0.01  linreg  0.999996       1.120479\n",
      "1               5000  500           50  0.01     pcr  0.127465  244769.316087\n",
      "..               ...  ...          ...   ...     ...       ...            ...\n",
      "1                500   50           25  0.01     pcr  0.513371   12964.731650\n",
      "2                500   50           25  0.01     pls  0.999957       1.145764\n",
      "0                250   50            5  0.01  linreg  0.999953       1.245484\n",
      "1                250   50            5  0.01     pcr  0.018838   26145.978421\n",
      "2                250   50            5  0.01     pls  0.999771       6.103729\n",
      "\n",
      "[732 rows x 7 columns]\n"
     ]
    },
    {
     "name": "stderr",
     "output_type": "stream",
     "text": [
      " 40%|████      | 2/5 [15:27<20:32, 410.93s/it, N=50, linreg=1, pcr=0.366, pls=1, rho=0.01]"
     ]
    },
    {
     "name": "stdout",
     "output_type": "stream",
     "text": [
      "   train_sample_size    N n_components   rho   model        R2            MSE\n",
      "0               5000  500            5  0.01  linreg  0.999996       1.120479\n",
      "1               5000  500            5  0.01     pcr  0.008567  278123.542607\n",
      "2               5000  500            5  0.01     pls  0.999916      23.445148\n",
      "0               5000  500           50  0.01  linreg  0.999996       1.120479\n",
      "1               5000  500           50  0.01     pcr  0.127465  244769.316087\n",
      "..               ...  ...          ...   ...     ...       ...            ...\n",
      "1                250   50            5  0.01     pcr  0.018838   26145.978421\n",
      "2                250   50            5  0.01     pls  0.999771       6.103729\n",
      "0                250   50           12  0.01  linreg  0.999953       1.245484\n",
      "1                250   50           12  0.01     pcr  0.164300   22269.694371\n",
      "2                250   50           12  0.01     pls  0.999953       1.245886\n",
      "\n",
      "[735 rows x 7 columns]\n"
     ]
    },
    {
     "name": "stderr",
     "output_type": "stream",
     "text": [
      " 40%|████      | 2/5 [15:28<20:32, 410.93s/it, N=50, linreg=1, pcr=0.0273, pls=0.999, rho=0.01]"
     ]
    },
    {
     "name": "stdout",
     "output_type": "stream",
     "text": [
      "   train_sample_size    N n_components   rho   model        R2            MSE\n",
      "0               5000  500            5  0.01  linreg  0.999996       1.120479\n",
      "1               5000  500            5  0.01     pcr  0.008567  278123.542607\n",
      "2               5000  500            5  0.01     pls  0.999916      23.445148\n",
      "0               5000  500           50  0.01  linreg  0.999996       1.120479\n",
      "1               5000  500           50  0.01     pcr  0.127465  244769.316087\n",
      "..               ...  ...          ...   ...     ...       ...            ...\n",
      "1                250   50           12  0.01     pcr  0.164300   22269.694371\n",
      "2                250   50           12  0.01     pls  0.999953       1.245886\n",
      "0                250   50           25  0.01  linreg  0.999953       1.245484\n",
      "1                250   50           25  0.01     pcr  0.366434   16883.237589\n",
      "2                250   50           25  0.01     pls  0.999953       1.245484\n",
      "\n",
      "[738 rows x 7 columns]\n"
     ]
    },
    {
     "name": "stderr",
     "output_type": "stream",
     "text": [
      " 40%|████      | 2/5 [15:28<20:32, 410.93s/it, N=50, linreg=1, pcr=0.146, pls=1, rho=0.01]     "
     ]
    },
    {
     "name": "stdout",
     "output_type": "stream",
     "text": [
      "   train_sample_size    N n_components   rho   model        R2            MSE\n",
      "0               5000  500            5  0.01  linreg  0.999996       1.120479\n",
      "1               5000  500            5  0.01     pcr  0.008567  278123.542607\n",
      "2               5000  500            5  0.01     pls  0.999916      23.445148\n",
      "0               5000  500           50  0.01  linreg  0.999996       1.120479\n",
      "1               5000  500           50  0.01     pcr  0.127465  244769.316087\n",
      "..               ...  ...          ...   ...     ...       ...            ...\n",
      "1                250   50           25  0.01     pcr  0.366434   16883.237589\n",
      "2                250   50           25  0.01     pls  0.999953       1.245484\n",
      "0                150   50            5  0.01  linreg  0.999951       1.316074\n",
      "1                150   50            5  0.01     pcr  0.027328   25918.406547\n",
      "2                150   50            5  0.01     pls  0.998545      38.768444\n",
      "\n",
      "[741 rows x 7 columns]\n"
     ]
    },
    {
     "name": "stderr",
     "output_type": "stream",
     "text": [
      " 40%|████      | 2/5 [15:29<20:32, 410.93s/it, N=50, linreg=1, pcr=0.422, pls=1, rho=0.01]"
     ]
    },
    {
     "name": "stdout",
     "output_type": "stream",
     "text": [
      "   train_sample_size    N n_components   rho   model        R2            MSE\n",
      "0               5000  500            5  0.01  linreg  0.999996       1.120479\n",
      "1               5000  500            5  0.01     pcr  0.008567  278123.542607\n",
      "2               5000  500            5  0.01     pls  0.999916      23.445148\n",
      "0               5000  500           50  0.01  linreg  0.999996       1.120479\n",
      "1               5000  500           50  0.01     pcr  0.127465  244769.316087\n",
      "..               ...  ...          ...   ...     ...       ...            ...\n",
      "1                150   50            5  0.01     pcr  0.027328   25918.406547\n",
      "2                150   50            5  0.01     pls  0.998545      38.768444\n",
      "0                150   50           12  0.01  linreg  0.999951       1.316074\n",
      "1                150   50           12  0.01     pcr  0.145584   22767.275257\n",
      "2                150   50           12  0.01     pls  0.999950       1.333957\n",
      "\n",
      "[744 rows x 7 columns]\n"
     ]
    },
    {
     "name": "stderr",
     "output_type": "stream",
     "text": [
      " 40%|████      | 2/5 [15:29<20:32, 410.93s/it, N=50, linreg=1, pcr=0.0376, pls=0.972, rho=0.01]"
     ]
    },
    {
     "name": "stdout",
     "output_type": "stream",
     "text": [
      "   train_sample_size    N n_components   rho   model        R2            MSE\n",
      "0               5000  500            5  0.01  linreg  0.999996       1.120479\n",
      "1               5000  500            5  0.01     pcr  0.008567  278123.542607\n",
      "2               5000  500            5  0.01     pls  0.999916      23.445148\n",
      "0               5000  500           50  0.01  linreg  0.999996       1.120479\n",
      "1               5000  500           50  0.01     pcr  0.127465  244769.316087\n",
      "..               ...  ...          ...   ...     ...       ...            ...\n",
      "1                150   50           12  0.01     pcr  0.145584   22767.275257\n",
      "2                150   50           12  0.01     pls  0.999950       1.333957\n",
      "0                150   50           25  0.01  linreg  0.999951       1.316074\n",
      "1                150   50           25  0.01     pcr  0.421861   15405.445303\n",
      "2                150   50           25  0.01     pls  0.999951       1.316073\n",
      "\n",
      "[747 rows x 7 columns]\n"
     ]
    },
    {
     "name": "stderr",
     "output_type": "stream",
     "text": [
      " 40%|████      | 2/5 [15:30<20:32, 410.93s/it, N=50, linreg=1, pcr=0.133, pls=1, rho=0.01]     "
     ]
    },
    {
     "name": "stdout",
     "output_type": "stream",
     "text": [
      "   train_sample_size    N n_components   rho   model        R2            MSE\n",
      "0               5000  500            5  0.01  linreg  0.999996       1.120479\n",
      "1               5000  500            5  0.01     pcr  0.008567  278123.542607\n",
      "2               5000  500            5  0.01     pls  0.999916      23.445148\n",
      "0               5000  500           50  0.01  linreg  0.999996       1.120479\n",
      "1               5000  500           50  0.01     pcr  0.127465  244769.316087\n",
      "..               ...  ...          ...   ...     ...       ...            ...\n",
      "1                150   50           25  0.01     pcr  0.421861   15405.445303\n",
      "2                150   50           25  0.01     pls  0.999951       1.316073\n",
      "0                100   50            5  0.01  linreg  0.999926       1.967214\n",
      "1                100   50            5  0.01     pcr  0.037592   25643.924094\n",
      "2                100   50            5  0.01     pls  0.971743     752.933848\n",
      "\n",
      "[750 rows x 7 columns]\n"
     ]
    },
    {
     "name": "stderr",
     "output_type": "stream",
     "text": [
      " 40%|████      | 2/5 [15:30<20:32, 410.93s/it, N=50, linreg=1, pcr=0.448, pls=1, rho=0.01]"
     ]
    },
    {
     "name": "stdout",
     "output_type": "stream",
     "text": [
      "   train_sample_size    N n_components   rho   model        R2            MSE\n",
      "0               5000  500            5  0.01  linreg  0.999996       1.120479\n",
      "1               5000  500            5  0.01     pcr  0.008567  278123.542607\n",
      "2               5000  500            5  0.01     pls  0.999916      23.445148\n",
      "0               5000  500           50  0.01  linreg  0.999996       1.120479\n",
      "1               5000  500           50  0.01     pcr  0.127465  244769.316087\n",
      "..               ...  ...          ...   ...     ...       ...            ...\n",
      "1                100   50            5  0.01     pcr  0.037592   25643.924094\n",
      "2                100   50            5  0.01     pls  0.971743     752.933848\n",
      "0                100   50           12  0.01  linreg  0.999926       1.967214\n",
      "1                100   50           12  0.01     pcr  0.132885   23104.773112\n",
      "2                100   50           12  0.01     pls  0.999811       5.041603\n",
      "\n",
      "[753 rows x 7 columns]\n"
     ]
    },
    {
     "name": "stderr",
     "output_type": "stream",
     "text": [
      " 40%|████      | 2/5 [15:31<20:32, 410.93s/it, N=50, linreg=0.992, pcr=0.045, pls=0.758, rho=0.01]"
     ]
    },
    {
     "name": "stdout",
     "output_type": "stream",
     "text": [
      "   train_sample_size    N n_components   rho   model        R2            MSE\n",
      "0               5000  500            5  0.01  linreg  0.999996       1.120479\n",
      "1               5000  500            5  0.01     pcr  0.008567  278123.542607\n",
      "2               5000  500            5  0.01     pls  0.999916      23.445148\n",
      "0               5000  500           50  0.01  linreg  0.999996       1.120479\n",
      "1               5000  500           50  0.01     pcr  0.127465  244769.316087\n",
      "..               ...  ...          ...   ...     ...       ...            ...\n",
      "1                100   50           12  0.01     pcr  0.132885   23104.773112\n",
      "2                100   50           12  0.01     pls  0.999811       5.041603\n",
      "0                100   50           25  0.01  linreg  0.999926       1.967214\n",
      "1                100   50           25  0.01     pcr  0.447893   14711.193543\n",
      "2                100   50           25  0.01     pls  0.999926       1.965717\n",
      "\n",
      "[756 rows x 7 columns]\n"
     ]
    },
    {
     "name": "stderr",
     "output_type": "stream",
     "text": [
      " 40%|████      | 2/5 [15:31<20:32, 410.93s/it, N=50, linreg=0.992, pcr=0.172, pls=0.882, rho=0.01]"
     ]
    },
    {
     "name": "stdout",
     "output_type": "stream",
     "text": [
      "   train_sample_size    N n_components   rho   model        R2            MSE\n",
      "0               5000  500            5  0.01  linreg  0.999996       1.120479\n",
      "1               5000  500            5  0.01     pcr  0.008567  278123.542607\n",
      "2               5000  500            5  0.01     pls  0.999916      23.445148\n",
      "0               5000  500           50  0.01  linreg  0.999996       1.120479\n",
      "1               5000  500           50  0.01     pcr  0.127465  244769.316087\n",
      "..               ...  ...          ...   ...     ...       ...            ...\n",
      "1                100   50           25  0.01     pcr  0.447893   14711.193543\n",
      "2                100   50           25  0.01     pls  0.999926       1.965717\n",
      "0                 50   50            5  0.01  linreg  0.992274     205.834504\n",
      "1                 50   50            5  0.01     pcr  0.044977   25444.795843\n",
      "2                 50   50            5  0.01     pls  0.757724    6454.996825\n",
      "\n",
      "[759 rows x 7 columns]\n"
     ]
    },
    {
     "name": "stderr",
     "output_type": "stream",
     "text": [
      " 40%|████      | 2/5 [15:32<20:32, 410.93s/it, N=50, linreg=0.992, pcr=0.404, pls=0.934, rho=0.01]"
     ]
    },
    {
     "name": "stdout",
     "output_type": "stream",
     "text": [
      "   train_sample_size    N n_components   rho   model        R2            MSE\n",
      "0               5000  500            5  0.01  linreg  0.999996       1.120479\n",
      "1               5000  500            5  0.01     pcr  0.008567  278123.542607\n",
      "2               5000  500            5  0.01     pls  0.999916      23.445148\n",
      "0               5000  500           50  0.01  linreg  0.999996       1.120479\n",
      "1               5000  500           50  0.01     pcr  0.127465  244769.316087\n",
      "..               ...  ...          ...   ...     ...       ...            ...\n",
      "1                 50   50            5  0.01     pcr  0.044977   25444.795843\n",
      "2                 50   50            5  0.01     pls  0.757724    6454.996825\n",
      "0                 50   50           12  0.01  linreg  0.992274     205.834504\n",
      "1                 50   50           12  0.01     pcr  0.172466   22048.096062\n",
      "2                 50   50           12  0.01     pls  0.881829    3148.449614\n",
      "\n",
      "[762 rows x 7 columns]\n"
     ]
    },
    {
     "name": "stderr",
     "output_type": "stream",
     "text": [
      " 40%|████      | 2/5 [15:33<20:32, 410.93s/it, N=50, linreg=1, pcr=0.407, pls=1, rho=0.1]         "
     ]
    },
    {
     "name": "stdout",
     "output_type": "stream",
     "text": [
      "   train_sample_size    N n_components   rho   model        R2            MSE\n",
      "0               5000  500            5  0.01  linreg  0.999996       1.120479\n",
      "1               5000  500            5  0.01     pcr  0.008567  278123.542607\n",
      "2               5000  500            5  0.01     pls  0.999916      23.445148\n",
      "0               5000  500           50  0.01  linreg  0.999996       1.120479\n",
      "1               5000  500           50  0.01     pcr  0.127465  244769.316087\n",
      "..               ...  ...          ...   ...     ...       ...            ...\n",
      "1                 50   50           12  0.01     pcr  0.172466   22048.096062\n",
      "2                 50   50           12  0.01     pls  0.881829    3148.449614\n",
      "0                 50   50           25  0.01  linreg  0.992274     205.834504\n",
      "1                 50   50           25  0.01     pcr  0.404127   15875.921703\n",
      "2                 50   50           25  0.01     pls  0.933545    1770.559045\n",
      "\n",
      "[765 rows x 7 columns]\n"
     ]
    },
    {
     "name": "stderr",
     "output_type": "stream",
     "text": [
      " 40%|████      | 2/5 [15:34<20:32, 410.93s/it, N=50, linreg=1, pcr=0.51, pls=1, rho=0.1] "
     ]
    },
    {
     "name": "stdout",
     "output_type": "stream",
     "text": [
      "   train_sample_size    N n_components   rho   model        R2            MSE\n",
      "0               5000  500            5  0.01  linreg  0.999996       1.120479\n",
      "1               5000  500            5  0.01     pcr  0.008567  278123.542607\n",
      "2               5000  500            5  0.01     pls  0.999916      23.445148\n",
      "0               5000  500           50  0.01  linreg  0.999996       1.120479\n",
      "1               5000  500           50  0.01     pcr  0.127465  244769.316087\n",
      "..               ...  ...          ...   ...     ...       ...            ...\n",
      "1                 50   50           25  0.01     pcr  0.404127   15875.921703\n",
      "2                 50   50           25  0.01     pls  0.933545    1770.559045\n",
      "0                500   50            5  0.10  linreg  0.999978       1.116561\n",
      "1                500   50            5  0.10     pcr  0.407415   30258.508872\n",
      "2                500   50            5  0.10     pls  0.999963       1.887242\n",
      "\n",
      "[768 rows x 7 columns]\n"
     ]
    },
    {
     "name": "stderr",
     "output_type": "stream",
     "text": [
      " 40%|████      | 2/5 [15:34<20:32, 410.93s/it, N=50, linreg=1, pcr=0.663, pls=1, rho=0.1]"
     ]
    },
    {
     "name": "stdout",
     "output_type": "stream",
     "text": [
      "   train_sample_size    N n_components   rho   model        R2            MSE\n",
      "0               5000  500            5  0.01  linreg  0.999996       1.120479\n",
      "1               5000  500            5  0.01     pcr  0.008567  278123.542607\n",
      "2               5000  500            5  0.01     pls  0.999916      23.445148\n",
      "0               5000  500           50  0.01  linreg  0.999996       1.120479\n",
      "1               5000  500           50  0.01     pcr  0.127465  244769.316087\n",
      "..               ...  ...          ...   ...     ...       ...            ...\n",
      "1                500   50            5  0.10     pcr  0.407415   30258.508872\n",
      "2                500   50            5  0.10     pls  0.999963       1.887242\n",
      "0                500   50           12  0.10  linreg  0.999978       1.116561\n",
      "1                500   50           12  0.10     pcr  0.510307   25004.685858\n",
      "2                500   50           12  0.10     pls  0.999978       1.116565\n",
      "\n",
      "[771 rows x 7 columns]\n"
     ]
    },
    {
     "name": "stderr",
     "output_type": "stream",
     "text": [
      " 40%|████      | 2/5 [15:35<20:32, 410.93s/it, N=50, linreg=1, pcr=0.437, pls=1, rho=0.1]"
     ]
    },
    {
     "name": "stdout",
     "output_type": "stream",
     "text": [
      "   train_sample_size    N n_components   rho   model        R2            MSE\n",
      "0               5000  500            5  0.01  linreg  0.999996       1.120479\n",
      "1               5000  500            5  0.01     pcr  0.008567  278123.542607\n",
      "2               5000  500            5  0.01     pls  0.999916      23.445148\n",
      "0               5000  500           50  0.01  linreg  0.999996       1.120479\n",
      "1               5000  500           50  0.01     pcr  0.127465  244769.316087\n",
      "..               ...  ...          ...   ...     ...       ...            ...\n",
      "1                500   50           12  0.10     pcr  0.510307   25004.685858\n",
      "2                500   50           12  0.10     pls  0.999978       1.116565\n",
      "0                500   50           25  0.10  linreg  0.999978       1.116561\n",
      "1                500   50           25  0.10     pcr  0.662746   17220.849422\n",
      "2                500   50           25  0.10     pls  0.999978       1.116561\n",
      "\n",
      "[774 rows x 7 columns]\n"
     ]
    },
    {
     "name": "stderr",
     "output_type": "stream",
     "text": [
      " 40%|████      | 2/5 [15:36<20:32, 410.93s/it, N=50, linreg=1, pcr=0.514, pls=1, rho=0.1]"
     ]
    },
    {
     "name": "stdout",
     "output_type": "stream",
     "text": [
      "   train_sample_size    N n_components   rho   model        R2            MSE\n",
      "0               5000  500            5  0.01  linreg  0.999996       1.120479\n",
      "1               5000  500            5  0.01     pcr  0.008567  278123.542607\n",
      "2               5000  500            5  0.01     pls  0.999916      23.445148\n",
      "0               5000  500           50  0.01  linreg  0.999996       1.120479\n",
      "1               5000  500           50  0.01     pcr  0.127465  244769.316087\n",
      "..               ...  ...          ...   ...     ...       ...            ...\n",
      "1                500   50           25  0.10     pcr  0.662746   17220.849422\n",
      "2                500   50           25  0.10     pls  0.999978       1.116561\n",
      "0                250   50            5  0.10  linreg  0.999976       1.213859\n",
      "1                250   50            5  0.10     pcr  0.437304   28726.805271\n",
      "2                250   50            5  0.10     pls  0.999544      23.264791\n",
      "\n",
      "[777 rows x 7 columns]\n"
     ]
    },
    {
     "name": "stderr",
     "output_type": "stream",
     "text": [
      " 40%|████      | 2/5 [15:37<20:32, 410.93s/it, N=50, linreg=1, pcr=0.697, pls=1, rho=0.1]"
     ]
    },
    {
     "name": "stdout",
     "output_type": "stream",
     "text": [
      "   train_sample_size    N n_components   rho   model        R2            MSE\n",
      "0               5000  500            5  0.01  linreg  0.999996       1.120479\n",
      "1               5000  500            5  0.01     pcr  0.008567  278123.542607\n",
      "2               5000  500            5  0.01     pls  0.999916      23.445148\n",
      "0               5000  500           50  0.01  linreg  0.999996       1.120479\n",
      "1               5000  500           50  0.01     pcr  0.127465  244769.316087\n",
      "..               ...  ...          ...   ...     ...       ...            ...\n",
      "1                250   50            5  0.10     pcr  0.437304   28726.805271\n",
      "2                250   50            5  0.10     pls  0.999544      23.264791\n",
      "0                250   50           12  0.10  linreg  0.999976       1.213859\n",
      "1                250   50           12  0.10     pcr  0.513908   24816.012078\n",
      "2                250   50           12  0.10     pls  0.999976       1.213039\n",
      "\n",
      "[780 rows x 7 columns]\n"
     ]
    },
    {
     "name": "stderr",
     "output_type": "stream",
     "text": [
      " 40%|████      | 2/5 [15:37<20:32, 410.93s/it, N=50, linreg=1, pcr=0.465, pls=0.996, rho=0.1]"
     ]
    },
    {
     "name": "stdout",
     "output_type": "stream",
     "text": [
      "   train_sample_size    N n_components   rho   model        R2            MSE\n",
      "0               5000  500            5  0.01  linreg  0.999996       1.120479\n",
      "1               5000  500            5  0.01     pcr  0.008567  278123.542607\n",
      "2               5000  500            5  0.01     pls  0.999916      23.445148\n",
      "0               5000  500           50  0.01  linreg  0.999996       1.120479\n",
      "1               5000  500           50  0.01     pcr  0.127465  244769.316087\n",
      "..               ...  ...          ...   ...     ...       ...            ...\n",
      "1                250   50           12  0.10     pcr  0.513908   24816.012078\n",
      "2                250   50           12  0.10     pls  0.999976       1.213039\n",
      "0                250   50           25  0.10  linreg  0.999976       1.213859\n",
      "1                250   50           25  0.10     pcr  0.696526   15492.960950\n",
      "2                250   50           25  0.10     pls  0.999976       1.213859\n",
      "\n",
      "[783 rows x 7 columns]\n"
     ]
    },
    {
     "name": "stderr",
     "output_type": "stream",
     "text": [
      " 40%|████      | 2/5 [15:38<20:32, 410.93s/it, N=50, linreg=1, pcr=0.582, pls=1, rho=0.1]    "
     ]
    },
    {
     "name": "stdout",
     "output_type": "stream",
     "text": [
      "   train_sample_size    N n_components   rho   model        R2            MSE\n",
      "0               5000  500            5  0.01  linreg  0.999996       1.120479\n",
      "1               5000  500            5  0.01     pcr  0.008567  278123.542607\n",
      "2               5000  500            5  0.01     pls  0.999916      23.445148\n",
      "0               5000  500           50  0.01  linreg  0.999996       1.120479\n",
      "1               5000  500           50  0.01     pcr  0.127465  244769.316087\n",
      "..               ...  ...          ...   ...     ...       ...            ...\n",
      "1                250   50           25  0.10     pcr  0.696526   15492.960950\n",
      "2                250   50           25  0.10     pls  0.999976       1.213859\n",
      "0                150   50            5  0.10  linreg  0.999973       1.402461\n",
      "1                150   50            5  0.10     pcr  0.464518   27336.749435\n",
      "2                150   50            5  0.10     pls  0.996449     181.280049\n",
      "\n",
      "[786 rows x 7 columns]\n"
     ]
    },
    {
     "name": "stderr",
     "output_type": "stream",
     "text": [
      " 40%|████      | 2/5 [15:38<20:32, 410.93s/it, N=50, linreg=1, pcr=0.682, pls=1, rho=0.1]"
     ]
    },
    {
     "name": "stdout",
     "output_type": "stream",
     "text": [
      "   train_sample_size    N n_components   rho   model        R2            MSE\n",
      "0               5000  500            5  0.01  linreg  0.999996       1.120479\n",
      "1               5000  500            5  0.01     pcr  0.008567  278123.542607\n",
      "2               5000  500            5  0.01     pls  0.999916      23.445148\n",
      "0               5000  500           50  0.01  linreg  0.999996       1.120479\n",
      "1               5000  500           50  0.01     pcr  0.127465  244769.316087\n",
      "..               ...  ...          ...   ...     ...       ...            ...\n",
      "1                150   50            5  0.10     pcr  0.464518   27336.749435\n",
      "2                150   50            5  0.10     pls  0.996449     181.280049\n",
      "0                150   50           12  0.10  linreg  0.999973       1.402461\n",
      "1                150   50           12  0.10     pcr  0.582371   21320.282745\n",
      "2                150   50           12  0.10     pls  0.999970       1.523052\n",
      "\n",
      "[789 rows x 7 columns]\n"
     ]
    },
    {
     "name": "stderr",
     "output_type": "stream",
     "text": [
      " 40%|████      | 2/5 [15:39<20:32, 410.93s/it, N=50, linreg=1, pcr=0.411, pls=0.986, rho=0.1]"
     ]
    },
    {
     "name": "stdout",
     "output_type": "stream",
     "text": [
      "   train_sample_size    N n_components   rho   model        R2            MSE\n",
      "0               5000  500            5  0.01  linreg  0.999996       1.120479\n",
      "1               5000  500            5  0.01     pcr  0.008567  278123.542607\n",
      "2               5000  500            5  0.01     pls  0.999916      23.445148\n",
      "0               5000  500           50  0.01  linreg  0.999996       1.120479\n",
      "1               5000  500           50  0.01     pcr  0.127465  244769.316087\n",
      "..               ...  ...          ...   ...     ...       ...            ...\n",
      "1                150   50           12  0.10     pcr  0.582371   21320.282745\n",
      "2                150   50           12  0.10     pls  0.999970       1.523052\n",
      "0                150   50           25  0.10  linreg  0.999973       1.402461\n",
      "1                150   50           25  0.10     pcr  0.681640   16252.534390\n",
      "2                150   50           25  0.10     pls  0.999973       1.402458\n",
      "\n",
      "[792 rows x 7 columns]\n"
     ]
    },
    {
     "name": "stderr",
     "output_type": "stream",
     "text": [
      " 40%|████      | 2/5 [15:39<20:32, 410.93s/it, N=50, linreg=1, pcr=0.529, pls=1, rho=0.1]    "
     ]
    },
    {
     "name": "stdout",
     "output_type": "stream",
     "text": [
      "   train_sample_size    N n_components   rho   model        R2            MSE\n",
      "0               5000  500            5  0.01  linreg  0.999996       1.120479\n",
      "1               5000  500            5  0.01     pcr  0.008567  278123.542607\n",
      "2               5000  500            5  0.01     pls  0.999916      23.445148\n",
      "0               5000  500           50  0.01  linreg  0.999996       1.120479\n",
      "1               5000  500           50  0.01     pcr  0.127465  244769.316087\n",
      "..               ...  ...          ...   ...     ...       ...            ...\n",
      "1                150   50           25  0.10     pcr  0.681640   16252.534390\n",
      "2                150   50           25  0.10     pls  0.999973       1.402458\n",
      "0                100   50            5  0.10  linreg  0.999964       1.852973\n",
      "1                100   50            5  0.10     pcr  0.411431   30048.951849\n",
      "2                100   50            5  0.10     pls  0.986030     713.246211\n",
      "\n",
      "[795 rows x 7 columns]\n"
     ]
    },
    {
     "name": "stderr",
     "output_type": "stream",
     "text": [
      " 40%|████      | 2/5 [15:40<20:32, 410.93s/it, N=50, linreg=1, pcr=0.714, pls=1, rho=0.1]"
     ]
    },
    {
     "name": "stdout",
     "output_type": "stream",
     "text": [
      "   train_sample_size    N n_components   rho   model        R2            MSE\n",
      "0               5000  500            5  0.01  linreg  0.999996       1.120479\n",
      "1               5000  500            5  0.01     pcr  0.008567  278123.542607\n",
      "2               5000  500            5  0.01     pls  0.999916      23.445148\n",
      "0               5000  500           50  0.01  linreg  0.999996       1.120479\n",
      "1               5000  500           50  0.01     pcr  0.127465  244769.316087\n",
      "..               ...  ...          ...   ...     ...       ...            ...\n",
      "1                100   50            5  0.10     pcr  0.411431   30048.951849\n",
      "2                100   50            5  0.10     pls  0.986030     713.246211\n",
      "0                100   50           12  0.10  linreg  0.999964       1.852973\n",
      "1                100   50           12  0.10     pcr  0.528542   24069.952797\n",
      "2                100   50           12  0.10     pls  0.999906       4.786815\n",
      "\n",
      "[798 rows x 7 columns]\n"
     ]
    },
    {
     "name": "stderr",
     "output_type": "stream",
     "text": [
      " 40%|████      | 2/5 [15:40<20:32, 410.93s/it, N=50, linreg=0.959, pcr=0.392, pls=0.916, rho=0.1]"
     ]
    },
    {
     "name": "stdout",
     "output_type": "stream",
     "text": [
      "   train_sample_size    N n_components   rho   model        R2            MSE\n",
      "0               5000  500            5  0.01  linreg  0.999996       1.120479\n",
      "1               5000  500            5  0.01     pcr  0.008567  278123.542607\n",
      "2               5000  500            5  0.01     pls  0.999916      23.445148\n",
      "0               5000  500           50  0.01  linreg  0.999996       1.120479\n",
      "1               5000  500           50  0.01     pcr  0.127465  244769.316087\n",
      "..               ...  ...          ...   ...     ...       ...            ...\n",
      "1                100   50           12  0.10     pcr  0.528542   24069.952797\n",
      "2                100   50           12  0.10     pls  0.999906       4.786815\n",
      "0                100   50           25  0.10  linreg  0.999964       1.852973\n",
      "1                100   50           25  0.10     pcr  0.713572   14623.345915\n",
      "2                100   50           25  0.10     pls  0.999964       1.852716\n",
      "\n",
      "[801 rows x 7 columns]\n"
     ]
    },
    {
     "name": "stderr",
     "output_type": "stream",
     "text": [
      " 40%|████      | 2/5 [15:41<20:32, 410.93s/it, N=50, linreg=0.959, pcr=0.43, pls=0.975, rho=0.1] "
     ]
    },
    {
     "name": "stdout",
     "output_type": "stream",
     "text": [
      "   train_sample_size    N n_components   rho   model        R2            MSE\n",
      "0               5000  500            5  0.01  linreg  0.999996       1.120479\n",
      "1               5000  500            5  0.01     pcr  0.008567  278123.542607\n",
      "2               5000  500            5  0.01     pls  0.999916      23.445148\n",
      "0               5000  500           50  0.01  linreg  0.999996       1.120479\n",
      "1               5000  500           50  0.01     pcr  0.127465  244769.316087\n",
      "..               ...  ...          ...   ...     ...       ...            ...\n",
      "1                100   50           25  0.10     pcr  0.713572   14623.345915\n",
      "2                100   50           25  0.10     pls  0.999964       1.852716\n",
      "0                 50   50            5  0.10  linreg  0.958631    2111.840086\n",
      "1                 50   50            5  0.10     pcr  0.391725   31051.417826\n",
      "2                 50   50            5  0.10     pls  0.916311    4272.182756\n",
      "\n",
      "[804 rows x 7 columns]\n"
     ]
    },
    {
     "name": "stderr",
     "output_type": "stream",
     "text": [
      " 40%|████      | 2/5 [15:41<20:32, 410.93s/it, N=50, linreg=0.959, pcr=0.728, pls=0.995, rho=0.1]"
     ]
    },
    {
     "name": "stdout",
     "output_type": "stream",
     "text": [
      "   train_sample_size    N n_components   rho   model        R2            MSE\n",
      "0               5000  500            5  0.01  linreg  0.999996       1.120479\n",
      "1               5000  500            5  0.01     pcr  0.008567  278123.542607\n",
      "2               5000  500            5  0.01     pls  0.999916      23.445148\n",
      "0               5000  500           50  0.01  linreg  0.999996       1.120479\n",
      "1               5000  500           50  0.01     pcr  0.127465  244769.316087\n",
      "..               ...  ...          ...   ...     ...       ...            ...\n",
      "1                 50   50            5  0.10     pcr  0.391725   31051.417826\n",
      "2                 50   50            5  0.10     pls  0.916311    4272.182756\n",
      "0                 50   50           12  0.10  linreg  0.958631    2111.840086\n",
      "1                 50   50           12  0.10     pcr  0.429514   29122.369819\n",
      "2                 50   50           12  0.10     pls  0.974912    1280.686353\n",
      "\n",
      "[807 rows x 7 columns]\n"
     ]
    },
    {
     "name": "stderr",
     "output_type": "stream",
     "text": [
      " 40%|████      | 2/5 [15:42<20:32, 410.93s/it, N=50, linreg=1, pcr=0.652, pls=1, rho=0.2]        "
     ]
    },
    {
     "name": "stdout",
     "output_type": "stream",
     "text": [
      "   train_sample_size    N n_components   rho   model        R2            MSE\n",
      "0               5000  500            5  0.01  linreg  0.999996       1.120479\n",
      "1               5000  500            5  0.01     pcr  0.008567  278123.542607\n",
      "2               5000  500            5  0.01     pls  0.999916      23.445148\n",
      "0               5000  500           50  0.01  linreg  0.999996       1.120479\n",
      "1               5000  500           50  0.01     pcr  0.127465  244769.316087\n",
      "..               ...  ...          ...   ...     ...       ...            ...\n",
      "1                 50   50           12  0.10     pcr  0.429514   29122.369819\n",
      "2                 50   50           12  0.10     pls  0.974912    1280.686353\n",
      "0                 50   50           25  0.10  linreg  0.958631    2111.840086\n",
      "1                 50   50           25  0.10     pcr  0.728436   13862.891245\n",
      "2                 50   50           25  0.10     pls  0.994645     273.377781\n",
      "\n",
      "[810 rows x 7 columns]\n"
     ]
    },
    {
     "name": "stderr",
     "output_type": "stream",
     "text": [
      " 40%|████      | 2/5 [15:43<20:32, 410.93s/it, N=50, linreg=1, pcr=0.7, pls=1, rho=0.2]  "
     ]
    },
    {
     "name": "stdout",
     "output_type": "stream",
     "text": [
      "   train_sample_size    N n_components   rho   model        R2            MSE\n",
      "0               5000  500            5  0.01  linreg  0.999996       1.120479\n",
      "1               5000  500            5  0.01     pcr  0.008567  278123.542607\n",
      "2               5000  500            5  0.01     pls  0.999916      23.445148\n",
      "0               5000  500           50  0.01  linreg  0.999996       1.120479\n",
      "1               5000  500           50  0.01     pcr  0.127465  244769.316087\n",
      "..               ...  ...          ...   ...     ...       ...            ...\n",
      "1                 50   50           25  0.10     pcr  0.728436   13862.891245\n",
      "2                 50   50           25  0.10     pls  0.994645     273.377781\n",
      "0                500   50            5  0.20  linreg  0.999984       1.110477\n",
      "1                500   50            5  0.20     pcr  0.652095   23900.621748\n",
      "2                500   50            5  0.20     pls  0.999965       2.423809\n",
      "\n",
      "[813 rows x 7 columns]\n"
     ]
    },
    {
     "name": "stderr",
     "output_type": "stream",
     "text": [
      " 40%|████      | 2/5 [15:44<20:32, 410.93s/it, N=50, linreg=1, pcr=0.768, pls=1, rho=0.2]"
     ]
    },
    {
     "name": "stdout",
     "output_type": "stream",
     "text": [
      "   train_sample_size    N n_components   rho   model        R2            MSE\n",
      "0               5000  500            5  0.01  linreg  0.999996       1.120479\n",
      "1               5000  500            5  0.01     pcr  0.008567  278123.542607\n",
      "2               5000  500            5  0.01     pls  0.999916      23.445148\n",
      "0               5000  500           50  0.01  linreg  0.999996       1.120479\n",
      "1               5000  500           50  0.01     pcr  0.127465  244769.316087\n",
      "..               ...  ...          ...   ...     ...       ...            ...\n",
      "1                500   50            5  0.20     pcr  0.652095   23900.621748\n",
      "2                500   50            5  0.20     pls  0.999965       2.423809\n",
      "0                500   50           12  0.20  linreg  0.999984       1.110477\n",
      "1                500   50           12  0.20     pcr  0.699619   20635.784482\n",
      "2                500   50           12  0.20     pls  0.999984       1.110468\n",
      "\n",
      "[816 rows x 7 columns]\n"
     ]
    },
    {
     "name": "stderr",
     "output_type": "stream",
     "text": [
      " 40%|████      | 2/5 [15:44<20:32, 410.93s/it, N=50, linreg=1, pcr=0.637, pls=1, rho=0.2]"
     ]
    },
    {
     "name": "stdout",
     "output_type": "stream",
     "text": [
      "   train_sample_size    N n_components   rho   model        R2            MSE\n",
      "0               5000  500            5  0.01  linreg  0.999996       1.120479\n",
      "1               5000  500            5  0.01     pcr  0.008567  278123.542607\n",
      "2               5000  500            5  0.01     pls  0.999916      23.445148\n",
      "0               5000  500           50  0.01  linreg  0.999996       1.120479\n",
      "1               5000  500           50  0.01     pcr  0.127465  244769.316087\n",
      "..               ...  ...          ...   ...     ...       ...            ...\n",
      "1                500   50           12  0.20     pcr  0.699619   20635.784482\n",
      "2                500   50           12  0.20     pls  0.999984       1.110468\n",
      "0                500   50           25  0.20  linreg  0.999984       1.110477\n",
      "1                500   50           25  0.20     pcr  0.767755   15954.877797\n",
      "2                500   50           25  0.20     pls  0.999984       1.110477\n",
      "\n",
      "[819 rows x 7 columns]\n"
     ]
    },
    {
     "name": "stderr",
     "output_type": "stream",
     "text": [
      " 40%|████      | 2/5 [15:45<20:32, 410.93s/it, N=50, linreg=1, pcr=0.683, pls=1, rho=0.2]"
     ]
    },
    {
     "name": "stdout",
     "output_type": "stream",
     "text": [
      "   train_sample_size    N n_components   rho   model        R2            MSE\n",
      "0               5000  500            5  0.01  linreg  0.999996       1.120479\n",
      "1               5000  500            5  0.01     pcr  0.008567  278123.542607\n",
      "2               5000  500            5  0.01     pls  0.999916      23.445148\n",
      "0               5000  500           50  0.01  linreg  0.999996       1.120479\n",
      "1               5000  500           50  0.01     pcr  0.127465  244769.316087\n",
      "..               ...  ...          ...   ...     ...       ...            ...\n",
      "1                500   50           25  0.20     pcr  0.767755   15954.877797\n",
      "2                500   50           25  0.20     pls  0.999984       1.110477\n",
      "0                250   50            5  0.20  linreg  0.999981       1.336584\n",
      "1                250   50            5  0.20     pcr  0.637331   24928.616117\n",
      "2                250   50            5  0.20     pls  0.999614      26.499271\n",
      "\n",
      "[822 rows x 7 columns]\n"
     ]
    },
    {
     "name": "stderr",
     "output_type": "stream",
     "text": [
      " 40%|████      | 2/5 [15:46<20:32, 410.93s/it, N=50, linreg=1, pcr=0.75, pls=1, rho=0.2] "
     ]
    },
    {
     "name": "stdout",
     "output_type": "stream",
     "text": [
      "   train_sample_size    N n_components   rho   model        R2            MSE\n",
      "0               5000  500            5  0.01  linreg  0.999996       1.120479\n",
      "1               5000  500            5  0.01     pcr  0.008567  278123.542607\n",
      "2               5000  500            5  0.01     pls  0.999916      23.445148\n",
      "0               5000  500           50  0.01  linreg  0.999996       1.120479\n",
      "1               5000  500           50  0.01     pcr  0.127465  244769.316087\n",
      "..               ...  ...          ...   ...     ...       ...            ...\n",
      "1                250   50            5  0.20     pcr  0.637331   24928.616117\n",
      "2                250   50            5  0.20     pls  0.999614      26.499271\n",
      "0                250   50           12  0.20  linreg  0.999981       1.336584\n",
      "1                250   50           12  0.20     pcr  0.683314   21767.937625\n",
      "2                250   50           12  0.20     pls  0.999981       1.335474\n",
      "\n",
      "[825 rows x 7 columns]\n"
     ]
    },
    {
     "name": "stderr",
     "output_type": "stream",
     "text": [
      " 40%|████      | 2/5 [15:47<20:32, 410.93s/it, N=50, linreg=1, pcr=0.636, pls=0.997, rho=0.2]"
     ]
    },
    {
     "name": "stdout",
     "output_type": "stream",
     "text": [
      "   train_sample_size    N n_components   rho   model        R2            MSE\n",
      "0               5000  500            5  0.01  linreg  0.999996       1.120479\n",
      "1               5000  500            5  0.01     pcr  0.008567  278123.542607\n",
      "2               5000  500            5  0.01     pls  0.999916      23.445148\n",
      "0               5000  500           50  0.01  linreg  0.999996       1.120479\n",
      "1               5000  500           50  0.01     pcr  0.127465  244769.316087\n",
      "..               ...  ...          ...   ...     ...       ...            ...\n",
      "1                250   50           12  0.20     pcr  0.683314   21767.937625\n",
      "2                250   50           12  0.20     pls  0.999981       1.335474\n",
      "0                250   50           25  0.20  linreg  0.999981       1.336584\n",
      "1                250   50           25  0.20     pcr  0.750455   17152.890461\n",
      "2                250   50           25  0.20     pls  0.999981       1.336584\n",
      "\n",
      "[828 rows x 7 columns]\n"
     ]
    },
    {
     "name": "stderr",
     "output_type": "stream",
     "text": [
      " 40%|████      | 2/5 [15:47<20:32, 410.93s/it, N=50, linreg=1, pcr=0.673, pls=1, rho=0.2]    "
     ]
    },
    {
     "name": "stdout",
     "output_type": "stream",
     "text": [
      "   train_sample_size    N n_components   rho   model        R2            MSE\n",
      "0               5000  500            5  0.01  linreg  0.999996       1.120479\n",
      "1               5000  500            5  0.01     pcr  0.008567  278123.542607\n",
      "2               5000  500            5  0.01     pls  0.999916      23.445148\n",
      "0               5000  500           50  0.01  linreg  0.999996       1.120479\n",
      "1               5000  500           50  0.01     pcr  0.127465  244769.316087\n",
      "..               ...  ...          ...   ...     ...       ...            ...\n",
      "1                250   50           25  0.20     pcr  0.750455   17152.890461\n",
      "2                250   50           25  0.20     pls  0.999981       1.336584\n",
      "0                150   50            5  0.20  linreg  0.999975       1.712032\n",
      "1                150   50            5  0.20     pcr  0.635970   25022.246969\n",
      "2                150   50            5  0.20     pls  0.996682     228.037312\n",
      "\n",
      "[831 rows x 7 columns]\n"
     ]
    },
    {
     "name": "stderr",
     "output_type": "stream",
     "text": [
      " 40%|████      | 2/5 [15:47<20:32, 410.93s/it, N=50, linreg=1, pcr=0.779, pls=1, rho=0.2]"
     ]
    },
    {
     "name": "stdout",
     "output_type": "stream",
     "text": [
      "   train_sample_size    N n_components   rho   model        R2            MSE\n",
      "0               5000  500            5  0.01  linreg  0.999996       1.120479\n",
      "1               5000  500            5  0.01     pcr  0.008567  278123.542607\n",
      "2               5000  500            5  0.01     pls  0.999916      23.445148\n",
      "0               5000  500           50  0.01  linreg  0.999996       1.120479\n",
      "1               5000  500           50  0.01     pcr  0.127465  244769.316087\n",
      "..               ...  ...          ...   ...     ...       ...            ...\n",
      "1                150   50            5  0.20     pcr  0.635970   25022.246969\n",
      "2                150   50            5  0.20     pls  0.996682     228.037312\n",
      "0                150   50           12  0.20  linreg  0.999975       1.712032\n",
      "1                150   50           12  0.20     pcr  0.672601   22504.316505\n",
      "2                150   50           12  0.20     pls  0.999975       1.749298\n",
      "\n",
      "[834 rows x 7 columns]\n"
     ]
    },
    {
     "name": "stderr",
     "output_type": "stream",
     "text": [
      " 40%|████      | 2/5 [15:48<20:32, 410.93s/it, N=50, linreg=1, pcr=0.636, pls=0.993, rho=0.2]"
     ]
    },
    {
     "name": "stdout",
     "output_type": "stream",
     "text": [
      "   train_sample_size    N n_components   rho   model        R2            MSE\n",
      "0               5000  500            5  0.01  linreg  0.999996       1.120479\n",
      "1               5000  500            5  0.01     pcr  0.008567  278123.542607\n",
      "2               5000  500            5  0.01     pls  0.999916      23.445148\n",
      "0               5000  500           50  0.01  linreg  0.999996       1.120479\n",
      "1               5000  500           50  0.01     pcr  0.127465  244769.316087\n",
      "..               ...  ...          ...   ...     ...       ...            ...\n",
      "1                150   50           12  0.20     pcr  0.672601   22504.316505\n",
      "2                150   50           12  0.20     pls  0.999975       1.749298\n",
      "0                150   50           25  0.20  linreg  0.999975       1.712032\n",
      "1                150   50           25  0.20     pcr  0.778852   15200.977551\n",
      "2                150   50           25  0.20     pls  0.999975       1.712031\n",
      "\n",
      "[837 rows x 7 columns]\n"
     ]
    },
    {
     "name": "stderr",
     "output_type": "stream",
     "text": [
      " 40%|████      | 2/5 [15:48<20:32, 410.93s/it, N=50, linreg=1, pcr=0.663, pls=1, rho=0.2]    "
     ]
    },
    {
     "name": "stdout",
     "output_type": "stream",
     "text": [
      "   train_sample_size    N n_components   rho   model        R2            MSE\n",
      "0               5000  500            5  0.01  linreg  0.999996       1.120479\n",
      "1               5000  500            5  0.01     pcr  0.008567  278123.542607\n",
      "2               5000  500            5  0.01     pls  0.999916      23.445148\n",
      "0               5000  500           50  0.01  linreg  0.999996       1.120479\n",
      "1               5000  500           50  0.01     pcr  0.127465  244769.316087\n",
      "..               ...  ...          ...   ...     ...       ...            ...\n",
      "1                150   50           25  0.20     pcr  0.778852   15200.977551\n",
      "2                150   50           25  0.20     pls  0.999975       1.712031\n",
      "0                100   50            5  0.20  linreg  0.999969       2.100980\n",
      "1                100   50            5  0.20     pcr  0.636031   25018.720724\n",
      "2                100   50            5  0.20     pls  0.992644     505.621439\n",
      "\n",
      "[840 rows x 7 columns]\n"
     ]
    },
    {
     "name": "stderr",
     "output_type": "stream",
     "text": [
      " 40%|████      | 2/5 [15:49<20:32, 410.93s/it, N=50, linreg=1, pcr=0.8, pls=1, rho=0.2]  "
     ]
    },
    {
     "name": "stdout",
     "output_type": "stream",
     "text": [
      "   train_sample_size    N n_components   rho   model        R2            MSE\n",
      "0               5000  500            5  0.01  linreg  0.999996       1.120479\n",
      "1               5000  500            5  0.01     pcr  0.008567  278123.542607\n",
      "2               5000  500            5  0.01     pls  0.999916      23.445148\n",
      "0               5000  500           50  0.01  linreg  0.999996       1.120479\n",
      "1               5000  500           50  0.01     pcr  0.127465  244769.316087\n",
      "..               ...  ...          ...   ...     ...       ...            ...\n",
      "1                100   50            5  0.20     pcr  0.636031   25018.720724\n",
      "2                100   50            5  0.20     pls  0.992644     505.621439\n",
      "0                100   50           12  0.20  linreg  0.999969       2.100980\n",
      "1                100   50           12  0.20     pcr  0.663214   23150.158710\n",
      "2                100   50           12  0.20     pls  0.999952       3.291094\n",
      "\n",
      "[843 rows x 7 columns]\n"
     ]
    },
    {
     "name": "stderr",
     "output_type": "stream",
     "text": [
      " 40%|████      | 2/5 [15:49<20:32, 410.93s/it, N=50, linreg=0.988, pcr=0.646, pls=0.933, rho=0.2]"
     ]
    },
    {
     "name": "stdout",
     "output_type": "stream",
     "text": [
      "   train_sample_size    N n_components   rho   model        R2            MSE\n",
      "0               5000  500            5  0.01  linreg  0.999996       1.120479\n",
      "1               5000  500            5  0.01     pcr  0.008567  278123.542607\n",
      "2               5000  500            5  0.01     pls  0.999916      23.445148\n",
      "0               5000  500           50  0.01  linreg  0.999996       1.120479\n",
      "1               5000  500           50  0.01     pcr  0.127465  244769.316087\n",
      "..               ...  ...          ...   ...     ...       ...            ...\n",
      "1                100   50           12  0.20     pcr  0.663214   23150.158710\n",
      "2                100   50           12  0.20     pls  0.999952       3.291094\n",
      "0                100   50           25  0.20  linreg  0.999969       2.100980\n",
      "1                100   50           25  0.20     pcr  0.799593   13775.672380\n",
      "2                100   50           25  0.20     pls  0.999969       2.101845\n",
      "\n",
      "[846 rows x 7 columns]\n"
     ]
    },
    {
     "name": "stderr",
     "output_type": "stream",
     "text": [
      " 40%|████      | 2/5 [15:50<20:32, 410.93s/it, N=50, linreg=0.988, pcr=0.7, pls=0.958, rho=0.2]  "
     ]
    },
    {
     "name": "stdout",
     "output_type": "stream",
     "text": [
      "   train_sample_size    N n_components   rho   model        R2            MSE\n",
      "0               5000  500            5  0.01  linreg  0.999996       1.120479\n",
      "1               5000  500            5  0.01     pcr  0.008567  278123.542607\n",
      "2               5000  500            5  0.01     pls  0.999916      23.445148\n",
      "0               5000  500           50  0.01  linreg  0.999996       1.120479\n",
      "1               5000  500           50  0.01     pcr  0.127465  244769.316087\n",
      "..               ...  ...          ...   ...     ...       ...            ...\n",
      "1                100   50           25  0.20     pcr  0.799593   13775.672380\n",
      "2                100   50           25  0.20     pls  0.999969       2.101845\n",
      "0                 50   50            5  0.20  linreg  0.987994     825.155056\n",
      "1                 50   50            5  0.20     pcr  0.646398   24303.382683\n",
      "2                 50   50            5  0.20     pls  0.933398    4577.588382\n",
      "\n",
      "[849 rows x 7 columns]\n"
     ]
    },
    {
     "name": "stderr",
     "output_type": "stream",
     "text": [
      " 40%|████      | 2/5 [15:50<20:32, 410.93s/it, N=50, linreg=0.988, pcr=0.853, pls=0.968, rho=0.2]"
     ]
    },
    {
     "name": "stdout",
     "output_type": "stream",
     "text": [
      "   train_sample_size    N n_components   rho   model        R2            MSE\n",
      "0               5000  500            5  0.01  linreg  0.999996       1.120479\n",
      "1               5000  500            5  0.01     pcr  0.008567  278123.542607\n",
      "2               5000  500            5  0.01     pls  0.999916      23.445148\n",
      "0               5000  500           50  0.01  linreg  0.999996       1.120479\n",
      "1               5000  500           50  0.01     pcr  0.127465  244769.316087\n",
      "..               ...  ...          ...   ...     ...       ...            ...\n",
      "1                 50   50            5  0.20     pcr  0.646398   24303.382683\n",
      "2                 50   50            5  0.20     pls  0.933398    4577.588382\n",
      "0                 50   50           12  0.20  linreg  0.987994     825.155056\n",
      "1                 50   50           12  0.20     pcr  0.699563   20649.261888\n",
      "2                 50   50           12  0.20     pls  0.958114    2878.857288\n",
      "\n",
      "[852 rows x 7 columns]\n"
     ]
    },
    {
     "name": "stderr",
     "output_type": "stream",
     "text": [
      " 40%|████      | 2/5 [15:51<20:32, 410.93s/it, N=50, linreg=1, pcr=0.438, pls=1, rho=0.5]        "
     ]
    },
    {
     "name": "stdout",
     "output_type": "stream",
     "text": [
      "   train_sample_size    N n_components   rho   model        R2            MSE\n",
      "0               5000  500            5  0.01  linreg  0.999996       1.120479\n",
      "1               5000  500            5  0.01     pcr  0.008567  278123.542607\n",
      "2               5000  500            5  0.01     pls  0.999916      23.445148\n",
      "0               5000  500           50  0.01  linreg  0.999996       1.120479\n",
      "1               5000  500           50  0.01     pcr  0.127465  244769.316087\n",
      "..               ...  ...          ...   ...     ...       ...            ...\n",
      "1                 50   50           12  0.20     pcr  0.699563   20649.261888\n",
      "2                 50   50           12  0.20     pls  0.958114    2878.857288\n",
      "0                 50   50           25  0.20  linreg  0.987994     825.155056\n",
      "1                 50   50           25  0.20     pcr  0.852731   10121.906637\n",
      "2                 50   50           25  0.20     pls  0.967899    2206.348071\n",
      "\n",
      "[855 rows x 7 columns]\n"
     ]
    },
    {
     "name": "stderr",
     "output_type": "stream",
     "text": [
      " 40%|████      | 2/5 [15:52<20:32, 410.93s/it, N=50, linreg=1, pcr=0.46, pls=1, rho=0.5] "
     ]
    },
    {
     "name": "stdout",
     "output_type": "stream",
     "text": [
      "   train_sample_size    N n_components   rho   model        R2            MSE\n",
      "0               5000  500            5  0.01  linreg  0.999996       1.120479\n",
      "1               5000  500            5  0.01     pcr  0.008567  278123.542607\n",
      "2               5000  500            5  0.01     pls  0.999916      23.445148\n",
      "0               5000  500           50  0.01  linreg  0.999996       1.120479\n",
      "1               5000  500           50  0.01     pcr  0.127465  244769.316087\n",
      "..               ...  ...          ...   ...     ...       ...            ...\n",
      "1                 50   50           25  0.20     pcr  0.852731   10121.906637\n",
      "2                 50   50           25  0.20     pls  0.967899    2206.348071\n",
      "0                500   50            5  0.50  linreg  0.999940       1.104905\n",
      "1                500   50            5  0.50     pcr  0.437797   10285.475062\n",
      "2                500   50            5  0.50     pls  0.999906       1.716517\n",
      "\n",
      "[858 rows x 7 columns]\n"
     ]
    },
    {
     "name": "stderr",
     "output_type": "stream",
     "text": [
      " 40%|████      | 2/5 [15:53<20:32, 410.93s/it, N=50, linreg=1, pcr=0.557, pls=1, rho=0.5]"
     ]
    },
    {
     "name": "stdout",
     "output_type": "stream",
     "text": [
      "   train_sample_size    N n_components   rho   model        R2            MSE\n",
      "0               5000  500            5  0.01  linreg  0.999996       1.120479\n",
      "1               5000  500            5  0.01     pcr  0.008567  278123.542607\n",
      "2               5000  500            5  0.01     pls  0.999916      23.445148\n",
      "0               5000  500           50  0.01  linreg  0.999996       1.120479\n",
      "1               5000  500           50  0.01     pcr  0.127465  244769.316087\n",
      "..               ...  ...          ...   ...     ...       ...            ...\n",
      "1                500   50            5  0.50     pcr  0.437797   10285.475062\n",
      "2                500   50            5  0.50     pls  0.999906       1.716517\n",
      "0                500   50           12  0.50  linreg  0.999940       1.104905\n",
      "1                500   50           12  0.50     pcr  0.460231    9875.037318\n",
      "2                500   50           12  0.50     pls  0.999940       1.104917\n",
      "\n",
      "[861 rows x 7 columns]\n"
     ]
    },
    {
     "name": "stderr",
     "output_type": "stream",
     "text": [
      " 40%|████      | 2/5 [15:54<20:32, 410.93s/it, N=50, linreg=1, pcr=0.388, pls=0.999, rho=0.5]"
     ]
    },
    {
     "name": "stdout",
     "output_type": "stream",
     "text": [
      "   train_sample_size    N n_components   rho   model        R2            MSE\n",
      "0               5000  500            5  0.01  linreg  0.999996       1.120479\n",
      "1               5000  500            5  0.01     pcr  0.008567  278123.542607\n",
      "2               5000  500            5  0.01     pls  0.999916      23.445148\n",
      "0               5000  500           50  0.01  linreg  0.999996       1.120479\n",
      "1               5000  500           50  0.01     pcr  0.127465  244769.316087\n",
      "..               ...  ...          ...   ...     ...       ...            ...\n",
      "1                500   50           12  0.50     pcr  0.460231    9875.037318\n",
      "2                500   50           12  0.50     pls  0.999940       1.104917\n",
      "0                500   50           25  0.50  linreg  0.999940       1.104905\n",
      "1                500   50           25  0.50     pcr  0.557441    8096.590288\n",
      "2                500   50           25  0.50     pls  0.999940       1.104905\n",
      "\n",
      "[864 rows x 7 columns]\n"
     ]
    },
    {
     "name": "stderr",
     "output_type": "stream",
     "text": [
      " 40%|████      | 2/5 [15:54<20:32, 410.93s/it, N=50, linreg=1, pcr=0.462, pls=1, rho=0.5]    "
     ]
    },
    {
     "name": "stdout",
     "output_type": "stream",
     "text": [
      "   train_sample_size    N n_components   rho   model        R2            MSE\n",
      "0               5000  500            5  0.01  linreg  0.999996       1.120479\n",
      "1               5000  500            5  0.01     pcr  0.008567  278123.542607\n",
      "2               5000  500            5  0.01     pls  0.999916      23.445148\n",
      "0               5000  500           50  0.01  linreg  0.999996       1.120479\n",
      "1               5000  500           50  0.01     pcr  0.127465  244769.316087\n",
      "..               ...  ...          ...   ...     ...       ...            ...\n",
      "1                500   50           25  0.50     pcr  0.557441    8096.590288\n",
      "2                500   50           25  0.50     pls  0.999940       1.104905\n",
      "0                250   50            5  0.50  linreg  0.999929       1.304715\n",
      "1                250   50            5  0.50     pcr  0.387837   11194.917295\n",
      "2                250   50            5  0.50     pls  0.999380      11.339249\n",
      "\n",
      "[867 rows x 7 columns]\n"
     ]
    },
    {
     "name": "stderr",
     "output_type": "stream",
     "text": [
      " 40%|████      | 2/5 [15:56<20:32, 410.93s/it, N=50, linreg=1, pcr=0.775, pls=1, rho=0.5]"
     ]
    },
    {
     "name": "stdout",
     "output_type": "stream",
     "text": [
      "   train_sample_size    N n_components   rho   model        R2            MSE\n",
      "0               5000  500            5  0.01  linreg  0.999996       1.120479\n",
      "1               5000  500            5  0.01     pcr  0.008567  278123.542607\n",
      "2               5000  500            5  0.01     pls  0.999916      23.445148\n",
      "0               5000  500           50  0.01  linreg  0.999996       1.120479\n",
      "1               5000  500           50  0.01     pcr  0.127465  244769.316087\n",
      "..               ...  ...          ...   ...     ...       ...            ...\n",
      "1                250   50            5  0.50     pcr  0.387837   11194.917295\n",
      "2                250   50            5  0.50     pls  0.999380      11.339249\n",
      "0                250   50           12  0.50  linreg  0.999929       1.304715\n",
      "1                250   50           12  0.50     pcr  0.462480    9829.871762\n",
      "2                250   50           12  0.50     pls  0.999929       1.304564\n",
      "\n",
      "[870 rows x 7 columns]\n"
     ]
    },
    {
     "name": "stderr",
     "output_type": "stream",
     "text": [
      " 40%|████      | 2/5 [15:56<20:32, 410.93s/it, N=50, linreg=1, pcr=0.285, pls=0.996, rho=0.5]"
     ]
    },
    {
     "name": "stdout",
     "output_type": "stream",
     "text": [
      "   train_sample_size    N n_components   rho   model        R2            MSE\n",
      "0               5000  500            5  0.01  linreg  0.999996       1.120479\n",
      "1               5000  500            5  0.01     pcr  0.008567  278123.542607\n",
      "2               5000  500            5  0.01     pls  0.999916      23.445148\n",
      "0               5000  500           50  0.01  linreg  0.999996       1.120479\n",
      "1               5000  500           50  0.01     pcr  0.127465  244769.316087\n",
      "..               ...  ...          ...   ...     ...       ...            ...\n",
      "1                250   50           12  0.50     pcr  0.462480    9829.871762\n",
      "2                250   50           12  0.50     pls  0.999929       1.304564\n",
      "0                250   50           25  0.50  linreg  0.999929       1.304715\n",
      "1                250   50           25  0.50     pcr  0.775252    4110.079354\n",
      "2                250   50           25  0.50     pls  0.999929       1.304715\n",
      "\n",
      "[873 rows x 7 columns]\n"
     ]
    },
    {
     "name": "stderr",
     "output_type": "stream",
     "text": [
      " 40%|████      | 2/5 [15:57<20:32, 410.93s/it, N=50, linreg=1, pcr=0.425, pls=1, rho=0.5]    "
     ]
    },
    {
     "name": "stdout",
     "output_type": "stream",
     "text": [
      "   train_sample_size    N n_components   rho   model        R2            MSE\n",
      "0               5000  500            5  0.01  linreg  0.999996       1.120479\n",
      "1               5000  500            5  0.01     pcr  0.008567  278123.542607\n",
      "2               5000  500            5  0.01     pls  0.999916      23.445148\n",
      "0               5000  500           50  0.01  linreg  0.999996       1.120479\n",
      "1               5000  500           50  0.01     pcr  0.127465  244769.316087\n",
      "..               ...  ...          ...   ...     ...       ...            ...\n",
      "1                250   50           25  0.50     pcr  0.775252    4110.079354\n",
      "2                250   50           25  0.50     pls  0.999929       1.304715\n",
      "0                150   50            5  0.50  linreg  0.999910       1.649500\n",
      "1                150   50            5  0.50     pcr  0.285311   13071.234400\n",
      "2                150   50            5  0.50     pls  0.996384      66.130010\n",
      "\n",
      "[876 rows x 7 columns]\n"
     ]
    },
    {
     "name": "stderr",
     "output_type": "stream",
     "text": [
      " 40%|████      | 2/5 [15:57<20:32, 410.93s/it, N=50, linreg=1, pcr=0.656, pls=1, rho=0.5]"
     ]
    },
    {
     "name": "stdout",
     "output_type": "stream",
     "text": [
      "   train_sample_size    N n_components   rho   model        R2            MSE\n",
      "0               5000  500            5  0.01  linreg  0.999996       1.120479\n",
      "1               5000  500            5  0.01     pcr  0.008567  278123.542607\n",
      "2               5000  500            5  0.01     pls  0.999916      23.445148\n",
      "0               5000  500           50  0.01  linreg  0.999996       1.120479\n",
      "1               5000  500           50  0.01     pcr  0.127465  244769.316087\n",
      "..               ...  ...          ...   ...     ...       ...            ...\n",
      "1                150   50            5  0.50     pcr  0.285311   13071.234400\n",
      "2                150   50            5  0.50     pls  0.996384      66.130010\n",
      "0                150   50           12  0.50  linreg  0.999910       1.649500\n",
      "1                150   50           12  0.50     pcr  0.424942   10517.467223\n",
      "2                150   50           12  0.50     pls  0.999907       1.700745\n",
      "\n",
      "[879 rows x 7 columns]\n"
     ]
    },
    {
     "name": "stderr",
     "output_type": "stream",
     "text": [
      " 40%|████      | 2/5 [15:58<20:32, 410.93s/it, N=50, linreg=1, pcr=0.298, pls=0.982, rho=0.5]"
     ]
    },
    {
     "name": "stdout",
     "output_type": "stream",
     "text": [
      "   train_sample_size    N n_components   rho   model        R2            MSE\n",
      "0               5000  500            5  0.01  linreg  0.999996       1.120479\n",
      "1               5000  500            5  0.01     pcr  0.008567  278123.542607\n",
      "2               5000  500            5  0.01     pls  0.999916      23.445148\n",
      "0               5000  500           50  0.01  linreg  0.999996       1.120479\n",
      "1               5000  500           50  0.01     pcr  0.127465  244769.316087\n",
      "..               ...  ...          ...   ...     ...       ...            ...\n",
      "1                150   50           12  0.50     pcr  0.424942   10517.467223\n",
      "2                150   50           12  0.50     pls  0.999907       1.700745\n",
      "0                150   50           25  0.50  linreg  0.999910       1.649500\n",
      "1                150   50           25  0.50     pcr  0.656389    6284.431454\n",
      "2                150   50           25  0.50     pls  0.999910       1.649500\n",
      "\n",
      "[882 rows x 7 columns]\n"
     ]
    },
    {
     "name": "stderr",
     "output_type": "stream",
     "text": [
      " 40%|████      | 2/5 [15:58<20:32, 410.93s/it, N=50, linreg=1, pcr=0.471, pls=1, rho=0.5]    "
     ]
    },
    {
     "name": "stdout",
     "output_type": "stream",
     "text": [
      "   train_sample_size    N n_components   rho   model        R2            MSE\n",
      "0               5000  500            5  0.01  linreg  0.999996       1.120479\n",
      "1               5000  500            5  0.01     pcr  0.008567  278123.542607\n",
      "2               5000  500            5  0.01     pls  0.999916      23.445148\n",
      "0               5000  500           50  0.01  linreg  0.999996       1.120479\n",
      "1               5000  500           50  0.01     pcr  0.127465  244769.316087\n",
      "..               ...  ...          ...   ...     ...       ...            ...\n",
      "1                150   50           25  0.50     pcr  0.656389    6284.431454\n",
      "2                150   50           25  0.50     pls  0.999910       1.649500\n",
      "0                100   50            5  0.50  linreg  0.999893       1.952243\n",
      "1                100   50            5  0.50     pcr  0.298015   12843.053499\n",
      "2                100   50            5  0.50     pls  0.981964     329.969184\n",
      "\n",
      "[885 rows x 7 columns]\n"
     ]
    },
    {
     "name": "stderr",
     "output_type": "stream",
     "text": [
      " 40%|████      | 2/5 [15:59<20:32, 410.93s/it, N=50, linreg=1, pcr=0.647, pls=1, rho=0.5]"
     ]
    },
    {
     "name": "stdout",
     "output_type": "stream",
     "text": [
      "   train_sample_size    N n_components   rho   model        R2            MSE\n",
      "0               5000  500            5  0.01  linreg  0.999996       1.120479\n",
      "1               5000  500            5  0.01     pcr  0.008567  278123.542607\n",
      "2               5000  500            5  0.01     pls  0.999916      23.445148\n",
      "0               5000  500           50  0.01  linreg  0.999996       1.120479\n",
      "1               5000  500           50  0.01     pcr  0.127465  244769.316087\n",
      "..               ...  ...          ...   ...     ...       ...            ...\n",
      "1                100   50            5  0.50     pcr  0.298015   12843.053499\n",
      "2                100   50            5  0.50     pls  0.981964     329.969184\n",
      "0                100   50           12  0.50  linreg  0.999893       1.952243\n",
      "1                100   50           12  0.50     pcr  0.471060    9677.132203\n",
      "2                100   50           12  0.50     pls  0.999875       2.290440\n",
      "\n",
      "[888 rows x 7 columns]\n"
     ]
    },
    {
     "name": "stderr",
     "output_type": "stream",
     "text": [
      " 40%|████      | 2/5 [15:59<20:32, 410.93s/it, N=50, linreg=0.985, pcr=0.336, pls=0.828, rho=0.5]"
     ]
    },
    {
     "name": "stdout",
     "output_type": "stream",
     "text": [
      "   train_sample_size    N n_components   rho   model        R2            MSE\n",
      "0               5000  500            5  0.01  linreg  0.999996       1.120479\n",
      "1               5000  500            5  0.01     pcr  0.008567  278123.542607\n",
      "2               5000  500            5  0.01     pls  0.999916      23.445148\n",
      "0               5000  500           50  0.01  linreg  0.999996       1.120479\n",
      "1               5000  500           50  0.01     pcr  0.127465  244769.316087\n",
      "..               ...  ...          ...   ...     ...       ...            ...\n",
      "1                100   50           12  0.50     pcr  0.471060    9677.132203\n",
      "2                100   50           12  0.50     pls  0.999875       2.290440\n",
      "0                100   50           25  0.50  linreg  0.999893       1.952243\n",
      "1                100   50           25  0.50     pcr  0.646641    6464.831122\n",
      "2                100   50           25  0.50     pls  0.999893       1.953002\n",
      "\n",
      "[891 rows x 7 columns]\n"
     ]
    },
    {
     "name": "stderr",
     "output_type": "stream",
     "text": [
      " 40%|████      | 2/5 [16:00<20:32, 410.93s/it, N=50, linreg=0.985, pcr=0.456, pls=0.898, rho=0.5]"
     ]
    },
    {
     "name": "stdout",
     "output_type": "stream",
     "text": [
      "   train_sample_size    N n_components   rho   model        R2            MSE\n",
      "0               5000  500            5  0.01  linreg  0.999996       1.120479\n",
      "1               5000  500            5  0.01     pcr  0.008567  278123.542607\n",
      "2               5000  500            5  0.01     pls  0.999916      23.445148\n",
      "0               5000  500           50  0.01  linreg  0.999996       1.120479\n",
      "1               5000  500           50  0.01     pcr  0.127465  244769.316087\n",
      "..               ...  ...          ...   ...     ...       ...            ...\n",
      "1                100   50           25  0.50     pcr  0.646641    6464.831122\n",
      "2                100   50           25  0.50     pls  0.999893       1.953002\n",
      "0                 50   50            5  0.50  linreg  0.985411     266.951827\n",
      "1                 50   50            5  0.50     pcr  0.335505   12159.077250\n",
      "2                 50   50            5  0.50     pls  0.827705    3152.687827\n",
      "\n",
      "[894 rows x 7 columns]\n"
     ]
    },
    {
     "name": "stderr",
     "output_type": "stream",
     "text": [
      " 40%|████      | 2/5 [16:00<20:32, 410.93s/it, N=50, linreg=0.985, pcr=0.61, pls=0.967, rho=0.5] "
     ]
    },
    {
     "name": "stdout",
     "output_type": "stream",
     "text": [
      "   train_sample_size    N n_components   rho   model        R2            MSE\n",
      "0               5000  500            5  0.01  linreg  0.999996       1.120479\n",
      "1               5000  500            5  0.01     pcr  0.008567  278123.542607\n",
      "2               5000  500            5  0.01     pls  0.999916      23.445148\n",
      "0               5000  500           50  0.01  linreg  0.999996       1.120479\n",
      "1               5000  500           50  0.01     pcr  0.127465  244769.316087\n",
      "..               ...  ...          ...   ...     ...       ...            ...\n",
      "1                 50   50            5  0.50     pcr  0.335505   12159.077250\n",
      "2                 50   50            5  0.50     pls  0.827705    3152.687827\n",
      "0                 50   50           12  0.50  linreg  0.985411     266.951827\n",
      "1                 50   50           12  0.50     pcr  0.456119    9952.062444\n",
      "2                 50   50           12  0.50     pls  0.898089    1864.781532\n",
      "\n",
      "[897 rows x 7 columns]\n"
     ]
    },
    {
     "name": "stderr",
     "output_type": "stream",
     "text": [
      " 40%|████      | 2/5 [16:01<20:32, 410.93s/it, N=50, linreg=1, pcr=0.0783, pls=1, rho=0.9]      "
     ]
    },
    {
     "name": "stdout",
     "output_type": "stream",
     "text": [
      "   train_sample_size    N n_components   rho   model        R2            MSE\n",
      "0               5000  500            5  0.01  linreg  0.999996       1.120479\n",
      "1               5000  500            5  0.01     pcr  0.008567  278123.542607\n",
      "2               5000  500            5  0.01     pls  0.999916      23.445148\n",
      "0               5000  500           50  0.01  linreg  0.999996       1.120479\n",
      "1               5000  500           50  0.01     pcr  0.127465  244769.316087\n",
      "..               ...  ...          ...   ...     ...       ...            ...\n",
      "1                 50   50           12  0.50     pcr  0.456119    9952.062444\n",
      "2                 50   50           12  0.50     pls  0.898089    1864.781532\n",
      "0                 50   50           25  0.50  linreg  0.985411     266.951827\n",
      "1                 50   50           25  0.50     pcr  0.610133    7133.873589\n",
      "2                 50   50           25  0.50     pls  0.967258     599.114883\n",
      "\n",
      "[900 rows x 7 columns]\n"
     ]
    },
    {
     "name": "stderr",
     "output_type": "stream",
     "text": [
      " 40%|████      | 2/5 [16:02<20:32, 410.93s/it, N=50, linreg=1, pcr=0.278, pls=1, rho=0.9] "
     ]
    },
    {
     "name": "stdout",
     "output_type": "stream",
     "text": [
      "   train_sample_size    N n_components   rho   model        R2            MSE\n",
      "0               5000  500            5  0.01  linreg  0.999996       1.120479\n",
      "1               5000  500            5  0.01     pcr  0.008567  278123.542607\n",
      "2               5000  500            5  0.01     pls  0.999916      23.445148\n",
      "0               5000  500           50  0.01  linreg  0.999996       1.120479\n",
      "1               5000  500           50  0.01     pcr  0.127465  244769.316087\n",
      "..               ...  ...          ...   ...     ...       ...            ...\n",
      "1                 50   50           25  0.50     pcr  0.610133    7133.873589\n",
      "2                 50   50           25  0.50     pls  0.967258     599.114883\n",
      "0                500   50            5  0.90  linreg  0.999699       1.176856\n",
      "1                500   50            5  0.90     pcr  0.078347    3601.350459\n",
      "2                500   50            5  0.90     pls  0.999659       1.332075\n",
      "\n",
      "[903 rows x 7 columns]\n"
     ]
    },
    {
     "name": "stderr",
     "output_type": "stream",
     "text": [
      " 40%|████      | 2/5 [16:03<20:32, 410.93s/it, N=50, linreg=1, pcr=0.511, pls=1, rho=0.9]"
     ]
    },
    {
     "name": "stdout",
     "output_type": "stream",
     "text": [
      "   train_sample_size    N n_components   rho   model        R2            MSE\n",
      "0               5000  500            5  0.01  linreg  0.999996       1.120479\n",
      "1               5000  500            5  0.01     pcr  0.008567  278123.542607\n",
      "2               5000  500            5  0.01     pls  0.999916      23.445148\n",
      "0               5000  500           50  0.01  linreg  0.999996       1.120479\n",
      "1               5000  500           50  0.01     pcr  0.127465  244769.316087\n",
      "..               ...  ...          ...   ...     ...       ...            ...\n",
      "1                500   50            5  0.90     pcr  0.078347    3601.350459\n",
      "2                500   50            5  0.90     pls  0.999659       1.332075\n",
      "0                500   50           12  0.90  linreg  0.999699       1.176856\n",
      "1                500   50           12  0.90     pcr  0.277572    2822.880366\n",
      "2                500   50           12  0.90     pls  0.999699       1.176857\n",
      "\n",
      "[906 rows x 7 columns]\n"
     ]
    },
    {
     "name": "stderr",
     "output_type": "stream",
     "text": [
      " 40%|████      | 2/5 [16:03<20:32, 410.93s/it, N=50, linreg=1, pcr=0.0727, pls=0.998, rho=0.9]"
     ]
    },
    {
     "name": "stdout",
     "output_type": "stream",
     "text": [
      "   train_sample_size    N n_components   rho   model        R2            MSE\n",
      "0               5000  500            5  0.01  linreg  0.999996       1.120479\n",
      "1               5000  500            5  0.01     pcr  0.008567  278123.542607\n",
      "2               5000  500            5  0.01     pls  0.999916      23.445148\n",
      "0               5000  500           50  0.01  linreg  0.999996       1.120479\n",
      "1               5000  500           50  0.01     pcr  0.127465  244769.316087\n",
      "..               ...  ...          ...   ...     ...       ...            ...\n",
      "1                500   50           12  0.90     pcr  0.277572    2822.880366\n",
      "2                500   50           12  0.90     pls  0.999699       1.176857\n",
      "0                500   50           25  0.90  linreg  0.999699       1.176856\n",
      "1                500   50           25  0.90     pcr  0.511284    1909.652049\n",
      "2                500   50           25  0.90     pls  0.999699       1.176856\n",
      "\n",
      "[909 rows x 7 columns]\n"
     ]
    },
    {
     "name": "stderr",
     "output_type": "stream",
     "text": [
      " 40%|████      | 2/5 [16:04<20:32, 410.93s/it, N=50, linreg=1, pcr=0.225, pls=1, rho=0.9]     "
     ]
    },
    {
     "name": "stdout",
     "output_type": "stream",
     "text": [
      "   train_sample_size    N n_components   rho   model        R2            MSE\n",
      "0               5000  500            5  0.01  linreg  0.999996       1.120479\n",
      "1               5000  500            5  0.01     pcr  0.008567  278123.542607\n",
      "2               5000  500            5  0.01     pls  0.999916      23.445148\n",
      "0               5000  500           50  0.01  linreg  0.999996       1.120479\n",
      "1               5000  500           50  0.01     pcr  0.127465  244769.316087\n",
      "..               ...  ...          ...   ...     ...       ...            ...\n",
      "1                500   50           25  0.90     pcr  0.511284    1909.652049\n",
      "2                500   50           25  0.90     pls  0.999699       1.176856\n",
      "0                250   50            5  0.90  linreg  0.999632       1.437840\n",
      "1                250   50            5  0.90     pcr  0.072728    3622.401428\n",
      "2                250   50            5  0.90     pls  0.998333       6.511198\n",
      "\n",
      "[912 rows x 7 columns]\n"
     ]
    },
    {
     "name": "stderr",
     "output_type": "stream",
     "text": [
      " 40%|████      | 2/5 [16:05<20:32, 410.93s/it, N=50, linreg=1, pcr=0.525, pls=1, rho=0.9]"
     ]
    },
    {
     "name": "stdout",
     "output_type": "stream",
     "text": [
      "   train_sample_size    N n_components   rho   model        R2            MSE\n",
      "0               5000  500            5  0.01  linreg  0.999996       1.120479\n",
      "1               5000  500            5  0.01     pcr  0.008567  278123.542607\n",
      "2               5000  500            5  0.01     pls  0.999916      23.445148\n",
      "0               5000  500           50  0.01  linreg  0.999996       1.120479\n",
      "1               5000  500           50  0.01     pcr  0.127465  244769.316087\n",
      "..               ...  ...          ...   ...     ...       ...            ...\n",
      "1                250   50            5  0.90     pcr  0.072728    3622.401428\n",
      "2                250   50            5  0.90     pls  0.998333       6.511198\n",
      "0                250   50           12  0.90  linreg  0.999632       1.437840\n",
      "1                250   50           12  0.90     pcr  0.224573    3029.215486\n",
      "2                250   50           12  0.90     pls  0.999632       1.437571\n",
      "\n",
      "[915 rows x 7 columns]\n"
     ]
    },
    {
     "name": "stderr",
     "output_type": "stream",
     "text": [
      " 40%|████      | 2/5 [16:05<20:32, 410.93s/it, N=50, linreg=1, pcr=0.0784, pls=0.988, rho=0.9]"
     ]
    },
    {
     "name": "stdout",
     "output_type": "stream",
     "text": [
      "   train_sample_size    N n_components   rho   model        R2            MSE\n",
      "0               5000  500            5  0.01  linreg  0.999996       1.120479\n",
      "1               5000  500            5  0.01     pcr  0.008567  278123.542607\n",
      "2               5000  500            5  0.01     pls  0.999916      23.445148\n",
      "0               5000  500           50  0.01  linreg  0.999996       1.120479\n",
      "1               5000  500           50  0.01     pcr  0.127465  244769.316087\n",
      "..               ...  ...          ...   ...     ...       ...            ...\n",
      "1                250   50           12  0.90     pcr  0.224573    3029.215486\n",
      "2                250   50           12  0.90     pls  0.999632       1.437571\n",
      "0                250   50           25  0.90  linreg  0.999632       1.437840\n",
      "1                250   50           25  0.90     pcr  0.525345    1854.246545\n",
      "2                250   50           25  0.90     pls  0.999632       1.437840\n",
      "\n",
      "[918 rows x 7 columns]\n"
     ]
    },
    {
     "name": "stderr",
     "output_type": "stream",
     "text": [
      " 40%|████      | 2/5 [16:05<20:32, 410.93s/it, N=50, linreg=1, pcr=0.0956, pls=1, rho=0.9]    "
     ]
    },
    {
     "name": "stdout",
     "output_type": "stream",
     "text": [
      "   train_sample_size    N n_components   rho   model        R2            MSE\n",
      "0               5000  500            5  0.01  linreg  0.999996       1.120479\n",
      "1               5000  500            5  0.01     pcr  0.008567  278123.542607\n",
      "2               5000  500            5  0.01     pls  0.999916      23.445148\n",
      "0               5000  500           50  0.01  linreg  0.999996       1.120479\n",
      "1               5000  500           50  0.01     pcr  0.127465  244769.316087\n",
      "..               ...  ...          ...   ...     ...       ...            ...\n",
      "1                250   50           25  0.90     pcr  0.525345    1854.246545\n",
      "2                250   50           25  0.90     pls  0.999632       1.437840\n",
      "0                150   50            5  0.90  linreg  0.999605       1.542472\n",
      "1                150   50            5  0.90     pcr  0.078398    3600.660370\n",
      "2                150   50            5  0.90     pls  0.988424      45.226340\n",
      "\n",
      "[921 rows x 7 columns]\n"
     ]
    },
    {
     "name": "stderr",
     "output_type": "stream",
     "text": [
      " 40%|████      | 2/5 [16:06<20:32, 410.93s/it, N=50, linreg=1, pcr=0.432, pls=1, rho=0.9] "
     ]
    },
    {
     "name": "stdout",
     "output_type": "stream",
     "text": [
      "   train_sample_size    N n_components   rho   model        R2            MSE\n",
      "0               5000  500            5  0.01  linreg  0.999996       1.120479\n",
      "1               5000  500            5  0.01     pcr  0.008567  278123.542607\n",
      "2               5000  500            5  0.01     pls  0.999916      23.445148\n",
      "0               5000  500           50  0.01  linreg  0.999996       1.120479\n",
      "1               5000  500           50  0.01     pcr  0.127465  244769.316087\n",
      "..               ...  ...          ...   ...     ...       ...            ...\n",
      "1                150   50            5  0.90     pcr  0.078398    3600.660370\n",
      "2                150   50            5  0.90     pls  0.988424      45.226340\n",
      "0                150   50           12  0.90  linreg  0.999605       1.542472\n",
      "1                150   50           12  0.90     pcr  0.095625    3533.356817\n",
      "2                150   50           12  0.90     pls  0.999589       1.603976\n",
      "\n",
      "[924 rows x 7 columns]\n"
     ]
    },
    {
     "name": "stderr",
     "output_type": "stream",
     "text": [
      " 40%|████      | 2/5 [16:06<20:32, 410.93s/it, N=50, linreg=0.999, pcr=0.0555, pls=0.989, rho=0.9]"
     ]
    },
    {
     "name": "stdout",
     "output_type": "stream",
     "text": [
      "   train_sample_size    N n_components   rho   model        R2            MSE\n",
      "0               5000  500            5  0.01  linreg  0.999996       1.120479\n",
      "1               5000  500            5  0.01     pcr  0.008567  278123.542607\n",
      "2               5000  500            5  0.01     pls  0.999916      23.445148\n",
      "0               5000  500           50  0.01  linreg  0.999996       1.120479\n",
      "1               5000  500           50  0.01     pcr  0.127465  244769.316087\n",
      "..               ...  ...          ...   ...     ...       ...            ...\n",
      "1                150   50           12  0.90     pcr  0.095625    3533.356817\n",
      "2                150   50           12  0.90     pls  0.999589       1.603976\n",
      "0                150   50           25  0.90  linreg  0.999605       1.542472\n",
      "1                150   50           25  0.90     pcr  0.432096    2218.778676\n",
      "2                150   50           25  0.90     pls  0.999605       1.542474\n",
      "\n",
      "[927 rows x 7 columns]\n"
     ]
    },
    {
     "name": "stderr",
     "output_type": "stream",
     "text": [
      " 40%|████      | 2/5 [16:07<20:32, 410.93s/it, N=50, linreg=0.999, pcr=0.11, pls=0.999, rho=0.9]  "
     ]
    },
    {
     "name": "stdout",
     "output_type": "stream",
     "text": [
      "   train_sample_size    N n_components   rho   model        R2            MSE\n",
      "0               5000  500            5  0.01  linreg  0.999996       1.120479\n",
      "1               5000  500            5  0.01     pcr  0.008567  278123.542607\n",
      "2               5000  500            5  0.01     pls  0.999916      23.445148\n",
      "0               5000  500           50  0.01  linreg  0.999996       1.120479\n",
      "1               5000  500           50  0.01     pcr  0.127465  244769.316087\n",
      "..               ...  ...          ...   ...     ...       ...            ...\n",
      "1                150   50           25  0.90     pcr  0.432096    2218.778676\n",
      "2                150   50           25  0.90     pls  0.999605       1.542474\n",
      "0                100   50            5  0.90  linreg  0.999448       2.155459\n",
      "1                100   50            5  0.90     pcr  0.055492    3690.049120\n",
      "2                100   50            5  0.90     pls  0.989409      41.377665\n",
      "\n",
      "[930 rows x 7 columns]\n"
     ]
    },
    {
     "name": "stderr",
     "output_type": "stream",
     "text": [
      " 40%|████      | 2/5 [16:07<20:32, 410.93s/it, N=50, linreg=0.999, pcr=0.473, pls=0.999, rho=0.9]"
     ]
    },
    {
     "name": "stdout",
     "output_type": "stream",
     "text": [
      "   train_sample_size    N n_components   rho   model        R2            MSE\n",
      "0               5000  500            5  0.01  linreg  0.999996       1.120479\n",
      "1               5000  500            5  0.01     pcr  0.008567  278123.542607\n",
      "2               5000  500            5  0.01     pls  0.999916      23.445148\n",
      "0               5000  500           50  0.01  linreg  0.999996       1.120479\n",
      "1               5000  500           50  0.01     pcr  0.127465  244769.316087\n",
      "..               ...  ...          ...   ...     ...       ...            ...\n",
      "1                100   50            5  0.90     pcr  0.055492    3690.049120\n",
      "2                100   50            5  0.90     pls  0.989409      41.377665\n",
      "0                100   50           12  0.90  linreg  0.999448       2.155459\n",
      "1                100   50           12  0.90     pcr  0.109837    3477.731200\n",
      "2                100   50           12  0.90     pls  0.999469       2.075385\n",
      "\n",
      "[933 rows x 7 columns]\n"
     ]
    },
    {
     "name": "stderr",
     "output_type": "stream",
     "text": [
      " 40%|████      | 2/5 [16:08<20:32, 410.93s/it, N=50, linreg=0.915, pcr=0.0344, pls=0.805, rho=0.9]"
     ]
    },
    {
     "name": "stdout",
     "output_type": "stream",
     "text": [
      "   train_sample_size    N n_components   rho   model        R2            MSE\n",
      "0               5000  500            5  0.01  linreg  0.999996       1.120479\n",
      "1               5000  500            5  0.01     pcr  0.008567  278123.542607\n",
      "2               5000  500            5  0.01     pls  0.999916      23.445148\n",
      "0               5000  500           50  0.01  linreg  0.999996       1.120479\n",
      "1               5000  500           50  0.01     pcr  0.127465  244769.316087\n",
      "..               ...  ...          ...   ...     ...       ...            ...\n",
      "1                100   50           12  0.90     pcr  0.109837    3477.731200\n",
      "2                100   50           12  0.90     pls  0.999469       2.075385\n",
      "0                100   50           25  0.90  linreg  0.999448       2.155459\n",
      "1                100   50           25  0.90     pcr  0.473344    2057.565217\n",
      "2                100   50           25  0.90     pls  0.999448       2.155948\n",
      "\n",
      "[936 rows x 7 columns]\n"
     ]
    },
    {
     "name": "stderr",
     "output_type": "stream",
     "text": [
      " 40%|████      | 2/5 [16:08<20:32, 410.93s/it, N=50, linreg=0.915, pcr=0.101, pls=0.935, rho=0.9] "
     ]
    },
    {
     "name": "stdout",
     "output_type": "stream",
     "text": [
      "   train_sample_size    N n_components   rho   model        R2            MSE\n",
      "0               5000  500            5  0.01  linreg  0.999996       1.120479\n",
      "1               5000  500            5  0.01     pcr  0.008567  278123.542607\n",
      "2               5000  500            5  0.01     pls  0.999916      23.445148\n",
      "0               5000  500           50  0.01  linreg  0.999996       1.120479\n",
      "1               5000  500           50  0.01     pcr  0.127465  244769.316087\n",
      "..               ...  ...          ...   ...     ...       ...            ...\n",
      "1                100   50           25  0.90     pcr  0.473344    2057.565217\n",
      "2                100   50           25  0.90     pls  0.999448       2.155948\n",
      "0                 50   50            5  0.90  linreg  0.915170     331.373850\n",
      "1                 50   50            5  0.90     pcr  0.034412    3771.896636\n",
      "2                 50   50            5  0.90     pls  0.805209     760.917385\n",
      "\n",
      "[939 rows x 7 columns]\n"
     ]
    },
    {
     "name": "stderr",
     "output_type": "stream",
     "text": [
      " 40%|████      | 2/5 [16:09<20:32, 410.93s/it, N=50, linreg=0.915, pcr=0.46, pls=0.96, rho=0.9]  "
     ]
    },
    {
     "name": "stdout",
     "output_type": "stream",
     "text": [
      "   train_sample_size    N n_components   rho   model        R2            MSE\n",
      "0               5000  500            5  0.01  linreg  0.999996       1.120479\n",
      "1               5000  500            5  0.01     pcr  0.008567  278123.542607\n",
      "2               5000  500            5  0.01     pls  0.999916      23.445148\n",
      "0               5000  500           50  0.01  linreg  0.999996       1.120479\n",
      "1               5000  500           50  0.01     pcr  0.127465  244769.316087\n",
      "..               ...  ...          ...   ...     ...       ...            ...\n",
      "1                 50   50            5  0.90     pcr  0.034412    3771.896636\n",
      "2                 50   50            5  0.90     pls  0.805209     760.917385\n",
      "0                 50   50           12  0.90  linreg  0.915170     331.373850\n",
      "1                 50   50           12  0.90     pcr  0.101173    3511.105149\n",
      "2                 50   50           12  0.90     pls  0.935062     253.667399\n",
      "\n",
      "[942 rows x 7 columns]\n"
     ]
    },
    {
     "name": "stderr",
     "output_type": "stream",
     "text": [
      " 40%|████      | 2/5 [16:10<20:32, 410.93s/it, N=50, linreg=1, pcr=0.969, pls=1, rho=0.99]     "
     ]
    },
    {
     "name": "stdout",
     "output_type": "stream",
     "text": [
      "   train_sample_size    N n_components   rho   model        R2            MSE\n",
      "0               5000  500            5  0.01  linreg  0.999996       1.120479\n",
      "1               5000  500            5  0.01     pcr  0.008567  278123.542607\n",
      "2               5000  500            5  0.01     pls  0.999916      23.445148\n",
      "0               5000  500           50  0.01  linreg  0.999996       1.120479\n",
      "1               5000  500           50  0.01     pcr  0.127465  244769.316087\n",
      "..               ...  ...          ...   ...     ...       ...            ...\n",
      "1                 50   50           12  0.90     pcr  0.101173    3511.105149\n",
      "2                 50   50           12  0.90     pls  0.935062     253.667399\n",
      "0                 50   50           25  0.90  linreg  0.915170     331.373850\n",
      "1                 50   50           25  0.90     pcr  0.460279    2108.320717\n",
      "2                 50   50           25  0.90     pls  0.959967     156.382129\n",
      "\n",
      "[945 rows x 7 columns]\n"
     ]
    },
    {
     "name": "stderr",
     "output_type": "stream",
     "text": [
      " 40%|████      | 2/5 [16:11<20:32, 410.93s/it, N=50, linreg=1, pcr=0.973, pls=1, rho=0.99]"
     ]
    },
    {
     "name": "stdout",
     "output_type": "stream",
     "text": [
      "   train_sample_size    N n_components   rho   model        R2            MSE\n",
      "0               5000  500            5  0.01  linreg  0.999996       1.120479\n",
      "1               5000  500            5  0.01     pcr  0.008567  278123.542607\n",
      "2               5000  500            5  0.01     pls  0.999916      23.445148\n",
      "0               5000  500           50  0.01  linreg  0.999996       1.120479\n",
      "1               5000  500           50  0.01     pcr  0.127465  244769.316087\n",
      "..               ...  ...          ...   ...     ...       ...            ...\n",
      "1                 50   50           25  0.90     pcr  0.460279    2108.320717\n",
      "2                 50   50           25  0.90     pls  0.959967     156.382129\n",
      "0                500   50            5  0.99  linreg  0.999901       1.109422\n",
      "1                500   50            5  0.99     pcr  0.969352     342.508158\n",
      "2                500   50            5  0.99     pls  0.999898       1.145438\n",
      "\n",
      "[948 rows x 7 columns]\n"
     ]
    },
    {
     "name": "stderr",
     "output_type": "stream",
     "text": [
      " 40%|████      | 2/5 [16:11<20:32, 410.93s/it, N=50, linreg=1, pcr=0.982, pls=1, rho=0.99]"
     ]
    },
    {
     "name": "stdout",
     "output_type": "stream",
     "text": [
      "   train_sample_size    N n_components   rho   model        R2            MSE\n",
      "0               5000  500            5  0.01  linreg  0.999996       1.120479\n",
      "1               5000  500            5  0.01     pcr  0.008567  278123.542607\n",
      "2               5000  500            5  0.01     pls  0.999916      23.445148\n",
      "0               5000  500           50  0.01  linreg  0.999996       1.120479\n",
      "1               5000  500           50  0.01     pcr  0.127465  244769.316087\n",
      "..               ...  ...          ...   ...     ...       ...            ...\n",
      "1                500   50            5  0.99     pcr  0.969352     342.508158\n",
      "2                500   50            5  0.99     pls  0.999898       1.145438\n",
      "0                500   50           12  0.99  linreg  0.999901       1.109422\n",
      "1                500   50           12  0.99     pcr  0.972807     303.897372\n",
      "2                500   50           12  0.99     pls  0.999901       1.109420\n",
      "\n",
      "[951 rows x 7 columns]\n"
     ]
    },
    {
     "name": "stderr",
     "output_type": "stream",
     "text": [
      " 40%|████      | 2/5 [16:12<20:32, 410.93s/it, N=50, linreg=1, pcr=0.969, pls=1, rho=0.99]"
     ]
    },
    {
     "name": "stdout",
     "output_type": "stream",
     "text": [
      "   train_sample_size    N n_components   rho   model        R2            MSE\n",
      "0               5000  500            5  0.01  linreg  0.999996       1.120479\n",
      "1               5000  500            5  0.01     pcr  0.008567  278123.542607\n",
      "2               5000  500            5  0.01     pls  0.999916      23.445148\n",
      "0               5000  500           50  0.01  linreg  0.999996       1.120479\n",
      "1               5000  500           50  0.01     pcr  0.127465  244769.316087\n",
      "..               ...  ...          ...   ...     ...       ...            ...\n",
      "1                500   50           12  0.99     pcr  0.972807     303.897372\n",
      "2                500   50           12  0.99     pls  0.999901       1.109420\n",
      "0                500   50           25  0.99  linreg  0.999901       1.109422\n",
      "1                500   50           25  0.99     pcr  0.982489     195.690980\n",
      "2                500   50           25  0.99     pls  0.999901       1.109422\n",
      "\n",
      "[954 rows x 7 columns]\n"
     ]
    },
    {
     "name": "stderr",
     "output_type": "stream",
     "text": [
      " 40%|████      | 2/5 [16:13<20:32, 410.93s/it, N=50, linreg=1, pcr=0.97, pls=1, rho=0.99] "
     ]
    },
    {
     "name": "stdout",
     "output_type": "stream",
     "text": [
      "   train_sample_size    N n_components   rho   model        R2            MSE\n",
      "0               5000  500            5  0.01  linreg  0.999996       1.120479\n",
      "1               5000  500            5  0.01     pcr  0.008567  278123.542607\n",
      "2               5000  500            5  0.01     pls  0.999916      23.445148\n",
      "0               5000  500           50  0.01  linreg  0.999996       1.120479\n",
      "1               5000  500           50  0.01     pcr  0.127465  244769.316087\n",
      "..               ...  ...          ...   ...     ...       ...            ...\n",
      "1                500   50           25  0.99     pcr  0.982489     195.690980\n",
      "2                500   50           25  0.99     pls  0.999901       1.109422\n",
      "0                250   50            5  0.99  linreg  0.999897       1.147801\n",
      "1                250   50            5  0.99     pcr  0.969054     345.810773\n",
      "2                250   50            5  0.99     pls  0.999860       1.566855\n",
      "\n",
      "[957 rows x 7 columns]\n"
     ]
    },
    {
     "name": "stderr",
     "output_type": "stream",
     "text": [
      " 40%|████      | 2/5 [16:14<20:32, 410.93s/it, N=50, linreg=1, pcr=0.984, pls=1, rho=0.99]"
     ]
    },
    {
     "name": "stdout",
     "output_type": "stream",
     "text": [
      "   train_sample_size    N n_components   rho   model        R2            MSE\n",
      "0               5000  500            5  0.01  linreg  0.999996       1.120479\n",
      "1               5000  500            5  0.01     pcr  0.008567  278123.542607\n",
      "2               5000  500            5  0.01     pls  0.999916      23.445148\n",
      "0               5000  500           50  0.01  linreg  0.999996       1.120479\n",
      "1               5000  500           50  0.01     pcr  0.127465  244769.316087\n",
      "..               ...  ...          ...   ...     ...       ...            ...\n",
      "1                250   50            5  0.99     pcr  0.969054     345.810773\n",
      "2                250   50            5  0.99     pls  0.999860       1.566855\n",
      "0                250   50           12  0.99  linreg  0.999897       1.147801\n",
      "1                250   50           12  0.99     pcr  0.970216     332.818805\n",
      "2                250   50           12  0.99     pls  0.999897       1.147799\n",
      "\n",
      "[960 rows x 7 columns]\n"
     ]
    },
    {
     "name": "stderr",
     "output_type": "stream",
     "text": [
      " 40%|████      | 2/5 [16:14<20:32, 410.93s/it, N=50, linreg=1, pcr=0.967, pls=1, rho=0.99]"
     ]
    },
    {
     "name": "stdout",
     "output_type": "stream",
     "text": [
      "   train_sample_size    N n_components   rho   model        R2            MSE\n",
      "0               5000  500            5  0.01  linreg  0.999996       1.120479\n",
      "1               5000  500            5  0.01     pcr  0.008567  278123.542607\n",
      "2               5000  500            5  0.01     pls  0.999916      23.445148\n",
      "0               5000  500           50  0.01  linreg  0.999996       1.120479\n",
      "1               5000  500           50  0.01     pcr  0.127465  244769.316087\n",
      "..               ...  ...          ...   ...     ...       ...            ...\n",
      "1                250   50           12  0.99     pcr  0.970216     332.818805\n",
      "2                250   50           12  0.99     pls  0.999897       1.147799\n",
      "0                250   50           25  0.99  linreg  0.999897       1.147801\n",
      "1                250   50           25  0.99     pcr  0.984271     175.766946\n",
      "2                250   50           25  0.99     pls  0.999897       1.147801\n",
      "\n",
      "[963 rows x 7 columns]\n"
     ]
    },
    {
     "name": "stderr",
     "output_type": "stream",
     "text": [
      " 40%|████      | 2/5 [16:15<20:32, 410.93s/it, N=50, linreg=1, pcr=0.969, pls=1, rho=0.99]"
     ]
    },
    {
     "name": "stdout",
     "output_type": "stream",
     "text": [
      "   train_sample_size    N n_components   rho   model        R2            MSE\n",
      "0               5000  500            5  0.01  linreg  0.999996       1.120479\n",
      "1               5000  500            5  0.01     pcr  0.008567  278123.542607\n",
      "2               5000  500            5  0.01     pls  0.999916      23.445148\n",
      "0               5000  500           50  0.01  linreg  0.999996       1.120479\n",
      "1               5000  500           50  0.01     pcr  0.127465  244769.316087\n",
      "..               ...  ...          ...   ...     ...       ...            ...\n",
      "1                250   50           25  0.99     pcr  0.984271     175.766946\n",
      "2                250   50           25  0.99     pls  0.999897       1.147801\n",
      "0                150   50            5  0.99  linreg  0.999874       1.406788\n",
      "1                150   50            5  0.99     pcr  0.967292     365.500220\n",
      "2                150   50            5  0.99     pls  0.999723       3.094639\n",
      "\n",
      "[966 rows x 7 columns]\n"
     ]
    },
    {
     "name": "stderr",
     "output_type": "stream",
     "text": [
      " 40%|████      | 2/5 [16:15<20:32, 410.93s/it, N=50, linreg=1, pcr=0.985, pls=1, rho=0.99]"
     ]
    },
    {
     "name": "stdout",
     "output_type": "stream",
     "text": [
      "   train_sample_size    N n_components   rho   model        R2            MSE\n",
      "0               5000  500            5  0.01  linreg  0.999996       1.120479\n",
      "1               5000  500            5  0.01     pcr  0.008567  278123.542607\n",
      "2               5000  500            5  0.01     pls  0.999916      23.445148\n",
      "0               5000  500           50  0.01  linreg  0.999996       1.120479\n",
      "1               5000  500           50  0.01     pcr  0.127465  244769.316087\n",
      "..               ...  ...          ...   ...     ...       ...            ...\n",
      "1                150   50            5  0.99     pcr  0.967292     365.500220\n",
      "2                150   50            5  0.99     pls  0.999723       3.094639\n",
      "0                150   50           12  0.99  linreg  0.999874       1.406788\n",
      "1                150   50           12  0.99     pcr  0.969325     342.777319\n",
      "2                150   50           12  0.99     pls  0.999873       1.415048\n",
      "\n",
      "[969 rows x 7 columns]\n"
     ]
    },
    {
     "name": "stderr",
     "output_type": "stream",
     "text": [
      " 40%|████      | 2/5 [16:16<20:32, 410.93s/it, N=50, linreg=1, pcr=0.968, pls=0.999, rho=0.99]"
     ]
    },
    {
     "name": "stdout",
     "output_type": "stream",
     "text": [
      "   train_sample_size    N n_components   rho   model        R2            MSE\n",
      "0               5000  500            5  0.01  linreg  0.999996       1.120479\n",
      "1               5000  500            5  0.01     pcr  0.008567  278123.542607\n",
      "2               5000  500            5  0.01     pls  0.999916      23.445148\n",
      "0               5000  500           50  0.01  linreg  0.999996       1.120479\n",
      "1               5000  500           50  0.01     pcr  0.127465  244769.316087\n",
      "..               ...  ...          ...   ...     ...       ...            ...\n",
      "1                150   50           12  0.99     pcr  0.969325     342.777319\n",
      "2                150   50           12  0.99     pls  0.999873       1.415048\n",
      "0                150   50           25  0.99  linreg  0.999874       1.406788\n",
      "1                150   50           25  0.99     pcr  0.984504     173.164223\n",
      "2                150   50           25  0.99     pls  0.999874       1.406789\n",
      "\n",
      "[972 rows x 7 columns]\n"
     ]
    },
    {
     "name": "stderr",
     "output_type": "stream",
     "text": [
      " 40%|████      | 2/5 [16:16<20:32, 410.93s/it, N=50, linreg=1, pcr=0.971, pls=1, rho=0.99]    "
     ]
    },
    {
     "name": "stdout",
     "output_type": "stream",
     "text": [
      "   train_sample_size    N n_components   rho   model        R2            MSE\n",
      "0               5000  500            5  0.01  linreg  0.999996       1.120479\n",
      "1               5000  500            5  0.01     pcr  0.008567  278123.542607\n",
      "2               5000  500            5  0.01     pls  0.999916      23.445148\n",
      "0               5000  500           50  0.01  linreg  0.999996       1.120479\n",
      "1               5000  500           50  0.01     pcr  0.127465  244769.316087\n",
      "..               ...  ...          ...   ...     ...       ...            ...\n",
      "1                150   50           25  0.99     pcr  0.984504     173.164223\n",
      "2                150   50           25  0.99     pls  0.999874       1.406789\n",
      "0                100   50            5  0.99  linreg  0.999826       1.946522\n",
      "1                100   50            5  0.99     pcr  0.967507     363.036647\n",
      "2                100   50            5  0.99     pls  0.999306       7.757568\n",
      "\n",
      "[975 rows x 7 columns]\n"
     ]
    },
    {
     "name": "stderr",
     "output_type": "stream",
     "text": [
      " 40%|████      | 2/5 [16:16<20:32, 410.93s/it, N=50, linreg=1, pcr=0.982, pls=1, rho=0.99]"
     ]
    },
    {
     "name": "stdout",
     "output_type": "stream",
     "text": [
      "   train_sample_size    N n_components   rho   model        R2            MSE\n",
      "0               5000  500            5  0.01  linreg  0.999996       1.120479\n",
      "1               5000  500            5  0.01     pcr  0.008567  278123.542607\n",
      "2               5000  500            5  0.01     pls  0.999916      23.445148\n",
      "0               5000  500           50  0.01  linreg  0.999996       1.120479\n",
      "1               5000  500           50  0.01     pcr  0.127465  244769.316087\n",
      "..               ...  ...          ...   ...     ...       ...            ...\n",
      "1                100   50            5  0.99     pcr  0.967507     363.036647\n",
      "2                100   50            5  0.99     pls  0.999306       7.757568\n",
      "0                100   50           12  0.99  linreg  0.999826       1.946522\n",
      "1                100   50           12  0.99     pcr  0.970875     325.412007\n",
      "2                100   50           12  0.99     pls  0.999816       2.053308\n",
      "\n",
      "[978 rows x 7 columns]\n"
     ]
    },
    {
     "name": "stderr",
     "output_type": "stream",
     "text": [
      " 40%|████      | 2/5 [16:17<20:32, 410.93s/it, N=50, linreg=0.999, pcr=0.97, pls=0.996, rho=0.99]"
     ]
    },
    {
     "name": "stdout",
     "output_type": "stream",
     "text": [
      "   train_sample_size    N n_components   rho   model        R2            MSE\n",
      "0               5000  500            5  0.01  linreg  0.999996       1.120479\n",
      "1               5000  500            5  0.01     pcr  0.008567  278123.542607\n",
      "2               5000  500            5  0.01     pls  0.999916      23.445148\n",
      "0               5000  500           50  0.01  linreg  0.999996       1.120479\n",
      "1               5000  500           50  0.01     pcr  0.127465  244769.316087\n",
      "..               ...  ...          ...   ...     ...       ...            ...\n",
      "1                100   50           12  0.99     pcr  0.970875     325.412007\n",
      "2                100   50           12  0.99     pls  0.999816       2.053308\n",
      "0                100   50           25  0.99  linreg  0.999826       1.946522\n",
      "1                100   50           25  0.99     pcr  0.981504     206.650972\n",
      "2                100   50           25  0.99     pls  0.999826       1.946853\n",
      "\n",
      "[981 rows x 7 columns]\n"
     ]
    },
    {
     "name": "stderr",
     "output_type": "stream",
     "text": [
      " 40%|████      | 2/5 [16:17<20:32, 410.93s/it, N=50, linreg=0.999, pcr=0.971, pls=0.999, rho=0.99]"
     ]
    },
    {
     "name": "stdout",
     "output_type": "stream",
     "text": [
      "   train_sample_size    N n_components   rho   model        R2            MSE\n",
      "0               5000  500            5  0.01  linreg  0.999996       1.120479\n",
      "1               5000  500            5  0.01     pcr  0.008567  278123.542607\n",
      "2               5000  500            5  0.01     pls  0.999916      23.445148\n",
      "0               5000  500           50  0.01  linreg  0.999996       1.120479\n",
      "1               5000  500           50  0.01     pcr  0.127465  244769.316087\n",
      "..               ...  ...          ...   ...     ...       ...            ...\n",
      "1                100   50           25  0.99     pcr  0.981504     206.650972\n",
      "2                100   50           25  0.99     pls  0.999826       1.946853\n",
      "0                 50   50            5  0.99  linreg  0.999240       8.490187\n",
      "1                 50   50            5  0.99     pcr  0.970051     334.603479\n",
      "2                 50   50            5  0.99     pls  0.996266      41.721452\n",
      "\n",
      "[984 rows x 7 columns]\n"
     ]
    },
    {
     "name": "stderr",
     "output_type": "stream",
     "text": [
      " 60%|██████    | 3/5 [16:18<08:17, 248.92s/it, N=10, linreg=1, pcr=0.203, pls=0.954, rho=0.01]    "
     ]
    },
    {
     "name": "stdout",
     "output_type": "stream",
     "text": [
      "   train_sample_size    N n_components   rho   model        R2            MSE\n",
      "0               5000  500            5  0.01  linreg  0.999996       1.120479\n",
      "1               5000  500            5  0.01     pcr  0.008567  278123.542607\n",
      "2               5000  500            5  0.01     pls  0.999916      23.445148\n",
      "0               5000  500           50  0.01  linreg  0.999996       1.120479\n",
      "1               5000  500           50  0.01     pcr  0.127465  244769.316087\n",
      "..               ...  ...          ...   ...     ...       ...            ...\n",
      "1                 50   50            5  0.99     pcr  0.970051     334.603479\n",
      "2                 50   50            5  0.99     pls  0.996266      41.721452\n",
      "0                 50   50           12  0.99  linreg  0.999240       8.490187\n",
      "1                 50   50           12  0.99     pcr  0.970960     324.442109\n",
      "2                 50   50           12  0.99     pls  0.998950      11.736134\n",
      "\n",
      "[987 rows x 7 columns]\n",
      "   train_sample_size    N n_components   rho   model        R2            MSE\n",
      "0               5000  500            5  0.01  linreg  0.999996       1.120479\n",
      "1               5000  500            5  0.01     pcr  0.008567  278123.542607\n",
      "2               5000  500            5  0.01     pls  0.999916      23.445148\n",
      "0               5000  500           50  0.01  linreg  0.999996       1.120479\n",
      "1               5000  500           50  0.01     pcr  0.127465  244769.316087\n",
      "..               ...  ...          ...   ...     ...       ...            ...\n",
      "1                 50   50           12  0.99     pcr  0.970960     324.442109\n",
      "2                 50   50           12  0.99     pls  0.998950      11.736134\n",
      "0                 50   50           25  0.99  linreg  0.999240       8.490187\n",
      "1                 50   50           25  0.99     pcr  0.977700     249.148742\n",
      "2                 50   50           25  0.99     pls  0.999155       9.435623\n",
      "\n",
      "[990 rows x 7 columns]\n",
      "   train_sample_size    N n_components   rho   model        R2            MSE\n",
      "0               5000  500            5  0.01  linreg  0.999996       1.120479\n",
      "1               5000  500            5  0.01     pcr  0.008567  278123.542607\n",
      "2               5000  500            5  0.01     pls  0.999916      23.445148\n",
      "0               5000  500           50  0.01  linreg  0.999996       1.120479\n",
      "1               5000  500           50  0.01     pcr  0.127465  244769.316087\n",
      "..               ...  ...          ...   ...     ...       ...            ...\n",
      "1                 50   50           25  0.99     pcr  0.977700     249.148742\n",
      "2                 50   50           25  0.99     pls  0.999155       9.435623\n",
      "0                100   10            1  0.01  linreg  0.999768       1.144191\n",
      "1                100   10            1  0.01     pcr  0.038214    4747.146353\n",
      "2                100   10            1  0.01     pls  0.926512     362.717204\n",
      "\n",
      "[993 rows x 7 columns]\n",
      "   train_sample_size    N n_components   rho   model        R2            MSE\n",
      "0               5000  500            5  0.01  linreg  0.999996       1.120479\n",
      "1               5000  500            5  0.01     pcr  0.008567  278123.542607\n",
      "2               5000  500            5  0.01     pls  0.999916      23.445148\n",
      "0               5000  500           50  0.01  linreg  0.999996       1.120479\n",
      "1               5000  500           50  0.01     pcr  0.127465  244769.316087\n",
      "..               ...  ...          ...   ...     ...       ...            ...\n",
      "1                100   10            1  0.01     pcr  0.038214    4747.146353\n",
      "2                100   10            1  0.01     pls  0.926512     362.717204\n",
      "0                100   10            2  0.01  linreg  0.999768       1.144191\n",
      "1                100   10            2  0.01     pcr  0.162088    4135.737359\n",
      "2                100   10            2  0.01     pls  0.993017      34.466691\n",
      "\n",
      "[996 rows x 7 columns]\n",
      "   train_sample_size    N n_components   rho   model        R2            MSE\n",
      "0               5000  500            5  0.01  linreg  0.999996       1.120479\n",
      "1               5000  500            5  0.01     pcr  0.008567  278123.542607\n",
      "2               5000  500            5  0.01     pls  0.999916      23.445148\n",
      "0               5000  500           50  0.01  linreg  0.999996       1.120479\n",
      "1               5000  500           50  0.01     pcr  0.127465  244769.316087\n",
      "..               ...  ...          ...   ...     ...       ...            ...\n",
      "1                100   10            2  0.01     pcr  0.162088    4135.737359\n",
      "2                100   10            2  0.01     pls  0.993017      34.466691\n",
      "0                100   10            5  0.01  linreg  0.999768       1.144191\n",
      "1                100   10            5  0.01     pcr  0.510773    2414.706651\n",
      "2                100   10            5  0.01     pls  0.999767       1.150039\n",
      "\n",
      "[999 rows x 7 columns]\n",
      "   train_sample_size    N n_components   rho   model        R2            MSE\n",
      "0               5000  500            5  0.01  linreg  0.999996       1.120479\n",
      "1               5000  500            5  0.01     pcr  0.008567  278123.542607\n",
      "2               5000  500            5  0.01     pls  0.999916      23.445148\n",
      "0               5000  500           50  0.01  linreg  0.999996       1.120479\n",
      "1               5000  500           50  0.01     pcr  0.127465  244769.316087\n",
      "..               ...  ...          ...   ...     ...       ...            ...\n",
      "1                100   10            5  0.01     pcr  0.510773    2414.706651\n",
      "2                100   10            5  0.01     pls  0.999767       1.150039\n",
      "0                 50   10            1  0.01  linreg  0.999751       1.230450\n",
      "1                 50   10            1  0.01     pcr  0.109805    4393.423403\n",
      "2                 50   10            1  0.01     pls  0.786816    1052.137980\n",
      "\n",
      "[1002 rows x 7 columns]\n"
     ]
    },
    {
     "name": "stderr",
     "output_type": "stream",
     "text": [
      " 60%|██████    | 3/5 [16:18<08:17, 248.92s/it, N=10, linreg=1, pcr=0.34, pls=0.798, rho=0.01] "
     ]
    },
    {
     "name": "stdout",
     "output_type": "stream",
     "text": [
      "   train_sample_size    N n_components   rho   model        R2            MSE\n",
      "0               5000  500            5  0.01  linreg  0.999996       1.120479\n",
      "1               5000  500            5  0.01     pcr  0.008567  278123.542607\n",
      "2               5000  500            5  0.01     pls  0.999916      23.445148\n",
      "0               5000  500           50  0.01  linreg  0.999996       1.120479\n",
      "1               5000  500           50  0.01     pcr  0.127465  244769.316087\n",
      "..               ...  ...          ...   ...     ...       ...            ...\n",
      "1                 50   10            1  0.01     pcr  0.109805    4393.423403\n",
      "2                 50   10            1  0.01     pls  0.786816    1052.137980\n",
      "0                 50   10            2  0.01  linreg  0.999751       1.230450\n",
      "1                 50   10            2  0.01     pcr  0.202624    3935.328253\n",
      "2                 50   10            2  0.01     pls  0.953694     228.537643\n",
      "\n",
      "[1005 rows x 7 columns]\n",
      "   train_sample_size    N n_components   rho   model        R2            MSE\n",
      "0               5000  500            5  0.01  linreg  0.999996       1.120479\n",
      "1               5000  500            5  0.01     pcr  0.008567  278123.542607\n",
      "2               5000  500            5  0.01     pls  0.999916      23.445148\n",
      "0               5000  500           50  0.01  linreg  0.999996       1.120479\n",
      "1               5000  500           50  0.01     pcr  0.127465  244769.316087\n",
      "..               ...  ...          ...   ...     ...       ...            ...\n",
      "1                 50   10            2  0.01     pcr  0.202624    3935.328253\n",
      "2                 50   10            2  0.01     pls  0.953694     228.537643\n",
      "0                 50   10            5  0.01  linreg  0.999751       1.230450\n",
      "1                 50   10            5  0.01     pcr  0.574611    2099.441047\n",
      "2                 50   10            5  0.01     pls  0.999756       1.205922\n",
      "\n",
      "[1008 rows x 7 columns]\n",
      "   train_sample_size    N n_components   rho   model        R2            MSE\n",
      "0               5000  500            5  0.01  linreg  0.999996       1.120479\n",
      "1               5000  500            5  0.01     pcr  0.008567  278123.542607\n",
      "2               5000  500            5  0.01     pls  0.999916      23.445148\n",
      "0               5000  500           50  0.01  linreg  0.999996       1.120479\n",
      "1               5000  500           50  0.01     pcr  0.127465  244769.316087\n",
      "..               ...  ...          ...   ...     ...       ...            ...\n",
      "1                 50   10            5  0.01     pcr  0.574611    2099.441047\n",
      "2                 50   10            5  0.01     pls  0.999756       1.205922\n",
      "0                 30   10            1  0.01  linreg  0.999682       1.570499\n",
      "1                 30   10            1  0.01     pcr  0.244090    3730.320595\n",
      "2                 30   10            1  0.01     pls  0.702929    1466.009515\n",
      "\n",
      "[1011 rows x 7 columns]\n",
      "   train_sample_size    N n_components   rho   model        R2            MSE\n",
      "0               5000  500            5  0.01  linreg  0.999996       1.120479\n",
      "1               5000  500            5  0.01     pcr  0.008567  278123.542607\n",
      "2               5000  500            5  0.01     pls  0.999916      23.445148\n",
      "0               5000  500           50  0.01  linreg  0.999996       1.120479\n",
      "1               5000  500           50  0.01     pcr  0.127465  244769.316087\n",
      "..               ...  ...          ...   ...     ...       ...            ...\n",
      "1                 30   10            1  0.01     pcr  0.244090    3730.320595\n",
      "2                 30   10            1  0.01     pls  0.702929    1466.009515\n",
      "0                 30   10            2  0.01  linreg  0.999682       1.570499\n",
      "1                 30   10            2  0.01     pcr  0.288879    3509.295138\n",
      "2                 30   10            2  0.01     pls  0.888073     552.345485\n",
      "\n",
      "[1014 rows x 7 columns]\n",
      "   train_sample_size    N n_components   rho   model        R2            MSE\n",
      "0               5000  500            5  0.01  linreg  0.999996       1.120479\n",
      "1               5000  500            5  0.01     pcr  0.008567  278123.542607\n",
      "2               5000  500            5  0.01     pls  0.999916      23.445148\n",
      "0               5000  500           50  0.01  linreg  0.999996       1.120479\n",
      "1               5000  500           50  0.01     pcr  0.127465  244769.316087\n",
      "..               ...  ...          ...   ...     ...       ...            ...\n",
      "1                 30   10            2  0.01     pcr  0.288879    3509.295138\n",
      "2                 30   10            2  0.01     pls  0.888073     552.345485\n",
      "0                 30   10            5  0.01  linreg  0.999682       1.570499\n",
      "1                 30   10            5  0.01     pcr  0.708140    1440.291827\n",
      "2                 30   10            5  0.01     pls  0.998484       7.479899\n",
      "\n",
      "[1017 rows x 7 columns]\n",
      "   train_sample_size    N n_components   rho   model        R2            MSE\n",
      "0               5000  500            5  0.01  linreg  0.999996       1.120479\n",
      "1               5000  500            5  0.01     pcr  0.008567  278123.542607\n",
      "2               5000  500            5  0.01     pls  0.999916      23.445148\n",
      "0               5000  500           50  0.01  linreg  0.999996       1.120479\n",
      "1               5000  500           50  0.01     pcr  0.127465  244769.316087\n",
      "..               ...  ...          ...   ...     ...       ...            ...\n",
      "1                 30   10            5  0.01     pcr  0.708140    1440.291827\n",
      "2                 30   10            5  0.01     pls  0.998484       7.479899\n",
      "0                 20   10            1  0.01  linreg  0.999694       1.512528\n",
      "1                 20   10            1  0.01     pcr  0.331413    3299.443774\n",
      "2                 20   10            1  0.01     pls  0.574521    2099.718588\n",
      "\n",
      "[1020 rows x 7 columns]\n",
      "   train_sample_size    N n_components   rho   model        R2            MSE\n",
      "0               5000  500            5  0.01  linreg  0.999996       1.120479\n",
      "1               5000  500            5  0.01     pcr  0.008567  278123.542607\n",
      "2               5000  500            5  0.01     pls  0.999916      23.445148\n",
      "0               5000  500           50  0.01  linreg  0.999996       1.120479\n",
      "1               5000  500           50  0.01     pcr  0.127465  244769.316087\n",
      "..               ...  ...          ...   ...     ...       ...            ...\n",
      "1                 20   10            1  0.01     pcr  0.331413    3299.443774\n",
      "2                 20   10            1  0.01     pls  0.574521    2099.718588\n",
      "0                 20   10            2  0.01  linreg  0.999694       1.512528\n",
      "1                 20   10            2  0.01     pcr  0.340107    3256.538869\n",
      "2                 20   10            2  0.01     pls  0.797768     998.006045\n",
      "\n",
      "[1023 rows x 7 columns]\n"
     ]
    },
    {
     "name": "stderr",
     "output_type": "stream",
     "text": [
      " 60%|██████    | 3/5 [16:18<08:17, 248.92s/it, N=10, linreg=1, pcr=0.0763, pls=0.995, rho=0.1]    "
     ]
    },
    {
     "name": "stdout",
     "output_type": "stream",
     "text": [
      "   train_sample_size    N n_components   rho   model        R2            MSE\n",
      "0               5000  500            5  0.01  linreg  0.999996       1.120479\n",
      "1               5000  500            5  0.01     pcr  0.008567  278123.542607\n",
      "2               5000  500            5  0.01     pls  0.999916      23.445148\n",
      "0               5000  500           50  0.01  linreg  0.999996       1.120479\n",
      "1               5000  500           50  0.01     pcr  0.127465  244769.316087\n",
      "..               ...  ...          ...   ...     ...       ...            ...\n",
      "1                 20   10            2  0.01     pcr  0.340107    3256.538869\n",
      "2                 20   10            2  0.01     pls  0.797768     998.006045\n",
      "0                 20   10            5  0.01  linreg  0.999694       1.512528\n",
      "1                 20   10            5  0.01     pcr  0.678609    1586.048643\n",
      "2                 20   10            5  0.01     pls  0.983315      82.341634\n",
      "\n",
      "[1026 rows x 7 columns]\n",
      "   train_sample_size    N n_components   rho   model        R2            MSE\n",
      "0               5000  500            5  0.01  linreg  0.999996       1.120479\n",
      "1               5000  500            5  0.01     pcr  0.008567  278123.542607\n",
      "2               5000  500            5  0.01     pls  0.999916      23.445148\n",
      "0               5000  500           50  0.01  linreg  0.999996       1.120479\n",
      "1               5000  500           50  0.01     pcr  0.127465  244769.316087\n",
      "..               ...  ...          ...   ...     ...       ...            ...\n",
      "1                 20   10            5  0.01     pcr  0.678609    1586.048643\n",
      "2                 20   10            5  0.01     pls  0.983315      82.341634\n",
      "0                 10   10            1  0.01  linreg  0.972034     138.009113\n",
      "1                 10   10            1  0.01     pcr  0.543764    2251.509083\n",
      "2                 10   10            1  0.01     pls  0.290602    3500.856661\n",
      "\n",
      "[1029 rows x 7 columns]\n",
      "   train_sample_size    N n_components   rho   model        R2            MSE\n",
      "0               5000  500            5  0.01  linreg  0.999996       1.120479\n",
      "1               5000  500            5  0.01     pcr  0.008567  278123.542607\n",
      "2               5000  500            5  0.01     pls  0.999916      23.445148\n",
      "0               5000  500           50  0.01  linreg  0.999996       1.120479\n",
      "1               5000  500           50  0.01     pcr  0.127465  244769.316087\n",
      "..               ...  ...          ...   ...     ...       ...            ...\n",
      "1                 10   10            1  0.01     pcr  0.543764    2251.509083\n",
      "2                 10   10            1  0.01     pls  0.290602    3500.856661\n",
      "0                 10   10            2  0.01  linreg  0.972034     138.009113\n",
      "1                 10   10            2  0.01     pcr  0.554117    2200.419806\n",
      "2                 10   10            2  0.01     pls  0.324632    3332.921600\n",
      "\n",
      "[1032 rows x 7 columns]\n",
      "   train_sample_size    N n_components   rho   model        R2            MSE\n",
      "0               5000  500            5  0.01  linreg  0.999996       1.120479\n",
      "1               5000  500            5  0.01     pcr  0.008567  278123.542607\n",
      "2               5000  500            5  0.01     pls  0.999916      23.445148\n",
      "0               5000  500           50  0.01  linreg  0.999996       1.120479\n",
      "1               5000  500           50  0.01     pcr  0.127465  244769.316087\n",
      "..               ...  ...          ...   ...     ...       ...            ...\n",
      "1                 10   10            2  0.01     pcr  0.554117    2200.419806\n",
      "2                 10   10            2  0.01     pls  0.324632    3332.921600\n",
      "0                 10   10            5  0.01  linreg  0.972034     138.009113\n",
      "1                 10   10            5  0.01     pcr  0.608251    1933.268956\n",
      "2                 10   10            5  0.01     pls  0.563172    2155.731489\n",
      "\n",
      "[1035 rows x 7 columns]\n",
      "   train_sample_size    N n_components   rho   model        R2            MSE\n",
      "0               5000  500            5  0.01  linreg  0.999996       1.120479\n",
      "1               5000  500            5  0.01     pcr  0.008567  278123.542607\n",
      "2               5000  500            5  0.01     pls  0.999916      23.445148\n",
      "0               5000  500           50  0.01  linreg  0.999996       1.120479\n",
      "1               5000  500           50  0.01     pcr  0.127465  244769.316087\n",
      "..               ...  ...          ...   ...     ...       ...            ...\n",
      "1                 10   10            5  0.01     pcr  0.608251    1933.268956\n",
      "2                 10   10            5  0.01     pls  0.563172    2155.731489\n",
      "0                100   10            1  0.10  linreg  0.999822       1.025230\n",
      "1                100   10            1  0.10     pcr -0.003873    5785.585375\n",
      "2                100   10            1  0.10     pls  0.919021     466.702515\n",
      "\n",
      "[1038 rows x 7 columns]\n",
      "   train_sample_size    N n_components   rho   model        R2            MSE\n",
      "0               5000  500            5  0.01  linreg  0.999996       1.120479\n",
      "1               5000  500            5  0.01     pcr  0.008567  278123.542607\n",
      "2               5000  500            5  0.01     pls  0.999916      23.445148\n",
      "0               5000  500           50  0.01  linreg  0.999996       1.120479\n",
      "1               5000  500           50  0.01     pcr  0.127465  244769.316087\n",
      "..               ...  ...          ...   ...     ...       ...            ...\n",
      "1                100   10            1  0.10     pcr -0.003873    5785.585375\n",
      "2                100   10            1  0.10     pls  0.919021     466.702515\n",
      "0                100   10            2  0.10  linreg  0.999822       1.025230\n",
      "1                100   10            2  0.10     pcr  0.076272    5323.686147\n",
      "2                100   10            2  0.10     pls  0.994664      30.752887\n",
      "\n",
      "[1041 rows x 7 columns]\n"
     ]
    },
    {
     "name": "stderr",
     "output_type": "stream",
     "text": [
      " 60%|██████    | 3/5 [16:19<08:17, 248.92s/it, N=10, linreg=1, pcr=0.119, pls=0.633, rho=0.1]  "
     ]
    },
    {
     "name": "stdout",
     "output_type": "stream",
     "text": [
      "   train_sample_size    N n_components   rho   model        R2            MSE\n",
      "0               5000  500            5  0.01  linreg  0.999996       1.120479\n",
      "1               5000  500            5  0.01     pcr  0.008567  278123.542607\n",
      "2               5000  500            5  0.01     pls  0.999916      23.445148\n",
      "0               5000  500           50  0.01  linreg  0.999996       1.120479\n",
      "1               5000  500           50  0.01     pcr  0.127465  244769.316087\n",
      "..               ...  ...          ...   ...     ...       ...            ...\n",
      "1                100   10            2  0.10     pcr  0.076272    5323.686147\n",
      "2                100   10            2  0.10     pls  0.994664      30.752887\n",
      "0                100   10            5  0.10  linreg  0.999822       1.025230\n",
      "1                100   10            5  0.10     pcr  0.132998    4996.759467\n",
      "2                100   10            5  0.10     pls  0.999822       1.027539\n",
      "\n",
      "[1044 rows x 7 columns]\n",
      "   train_sample_size    N n_components   rho   model        R2            MSE\n",
      "0               5000  500            5  0.01  linreg  0.999996       1.120479\n",
      "1               5000  500            5  0.01     pcr  0.008567  278123.542607\n",
      "2               5000  500            5  0.01     pls  0.999916      23.445148\n",
      "0               5000  500           50  0.01  linreg  0.999996       1.120479\n",
      "1               5000  500           50  0.01     pcr  0.127465  244769.316087\n",
      "..               ...  ...          ...   ...     ...       ...            ...\n",
      "1                100   10            5  0.10     pcr  0.132998    4996.759467\n",
      "2                100   10            5  0.10     pls  0.999822       1.027539\n",
      "0                 50   10            1  0.10  linreg  0.999803       1.136216\n",
      "1                 50   10            1  0.10     pcr -0.008545    5811.967930\n",
      "2                 50   10            1  0.10     pls  0.779237    1272.196363\n",
      "\n",
      "[1047 rows x 7 columns]\n",
      "   train_sample_size    N n_components   rho   model        R2            MSE\n",
      "0               5000  500            5  0.01  linreg  0.999996       1.120479\n",
      "1               5000  500            5  0.01     pcr  0.008567  278123.542607\n",
      "2               5000  500            5  0.01     pls  0.999916      23.445148\n",
      "0               5000  500           50  0.01  linreg  0.999996       1.120479\n",
      "1               5000  500           50  0.01     pcr  0.127465  244769.316087\n",
      "..               ...  ...          ...   ...     ...       ...            ...\n",
      "1                 50   10            1  0.10     pcr -0.008545    5811.967930\n",
      "2                 50   10            1  0.10     pls  0.779237    1272.196363\n",
      "0                 50   10            2  0.10  linreg  0.999803       1.136216\n",
      "1                 50   10            2  0.10     pcr  0.053231    5455.972957\n",
      "2                 50   10            2  0.10     pls  0.928556     411.713004\n",
      "\n",
      "[1050 rows x 7 columns]\n",
      "   train_sample_size    N n_components   rho   model        R2            MSE\n",
      "0               5000  500            5  0.01  linreg  0.999996       1.120479\n",
      "1               5000  500            5  0.01     pcr  0.008567  278123.542607\n",
      "2               5000  500            5  0.01     pls  0.999916      23.445148\n",
      "0               5000  500           50  0.01  linreg  0.999996       1.120479\n",
      "1               5000  500           50  0.01     pcr  0.127465  244769.316087\n",
      "..               ...  ...          ...   ...     ...       ...            ...\n",
      "1                 50   10            2  0.10     pcr  0.053231    5455.972957\n",
      "2                 50   10            2  0.10     pls  0.928556     411.713004\n",
      "0                 50   10            5  0.10  linreg  0.999803       1.136216\n",
      "1                 50   10            5  0.10     pcr  0.239337    4383.491759\n",
      "2                 50   10            5  0.10     pls  0.999646       2.042060\n",
      "\n",
      "[1053 rows x 7 columns]\n",
      "   train_sample_size    N n_components   rho   model        R2            MSE\n",
      "0               5000  500            5  0.01  linreg  0.999996       1.120479\n",
      "1               5000  500            5  0.01     pcr  0.008567  278123.542607\n",
      "2               5000  500            5  0.01     pls  0.999916      23.445148\n",
      "0               5000  500           50  0.01  linreg  0.999996       1.120479\n",
      "1               5000  500           50  0.01     pcr  0.127465  244769.316087\n",
      "..               ...  ...          ...   ...     ...       ...            ...\n",
      "1                 50   10            5  0.10     pcr  0.239337    4383.491759\n",
      "2                 50   10            5  0.10     pls  0.999646       2.042060\n",
      "0                 30   10            1  0.10  linreg  0.999750       1.440128\n",
      "1                 30   10            1  0.10     pcr  0.024573    5621.048049\n",
      "2                 30   10            1  0.10     pls  0.628287    2142.054181\n",
      "\n",
      "[1056 rows x 7 columns]\n",
      "   train_sample_size    N n_components   rho   model        R2            MSE\n",
      "0               5000  500            5  0.01  linreg  0.999996       1.120479\n",
      "1               5000  500            5  0.01     pcr  0.008567  278123.542607\n",
      "2               5000  500            5  0.01     pls  0.999916      23.445148\n",
      "0               5000  500           50  0.01  linreg  0.999996       1.120479\n",
      "1               5000  500           50  0.01     pcr  0.127465  244769.316087\n",
      "..               ...  ...          ...   ...     ...       ...            ...\n",
      "1                 30   10            1  0.10     pcr  0.024573    5621.048049\n",
      "2                 30   10            1  0.10     pls  0.628287    2142.054181\n",
      "0                 30   10            2  0.10  linreg  0.999750       1.440128\n",
      "1                 30   10            2  0.10     pcr  0.098370    5195.780254\n",
      "2                 30   10            2  0.10     pls  0.908792     525.600773\n",
      "\n",
      "[1059 rows x 7 columns]\n",
      "   train_sample_size    N n_components   rho   model        R2            MSE\n",
      "0               5000  500            5  0.01  linreg  0.999996       1.120479\n",
      "1               5000  500            5  0.01     pcr  0.008567  278123.542607\n",
      "2               5000  500            5  0.01     pls  0.999916      23.445148\n",
      "0               5000  500           50  0.01  linreg  0.999996       1.120479\n",
      "1               5000  500           50  0.01     pcr  0.127465  244769.316087\n",
      "..               ...  ...          ...   ...     ...       ...            ...\n",
      "1                 30   10            2  0.10     pcr  0.098370    5195.780254\n",
      "2                 30   10            2  0.10     pls  0.908792     525.600773\n",
      "0                 30   10            5  0.10  linreg  0.999750       1.440128\n",
      "1                 30   10            5  0.10     pcr  0.404008    3434.496109\n",
      "2                 30   10            5  0.10     pls  0.999413       3.380557\n",
      "\n",
      "[1062 rows x 7 columns]\n"
     ]
    },
    {
     "name": "stderr",
     "output_type": "stream",
     "text": [
      " 60%|██████    | 3/5 [16:19<08:17, 248.92s/it, N=10, linreg=0.968, pcr=0.599, pls=0.64, rho=0.1]  "
     ]
    },
    {
     "name": "stdout",
     "output_type": "stream",
     "text": [
      "   train_sample_size    N n_components   rho   model        R2            MSE\n",
      "0               5000  500            5  0.01  linreg  0.999996       1.120479\n",
      "1               5000  500            5  0.01     pcr  0.008567  278123.542607\n",
      "2               5000  500            5  0.01     pls  0.999916      23.445148\n",
      "0               5000  500           50  0.01  linreg  0.999996       1.120479\n",
      "1               5000  500           50  0.01     pcr  0.127465  244769.316087\n",
      "..               ...  ...          ...   ...     ...       ...            ...\n",
      "1                 30   10            5  0.10     pcr  0.404008    3434.496109\n",
      "2                 30   10            5  0.10     pls  0.999413       3.380557\n",
      "0                 20   10            1  0.10  linreg  0.999730       1.557520\n",
      "1                 20   10            1  0.10     pcr  0.118577    5079.200189\n",
      "2                 20   10            1  0.10     pls  0.632906    2115.379459\n",
      "\n",
      "[1065 rows x 7 columns]\n",
      "   train_sample_size    N n_components   rho   model        R2            MSE\n",
      "0               5000  500            5  0.01  linreg  0.999996       1.120479\n",
      "1               5000  500            5  0.01     pcr  0.008567  278123.542607\n",
      "2               5000  500            5  0.01     pls  0.999916      23.445148\n",
      "0               5000  500           50  0.01  linreg  0.999996       1.120479\n",
      "1               5000  500           50  0.01     pcr  0.127465  244769.316087\n",
      "..               ...  ...          ...   ...     ...       ...            ...\n",
      "1                 20   10            1  0.10     pcr  0.118577    5079.200189\n",
      "2                 20   10            1  0.10     pls  0.632906    2115.379459\n",
      "0                 20   10            2  0.10  linreg  0.999730       1.557520\n",
      "1                 20   10            2  0.10     pcr  0.115568    5096.544273\n",
      "2                 20   10            2  0.10     pls  0.768424    1334.459998\n",
      "\n",
      "[1068 rows x 7 columns]\n",
      "   train_sample_size    N n_components   rho   model        R2            MSE\n",
      "0               5000  500            5  0.01  linreg  0.999996       1.120479\n",
      "1               5000  500            5  0.01     pcr  0.008567  278123.542607\n",
      "2               5000  500            5  0.01     pls  0.999916      23.445148\n",
      "0               5000  500           50  0.01  linreg  0.999996       1.120479\n",
      "1               5000  500           50  0.01     pcr  0.127465  244769.316087\n",
      "..               ...  ...          ...   ...     ...       ...            ...\n",
      "1                 20   10            2  0.10     pcr  0.115568    5096.544273\n",
      "2                 20   10            2  0.10     pls  0.768424    1334.459998\n",
      "0                 20   10            5  0.10  linreg  0.999730       1.557520\n",
      "1                 20   10            5  0.10     pcr  0.587469    2377.212657\n",
      "2                 20   10            5  0.10     pls  0.998365       9.423684\n",
      "\n",
      "[1071 rows x 7 columns]\n",
      "   train_sample_size    N n_components   rho   model        R2            MSE\n",
      "0               5000  500            5  0.01  linreg  0.999996       1.120479\n",
      "1               5000  500            5  0.01     pcr  0.008567  278123.542607\n",
      "2               5000  500            5  0.01     pls  0.999916      23.445148\n",
      "0               5000  500           50  0.01  linreg  0.999996       1.120479\n",
      "1               5000  500           50  0.01     pcr  0.127465  244769.316087\n",
      "..               ...  ...          ...   ...     ...       ...            ...\n",
      "1                 20   10            5  0.10     pcr  0.587469    2377.212657\n",
      "2                 20   10            5  0.10     pls  0.998365       9.423684\n",
      "0                 10   10            1  0.10  linreg  0.967818     185.441818\n",
      "1                 10   10            1  0.10     pcr  0.022541    5632.436681\n",
      "2                 10   10            1  0.10     pls  0.496245    2902.800813\n",
      "\n",
      "[1074 rows x 7 columns]\n",
      "   train_sample_size    N n_components   rho   model        R2            MSE\n",
      "0               5000  500            5  0.01  linreg  0.999996       1.120479\n",
      "1               5000  500            5  0.01     pcr  0.008567  278123.542607\n",
      "2               5000  500            5  0.01     pls  0.999916      23.445148\n",
      "0               5000  500           50  0.01  linreg  0.999996       1.120479\n",
      "1               5000  500           50  0.01     pcr  0.127465  244769.316087\n",
      "..               ...  ...          ...   ...     ...       ...            ...\n",
      "1                 10   10            1  0.10     pcr  0.022541    5632.436681\n",
      "2                 10   10            1  0.10     pls  0.496245    2902.800813\n",
      "0                 10   10            2  0.10  linreg  0.967818     185.441818\n",
      "1                 10   10            2  0.10     pcr  0.042663    5516.489184\n",
      "2                 10   10            2  0.10     pls  0.523275    2747.044946\n",
      "\n",
      "[1077 rows x 7 columns]\n",
      "   train_sample_size    N n_components   rho   model        R2            MSE\n",
      "0               5000  500            5  0.01  linreg  0.999996       1.120479\n",
      "1               5000  500            5  0.01     pcr  0.008567  278123.542607\n",
      "2               5000  500            5  0.01     pls  0.999916      23.445148\n",
      "0               5000  500           50  0.01  linreg  0.999996       1.120479\n",
      "1               5000  500           50  0.01     pcr  0.127465  244769.316087\n",
      "..               ...  ...          ...   ...     ...       ...            ...\n",
      "1                 10   10            2  0.10     pcr  0.042663    5516.489184\n",
      "2                 10   10            2  0.10     pls  0.523275    2747.044946\n",
      "0                 10   10            5  0.10  linreg  0.967818     185.441818\n",
      "1                 10   10            5  0.10     pcr  0.598693    2312.464056\n",
      "2                 10   10            5  0.10     pls  0.640019    2074.329023\n",
      "\n",
      "[1080 rows x 7 columns]\n"
     ]
    },
    {
     "name": "stderr",
     "output_type": "stream",
     "text": [
      " 60%|██████    | 3/5 [16:19<08:17, 248.92s/it, N=10, linreg=1, pcr=0.234, pls=0.895, rho=0.2]   "
     ]
    },
    {
     "name": "stdout",
     "output_type": "stream",
     "text": [
      "   train_sample_size    N n_components   rho   model        R2            MSE\n",
      "0               5000  500            5  0.01  linreg  0.999996       1.120479\n",
      "1               5000  500            5  0.01     pcr  0.008567  278123.542607\n",
      "2               5000  500            5  0.01     pls  0.999916      23.445148\n",
      "0               5000  500           50  0.01  linreg  0.999996       1.120479\n",
      "1               5000  500           50  0.01     pcr  0.127465  244769.316087\n",
      "..               ...  ...          ...   ...     ...       ...            ...\n",
      "1                 10   10            5  0.10     pcr  0.598693    2312.464056\n",
      "2                 10   10            5  0.10     pls  0.640019    2074.329023\n",
      "0                100   10            1  0.20  linreg  0.999840       1.135927\n",
      "1                100   10            1  0.20     pcr -0.048211    7455.700782\n",
      "2                100   10            1  0.20     pls  0.876485     878.539134\n",
      "\n",
      "[1083 rows x 7 columns]\n",
      "   train_sample_size    N n_components   rho   model        R2            MSE\n",
      "0               5000  500            5  0.01  linreg  0.999996       1.120479\n",
      "1               5000  500            5  0.01     pcr  0.008567  278123.542607\n",
      "2               5000  500            5  0.01     pls  0.999916      23.445148\n",
      "0               5000  500           50  0.01  linreg  0.999996       1.120479\n",
      "1               5000  500           50  0.01     pcr  0.127465  244769.316087\n",
      "..               ...  ...          ...   ...     ...       ...            ...\n",
      "1                100   10            1  0.20     pcr -0.048211    7455.700782\n",
      "2                100   10            1  0.20     pls  0.876485     878.539134\n",
      "0                100   10            2  0.20  linreg  0.999840       1.135927\n",
      "1                100   10            2  0.20     pcr  0.279700    5123.339389\n",
      "2                100   10            2  0.20     pls  0.975717     172.717356\n",
      "\n",
      "[1086 rows x 7 columns]\n",
      "   train_sample_size    N n_components   rho   model        R2            MSE\n",
      "0               5000  500            5  0.01  linreg  0.999996       1.120479\n",
      "1               5000  500            5  0.01     pcr  0.008567  278123.542607\n",
      "2               5000  500            5  0.01     pls  0.999916      23.445148\n",
      "0               5000  500           50  0.01  linreg  0.999996       1.120479\n",
      "1               5000  500           50  0.01     pcr  0.127465  244769.316087\n",
      "..               ...  ...          ...   ...     ...       ...            ...\n",
      "1                100   10            2  0.20     pcr  0.279700    5123.339389\n",
      "2                100   10            2  0.20     pls  0.975717     172.717356\n",
      "0                100   10            5  0.20  linreg  0.999840       1.135927\n",
      "1                100   10            5  0.20     pcr  0.448285    3924.230900\n",
      "2                100   10            5  0.20     pls  0.999820       1.277318\n",
      "\n",
      "[1089 rows x 7 columns]\n",
      "   train_sample_size    N n_components   rho   model        R2            MSE\n",
      "0               5000  500            5  0.01  linreg  0.999996       1.120479\n",
      "1               5000  500            5  0.01     pcr  0.008567  278123.542607\n",
      "2               5000  500            5  0.01     pls  0.999916      23.445148\n",
      "0               5000  500           50  0.01  linreg  0.999996       1.120479\n",
      "1               5000  500           50  0.01     pcr  0.127465  244769.316087\n",
      "..               ...  ...          ...   ...     ...       ...            ...\n",
      "1                100   10            5  0.20     pcr  0.448285    3924.230900\n",
      "2                100   10            5  0.20     pls  0.999820       1.277318\n",
      "0                 50   10            1  0.20  linreg  0.999815       1.316080\n",
      "1                 50   10            1  0.20     pcr -0.056534    7514.982705\n",
      "2                 50   10            1  0.20     pls  0.807306    1370.609266\n",
      "\n",
      "[1092 rows x 7 columns]\n",
      "   train_sample_size    N n_components   rho   model        R2            MSE\n",
      "0               5000  500            5  0.01  linreg  0.999996       1.120479\n",
      "1               5000  500            5  0.01     pcr  0.008567  278123.542607\n",
      "2               5000  500            5  0.01     pls  0.999916      23.445148\n",
      "0               5000  500           50  0.01  linreg  0.999996       1.120479\n",
      "1               5000  500           50  0.01     pcr  0.127465  244769.316087\n",
      "..               ...  ...          ...   ...     ...       ...            ...\n",
      "1                 50   10            1  0.20     pcr -0.056534    7514.982705\n",
      "2                 50   10            1  0.20     pls  0.807306    1370.609266\n",
      "0                 50   10            2  0.20  linreg  0.999815       1.316080\n",
      "1                 50   10            2  0.20     pcr  0.233826    5449.690459\n",
      "2                 50   10            2  0.20     pls  0.895386     744.107476\n",
      "\n",
      "[1095 rows x 7 columns]\n"
     ]
    },
    {
     "name": "stderr",
     "output_type": "stream",
     "text": [
      " 60%|██████    | 3/5 [16:19<08:17, 248.92s/it, N=10, linreg=1, pcr=0.69, pls=0.958, rho=0.2]   "
     ]
    },
    {
     "name": "stdout",
     "output_type": "stream",
     "text": [
      "   train_sample_size    N n_components   rho   model        R2            MSE\n",
      "0               5000  500            5  0.01  linreg  0.999996       1.120479\n",
      "1               5000  500            5  0.01     pcr  0.008567  278123.542607\n",
      "2               5000  500            5  0.01     pls  0.999916      23.445148\n",
      "0               5000  500           50  0.01  linreg  0.999996       1.120479\n",
      "1               5000  500           50  0.01     pcr  0.127465  244769.316087\n",
      "..               ...  ...          ...   ...     ...       ...            ...\n",
      "1                 50   10            2  0.20     pcr  0.233826    5449.690459\n",
      "2                 50   10            2  0.20     pls  0.895386     744.107476\n",
      "0                 50   10            5  0.20  linreg  0.999815       1.316080\n",
      "1                 50   10            5  0.20     pcr  0.479421    3702.811008\n",
      "2                 50   10            5  0.20     pls  0.999584       2.960577\n",
      "\n",
      "[1098 rows x 7 columns]\n",
      "   train_sample_size    N n_components   rho   model        R2            MSE\n",
      "0               5000  500            5  0.01  linreg  0.999996       1.120479\n",
      "1               5000  500            5  0.01     pcr  0.008567  278123.542607\n",
      "2               5000  500            5  0.01     pls  0.999916      23.445148\n",
      "0               5000  500           50  0.01  linreg  0.999996       1.120479\n",
      "1               5000  500           50  0.01     pcr  0.127465  244769.316087\n",
      "..               ...  ...          ...   ...     ...       ...            ...\n",
      "1                 50   10            5  0.20     pcr  0.479421    3702.811008\n",
      "2                 50   10            5  0.20     pls  0.999584       2.960577\n",
      "0                 30   10            1  0.20  linreg  0.999797       1.446314\n",
      "1                 30   10            1  0.20     pcr -0.081840    7694.623082\n",
      "2                 30   10            1  0.20     pls  0.760255    1705.197098\n",
      "\n",
      "[1101 rows x 7 columns]\n",
      "   train_sample_size    N n_components   rho   model        R2            MSE\n",
      "0               5000  500            5  0.01  linreg  0.999996       1.120479\n",
      "1               5000  500            5  0.01     pcr  0.008567  278123.542607\n",
      "2               5000  500            5  0.01     pls  0.999916      23.445148\n",
      "0               5000  500           50  0.01  linreg  0.999996       1.120479\n",
      "1               5000  500           50  0.01     pcr  0.127465  244769.316087\n",
      "..               ...  ...          ...   ...     ...       ...            ...\n",
      "1                 30   10            1  0.20     pcr -0.081840    7694.623082\n",
      "2                 30   10            1  0.20     pls  0.760255    1705.197098\n",
      "0                 30   10            2  0.20  linreg  0.999797       1.446314\n",
      "1                 30   10            2  0.20     pcr  0.006879    7063.609098\n",
      "2                 30   10            2  0.20     pls  0.867075     945.433244\n",
      "\n",
      "[1104 rows x 7 columns]\n",
      "   train_sample_size    N n_components   rho   model        R2            MSE\n",
      "0               5000  500            5  0.01  linreg  0.999996       1.120479\n",
      "1               5000  500            5  0.01     pcr  0.008567  278123.542607\n",
      "2               5000  500            5  0.01     pls  0.999916      23.445148\n",
      "0               5000  500           50  0.01  linreg  0.999996       1.120479\n",
      "1               5000  500           50  0.01     pcr  0.127465  244769.316087\n",
      "..               ...  ...          ...   ...     ...       ...            ...\n",
      "1                 30   10            2  0.20     pcr  0.006879    7063.609098\n",
      "2                 30   10            2  0.20     pls  0.867075     945.433244\n",
      "0                 30   10            5  0.20  linreg  0.999797       1.446314\n",
      "1                 30   10            5  0.20     pcr  0.508185    3498.052082\n",
      "2                 30   10            5  0.20     pls  0.998806       8.492529\n",
      "\n",
      "[1107 rows x 7 columns]\n",
      "   train_sample_size    N n_components   rho   model        R2            MSE\n",
      "0               5000  500            5  0.01  linreg  0.999996       1.120479\n",
      "1               5000  500            5  0.01     pcr  0.008567  278123.542607\n",
      "2               5000  500            5  0.01     pls  0.999916      23.445148\n",
      "0               5000  500           50  0.01  linreg  0.999996       1.120479\n",
      "1               5000  500           50  0.01     pcr  0.127465  244769.316087\n",
      "..               ...  ...          ...   ...     ...       ...            ...\n",
      "1                 30   10            5  0.20     pcr  0.508185    3498.052082\n",
      "2                 30   10            5  0.20     pls  0.998806       8.492529\n",
      "0                 20   10            1  0.20  linreg  0.999701       2.129700\n",
      "1                 20   10            1  0.20     pcr -0.105868    7865.104247\n",
      "2                 20   10            1  0.20     pls  0.611494    2763.118542\n",
      "\n",
      "[1110 rows x 7 columns]\n",
      "   train_sample_size    N n_components   rho   model        R2            MSE\n",
      "0               5000  500            5  0.01  linreg  0.999996       1.120479\n",
      "1               5000  500            5  0.01     pcr  0.008567  278123.542607\n",
      "2               5000  500            5  0.01     pls  0.999916      23.445148\n",
      "0               5000  500           50  0.01  linreg  0.999996       1.120479\n",
      "1               5000  500           50  0.01     pcr  0.127465  244769.316087\n",
      "..               ...  ...          ...   ...     ...       ...            ...\n",
      "1                 20   10            1  0.20     pcr -0.105868    7865.104247\n",
      "2                 20   10            1  0.20     pls  0.611494    2763.118542\n",
      "0                 20   10            2  0.20  linreg  0.999701       2.129700\n",
      "1                 20   10            2  0.20     pcr  0.030494    6895.276270\n",
      "2                 20   10            2  0.20     pls  0.683048    2254.212126\n",
      "\n",
      "[1113 rows x 7 columns]\n"
     ]
    },
    {
     "name": "stderr",
     "output_type": "stream",
     "text": [
      " 60%|██████    | 3/5 [16:20<08:17, 248.92s/it, N=10, linreg=0.998, pcr=0.491, pls=0.998, rho=0.5] "
     ]
    },
    {
     "name": "stdout",
     "output_type": "stream",
     "text": [
      "   train_sample_size    N n_components   rho   model        R2            MSE\n",
      "0               5000  500            5  0.01  linreg  0.999996       1.120479\n",
      "1               5000  500            5  0.01     pcr  0.008567  278123.542607\n",
      "2               5000  500            5  0.01     pls  0.999916      23.445148\n",
      "0               5000  500           50  0.01  linreg  0.999996       1.120479\n",
      "1               5000  500           50  0.01     pcr  0.127465  244769.316087\n",
      "..               ...  ...          ...   ...     ...       ...            ...\n",
      "1                 20   10            2  0.20     pcr  0.030494    6895.276270\n",
      "2                 20   10            2  0.20     pls  0.683048    2254.212126\n",
      "0                 20   10            5  0.20  linreg  0.999701       2.129700\n",
      "1                 20   10            5  0.20     pcr  0.690010    2204.700040\n",
      "2                 20   10            5  0.20     pls  0.957647     301.218236\n",
      "\n",
      "[1116 rows x 7 columns]\n",
      "   train_sample_size    N n_components   rho   model        R2            MSE\n",
      "0               5000  500            5  0.01  linreg  0.999996       1.120479\n",
      "1               5000  500            5  0.01     pcr  0.008567  278123.542607\n",
      "2               5000  500            5  0.01     pls  0.999916      23.445148\n",
      "0               5000  500           50  0.01  linreg  0.999996       1.120479\n",
      "1               5000  500           50  0.01     pcr  0.127465  244769.316087\n",
      "..               ...  ...          ...   ...     ...       ...            ...\n",
      "1                 20   10            5  0.20     pcr  0.690010    2204.700040\n",
      "2                 20   10            5  0.20     pls  0.957647     301.218236\n",
      "0                 10   10            1  0.20  linreg  0.994160      41.538157\n",
      "1                 10   10            1  0.20     pcr -0.258478    8950.774267\n",
      "2                 10   10            1  0.20     pls -0.080847    7687.398408\n",
      "\n",
      "[1119 rows x 7 columns]\n",
      "   train_sample_size    N n_components   rho   model        R2            MSE\n",
      "0               5000  500            5  0.01  linreg  0.999996       1.120479\n",
      "1               5000  500            5  0.01     pcr  0.008567  278123.542607\n",
      "2               5000  500            5  0.01     pls  0.999916      23.445148\n",
      "0               5000  500           50  0.01  linreg  0.999996       1.120479\n",
      "1               5000  500           50  0.01     pcr  0.127465  244769.316087\n",
      "..               ...  ...          ...   ...     ...       ...            ...\n",
      "1                 10   10            1  0.20     pcr -0.258478    8950.774267\n",
      "2                 10   10            1  0.20     pls -0.080847    7687.398408\n",
      "0                 10   10            2  0.20  linreg  0.994160      41.538157\n",
      "1                 10   10            2  0.20     pcr -0.285217    9140.955412\n",
      "2                 10   10            2  0.20     pls  0.504411    3524.816634\n",
      "\n",
      "[1122 rows x 7 columns]\n",
      "   train_sample_size    N n_components   rho   model        R2            MSE\n",
      "0               5000  500            5  0.01  linreg  0.999996       1.120479\n",
      "1               5000  500            5  0.01     pcr  0.008567  278123.542607\n",
      "2               5000  500            5  0.01     pls  0.999916      23.445148\n",
      "0               5000  500           50  0.01  linreg  0.999996       1.120479\n",
      "1               5000  500           50  0.01     pcr  0.127465  244769.316087\n",
      "..               ...  ...          ...   ...     ...       ...            ...\n",
      "1                 10   10            2  0.20     pcr -0.285217    9140.955412\n",
      "2                 10   10            2  0.20     pls  0.504411    3524.816634\n",
      "0                 10   10            5  0.20  linreg  0.994160      41.538157\n",
      "1                 10   10            5  0.20     pcr  0.519993    3413.996416\n",
      "2                 10   10            5  0.20     pls  0.951418     345.530585\n",
      "\n",
      "[1125 rows x 7 columns]\n",
      "   train_sample_size    N n_components   rho   model        R2            MSE\n",
      "0               5000  500            5  0.01  linreg  0.999996       1.120479\n",
      "1               5000  500            5  0.01     pcr  0.008567  278123.542607\n",
      "2               5000  500            5  0.01     pls  0.999916      23.445148\n",
      "0               5000  500           50  0.01  linreg  0.999996       1.120479\n",
      "1               5000  500           50  0.01     pcr  0.127465  244769.316087\n",
      "..               ...  ...          ...   ...     ...       ...            ...\n",
      "1                 10   10            5  0.20     pcr  0.519993    3413.996416\n",
      "2                 10   10            5  0.20     pls  0.951418     345.530585\n",
      "0                100   10            1  0.50  linreg  0.997743       1.075675\n",
      "1                100   10            1  0.50     pcr  0.022690     465.716667\n",
      "2                100   10            1  0.50     pls  0.658512     162.728825\n",
      "\n",
      "[1128 rows x 7 columns]\n",
      "   train_sample_size    N n_components   rho   model        R2            MSE\n",
      "0               5000  500            5  0.01  linreg  0.999996       1.120479\n",
      "1               5000  500            5  0.01     pcr  0.008567  278123.542607\n",
      "2               5000  500            5  0.01     pls  0.999916      23.445148\n",
      "0               5000  500           50  0.01  linreg  0.999996       1.120479\n",
      "1               5000  500           50  0.01     pcr  0.127465  244769.316087\n",
      "..               ...  ...          ...   ...     ...       ...            ...\n",
      "1                100   10            1  0.50     pcr  0.022690     465.716667\n",
      "2                100   10            1  0.50     pls  0.658512     162.728825\n",
      "0                100   10            2  0.50  linreg  0.997743       1.075675\n",
      "1                100   10            2  0.50     pcr  0.039627     457.645550\n",
      "2                100   10            2  0.50     pls  0.936203      30.401134\n",
      "\n",
      "[1131 rows x 7 columns]\n"
     ]
    },
    {
     "name": "stderr",
     "output_type": "stream",
     "text": [
      " 60%|██████    | 3/5 [16:20<08:17, 248.92s/it, N=10, linreg=0.997, pcr=-.149, pls=0.912, rho=0.5] "
     ]
    },
    {
     "name": "stdout",
     "output_type": "stream",
     "text": [
      "   train_sample_size    N n_components   rho   model        R2            MSE\n",
      "0               5000  500            5  0.01  linreg  0.999996       1.120479\n",
      "1               5000  500            5  0.01     pcr  0.008567  278123.542607\n",
      "2               5000  500            5  0.01     pls  0.999916      23.445148\n",
      "0               5000  500           50  0.01  linreg  0.999996       1.120479\n",
      "1               5000  500           50  0.01     pcr  0.127465  244769.316087\n",
      "..               ...  ...          ...   ...     ...       ...            ...\n",
      "1                100   10            2  0.50     pcr  0.039627     457.645550\n",
      "2                100   10            2  0.50     pls  0.936203      30.401134\n",
      "0                100   10            5  0.50  linreg  0.997743       1.075675\n",
      "1                100   10            5  0.50     pcr  0.491438     242.344611\n",
      "2                100   10            5  0.50     pls  0.997677       1.107071\n",
      "\n",
      "[1134 rows x 7 columns]\n",
      "   train_sample_size    N n_components   rho   model        R2            MSE\n",
      "0               5000  500            5  0.01  linreg  0.999996       1.120479\n",
      "1               5000  500            5  0.01     pcr  0.008567  278123.542607\n",
      "2               5000  500            5  0.01     pls  0.999916      23.445148\n",
      "0               5000  500           50  0.01  linreg  0.999996       1.120479\n",
      "1               5000  500           50  0.01     pcr  0.127465  244769.316087\n",
      "..               ...  ...          ...   ...     ...       ...            ...\n",
      "1                100   10            5  0.50     pcr  0.491438     242.344611\n",
      "2                100   10            5  0.50     pls  0.997677       1.107071\n",
      "0                 50   10            1  0.50  linreg  0.997422       1.228735\n",
      "1                 50   10            1  0.50     pcr  0.009902     471.838575\n",
      "2                 50   10            1  0.50     pls  0.545497     216.596874\n",
      "\n",
      "[1137 rows x 7 columns]\n",
      "   train_sample_size    N n_components   rho   model        R2            MSE\n",
      "0               5000  500            5  0.01  linreg  0.999996       1.120479\n",
      "1               5000  500            5  0.01     pcr  0.008567  278123.542607\n",
      "2               5000  500            5  0.01     pls  0.999916      23.445148\n",
      "0               5000  500           50  0.01  linreg  0.999996       1.120479\n",
      "1               5000  500           50  0.01     pcr  0.127465  244769.316087\n",
      "..               ...  ...          ...   ...     ...       ...            ...\n",
      "1                 50   10            1  0.50     pcr  0.009902     471.838575\n",
      "2                 50   10            1  0.50     pls  0.545497     216.596874\n",
      "0                 50   10            2  0.50  linreg  0.997422       1.228735\n",
      "1                 50   10            2  0.50     pcr  0.021375     466.370922\n",
      "2                 50   10            2  0.50     pls  0.886088      54.285782\n",
      "\n",
      "[1140 rows x 7 columns]\n",
      "   train_sample_size    N n_components   rho   model        R2            MSE\n",
      "0               5000  500            5  0.01  linreg  0.999996       1.120479\n",
      "1               5000  500            5  0.01     pcr  0.008567  278123.542607\n",
      "2               5000  500            5  0.01     pls  0.999916      23.445148\n",
      "0               5000  500           50  0.01  linreg  0.999996       1.120479\n",
      "1               5000  500           50  0.01     pcr  0.127465  244769.316087\n",
      "..               ...  ...          ...   ...     ...       ...            ...\n",
      "1                 50   10            2  0.50     pcr  0.021375     466.370922\n",
      "2                 50   10            2  0.50     pls  0.886088      54.285782\n",
      "0                 50   10            5  0.50  linreg  0.997422       1.228735\n",
      "1                 50   10            5  0.50     pcr  0.481772     246.965472\n",
      "2                 50   10            5  0.50     pls  0.996987       1.436025\n",
      "\n",
      "[1143 rows x 7 columns]\n",
      "   train_sample_size    N n_components   rho   model        R2            MSE\n",
      "0               5000  500            5  0.01  linreg  0.999996       1.120479\n",
      "1               5000  500            5  0.01     pcr  0.008567  278123.542607\n",
      "2               5000  500            5  0.01     pls  0.999916      23.445148\n",
      "0               5000  500           50  0.01  linreg  0.999996       1.120479\n",
      "1               5000  500           50  0.01     pcr  0.127465  244769.316087\n",
      "..               ...  ...          ...   ...     ...       ...            ...\n",
      "1                 50   10            5  0.50     pcr  0.481772     246.965472\n",
      "2                 50   10            5  0.50     pls  0.996987       1.436025\n",
      "0                 30   10            1  0.50  linreg  0.997237       1.316609\n",
      "1                 30   10            1  0.50     pcr -0.113588     530.662093\n",
      "2                 30   10            1  0.50     pls  0.752689     117.851940\n",
      "\n",
      "[1146 rows x 7 columns]\n"
     ]
    },
    {
     "name": "stderr",
     "output_type": "stream",
     "text": [
      " 60%|██████    | 3/5 [16:20<08:17, 248.92s/it, N=10, linreg=0.469, pcr=0.0148, pls=0.0175, rho=0.5]"
     ]
    },
    {
     "name": "stdout",
     "output_type": "stream",
     "text": [
      "   train_sample_size    N n_components   rho   model        R2            MSE\n",
      "0               5000  500            5  0.01  linreg  0.999996       1.120479\n",
      "1               5000  500            5  0.01     pcr  0.008567  278123.542607\n",
      "2               5000  500            5  0.01     pls  0.999916      23.445148\n",
      "0               5000  500           50  0.01  linreg  0.999996       1.120479\n",
      "1               5000  500           50  0.01     pcr  0.127465  244769.316087\n",
      "..               ...  ...          ...   ...     ...       ...            ...\n",
      "1                 30   10            1  0.50     pcr -0.113588     530.662093\n",
      "2                 30   10            1  0.50     pls  0.752689     117.851940\n",
      "0                 30   10            2  0.50  linreg  0.997237       1.316609\n",
      "1                 30   10            2  0.50     pcr -0.148761     547.423145\n",
      "2                 30   10            2  0.50     pls  0.912200      41.839580\n",
      "\n",
      "[1149 rows x 7 columns]\n",
      "   train_sample_size    N n_components   rho   model        R2            MSE\n",
      "0               5000  500            5  0.01  linreg  0.999996       1.120479\n",
      "1               5000  500            5  0.01     pcr  0.008567  278123.542607\n",
      "2               5000  500            5  0.01     pls  0.999916      23.445148\n",
      "0               5000  500           50  0.01  linreg  0.999996       1.120479\n",
      "1               5000  500           50  0.01     pcr  0.127465  244769.316087\n",
      "..               ...  ...          ...   ...     ...       ...            ...\n",
      "1                 30   10            2  0.50     pcr -0.148761     547.423145\n",
      "2                 30   10            2  0.50     pls  0.912200      41.839580\n",
      "0                 30   10            5  0.50  linreg  0.997237       1.316609\n",
      "1                 30   10            5  0.50     pcr  0.730996     128.189579\n",
      "2                 30   10            5  0.50     pls  0.996445       1.694205\n",
      "\n",
      "[1152 rows x 7 columns]\n",
      "   train_sample_size    N n_components   rho   model        R2            MSE\n",
      "0               5000  500            5  0.01  linreg  0.999996       1.120479\n",
      "1               5000  500            5  0.01     pcr  0.008567  278123.542607\n",
      "2               5000  500            5  0.01     pls  0.999916      23.445148\n",
      "0               5000  500           50  0.01  linreg  0.999996       1.120479\n",
      "1               5000  500           50  0.01     pcr  0.127465  244769.316087\n",
      "..               ...  ...          ...   ...     ...       ...            ...\n",
      "1                 30   10            5  0.50     pcr  0.730996     128.189579\n",
      "2                 30   10            5  0.50     pls  0.996445       1.694205\n",
      "0                 20   10            1  0.50  linreg  0.995875       1.965495\n",
      "1                 20   10            1  0.50     pcr  0.040845     457.064464\n",
      "2                 20   10            1  0.50     pls  0.832644      79.749711\n",
      "\n",
      "[1155 rows x 7 columns]\n",
      "   train_sample_size    N n_components   rho   model        R2            MSE\n",
      "0               5000  500            5  0.01  linreg  0.999996       1.120479\n",
      "1               5000  500            5  0.01     pcr  0.008567  278123.542607\n",
      "2               5000  500            5  0.01     pls  0.999916      23.445148\n",
      "0               5000  500           50  0.01  linreg  0.999996       1.120479\n",
      "1               5000  500           50  0.01     pcr  0.127465  244769.316087\n",
      "..               ...  ...          ...   ...     ...       ...            ...\n",
      "1                 20   10            1  0.50     pcr  0.040845     457.064464\n",
      "2                 20   10            1  0.50     pls  0.832644      79.749711\n",
      "0                 20   10            2  0.50  linreg  0.995875       1.965495\n",
      "1                 20   10            2  0.50     pcr  0.026534     463.883972\n",
      "2                 20   10            2  0.50     pls  0.891739      51.589298\n",
      "\n",
      "[1158 rows x 7 columns]\n",
      "   train_sample_size    N n_components   rho   model        R2            MSE\n",
      "0               5000  500            5  0.01  linreg  0.999996       1.120479\n",
      "1               5000  500            5  0.01     pcr  0.008567  278123.542607\n",
      "2               5000  500            5  0.01     pls  0.999916      23.445148\n",
      "0               5000  500           50  0.01  linreg  0.999996       1.120479\n",
      "1               5000  500           50  0.01     pcr  0.127465  244769.316087\n",
      "..               ...  ...          ...   ...     ...       ...            ...\n",
      "1                 20   10            2  0.50     pcr  0.026534     463.883972\n",
      "2                 20   10            2  0.50     pls  0.891739      51.589298\n",
      "0                 20   10            5  0.50  linreg  0.995875       1.965495\n",
      "1                 20   10            5  0.50     pcr  0.633731     174.537679\n",
      "2                 20   10            5  0.50     pls  0.994604       2.571555\n",
      "\n",
      "[1161 rows x 7 columns]\n"
     ]
    },
    {
     "name": "stderr",
     "output_type": "stream",
     "text": [
      " 60%|██████    | 3/5 [16:20<08:17, 248.92s/it, N=10, linreg=1, pcr=0.847, pls=0.983, rho=0.9]      "
     ]
    },
    {
     "name": "stdout",
     "output_type": "stream",
     "text": [
      "   train_sample_size    N n_components   rho   model        R2            MSE\n",
      "0               5000  500            5  0.01  linreg  0.999996       1.120479\n",
      "1               5000  500            5  0.01     pcr  0.008567  278123.542607\n",
      "2               5000  500            5  0.01     pls  0.999916      23.445148\n",
      "0               5000  500           50  0.01  linreg  0.999996       1.120479\n",
      "1               5000  500           50  0.01     pcr  0.127465  244769.316087\n",
      "..               ...  ...          ...   ...     ...       ...            ...\n",
      "1                 20   10            5  0.50     pcr  0.633731     174.537679\n",
      "2                 20   10            5  0.50     pls  0.994604       2.571555\n",
      "0                 10   10            1  0.50  linreg  0.469001     253.031435\n",
      "1                 10   10            1  0.50     pcr  0.014843     469.447165\n",
      "2                 10   10            1  0.50     pls  0.017465     468.197548\n",
      "\n",
      "[1164 rows x 7 columns]\n",
      "   train_sample_size    N n_components   rho   model        R2            MSE\n",
      "0               5000  500            5  0.01  linreg  0.999996       1.120479\n",
      "1               5000  500            5  0.01     pcr  0.008567  278123.542607\n",
      "2               5000  500            5  0.01     pls  0.999916      23.445148\n",
      "0               5000  500           50  0.01  linreg  0.999996       1.120479\n",
      "1               5000  500           50  0.01     pcr  0.127465  244769.316087\n",
      "..               ...  ...          ...   ...     ...       ...            ...\n",
      "1                 10   10            1  0.50     pcr  0.014843     469.447165\n",
      "2                 10   10            1  0.50     pls  0.017465     468.197548\n",
      "0                 10   10            2  0.50  linreg  0.469001     253.031435\n",
      "1                 10   10            2  0.50     pcr  0.259298     352.959462\n",
      "2                 10   10            2  0.50     pls  0.304748     331.301376\n",
      "\n",
      "[1167 rows x 7 columns]\n",
      "   train_sample_size    N n_components   rho   model        R2            MSE\n",
      "0               5000  500            5  0.01  linreg  0.999996       1.120479\n",
      "1               5000  500            5  0.01     pcr  0.008567  278123.542607\n",
      "2               5000  500            5  0.01     pls  0.999916      23.445148\n",
      "0               5000  500           50  0.01  linreg  0.999996       1.120479\n",
      "1               5000  500           50  0.01     pcr  0.127465  244769.316087\n",
      "..               ...  ...          ...   ...     ...       ...            ...\n",
      "1                 10   10            2  0.50     pcr  0.259298     352.959462\n",
      "2                 10   10            2  0.50     pls  0.304748     331.301376\n",
      "0                 10   10            5  0.50  linreg  0.469001     253.031435\n",
      "1                 10   10            5  0.50     pcr  0.492910     241.638542\n",
      "2                 10   10            5  0.50     pls  0.477372     249.042918\n",
      "\n",
      "[1170 rows x 7 columns]\n",
      "   train_sample_size    N n_components   rho   model        R2            MSE\n",
      "0               5000  500            5  0.01  linreg  0.999996       1.120479\n",
      "1               5000  500            5  0.01     pcr  0.008567  278123.542607\n",
      "2               5000  500            5  0.01     pls  0.999916      23.445148\n",
      "0               5000  500           50  0.01  linreg  0.999996       1.120479\n",
      "1               5000  500           50  0.01     pcr  0.127465  244769.316087\n",
      "..               ...  ...          ...   ...     ...       ...            ...\n",
      "1                 10   10            5  0.50     pcr  0.492910     241.638542\n",
      "2                 10   10            5  0.50     pls  0.477372     249.042918\n",
      "0                100   10            1  0.90  linreg  0.999708       1.143347\n",
      "1                100   10            1  0.90     pcr  0.835210     644.811872\n",
      "2                100   10            1  0.90     pls  0.837167     637.151277\n",
      "\n",
      "[1173 rows x 7 columns]\n"
     ]
    },
    {
     "name": "stderr",
     "output_type": "stream",
     "text": [
      " 60%|██████    | 3/5 [16:21<08:17, 248.92s/it, N=10, linreg=1, pcr=0.852, pls=0.951, rho=0.9]"
     ]
    },
    {
     "name": "stdout",
     "output_type": "stream",
     "text": [
      "   train_sample_size    N n_components   rho   model        R2            MSE\n",
      "0               5000  500            5  0.01  linreg  0.999996       1.120479\n",
      "1               5000  500            5  0.01     pcr  0.008567  278123.542607\n",
      "2               5000  500            5  0.01     pls  0.999916      23.445148\n",
      "0               5000  500           50  0.01  linreg  0.999996       1.120479\n",
      "1               5000  500           50  0.01     pcr  0.127465  244769.316087\n",
      "..               ...  ...          ...   ...     ...       ...            ...\n",
      "1                100   10            1  0.90     pcr  0.835210     644.811872\n",
      "2                100   10            1  0.90     pls  0.837167     637.151277\n",
      "0                100   10            2  0.90  linreg  0.999708       1.143347\n",
      "1                100   10            2  0.90     pcr  0.846638     600.093440\n",
      "2                100   10            2  0.90     pls  0.982865      67.049821\n",
      "\n",
      "[1176 rows x 7 columns]\n",
      "   train_sample_size    N n_components   rho   model        R2            MSE\n",
      "0               5000  500            5  0.01  linreg  0.999996       1.120479\n",
      "1               5000  500            5  0.01     pcr  0.008567  278123.542607\n",
      "2               5000  500            5  0.01     pls  0.999916      23.445148\n",
      "0               5000  500           50  0.01  linreg  0.999996       1.120479\n",
      "1               5000  500           50  0.01     pcr  0.127465  244769.316087\n",
      "..               ...  ...          ...   ...     ...       ...            ...\n",
      "1                100   10            2  0.90     pcr  0.846638     600.093440\n",
      "2                100   10            2  0.90     pls  0.982865      67.049821\n",
      "0                100   10            5  0.90  linreg  0.999708       1.143347\n",
      "1                100   10            5  0.90     pcr  0.855470     565.533986\n",
      "2                100   10            5  0.90     pls  0.999703       1.160879\n",
      "\n",
      "[1179 rows x 7 columns]\n",
      "   train_sample_size    N n_components   rho   model        R2            MSE\n",
      "0               5000  500            5  0.01  linreg  0.999996       1.120479\n",
      "1               5000  500            5  0.01     pcr  0.008567  278123.542607\n",
      "2               5000  500            5  0.01     pls  0.999916      23.445148\n",
      "0               5000  500           50  0.01  linreg  0.999996       1.120479\n",
      "1               5000  500           50  0.01     pcr  0.127465  244769.316087\n",
      "..               ...  ...          ...   ...     ...       ...            ...\n",
      "1                100   10            5  0.90     pcr  0.855470     565.533986\n",
      "2                100   10            5  0.90     pls  0.999703       1.160879\n",
      "0                 50   10            1  0.90  linreg  0.999701       1.169484\n",
      "1                 50   10            1  0.90     pcr  0.832092     657.188072\n",
      "2                 50   10            1  0.90     pls  0.837230     637.080444\n",
      "\n",
      "[1182 rows x 7 columns]\n",
      "   train_sample_size    N n_components   rho   model        R2            MSE\n",
      "0               5000  500            5  0.01  linreg  0.999996       1.120479\n",
      "1               5000  500            5  0.01     pcr  0.008567  278123.542607\n",
      "2               5000  500            5  0.01     pls  0.999916      23.445148\n",
      "0               5000  500           50  0.01  linreg  0.999996       1.120479\n",
      "1               5000  500           50  0.01     pcr  0.127465  244769.316087\n",
      "..               ...  ...          ...   ...     ...       ...            ...\n",
      "1                 50   10            1  0.90     pcr  0.832092     657.188072\n",
      "2                 50   10            1  0.90     pls  0.837230     637.080444\n",
      "0                 50   10            2  0.90  linreg  0.999701       1.169484\n",
      "1                 50   10            2  0.90     pcr  0.843482     612.609692\n",
      "2                 50   10            2  0.90     pls  0.971148     112.927827\n",
      "\n",
      "[1185 rows x 7 columns]\n",
      "   train_sample_size    N n_components   rho   model        R2            MSE\n",
      "0               5000  500            5  0.01  linreg  0.999996       1.120479\n",
      "1               5000  500            5  0.01     pcr  0.008567  278123.542607\n",
      "2               5000  500            5  0.01     pls  0.999916      23.445148\n",
      "0               5000  500           50  0.01  linreg  0.999996       1.120479\n",
      "1               5000  500           50  0.01     pcr  0.127465  244769.316087\n",
      "..               ...  ...          ...   ...     ...       ...            ...\n",
      "1                 50   10            2  0.90     pcr  0.843482     612.609692\n",
      "2                 50   10            2  0.90     pls  0.971148     112.927827\n",
      "0                 50   10            5  0.90  linreg  0.999701       1.169484\n",
      "1                 50   10            5  0.90     pcr  0.863716     533.414437\n",
      "2                 50   10            5  0.90     pls  0.999610       1.525446\n",
      "\n",
      "[1188 rows x 7 columns]\n",
      "   train_sample_size    N n_components   rho   model        R2            MSE\n",
      "0               5000  500            5  0.01  linreg  0.999996       1.120479\n",
      "1               5000  500            5  0.01     pcr  0.008567  278123.542607\n",
      "2               5000  500            5  0.01     pls  0.999916      23.445148\n",
      "0               5000  500           50  0.01  linreg  0.999996       1.120479\n",
      "1               5000  500           50  0.01     pcr  0.127465  244769.316087\n",
      "..               ...  ...          ...   ...     ...       ...            ...\n",
      "1                 50   10            5  0.90     pcr  0.863716     533.414437\n",
      "2                 50   10            5  0.90     pls  0.999610       1.525446\n",
      "0                 30   10            1  0.90  linreg  0.999577       1.657168\n",
      "1                 30   10            1  0.90     pcr  0.828268     672.132667\n",
      "2                 30   10            1  0.90     pls  0.835533     643.695168\n",
      "\n",
      "[1191 rows x 7 columns]\n"
     ]
    },
    {
     "name": "stderr",
     "output_type": "stream",
     "text": [
      " 60%|██████    | 3/5 [16:21<08:17, 248.92s/it, N=10, linreg=0.976, pcr=0.829, pls=0.833, rho=0.9]"
     ]
    },
    {
     "name": "stdout",
     "output_type": "stream",
     "text": [
      "   train_sample_size    N n_components   rho   model        R2            MSE\n",
      "0               5000  500            5  0.01  linreg  0.999996       1.120479\n",
      "1               5000  500            5  0.01     pcr  0.008567  278123.542607\n",
      "2               5000  500            5  0.01     pls  0.999916      23.445148\n",
      "0               5000  500           50  0.01  linreg  0.999996       1.120479\n",
      "1               5000  500           50  0.01     pcr  0.127465  244769.316087\n",
      "..               ...  ...          ...   ...     ...       ...            ...\n",
      "1                 30   10            1  0.90     pcr  0.828268     672.132667\n",
      "2                 30   10            1  0.90     pls  0.835533     643.695168\n",
      "0                 30   10            2  0.90  linreg  0.999577       1.657168\n",
      "1                 30   10            2  0.90     pcr  0.852125     578.759814\n",
      "2                 30   10            2  0.90     pls  0.951210     190.956057\n",
      "\n",
      "[1194 rows x 7 columns]\n",
      "   train_sample_size    N n_components   rho   model        R2            MSE\n",
      "0               5000  500            5  0.01  linreg  0.999996       1.120479\n",
      "1               5000  500            5  0.01     pcr  0.008567  278123.542607\n",
      "2               5000  500            5  0.01     pls  0.999916      23.445148\n",
      "0               5000  500           50  0.01  linreg  0.999996       1.120479\n",
      "1               5000  500           50  0.01     pcr  0.127465  244769.316087\n",
      "..               ...  ...          ...   ...     ...       ...            ...\n",
      "1                 30   10            2  0.90     pcr  0.852125     578.759814\n",
      "2                 30   10            2  0.90     pls  0.951210     190.956057\n",
      "0                 30   10            5  0.90  linreg  0.999577       1.657168\n",
      "1                 30   10            5  0.90     pcr  0.912139     343.875147\n",
      "2                 30   10            5  0.90     pls  0.999276       2.832029\n",
      "\n",
      "[1197 rows x 7 columns]\n",
      "   train_sample_size    N n_components   rho   model        R2            MSE\n",
      "0               5000  500            5  0.01  linreg  0.999996       1.120479\n",
      "1               5000  500            5  0.01     pcr  0.008567  278123.542607\n",
      "2               5000  500            5  0.01     pls  0.999916      23.445148\n",
      "0               5000  500           50  0.01  linreg  0.999996       1.120479\n",
      "1               5000  500           50  0.01     pcr  0.127465  244769.316087\n",
      "..               ...  ...          ...   ...     ...       ...            ...\n",
      "1                 30   10            5  0.90     pcr  0.912139     343.875147\n",
      "2                 30   10            5  0.90     pls  0.999276       2.832029\n",
      "0                 20   10            1  0.90  linreg  0.999236       2.989541\n",
      "1                 20   10            1  0.90     pcr  0.801010     778.837537\n",
      "2                 20   10            1  0.90     pls  0.815344     722.731305\n",
      "\n",
      "[1200 rows x 7 columns]\n",
      "   train_sample_size    N n_components   rho   model        R2            MSE\n",
      "0               5000  500            5  0.01  linreg  0.999996       1.120479\n",
      "1               5000  500            5  0.01     pcr  0.008567  278123.542607\n",
      "2               5000  500            5  0.01     pls  0.999916      23.445148\n",
      "0               5000  500           50  0.01  linreg  0.999996       1.120479\n",
      "1               5000  500           50  0.01     pcr  0.127465  244769.316087\n",
      "..               ...  ...          ...   ...     ...       ...            ...\n",
      "1                 20   10            1  0.90     pcr  0.801010     778.837537\n",
      "2                 20   10            1  0.90     pls  0.815344     722.731305\n",
      "0                 20   10            2  0.90  linreg  0.999236       2.989541\n",
      "1                 20   10            2  0.90     pcr  0.819458     706.631996\n",
      "2                 20   10            2  0.90     pls  0.918089     320.593290\n",
      "\n",
      "[1203 rows x 7 columns]\n",
      "   train_sample_size    N n_components   rho   model        R2            MSE\n",
      "0               5000  500            5  0.01  linreg  0.999996       1.120479\n",
      "1               5000  500            5  0.01     pcr  0.008567  278123.542607\n",
      "2               5000  500            5  0.01     pls  0.999916      23.445148\n",
      "0               5000  500           50  0.01  linreg  0.999996       1.120479\n",
      "1               5000  500           50  0.01     pcr  0.127465  244769.316087\n",
      "..               ...  ...          ...   ...     ...       ...            ...\n",
      "1                 20   10            2  0.90     pcr  0.819458     706.631996\n",
      "2                 20   10            2  0.90     pls  0.918089     320.593290\n",
      "0                 20   10            5  0.90  linreg  0.999236       2.989541\n",
      "1                 20   10            5  0.90     pcr  0.893775     415.758904\n",
      "2                 20   10            5  0.90     pls  0.998344       6.479722\n",
      "\n",
      "[1206 rows x 7 columns]\n"
     ]
    },
    {
     "name": "stderr",
     "output_type": "stream",
     "text": [
      " 60%|██████    | 3/5 [16:21<08:17, 248.92s/it, N=10, linreg=1, pcr=0.996, pls=0.996, rho=0.99]   "
     ]
    },
    {
     "name": "stdout",
     "output_type": "stream",
     "text": [
      "   train_sample_size    N n_components   rho   model        R2            MSE\n",
      "0               5000  500            5  0.01  linreg  0.999996       1.120479\n",
      "1               5000  500            5  0.01     pcr  0.008567  278123.542607\n",
      "2               5000  500            5  0.01     pls  0.999916      23.445148\n",
      "0               5000  500           50  0.01  linreg  0.999996       1.120479\n",
      "1               5000  500           50  0.01     pcr  0.127465  244769.316087\n",
      "..               ...  ...          ...   ...     ...       ...            ...\n",
      "1                 20   10            5  0.90     pcr  0.893775     415.758904\n",
      "2                 20   10            5  0.90     pls  0.998344       6.479722\n",
      "0                 10   10            1  0.90  linreg  0.976472      92.082761\n",
      "1                 10   10            1  0.90     pcr  0.829499     667.304669\n",
      "2                 10   10            1  0.90     pls  0.832681     654.850564\n",
      "\n",
      "[1209 rows x 7 columns]\n",
      "   train_sample_size    N n_components   rho   model        R2            MSE\n",
      "0               5000  500            5  0.01  linreg  0.999996       1.120479\n",
      "1               5000  500            5  0.01     pcr  0.008567  278123.542607\n",
      "2               5000  500            5  0.01     pls  0.999916      23.445148\n",
      "0               5000  500           50  0.01  linreg  0.999996       1.120479\n",
      "1               5000  500           50  0.01     pcr  0.127465  244769.316087\n",
      "..               ...  ...          ...   ...     ...       ...            ...\n",
      "1                 10   10            1  0.90     pcr  0.829499     667.304669\n",
      "2                 10   10            1  0.90     pls  0.832681     654.850564\n",
      "0                 10   10            2  0.90  linreg  0.976472      92.082761\n",
      "1                 10   10            2  0.90     pcr  0.842419     616.739297\n",
      "2                 10   10            2  0.90     pls  0.894607     412.483739\n",
      "\n",
      "[1212 rows x 7 columns]\n",
      "   train_sample_size    N n_components   rho   model        R2            MSE\n",
      "0               5000  500            5  0.01  linreg  0.999996       1.120479\n",
      "1               5000  500            5  0.01     pcr  0.008567  278123.542607\n",
      "2               5000  500            5  0.01     pls  0.999916      23.445148\n",
      "0               5000  500           50  0.01  linreg  0.999996       1.120479\n",
      "1               5000  500           50  0.01     pcr  0.127465  244769.316087\n",
      "..               ...  ...          ...   ...     ...       ...            ...\n",
      "1                 10   10            2  0.90     pcr  0.842419     616.739297\n",
      "2                 10   10            2  0.90     pls  0.894607     412.483739\n",
      "0                 10   10            5  0.90  linreg  0.976472      92.082761\n",
      "1                 10   10            5  0.90     pcr  0.902850     380.222941\n",
      "2                 10   10            5  0.90     pls  0.976356      92.538822\n",
      "\n",
      "[1215 rows x 7 columns]\n",
      "   train_sample_size    N n_components   rho   model        R2            MSE\n",
      "0               5000  500            5  0.01  linreg  0.999996       1.120479\n",
      "1               5000  500            5  0.01     pcr  0.008567  278123.542607\n",
      "2               5000  500            5  0.01     pls  0.999916      23.445148\n",
      "0               5000  500           50  0.01  linreg  0.999996       1.120479\n",
      "1               5000  500           50  0.01     pcr  0.127465  244769.316087\n",
      "..               ...  ...          ...   ...     ...       ...            ...\n",
      "1                 10   10            5  0.90     pcr  0.902850     380.222941\n",
      "2                 10   10            5  0.90     pls  0.976356      92.538822\n",
      "0                100   10            1  0.99  linreg  0.999894       1.099175\n",
      "1                100   10            1  0.99     pcr  0.995928      42.184640\n",
      "2                100   10            1  0.99     pls  0.995930      42.167522\n",
      "\n",
      "[1218 rows x 7 columns]\n",
      "   train_sample_size    N n_components   rho   model        R2            MSE\n",
      "0               5000  500            5  0.01  linreg  0.999996       1.120479\n",
      "1               5000  500            5  0.01     pcr  0.008567  278123.542607\n",
      "2               5000  500            5  0.01     pls  0.999916      23.445148\n",
      "0               5000  500           50  0.01  linreg  0.999996       1.120479\n",
      "1               5000  500           50  0.01     pcr  0.127465  244769.316087\n",
      "..               ...  ...          ...   ...     ...       ...            ...\n",
      "1                100   10            1  0.99     pcr  0.995928      42.184640\n",
      "2                100   10            1  0.99     pls  0.995930      42.167522\n",
      "0                100   10            2  0.99  linreg  0.999894       1.099175\n",
      "1                100   10            2  0.99     pcr  0.995964      41.817528\n",
      "2                100   10            2  0.99     pls  0.999821       1.849289\n",
      "\n",
      "[1221 rows x 7 columns]\n",
      "   train_sample_size    N n_components   rho   model        R2            MSE\n",
      "0               5000  500            5  0.01  linreg  0.999996       1.120479\n",
      "1               5000  500            5  0.01     pcr  0.008567  278123.542607\n",
      "2               5000  500            5  0.01     pls  0.999916      23.445148\n",
      "0               5000  500           50  0.01  linreg  0.999996       1.120479\n",
      "1               5000  500           50  0.01     pcr  0.127465  244769.316087\n",
      "..               ...  ...          ...   ...     ...       ...            ...\n",
      "1                100   10            2  0.99     pcr  0.995964      41.817528\n",
      "2                100   10            2  0.99     pls  0.999821       1.849289\n",
      "0                100   10            5  0.99  linreg  0.999894       1.099175\n",
      "1                100   10            5  0.99     pcr  0.999304       7.212866\n",
      "2                100   10            5  0.99     pls  0.999894       1.095587\n",
      "\n",
      "[1224 rows x 7 columns]\n"
     ]
    },
    {
     "name": "stderr",
     "output_type": "stream",
     "text": [
      " 60%|██████    | 3/5 [16:21<08:17, 248.92s/it, N=10, linreg=1, pcr=0.996, pls=0.996, rho=0.99]"
     ]
    },
    {
     "name": "stdout",
     "output_type": "stream",
     "text": [
      "   train_sample_size    N n_components   rho   model        R2            MSE\n",
      "0               5000  500            5  0.01  linreg  0.999996       1.120479\n",
      "1               5000  500            5  0.01     pcr  0.008567  278123.542607\n",
      "2               5000  500            5  0.01     pls  0.999916      23.445148\n",
      "0               5000  500           50  0.01  linreg  0.999996       1.120479\n",
      "1               5000  500           50  0.01     pcr  0.127465  244769.316087\n",
      "..               ...  ...          ...   ...     ...       ...            ...\n",
      "1                100   10            5  0.99     pcr  0.999304       7.212866\n",
      "2                100   10            5  0.99     pls  0.999894       1.095587\n",
      "0                 50   10            1  0.99  linreg  0.999882       1.225973\n",
      "1                 50   10            1  0.99     pcr  0.995746      44.062682\n",
      "2                 50   10            1  0.99     pls  0.995685      44.701659\n",
      "\n",
      "[1227 rows x 7 columns]\n",
      "   train_sample_size    N n_components   rho   model        R2            MSE\n",
      "0               5000  500            5  0.01  linreg  0.999996       1.120479\n",
      "1               5000  500            5  0.01     pcr  0.008567  278123.542607\n",
      "2               5000  500            5  0.01     pls  0.999916      23.445148\n",
      "0               5000  500           50  0.01  linreg  0.999996       1.120479\n",
      "1               5000  500           50  0.01     pcr  0.127465  244769.316087\n",
      "..               ...  ...          ...   ...     ...       ...            ...\n",
      "1                 50   10            1  0.99     pcr  0.995746      44.062682\n",
      "2                 50   10            1  0.99     pls  0.995685      44.701659\n",
      "0                 50   10            2  0.99  linreg  0.999882       1.225973\n",
      "1                 50   10            2  0.99     pcr  0.995827      43.231875\n",
      "2                 50   10            2  0.99     pls  0.999401       6.201338\n",
      "\n",
      "[1230 rows x 7 columns]\n",
      "   train_sample_size    N n_components   rho   model        R2            MSE\n",
      "0               5000  500            5  0.01  linreg  0.999996       1.120479\n",
      "1               5000  500            5  0.01     pcr  0.008567  278123.542607\n",
      "2               5000  500            5  0.01     pls  0.999916      23.445148\n",
      "0               5000  500           50  0.01  linreg  0.999996       1.120479\n",
      "1               5000  500           50  0.01     pcr  0.127465  244769.316087\n",
      "..               ...  ...          ...   ...     ...       ...            ...\n",
      "1                 50   10            2  0.99     pcr  0.995827      43.231875\n",
      "2                 50   10            2  0.99     pls  0.999401       6.201338\n",
      "0                 50   10            5  0.99  linreg  0.999882       1.225973\n",
      "1                 50   10            5  0.99     pcr  0.998825      12.169814\n",
      "2                 50   10            5  0.99     pls  0.999882       1.219020\n",
      "\n",
      "[1233 rows x 7 columns]\n",
      "   train_sample_size    N n_components   rho   model        R2            MSE\n",
      "0               5000  500            5  0.01  linreg  0.999996       1.120479\n",
      "1               5000  500            5  0.01     pcr  0.008567  278123.542607\n",
      "2               5000  500            5  0.01     pls  0.999916      23.445148\n",
      "0               5000  500           50  0.01  linreg  0.999996       1.120479\n",
      "1               5000  500           50  0.01     pcr  0.127465  244769.316087\n",
      "..               ...  ...          ...   ...     ...       ...            ...\n",
      "1                 50   10            5  0.99     pcr  0.998825      12.169814\n",
      "2                 50   10            5  0.99     pls  0.999882       1.219020\n",
      "0                 30   10            1  0.99  linreg  0.999851       1.545318\n",
      "1                 30   10            1  0.99     pcr  0.995929      42.169902\n",
      "2                 30   10            1  0.99     pls  0.995930      42.155929\n",
      "\n",
      "[1236 rows x 7 columns]\n",
      "   train_sample_size    N n_components   rho   model        R2            MSE\n",
      "0               5000  500            5  0.01  linreg  0.999996       1.120479\n",
      "1               5000  500            5  0.01     pcr  0.008567  278123.542607\n",
      "2               5000  500            5  0.01     pls  0.999916      23.445148\n",
      "0               5000  500           50  0.01  linreg  0.999996       1.120479\n",
      "1               5000  500           50  0.01     pcr  0.127465  244769.316087\n",
      "..               ...  ...          ...   ...     ...       ...            ...\n",
      "1                 30   10            1  0.99     pcr  0.995929      42.169902\n",
      "2                 30   10            1  0.99     pls  0.995930      42.155929\n",
      "0                 30   10            2  0.99  linreg  0.999851       1.545318\n",
      "1                 30   10            2  0.99     pcr  0.996022      41.206978\n",
      "2                 30   10            2  0.99     pls  0.999229       7.989485\n",
      "\n",
      "[1239 rows x 7 columns]\n",
      "   train_sample_size    N n_components   rho   model        R2            MSE\n",
      "0               5000  500            5  0.01  linreg  0.999996       1.120479\n",
      "1               5000  500            5  0.01     pcr  0.008567  278123.542607\n",
      "2               5000  500            5  0.01     pls  0.999916      23.445148\n",
      "0               5000  500           50  0.01  linreg  0.999996       1.120479\n",
      "1               5000  500           50  0.01     pcr  0.127465  244769.316087\n",
      "..               ...  ...          ...   ...     ...       ...            ...\n",
      "1                 30   10            2  0.99     pcr  0.996022      41.206978\n",
      "2                 30   10            2  0.99     pls  0.999229       7.989485\n",
      "0                 30   10            5  0.99  linreg  0.999851       1.545318\n",
      "1                 30   10            5  0.99     pcr  0.998619      14.309595\n",
      "2                 30   10            5  0.99     pls  0.999821       1.853462\n",
      "\n",
      "[1242 rows x 7 columns]\n"
     ]
    },
    {
     "name": "stderr",
     "output_type": "stream",
     "text": [
      " 80%|████████  | 4/5 [16:22<02:32, 152.18s/it, N=10, linreg=0.999, pcr=0.998, pls=0.999, rho=0.99]"
     ]
    },
    {
     "name": "stdout",
     "output_type": "stream",
     "text": [
      "   train_sample_size    N n_components   rho   model        R2            MSE\n",
      "0               5000  500            5  0.01  linreg  0.999996       1.120479\n",
      "1               5000  500            5  0.01     pcr  0.008567  278123.542607\n",
      "2               5000  500            5  0.01     pls  0.999916      23.445148\n",
      "0               5000  500           50  0.01  linreg  0.999996       1.120479\n",
      "1               5000  500           50  0.01     pcr  0.127465  244769.316087\n",
      "..               ...  ...          ...   ...     ...       ...            ...\n",
      "1                 30   10            5  0.99     pcr  0.998619      14.309595\n",
      "2                 30   10            5  0.99     pls  0.999821       1.853462\n",
      "0                 20   10            1  0.99  linreg  0.999731       2.782316\n",
      "1                 20   10            1  0.99     pcr  0.995884      42.633926\n",
      "2                 20   10            1  0.99     pls  0.995898      42.490052\n",
      "\n",
      "[1245 rows x 7 columns]\n",
      "   train_sample_size    N n_components   rho   model        R2            MSE\n",
      "0               5000  500            5  0.01  linreg  0.999996       1.120479\n",
      "1               5000  500            5  0.01     pcr  0.008567  278123.542607\n",
      "2               5000  500            5  0.01     pls  0.999916      23.445148\n",
      "0               5000  500           50  0.01  linreg  0.999996       1.120479\n",
      "1               5000  500           50  0.01     pcr  0.127465  244769.316087\n",
      "..               ...  ...          ...   ...     ...       ...            ...\n",
      "1                 20   10            1  0.99     pcr  0.995884      42.633926\n",
      "2                 20   10            1  0.99     pls  0.995898      42.490052\n",
      "0                 20   10            2  0.99  linreg  0.999731       2.782316\n",
      "1                 20   10            2  0.99     pcr  0.995928      42.180274\n",
      "2                 20   10            2  0.99     pls  0.999125       9.064063\n",
      "\n",
      "[1248 rows x 7 columns]\n",
      "   train_sample_size    N n_components   rho   model        R2            MSE\n",
      "0               5000  500            5  0.01  linreg  0.999996       1.120479\n",
      "1               5000  500            5  0.01     pcr  0.008567  278123.542607\n",
      "2               5000  500            5  0.01     pls  0.999916      23.445148\n",
      "0               5000  500           50  0.01  linreg  0.999996       1.120479\n",
      "1               5000  500           50  0.01     pcr  0.127465  244769.316087\n",
      "..               ...  ...          ...   ...     ...       ...            ...\n",
      "1                 20   10            2  0.99     pcr  0.995928      42.180274\n",
      "2                 20   10            2  0.99     pls  0.999125       9.064063\n",
      "0                 20   10            5  0.99  linreg  0.999731       2.782316\n",
      "1                 20   10            5  0.99     pcr  0.998661      13.866026\n",
      "2                 20   10            5  0.99     pls  0.999815       1.915144\n",
      "\n",
      "[1251 rows x 7 columns]\n",
      "   train_sample_size    N n_components   rho   model        R2            MSE\n",
      "0               5000  500            5  0.01  linreg  0.999996       1.120479\n",
      "1               5000  500            5  0.01     pcr  0.008567  278123.542607\n",
      "2               5000  500            5  0.01     pls  0.999916      23.445148\n",
      "0               5000  500           50  0.01  linreg  0.999996       1.120479\n",
      "1               5000  500           50  0.01     pcr  0.127465  244769.316087\n",
      "..               ...  ...          ...   ...     ...       ...            ...\n",
      "1                 20   10            5  0.99     pcr  0.998661      13.866026\n",
      "2                 20   10            5  0.99     pls  0.999815       1.915144\n",
      "0                 10   10            1  0.99  linreg  0.999073       9.601295\n",
      "1                 10   10            1  0.99     pcr  0.995731      44.222021\n",
      "2                 10   10            1  0.99     pls  0.995657      44.979668\n",
      "\n",
      "[1254 rows x 7 columns]\n",
      "   train_sample_size    N n_components   rho   model        R2            MSE\n",
      "0               5000  500            5  0.01  linreg  0.999996       1.120479\n",
      "1               5000  500            5  0.01     pcr  0.008567  278123.542607\n",
      "2               5000  500            5  0.01     pls  0.999916      23.445148\n",
      "0               5000  500           50  0.01  linreg  0.999996       1.120479\n",
      "1               5000  500           50  0.01     pcr  0.127465  244769.316087\n",
      "..               ...  ...          ...   ...     ...       ...            ...\n",
      "1                 10   10            1  0.99     pcr  0.995731      44.222021\n",
      "2                 10   10            1  0.99     pls  0.995657      44.979668\n",
      "0                 10   10            2  0.99  linreg  0.999073       9.601295\n",
      "1                 10   10            2  0.99     pcr  0.995677      44.771991\n",
      "2                 10   10            2  0.99     pls  0.998238      18.252307\n",
      "\n",
      "[1257 rows x 7 columns]\n"
     ]
    },
    {
     "name": "stderr",
     "output_type": "stream",
     "text": [
      " 80%|████████  | 4/5 [16:22<02:32, 152.18s/it, N=5, linreg=0.995, pcr=0.191, pls=0.853, rho=0.01] "
     ]
    },
    {
     "name": "stdout",
     "output_type": "stream",
     "text": [
      "   train_sample_size    N n_components   rho   model        R2            MSE\n",
      "0               5000  500            5  0.01  linreg  0.999996       1.120479\n",
      "1               5000  500            5  0.01     pcr  0.008567  278123.542607\n",
      "2               5000  500            5  0.01     pls  0.999916      23.445148\n",
      "0               5000  500           50  0.01  linreg  0.999996       1.120479\n",
      "1               5000  500           50  0.01     pcr  0.127465  244769.316087\n",
      "..               ...  ...          ...   ...     ...       ...            ...\n",
      "1                 10   10            2  0.99     pcr  0.995677      44.771991\n",
      "2                 10   10            2  0.99     pls  0.998238      18.252307\n",
      "0                 10   10            5  0.99  linreg  0.999073       9.601295\n",
      "1                 10   10            5  0.99     pcr  0.997684      23.992350\n",
      "2                 10   10            5  0.99     pls  0.999368       6.548525\n",
      "\n",
      "[1260 rows x 7 columns]\n",
      "   train_sample_size    N n_components   rho   model        R2            MSE\n",
      "0               5000  500            5  0.01  linreg  0.999996       1.120479\n",
      "1               5000  500            5  0.01     pcr  0.008567  278123.542607\n",
      "2               5000  500            5  0.01     pls  0.999916      23.445148\n",
      "0               5000  500           50  0.01  linreg  0.999996       1.120479\n",
      "1               5000  500           50  0.01     pcr  0.127465  244769.316087\n",
      "..               ...  ...          ...   ...     ...       ...            ...\n",
      "1                 10   10            5  0.99     pcr  0.997684      23.992350\n",
      "2                 10   10            5  0.99     pls  0.999368       6.548525\n",
      "0                 50    5            1  0.01  linreg  0.999552       1.061596\n",
      "1                 50    5            1  0.01     pcr -0.003699    2379.577896\n",
      "2                 50    5            1  0.01     pls  0.997490       5.951873\n",
      "\n",
      "[1263 rows x 7 columns]\n",
      "   train_sample_size    N n_components   rho   model        R2            MSE\n",
      "0               5000  500            5  0.01  linreg  0.999996       1.120479\n",
      "1               5000  500            5  0.01     pcr  0.008567  278123.542607\n",
      "2               5000  500            5  0.01     pls  0.999916      23.445148\n",
      "0               5000  500           50  0.01  linreg  0.999996       1.120479\n",
      "1               5000  500           50  0.01     pcr  0.127465  244769.316087\n",
      "..               ...  ...          ...   ...     ...       ...            ...\n",
      "1                 50    5            1  0.01     pcr -0.003699    2379.577896\n",
      "2                 50    5            1  0.01     pls  0.997490       5.951873\n",
      "0                 50    5            2  0.01  linreg  0.999552       1.061596\n",
      "1                 50    5            2  0.01     pcr  0.013174    2339.575472\n",
      "2                 50    5            2  0.01     pls  0.999471       1.253071\n",
      "\n",
      "[1266 rows x 7 columns]\n",
      "   train_sample_size    N n_components   rho   model        R2            MSE\n",
      "0               5000  500            5  0.01  linreg  0.999996       1.120479\n",
      "1               5000  500            5  0.01     pcr  0.008567  278123.542607\n",
      "2               5000  500            5  0.01     pls  0.999916      23.445148\n",
      "0               5000  500           50  0.01  linreg  0.999996       1.120479\n",
      "1               5000  500           50  0.01     pcr  0.127465  244769.316087\n",
      "..               ...  ...          ...   ...     ...       ...            ...\n",
      "1                 50    5            2  0.01     pcr  0.013174    2339.575472\n",
      "2                 50    5            2  0.01     pls  0.999471       1.253071\n",
      "0                 25    5            1  0.01  linreg  0.999501       1.182211\n",
      "1                 25    5            1  0.01     pcr  0.122400    2080.501906\n",
      "2                 25    5            1  0.01     pls  0.817091     433.618282\n",
      "\n",
      "[1269 rows x 7 columns]\n",
      "   train_sample_size    N n_components   rho   model        R2            MSE\n",
      "0               5000  500            5  0.01  linreg  0.999996       1.120479\n",
      "1               5000  500            5  0.01     pcr  0.008567  278123.542607\n",
      "2               5000  500            5  0.01     pls  0.999916      23.445148\n",
      "0               5000  500           50  0.01  linreg  0.999996       1.120479\n",
      "1               5000  500           50  0.01     pcr  0.127465  244769.316087\n",
      "..               ...  ...          ...   ...     ...       ...            ...\n",
      "1                 25    5            1  0.01     pcr  0.122400    2080.501906\n",
      "2                 25    5            1  0.01     pls  0.817091     433.618282\n",
      "0                 25    5            2  0.01  linreg  0.999501       1.182211\n",
      "1                 25    5            2  0.01     pcr  0.128468    2066.115290\n",
      "2                 25    5            2  0.01     pls  0.998507       3.539887\n",
      "\n",
      "[1272 rows x 7 columns]\n",
      "   train_sample_size    N n_components   rho   model        R2            MSE\n",
      "0               5000  500            5  0.01  linreg  0.999996       1.120479\n",
      "1               5000  500            5  0.01     pcr  0.008567  278123.542607\n",
      "2               5000  500            5  0.01     pls  0.999916      23.445148\n",
      "0               5000  500           50  0.01  linreg  0.999996       1.120479\n",
      "1               5000  500           50  0.01     pcr  0.127465  244769.316087\n",
      "..               ...  ...          ...   ...     ...       ...            ...\n",
      "1                 25    5            2  0.01     pcr  0.128468    2066.115290\n",
      "2                 25    5            2  0.01     pls  0.998507       3.539887\n",
      "0                 15    5            1  0.01  linreg  0.999517       1.144389\n",
      "1                 15    5            1  0.01     pcr  0.159717    1992.116719\n",
      "2                 15    5            1  0.01     pls  0.987716      29.121707\n",
      "\n",
      "[1275 rows x 7 columns]\n",
      "   train_sample_size    N n_components   rho   model        R2            MSE\n",
      "0               5000  500            5  0.01  linreg  0.999996       1.120479\n",
      "1               5000  500            5  0.01     pcr  0.008567  278123.542607\n",
      "2               5000  500            5  0.01     pls  0.999916      23.445148\n",
      "0               5000  500           50  0.01  linreg  0.999996       1.120479\n",
      "1               5000  500           50  0.01     pcr  0.127465  244769.316087\n",
      "..               ...  ...          ...   ...     ...       ...            ...\n",
      "1                 15    5            1  0.01     pcr  0.159717    1992.116719\n",
      "2                 15    5            1  0.01     pls  0.987716      29.121707\n",
      "0                 15    5            2  0.01  linreg  0.999517       1.144389\n",
      "1                 15    5            2  0.01     pcr  0.298594    1662.869495\n",
      "2                 15    5            2  0.01     pls  0.999322       1.608145\n",
      "\n",
      "[1278 rows x 7 columns]\n"
     ]
    },
    {
     "name": "stderr",
     "output_type": "stream",
     "text": [
      " 80%|████████  | 4/5 [16:22<02:32, 152.18s/it, N=5, linreg=1, pcr=0.028, pls=1, rho=0.1]           "
     ]
    },
    {
     "name": "stdout",
     "output_type": "stream",
     "text": [
      "   train_sample_size    N n_components   rho   model        R2            MSE\n",
      "0               5000  500            5  0.01  linreg  0.999996       1.120479\n",
      "1               5000  500            5  0.01     pcr  0.008567  278123.542607\n",
      "2               5000  500            5  0.01     pls  0.999916      23.445148\n",
      "0               5000  500           50  0.01  linreg  0.999996       1.120479\n",
      "1               5000  500           50  0.01     pcr  0.127465  244769.316087\n",
      "..               ...  ...          ...   ...     ...       ...            ...\n",
      "1                 15    5            2  0.01     pcr  0.298594    1662.869495\n",
      "2                 15    5            2  0.01     pls  0.999322       1.608145\n",
      "0                 10    5            1  0.01  linreg  0.994947      11.978374\n",
      "1                 10    5            1  0.01     pcr  0.191296    1917.229345\n",
      "2                 10    5            1  0.01     pls  0.853348     347.674155\n",
      "\n",
      "[1281 rows x 7 columns]\n",
      "   train_sample_size    N n_components   rho   model        R2            MSE\n",
      "0               5000  500            5  0.01  linreg  0.999996       1.120479\n",
      "1               5000  500            5  0.01     pcr  0.008567  278123.542607\n",
      "2               5000  500            5  0.01     pls  0.999916      23.445148\n",
      "0               5000  500           50  0.01  linreg  0.999996       1.120479\n",
      "1               5000  500           50  0.01     pcr  0.127465  244769.316087\n",
      "..               ...  ...          ...   ...     ...       ...            ...\n",
      "1                 10    5            1  0.01     pcr  0.191296    1917.229345\n",
      "2                 10    5            1  0.01     pls  0.853348     347.674155\n",
      "0                 10    5            2  0.01  linreg  0.994947      11.978374\n",
      "1                 10    5            2  0.01     pcr  0.248283    1782.126339\n",
      "2                 10    5            2  0.01     pls  0.955573     105.324745\n",
      "\n",
      "[1284 rows x 7 columns]\n",
      "   train_sample_size    N n_components   rho   model        R2            MSE\n",
      "0               5000  500            5  0.01  linreg  0.999996       1.120479\n",
      "1               5000  500            5  0.01     pcr  0.008567  278123.542607\n",
      "2               5000  500            5  0.01     pls  0.999916      23.445148\n",
      "0               5000  500           50  0.01  linreg  0.999996       1.120479\n",
      "1               5000  500           50  0.01     pcr  0.127465  244769.316087\n",
      "..               ...  ...          ...   ...     ...       ...            ...\n",
      "1                 10    5            2  0.01     pcr  0.248283    1782.126339\n",
      "2                 10    5            2  0.01     pls  0.955573     105.324745\n",
      "0                  5    5            1  0.01  linreg  0.624115     891.141407\n",
      "1                  5    5            1  0.01     pcr -0.001937    2375.371407\n",
      "2                  5    5            1  0.01     pls  0.422868    1368.251912\n",
      "\n",
      "[1287 rows x 7 columns]\n",
      "   train_sample_size    N n_components   rho   model        R2            MSE\n",
      "0               5000  500            5  0.01  linreg  0.999996       1.120479\n",
      "1               5000  500            5  0.01     pcr  0.008567  278123.542607\n",
      "2               5000  500            5  0.01     pls  0.999916      23.445148\n",
      "0               5000  500           50  0.01  linreg  0.999996       1.120479\n",
      "1               5000  500           50  0.01     pcr  0.127465  244769.316087\n",
      "..               ...  ...          ...   ...     ...       ...            ...\n",
      "1                  5    5            1  0.01     pcr -0.001937    2375.371407\n",
      "2                  5    5            1  0.01     pls  0.422868    1368.251912\n",
      "0                  5    5            2  0.01  linreg  0.624115     891.141407\n",
      "1                  5    5            2  0.01     pcr  0.011483    2343.556136\n",
      "2                  5    5            2  0.01     pls  0.672009     777.594949\n",
      "\n",
      "[1290 rows x 7 columns]\n",
      "   train_sample_size    N n_components   rho   model        R2            MSE\n",
      "0               5000  500            5  0.01  linreg  0.999996       1.120479\n",
      "1               5000  500            5  0.01     pcr  0.008567  278123.542607\n",
      "2               5000  500            5  0.01     pls  0.999916      23.445148\n",
      "0               5000  500           50  0.01  linreg  0.999996       1.120479\n",
      "1               5000  500           50  0.01     pcr  0.127465  244769.316087\n",
      "..               ...  ...          ...   ...     ...       ...            ...\n",
      "1                  5    5            2  0.01     pcr  0.011483    2343.556136\n",
      "2                  5    5            2  0.01     pls  0.672009     777.594949\n",
      "0                 50    5            1  0.10  linreg  0.999752       1.071857\n",
      "1                 50    5            1  0.10     pcr  0.000784    4326.125106\n",
      "2                 50    5            1  0.10     pls  0.968973     134.330056\n",
      "\n",
      "[1293 rows x 7 columns]\n"
     ]
    },
    {
     "name": "stderr",
     "output_type": "stream",
     "text": [
      " 80%|████████  | 4/5 [16:22<02:32, 152.18s/it, N=5, linreg=0.999, pcr=0.182, pls=0.941, rho=0.1]"
     ]
    },
    {
     "name": "stdout",
     "output_type": "stream",
     "text": [
      "   train_sample_size    N n_components   rho   model        R2            MSE\n",
      "0               5000  500            5  0.01  linreg  0.999996       1.120479\n",
      "1               5000  500            5  0.01     pcr  0.008567  278123.542607\n",
      "2               5000  500            5  0.01     pls  0.999916      23.445148\n",
      "0               5000  500           50  0.01  linreg  0.999996       1.120479\n",
      "1               5000  500           50  0.01     pcr  0.127465  244769.316087\n",
      "..               ...  ...          ...   ...     ...       ...            ...\n",
      "1                 50    5            1  0.10     pcr  0.000784    4326.125106\n",
      "2                 50    5            1  0.10     pls  0.968973     134.330056\n",
      "0                 50    5            2  0.10  linreg  0.999752       1.071857\n",
      "1                 50    5            2  0.10     pcr  0.027971    4208.420832\n",
      "2                 50    5            2  0.10     pls  0.999662       1.465501\n",
      "\n",
      "[1296 rows x 7 columns]\n",
      "   train_sample_size    N n_components   rho   model        R2            MSE\n",
      "0               5000  500            5  0.01  linreg  0.999996       1.120479\n",
      "1               5000  500            5  0.01     pcr  0.008567  278123.542607\n",
      "2               5000  500            5  0.01     pls  0.999916      23.445148\n",
      "0               5000  500           50  0.01  linreg  0.999996       1.120479\n",
      "1               5000  500           50  0.01     pcr  0.127465  244769.316087\n",
      "..               ...  ...          ...   ...     ...       ...            ...\n",
      "1                 50    5            2  0.10     pcr  0.027971    4208.420832\n",
      "2                 50    5            2  0.10     pls  0.999662       1.465501\n",
      "0                 25    5            1  0.10  linreg  0.999709       1.260321\n",
      "1                 25    5            1  0.10     pcr -0.014681    4392.600495\n",
      "2                 25    5            1  0.10     pls  0.892029     467.413385\n",
      "\n",
      "[1299 rows x 7 columns]\n",
      "   train_sample_size    N n_components   rho   model        R2            MSE\n",
      "0               5000  500            5  0.01  linreg  0.999996       1.120479\n",
      "1               5000  500            5  0.01     pcr  0.008567  278123.542607\n",
      "2               5000  500            5  0.01     pls  0.999916      23.445148\n",
      "0               5000  500           50  0.01  linreg  0.999996       1.120479\n",
      "1               5000  500           50  0.01     pcr  0.127465  244769.316087\n",
      "..               ...  ...          ...   ...     ...       ...            ...\n",
      "1                 25    5            1  0.10     pcr -0.014681    4392.600495\n",
      "2                 25    5            1  0.10     pls  0.892029     467.413385\n",
      "0                 25    5            2  0.10  linreg  0.999709       1.260321\n",
      "1                 25    5            2  0.10     pcr  0.142718    3711.212226\n",
      "2                 25    5            2  0.10     pls  0.968582     136.008343\n",
      "\n",
      "[1302 rows x 7 columns]\n",
      "   train_sample_size    N n_components   rho   model        R2            MSE\n",
      "0               5000  500            5  0.01  linreg  0.999996       1.120479\n",
      "1               5000  500            5  0.01     pcr  0.008567  278123.542607\n",
      "2               5000  500            5  0.01     pls  0.999916      23.445148\n",
      "0               5000  500           50  0.01  linreg  0.999996       1.120479\n",
      "1               5000  500           50  0.01     pcr  0.127465  244769.316087\n",
      "..               ...  ...          ...   ...     ...       ...            ...\n",
      "1                 25    5            2  0.10     pcr  0.142718    3711.212226\n",
      "2                 25    5            2  0.10     pls  0.968582     136.008343\n",
      "0                 15    5            1  0.10  linreg  0.999724       1.195249\n",
      "1                 15    5            1  0.10     pcr  0.003928    4311.924364\n",
      "2                 15    5            1  0.10     pls  0.800366     864.201385\n",
      "\n",
      "[1305 rows x 7 columns]\n",
      "   train_sample_size    N n_components   rho   model        R2            MSE\n",
      "0               5000  500            5  0.01  linreg  0.999996       1.120479\n",
      "1               5000  500            5  0.01     pcr  0.008567  278123.542607\n",
      "2               5000  500            5  0.01     pls  0.999916      23.445148\n",
      "0               5000  500           50  0.01  linreg  0.999996       1.120479\n",
      "1               5000  500           50  0.01     pcr  0.127465  244769.316087\n",
      "..               ...  ...          ...   ...     ...       ...            ...\n",
      "1                 15    5            1  0.10     pcr  0.003928    4311.924364\n",
      "2                 15    5            1  0.10     pls  0.800366     864.201385\n",
      "0                 15    5            2  0.10  linreg  0.999724       1.195249\n",
      "1                 15    5            2  0.10     pcr  0.161428    3630.114767\n",
      "2                 15    5            2  0.10     pls  0.938566     265.945220\n",
      "\n",
      "[1308 rows x 7 columns]\n",
      "   train_sample_size    N n_components   rho   model        R2            MSE\n",
      "0               5000  500            5  0.01  linreg  0.999996       1.120479\n",
      "1               5000  500            5  0.01     pcr  0.008567  278123.542607\n",
      "2               5000  500            5  0.01     pls  0.999916      23.445148\n",
      "0               5000  500           50  0.01  linreg  0.999996       1.120479\n",
      "1               5000  500           50  0.01     pcr  0.127465  244769.316087\n",
      "..               ...  ...          ...   ...     ...       ...            ...\n",
      "1                 15    5            2  0.10     pcr  0.161428    3630.114767\n",
      "2                 15    5            2  0.10     pls  0.938566     265.945220\n",
      "0                 10    5            1  0.10  linreg  0.999496       2.182404\n",
      "1                 10    5            1  0.10     pcr  0.137459    3733.842850\n",
      "2                 10    5            1  0.10     pls  0.796961     878.930875\n",
      "\n",
      "[1311 rows x 7 columns]\n"
     ]
    },
    {
     "name": "stderr",
     "output_type": "stream",
     "text": [
      " 80%|████████  | 4/5 [16:23<02:32, 152.18s/it, N=5, linreg=0.999, pcr=0.0393, pls=0.995, rho=0.2]"
     ]
    },
    {
     "name": "stdout",
     "output_type": "stream",
     "text": [
      "   train_sample_size    N n_components   rho   model        R2            MSE\n",
      "0               5000  500            5  0.01  linreg  0.999996       1.120479\n",
      "1               5000  500            5  0.01     pcr  0.008567  278123.542607\n",
      "2               5000  500            5  0.01     pls  0.999916      23.445148\n",
      "0               5000  500           50  0.01  linreg  0.999996       1.120479\n",
      "1               5000  500           50  0.01     pcr  0.127465  244769.316087\n",
      "..               ...  ...          ...   ...     ...       ...            ...\n",
      "1                 10    5            1  0.10     pcr  0.137459    3733.842850\n",
      "2                 10    5            1  0.10     pls  0.796961     878.930875\n",
      "0                 10    5            2  0.10  linreg  0.999496       2.182404\n",
      "1                 10    5            2  0.10     pcr  0.181728    3542.206274\n",
      "2                 10    5            2  0.10     pls  0.940767     256.414885\n",
      "\n",
      "[1314 rows x 7 columns]\n",
      "   train_sample_size    N n_components   rho   model        R2            MSE\n",
      "0               5000  500            5  0.01  linreg  0.999996       1.120479\n",
      "1               5000  500            5  0.01     pcr  0.008567  278123.542607\n",
      "2               5000  500            5  0.01     pls  0.999916      23.445148\n",
      "0               5000  500           50  0.01  linreg  0.999996       1.120479\n",
      "1               5000  500           50  0.01     pcr  0.127465  244769.316087\n",
      "..               ...  ...          ...   ...     ...       ...            ...\n",
      "1                 10    5            2  0.10     pcr  0.181728    3542.206274\n",
      "2                 10    5            2  0.10     pls  0.940767     256.414885\n",
      "0                  5    5            1  0.10  linreg  0.949297     219.484299\n",
      "1                  5    5            1  0.10     pcr -0.100475    4763.789425\n",
      "2                  5    5            1  0.10     pls  0.623735    1628.795587\n",
      "\n",
      "[1317 rows x 7 columns]\n",
      "   train_sample_size    N n_components   rho   model        R2            MSE\n",
      "0               5000  500            5  0.01  linreg  0.999996       1.120479\n",
      "1               5000  500            5  0.01     pcr  0.008567  278123.542607\n",
      "2               5000  500            5  0.01     pls  0.999916      23.445148\n",
      "0               5000  500           50  0.01  linreg  0.999996       1.120479\n",
      "1               5000  500           50  0.01     pcr  0.127465  244769.316087\n",
      "..               ...  ...          ...   ...     ...       ...            ...\n",
      "1                  5    5            1  0.10     pcr -0.100475    4763.789425\n",
      "2                  5    5            1  0.10     pls  0.623735    1628.795587\n",
      "0                  5    5            2  0.10  linreg  0.949297     219.484299\n",
      "1                  5    5            2  0.10     pcr  0.479955    2251.198756\n",
      "2                  5    5            2  0.10     pls  0.864421     586.900046\n",
      "\n",
      "[1320 rows x 7 columns]\n",
      "   train_sample_size    N n_components   rho   model        R2            MSE\n",
      "0               5000  500            5  0.01  linreg  0.999996       1.120479\n",
      "1               5000  500            5  0.01     pcr  0.008567  278123.542607\n",
      "2               5000  500            5  0.01     pls  0.999916      23.445148\n",
      "0               5000  500           50  0.01  linreg  0.999996       1.120479\n",
      "1               5000  500           50  0.01     pcr  0.127465  244769.316087\n",
      "..               ...  ...          ...   ...     ...       ...            ...\n",
      "1                  5    5            2  0.10     pcr  0.479955    2251.198756\n",
      "2                  5    5            2  0.10     pls  0.864421     586.900046\n",
      "0                 50    5            1  0.20  linreg  0.999221       1.170672\n",
      "1                 50    5            1  0.20     pcr -0.058763    1590.741901\n",
      "2                 50    5            1  0.20     pls  0.946000      81.131883\n",
      "\n",
      "[1323 rows x 7 columns]\n"
     ]
    },
    {
     "name": "stderr",
     "output_type": "stream",
     "text": [
      " 80%|████████  | 4/5 [16:23<02:32, 152.18s/it, N=5, linreg=0.998, pcr=0.217, pls=0.487, rho=0.2] "
     ]
    },
    {
     "name": "stdout",
     "output_type": "stream",
     "text": [
      "   train_sample_size    N n_components   rho   model        R2            MSE\n",
      "0               5000  500            5  0.01  linreg  0.999996       1.120479\n",
      "1               5000  500            5  0.01     pcr  0.008567  278123.542607\n",
      "2               5000  500            5  0.01     pls  0.999916      23.445148\n",
      "0               5000  500           50  0.01  linreg  0.999996       1.120479\n",
      "1               5000  500           50  0.01     pcr  0.127465  244769.316087\n",
      "..               ...  ...          ...   ...     ...       ...            ...\n",
      "1                 50    5            1  0.20     pcr -0.058763    1590.741901\n",
      "2                 50    5            1  0.20     pls  0.946000      81.131883\n",
      "0                 50    5            2  0.20  linreg  0.999221       1.170672\n",
      "1                 50    5            2  0.20     pcr  0.039285    1443.430138\n",
      "2                 50    5            2  0.20     pls  0.995043       7.448125\n",
      "\n",
      "[1326 rows x 7 columns]\n",
      "   train_sample_size    N n_components   rho   model        R2            MSE\n",
      "0               5000  500            5  0.01  linreg  0.999996       1.120479\n",
      "1               5000  500            5  0.01     pcr  0.008567  278123.542607\n",
      "2               5000  500            5  0.01     pls  0.999916      23.445148\n",
      "0               5000  500           50  0.01  linreg  0.999996       1.120479\n",
      "1               5000  500           50  0.01     pcr  0.127465  244769.316087\n",
      "..               ...  ...          ...   ...     ...       ...            ...\n",
      "1                 50    5            2  0.20     pcr  0.039285    1443.430138\n",
      "2                 50    5            2  0.20     pls  0.995043       7.448125\n",
      "0                 25    5            1  0.20  linreg  0.999230       1.157063\n",
      "1                 25    5            1  0.20     pcr -0.078054    1619.488532\n",
      "2                 25    5            1  0.20     pls  0.876355     185.743095\n",
      "\n",
      "[1329 rows x 7 columns]\n",
      "   train_sample_size    N n_components   rho   model        R2            MSE\n",
      "0               5000  500            5  0.01  linreg  0.999996       1.120479\n",
      "1               5000  500            5  0.01     pcr  0.008567  278123.542607\n",
      "2               5000  500            5  0.01     pls  0.999916      23.445148\n",
      "0               5000  500           50  0.01  linreg  0.999996       1.120479\n",
      "1               5000  500           50  0.01     pcr  0.127465  244769.316087\n",
      "..               ...  ...          ...   ...     ...       ...            ...\n",
      "1                 25    5            1  0.20     pcr -0.078054    1619.488532\n",
      "2                 25    5            1  0.20     pls  0.876355     185.743095\n",
      "0                 25    5            2  0.20  linreg  0.999230       1.157063\n",
      "1                 25    5            2  0.20     pcr  0.638777     542.640725\n",
      "2                 25    5            2  0.20     pls  0.992565      11.168773\n",
      "\n",
      "[1332 rows x 7 columns]\n",
      "   train_sample_size    N n_components   rho   model        R2            MSE\n",
      "0               5000  500            5  0.01  linreg  0.999996       1.120479\n",
      "1               5000  500            5  0.01     pcr  0.008567  278123.542607\n",
      "2               5000  500            5  0.01     pls  0.999916      23.445148\n",
      "0               5000  500           50  0.01  linreg  0.999996       1.120479\n",
      "1               5000  500           50  0.01     pcr  0.127465  244769.316087\n",
      "..               ...  ...          ...   ...     ...       ...            ...\n",
      "1                 25    5            2  0.20     pcr  0.638777     542.640725\n",
      "2                 25    5            2  0.20     pls  0.992565      11.168773\n",
      "0                 15    5            1  0.20  linreg  0.999276       1.087402\n",
      "1                 15    5            1  0.20     pcr -0.071465    1609.586882\n",
      "2                 15    5            1  0.20     pls  0.771721     342.927065\n",
      "\n",
      "[1335 rows x 7 columns]\n",
      "   train_sample_size    N n_components   rho   model        R2            MSE\n",
      "0               5000  500            5  0.01  linreg  0.999996       1.120479\n",
      "1               5000  500            5  0.01     pcr  0.008567  278123.542607\n",
      "2               5000  500            5  0.01     pls  0.999916      23.445148\n",
      "0               5000  500           50  0.01  linreg  0.999996       1.120479\n",
      "1               5000  500           50  0.01     pcr  0.127465  244769.316087\n",
      "..               ...  ...          ...   ...     ...       ...            ...\n",
      "1                 15    5            1  0.20     pcr -0.071465    1609.586882\n",
      "2                 15    5            1  0.20     pls  0.771721     342.927065\n",
      "0                 15    5            2  0.20  linreg  0.999276       1.087402\n",
      "1                 15    5            2  0.20     pcr  0.702563     446.819083\n",
      "2                 15    5            2  0.20     pls  0.885504     171.998866\n",
      "\n",
      "[1338 rows x 7 columns]\n",
      "   train_sample_size    N n_components   rho   model        R2            MSE\n",
      "0               5000  500            5  0.01  linreg  0.999996       1.120479\n",
      "1               5000  500            5  0.01     pcr  0.008567  278123.542607\n",
      "2               5000  500            5  0.01     pls  0.999916      23.445148\n",
      "0               5000  500           50  0.01  linreg  0.999996       1.120479\n",
      "1               5000  500           50  0.01     pcr  0.127465  244769.316087\n",
      "..               ...  ...          ...   ...     ...       ...            ...\n",
      "1                 15    5            2  0.20     pcr  0.702563     446.819083\n",
      "2                 15    5            2  0.20     pls  0.885504     171.998866\n",
      "0                 10    5            1  0.20  linreg  0.997966       3.055600\n",
      "1                 10    5            1  0.20     pcr -0.213267    1822.686896\n",
      "2                 10    5            1  0.20     pls  0.141714    1289.400233\n",
      "\n",
      "[1341 rows x 7 columns]\n",
      "   train_sample_size    N n_components   rho   model        R2            MSE\n",
      "0               5000  500            5  0.01  linreg  0.999996       1.120479\n",
      "1               5000  500            5  0.01     pcr  0.008567  278123.542607\n",
      "2               5000  500            5  0.01     pls  0.999916      23.445148\n",
      "0               5000  500           50  0.01  linreg  0.999996       1.120479\n",
      "1               5000  500           50  0.01     pcr  0.127465  244769.316087\n",
      "..               ...  ...          ...   ...     ...       ...            ...\n",
      "1                 10    5            1  0.20     pcr -0.213267    1822.686896\n",
      "2                 10    5            1  0.20     pls  0.141714    1289.400233\n",
      "0                 10    5            2  0.20  linreg  0.997966       3.055600\n",
      "1                 10    5            2  0.20     pcr  0.216832    1176.550637\n",
      "2                 10    5            2  0.20     pls  0.487096     770.533657\n",
      "\n",
      "[1344 rows x 7 columns]\n"
     ]
    },
    {
     "name": "stderr",
     "output_type": "stream",
     "text": [
      " 80%|████████  | 4/5 [16:23<02:32, 152.18s/it, N=5, linreg=1, pcr=0.889, pls=0.88, rho=0.5]      "
     ]
    },
    {
     "name": "stdout",
     "output_type": "stream",
     "text": [
      "   train_sample_size    N n_components   rho   model        R2            MSE\n",
      "0               5000  500            5  0.01  linreg  0.999996       1.120479\n",
      "1               5000  500            5  0.01     pcr  0.008567  278123.542607\n",
      "2               5000  500            5  0.01     pls  0.999916      23.445148\n",
      "0               5000  500           50  0.01  linreg  0.999996       1.120479\n",
      "1               5000  500           50  0.01     pcr  0.127465  244769.316087\n",
      "..               ...  ...          ...   ...     ...       ...            ...\n",
      "1                 10    5            2  0.20     pcr  0.216832    1176.550637\n",
      "2                 10    5            2  0.20     pls  0.487096     770.533657\n",
      "0                  5    5            1  0.20  linreg  0.477820     784.439776\n",
      "1                  5    5            1  0.20     pcr -0.464438    2199.936136\n",
      "2                  5    5            1  0.20     pls -0.468961    2206.730540\n",
      "\n",
      "[1347 rows x 7 columns]\n",
      "   train_sample_size    N n_components   rho   model        R2            MSE\n",
      "0               5000  500            5  0.01  linreg  0.999996       1.120479\n",
      "1               5000  500            5  0.01     pcr  0.008567  278123.542607\n",
      "2               5000  500            5  0.01     pls  0.999916      23.445148\n",
      "0               5000  500           50  0.01  linreg  0.999996       1.120479\n",
      "1               5000  500           50  0.01     pcr  0.127465  244769.316087\n",
      "..               ...  ...          ...   ...     ...       ...            ...\n",
      "1                  5    5            1  0.20     pcr -0.464438    2199.936136\n",
      "2                  5    5            1  0.20     pls -0.468961    2206.730540\n",
      "0                  5    5            2  0.20  linreg  0.477820     784.439776\n",
      "1                  5    5            2  0.20     pcr  0.293594    1061.190525\n",
      "2                  5    5            2  0.20     pls -0.063376    1597.444732\n",
      "\n",
      "[1350 rows x 7 columns]\n",
      "   train_sample_size    N n_components   rho   model        R2            MSE\n",
      "0               5000  500            5  0.01  linreg  0.999996       1.120479\n",
      "1               5000  500            5  0.01     pcr  0.008567  278123.542607\n",
      "2               5000  500            5  0.01     pls  0.999916      23.445148\n",
      "0               5000  500           50  0.01  linreg  0.999996       1.120479\n",
      "1               5000  500           50  0.01     pcr  0.127465  244769.316087\n",
      "..               ...  ...          ...   ...     ...       ...            ...\n",
      "1                  5    5            2  0.20     pcr  0.293594    1061.190525\n",
      "2                  5    5            2  0.20     pls -0.063376    1597.444732\n",
      "0                 50    5            1  0.50  linreg  0.999773       1.122496\n",
      "1                 50    5            1  0.50     pcr  0.878956     599.702902\n",
      "2                 50    5            1  0.50     pls  0.905569     467.854080\n",
      "\n",
      "[1353 rows x 7 columns]\n",
      "   train_sample_size    N n_components   rho   model        R2            MSE\n",
      "0               5000  500            5  0.01  linreg  0.999996       1.120479\n",
      "1               5000  500            5  0.01     pcr  0.008567  278123.542607\n",
      "2               5000  500            5  0.01     pls  0.999916      23.445148\n",
      "0               5000  500           50  0.01  linreg  0.999996       1.120479\n",
      "1               5000  500           50  0.01     pcr  0.127465  244769.316087\n",
      "..               ...  ...          ...   ...     ...       ...            ...\n",
      "1                 50    5            1  0.50     pcr  0.878956     599.702902\n",
      "2                 50    5            1  0.50     pls  0.905569     467.854080\n",
      "0                 50    5            2  0.50  linreg  0.999773       1.122496\n",
      "1                 50    5            2  0.50     pcr  0.883219     578.585090\n",
      "2                 50    5            2  0.50     pls  0.996815      15.780053\n",
      "\n",
      "[1356 rows x 7 columns]\n",
      "   train_sample_size    N n_components   rho   model        R2            MSE\n",
      "0               5000  500            5  0.01  linreg  0.999996       1.120479\n",
      "1               5000  500            5  0.01     pcr  0.008567  278123.542607\n",
      "2               5000  500            5  0.01     pls  0.999916      23.445148\n",
      "0               5000  500           50  0.01  linreg  0.999996       1.120479\n",
      "1               5000  500           50  0.01     pcr  0.127465  244769.316087\n",
      "..               ...  ...          ...   ...     ...       ...            ...\n",
      "1                 50    5            2  0.50     pcr  0.883219     578.585090\n",
      "2                 50    5            2  0.50     pls  0.996815      15.780053\n",
      "0                 25    5            1  0.50  linreg  0.999723       1.372992\n",
      "1                 25    5            1  0.50     pcr  0.893488     527.709475\n",
      "2                 25    5            1  0.50     pls  0.891498     537.571822\n",
      "\n",
      "[1359 rows x 7 columns]\n",
      "   train_sample_size    N n_components   rho   model        R2            MSE\n",
      "0               5000  500            5  0.01  linreg  0.999996       1.120479\n",
      "1               5000  500            5  0.01     pcr  0.008567  278123.542607\n",
      "2               5000  500            5  0.01     pls  0.999916      23.445148\n",
      "0               5000  500           50  0.01  linreg  0.999996       1.120479\n",
      "1               5000  500           50  0.01     pcr  0.127465  244769.316087\n",
      "..               ...  ...          ...   ...     ...       ...            ...\n",
      "1                 25    5            1  0.50     pcr  0.893488     527.709475\n",
      "2                 25    5            1  0.50     pls  0.891498     537.571822\n",
      "0                 25    5            2  0.50  linreg  0.999723       1.372992\n",
      "1                 25    5            2  0.50     pcr  0.943083     281.992913\n",
      "2                 25    5            2  0.50     pls  0.987185      63.489470\n",
      "\n",
      "[1362 rows x 7 columns]\n"
     ]
    },
    {
     "name": "stderr",
     "output_type": "stream",
     "text": [
      " 80%|████████  | 4/5 [16:23<02:32, 152.18s/it, N=5, linreg=0.997, pcr=0.224, pls=0.256, rho=0.9]"
     ]
    },
    {
     "name": "stdout",
     "output_type": "stream",
     "text": [
      "   train_sample_size    N n_components   rho   model        R2            MSE\n",
      "0               5000  500            5  0.01  linreg  0.999996       1.120479\n",
      "1               5000  500            5  0.01     pcr  0.008567  278123.542607\n",
      "2               5000  500            5  0.01     pls  0.999916      23.445148\n",
      "0               5000  500           50  0.01  linreg  0.999996       1.120479\n",
      "1               5000  500           50  0.01     pcr  0.127465  244769.316087\n",
      "..               ...  ...          ...   ...     ...       ...            ...\n",
      "1                 25    5            2  0.50     pcr  0.943083     281.992913\n",
      "2                 25    5            2  0.50     pls  0.987185      63.489470\n",
      "0                 15    5            1  0.50  linreg  0.999647       1.749700\n",
      "1                 15    5            1  0.50     pcr  0.888994     549.989488\n",
      "2                 15    5            1  0.50     pls  0.879815     595.464563\n",
      "\n",
      "[1365 rows x 7 columns]\n",
      "   train_sample_size    N n_components   rho   model        R2            MSE\n",
      "0               5000  500            5  0.01  linreg  0.999996       1.120479\n",
      "1               5000  500            5  0.01     pcr  0.008567  278123.542607\n",
      "2               5000  500            5  0.01     pls  0.999916      23.445148\n",
      "0               5000  500           50  0.01  linreg  0.999996       1.120479\n",
      "1               5000  500           50  0.01     pcr  0.127465  244769.316087\n",
      "..               ...  ...          ...   ...     ...       ...            ...\n",
      "1                 15    5            1  0.50     pcr  0.888994     549.989488\n",
      "2                 15    5            1  0.50     pls  0.879815     595.464563\n",
      "0                 15    5            2  0.50  linreg  0.999647       1.749700\n",
      "1                 15    5            2  0.50     pcr  0.960432     196.041720\n",
      "2                 15    5            2  0.50     pls  0.972967     133.938312\n",
      "\n",
      "[1368 rows x 7 columns]\n",
      "   train_sample_size    N n_components   rho   model        R2            MSE\n",
      "0               5000  500            5  0.01  linreg  0.999996       1.120479\n",
      "1               5000  500            5  0.01     pcr  0.008567  278123.542607\n",
      "2               5000  500            5  0.01     pls  0.999916      23.445148\n",
      "0               5000  500           50  0.01  linreg  0.999996       1.120479\n",
      "1               5000  500           50  0.01     pcr  0.127465  244769.316087\n",
      "..               ...  ...          ...   ...     ...       ...            ...\n",
      "1                 15    5            2  0.50     pcr  0.960432     196.041720\n",
      "2                 15    5            2  0.50     pls  0.972967     133.938312\n",
      "0                 10    5            1  0.50  linreg  0.999504       2.457785\n",
      "1                 10    5            1  0.50     pcr  0.911132     440.308707\n",
      "2                 10    5            1  0.50     pls  0.875903     614.852397\n",
      "\n",
      "[1371 rows x 7 columns]\n",
      "   train_sample_size    N n_components   rho   model        R2            MSE\n",
      "0               5000  500            5  0.01  linreg  0.999996       1.120479\n",
      "1               5000  500            5  0.01     pcr  0.008567  278123.542607\n",
      "2               5000  500            5  0.01     pls  0.999916      23.445148\n",
      "0               5000  500           50  0.01  linreg  0.999996       1.120479\n",
      "1               5000  500           50  0.01     pcr  0.127465  244769.316087\n",
      "..               ...  ...          ...   ...     ...       ...            ...\n",
      "1                 10    5            1  0.50     pcr  0.911132     440.308707\n",
      "2                 10    5            1  0.50     pls  0.875903     614.852397\n",
      "0                 10    5            2  0.50  linreg  0.999504       2.457785\n",
      "1                 10    5            2  0.50     pcr  0.968656     155.295268\n",
      "2                 10    5            2  0.50     pls  0.968096     158.070534\n",
      "\n",
      "[1374 rows x 7 columns]\n",
      "   train_sample_size    N n_components   rho   model        R2            MSE\n",
      "0               5000  500            5  0.01  linreg  0.999996       1.120479\n",
      "1               5000  500            5  0.01     pcr  0.008567  278123.542607\n",
      "2               5000  500            5  0.01     pls  0.999916      23.445148\n",
      "0               5000  500           50  0.01  linreg  0.999996       1.120479\n",
      "1               5000  500           50  0.01     pcr  0.127465  244769.316087\n",
      "..               ...  ...          ...   ...     ...       ...            ...\n",
      "1                 10    5            2  0.50     pcr  0.968656     155.295268\n",
      "2                 10    5            2  0.50     pls  0.968096     158.070534\n",
      "0                  5    5            1  0.50  linreg  0.999637       1.798465\n",
      "1                  5    5            1  0.50     pcr  0.490552    2524.233140\n",
      "2                  5    5            1  0.50     pls  0.878171     603.643813\n",
      "\n",
      "[1377 rows x 7 columns]\n",
      "   train_sample_size    N n_components   rho   model        R2            MSE\n",
      "0               5000  500            5  0.01  linreg  0.999996       1.120479\n",
      "1               5000  500            5  0.01     pcr  0.008567  278123.542607\n",
      "2               5000  500            5  0.01     pls  0.999916      23.445148\n",
      "0               5000  500           50  0.01  linreg  0.999996       1.120479\n",
      "1               5000  500           50  0.01     pcr  0.127465  244769.316087\n",
      "..               ...  ...          ...   ...     ...       ...            ...\n",
      "1                  5    5            1  0.50     pcr  0.490552    2524.233140\n",
      "2                  5    5            1  0.50     pls  0.878171     603.643813\n",
      "0                  5    5            2  0.50  linreg  0.999637       1.798465\n",
      "1                  5    5            2  0.50     pcr  0.968577     155.697135\n",
      "2                  5    5            2  0.50     pls  0.982283      87.783188\n",
      "\n",
      "[1380 rows x 7 columns]\n"
     ]
    },
    {
     "name": "stderr",
     "output_type": "stream",
     "text": [
      " 80%|████████  | 4/5 [16:24<02:32, 152.18s/it, N=5, linreg=0.997, pcr=0.219, pls=0.915, rho=0.9]"
     ]
    },
    {
     "name": "stdout",
     "output_type": "stream",
     "text": [
      "   train_sample_size    N n_components   rho   model        R2            MSE\n",
      "0               5000  500            5  0.01  linreg  0.999996       1.120479\n",
      "1               5000  500            5  0.01     pcr  0.008567  278123.542607\n",
      "2               5000  500            5  0.01     pls  0.999916      23.445148\n",
      "0               5000  500           50  0.01  linreg  0.999996       1.120479\n",
      "1               5000  500           50  0.01     pcr  0.127465  244769.316087\n",
      "..               ...  ...          ...   ...     ...       ...            ...\n",
      "1                  5    5            2  0.50     pcr  0.968577     155.697135\n",
      "2                  5    5            2  0.50     pls  0.982283      87.783188\n",
      "0                 50    5            1  0.90  linreg  0.997268       1.344059\n",
      "1                 50    5            1  0.90     pcr  0.224494     381.522608\n",
      "2                 50    5            1  0.90     pls  0.256323     365.864149\n",
      "\n",
      "[1383 rows x 7 columns]\n",
      "   train_sample_size    N n_components   rho   model        R2            MSE\n",
      "0               5000  500            5  0.01  linreg  0.999996       1.120479\n",
      "1               5000  500            5  0.01     pcr  0.008567  278123.542607\n",
      "2               5000  500            5  0.01     pls  0.999916      23.445148\n",
      "0               5000  500           50  0.01  linreg  0.999996       1.120479\n",
      "1               5000  500           50  0.01     pcr  0.127465  244769.316087\n",
      "..               ...  ...          ...   ...     ...       ...            ...\n",
      "1                 50    5            1  0.90     pcr  0.224494     381.522608\n",
      "2                 50    5            1  0.90     pls  0.256323     365.864149\n",
      "0                 50    5            2  0.90  linreg  0.997268       1.344059\n",
      "1                 50    5            2  0.90     pcr  0.246767     370.565336\n",
      "2                 50    5            2  0.90     pls  0.952550      23.343591\n",
      "\n",
      "[1386 rows x 7 columns]\n",
      "   train_sample_size    N n_components   rho   model        R2            MSE\n",
      "0               5000  500            5  0.01  linreg  0.999996       1.120479\n",
      "1               5000  500            5  0.01     pcr  0.008567  278123.542607\n",
      "2               5000  500            5  0.01     pls  0.999916      23.445148\n",
      "0               5000  500           50  0.01  linreg  0.999996       1.120479\n",
      "1               5000  500           50  0.01     pcr  0.127465  244769.316087\n",
      "..               ...  ...          ...   ...     ...       ...            ...\n",
      "1                 50    5            2  0.90     pcr  0.246767     370.565336\n",
      "2                 50    5            2  0.90     pls  0.952550      23.343591\n",
      "0                 25    5            1  0.90  linreg  0.995593       2.167618\n",
      "1                 25    5            1  0.90     pcr  0.201011     393.031608\n",
      "2                 25    5            1  0.90     pls  0.202323     392.386193\n",
      "\n",
      "[1389 rows x 7 columns]\n",
      "   train_sample_size    N n_components   rho   model        R2            MSE\n",
      "0               5000  500            5  0.01  linreg  0.999996       1.120479\n",
      "1               5000  500            5  0.01     pcr  0.008567  278123.542607\n",
      "2               5000  500            5  0.01     pls  0.999916      23.445148\n",
      "0               5000  500           50  0.01  linreg  0.999996       1.120479\n",
      "1               5000  500           50  0.01     pcr  0.127465  244769.316087\n",
      "..               ...  ...          ...   ...     ...       ...            ...\n",
      "1                 25    5            1  0.90     pcr  0.201011     393.031608\n",
      "2                 25    5            1  0.90     pls  0.202323     392.386193\n",
      "0                 25    5            2  0.90  linreg  0.995593       2.167618\n",
      "1                 25    5            2  0.90     pcr  0.197156     394.927725\n",
      "2                 25    5            2  0.90     pls  0.916263      41.191255\n",
      "\n",
      "[1392 rows x 7 columns]\n",
      "   train_sample_size    N n_components   rho   model        R2            MSE\n",
      "0               5000  500            5  0.01  linreg  0.999996       1.120479\n",
      "1               5000  500            5  0.01     pcr  0.008567  278123.542607\n",
      "2               5000  500            5  0.01     pls  0.999916      23.445148\n",
      "0               5000  500           50  0.01  linreg  0.999996       1.120479\n",
      "1               5000  500           50  0.01     pcr  0.127465  244769.316087\n",
      "..               ...  ...          ...   ...     ...       ...            ...\n",
      "1                 25    5            2  0.90     pcr  0.197156     394.927725\n",
      "2                 25    5            2  0.90     pls  0.916263      41.191255\n",
      "0                 15    5            1  0.90  linreg  0.995978       1.978546\n",
      "1                 15    5            1  0.90     pcr  0.200181     393.444720\n",
      "2                 15    5            1  0.90     pls  0.208819     389.195805\n",
      "\n",
      "[1395 rows x 7 columns]\n",
      "   train_sample_size    N n_components   rho   model        R2            MSE\n",
      "0               5000  500            5  0.01  linreg  0.999996       1.120479\n",
      "1               5000  500            5  0.01     pcr  0.008567  278123.542607\n",
      "2               5000  500            5  0.01     pls  0.999916      23.445148\n",
      "0               5000  500           50  0.01  linreg  0.999996       1.120479\n",
      "1               5000  500           50  0.01     pcr  0.127465  244769.316087\n",
      "..               ...  ...          ...   ...     ...       ...            ...\n",
      "1                 15    5            1  0.90     pcr  0.200181     393.444720\n",
      "2                 15    5            1  0.90     pls  0.208819     389.195805\n",
      "0                 15    5            2  0.90  linreg  0.995978       1.978546\n",
      "1                 15    5            2  0.90     pcr  0.200153     393.458416\n",
      "2                 15    5            2  0.90     pls  0.946188      26.470853\n",
      "\n",
      "[1398 rows x 7 columns]\n",
      "   train_sample_size    N n_components   rho   model        R2            MSE\n",
      "0               5000  500            5  0.01  linreg  0.999996       1.120479\n",
      "1               5000  500            5  0.01     pcr  0.008567  278123.542607\n",
      "2               5000  500            5  0.01     pls  0.999916      23.445148\n",
      "0               5000  500           50  0.01  linreg  0.999996       1.120479\n",
      "1               5000  500           50  0.01     pcr  0.127465  244769.316087\n",
      "..               ...  ...          ...   ...     ...       ...            ...\n",
      "1                 15    5            2  0.90     pcr  0.200153     393.458416\n",
      "2                 15    5            2  0.90     pls  0.946188      26.470853\n",
      "0                 10    5            1  0.90  linreg  0.996926       1.512256\n",
      "1                 10    5            1  0.90     pcr  0.216806     385.253353\n",
      "2                 10    5            1  0.90     pls  0.223029     382.192395\n",
      "\n",
      "[1401 rows x 7 columns]\n"
     ]
    },
    {
     "name": "stderr",
     "output_type": "stream",
     "text": [
      " 80%|████████  | 4/5 [16:24<02:32, 152.18s/it, N=5, linreg=0.994, pcr=0.889, pls=0.989, rho=0.99]"
     ]
    },
    {
     "name": "stdout",
     "output_type": "stream",
     "text": [
      "   train_sample_size    N n_components   rho   model        R2            MSE\n",
      "0               5000  500            5  0.01  linreg  0.999996       1.120479\n",
      "1               5000  500            5  0.01     pcr  0.008567  278123.542607\n",
      "2               5000  500            5  0.01     pls  0.999916      23.445148\n",
      "0               5000  500           50  0.01  linreg  0.999996       1.120479\n",
      "1               5000  500           50  0.01     pcr  0.127465  244769.316087\n",
      "..               ...  ...          ...   ...     ...       ...            ...\n",
      "1                 10    5            1  0.90     pcr  0.216806     385.253353\n",
      "2                 10    5            1  0.90     pls  0.223029     382.192395\n",
      "0                 10    5            2  0.90  linreg  0.996926       1.512256\n",
      "1                 10    5            2  0.90     pcr  0.218512     384.414219\n",
      "2                 10    5            2  0.90     pls  0.914604      42.006123\n",
      "\n",
      "[1404 rows x 7 columns]\n",
      "   train_sample_size    N n_components   rho   model        R2            MSE\n",
      "0               5000  500            5  0.01  linreg  0.999996       1.120479\n",
      "1               5000  500            5  0.01     pcr  0.008567  278123.542607\n",
      "2               5000  500            5  0.01     pls  0.999916      23.445148\n",
      "0               5000  500           50  0.01  linreg  0.999996       1.120479\n",
      "1               5000  500           50  0.01     pcr  0.127465  244769.316087\n",
      "..               ...  ...          ...   ...     ...       ...            ...\n",
      "1                 10    5            2  0.90     pcr  0.218512     384.414219\n",
      "2                 10    5            2  0.90     pls  0.914604      42.006123\n",
      "0                  5    5            1  0.90  linreg  0.380146     304.898585\n",
      "1                  5    5            1  0.90     pcr  0.096148     444.593912\n",
      "2                  5    5            1  0.90     pls  0.082072     451.517851\n",
      "\n",
      "[1407 rows x 7 columns]\n",
      "   train_sample_size    N n_components   rho   model        R2            MSE\n",
      "0               5000  500            5  0.01  linreg  0.999996       1.120479\n",
      "1               5000  500            5  0.01     pcr  0.008567  278123.542607\n",
      "2               5000  500            5  0.01     pls  0.999916      23.445148\n",
      "0               5000  500           50  0.01  linreg  0.999996       1.120479\n",
      "1               5000  500           50  0.01     pcr  0.127465  244769.316087\n",
      "..               ...  ...          ...   ...     ...       ...            ...\n",
      "1                  5    5            1  0.90     pcr  0.096148     444.593912\n",
      "2                  5    5            1  0.90     pls  0.082072     451.517851\n",
      "0                  5    5            2  0.90  linreg  0.380146     304.898585\n",
      "1                  5    5            2  0.90     pcr  0.101289     442.065237\n",
      "2                  5    5            2  0.90     pls  0.410910     289.766199\n",
      "\n",
      "[1410 rows x 7 columns]\n",
      "   train_sample_size    N n_components   rho   model        R2            MSE\n",
      "0               5000  500            5  0.01  linreg  0.999996       1.120479\n",
      "1               5000  500            5  0.01     pcr  0.008567  278123.542607\n",
      "2               5000  500            5  0.01     pls  0.999916      23.445148\n",
      "0               5000  500           50  0.01  linreg  0.999996       1.120479\n",
      "1               5000  500           50  0.01     pcr  0.127465  244769.316087\n",
      "..               ...  ...          ...   ...     ...       ...            ...\n",
      "1                  5    5            2  0.90     pcr  0.101289     442.065237\n",
      "2                  5    5            2  0.90     pls  0.410910     289.766199\n",
      "0                 50    5            1  0.99  linreg  0.995282       1.382864\n",
      "1                 50    5            1  0.99     pcr  0.898000      29.894254\n",
      "2                 50    5            1  0.99     pls  0.897848      29.938762\n",
      "\n",
      "[1413 rows x 7 columns]\n",
      "   train_sample_size    N n_components   rho   model        R2            MSE\n",
      "0               5000  500            5  0.01  linreg  0.999996       1.120479\n",
      "1               5000  500            5  0.01     pcr  0.008567  278123.542607\n",
      "2               5000  500            5  0.01     pls  0.999916      23.445148\n",
      "0               5000  500           50  0.01  linreg  0.999996       1.120479\n",
      "1               5000  500           50  0.01     pcr  0.127465  244769.316087\n",
      "..               ...  ...          ...   ...     ...       ...            ...\n",
      "1                 50    5            1  0.99     pcr  0.898000      29.894254\n",
      "2                 50    5            1  0.99     pls  0.897848      29.938762\n",
      "0                 50    5            2  0.99  linreg  0.995282       1.382864\n",
      "1                 50    5            2  0.99     pcr  0.909787      26.439820\n",
      "2                 50    5            2  0.99     pls  0.992263       2.267684\n",
      "\n",
      "[1416 rows x 7 columns]\n",
      "   train_sample_size    N n_components   rho   model        R2            MSE\n",
      "0               5000  500            5  0.01  linreg  0.999996       1.120479\n",
      "1               5000  500            5  0.01     pcr  0.008567  278123.542607\n",
      "2               5000  500            5  0.01     pls  0.999916      23.445148\n",
      "0               5000  500           50  0.01  linreg  0.999996       1.120479\n",
      "1               5000  500           50  0.01     pcr  0.127465  244769.316087\n",
      "..               ...  ...          ...   ...     ...       ...            ...\n",
      "1                 50    5            2  0.99     pcr  0.909787      26.439820\n",
      "2                 50    5            2  0.99     pls  0.992263       2.267684\n",
      "0                 25    5            1  0.99  linreg  0.994321       1.664614\n",
      "1                 25    5            1  0.99     pcr  0.887262      33.043553\n",
      "2                 25    5            1  0.99     pls  0.886820      33.173337\n",
      "\n",
      "[1419 rows x 7 columns]\n",
      "   train_sample_size    N n_components   rho   model        R2            MSE\n",
      "0               5000  500            5  0.01  linreg  0.999996       1.120479\n",
      "1               5000  500            5  0.01     pcr  0.008567  278123.542607\n",
      "2               5000  500            5  0.01     pls  0.999916      23.445148\n",
      "0               5000  500           50  0.01  linreg  0.999996       1.120479\n",
      "1               5000  500           50  0.01     pcr  0.127465  244769.316087\n",
      "..               ...  ...          ...   ...     ...       ...            ...\n",
      "1                 25    5            1  0.99     pcr  0.887262      33.043553\n",
      "2                 25    5            1  0.99     pls  0.886820      33.173337\n",
      "0                 25    5            2  0.99  linreg  0.994321       1.664614\n",
      "1                 25    5            2  0.99     pcr  0.889062      32.516059\n",
      "2                 25    5            2  0.99     pls  0.989174       3.173164\n",
      "\n",
      "[1422 rows x 7 columns]\n"
     ]
    },
    {
     "name": "stderr",
     "output_type": "stream",
     "text": [
      "100%|██████████| 5/5 [16:24<00:00, 196.89s/it, N=5, linreg=0.994, pcr=0.965, pls=0.971, rho=0.99]\n"
     ]
    },
    {
     "name": "stdout",
     "output_type": "stream",
     "text": [
      "   train_sample_size    N n_components   rho   model        R2            MSE\n",
      "0               5000  500            5  0.01  linreg  0.999996       1.120479\n",
      "1               5000  500            5  0.01     pcr  0.008567  278123.542607\n",
      "2               5000  500            5  0.01     pls  0.999916      23.445148\n",
      "0               5000  500           50  0.01  linreg  0.999996       1.120479\n",
      "1               5000  500           50  0.01     pcr  0.127465  244769.316087\n",
      "..               ...  ...          ...   ...     ...       ...            ...\n",
      "1                 25    5            2  0.99     pcr  0.889062      32.516059\n",
      "2                 25    5            2  0.99     pls  0.989174       3.173164\n",
      "0                 15    5            1  0.99  linreg  0.993213       1.989213\n",
      "1                 15    5            1  0.99     pcr  0.887848      32.873156\n",
      "2                 15    5            1  0.99     pls  0.887754      32.900725\n",
      "\n",
      "[1425 rows x 7 columns]\n",
      "   train_sample_size    N n_components   rho   model        R2            MSE\n",
      "0               5000  500            5  0.01  linreg  0.999996       1.120479\n",
      "1               5000  500            5  0.01     pcr  0.008567  278123.542607\n",
      "2               5000  500            5  0.01     pls  0.999916      23.445148\n",
      "0               5000  500           50  0.01  linreg  0.999996       1.120479\n",
      "1               5000  500           50  0.01     pcr  0.127465  244769.316087\n",
      "..               ...  ...          ...   ...     ...       ...            ...\n",
      "1                 15    5            1  0.99     pcr  0.887848      32.873156\n",
      "2                 15    5            1  0.99     pls  0.887754      32.900725\n",
      "0                 15    5            2  0.99  linreg  0.993213       1.989213\n",
      "1                 15    5            2  0.99     pcr  0.973020       7.908297\n",
      "2                 15    5            2  0.99     pls  0.983258       4.907135\n",
      "\n",
      "[1428 rows x 7 columns]\n",
      "   train_sample_size    N n_components   rho   model        R2            MSE\n",
      "0               5000  500            5  0.01  linreg  0.999996       1.120479\n",
      "1               5000  500            5  0.01     pcr  0.008567  278123.542607\n",
      "2               5000  500            5  0.01     pls  0.999916      23.445148\n",
      "0               5000  500           50  0.01  linreg  0.999996       1.120479\n",
      "1               5000  500           50  0.01     pcr  0.127465  244769.316087\n",
      "..               ...  ...          ...   ...     ...       ...            ...\n",
      "1                 15    5            2  0.99     pcr  0.973020       7.908297\n",
      "2                 15    5            2  0.99     pls  0.983258       4.907135\n",
      "0                 10    5            1  0.99  linreg  0.990169       2.881559\n",
      "1                 10    5            1  0.99     pcr  0.890649      32.052292\n",
      "2                 10    5            1  0.99     pls  0.890906      31.976934\n",
      "\n",
      "[1431 rows x 7 columns]\n",
      "   train_sample_size    N n_components   rho   model        R2            MSE\n",
      "0               5000  500            5  0.01  linreg  0.999996       1.120479\n",
      "1               5000  500            5  0.01     pcr  0.008567  278123.542607\n",
      "2               5000  500            5  0.01     pls  0.999916      23.445148\n",
      "0               5000  500           50  0.01  linreg  0.999996       1.120479\n",
      "1               5000  500           50  0.01     pcr  0.127465  244769.316087\n",
      "..               ...  ...          ...   ...     ...       ...            ...\n",
      "1                 10    5            1  0.99     pcr  0.890649      32.052292\n",
      "2                 10    5            1  0.99     pls  0.890906      31.976934\n",
      "0                 10    5            2  0.99  linreg  0.990169       2.881559\n",
      "1                 10    5            2  0.99     pcr  0.934509      19.196483\n",
      "2                 10    5            2  0.99     pls  0.972062       8.189045\n",
      "\n",
      "[1434 rows x 7 columns]\n",
      "   train_sample_size    N n_components   rho   model        R2            MSE\n",
      "0               5000  500            5  0.01  linreg  0.999996       1.120479\n",
      "1               5000  500            5  0.01     pcr  0.008567  278123.542607\n",
      "2               5000  500            5  0.01     pls  0.999916      23.445148\n",
      "0               5000  500           50  0.01  linreg  0.999996       1.120479\n",
      "1               5000  500           50  0.01     pcr  0.127465  244769.316087\n",
      "..               ...  ...          ...   ...     ...       ...            ...\n",
      "1                 10    5            2  0.99     pcr  0.934509      19.196483\n",
      "2                 10    5            2  0.99     pls  0.972062       8.189045\n",
      "0                  5    5            1  0.99  linreg  0.994473       1.620038\n",
      "1                  5    5            1  0.99     pcr  0.898885      29.638827\n",
      "2                  5    5            1  0.99     pls  0.898579      29.728746\n",
      "\n",
      "[1437 rows x 7 columns]\n"
     ]
    }
   ],
   "source": [
    "SAMPLE_SIZE = 100_000\n",
    "index_columns = ['train_sample_size', 'N', 'n_components', 'rho']\n",
    "columns = ['model', 'R2', 'MSE']\n",
    "df = pd.DataFrame(None, columns=index_columns+columns)\n",
    "\n",
    "Ns = [500, 100, 50, 10, 5]\n",
    "loader = tqdm(Ns)\n",
    "\n",
    "N_train_sample_size_ratios = [10, 5, 3, 2, 1]\n",
    "n_components_N_ratios = [0.01, 0.1, 0.25, 0.5]\n",
    "rhos = [0.01, 0.1, 0.2, 0.5, 0.9, 0.99]\n",
    "\n",
    "for N in loader:\n",
    "    for rho in rhos:\n",
    "        \n",
    "        beta = rng.normal(loc=0, scale=25, size=N)\n",
    "        X, y = get_sample(beta=beta, rho=rho, sample_size=SAMPLE_SIZE)\n",
    "\n",
    "        for train_sample_size in [N*x for x in N_train_sample_size_ratios]:\n",
    "\n",
    "            X_train, X_test, y_train, y_test = train_test_split(X, y, random_state=random_state, train_size=train_sample_size)\n",
    "\n",
    "            for n_components in [int(N*x) for x in n_components_N_ratios]:\n",
    "\n",
    "                if n_components == 0:\n",
    "                    continue\n",
    "\n",
    "                score_dict = train_and_evaluate_all_models(X_train=X_train, X_test=X_test, y_train=y_train, y_test=y_test, n_components=n_components)\n",
    "                score_df = pd.DataFrame(score_dict)\n",
    "                score_df.index.name = 'model'\n",
    "                score_df = score_df.reset_index()\n",
    "                for col_name, value in zip(index_columns, [train_sample_size, N, n_components, rho]):\n",
    "                    score_df[col_name] = value\n",
    "                print(df)\n",
    "                df = pd.concat([df, score_df])\n",
    "                loader.set_postfix(**score_dict['R2'] | {'rho': rho, 'N': N})\n",
    "        \n",
    "        score_df.to_csv('scores2.csv', index=False)\n",
    "\n",
    "df.to_csv('scores2.csv', index=False)"
   ]
  },
  {
   "cell_type": "code",
   "execution_count": null,
   "metadata": {},
   "outputs": [],
   "source": []
  }
 ],
 "metadata": {
  "kernelspec": {
   "display_name": "venv",
   "language": "python",
   "name": "python3"
  },
  "language_info": {
   "codemirror_mode": {
    "name": "ipython",
    "version": 3
   },
   "file_extension": ".py",
   "mimetype": "text/x-python",
   "name": "python",
   "nbconvert_exporter": "python",
   "pygments_lexer": "ipython3",
   "version": "3.10.4"
  },
  "orig_nbformat": 4,
  "vscode": {
   "interpreter": {
    "hash": "1aa0b08baf84a59db0468fc0305201b2935aa2c34c459b1c28b215e727584339"
   }
  }
 },
 "nbformat": 4,
 "nbformat_minor": 2
}
